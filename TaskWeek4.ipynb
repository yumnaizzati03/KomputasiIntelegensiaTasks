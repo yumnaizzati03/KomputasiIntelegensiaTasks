{
  "cells": [
    {
      "cell_type": "markdown",
      "metadata": {
        "id": "view-in-github",
        "colab_type": "text"
      },
      "source": [
        "<a href=\"https://colab.research.google.com/github/yumnaizzati03/KomputasiIntelegensiaTasks/blob/main/TaskWeek4.ipynb\" target=\"_parent\"><img src=\"https://colab.research.google.com/assets/colab-badge.svg\" alt=\"Open In Colab\"/></a>"
      ]
    },
    {
      "cell_type": "markdown",
      "metadata": {
        "id": "8mOFjomKyGpR"
      },
      "source": [
        "## **Task Week 4**\n",
        "\n",
        "## **Komputasi Intelegensia**\n",
        "\n",
        "Nama: Yumna Izzati\n",
        "\n",
        "NPM: 2106633191"
      ]
    },
    {
      "cell_type": "code",
      "execution_count": null,
      "metadata": {
        "id": "A67rO3pyx54L",
        "colab": {
          "base_uri": "https://localhost:8080/"
        },
        "outputId": "b83674da-61af-4ea0-9aac-862e55258d34"
      },
      "outputs": [
        {
          "output_type": "stream",
          "name": "stdout",
          "text": [
            "Requirement already satisfied: d2l in /usr/local/lib/python3.10/dist-packages (1.0.3)\n",
            "Requirement already satisfied: jupyter==1.0.0 in /usr/local/lib/python3.10/dist-packages (from d2l) (1.0.0)\n",
            "Requirement already satisfied: numpy==1.23.5 in /usr/local/lib/python3.10/dist-packages (from d2l) (1.23.5)\n",
            "Requirement already satisfied: matplotlib==3.7.2 in /usr/local/lib/python3.10/dist-packages (from d2l) (3.7.2)\n",
            "Requirement already satisfied: matplotlib-inline==0.1.6 in /usr/local/lib/python3.10/dist-packages (from d2l) (0.1.6)\n",
            "Requirement already satisfied: requests==2.31.0 in /usr/local/lib/python3.10/dist-packages (from d2l) (2.31.0)\n",
            "Requirement already satisfied: pandas==2.0.3 in /usr/local/lib/python3.10/dist-packages (from d2l) (2.0.3)\n",
            "Requirement already satisfied: scipy==1.10.1 in /usr/local/lib/python3.10/dist-packages (from d2l) (1.10.1)\n",
            "Requirement already satisfied: notebook in /usr/local/lib/python3.10/dist-packages (from jupyter==1.0.0->d2l) (6.5.5)\n",
            "Requirement already satisfied: qtconsole in /usr/local/lib/python3.10/dist-packages (from jupyter==1.0.0->d2l) (5.6.0)\n",
            "Requirement already satisfied: jupyter-console in /usr/local/lib/python3.10/dist-packages (from jupyter==1.0.0->d2l) (6.1.0)\n",
            "Requirement already satisfied: nbconvert in /usr/local/lib/python3.10/dist-packages (from jupyter==1.0.0->d2l) (6.5.4)\n",
            "Requirement already satisfied: ipykernel in /usr/local/lib/python3.10/dist-packages (from jupyter==1.0.0->d2l) (5.5.6)\n",
            "Requirement already satisfied: ipywidgets in /usr/local/lib/python3.10/dist-packages (from jupyter==1.0.0->d2l) (7.7.1)\n",
            "Requirement already satisfied: contourpy>=1.0.1 in /usr/local/lib/python3.10/dist-packages (from matplotlib==3.7.2->d2l) (1.3.0)\n",
            "Requirement already satisfied: cycler>=0.10 in /usr/local/lib/python3.10/dist-packages (from matplotlib==3.7.2->d2l) (0.12.1)\n",
            "Requirement already satisfied: fonttools>=4.22.0 in /usr/local/lib/python3.10/dist-packages (from matplotlib==3.7.2->d2l) (4.53.1)\n",
            "Requirement already satisfied: kiwisolver>=1.0.1 in /usr/local/lib/python3.10/dist-packages (from matplotlib==3.7.2->d2l) (1.4.7)\n",
            "Requirement already satisfied: packaging>=20.0 in /usr/local/lib/python3.10/dist-packages (from matplotlib==3.7.2->d2l) (24.1)\n",
            "Requirement already satisfied: pillow>=6.2.0 in /usr/local/lib/python3.10/dist-packages (from matplotlib==3.7.2->d2l) (10.4.0)\n",
            "Requirement already satisfied: pyparsing<3.1,>=2.3.1 in /usr/local/lib/python3.10/dist-packages (from matplotlib==3.7.2->d2l) (3.0.9)\n",
            "Requirement already satisfied: python-dateutil>=2.7 in /usr/local/lib/python3.10/dist-packages (from matplotlib==3.7.2->d2l) (2.8.2)\n",
            "Requirement already satisfied: traitlets in /usr/local/lib/python3.10/dist-packages (from matplotlib-inline==0.1.6->d2l) (5.7.1)\n",
            "Requirement already satisfied: pytz>=2020.1 in /usr/local/lib/python3.10/dist-packages (from pandas==2.0.3->d2l) (2024.2)\n",
            "Requirement already satisfied: tzdata>=2022.1 in /usr/local/lib/python3.10/dist-packages (from pandas==2.0.3->d2l) (2024.1)\n",
            "Requirement already satisfied: charset-normalizer<4,>=2 in /usr/local/lib/python3.10/dist-packages (from requests==2.31.0->d2l) (3.3.2)\n",
            "Requirement already satisfied: idna<4,>=2.5 in /usr/local/lib/python3.10/dist-packages (from requests==2.31.0->d2l) (3.10)\n",
            "Requirement already satisfied: urllib3<3,>=1.21.1 in /usr/local/lib/python3.10/dist-packages (from requests==2.31.0->d2l) (2.2.3)\n",
            "Requirement already satisfied: certifi>=2017.4.17 in /usr/local/lib/python3.10/dist-packages (from requests==2.31.0->d2l) (2024.8.30)\n",
            "Requirement already satisfied: six>=1.5 in /usr/local/lib/python3.10/dist-packages (from python-dateutil>=2.7->matplotlib==3.7.2->d2l) (1.16.0)\n",
            "Requirement already satisfied: ipython-genutils in /usr/local/lib/python3.10/dist-packages (from ipykernel->jupyter==1.0.0->d2l) (0.2.0)\n",
            "Requirement already satisfied: ipython>=5.0.0 in /usr/local/lib/python3.10/dist-packages (from ipykernel->jupyter==1.0.0->d2l) (7.34.0)\n",
            "Requirement already satisfied: jupyter-client in /usr/local/lib/python3.10/dist-packages (from ipykernel->jupyter==1.0.0->d2l) (6.1.12)\n",
            "Requirement already satisfied: tornado>=4.2 in /usr/local/lib/python3.10/dist-packages (from ipykernel->jupyter==1.0.0->d2l) (6.3.3)\n",
            "Requirement already satisfied: widgetsnbextension~=3.6.0 in /usr/local/lib/python3.10/dist-packages (from ipywidgets->jupyter==1.0.0->d2l) (3.6.9)\n",
            "Requirement already satisfied: jupyterlab-widgets>=1.0.0 in /usr/local/lib/python3.10/dist-packages (from ipywidgets->jupyter==1.0.0->d2l) (3.0.13)\n",
            "Requirement already satisfied: prompt-toolkit!=3.0.0,!=3.0.1,<3.1.0,>=2.0.0 in /usr/local/lib/python3.10/dist-packages (from jupyter-console->jupyter==1.0.0->d2l) (3.0.47)\n",
            "Requirement already satisfied: pygments in /usr/local/lib/python3.10/dist-packages (from jupyter-console->jupyter==1.0.0->d2l) (2.18.0)\n",
            "Requirement already satisfied: lxml in /usr/local/lib/python3.10/dist-packages (from nbconvert->jupyter==1.0.0->d2l) (4.9.4)\n",
            "Requirement already satisfied: beautifulsoup4 in /usr/local/lib/python3.10/dist-packages (from nbconvert->jupyter==1.0.0->d2l) (4.12.3)\n",
            "Requirement already satisfied: bleach in /usr/local/lib/python3.10/dist-packages (from nbconvert->jupyter==1.0.0->d2l) (6.1.0)\n",
            "Requirement already satisfied: defusedxml in /usr/local/lib/python3.10/dist-packages (from nbconvert->jupyter==1.0.0->d2l) (0.7.1)\n",
            "Requirement already satisfied: entrypoints>=0.2.2 in /usr/local/lib/python3.10/dist-packages (from nbconvert->jupyter==1.0.0->d2l) (0.4)\n",
            "Requirement already satisfied: jinja2>=3.0 in /usr/local/lib/python3.10/dist-packages (from nbconvert->jupyter==1.0.0->d2l) (3.1.4)\n",
            "Requirement already satisfied: jupyter-core>=4.7 in /usr/local/lib/python3.10/dist-packages (from nbconvert->jupyter==1.0.0->d2l) (5.7.2)\n",
            "Requirement already satisfied: jupyterlab-pygments in /usr/local/lib/python3.10/dist-packages (from nbconvert->jupyter==1.0.0->d2l) (0.3.0)\n",
            "Requirement already satisfied: MarkupSafe>=2.0 in /usr/local/lib/python3.10/dist-packages (from nbconvert->jupyter==1.0.0->d2l) (2.1.5)\n",
            "Requirement already satisfied: mistune<2,>=0.8.1 in /usr/local/lib/python3.10/dist-packages (from nbconvert->jupyter==1.0.0->d2l) (0.8.4)\n",
            "Requirement already satisfied: nbclient>=0.5.0 in /usr/local/lib/python3.10/dist-packages (from nbconvert->jupyter==1.0.0->d2l) (0.10.0)\n",
            "Requirement already satisfied: nbformat>=5.1 in /usr/local/lib/python3.10/dist-packages (from nbconvert->jupyter==1.0.0->d2l) (5.10.4)\n",
            "Requirement already satisfied: pandocfilters>=1.4.1 in /usr/local/lib/python3.10/dist-packages (from nbconvert->jupyter==1.0.0->d2l) (1.5.1)\n",
            "Requirement already satisfied: tinycss2 in /usr/local/lib/python3.10/dist-packages (from nbconvert->jupyter==1.0.0->d2l) (1.3.0)\n",
            "Requirement already satisfied: pyzmq<25,>=17 in /usr/local/lib/python3.10/dist-packages (from notebook->jupyter==1.0.0->d2l) (24.0.1)\n",
            "Requirement already satisfied: argon2-cffi in /usr/local/lib/python3.10/dist-packages (from notebook->jupyter==1.0.0->d2l) (23.1.0)\n",
            "Requirement already satisfied: nest-asyncio>=1.5 in /usr/local/lib/python3.10/dist-packages (from notebook->jupyter==1.0.0->d2l) (1.6.0)\n",
            "Requirement already satisfied: Send2Trash>=1.8.0 in /usr/local/lib/python3.10/dist-packages (from notebook->jupyter==1.0.0->d2l) (1.8.3)\n",
            "Requirement already satisfied: terminado>=0.8.3 in /usr/local/lib/python3.10/dist-packages (from notebook->jupyter==1.0.0->d2l) (0.18.1)\n",
            "Requirement already satisfied: prometheus-client in /usr/local/lib/python3.10/dist-packages (from notebook->jupyter==1.0.0->d2l) (0.21.0)\n",
            "Requirement already satisfied: nbclassic>=0.4.7 in /usr/local/lib/python3.10/dist-packages (from notebook->jupyter==1.0.0->d2l) (1.1.0)\n",
            "Requirement already satisfied: qtpy>=2.4.0 in /usr/local/lib/python3.10/dist-packages (from qtconsole->jupyter==1.0.0->d2l) (2.4.1)\n",
            "Requirement already satisfied: setuptools>=18.5 in /usr/local/lib/python3.10/dist-packages (from ipython>=5.0.0->ipykernel->jupyter==1.0.0->d2l) (71.0.4)\n",
            "Requirement already satisfied: jedi>=0.16 in /usr/local/lib/python3.10/dist-packages (from ipython>=5.0.0->ipykernel->jupyter==1.0.0->d2l) (0.19.1)\n",
            "Requirement already satisfied: decorator in /usr/local/lib/python3.10/dist-packages (from ipython>=5.0.0->ipykernel->jupyter==1.0.0->d2l) (4.4.2)\n",
            "Requirement already satisfied: pickleshare in /usr/local/lib/python3.10/dist-packages (from ipython>=5.0.0->ipykernel->jupyter==1.0.0->d2l) (0.7.5)\n",
            "Requirement already satisfied: backcall in /usr/local/lib/python3.10/dist-packages (from ipython>=5.0.0->ipykernel->jupyter==1.0.0->d2l) (0.2.0)\n",
            "Requirement already satisfied: pexpect>4.3 in /usr/local/lib/python3.10/dist-packages (from ipython>=5.0.0->ipykernel->jupyter==1.0.0->d2l) (4.9.0)\n",
            "Requirement already satisfied: platformdirs>=2.5 in /usr/local/lib/python3.10/dist-packages (from jupyter-core>=4.7->nbconvert->jupyter==1.0.0->d2l) (4.3.6)\n",
            "Requirement already satisfied: notebook-shim>=0.2.3 in /usr/local/lib/python3.10/dist-packages (from nbclassic>=0.4.7->notebook->jupyter==1.0.0->d2l) (0.2.4)\n",
            "Requirement already satisfied: fastjsonschema>=2.15 in /usr/local/lib/python3.10/dist-packages (from nbformat>=5.1->nbconvert->jupyter==1.0.0->d2l) (2.20.0)\n",
            "Requirement already satisfied: jsonschema>=2.6 in /usr/local/lib/python3.10/dist-packages (from nbformat>=5.1->nbconvert->jupyter==1.0.0->d2l) (4.23.0)\n",
            "Requirement already satisfied: wcwidth in /usr/local/lib/python3.10/dist-packages (from prompt-toolkit!=3.0.0,!=3.0.1,<3.1.0,>=2.0.0->jupyter-console->jupyter==1.0.0->d2l) (0.2.13)\n",
            "Requirement already satisfied: ptyprocess in /usr/local/lib/python3.10/dist-packages (from terminado>=0.8.3->notebook->jupyter==1.0.0->d2l) (0.7.0)\n",
            "Requirement already satisfied: argon2-cffi-bindings in /usr/local/lib/python3.10/dist-packages (from argon2-cffi->notebook->jupyter==1.0.0->d2l) (21.2.0)\n",
            "Requirement already satisfied: soupsieve>1.2 in /usr/local/lib/python3.10/dist-packages (from beautifulsoup4->nbconvert->jupyter==1.0.0->d2l) (2.6)\n",
            "Requirement already satisfied: webencodings in /usr/local/lib/python3.10/dist-packages (from bleach->nbconvert->jupyter==1.0.0->d2l) (0.5.1)\n",
            "Requirement already satisfied: parso<0.9.0,>=0.8.3 in /usr/local/lib/python3.10/dist-packages (from jedi>=0.16->ipython>=5.0.0->ipykernel->jupyter==1.0.0->d2l) (0.8.4)\n",
            "Requirement already satisfied: attrs>=22.2.0 in /usr/local/lib/python3.10/dist-packages (from jsonschema>=2.6->nbformat>=5.1->nbconvert->jupyter==1.0.0->d2l) (24.2.0)\n",
            "Requirement already satisfied: jsonschema-specifications>=2023.03.6 in /usr/local/lib/python3.10/dist-packages (from jsonschema>=2.6->nbformat>=5.1->nbconvert->jupyter==1.0.0->d2l) (2023.12.1)\n",
            "Requirement already satisfied: referencing>=0.28.4 in /usr/local/lib/python3.10/dist-packages (from jsonschema>=2.6->nbformat>=5.1->nbconvert->jupyter==1.0.0->d2l) (0.35.1)\n",
            "Requirement already satisfied: rpds-py>=0.7.1 in /usr/local/lib/python3.10/dist-packages (from jsonschema>=2.6->nbformat>=5.1->nbconvert->jupyter==1.0.0->d2l) (0.20.0)\n",
            "Requirement already satisfied: jupyter-server<3,>=1.8 in /usr/local/lib/python3.10/dist-packages (from notebook-shim>=0.2.3->nbclassic>=0.4.7->notebook->jupyter==1.0.0->d2l) (1.24.0)\n",
            "Requirement already satisfied: cffi>=1.0.1 in /usr/local/lib/python3.10/dist-packages (from argon2-cffi-bindings->argon2-cffi->notebook->jupyter==1.0.0->d2l) (1.17.1)\n",
            "Requirement already satisfied: pycparser in /usr/local/lib/python3.10/dist-packages (from cffi>=1.0.1->argon2-cffi-bindings->argon2-cffi->notebook->jupyter==1.0.0->d2l) (2.22)\n",
            "Requirement already satisfied: anyio<4,>=3.1.0 in /usr/local/lib/python3.10/dist-packages (from jupyter-server<3,>=1.8->notebook-shim>=0.2.3->nbclassic>=0.4.7->notebook->jupyter==1.0.0->d2l) (3.7.1)\n",
            "Requirement already satisfied: websocket-client in /usr/local/lib/python3.10/dist-packages (from jupyter-server<3,>=1.8->notebook-shim>=0.2.3->nbclassic>=0.4.7->notebook->jupyter==1.0.0->d2l) (1.8.0)\n",
            "Requirement already satisfied: sniffio>=1.1 in /usr/local/lib/python3.10/dist-packages (from anyio<4,>=3.1.0->jupyter-server<3,>=1.8->notebook-shim>=0.2.3->nbclassic>=0.4.7->notebook->jupyter==1.0.0->d2l) (1.3.1)\n",
            "Requirement already satisfied: exceptiongroup in /usr/local/lib/python3.10/dist-packages (from anyio<4,>=3.1.0->jupyter-server<3,>=1.8->notebook-shim>=0.2.3->nbclassic>=0.4.7->notebook->jupyter==1.0.0->d2l) (1.2.2)\n"
          ]
        }
      ],
      "source": [
        "!pip install d2l"
      ]
    },
    {
      "cell_type": "markdown",
      "metadata": {
        "id": "pqg9sfdvy0In"
      },
      "source": [
        "# **Chapter 8: Modern Convolutional Neural Networks**"
      ]
    },
    {
      "cell_type": "markdown",
      "metadata": {
        "id": "bfnea3w5zIad"
      },
      "source": [
        "### **8.1 Deep Convolutional Neural Networks (AlexNet)**"
      ]
    },
    {
      "cell_type": "code",
      "execution_count": null,
      "metadata": {
        "id": "0LkkXkOTyhZV"
      },
      "outputs": [],
      "source": [
        "import torch\n",
        "from torch import nn\n",
        "from d2l import torch as d2l\n",
        "from torchsummary import summary"
      ]
    },
    {
      "cell_type": "code",
      "execution_count": null,
      "metadata": {
        "id": "f_Y_9AdmzP-9"
      },
      "outputs": [],
      "source": [
        "class AlexNet(d2l.Classifier):\n",
        "    def __init__(self, lr=0.1, num_classes=10):\n",
        "        super().__init__()\n",
        "        self.save_hyperparameters()\n",
        "        self.net = nn.Sequential(\n",
        "            nn.LazyConv2d(96, kernel_size=11, stride=4, padding=1),\n",
        "            nn.ReLU(), nn.MaxPool2d(kernel_size=3, stride=2),\n",
        "            nn.LazyConv2d(256, kernel_size=5, padding=2), nn.ReLU(),\n",
        "            nn.MaxPool2d(kernel_size=3, stride=2),\n",
        "            nn.LazyConv2d(384, kernel_size=3, padding=1), nn.ReLU(),\n",
        "            nn.LazyConv2d(384, kernel_size=3, padding=1), nn.ReLU(),\n",
        "            nn.LazyConv2d(256, kernel_size=3, padding=1), nn.ReLU(),\n",
        "            nn.MaxPool2d(kernel_size=3, stride=2), nn.Flatten(),\n",
        "            nn.LazyLinear(4096), nn.ReLU(), nn.Dropout(p=0.5),\n",
        "            nn.LazyLinear(4096), nn.ReLU(),nn.Dropout(p=0.5),\n",
        "            nn.LazyLinear(num_classes))\n",
        "        self.net.apply(d2l.init_cnn)"
      ]
    },
    {
      "cell_type": "code",
      "execution_count": null,
      "metadata": {
        "colab": {
          "base_uri": "https://localhost:8080/"
        },
        "id": "vpFDg5dCzaFM",
        "outputId": "7fa1c6cf-4374-4532-f911-f38045df199e"
      },
      "outputs": [
        {
          "name": "stdout",
          "output_type": "stream",
          "text": [
            "Conv2d output shape:\t torch.Size([1, 96, 54, 54])\n",
            "ReLU output shape:\t torch.Size([1, 96, 54, 54])\n",
            "MaxPool2d output shape:\t torch.Size([1, 96, 26, 26])\n",
            "Conv2d output shape:\t torch.Size([1, 256, 26, 26])\n",
            "ReLU output shape:\t torch.Size([1, 256, 26, 26])\n",
            "MaxPool2d output shape:\t torch.Size([1, 256, 12, 12])\n",
            "Conv2d output shape:\t torch.Size([1, 384, 12, 12])\n",
            "ReLU output shape:\t torch.Size([1, 384, 12, 12])\n",
            "Conv2d output shape:\t torch.Size([1, 384, 12, 12])\n",
            "ReLU output shape:\t torch.Size([1, 384, 12, 12])\n",
            "Conv2d output shape:\t torch.Size([1, 256, 12, 12])\n",
            "ReLU output shape:\t torch.Size([1, 256, 12, 12])\n",
            "MaxPool2d output shape:\t torch.Size([1, 256, 5, 5])\n",
            "Flatten output shape:\t torch.Size([1, 6400])\n",
            "Linear output shape:\t torch.Size([1, 4096])\n",
            "ReLU output shape:\t torch.Size([1, 4096])\n",
            "Dropout output shape:\t torch.Size([1, 4096])\n",
            "Linear output shape:\t torch.Size([1, 4096])\n",
            "ReLU output shape:\t torch.Size([1, 4096])\n",
            "Dropout output shape:\t torch.Size([1, 4096])\n",
            "Linear output shape:\t torch.Size([1, 10])\n"
          ]
        }
      ],
      "source": [
        "AlexNet().layer_summary((1, 1, 224, 224))"
      ]
    },
    {
      "cell_type": "code",
      "execution_count": null,
      "metadata": {
        "colab": {
          "background_save": true,
          "base_uri": "https://localhost:8080/",
          "height": 265
        },
        "id": "1-DkOXvHzad8",
        "outputId": "119fc4df-50de-453c-9e1c-72dc0867a6b1"
      },
      "outputs": [
        {
          "data": {
            "image/svg+xml": "<?xml version=\"1.0\" encoding=\"utf-8\" standalone=\"no\"?>\n<!DOCTYPE svg PUBLIC \"-//W3C//DTD SVG 1.1//EN\"\n  \"http://www.w3.org/Graphics/SVG/1.1/DTD/svg11.dtd\">\n<svg xmlns:xlink=\"http://www.w3.org/1999/xlink\" width=\"238.965625pt\" height=\"183.35625pt\" viewBox=\"0 0 238.965625 183.35625\" xmlns=\"http://www.w3.org/2000/svg\" version=\"1.1\">\n <metadata>\n  <rdf:RDF xmlns:dc=\"http://purl.org/dc/elements/1.1/\" xmlns:cc=\"http://creativecommons.org/ns#\" xmlns:rdf=\"http://www.w3.org/1999/02/22-rdf-syntax-ns#\">\n   <cc:Work>\n    <dc:type rdf:resource=\"http://purl.org/dc/dcmitype/StillImage\"/>\n    <dc:date>2024-09-24T18:34:24.369359</dc:date>\n    <dc:format>image/svg+xml</dc:format>\n    <dc:creator>\n     <cc:Agent>\n      <dc:title>Matplotlib v3.7.2, https://matplotlib.org/</dc:title>\n     </cc:Agent>\n    </dc:creator>\n   </cc:Work>\n  </rdf:RDF>\n </metadata>\n <defs>\n  <style type=\"text/css\">*{stroke-linejoin: round; stroke-linecap: butt}</style>\n </defs>\n <g id=\"figure_1\">\n  <g id=\"patch_1\">\n   <path d=\"M 0 183.35625 \nL 238.965625 183.35625 \nL 238.965625 0 \nL 0 0 \nz\n\" style=\"fill: #ffffff\"/>\n  </g>\n  <g id=\"axes_1\">\n   <g id=\"patch_2\">\n    <path d=\"M 30.103125 145.8 \nL 225.403125 145.8 \nL 225.403125 7.2 \nL 30.103125 7.2 \nz\n\" style=\"fill: #ffffff\"/>\n   </g>\n   <g id=\"matplotlib.axis_1\">\n    <g id=\"xtick_1\">\n     <g id=\"line2d_1\">\n      <defs>\n       <path id=\"m06467a1127\" d=\"M 0 0 \nL 0 3.5 \n\" style=\"stroke: #000000; stroke-width: 0.8\"/>\n      </defs>\n      <g>\n       <use xlink:href=\"#m06467a1127\" x=\"30.103125\" y=\"145.8\" style=\"stroke: #000000; stroke-width: 0.8\"/>\n      </g>\n     </g>\n     <g id=\"text_1\">\n      <!-- 0 -->\n      <g transform=\"translate(26.921875 160.398438) scale(0.1 -0.1)\">\n       <defs>\n        <path id=\"DejaVuSans-30\" d=\"M 2034 4250 \nQ 1547 4250 1301 3770 \nQ 1056 3291 1056 2328 \nQ 1056 1369 1301 889 \nQ 1547 409 2034 409 \nQ 2525 409 2770 889 \nQ 3016 1369 3016 2328 \nQ 3016 3291 2770 3770 \nQ 2525 4250 2034 4250 \nz\nM 2034 4750 \nQ 2819 4750 3233 4129 \nQ 3647 3509 3647 2328 \nQ 3647 1150 3233 529 \nQ 2819 -91 2034 -91 \nQ 1250 -91 836 529 \nQ 422 1150 422 2328 \nQ 422 3509 836 4129 \nQ 1250 4750 2034 4750 \nz\n\" transform=\"scale(0.015625)\"/>\n       </defs>\n       <use xlink:href=\"#DejaVuSans-30\"/>\n      </g>\n     </g>\n    </g>\n    <g id=\"xtick_2\">\n     <g id=\"line2d_2\">\n      <g>\n       <use xlink:href=\"#m06467a1127\" x=\"69.163125\" y=\"145.8\" style=\"stroke: #000000; stroke-width: 0.8\"/>\n      </g>\n     </g>\n     <g id=\"text_2\">\n      <!-- 2 -->\n      <g transform=\"translate(65.981875 160.398438) scale(0.1 -0.1)\">\n       <defs>\n        <path id=\"DejaVuSans-32\" d=\"M 1228 531 \nL 3431 531 \nL 3431 0 \nL 469 0 \nL 469 531 \nQ 828 903 1448 1529 \nQ 2069 2156 2228 2338 \nQ 2531 2678 2651 2914 \nQ 2772 3150 2772 3378 \nQ 2772 3750 2511 3984 \nQ 2250 4219 1831 4219 \nQ 1534 4219 1204 4116 \nQ 875 4013 500 3803 \nL 500 4441 \nQ 881 4594 1212 4672 \nQ 1544 4750 1819 4750 \nQ 2544 4750 2975 4387 \nQ 3406 4025 3406 3419 \nQ 3406 3131 3298 2873 \nQ 3191 2616 2906 2266 \nQ 2828 2175 2409 1742 \nQ 1991 1309 1228 531 \nz\n\" transform=\"scale(0.015625)\"/>\n       </defs>\n       <use xlink:href=\"#DejaVuSans-32\"/>\n      </g>\n     </g>\n    </g>\n    <g id=\"xtick_3\">\n     <g id=\"line2d_3\">\n      <g>\n       <use xlink:href=\"#m06467a1127\" x=\"108.223125\" y=\"145.8\" style=\"stroke: #000000; stroke-width: 0.8\"/>\n      </g>\n     </g>\n     <g id=\"text_3\">\n      <!-- 4 -->\n      <g transform=\"translate(105.041875 160.398438) scale(0.1 -0.1)\">\n       <defs>\n        <path id=\"DejaVuSans-34\" d=\"M 2419 4116 \nL 825 1625 \nL 2419 1625 \nL 2419 4116 \nz\nM 2253 4666 \nL 3047 4666 \nL 3047 1625 \nL 3713 1625 \nL 3713 1100 \nL 3047 1100 \nL 3047 0 \nL 2419 0 \nL 2419 1100 \nL 313 1100 \nL 313 1709 \nL 2253 4666 \nz\n\" transform=\"scale(0.015625)\"/>\n       </defs>\n       <use xlink:href=\"#DejaVuSans-34\"/>\n      </g>\n     </g>\n    </g>\n    <g id=\"xtick_4\">\n     <g id=\"line2d_4\">\n      <g>\n       <use xlink:href=\"#m06467a1127\" x=\"147.283125\" y=\"145.8\" style=\"stroke: #000000; stroke-width: 0.8\"/>\n      </g>\n     </g>\n     <g id=\"text_4\">\n      <!-- 6 -->\n      <g transform=\"translate(144.101875 160.398438) scale(0.1 -0.1)\">\n       <defs>\n        <path id=\"DejaVuSans-36\" d=\"M 2113 2584 \nQ 1688 2584 1439 2293 \nQ 1191 2003 1191 1497 \nQ 1191 994 1439 701 \nQ 1688 409 2113 409 \nQ 2538 409 2786 701 \nQ 3034 994 3034 1497 \nQ 3034 2003 2786 2293 \nQ 2538 2584 2113 2584 \nz\nM 3366 4563 \nL 3366 3988 \nQ 3128 4100 2886 4159 \nQ 2644 4219 2406 4219 \nQ 1781 4219 1451 3797 \nQ 1122 3375 1075 2522 \nQ 1259 2794 1537 2939 \nQ 1816 3084 2150 3084 \nQ 2853 3084 3261 2657 \nQ 3669 2231 3669 1497 \nQ 3669 778 3244 343 \nQ 2819 -91 2113 -91 \nQ 1303 -91 875 529 \nQ 447 1150 447 2328 \nQ 447 3434 972 4092 \nQ 1497 4750 2381 4750 \nQ 2619 4750 2861 4703 \nQ 3103 4656 3366 4563 \nz\n\" transform=\"scale(0.015625)\"/>\n       </defs>\n       <use xlink:href=\"#DejaVuSans-36\"/>\n      </g>\n     </g>\n    </g>\n    <g id=\"xtick_5\">\n     <g id=\"line2d_5\">\n      <g>\n       <use xlink:href=\"#m06467a1127\" x=\"186.343125\" y=\"145.8\" style=\"stroke: #000000; stroke-width: 0.8\"/>\n      </g>\n     </g>\n     <g id=\"text_5\">\n      <!-- 8 -->\n      <g transform=\"translate(183.161875 160.398438) scale(0.1 -0.1)\">\n       <defs>\n        <path id=\"DejaVuSans-38\" d=\"M 2034 2216 \nQ 1584 2216 1326 1975 \nQ 1069 1734 1069 1313 \nQ 1069 891 1326 650 \nQ 1584 409 2034 409 \nQ 2484 409 2743 651 \nQ 3003 894 3003 1313 \nQ 3003 1734 2745 1975 \nQ 2488 2216 2034 2216 \nz\nM 1403 2484 \nQ 997 2584 770 2862 \nQ 544 3141 544 3541 \nQ 544 4100 942 4425 \nQ 1341 4750 2034 4750 \nQ 2731 4750 3128 4425 \nQ 3525 4100 3525 3541 \nQ 3525 3141 3298 2862 \nQ 3072 2584 2669 2484 \nQ 3125 2378 3379 2068 \nQ 3634 1759 3634 1313 \nQ 3634 634 3220 271 \nQ 2806 -91 2034 -91 \nQ 1263 -91 848 271 \nQ 434 634 434 1313 \nQ 434 1759 690 2068 \nQ 947 2378 1403 2484 \nz\nM 1172 3481 \nQ 1172 3119 1398 2916 \nQ 1625 2713 2034 2713 \nQ 2441 2713 2670 2916 \nQ 2900 3119 2900 3481 \nQ 2900 3844 2670 4047 \nQ 2441 4250 2034 4250 \nQ 1625 4250 1398 4047 \nQ 1172 3844 1172 3481 \nz\n\" transform=\"scale(0.015625)\"/>\n       </defs>\n       <use xlink:href=\"#DejaVuSans-38\"/>\n      </g>\n     </g>\n    </g>\n    <g id=\"xtick_6\">\n     <g id=\"line2d_6\">\n      <g>\n       <use xlink:href=\"#m06467a1127\" x=\"225.403125\" y=\"145.8\" style=\"stroke: #000000; stroke-width: 0.8\"/>\n      </g>\n     </g>\n     <g id=\"text_6\">\n      <!-- 10 -->\n      <g transform=\"translate(219.040625 160.398438) scale(0.1 -0.1)\">\n       <defs>\n        <path id=\"DejaVuSans-31\" d=\"M 794 531 \nL 1825 531 \nL 1825 4091 \nL 703 3866 \nL 703 4441 \nL 1819 4666 \nL 2450 4666 \nL 2450 531 \nL 3481 531 \nL 3481 0 \nL 794 0 \nL 794 531 \nz\n\" transform=\"scale(0.015625)\"/>\n       </defs>\n       <use xlink:href=\"#DejaVuSans-31\"/>\n       <use xlink:href=\"#DejaVuSans-30\" x=\"63.623047\"/>\n      </g>\n     </g>\n    </g>\n    <g id=\"text_7\">\n     <!-- epoch -->\n     <g transform=\"translate(112.525 174.076563) scale(0.1 -0.1)\">\n      <defs>\n       <path id=\"DejaVuSans-65\" d=\"M 3597 1894 \nL 3597 1613 \nL 953 1613 \nQ 991 1019 1311 708 \nQ 1631 397 2203 397 \nQ 2534 397 2845 478 \nQ 3156 559 3463 722 \nL 3463 178 \nQ 3153 47 2828 -22 \nQ 2503 -91 2169 -91 \nQ 1331 -91 842 396 \nQ 353 884 353 1716 \nQ 353 2575 817 3079 \nQ 1281 3584 2069 3584 \nQ 2775 3584 3186 3129 \nQ 3597 2675 3597 1894 \nz\nM 3022 2063 \nQ 3016 2534 2758 2815 \nQ 2500 3097 2075 3097 \nQ 1594 3097 1305 2825 \nQ 1016 2553 972 2059 \nL 3022 2063 \nz\n\" transform=\"scale(0.015625)\"/>\n       <path id=\"DejaVuSans-70\" d=\"M 1159 525 \nL 1159 -1331 \nL 581 -1331 \nL 581 3500 \nL 1159 3500 \nL 1159 2969 \nQ 1341 3281 1617 3432 \nQ 1894 3584 2278 3584 \nQ 2916 3584 3314 3078 \nQ 3713 2572 3713 1747 \nQ 3713 922 3314 415 \nQ 2916 -91 2278 -91 \nQ 1894 -91 1617 61 \nQ 1341 213 1159 525 \nz\nM 3116 1747 \nQ 3116 2381 2855 2742 \nQ 2594 3103 2138 3103 \nQ 1681 3103 1420 2742 \nQ 1159 2381 1159 1747 \nQ 1159 1113 1420 752 \nQ 1681 391 2138 391 \nQ 2594 391 2855 752 \nQ 3116 1113 3116 1747 \nz\n\" transform=\"scale(0.015625)\"/>\n       <path id=\"DejaVuSans-6f\" d=\"M 1959 3097 \nQ 1497 3097 1228 2736 \nQ 959 2375 959 1747 \nQ 959 1119 1226 758 \nQ 1494 397 1959 397 \nQ 2419 397 2687 759 \nQ 2956 1122 2956 1747 \nQ 2956 2369 2687 2733 \nQ 2419 3097 1959 3097 \nz\nM 1959 3584 \nQ 2709 3584 3137 3096 \nQ 3566 2609 3566 1747 \nQ 3566 888 3137 398 \nQ 2709 -91 1959 -91 \nQ 1206 -91 779 398 \nQ 353 888 353 1747 \nQ 353 2609 779 3096 \nQ 1206 3584 1959 3584 \nz\n\" transform=\"scale(0.015625)\"/>\n       <path id=\"DejaVuSans-63\" d=\"M 3122 3366 \nL 3122 2828 \nQ 2878 2963 2633 3030 \nQ 2388 3097 2138 3097 \nQ 1578 3097 1268 2742 \nQ 959 2388 959 1747 \nQ 959 1106 1268 751 \nQ 1578 397 2138 397 \nQ 2388 397 2633 464 \nQ 2878 531 3122 666 \nL 3122 134 \nQ 2881 22 2623 -34 \nQ 2366 -91 2075 -91 \nQ 1284 -91 818 406 \nQ 353 903 353 1747 \nQ 353 2603 823 3093 \nQ 1294 3584 2113 3584 \nQ 2378 3584 2631 3529 \nQ 2884 3475 3122 3366 \nz\n\" transform=\"scale(0.015625)\"/>\n       <path id=\"DejaVuSans-68\" d=\"M 3513 2113 \nL 3513 0 \nL 2938 0 \nL 2938 2094 \nQ 2938 2591 2744 2837 \nQ 2550 3084 2163 3084 \nQ 1697 3084 1428 2787 \nQ 1159 2491 1159 1978 \nL 1159 0 \nL 581 0 \nL 581 4863 \nL 1159 4863 \nL 1159 2956 \nQ 1366 3272 1645 3428 \nQ 1925 3584 2291 3584 \nQ 2894 3584 3203 3211 \nQ 3513 2838 3513 2113 \nz\n\" transform=\"scale(0.015625)\"/>\n      </defs>\n      <use xlink:href=\"#DejaVuSans-65\"/>\n      <use xlink:href=\"#DejaVuSans-70\" x=\"61.523438\"/>\n      <use xlink:href=\"#DejaVuSans-6f\" x=\"125\"/>\n      <use xlink:href=\"#DejaVuSans-63\" x=\"186.181641\"/>\n      <use xlink:href=\"#DejaVuSans-68\" x=\"241.162109\"/>\n     </g>\n    </g>\n   </g>\n   <g id=\"matplotlib.axis_2\">\n    <g id=\"ytick_1\">\n     <g id=\"line2d_7\">\n      <defs>\n       <path id=\"m5bfc9963c1\" d=\"M 0 0 \nL -3.5 0 \n\" style=\"stroke: #000000; stroke-width: 0.8\"/>\n      </defs>\n      <g>\n       <use xlink:href=\"#m5bfc9963c1\" x=\"30.103125\" y=\"120.757542\" style=\"stroke: #000000; stroke-width: 0.8\"/>\n      </g>\n     </g>\n     <g id=\"text_8\">\n      <!-- 0.5 -->\n      <g transform=\"translate(7.2 124.556761) scale(0.1 -0.1)\">\n       <defs>\n        <path id=\"DejaVuSans-2e\" d=\"M 684 794 \nL 1344 794 \nL 1344 0 \nL 684 0 \nL 684 794 \nz\n\" transform=\"scale(0.015625)\"/>\n        <path id=\"DejaVuSans-35\" d=\"M 691 4666 \nL 3169 4666 \nL 3169 4134 \nL 1269 4134 \nL 1269 2991 \nQ 1406 3038 1543 3061 \nQ 1681 3084 1819 3084 \nQ 2600 3084 3056 2656 \nQ 3513 2228 3513 1497 \nQ 3513 744 3044 326 \nQ 2575 -91 1722 -91 \nQ 1428 -91 1123 -41 \nQ 819 9 494 109 \nL 494 744 \nQ 775 591 1075 516 \nQ 1375 441 1709 441 \nQ 2250 441 2565 725 \nQ 2881 1009 2881 1497 \nQ 2881 1984 2565 2268 \nQ 2250 2553 1709 2553 \nQ 1456 2553 1204 2497 \nQ 953 2441 691 2322 \nL 691 4666 \nz\n\" transform=\"scale(0.015625)\"/>\n       </defs>\n       <use xlink:href=\"#DejaVuSans-30\"/>\n       <use xlink:href=\"#DejaVuSans-2e\" x=\"63.623047\"/>\n       <use xlink:href=\"#DejaVuSans-35\" x=\"95.410156\"/>\n      </g>\n     </g>\n    </g>\n    <g id=\"ytick_2\">\n     <g id=\"line2d_8\">\n      <g>\n       <use xlink:href=\"#m5bfc9963c1\" x=\"30.103125\" y=\"90.995649\" style=\"stroke: #000000; stroke-width: 0.8\"/>\n      </g>\n     </g>\n     <g id=\"text_9\">\n      <!-- 1.0 -->\n      <g transform=\"translate(7.2 94.794868) scale(0.1 -0.1)\">\n       <use xlink:href=\"#DejaVuSans-31\"/>\n       <use xlink:href=\"#DejaVuSans-2e\" x=\"63.623047\"/>\n       <use xlink:href=\"#DejaVuSans-30\" x=\"95.410156\"/>\n      </g>\n     </g>\n    </g>\n    <g id=\"ytick_3\">\n     <g id=\"line2d_9\">\n      <g>\n       <use xlink:href=\"#m5bfc9963c1\" x=\"30.103125\" y=\"61.233756\" style=\"stroke: #000000; stroke-width: 0.8\"/>\n      </g>\n     </g>\n     <g id=\"text_10\">\n      <!-- 1.5 -->\n      <g transform=\"translate(7.2 65.032975) scale(0.1 -0.1)\">\n       <use xlink:href=\"#DejaVuSans-31\"/>\n       <use xlink:href=\"#DejaVuSans-2e\" x=\"63.623047\"/>\n       <use xlink:href=\"#DejaVuSans-35\" x=\"95.410156\"/>\n      </g>\n     </g>\n    </g>\n    <g id=\"ytick_4\">\n     <g id=\"line2d_10\">\n      <g>\n       <use xlink:href=\"#m5bfc9963c1\" x=\"30.103125\" y=\"31.471863\" style=\"stroke: #000000; stroke-width: 0.8\"/>\n      </g>\n     </g>\n     <g id=\"text_11\">\n      <!-- 2.0 -->\n      <g transform=\"translate(7.2 35.271082) scale(0.1 -0.1)\">\n       <use xlink:href=\"#DejaVuSans-32\"/>\n       <use xlink:href=\"#DejaVuSans-2e\" x=\"63.623047\"/>\n       <use xlink:href=\"#DejaVuSans-30\" x=\"95.410156\"/>\n      </g>\n     </g>\n    </g>\n   </g>\n   <g id=\"line2d_11\">\n    <path d=\"M 34.954394 13.5 \n\" clip-path=\"url(#pd4d95a0e11)\" style=\"fill: none; stroke: #1f77b4; stroke-width: 1.5; stroke-linecap: square\"/>\n   </g>\n   <g id=\"line2d_12\">\n    <path d=\"M 34.954394 13.5 \nL 44.698573 13.637498 \n\" clip-path=\"url(#pd4d95a0e11)\" style=\"fill: none; stroke: #1f77b4; stroke-width: 1.5; stroke-linecap: square\"/>\n   </g>\n   <g id=\"line2d_13\">\n    <path d=\"M 34.954394 13.5 \nL 44.698573 13.637498 \n\" clip-path=\"url(#pd4d95a0e11)\" style=\"fill: none; stroke: #1f77b4; stroke-width: 1.5; stroke-linecap: square\"/>\n   </g>\n   <g id=\"line2d_14\">\n    <path d=\"M 49.633125 13.822169 \n\" clip-path=\"url(#pd4d95a0e11)\" style=\"fill: none; stroke-dasharray: 5.55,2.4; stroke-dashoffset: 0; stroke: #ff7f0e; stroke-width: 1.5\"/>\n   </g>\n   <g id=\"line2d_15\"/>\n   <g id=\"line2d_16\">\n    <path d=\"M 34.954394 13.5 \nL 44.698573 13.637498 \n\" clip-path=\"url(#pd4d95a0e11)\" style=\"fill: none; stroke: #1f77b4; stroke-width: 1.5; stroke-linecap: square\"/>\n   </g>\n   <g id=\"line2d_17\">\n    <path d=\"M 49.633125 13.822169 \n\" clip-path=\"url(#pd4d95a0e11)\" style=\"fill: none; stroke-dasharray: 5.55,2.4; stroke-dashoffset: 0; stroke: #ff7f0e; stroke-width: 1.5\"/>\n   </g>\n   <g id=\"line2d_18\">\n    <path d=\"M 49.633125 139.5 \n\" clip-path=\"url(#pd4d95a0e11)\" style=\"fill: none; stroke-dasharray: 9.6,2.4,1.5,2.4; stroke-dashoffset: 0; stroke: #2ca02c; stroke-width: 1.5\"/>\n   </g>\n   <g id=\"line2d_19\">\n    <path d=\"M 34.954394 13.5 \nL 44.698573 13.637498 \nL 54.442752 15.112401 \n\" clip-path=\"url(#pd4d95a0e11)\" style=\"fill: none; stroke: #1f77b4; stroke-width: 1.5; stroke-linecap: square\"/>\n   </g>\n   <g id=\"line2d_20\">\n    <path d=\"M 49.633125 13.822169 \n\" clip-path=\"url(#pd4d95a0e11)\" style=\"fill: none; stroke-dasharray: 5.55,2.4; stroke-dashoffset: 0; stroke: #ff7f0e; stroke-width: 1.5\"/>\n   </g>\n   <g id=\"line2d_21\">\n    <path d=\"M 49.633125 139.5 \n\" clip-path=\"url(#pd4d95a0e11)\" style=\"fill: none; stroke-dasharray: 9.6,2.4,1.5,2.4; stroke-dashoffset: 0; stroke: #2ca02c; stroke-width: 1.5\"/>\n   </g>\n   <g id=\"line2d_22\">\n    <path d=\"M 34.954394 13.5 \nL 44.698573 13.637498 \nL 54.442752 15.112401 \nL 64.186931 73.729897 \n\" clip-path=\"url(#pd4d95a0e11)\" style=\"fill: none; stroke: #1f77b4; stroke-width: 1.5; stroke-linecap: square\"/>\n   </g>\n   <g id=\"line2d_23\">\n    <path d=\"M 49.633125 13.822169 \n\" clip-path=\"url(#pd4d95a0e11)\" style=\"fill: none; stroke-dasharray: 5.55,2.4; stroke-dashoffset: 0; stroke: #ff7f0e; stroke-width: 1.5\"/>\n   </g>\n   <g id=\"line2d_24\">\n    <path d=\"M 49.633125 139.5 \n\" clip-path=\"url(#pd4d95a0e11)\" style=\"fill: none; stroke-dasharray: 9.6,2.4,1.5,2.4; stroke-dashoffset: 0; stroke: #2ca02c; stroke-width: 1.5\"/>\n   </g>\n   <g id=\"line2d_25\">\n    <path d=\"M 34.954394 13.5 \nL 44.698573 13.637498 \nL 54.442752 15.112401 \nL 64.186931 73.729897 \n\" clip-path=\"url(#pd4d95a0e11)\" style=\"fill: none; stroke: #1f77b4; stroke-width: 1.5; stroke-linecap: square\"/>\n   </g>\n   <g id=\"line2d_26\">\n    <path d=\"M 49.633125 13.822169 \nL 69.163125 90.471735 \n\" clip-path=\"url(#pd4d95a0e11)\" style=\"fill: none; stroke-dasharray: 5.55,2.4; stroke-dashoffset: 0; stroke: #ff7f0e; stroke-width: 1.5\"/>\n   </g>\n   <g id=\"line2d_27\">\n    <path d=\"M 49.633125 139.5 \n\" clip-path=\"url(#pd4d95a0e11)\" style=\"fill: none; stroke-dasharray: 9.6,2.4,1.5,2.4; stroke-dashoffset: 0; stroke: #2ca02c; stroke-width: 1.5\"/>\n   </g>\n   <g id=\"line2d_28\">\n    <path d=\"M 34.954394 13.5 \nL 44.698573 13.637498 \nL 54.442752 15.112401 \nL 64.186931 73.729897 \n\" clip-path=\"url(#pd4d95a0e11)\" style=\"fill: none; stroke: #1f77b4; stroke-width: 1.5; stroke-linecap: square\"/>\n   </g>\n   <g id=\"line2d_29\">\n    <path d=\"M 49.633125 13.822169 \nL 69.163125 90.471735 \n\" clip-path=\"url(#pd4d95a0e11)\" style=\"fill: none; stroke-dasharray: 5.55,2.4; stroke-dashoffset: 0; stroke: #ff7f0e; stroke-width: 1.5\"/>\n   </g>\n   <g id=\"line2d_30\">\n    <path d=\"M 49.633125 139.5 \nL 69.163125 114.506132 \n\" clip-path=\"url(#pd4d95a0e11)\" style=\"fill: none; stroke-dasharray: 9.6,2.4,1.5,2.4; stroke-dashoffset: 0; stroke: #2ca02c; stroke-width: 1.5\"/>\n   </g>\n   <g id=\"patch_3\">\n    <path d=\"M 30.103125 145.8 \nL 30.103125 7.2 \n\" style=\"fill: none; stroke: #000000; stroke-width: 0.8; stroke-linejoin: miter; stroke-linecap: square\"/>\n   </g>\n   <g id=\"patch_4\">\n    <path d=\"M 225.403125 145.8 \nL 225.403125 7.2 \n\" style=\"fill: none; stroke: #000000; stroke-width: 0.8; stroke-linejoin: miter; stroke-linecap: square\"/>\n   </g>\n   <g id=\"patch_5\">\n    <path d=\"M 30.103125 145.8 \nL 225.403125 145.8 \n\" style=\"fill: none; stroke: #000000; stroke-width: 0.8; stroke-linejoin: miter; stroke-linecap: square\"/>\n   </g>\n   <g id=\"patch_6\">\n    <path d=\"M 30.103125 7.2 \nL 225.403125 7.2 \n\" style=\"fill: none; stroke: #000000; stroke-width: 0.8; stroke-linejoin: miter; stroke-linecap: square\"/>\n   </g>\n   <g id=\"legend_1\">\n    <g id=\"patch_7\">\n     <path d=\"M 138.8125 60.06875 \nL 218.403125 60.06875 \nQ 220.403125 60.06875 220.403125 58.06875 \nL 220.403125 14.2 \nQ 220.403125 12.2 218.403125 12.2 \nL 138.8125 12.2 \nQ 136.8125 12.2 136.8125 14.2 \nL 136.8125 58.06875 \nQ 136.8125 60.06875 138.8125 60.06875 \nz\n\" style=\"fill: #ffffff; opacity: 0.8; stroke: #cccccc; stroke-linejoin: miter\"/>\n    </g>\n    <g id=\"line2d_31\">\n     <path d=\"M 140.8125 20.298438 \nL 150.8125 20.298438 \nL 160.8125 20.298438 \n\" style=\"fill: none; stroke: #1f77b4; stroke-width: 1.5; stroke-linecap: square\"/>\n    </g>\n    <g id=\"text_12\">\n     <!-- train_loss -->\n     <g transform=\"translate(168.8125 23.798438) scale(0.1 -0.1)\">\n      <defs>\n       <path id=\"DejaVuSans-74\" d=\"M 1172 4494 \nL 1172 3500 \nL 2356 3500 \nL 2356 3053 \nL 1172 3053 \nL 1172 1153 \nQ 1172 725 1289 603 \nQ 1406 481 1766 481 \nL 2356 481 \nL 2356 0 \nL 1766 0 \nQ 1100 0 847 248 \nQ 594 497 594 1153 \nL 594 3053 \nL 172 3053 \nL 172 3500 \nL 594 3500 \nL 594 4494 \nL 1172 4494 \nz\n\" transform=\"scale(0.015625)\"/>\n       <path id=\"DejaVuSans-72\" d=\"M 2631 2963 \nQ 2534 3019 2420 3045 \nQ 2306 3072 2169 3072 \nQ 1681 3072 1420 2755 \nQ 1159 2438 1159 1844 \nL 1159 0 \nL 581 0 \nL 581 3500 \nL 1159 3500 \nL 1159 2956 \nQ 1341 3275 1631 3429 \nQ 1922 3584 2338 3584 \nQ 2397 3584 2469 3576 \nQ 2541 3569 2628 3553 \nL 2631 2963 \nz\n\" transform=\"scale(0.015625)\"/>\n       <path id=\"DejaVuSans-61\" d=\"M 2194 1759 \nQ 1497 1759 1228 1600 \nQ 959 1441 959 1056 \nQ 959 750 1161 570 \nQ 1363 391 1709 391 \nQ 2188 391 2477 730 \nQ 2766 1069 2766 1631 \nL 2766 1759 \nL 2194 1759 \nz\nM 3341 1997 \nL 3341 0 \nL 2766 0 \nL 2766 531 \nQ 2569 213 2275 61 \nQ 1981 -91 1556 -91 \nQ 1019 -91 701 211 \nQ 384 513 384 1019 \nQ 384 1609 779 1909 \nQ 1175 2209 1959 2209 \nL 2766 2209 \nL 2766 2266 \nQ 2766 2663 2505 2880 \nQ 2244 3097 1772 3097 \nQ 1472 3097 1187 3025 \nQ 903 2953 641 2809 \nL 641 3341 \nQ 956 3463 1253 3523 \nQ 1550 3584 1831 3584 \nQ 2591 3584 2966 3190 \nQ 3341 2797 3341 1997 \nz\n\" transform=\"scale(0.015625)\"/>\n       <path id=\"DejaVuSans-69\" d=\"M 603 3500 \nL 1178 3500 \nL 1178 0 \nL 603 0 \nL 603 3500 \nz\nM 603 4863 \nL 1178 4863 \nL 1178 4134 \nL 603 4134 \nL 603 4863 \nz\n\" transform=\"scale(0.015625)\"/>\n       <path id=\"DejaVuSans-6e\" d=\"M 3513 2113 \nL 3513 0 \nL 2938 0 \nL 2938 2094 \nQ 2938 2591 2744 2837 \nQ 2550 3084 2163 3084 \nQ 1697 3084 1428 2787 \nQ 1159 2491 1159 1978 \nL 1159 0 \nL 581 0 \nL 581 3500 \nL 1159 3500 \nL 1159 2956 \nQ 1366 3272 1645 3428 \nQ 1925 3584 2291 3584 \nQ 2894 3584 3203 3211 \nQ 3513 2838 3513 2113 \nz\n\" transform=\"scale(0.015625)\"/>\n       <path id=\"DejaVuSans-5f\" d=\"M 3263 -1063 \nL 3263 -1509 \nL -63 -1509 \nL -63 -1063 \nL 3263 -1063 \nz\n\" transform=\"scale(0.015625)\"/>\n       <path id=\"DejaVuSans-6c\" d=\"M 603 4863 \nL 1178 4863 \nL 1178 0 \nL 603 0 \nL 603 4863 \nz\n\" transform=\"scale(0.015625)\"/>\n       <path id=\"DejaVuSans-73\" d=\"M 2834 3397 \nL 2834 2853 \nQ 2591 2978 2328 3040 \nQ 2066 3103 1784 3103 \nQ 1356 3103 1142 2972 \nQ 928 2841 928 2578 \nQ 928 2378 1081 2264 \nQ 1234 2150 1697 2047 \nL 1894 2003 \nQ 2506 1872 2764 1633 \nQ 3022 1394 3022 966 \nQ 3022 478 2636 193 \nQ 2250 -91 1575 -91 \nQ 1294 -91 989 -36 \nQ 684 19 347 128 \nL 347 722 \nQ 666 556 975 473 \nQ 1284 391 1588 391 \nQ 1994 391 2212 530 \nQ 2431 669 2431 922 \nQ 2431 1156 2273 1281 \nQ 2116 1406 1581 1522 \nL 1381 1569 \nQ 847 1681 609 1914 \nQ 372 2147 372 2553 \nQ 372 3047 722 3315 \nQ 1072 3584 1716 3584 \nQ 2034 3584 2315 3537 \nQ 2597 3491 2834 3397 \nz\n\" transform=\"scale(0.015625)\"/>\n      </defs>\n      <use xlink:href=\"#DejaVuSans-74\"/>\n      <use xlink:href=\"#DejaVuSans-72\" x=\"39.208984\"/>\n      <use xlink:href=\"#DejaVuSans-61\" x=\"80.322266\"/>\n      <use xlink:href=\"#DejaVuSans-69\" x=\"141.601562\"/>\n      <use xlink:href=\"#DejaVuSans-6e\" x=\"169.384766\"/>\n      <use xlink:href=\"#DejaVuSans-5f\" x=\"232.763672\"/>\n      <use xlink:href=\"#DejaVuSans-6c\" x=\"282.763672\"/>\n      <use xlink:href=\"#DejaVuSans-6f\" x=\"310.546875\"/>\n      <use xlink:href=\"#DejaVuSans-73\" x=\"371.728516\"/>\n      <use xlink:href=\"#DejaVuSans-73\" x=\"423.828125\"/>\n     </g>\n    </g>\n    <g id=\"line2d_32\">\n     <path d=\"M 140.8125 35.254688 \nL 150.8125 35.254688 \nL 160.8125 35.254688 \n\" style=\"fill: none; stroke-dasharray: 5.55,2.4; stroke-dashoffset: 0; stroke: #ff7f0e; stroke-width: 1.5\"/>\n    </g>\n    <g id=\"text_13\">\n     <!-- val_loss -->\n     <g transform=\"translate(168.8125 38.754688) scale(0.1 -0.1)\">\n      <defs>\n       <path id=\"DejaVuSans-76\" d=\"M 191 3500 \nL 800 3500 \nL 1894 563 \nL 2988 3500 \nL 3597 3500 \nL 2284 0 \nL 1503 0 \nL 191 3500 \nz\n\" transform=\"scale(0.015625)\"/>\n      </defs>\n      <use xlink:href=\"#DejaVuSans-76\"/>\n      <use xlink:href=\"#DejaVuSans-61\" x=\"59.179688\"/>\n      <use xlink:href=\"#DejaVuSans-6c\" x=\"120.458984\"/>\n      <use xlink:href=\"#DejaVuSans-5f\" x=\"148.242188\"/>\n      <use xlink:href=\"#DejaVuSans-6c\" x=\"198.242188\"/>\n      <use xlink:href=\"#DejaVuSans-6f\" x=\"226.025391\"/>\n      <use xlink:href=\"#DejaVuSans-73\" x=\"287.207031\"/>\n      <use xlink:href=\"#DejaVuSans-73\" x=\"339.306641\"/>\n     </g>\n    </g>\n    <g id=\"line2d_33\">\n     <path d=\"M 140.8125 50.210938 \nL 150.8125 50.210938 \nL 160.8125 50.210938 \n\" style=\"fill: none; stroke-dasharray: 9.6,2.4,1.5,2.4; stroke-dashoffset: 0; stroke: #2ca02c; stroke-width: 1.5\"/>\n    </g>\n    <g id=\"text_14\">\n     <!-- val_acc -->\n     <g transform=\"translate(168.8125 53.710938) scale(0.1 -0.1)\">\n      <use xlink:href=\"#DejaVuSans-76\"/>\n      <use xlink:href=\"#DejaVuSans-61\" x=\"59.179688\"/>\n      <use xlink:href=\"#DejaVuSans-6c\" x=\"120.458984\"/>\n      <use xlink:href=\"#DejaVuSans-5f\" x=\"148.242188\"/>\n      <use xlink:href=\"#DejaVuSans-61\" x=\"198.242188\"/>\n      <use xlink:href=\"#DejaVuSans-63\" x=\"259.521484\"/>\n      <use xlink:href=\"#DejaVuSans-63\" x=\"314.501953\"/>\n     </g>\n    </g>\n   </g>\n  </g>\n </g>\n <defs>\n  <clipPath id=\"pd4d95a0e11\">\n   <rect x=\"30.103125\" y=\"7.2\" width=\"195.3\" height=\"138.6\"/>\n  </clipPath>\n </defs>\n</svg>\n",
            "text/plain": [
              "<Figure size 350x250 with 1 Axes>"
            ]
          },
          "metadata": {},
          "output_type": "display_data"
        }
      ],
      "source": [
        "model = AlexNet(lr=0.01)\n",
        "data = d2l.FashionMNIST(batch_size=128, resize=(224, 224))\n",
        "trainer = d2l.Trainer(max_epochs=10, num_gpus=1)\n",
        "trainer.fit(model, data)"
      ]
    },
    {
      "cell_type": "markdown",
      "metadata": {
        "id": "uDpDIw_Humh8"
      },
      "source": [
        "Proses pelatihan terhenti sebelum menyelesaikan semua epoch karena keterbatasan sumber daya komputasi dan durasi epoch yang terlalu panjang, sehingga output yang dihasilkan demikian."
      ]
    },
    {
      "cell_type": "markdown",
      "metadata": {
        "id": "VqY4QagB0wWW"
      },
      "source": [
        "### **Exercise 8.1**"
      ]
    },
    {
      "cell_type": "code",
      "execution_count": null,
      "metadata": {
        "id": "rIpWrPzh8Zo5"
      },
      "outputs": [],
      "source": [
        "import torch\n",
        "import torch.nn as nn\n",
        "import d2l\n",
        "from torchsummary import summary"
      ]
    },
    {
      "cell_type": "code",
      "execution_count": null,
      "metadata": {
        "id": "yUbyQHogaLma"
      },
      "outputs": [],
      "source": [
        "class Alexnet(d2l.torch.Classifier):\n",
        "    def __init__(self,lr=0.1, num_classes=10):\n",
        "        super().__init__()\n",
        "        self.save_hyperparameters()\n",
        "        self.net = nn.Sequential(nn.LazyConv2d(96, kernel_size=11, stride=4, padding=1),\n",
        "                                 nn.ReLU(), nn.MaxPool2d(kernel_size=3, stride=2),\n",
        "                                 nn.LazyConv2d(256, kernel_size=5, padding=2),\n",
        "                                 nn.ReLU(), nn.MaxPool2d(kernel_size=3, stride=2),\n",
        "                                 nn.LazyConv2d(384, kernel_size=3, padding=1),nn.ReLU(),\n",
        "                                 nn.LazyConv2d(384, kernel_size=3, padding=1),nn.ReLU(),\n",
        "                                 nn.LazyConv2d(256, kernel_size=3, padding=1),nn.ReLU(),\n",
        "                                 nn.MaxPool2d(kernel_size=3, stride=2), nn.Flatten(),\n",
        "                                 nn.LazyLinear(4096), nn.ReLU(), nn.Dropout(0.5),\n",
        "                                 nn.LazyLinear(4096), nn.ReLU(), nn.Dropout(0.5),\n",
        "                                 nn.LazyLinear(num_classes)\n",
        "                                 )"
      ]
    },
    {
      "cell_type": "markdown",
      "metadata": {
        "id": "1Npt_LtBS3bS"
      },
      "source": [
        "**1.   Following up on the discussion above, analyze the computational properties of AlexNet.**\n",
        "*   Compute the memory footprint for convolutions and fully connected layers, respectively. Which one dominates?"
      ]
    },
    {
      "cell_type": "markdown",
      "metadata": {
        "id": "s44IGmFfDrhi"
      },
      "source": [
        "Diketahui rumus jumlah parameter untuk convolutional layers:\n",
        "\n",
        "$∑^{layers}(c_i * c_o * k_h * k_w + c_o)$"
      ]
    },
    {
      "cell_type": "code",
      "execution_count": null,
      "metadata": {
        "colab": {
          "base_uri": "https://localhost:8080/"
        },
        "id": "5lSHow0JEr33",
        "outputId": "c3322a93-8165-49c9-f914-1dfaed0b2528"
      },
      "outputs": [
        {
          "data": {
            "text/plain": [
              "3747200"
            ]
          },
          "execution_count": 90,
          "metadata": {},
          "output_type": "execute_result"
        }
      ],
      "source": [
        "3*96*11*11+96+96*256*5*5+256+256*384*3*3+384+384*384*3*3+384+384*256*3*3+256"
      ]
    },
    {
      "cell_type": "markdown",
      "metadata": {
        "id": "W_j4r0d8EjlG"
      },
      "source": [
        "Diketahui rumus jumlah parameter untuk fully connected layers:\n",
        "\n",
        "$∑^{layers}(x_i * x_o + x_o)$"
      ]
    },
    {
      "cell_type": "code",
      "execution_count": null,
      "metadata": {
        "colab": {
          "base_uri": "https://localhost:8080/"
        },
        "id": "SNworsbKExDh",
        "outputId": "62fa993a-39cd-47a2-9f8d-577e1774e8c4"
      },
      "outputs": [
        {
          "data": {
            "text/plain": [
              "43040778"
            ]
          },
          "execution_count": 91,
          "metadata": {},
          "output_type": "execute_result"
        }
      ],
      "source": [
        "80*80*4096+4096+4096*4096+4096+4096*10+10"
      ]
    },
    {
      "cell_type": "code",
      "execution_count": null,
      "metadata": {
        "colab": {
          "base_uri": "https://localhost:8080/"
        },
        "id": "VdXz7UKeOc7E",
        "outputId": "1bf3ba6f-aa6f-4deb-8589-e8b6baa3e376"
      },
      "outputs": [
        {
          "data": {
            "text/plain": [
              "{'conv': 3747200, 'lr': 43040778}"
            ]
          },
          "execution_count": 95,
          "metadata": {},
          "output_type": "execute_result"
        }
      ],
      "source": [
        "model = Alexnet()\n",
        "X = torch.randn(1,3, 224, 224)\n",
        "_ = model(X)\n",
        "params = {'conv':0, 'lr':0}\n",
        "for idx, module in enumerate(model.net):\n",
        "    if type(module) not in (nn.Linear,nn.Conv2d):\n",
        "        continue\n",
        "    num = sum(p.numel() for p in module.parameters())\n",
        "    # print(f\"Module {idx + 1}: {num} parameters type:{type(module)}\")\n",
        "    if type(module) == nn.Conv2d:\n",
        "        params['conv'] += num\n",
        "\n",
        "    else:\n",
        "        params['lr'] += num\n",
        "\n",
        "params"
      ]
    },
    {
      "cell_type": "markdown",
      "metadata": {
        "id": "mhJkufwcQOL8"
      },
      "source": [
        "Fully connected layers mendominasi dibandingkan convolutional layers."
      ]
    },
    {
      "cell_type": "code",
      "execution_count": null,
      "metadata": {
        "colab": {
          "base_uri": "https://localhost:8080/"
        },
        "id": "KolFQsYUPnKQ",
        "outputId": "954be26f-27fd-4a07-b3e3-32463ee022a3"
      },
      "outputs": [
        {
          "name": "stdout",
          "output_type": "stream",
          "text": [
            "----------------------------------------------------------------\n",
            "        Layer (type)               Output Shape         Param #\n",
            "================================================================\n",
            "            Conv2d-1           [-1, 96, 54, 54]          34,944\n",
            "              ReLU-2           [-1, 96, 54, 54]               0\n",
            "         MaxPool2d-3           [-1, 96, 26, 26]               0\n",
            "            Conv2d-4          [-1, 256, 26, 26]         614,656\n",
            "              ReLU-5          [-1, 256, 26, 26]               0\n",
            "         MaxPool2d-6          [-1, 256, 12, 12]               0\n",
            "            Conv2d-7          [-1, 384, 12, 12]         885,120\n",
            "              ReLU-8          [-1, 384, 12, 12]               0\n",
            "            Conv2d-9          [-1, 384, 12, 12]       1,327,488\n",
            "             ReLU-10          [-1, 384, 12, 12]               0\n",
            "           Conv2d-11          [-1, 256, 12, 12]         884,992\n",
            "             ReLU-12          [-1, 256, 12, 12]               0\n",
            "        MaxPool2d-13            [-1, 256, 5, 5]               0\n",
            "          Flatten-14                 [-1, 6400]               0\n",
            "           Linear-15                 [-1, 4096]      26,218,496\n",
            "             ReLU-16                 [-1, 4096]               0\n",
            "          Dropout-17                 [-1, 4096]               0\n",
            "           Linear-18                 [-1, 4096]      16,781,312\n",
            "             ReLU-19                 [-1, 4096]               0\n",
            "          Dropout-20                 [-1, 4096]               0\n",
            "           Linear-21                   [-1, 10]          40,970\n",
            "================================================================\n",
            "Total params: 46,787,978\n",
            "Trainable params: 46,787,978\n",
            "Non-trainable params: 0\n",
            "----------------------------------------------------------------\n",
            "Input size (MB): 0.57\n",
            "Forward/backward pass size (MB): 10.22\n",
            "Params size (MB): 178.48\n",
            "Estimated Total Size (MB): 189.28\n",
            "----------------------------------------------------------------\n"
          ]
        }
      ],
      "source": [
        "summary(model, (3, 224, 224))"
      ]
    },
    {
      "cell_type": "markdown",
      "metadata": {
        "id": "PRCS6tGpO9Nq"
      },
      "source": [
        "\n",
        "*   Calculate the computational cost for the convolutions and the fully connected layers."
      ]
    },
    {
      "cell_type": "markdown",
      "metadata": {
        "id": "D8U0pe04E2s2"
      },
      "source": [
        "Diketahui rumus computational cost untuk convolution layers:\n",
        "\n",
        "$∑^{layers}(c_i * c_o *k_h * k_w * h_o * w_o)$"
      ]
    },
    {
      "cell_type": "code",
      "execution_count": null,
      "metadata": {
        "colab": {
          "base_uri": "https://localhost:8080/"
        },
        "id": "BLG9hA6QFNtx",
        "outputId": "dbafea28-845d-431c-dc5b-c4e8f7e9cec7"
      },
      "outputs": [
        {
          "data": {
            "text/plain": [
              "962858112"
            ]
          },
          "execution_count": 48,
          "metadata": {},
          "output_type": "execute_result"
        }
      ],
      "source": [
        "3*96*11*11*54*54+96*256*5*5*26*26+256*384*3*3*12*12+384*384*3*3*12*12+384*256*3*3*12*12"
      ]
    },
    {
      "cell_type": "markdown",
      "metadata": {
        "id": "tFVWsu6HFTGK"
      },
      "source": [
        "Diketahui rumus computational cost untuk fully connected layers:\n",
        "\n",
        "$∑^{layers}(x_i * x_o + x_o)$"
      ]
    },
    {
      "cell_type": "code",
      "execution_count": null,
      "metadata": {
        "colab": {
          "base_uri": "https://localhost:8080/"
        },
        "id": "Vd4xLUlEFi4T",
        "outputId": "23f96af4-dee3-4122-da2b-b5ef46d04729"
      },
      "outputs": [
        {
          "data": {
            "text/plain": [
              "43040778"
            ]
          },
          "execution_count": 49,
          "metadata": {},
          "output_type": "execute_result"
        }
      ],
      "source": [
        "80*80*4096+4096+4096*4096+4096+4096*10+10"
      ]
    },
    {
      "cell_type": "code",
      "execution_count": null,
      "metadata": {
        "colab": {
          "base_uri": "https://localhost:8080/"
        },
        "id": "Fmhm4dcEP8od",
        "outputId": "679877df-c381-463b-c3fa-40c626d145c7"
      },
      "outputs": [
        {
          "data": {
            "text/plain": [
              "{'conv': 962858112, 'lr': 43040778}"
            ]
          },
          "execution_count": 97,
          "metadata": {},
          "output_type": "execute_result"
        }
      ],
      "source": [
        "x = torch.randn(1,3, 224, 224)\n",
        "params = {'conv':0, 'lr':0}\n",
        "for idx, module in enumerate(model.net):\n",
        "    c_i = x.shape[1]\n",
        "    x = module(x)\n",
        "    if type(module) == nn.Conv2d:\n",
        "        k = [p.shape for p in module.parameters()]\n",
        "        c_o,h_o,w_o = x.shape[1], x.shape[2], x.shape[3]\n",
        "        params['conv'] += c_i*c_o*h_o*w_o*k[0][-1]*k[0][-2]\n",
        "    if type(module) == nn.Linear:\n",
        "        params['lr'] += sum(p.numel() for p in module.parameters())\n",
        "params"
      ]
    },
    {
      "cell_type": "code",
      "execution_count": null,
      "metadata": {
        "colab": {
          "base_uri": "https://localhost:8080/"
        },
        "id": "a9apLfqLQCNC",
        "outputId": "9a4bd577-3e1e-4a23-b3c2-e5f0bcec93e8"
      },
      "outputs": [
        {
          "name": "stdout",
          "output_type": "stream",
          "text": [
            "Total parameters: 46787978\n"
          ]
        }
      ],
      "source": [
        "X = torch.randn(1,3, 224, 224)\n",
        "_ = model(X)\n",
        "total_params = sum(p.numel() for p in model.parameters())\n",
        "print(\"Total parameters:\", total_params)"
      ]
    },
    {
      "cell_type": "markdown",
      "metadata": {
        "id": "KQPj-xkkRSvg"
      },
      "source": [
        "*   How does the memory (read and write bandwidth, latency, size) affect computation? Is there any difference in its effects for training and inference?\n",
        "\n",
        "  - Read and Write Bandwidth\n",
        "\n",
        "      Training\n",
        "      \n",
        "      Training model dalam deep learning memerlukan perpindahan data yang besar antara memori. Bandwidth memori yang tinggi dapat mendukung data diakses dengan cepat oleh unit komputasi.\n",
        "\n",
        "      Inference\n",
        "      \n",
        "      Saat inferensi, beban komputasi umumnya lebih rendah daripada training. Akan tetapi, apabila inferensi dilakukan dalam skala besar, bandwidth memori yang baik dibutuhkan untuk menjaga kecepatan respon.\n",
        "  - Latency\n",
        "\n",
        "      Training\n",
        "      \n",
        "      Latensi memori yang tinggi dapat menambah waktu tunggu saat data diambil dari memori, sehingga memperlambat siklus pelatihan.\n",
        "\n",
        "      Inference\n",
        "      \n",
        "      Saat inferensi, latensi rendah dibutuhkan agar respons cepat, sementara latensi tinggi dapat menyebabkan jeda antara input dan output.\n",
        "  - Memory Size\n",
        "\n",
        "      Training\n",
        "      \n",
        "      Training membutuhkan penyimpanan model, parameter, dan sekian ukuran data. Memori jika berukuran kecil akan membatasi ukuran batch dan memaksa model melakukan lebih banyak pengolahan sehingga memperlambat proses.\n",
        "\n",
        "      Inference\n",
        "      \n",
        "      Saat inferensi, ukuran memori yang terbatas akan mengurangi jumlah proses yang bisa dijalankan secara paralel."
      ]
    },
    {
      "cell_type": "markdown",
      "metadata": {
        "id": "ikh1X3lVSmWq"
      },
      "source": [
        "**2.   You are a chip designer and need to trade off computation and memory bandwidth. For example, a faster chip requires more power and possibly a larger chip area. More memory bandwidth requires more pins and control logic, thus also more area. How do you optimize?**\n",
        "*   Keseimbangan Memori dengan Komputasi\n",
        "\n",
        "    Keseimbangan bandwidth memori dan kecepatan komputasi dilakukan dengan optimalisasi pipeline data sehingga tidak ada unit komputasi yang menganggur saat menunggu data, misal dengan prefetching atau latensi rendah pada memori.\n",
        "*   Konsumsi Daya dengan Komputasi\n",
        "\n",
        "    Chip yang lebih cepat tentu membutuhkan banyak daya. Maka untuk meningkatkan kecepatan/performa tanpa terlalu meningkatkan konsumsi daya, digunakan optimalisasi hardware, misal arsitektur yang lebih paralel.\n",
        "*   Bandwidth Memori terhadap Ukuran Chip\n",
        "\n",
        "    Karena meningkatkan bandwidth memori memerlukan banyak pin dan kontrol logika, menimbulkan kebutuhan area chip yang lebih besar juga, optimalisasi  dilakukan dengan menggunakan cache yang lebih efisien atau meningkatkan kompresi data sehingga data yang diakses lebih cepat diproses tanpa terlalu banyak bandwidth memori."
      ]
    },
    {
      "cell_type": "markdown",
      "metadata": {
        "id": "UGafrufLckqa"
      },
      "source": [
        "**3.   Why do engineers no longer report performance benchmarks on AlexNet?**\n",
        "*   Ketinggalan zaman\n",
        "\n",
        "  Setelah AlexNet, telah bermunculan banyak model baru, seperti VGG, ResNet, dan EfficientNet, yang memberikan kinerja lebih tinggi, parameter lebih sedikit, dan lebih efisien.\n",
        "*   Model lain lebih unggul\n",
        "\n",
        "  Model-model baru yang bermunculan dapat mengatasi kekurangan AlexNet, dalam hal efisiensi komputasi, kecepatan pelatihan, dan akurasi.\n",
        "*   Benchmarking pada hardware modern\n",
        "\n",
        "  Hardware untuk deep learning, seperti GPU/TPU, juga telah berkembang pesat. Benchmark pada AlexNet tidak menunjukkan kemampuan hardware modern dengan baik karena model tersebut dirancang dengan teknologi lama.\n",
        "\n",
        "  Karena perkembangan-perkembangan pesat ini, AlexNet tidak lagi dianggap relevan untuk benchmarking modern, terutama dalam dataset besar seperti ImageNet.\n",
        "\n",
        "\n",
        "\n"
      ]
    },
    {
      "cell_type": "markdown",
      "metadata": {
        "id": "tG8xB_FOgCmy"
      },
      "source": [
        "**4. Try increasing the number of epochs when training AlexNet. Compared with LeNet, how do the results differ? Why?**"
      ]
    },
    {
      "cell_type": "code",
      "execution_count": null,
      "metadata": {
        "id": "XMPoyBd0gb0C"
      },
      "outputs": [],
      "source": [
        "model = Alexnet(lr=0.01)\n",
        "data = d2l.torch.FashionMNIST(batch_size=128, resize=(224, 224))\n",
        "trainer = d2l.torch.Trainer(max_epochs=20)\n",
        "trainer.fit(model, data)"
      ]
    },
    {
      "cell_type": "markdown",
      "metadata": {
        "id": "62fgnEFzgsHK"
      },
      "source": [
        "Hasil AlexNet dengan LeNet akan berbeda ketika meningkatkan jumlah epoch karena AlexNet dirancang untuk dataset yang lebih besar dan kompleks, sehingga training dengan lebih banyak epoch dapat memperbaiki generalization model terhadap data, menghasilkan model dengan akurasi lebih tinggi. Sedangkan LeNet dirancang untuk dataset yang lebih kecil dan sederhana, sehingga menaikkan jumlah epoch tidak akan memberikan peningkatan signifikan setelah beberapa waktu karena keterbatasan arsitektur model dalam mengangkap fitur kompleks dari dataset besar, sehingga lebih cepat mencapai \"titik jenuh\"."
      ]
    },
    {
      "cell_type": "markdown",
      "metadata": {
        "id": "PfnG3ji2ie3I"
      },
      "source": [
        "**5. AlexNet may be too complex for the Fashion-MNIST dataset, in particular due to the low resolution of the initial images.**\n",
        "\n",
        "* Try simplifying the model to make the training faster, while ensuring that the accuracy does not drop significantly.\n",
        "\n",
        "* Design a better model that works directly on 28 x 28 images."
      ]
    },
    {
      "cell_type": "code",
      "execution_count": null,
      "metadata": {
        "id": "M2g1Sx_Hinxa"
      },
      "outputs": [],
      "source": [
        "class SmallAlexnet(d2l.torch.Classifier):\n",
        "    def __init__(self,lr=0.1, num_classes=10):\n",
        "        super().__init__()\n",
        "        self.save_hyperparameters()\n",
        "        self.net = nn.Sequential(\n",
        "            nn.LazyConv2d(256, kernel_size=3, padding=1),nn.ReLU(),\n",
        "            nn.LazyConv2d(256, kernel_size=3, padding=1),nn.ReLU(),\n",
        "            nn.LazyConv2d(256, kernel_size=3, padding=1),nn.ReLU(),\n",
        "            nn.MaxPool2d(kernel_size=3, stride=2),\n",
        "            nn.LazyConv2d(512, kernel_size=3, padding=1),nn.ReLU(),\n",
        "            nn.LazyConv2d(512, kernel_size=3, padding=1),nn.ReLU(),\n",
        "            nn.LazyConv2d(256, kernel_size=3, padding=1),nn.ReLU(),\n",
        "            nn.MaxPool2d(kernel_size=3, stride=2), nn.Flatten(),\n",
        "            nn.LazyLinear(1024), nn.ReLU(),\n",
        "            nn.LazyLinear(num_classes)\n",
        "            )\n",
        "\n",
        "model = SmallAlexnet(lr=0.01)\n",
        "data = d2l.torch.FashionMNIST(batch_size=128, resize=(28, 28))\n",
        "trainer = d2l.torch.Trainer(max_epochs=10)\n",
        "trainer.fit(model, data)\n",
        "X,y = next(iter(data.get_dataloader(False)))\n",
        "y_hat = model(X)\n",
        "print(f'acc: {model.accuracy(y_hat,y).item():.2f}')"
      ]
    },
    {
      "cell_type": "markdown",
      "metadata": {
        "id": "4a3rs8j7jO2m"
      },
      "source": [
        "**6. Modify the batch size, and observe the changes in throughput (images/s), accuracy, and GPU memory.**"
      ]
    },
    {
      "cell_type": "markdown",
      "metadata": {
        "id": "zsU3_aZXjTMh"
      },
      "source": [
        "**7. Apply dropout and ReLU to LeNet-5. Does it improve? Can you improve things further by preprocessing to take advantage of the invariances inherent in the images?**"
      ]
    },
    {
      "cell_type": "code",
      "execution_count": null,
      "metadata": {
        "colab": {
          "base_uri": "https://localhost:8080/",
          "height": 283
        },
        "id": "-x9l00iijh2K",
        "outputId": "b312b93f-769b-4c73-a8dc-812bded340df"
      },
      "outputs": [
        {
          "name": "stdout",
          "output_type": "stream",
          "text": [
            "acc: 0.72\n"
          ]
        },
        {
          "data": {
            "image/svg+xml": "<?xml version=\"1.0\" encoding=\"utf-8\" standalone=\"no\"?>\n<!DOCTYPE svg PUBLIC \"-//W3C//DTD SVG 1.1//EN\"\n  \"http://www.w3.org/Graphics/SVG/1.1/DTD/svg11.dtd\">\n<svg xmlns:xlink=\"http://www.w3.org/1999/xlink\" width=\"238.965625pt\" height=\"183.35625pt\" viewBox=\"0 0 238.965625 183.35625\" xmlns=\"http://www.w3.org/2000/svg\" version=\"1.1\">\n <metadata>\n  <rdf:RDF xmlns:dc=\"http://purl.org/dc/elements/1.1/\" xmlns:cc=\"http://creativecommons.org/ns#\" xmlns:rdf=\"http://www.w3.org/1999/02/22-rdf-syntax-ns#\">\n   <cc:Work>\n    <dc:type rdf:resource=\"http://purl.org/dc/dcmitype/StillImage\"/>\n    <dc:date>2024-09-27T09:12:51.561894</dc:date>\n    <dc:format>image/svg+xml</dc:format>\n    <dc:creator>\n     <cc:Agent>\n      <dc:title>Matplotlib v3.7.2, https://matplotlib.org/</dc:title>\n     </cc:Agent>\n    </dc:creator>\n   </cc:Work>\n  </rdf:RDF>\n </metadata>\n <defs>\n  <style type=\"text/css\">*{stroke-linejoin: round; stroke-linecap: butt}</style>\n </defs>\n <g id=\"figure_1\">\n  <g id=\"patch_1\">\n   <path d=\"M 0 183.35625 \nL 238.965625 183.35625 \nL 238.965625 0 \nL 0 0 \nz\n\" style=\"fill: #ffffff\"/>\n  </g>\n  <g id=\"axes_1\">\n   <g id=\"patch_2\">\n    <path d=\"M 30.103125 145.8 \nL 225.403125 145.8 \nL 225.403125 7.2 \nL 30.103125 7.2 \nz\n\" style=\"fill: #ffffff\"/>\n   </g>\n   <g id=\"matplotlib.axis_1\">\n    <g id=\"xtick_1\">\n     <g id=\"line2d_1\">\n      <defs>\n       <path id=\"m87217ce049\" d=\"M 0 0 \nL 0 3.5 \n\" style=\"stroke: #000000; stroke-width: 0.8\"/>\n      </defs>\n      <g>\n       <use xlink:href=\"#m87217ce049\" x=\"30.103125\" y=\"145.8\" style=\"stroke: #000000; stroke-width: 0.8\"/>\n      </g>\n     </g>\n     <g id=\"text_1\">\n      <!-- 0 -->\n      <g transform=\"translate(26.921875 160.398438) scale(0.1 -0.1)\">\n       <defs>\n        <path id=\"DejaVuSans-30\" d=\"M 2034 4250 \nQ 1547 4250 1301 3770 \nQ 1056 3291 1056 2328 \nQ 1056 1369 1301 889 \nQ 1547 409 2034 409 \nQ 2525 409 2770 889 \nQ 3016 1369 3016 2328 \nQ 3016 3291 2770 3770 \nQ 2525 4250 2034 4250 \nz\nM 2034 4750 \nQ 2819 4750 3233 4129 \nQ 3647 3509 3647 2328 \nQ 3647 1150 3233 529 \nQ 2819 -91 2034 -91 \nQ 1250 -91 836 529 \nQ 422 1150 422 2328 \nQ 422 3509 836 4129 \nQ 1250 4750 2034 4750 \nz\n\" transform=\"scale(0.015625)\"/>\n       </defs>\n       <use xlink:href=\"#DejaVuSans-30\"/>\n      </g>\n     </g>\n    </g>\n    <g id=\"xtick_2\">\n     <g id=\"line2d_2\">\n      <g>\n       <use xlink:href=\"#m87217ce049\" x=\"69.163125\" y=\"145.8\" style=\"stroke: #000000; stroke-width: 0.8\"/>\n      </g>\n     </g>\n     <g id=\"text_2\">\n      <!-- 2 -->\n      <g transform=\"translate(65.981875 160.398438) scale(0.1 -0.1)\">\n       <defs>\n        <path id=\"DejaVuSans-32\" d=\"M 1228 531 \nL 3431 531 \nL 3431 0 \nL 469 0 \nL 469 531 \nQ 828 903 1448 1529 \nQ 2069 2156 2228 2338 \nQ 2531 2678 2651 2914 \nQ 2772 3150 2772 3378 \nQ 2772 3750 2511 3984 \nQ 2250 4219 1831 4219 \nQ 1534 4219 1204 4116 \nQ 875 4013 500 3803 \nL 500 4441 \nQ 881 4594 1212 4672 \nQ 1544 4750 1819 4750 \nQ 2544 4750 2975 4387 \nQ 3406 4025 3406 3419 \nQ 3406 3131 3298 2873 \nQ 3191 2616 2906 2266 \nQ 2828 2175 2409 1742 \nQ 1991 1309 1228 531 \nz\n\" transform=\"scale(0.015625)\"/>\n       </defs>\n       <use xlink:href=\"#DejaVuSans-32\"/>\n      </g>\n     </g>\n    </g>\n    <g id=\"xtick_3\">\n     <g id=\"line2d_3\">\n      <g>\n       <use xlink:href=\"#m87217ce049\" x=\"108.223125\" y=\"145.8\" style=\"stroke: #000000; stroke-width: 0.8\"/>\n      </g>\n     </g>\n     <g id=\"text_3\">\n      <!-- 4 -->\n      <g transform=\"translate(105.041875 160.398438) scale(0.1 -0.1)\">\n       <defs>\n        <path id=\"DejaVuSans-34\" d=\"M 2419 4116 \nL 825 1625 \nL 2419 1625 \nL 2419 4116 \nz\nM 2253 4666 \nL 3047 4666 \nL 3047 1625 \nL 3713 1625 \nL 3713 1100 \nL 3047 1100 \nL 3047 0 \nL 2419 0 \nL 2419 1100 \nL 313 1100 \nL 313 1709 \nL 2253 4666 \nz\n\" transform=\"scale(0.015625)\"/>\n       </defs>\n       <use xlink:href=\"#DejaVuSans-34\"/>\n      </g>\n     </g>\n    </g>\n    <g id=\"xtick_4\">\n     <g id=\"line2d_4\">\n      <g>\n       <use xlink:href=\"#m87217ce049\" x=\"147.283125\" y=\"145.8\" style=\"stroke: #000000; stroke-width: 0.8\"/>\n      </g>\n     </g>\n     <g id=\"text_4\">\n      <!-- 6 -->\n      <g transform=\"translate(144.101875 160.398438) scale(0.1 -0.1)\">\n       <defs>\n        <path id=\"DejaVuSans-36\" d=\"M 2113 2584 \nQ 1688 2584 1439 2293 \nQ 1191 2003 1191 1497 \nQ 1191 994 1439 701 \nQ 1688 409 2113 409 \nQ 2538 409 2786 701 \nQ 3034 994 3034 1497 \nQ 3034 2003 2786 2293 \nQ 2538 2584 2113 2584 \nz\nM 3366 4563 \nL 3366 3988 \nQ 3128 4100 2886 4159 \nQ 2644 4219 2406 4219 \nQ 1781 4219 1451 3797 \nQ 1122 3375 1075 2522 \nQ 1259 2794 1537 2939 \nQ 1816 3084 2150 3084 \nQ 2853 3084 3261 2657 \nQ 3669 2231 3669 1497 \nQ 3669 778 3244 343 \nQ 2819 -91 2113 -91 \nQ 1303 -91 875 529 \nQ 447 1150 447 2328 \nQ 447 3434 972 4092 \nQ 1497 4750 2381 4750 \nQ 2619 4750 2861 4703 \nQ 3103 4656 3366 4563 \nz\n\" transform=\"scale(0.015625)\"/>\n       </defs>\n       <use xlink:href=\"#DejaVuSans-36\"/>\n      </g>\n     </g>\n    </g>\n    <g id=\"xtick_5\">\n     <g id=\"line2d_5\">\n      <g>\n       <use xlink:href=\"#m87217ce049\" x=\"186.343125\" y=\"145.8\" style=\"stroke: #000000; stroke-width: 0.8\"/>\n      </g>\n     </g>\n     <g id=\"text_5\">\n      <!-- 8 -->\n      <g transform=\"translate(183.161875 160.398438) scale(0.1 -0.1)\">\n       <defs>\n        <path id=\"DejaVuSans-38\" d=\"M 2034 2216 \nQ 1584 2216 1326 1975 \nQ 1069 1734 1069 1313 \nQ 1069 891 1326 650 \nQ 1584 409 2034 409 \nQ 2484 409 2743 651 \nQ 3003 894 3003 1313 \nQ 3003 1734 2745 1975 \nQ 2488 2216 2034 2216 \nz\nM 1403 2484 \nQ 997 2584 770 2862 \nQ 544 3141 544 3541 \nQ 544 4100 942 4425 \nQ 1341 4750 2034 4750 \nQ 2731 4750 3128 4425 \nQ 3525 4100 3525 3541 \nQ 3525 3141 3298 2862 \nQ 3072 2584 2669 2484 \nQ 3125 2378 3379 2068 \nQ 3634 1759 3634 1313 \nQ 3634 634 3220 271 \nQ 2806 -91 2034 -91 \nQ 1263 -91 848 271 \nQ 434 634 434 1313 \nQ 434 1759 690 2068 \nQ 947 2378 1403 2484 \nz\nM 1172 3481 \nQ 1172 3119 1398 2916 \nQ 1625 2713 2034 2713 \nQ 2441 2713 2670 2916 \nQ 2900 3119 2900 3481 \nQ 2900 3844 2670 4047 \nQ 2441 4250 2034 4250 \nQ 1625 4250 1398 4047 \nQ 1172 3844 1172 3481 \nz\n\" transform=\"scale(0.015625)\"/>\n       </defs>\n       <use xlink:href=\"#DejaVuSans-38\"/>\n      </g>\n     </g>\n    </g>\n    <g id=\"xtick_6\">\n     <g id=\"line2d_6\">\n      <g>\n       <use xlink:href=\"#m87217ce049\" x=\"225.403125\" y=\"145.8\" style=\"stroke: #000000; stroke-width: 0.8\"/>\n      </g>\n     </g>\n     <g id=\"text_6\">\n      <!-- 10 -->\n      <g transform=\"translate(219.040625 160.398438) scale(0.1 -0.1)\">\n       <defs>\n        <path id=\"DejaVuSans-31\" d=\"M 794 531 \nL 1825 531 \nL 1825 4091 \nL 703 3866 \nL 703 4441 \nL 1819 4666 \nL 2450 4666 \nL 2450 531 \nL 3481 531 \nL 3481 0 \nL 794 0 \nL 794 531 \nz\n\" transform=\"scale(0.015625)\"/>\n       </defs>\n       <use xlink:href=\"#DejaVuSans-31\"/>\n       <use xlink:href=\"#DejaVuSans-30\" x=\"63.623047\"/>\n      </g>\n     </g>\n    </g>\n    <g id=\"text_7\">\n     <!-- epoch -->\n     <g transform=\"translate(112.525 174.076563) scale(0.1 -0.1)\">\n      <defs>\n       <path id=\"DejaVuSans-65\" d=\"M 3597 1894 \nL 3597 1613 \nL 953 1613 \nQ 991 1019 1311 708 \nQ 1631 397 2203 397 \nQ 2534 397 2845 478 \nQ 3156 559 3463 722 \nL 3463 178 \nQ 3153 47 2828 -22 \nQ 2503 -91 2169 -91 \nQ 1331 -91 842 396 \nQ 353 884 353 1716 \nQ 353 2575 817 3079 \nQ 1281 3584 2069 3584 \nQ 2775 3584 3186 3129 \nQ 3597 2675 3597 1894 \nz\nM 3022 2063 \nQ 3016 2534 2758 2815 \nQ 2500 3097 2075 3097 \nQ 1594 3097 1305 2825 \nQ 1016 2553 972 2059 \nL 3022 2063 \nz\n\" transform=\"scale(0.015625)\"/>\n       <path id=\"DejaVuSans-70\" d=\"M 1159 525 \nL 1159 -1331 \nL 581 -1331 \nL 581 3500 \nL 1159 3500 \nL 1159 2969 \nQ 1341 3281 1617 3432 \nQ 1894 3584 2278 3584 \nQ 2916 3584 3314 3078 \nQ 3713 2572 3713 1747 \nQ 3713 922 3314 415 \nQ 2916 -91 2278 -91 \nQ 1894 -91 1617 61 \nQ 1341 213 1159 525 \nz\nM 3116 1747 \nQ 3116 2381 2855 2742 \nQ 2594 3103 2138 3103 \nQ 1681 3103 1420 2742 \nQ 1159 2381 1159 1747 \nQ 1159 1113 1420 752 \nQ 1681 391 2138 391 \nQ 2594 391 2855 752 \nQ 3116 1113 3116 1747 \nz\n\" transform=\"scale(0.015625)\"/>\n       <path id=\"DejaVuSans-6f\" d=\"M 1959 3097 \nQ 1497 3097 1228 2736 \nQ 959 2375 959 1747 \nQ 959 1119 1226 758 \nQ 1494 397 1959 397 \nQ 2419 397 2687 759 \nQ 2956 1122 2956 1747 \nQ 2956 2369 2687 2733 \nQ 2419 3097 1959 3097 \nz\nM 1959 3584 \nQ 2709 3584 3137 3096 \nQ 3566 2609 3566 1747 \nQ 3566 888 3137 398 \nQ 2709 -91 1959 -91 \nQ 1206 -91 779 398 \nQ 353 888 353 1747 \nQ 353 2609 779 3096 \nQ 1206 3584 1959 3584 \nz\n\" transform=\"scale(0.015625)\"/>\n       <path id=\"DejaVuSans-63\" d=\"M 3122 3366 \nL 3122 2828 \nQ 2878 2963 2633 3030 \nQ 2388 3097 2138 3097 \nQ 1578 3097 1268 2742 \nQ 959 2388 959 1747 \nQ 959 1106 1268 751 \nQ 1578 397 2138 397 \nQ 2388 397 2633 464 \nQ 2878 531 3122 666 \nL 3122 134 \nQ 2881 22 2623 -34 \nQ 2366 -91 2075 -91 \nQ 1284 -91 818 406 \nQ 353 903 353 1747 \nQ 353 2603 823 3093 \nQ 1294 3584 2113 3584 \nQ 2378 3584 2631 3529 \nQ 2884 3475 3122 3366 \nz\n\" transform=\"scale(0.015625)\"/>\n       <path id=\"DejaVuSans-68\" d=\"M 3513 2113 \nL 3513 0 \nL 2938 0 \nL 2938 2094 \nQ 2938 2591 2744 2837 \nQ 2550 3084 2163 3084 \nQ 1697 3084 1428 2787 \nQ 1159 2491 1159 1978 \nL 1159 0 \nL 581 0 \nL 581 4863 \nL 1159 4863 \nL 1159 2956 \nQ 1366 3272 1645 3428 \nQ 1925 3584 2291 3584 \nQ 2894 3584 3203 3211 \nQ 3513 2838 3513 2113 \nz\n\" transform=\"scale(0.015625)\"/>\n      </defs>\n      <use xlink:href=\"#DejaVuSans-65\"/>\n      <use xlink:href=\"#DejaVuSans-70\" x=\"61.523438\"/>\n      <use xlink:href=\"#DejaVuSans-6f\" x=\"125\"/>\n      <use xlink:href=\"#DejaVuSans-63\" x=\"186.181641\"/>\n      <use xlink:href=\"#DejaVuSans-68\" x=\"241.162109\"/>\n     </g>\n    </g>\n   </g>\n   <g id=\"matplotlib.axis_2\">\n    <g id=\"ytick_1\">\n     <g id=\"line2d_7\">\n      <defs>\n       <path id=\"m5d767b7e9c\" d=\"M 0 0 \nL -3.5 0 \n\" style=\"stroke: #000000; stroke-width: 0.8\"/>\n      </defs>\n      <g>\n       <use xlink:href=\"#m5d767b7e9c\" x=\"30.103125\" y=\"119.561921\" style=\"stroke: #000000; stroke-width: 0.8\"/>\n      </g>\n     </g>\n     <g id=\"text_8\">\n      <!-- 0.5 -->\n      <g transform=\"translate(7.2 123.36114) scale(0.1 -0.1)\">\n       <defs>\n        <path id=\"DejaVuSans-2e\" d=\"M 684 794 \nL 1344 794 \nL 1344 0 \nL 684 0 \nL 684 794 \nz\n\" transform=\"scale(0.015625)\"/>\n        <path id=\"DejaVuSans-35\" d=\"M 691 4666 \nL 3169 4666 \nL 3169 4134 \nL 1269 4134 \nL 1269 2991 \nQ 1406 3038 1543 3061 \nQ 1681 3084 1819 3084 \nQ 2600 3084 3056 2656 \nQ 3513 2228 3513 1497 \nQ 3513 744 3044 326 \nQ 2575 -91 1722 -91 \nQ 1428 -91 1123 -41 \nQ 819 9 494 109 \nL 494 744 \nQ 775 591 1075 516 \nQ 1375 441 1709 441 \nQ 2250 441 2565 725 \nQ 2881 1009 2881 1497 \nQ 2881 1984 2565 2268 \nQ 2250 2553 1709 2553 \nQ 1456 2553 1204 2497 \nQ 953 2441 691 2322 \nL 691 4666 \nz\n\" transform=\"scale(0.015625)\"/>\n       </defs>\n       <use xlink:href=\"#DejaVuSans-30\"/>\n       <use xlink:href=\"#DejaVuSans-2e\" x=\"63.623047\"/>\n       <use xlink:href=\"#DejaVuSans-35\" x=\"95.410156\"/>\n      </g>\n     </g>\n    </g>\n    <g id=\"ytick_2\">\n     <g id=\"line2d_8\">\n      <g>\n       <use xlink:href=\"#m5d767b7e9c\" x=\"30.103125\" y=\"90.120647\" style=\"stroke: #000000; stroke-width: 0.8\"/>\n      </g>\n     </g>\n     <g id=\"text_9\">\n      <!-- 1.0 -->\n      <g transform=\"translate(7.2 93.919865) scale(0.1 -0.1)\">\n       <use xlink:href=\"#DejaVuSans-31\"/>\n       <use xlink:href=\"#DejaVuSans-2e\" x=\"63.623047\"/>\n       <use xlink:href=\"#DejaVuSans-30\" x=\"95.410156\"/>\n      </g>\n     </g>\n    </g>\n    <g id=\"ytick_3\">\n     <g id=\"line2d_9\">\n      <g>\n       <use xlink:href=\"#m5d767b7e9c\" x=\"30.103125\" y=\"60.679372\" style=\"stroke: #000000; stroke-width: 0.8\"/>\n      </g>\n     </g>\n     <g id=\"text_10\">\n      <!-- 1.5 -->\n      <g transform=\"translate(7.2 64.47859) scale(0.1 -0.1)\">\n       <use xlink:href=\"#DejaVuSans-31\"/>\n       <use xlink:href=\"#DejaVuSans-2e\" x=\"63.623047\"/>\n       <use xlink:href=\"#DejaVuSans-35\" x=\"95.410156\"/>\n      </g>\n     </g>\n    </g>\n    <g id=\"ytick_4\">\n     <g id=\"line2d_10\">\n      <g>\n       <use xlink:href=\"#m5d767b7e9c\" x=\"30.103125\" y=\"31.238097\" style=\"stroke: #000000; stroke-width: 0.8\"/>\n      </g>\n     </g>\n     <g id=\"text_11\">\n      <!-- 2.0 -->\n      <g transform=\"translate(7.2 35.037316) scale(0.1 -0.1)\">\n       <use xlink:href=\"#DejaVuSans-32\"/>\n       <use xlink:href=\"#DejaVuSans-2e\" x=\"63.623047\"/>\n       <use xlink:href=\"#DejaVuSans-30\" x=\"95.410156\"/>\n      </g>\n     </g>\n    </g>\n   </g>\n   <g id=\"line2d_11\">\n    <path d=\"M 34.954394 13.5 \n\" clip-path=\"url(#pd4d2cdbadf)\" style=\"fill: none; stroke: #1f77b4; stroke-width: 1.5; stroke-linecap: square\"/>\n   </g>\n   <g id=\"line2d_12\">\n    <path d=\"M 34.954394 13.5 \nL 44.698573 14.054329 \n\" clip-path=\"url(#pd4d2cdbadf)\" style=\"fill: none; stroke: #1f77b4; stroke-width: 1.5; stroke-linecap: square\"/>\n   </g>\n   <g id=\"line2d_13\">\n    <path d=\"M 34.954394 13.5 \nL 44.698573 14.054329 \n\" clip-path=\"url(#pd4d2cdbadf)\" style=\"fill: none; stroke: #1f77b4; stroke-width: 1.5; stroke-linecap: square\"/>\n   </g>\n   <g id=\"line2d_14\">\n    <path d=\"M 49.633125 14.824092 \n\" clip-path=\"url(#pd4d2cdbadf)\" style=\"fill: none; stroke-dasharray: 5.55,2.4; stroke-dashoffset: 0; stroke: #ff7f0e; stroke-width: 1.5\"/>\n   </g>\n   <g id=\"line2d_15\"/>\n   <g id=\"line2d_16\">\n    <path d=\"M 34.954394 13.5 \nL 44.698573 14.054329 \n\" clip-path=\"url(#pd4d2cdbadf)\" style=\"fill: none; stroke: #1f77b4; stroke-width: 1.5; stroke-linecap: square\"/>\n   </g>\n   <g id=\"line2d_17\">\n    <path d=\"M 49.633125 14.824092 \n\" clip-path=\"url(#pd4d2cdbadf)\" style=\"fill: none; stroke-dasharray: 5.55,2.4; stroke-dashoffset: 0; stroke: #ff7f0e; stroke-width: 1.5\"/>\n   </g>\n   <g id=\"line2d_18\">\n    <path d=\"M 49.633125 139.5 \n\" clip-path=\"url(#pd4d2cdbadf)\" style=\"fill: none; stroke-dasharray: 9.6,2.4,1.5,2.4; stroke-dashoffset: 0; stroke: #2ca02c; stroke-width: 1.5\"/>\n   </g>\n   <g id=\"line2d_19\">\n    <path d=\"M 34.954394 13.5 \nL 44.698573 14.054329 \nL 54.442752 17.161698 \n\" clip-path=\"url(#pd4d2cdbadf)\" style=\"fill: none; stroke: #1f77b4; stroke-width: 1.5; stroke-linecap: square\"/>\n   </g>\n   <g id=\"line2d_20\">\n    <path d=\"M 49.633125 14.824092 \n\" clip-path=\"url(#pd4d2cdbadf)\" style=\"fill: none; stroke-dasharray: 5.55,2.4; stroke-dashoffset: 0; stroke: #ff7f0e; stroke-width: 1.5\"/>\n   </g>\n   <g id=\"line2d_21\">\n    <path d=\"M 49.633125 139.5 \n\" clip-path=\"url(#pd4d2cdbadf)\" style=\"fill: none; stroke-dasharray: 9.6,2.4,1.5,2.4; stroke-dashoffset: 0; stroke: #2ca02c; stroke-width: 1.5\"/>\n   </g>\n   <g id=\"line2d_22\">\n    <path d=\"M 34.954394 13.5 \nL 44.698573 14.054329 \nL 54.442752 17.161698 \nL 64.186931 44.714274 \n\" clip-path=\"url(#pd4d2cdbadf)\" style=\"fill: none; stroke: #1f77b4; stroke-width: 1.5; stroke-linecap: square\"/>\n   </g>\n   <g id=\"line2d_23\">\n    <path d=\"M 49.633125 14.824092 \n\" clip-path=\"url(#pd4d2cdbadf)\" style=\"fill: none; stroke-dasharray: 5.55,2.4; stroke-dashoffset: 0; stroke: #ff7f0e; stroke-width: 1.5\"/>\n   </g>\n   <g id=\"line2d_24\">\n    <path d=\"M 49.633125 139.5 \n\" clip-path=\"url(#pd4d2cdbadf)\" style=\"fill: none; stroke-dasharray: 9.6,2.4,1.5,2.4; stroke-dashoffset: 0; stroke: #2ca02c; stroke-width: 1.5\"/>\n   </g>\n   <g id=\"line2d_25\">\n    <path d=\"M 34.954394 13.5 \nL 44.698573 14.054329 \nL 54.442752 17.161698 \nL 64.186931 44.714274 \n\" clip-path=\"url(#pd4d2cdbadf)\" style=\"fill: none; stroke: #1f77b4; stroke-width: 1.5; stroke-linecap: square\"/>\n   </g>\n   <g id=\"line2d_26\">\n    <path d=\"M 49.633125 14.824092 \nL 69.163125 75.902365 \n\" clip-path=\"url(#pd4d2cdbadf)\" style=\"fill: none; stroke-dasharray: 5.55,2.4; stroke-dashoffset: 0; stroke: #ff7f0e; stroke-width: 1.5\"/>\n   </g>\n   <g id=\"line2d_27\">\n    <path d=\"M 49.633125 139.5 \n\" clip-path=\"url(#pd4d2cdbadf)\" style=\"fill: none; stroke-dasharray: 9.6,2.4,1.5,2.4; stroke-dashoffset: 0; stroke: #2ca02c; stroke-width: 1.5\"/>\n   </g>\n   <g id=\"line2d_28\">\n    <path d=\"M 34.954394 13.5 \nL 44.698573 14.054329 \nL 54.442752 17.161698 \nL 64.186931 44.714274 \n\" clip-path=\"url(#pd4d2cdbadf)\" style=\"fill: none; stroke: #1f77b4; stroke-width: 1.5; stroke-linecap: square\"/>\n   </g>\n   <g id=\"line2d_29\">\n    <path d=\"M 49.633125 14.824092 \nL 69.163125 75.902365 \n\" clip-path=\"url(#pd4d2cdbadf)\" style=\"fill: none; stroke-dasharray: 5.55,2.4; stroke-dashoffset: 0; stroke: #ff7f0e; stroke-width: 1.5\"/>\n   </g>\n   <g id=\"line2d_30\">\n    <path d=\"M 49.633125 139.5 \nL 69.163125 117.209415 \n\" clip-path=\"url(#pd4d2cdbadf)\" style=\"fill: none; stroke-dasharray: 9.6,2.4,1.5,2.4; stroke-dashoffset: 0; stroke: #2ca02c; stroke-width: 1.5\"/>\n   </g>\n   <g id=\"line2d_31\">\n    <path d=\"M 34.954394 13.5 \nL 44.698573 14.054329 \nL 54.442752 17.161698 \nL 64.186931 44.714274 \nL 73.93111 70.529521 \n\" clip-path=\"url(#pd4d2cdbadf)\" style=\"fill: none; stroke: #1f77b4; stroke-width: 1.5; stroke-linecap: square\"/>\n   </g>\n   <g id=\"line2d_32\">\n    <path d=\"M 49.633125 14.824092 \nL 69.163125 75.902365 \n\" clip-path=\"url(#pd4d2cdbadf)\" style=\"fill: none; stroke-dasharray: 5.55,2.4; stroke-dashoffset: 0; stroke: #ff7f0e; stroke-width: 1.5\"/>\n   </g>\n   <g id=\"line2d_33\">\n    <path d=\"M 49.633125 139.5 \nL 69.163125 117.209415 \n\" clip-path=\"url(#pd4d2cdbadf)\" style=\"fill: none; stroke-dasharray: 9.6,2.4,1.5,2.4; stroke-dashoffset: 0; stroke: #2ca02c; stroke-width: 1.5\"/>\n   </g>\n   <g id=\"line2d_34\">\n    <path d=\"M 34.954394 13.5 \nL 44.698573 14.054329 \nL 54.442752 17.161698 \nL 64.186931 44.714274 \nL 73.93111 70.529521 \nL 83.675289 78.799158 \n\" clip-path=\"url(#pd4d2cdbadf)\" style=\"fill: none; stroke: #1f77b4; stroke-width: 1.5; stroke-linecap: square\"/>\n   </g>\n   <g id=\"line2d_35\">\n    <path d=\"M 49.633125 14.824092 \nL 69.163125 75.902365 \n\" clip-path=\"url(#pd4d2cdbadf)\" style=\"fill: none; stroke-dasharray: 5.55,2.4; stroke-dashoffset: 0; stroke: #ff7f0e; stroke-width: 1.5\"/>\n   </g>\n   <g id=\"line2d_36\">\n    <path d=\"M 49.633125 139.5 \nL 69.163125 117.209415 \n\" clip-path=\"url(#pd4d2cdbadf)\" style=\"fill: none; stroke-dasharray: 9.6,2.4,1.5,2.4; stroke-dashoffset: 0; stroke: #2ca02c; stroke-width: 1.5\"/>\n   </g>\n   <g id=\"line2d_37\">\n    <path d=\"M 34.954394 13.5 \nL 44.698573 14.054329 \nL 54.442752 17.161698 \nL 64.186931 44.714274 \nL 73.93111 70.529521 \nL 83.675289 78.799158 \n\" clip-path=\"url(#pd4d2cdbadf)\" style=\"fill: none; stroke: #1f77b4; stroke-width: 1.5; stroke-linecap: square\"/>\n   </g>\n   <g id=\"line2d_38\">\n    <path d=\"M 49.633125 14.824092 \nL 69.163125 75.902365 \nL 88.693125 91.348134 \n\" clip-path=\"url(#pd4d2cdbadf)\" style=\"fill: none; stroke-dasharray: 5.55,2.4; stroke-dashoffset: 0; stroke: #ff7f0e; stroke-width: 1.5\"/>\n   </g>\n   <g id=\"line2d_39\">\n    <path d=\"M 49.633125 139.5 \nL 69.163125 117.209415 \n\" clip-path=\"url(#pd4d2cdbadf)\" style=\"fill: none; stroke-dasharray: 9.6,2.4,1.5,2.4; stroke-dashoffset: 0; stroke: #2ca02c; stroke-width: 1.5\"/>\n   </g>\n   <g id=\"line2d_40\">\n    <path d=\"M 34.954394 13.5 \nL 44.698573 14.054329 \nL 54.442752 17.161698 \nL 64.186931 44.714274 \nL 73.93111 70.529521 \nL 83.675289 78.799158 \n\" clip-path=\"url(#pd4d2cdbadf)\" style=\"fill: none; stroke: #1f77b4; stroke-width: 1.5; stroke-linecap: square\"/>\n   </g>\n   <g id=\"line2d_41\">\n    <path d=\"M 49.633125 14.824092 \nL 69.163125 75.902365 \nL 88.693125 91.348134 \n\" clip-path=\"url(#pd4d2cdbadf)\" style=\"fill: none; stroke-dasharray: 5.55,2.4; stroke-dashoffset: 0; stroke: #ff7f0e; stroke-width: 1.5\"/>\n   </g>\n   <g id=\"line2d_42\">\n    <path d=\"M 49.633125 139.5 \nL 69.163125 117.209415 \nL 88.693125 112.265656 \n\" clip-path=\"url(#pd4d2cdbadf)\" style=\"fill: none; stroke-dasharray: 9.6,2.4,1.5,2.4; stroke-dashoffset: 0; stroke: #2ca02c; stroke-width: 1.5\"/>\n   </g>\n   <g id=\"line2d_43\">\n    <path d=\"M 34.954394 13.5 \nL 44.698573 14.054329 \nL 54.442752 17.161698 \nL 64.186931 44.714274 \nL 73.93111 70.529521 \nL 83.675289 78.799158 \nL 93.419468 83.155196 \n\" clip-path=\"url(#pd4d2cdbadf)\" style=\"fill: none; stroke: #1f77b4; stroke-width: 1.5; stroke-linecap: square\"/>\n   </g>\n   <g id=\"line2d_44\">\n    <path d=\"M 49.633125 14.824092 \nL 69.163125 75.902365 \nL 88.693125 91.348134 \n\" clip-path=\"url(#pd4d2cdbadf)\" style=\"fill: none; stroke-dasharray: 5.55,2.4; stroke-dashoffset: 0; stroke: #ff7f0e; stroke-width: 1.5\"/>\n   </g>\n   <g id=\"line2d_45\">\n    <path d=\"M 49.633125 139.5 \nL 69.163125 117.209415 \nL 88.693125 112.265656 \n\" clip-path=\"url(#pd4d2cdbadf)\" style=\"fill: none; stroke-dasharray: 9.6,2.4,1.5,2.4; stroke-dashoffset: 0; stroke: #2ca02c; stroke-width: 1.5\"/>\n   </g>\n   <g id=\"line2d_46\">\n    <path d=\"M 34.954394 13.5 \nL 44.698573 14.054329 \nL 54.442752 17.161698 \nL 64.186931 44.714274 \nL 73.93111 70.529521 \nL 83.675289 78.799158 \nL 93.419468 83.155196 \nL 103.163647 86.718925 \n\" clip-path=\"url(#pd4d2cdbadf)\" style=\"fill: none; stroke: #1f77b4; stroke-width: 1.5; stroke-linecap: square\"/>\n   </g>\n   <g id=\"line2d_47\">\n    <path d=\"M 49.633125 14.824092 \nL 69.163125 75.902365 \nL 88.693125 91.348134 \n\" clip-path=\"url(#pd4d2cdbadf)\" style=\"fill: none; stroke-dasharray: 5.55,2.4; stroke-dashoffset: 0; stroke: #ff7f0e; stroke-width: 1.5\"/>\n   </g>\n   <g id=\"line2d_48\">\n    <path d=\"M 49.633125 139.5 \nL 69.163125 117.209415 \nL 88.693125 112.265656 \n\" clip-path=\"url(#pd4d2cdbadf)\" style=\"fill: none; stroke-dasharray: 9.6,2.4,1.5,2.4; stroke-dashoffset: 0; stroke: #2ca02c; stroke-width: 1.5\"/>\n   </g>\n   <g id=\"line2d_49\">\n    <path d=\"M 34.954394 13.5 \nL 44.698573 14.054329 \nL 54.442752 17.161698 \nL 64.186931 44.714274 \nL 73.93111 70.529521 \nL 83.675289 78.799158 \nL 93.419468 83.155196 \nL 103.163647 86.718925 \n\" clip-path=\"url(#pd4d2cdbadf)\" style=\"fill: none; stroke: #1f77b4; stroke-width: 1.5; stroke-linecap: square\"/>\n   </g>\n   <g id=\"line2d_50\">\n    <path d=\"M 49.633125 14.824092 \nL 69.163125 75.902365 \nL 88.693125 91.348134 \nL 108.223125 96.654565 \n\" clip-path=\"url(#pd4d2cdbadf)\" style=\"fill: none; stroke-dasharray: 5.55,2.4; stroke-dashoffset: 0; stroke: #ff7f0e; stroke-width: 1.5\"/>\n   </g>\n   <g id=\"line2d_51\">\n    <path d=\"M 49.633125 139.5 \nL 69.163125 117.209415 \nL 88.693125 112.265656 \n\" clip-path=\"url(#pd4d2cdbadf)\" style=\"fill: none; stroke-dasharray: 9.6,2.4,1.5,2.4; stroke-dashoffset: 0; stroke: #2ca02c; stroke-width: 1.5\"/>\n   </g>\n   <g id=\"line2d_52\">\n    <path d=\"M 34.954394 13.5 \nL 44.698573 14.054329 \nL 54.442752 17.161698 \nL 64.186931 44.714274 \nL 73.93111 70.529521 \nL 83.675289 78.799158 \nL 93.419468 83.155196 \nL 103.163647 86.718925 \n\" clip-path=\"url(#pd4d2cdbadf)\" style=\"fill: none; stroke: #1f77b4; stroke-width: 1.5; stroke-linecap: square\"/>\n   </g>\n   <g id=\"line2d_53\">\n    <path d=\"M 49.633125 14.824092 \nL 69.163125 75.902365 \nL 88.693125 91.348134 \nL 108.223125 96.654565 \n\" clip-path=\"url(#pd4d2cdbadf)\" style=\"fill: none; stroke-dasharray: 5.55,2.4; stroke-dashoffset: 0; stroke: #ff7f0e; stroke-width: 1.5\"/>\n   </g>\n   <g id=\"line2d_54\">\n    <path d=\"M 49.633125 139.5 \nL 69.163125 117.209415 \nL 88.693125 112.265656 \nL 108.223125 111.252448 \n\" clip-path=\"url(#pd4d2cdbadf)\" style=\"fill: none; stroke-dasharray: 9.6,2.4,1.5,2.4; stroke-dashoffset: 0; stroke: #2ca02c; stroke-width: 1.5\"/>\n   </g>\n   <g id=\"line2d_55\">\n    <path d=\"M 34.954394 13.5 \nL 44.698573 14.054329 \nL 54.442752 17.161698 \nL 64.186931 44.714274 \nL 73.93111 70.529521 \nL 83.675289 78.799158 \nL 93.419468 83.155196 \nL 103.163647 86.718925 \nL 112.907826 88.982047 \n\" clip-path=\"url(#pd4d2cdbadf)\" style=\"fill: none; stroke: #1f77b4; stroke-width: 1.5; stroke-linecap: square\"/>\n   </g>\n   <g id=\"line2d_56\">\n    <path d=\"M 49.633125 14.824092 \nL 69.163125 75.902365 \nL 88.693125 91.348134 \nL 108.223125 96.654565 \n\" clip-path=\"url(#pd4d2cdbadf)\" style=\"fill: none; stroke-dasharray: 5.55,2.4; stroke-dashoffset: 0; stroke: #ff7f0e; stroke-width: 1.5\"/>\n   </g>\n   <g id=\"line2d_57\">\n    <path d=\"M 49.633125 139.5 \nL 69.163125 117.209415 \nL 88.693125 112.265656 \nL 108.223125 111.252448 \n\" clip-path=\"url(#pd4d2cdbadf)\" style=\"fill: none; stroke-dasharray: 9.6,2.4,1.5,2.4; stroke-dashoffset: 0; stroke: #2ca02c; stroke-width: 1.5\"/>\n   </g>\n   <g id=\"line2d_58\">\n    <path d=\"M 34.954394 13.5 \nL 44.698573 14.054329 \nL 54.442752 17.161698 \nL 64.186931 44.714274 \nL 73.93111 70.529521 \nL 83.675289 78.799158 \nL 93.419468 83.155196 \nL 103.163647 86.718925 \nL 112.907826 88.982047 \nL 122.652006 92.27798 \n\" clip-path=\"url(#pd4d2cdbadf)\" style=\"fill: none; stroke: #1f77b4; stroke-width: 1.5; stroke-linecap: square\"/>\n   </g>\n   <g id=\"line2d_59\">\n    <path d=\"M 49.633125 14.824092 \nL 69.163125 75.902365 \nL 88.693125 91.348134 \nL 108.223125 96.654565 \n\" clip-path=\"url(#pd4d2cdbadf)\" style=\"fill: none; stroke-dasharray: 5.55,2.4; stroke-dashoffset: 0; stroke: #ff7f0e; stroke-width: 1.5\"/>\n   </g>\n   <g id=\"line2d_60\">\n    <path d=\"M 49.633125 139.5 \nL 69.163125 117.209415 \nL 88.693125 112.265656 \nL 108.223125 111.252448 \n\" clip-path=\"url(#pd4d2cdbadf)\" style=\"fill: none; stroke-dasharray: 9.6,2.4,1.5,2.4; stroke-dashoffset: 0; stroke: #2ca02c; stroke-width: 1.5\"/>\n   </g>\n   <g id=\"line2d_61\">\n    <path d=\"M 34.954394 13.5 \nL 44.698573 14.054329 \nL 54.442752 17.161698 \nL 64.186931 44.714274 \nL 73.93111 70.529521 \nL 83.675289 78.799158 \nL 93.419468 83.155196 \nL 103.163647 86.718925 \nL 112.907826 88.982047 \nL 122.652006 92.27798 \n\" clip-path=\"url(#pd4d2cdbadf)\" style=\"fill: none; stroke: #1f77b4; stroke-width: 1.5; stroke-linecap: square\"/>\n   </g>\n   <g id=\"line2d_62\">\n    <path d=\"M 49.633125 14.824092 \nL 69.163125 75.902365 \nL 88.693125 91.348134 \nL 108.223125 96.654565 \nL 127.753125 98.391026 \n\" clip-path=\"url(#pd4d2cdbadf)\" style=\"fill: none; stroke-dasharray: 5.55,2.4; stroke-dashoffset: 0; stroke: #ff7f0e; stroke-width: 1.5\"/>\n   </g>\n   <g id=\"line2d_63\">\n    <path d=\"M 49.633125 139.5 \nL 69.163125 117.209415 \nL 88.693125 112.265656 \nL 108.223125 111.252448 \n\" clip-path=\"url(#pd4d2cdbadf)\" style=\"fill: none; stroke-dasharray: 9.6,2.4,1.5,2.4; stroke-dashoffset: 0; stroke: #2ca02c; stroke-width: 1.5\"/>\n   </g>\n   <g id=\"line2d_64\">\n    <path d=\"M 34.954394 13.5 \nL 44.698573 14.054329 \nL 54.442752 17.161698 \nL 64.186931 44.714274 \nL 73.93111 70.529521 \nL 83.675289 78.799158 \nL 93.419468 83.155196 \nL 103.163647 86.718925 \nL 112.907826 88.982047 \nL 122.652006 92.27798 \n\" clip-path=\"url(#pd4d2cdbadf)\" style=\"fill: none; stroke: #1f77b4; stroke-width: 1.5; stroke-linecap: square\"/>\n   </g>\n   <g id=\"line2d_65\">\n    <path d=\"M 49.633125 14.824092 \nL 69.163125 75.902365 \nL 88.693125 91.348134 \nL 108.223125 96.654565 \nL 127.753125 98.391026 \n\" clip-path=\"url(#pd4d2cdbadf)\" style=\"fill: none; stroke-dasharray: 5.55,2.4; stroke-dashoffset: 0; stroke: #ff7f0e; stroke-width: 1.5\"/>\n   </g>\n   <g id=\"line2d_66\">\n    <path d=\"M 49.633125 139.5 \nL 69.163125 117.209415 \nL 88.693125 112.265656 \nL 108.223125 111.252448 \nL 127.753125 110.448869 \n\" clip-path=\"url(#pd4d2cdbadf)\" style=\"fill: none; stroke-dasharray: 9.6,2.4,1.5,2.4; stroke-dashoffset: 0; stroke: #2ca02c; stroke-width: 1.5\"/>\n   </g>\n   <g id=\"line2d_67\">\n    <path d=\"M 34.954394 13.5 \nL 44.698573 14.054329 \nL 54.442752 17.161698 \nL 64.186931 44.714274 \nL 73.93111 70.529521 \nL 83.675289 78.799158 \nL 93.419468 83.155196 \nL 103.163647 86.718925 \nL 112.907826 88.982047 \nL 122.652006 92.27798 \nL 132.396185 93.201674 \n\" clip-path=\"url(#pd4d2cdbadf)\" style=\"fill: none; stroke: #1f77b4; stroke-width: 1.5; stroke-linecap: square\"/>\n   </g>\n   <g id=\"line2d_68\">\n    <path d=\"M 49.633125 14.824092 \nL 69.163125 75.902365 \nL 88.693125 91.348134 \nL 108.223125 96.654565 \nL 127.753125 98.391026 \n\" clip-path=\"url(#pd4d2cdbadf)\" style=\"fill: none; stroke-dasharray: 5.55,2.4; stroke-dashoffset: 0; stroke: #ff7f0e; stroke-width: 1.5\"/>\n   </g>\n   <g id=\"line2d_69\">\n    <path d=\"M 49.633125 139.5 \nL 69.163125 117.209415 \nL 88.693125 112.265656 \nL 108.223125 111.252448 \nL 127.753125 110.448869 \n\" clip-path=\"url(#pd4d2cdbadf)\" style=\"fill: none; stroke-dasharray: 9.6,2.4,1.5,2.4; stroke-dashoffset: 0; stroke: #2ca02c; stroke-width: 1.5\"/>\n   </g>\n   <g id=\"line2d_70\">\n    <path d=\"M 34.954394 13.5 \nL 44.698573 14.054329 \nL 54.442752 17.161698 \nL 64.186931 44.714274 \nL 73.93111 70.529521 \nL 83.675289 78.799158 \nL 93.419468 83.155196 \nL 103.163647 86.718925 \nL 112.907826 88.982047 \nL 122.652006 92.27798 \nL 132.396185 93.201674 \nL 142.140364 95.034322 \n\" clip-path=\"url(#pd4d2cdbadf)\" style=\"fill: none; stroke: #1f77b4; stroke-width: 1.5; stroke-linecap: square\"/>\n   </g>\n   <g id=\"line2d_71\">\n    <path d=\"M 49.633125 14.824092 \nL 69.163125 75.902365 \nL 88.693125 91.348134 \nL 108.223125 96.654565 \nL 127.753125 98.391026 \n\" clip-path=\"url(#pd4d2cdbadf)\" style=\"fill: none; stroke-dasharray: 5.55,2.4; stroke-dashoffset: 0; stroke: #ff7f0e; stroke-width: 1.5\"/>\n   </g>\n   <g id=\"line2d_72\">\n    <path d=\"M 49.633125 139.5 \nL 69.163125 117.209415 \nL 88.693125 112.265656 \nL 108.223125 111.252448 \nL 127.753125 110.448869 \n\" clip-path=\"url(#pd4d2cdbadf)\" style=\"fill: none; stroke-dasharray: 9.6,2.4,1.5,2.4; stroke-dashoffset: 0; stroke: #2ca02c; stroke-width: 1.5\"/>\n   </g>\n   <g id=\"line2d_73\">\n    <path d=\"M 34.954394 13.5 \nL 44.698573 14.054329 \nL 54.442752 17.161698 \nL 64.186931 44.714274 \nL 73.93111 70.529521 \nL 83.675289 78.799158 \nL 93.419468 83.155196 \nL 103.163647 86.718925 \nL 112.907826 88.982047 \nL 122.652006 92.27798 \nL 132.396185 93.201674 \nL 142.140364 95.034322 \n\" clip-path=\"url(#pd4d2cdbadf)\" style=\"fill: none; stroke: #1f77b4; stroke-width: 1.5; stroke-linecap: square\"/>\n   </g>\n   <g id=\"line2d_74\">\n    <path d=\"M 49.633125 14.824092 \nL 69.163125 75.902365 \nL 88.693125 91.348134 \nL 108.223125 96.654565 \nL 127.753125 98.391026 \nL 147.283125 103.678495 \n\" clip-path=\"url(#pd4d2cdbadf)\" style=\"fill: none; stroke-dasharray: 5.55,2.4; stroke-dashoffset: 0; stroke: #ff7f0e; stroke-width: 1.5\"/>\n   </g>\n   <g id=\"line2d_75\">\n    <path d=\"M 49.633125 139.5 \nL 69.163125 117.209415 \nL 88.693125 112.265656 \nL 108.223125 111.252448 \nL 127.753125 110.448869 \n\" clip-path=\"url(#pd4d2cdbadf)\" style=\"fill: none; stroke-dasharray: 9.6,2.4,1.5,2.4; stroke-dashoffset: 0; stroke: #2ca02c; stroke-width: 1.5\"/>\n   </g>\n   <g id=\"line2d_76\">\n    <path d=\"M 34.954394 13.5 \nL 44.698573 14.054329 \nL 54.442752 17.161698 \nL 64.186931 44.714274 \nL 73.93111 70.529521 \nL 83.675289 78.799158 \nL 93.419468 83.155196 \nL 103.163647 86.718925 \nL 112.907826 88.982047 \nL 122.652006 92.27798 \nL 132.396185 93.201674 \nL 142.140364 95.034322 \n\" clip-path=\"url(#pd4d2cdbadf)\" style=\"fill: none; stroke: #1f77b4; stroke-width: 1.5; stroke-linecap: square\"/>\n   </g>\n   <g id=\"line2d_77\">\n    <path d=\"M 49.633125 14.824092 \nL 69.163125 75.902365 \nL 88.693125 91.348134 \nL 108.223125 96.654565 \nL 127.753125 98.391026 \nL 147.283125 103.678495 \n\" clip-path=\"url(#pd4d2cdbadf)\" style=\"fill: none; stroke-dasharray: 5.55,2.4; stroke-dashoffset: 0; stroke: #ff7f0e; stroke-width: 1.5\"/>\n   </g>\n   <g id=\"line2d_78\">\n    <path d=\"M 49.633125 139.5 \nL 69.163125 117.209415 \nL 88.693125 112.265656 \nL 108.223125 111.252448 \nL 127.753125 110.448869 \nL 147.283125 107.910025 \n\" clip-path=\"url(#pd4d2cdbadf)\" style=\"fill: none; stroke-dasharray: 9.6,2.4,1.5,2.4; stroke-dashoffset: 0; stroke: #2ca02c; stroke-width: 1.5\"/>\n   </g>\n   <g id=\"line2d_79\">\n    <path d=\"M 34.954394 13.5 \nL 44.698573 14.054329 \nL 54.442752 17.161698 \nL 64.186931 44.714274 \nL 73.93111 70.529521 \nL 83.675289 78.799158 \nL 93.419468 83.155196 \nL 103.163647 86.718925 \nL 112.907826 88.982047 \nL 122.652006 92.27798 \nL 132.396185 93.201674 \nL 142.140364 95.034322 \nL 151.884543 96.039959 \n\" clip-path=\"url(#pd4d2cdbadf)\" style=\"fill: none; stroke: #1f77b4; stroke-width: 1.5; stroke-linecap: square\"/>\n   </g>\n   <g id=\"line2d_80\">\n    <path d=\"M 49.633125 14.824092 \nL 69.163125 75.902365 \nL 88.693125 91.348134 \nL 108.223125 96.654565 \nL 127.753125 98.391026 \nL 147.283125 103.678495 \n\" clip-path=\"url(#pd4d2cdbadf)\" style=\"fill: none; stroke-dasharray: 5.55,2.4; stroke-dashoffset: 0; stroke: #ff7f0e; stroke-width: 1.5\"/>\n   </g>\n   <g id=\"line2d_81\">\n    <path d=\"M 49.633125 139.5 \nL 69.163125 117.209415 \nL 88.693125 112.265656 \nL 108.223125 111.252448 \nL 127.753125 110.448869 \nL 147.283125 107.910025 \n\" clip-path=\"url(#pd4d2cdbadf)\" style=\"fill: none; stroke-dasharray: 9.6,2.4,1.5,2.4; stroke-dashoffset: 0; stroke: #2ca02c; stroke-width: 1.5\"/>\n   </g>\n   <g id=\"line2d_82\">\n    <path d=\"M 34.954394 13.5 \nL 44.698573 14.054329 \nL 54.442752 17.161698 \nL 64.186931 44.714274 \nL 73.93111 70.529521 \nL 83.675289 78.799158 \nL 93.419468 83.155196 \nL 103.163647 86.718925 \nL 112.907826 88.982047 \nL 122.652006 92.27798 \nL 132.396185 93.201674 \nL 142.140364 95.034322 \nL 151.884543 96.039959 \nL 161.628722 96.818759 \n\" clip-path=\"url(#pd4d2cdbadf)\" style=\"fill: none; stroke: #1f77b4; stroke-width: 1.5; stroke-linecap: square\"/>\n   </g>\n   <g id=\"line2d_83\">\n    <path d=\"M 49.633125 14.824092 \nL 69.163125 75.902365 \nL 88.693125 91.348134 \nL 108.223125 96.654565 \nL 127.753125 98.391026 \nL 147.283125 103.678495 \n\" clip-path=\"url(#pd4d2cdbadf)\" style=\"fill: none; stroke-dasharray: 5.55,2.4; stroke-dashoffset: 0; stroke: #ff7f0e; stroke-width: 1.5\"/>\n   </g>\n   <g id=\"line2d_84\">\n    <path d=\"M 49.633125 139.5 \nL 69.163125 117.209415 \nL 88.693125 112.265656 \nL 108.223125 111.252448 \nL 127.753125 110.448869 \nL 147.283125 107.910025 \n\" clip-path=\"url(#pd4d2cdbadf)\" style=\"fill: none; stroke-dasharray: 9.6,2.4,1.5,2.4; stroke-dashoffset: 0; stroke: #2ca02c; stroke-width: 1.5\"/>\n   </g>\n   <g id=\"line2d_85\">\n    <path d=\"M 34.954394 13.5 \nL 44.698573 14.054329 \nL 54.442752 17.161698 \nL 64.186931 44.714274 \nL 73.93111 70.529521 \nL 83.675289 78.799158 \nL 93.419468 83.155196 \nL 103.163647 86.718925 \nL 112.907826 88.982047 \nL 122.652006 92.27798 \nL 132.396185 93.201674 \nL 142.140364 95.034322 \nL 151.884543 96.039959 \nL 161.628722 96.818759 \n\" clip-path=\"url(#pd4d2cdbadf)\" style=\"fill: none; stroke: #1f77b4; stroke-width: 1.5; stroke-linecap: square\"/>\n   </g>\n   <g id=\"line2d_86\">\n    <path d=\"M 49.633125 14.824092 \nL 69.163125 75.902365 \nL 88.693125 91.348134 \nL 108.223125 96.654565 \nL 127.753125 98.391026 \nL 147.283125 103.678495 \nL 166.813125 104.83811 \n\" clip-path=\"url(#pd4d2cdbadf)\" style=\"fill: none; stroke-dasharray: 5.55,2.4; stroke-dashoffset: 0; stroke: #ff7f0e; stroke-width: 1.5\"/>\n   </g>\n   <g id=\"line2d_87\">\n    <path d=\"M 49.633125 139.5 \nL 69.163125 117.209415 \nL 88.693125 112.265656 \nL 108.223125 111.252448 \nL 127.753125 110.448869 \nL 147.283125 107.910025 \n\" clip-path=\"url(#pd4d2cdbadf)\" style=\"fill: none; stroke-dasharray: 9.6,2.4,1.5,2.4; stroke-dashoffset: 0; stroke: #2ca02c; stroke-width: 1.5\"/>\n   </g>\n   <g id=\"line2d_88\">\n    <path d=\"M 34.954394 13.5 \nL 44.698573 14.054329 \nL 54.442752 17.161698 \nL 64.186931 44.714274 \nL 73.93111 70.529521 \nL 83.675289 78.799158 \nL 93.419468 83.155196 \nL 103.163647 86.718925 \nL 112.907826 88.982047 \nL 122.652006 92.27798 \nL 132.396185 93.201674 \nL 142.140364 95.034322 \nL 151.884543 96.039959 \nL 161.628722 96.818759 \n\" clip-path=\"url(#pd4d2cdbadf)\" style=\"fill: none; stroke: #1f77b4; stroke-width: 1.5; stroke-linecap: square\"/>\n   </g>\n   <g id=\"line2d_89\">\n    <path d=\"M 49.633125 14.824092 \nL 69.163125 75.902365 \nL 88.693125 91.348134 \nL 108.223125 96.654565 \nL 127.753125 98.391026 \nL 147.283125 103.678495 \nL 166.813125 104.83811 \n\" clip-path=\"url(#pd4d2cdbadf)\" style=\"fill: none; stroke-dasharray: 5.55,2.4; stroke-dashoffset: 0; stroke: #ff7f0e; stroke-width: 1.5\"/>\n   </g>\n   <g id=\"line2d_90\">\n    <path d=\"M 49.633125 139.5 \nL 69.163125 117.209415 \nL 88.693125 112.265656 \nL 108.223125 111.252448 \nL 127.753125 110.448869 \nL 147.283125 107.910025 \nL 166.813125 107.374305 \n\" clip-path=\"url(#pd4d2cdbadf)\" style=\"fill: none; stroke-dasharray: 9.6,2.4,1.5,2.4; stroke-dashoffset: 0; stroke: #2ca02c; stroke-width: 1.5\"/>\n   </g>\n   <g id=\"line2d_91\">\n    <path d=\"M 34.954394 13.5 \nL 44.698573 14.054329 \nL 54.442752 17.161698 \nL 64.186931 44.714274 \nL 73.93111 70.529521 \nL 83.675289 78.799158 \nL 93.419468 83.155196 \nL 103.163647 86.718925 \nL 112.907826 88.982047 \nL 122.652006 92.27798 \nL 132.396185 93.201674 \nL 142.140364 95.034322 \nL 151.884543 96.039959 \nL 161.628722 96.818759 \nL 171.372901 97.965253 \n\" clip-path=\"url(#pd4d2cdbadf)\" style=\"fill: none; stroke: #1f77b4; stroke-width: 1.5; stroke-linecap: square\"/>\n   </g>\n   <g id=\"line2d_92\">\n    <path d=\"M 49.633125 14.824092 \nL 69.163125 75.902365 \nL 88.693125 91.348134 \nL 108.223125 96.654565 \nL 127.753125 98.391026 \nL 147.283125 103.678495 \nL 166.813125 104.83811 \n\" clip-path=\"url(#pd4d2cdbadf)\" style=\"fill: none; stroke-dasharray: 5.55,2.4; stroke-dashoffset: 0; stroke: #ff7f0e; stroke-width: 1.5\"/>\n   </g>\n   <g id=\"line2d_93\">\n    <path d=\"M 49.633125 139.5 \nL 69.163125 117.209415 \nL 88.693125 112.265656 \nL 108.223125 111.252448 \nL 127.753125 110.448869 \nL 147.283125 107.910025 \nL 166.813125 107.374305 \n\" clip-path=\"url(#pd4d2cdbadf)\" style=\"fill: none; stroke-dasharray: 9.6,2.4,1.5,2.4; stroke-dashoffset: 0; stroke: #2ca02c; stroke-width: 1.5\"/>\n   </g>\n   <g id=\"line2d_94\">\n    <path d=\"M 34.954394 13.5 \nL 44.698573 14.054329 \nL 54.442752 17.161698 \nL 64.186931 44.714274 \nL 73.93111 70.529521 \nL 83.675289 78.799158 \nL 93.419468 83.155196 \nL 103.163647 86.718925 \nL 112.907826 88.982047 \nL 122.652006 92.27798 \nL 132.396185 93.201674 \nL 142.140364 95.034322 \nL 151.884543 96.039959 \nL 161.628722 96.818759 \nL 171.372901 97.965253 \nL 181.11708 98.94862 \n\" clip-path=\"url(#pd4d2cdbadf)\" style=\"fill: none; stroke: #1f77b4; stroke-width: 1.5; stroke-linecap: square\"/>\n   </g>\n   <g id=\"line2d_95\">\n    <path d=\"M 49.633125 14.824092 \nL 69.163125 75.902365 \nL 88.693125 91.348134 \nL 108.223125 96.654565 \nL 127.753125 98.391026 \nL 147.283125 103.678495 \nL 166.813125 104.83811 \n\" clip-path=\"url(#pd4d2cdbadf)\" style=\"fill: none; stroke-dasharray: 5.55,2.4; stroke-dashoffset: 0; stroke: #ff7f0e; stroke-width: 1.5\"/>\n   </g>\n   <g id=\"line2d_96\">\n    <path d=\"M 49.633125 139.5 \nL 69.163125 117.209415 \nL 88.693125 112.265656 \nL 108.223125 111.252448 \nL 127.753125 110.448869 \nL 147.283125 107.910025 \nL 166.813125 107.374305 \n\" clip-path=\"url(#pd4d2cdbadf)\" style=\"fill: none; stroke-dasharray: 9.6,2.4,1.5,2.4; stroke-dashoffset: 0; stroke: #2ca02c; stroke-width: 1.5\"/>\n   </g>\n   <g id=\"line2d_97\">\n    <path d=\"M 34.954394 13.5 \nL 44.698573 14.054329 \nL 54.442752 17.161698 \nL 64.186931 44.714274 \nL 73.93111 70.529521 \nL 83.675289 78.799158 \nL 93.419468 83.155196 \nL 103.163647 86.718925 \nL 112.907826 88.982047 \nL 122.652006 92.27798 \nL 132.396185 93.201674 \nL 142.140364 95.034322 \nL 151.884543 96.039959 \nL 161.628722 96.818759 \nL 171.372901 97.965253 \nL 181.11708 98.94862 \n\" clip-path=\"url(#pd4d2cdbadf)\" style=\"fill: none; stroke: #1f77b4; stroke-width: 1.5; stroke-linecap: square\"/>\n   </g>\n   <g id=\"line2d_98\">\n    <path d=\"M 49.633125 14.824092 \nL 69.163125 75.902365 \nL 88.693125 91.348134 \nL 108.223125 96.654565 \nL 127.753125 98.391026 \nL 147.283125 103.678495 \nL 166.813125 104.83811 \nL 186.343125 106.328055 \n\" clip-path=\"url(#pd4d2cdbadf)\" style=\"fill: none; stroke-dasharray: 5.55,2.4; stroke-dashoffset: 0; stroke: #ff7f0e; stroke-width: 1.5\"/>\n   </g>\n   <g id=\"line2d_99\">\n    <path d=\"M 49.633125 139.5 \nL 69.163125 117.209415 \nL 88.693125 112.265656 \nL 108.223125 111.252448 \nL 127.753125 110.448869 \nL 147.283125 107.910025 \nL 166.813125 107.374305 \n\" clip-path=\"url(#pd4d2cdbadf)\" style=\"fill: none; stroke-dasharray: 9.6,2.4,1.5,2.4; stroke-dashoffset: 0; stroke: #2ca02c; stroke-width: 1.5\"/>\n   </g>\n   <g id=\"line2d_100\">\n    <path d=\"M 34.954394 13.5 \nL 44.698573 14.054329 \nL 54.442752 17.161698 \nL 64.186931 44.714274 \nL 73.93111 70.529521 \nL 83.675289 78.799158 \nL 93.419468 83.155196 \nL 103.163647 86.718925 \nL 112.907826 88.982047 \nL 122.652006 92.27798 \nL 132.396185 93.201674 \nL 142.140364 95.034322 \nL 151.884543 96.039959 \nL 161.628722 96.818759 \nL 171.372901 97.965253 \nL 181.11708 98.94862 \n\" clip-path=\"url(#pd4d2cdbadf)\" style=\"fill: none; stroke: #1f77b4; stroke-width: 1.5; stroke-linecap: square\"/>\n   </g>\n   <g id=\"line2d_101\">\n    <path d=\"M 49.633125 14.824092 \nL 69.163125 75.902365 \nL 88.693125 91.348134 \nL 108.223125 96.654565 \nL 127.753125 98.391026 \nL 147.283125 103.678495 \nL 166.813125 104.83811 \nL 186.343125 106.328055 \n\" clip-path=\"url(#pd4d2cdbadf)\" style=\"fill: none; stroke-dasharray: 5.55,2.4; stroke-dashoffset: 0; stroke: #ff7f0e; stroke-width: 1.5\"/>\n   </g>\n   <g id=\"line2d_102\">\n    <path d=\"M 49.633125 139.5 \nL 69.163125 117.209415 \nL 88.693125 112.265656 \nL 108.223125 111.252448 \nL 127.753125 110.448869 \nL 147.283125 107.910025 \nL 166.813125 107.374305 \nL 186.343125 106.69301 \n\" clip-path=\"url(#pd4d2cdbadf)\" style=\"fill: none; stroke-dasharray: 9.6,2.4,1.5,2.4; stroke-dashoffset: 0; stroke: #2ca02c; stroke-width: 1.5\"/>\n   </g>\n   <g id=\"line2d_103\">\n    <path d=\"M 34.954394 13.5 \nL 44.698573 14.054329 \nL 54.442752 17.161698 \nL 64.186931 44.714274 \nL 73.93111 70.529521 \nL 83.675289 78.799158 \nL 93.419468 83.155196 \nL 103.163647 86.718925 \nL 112.907826 88.982047 \nL 122.652006 92.27798 \nL 132.396185 93.201674 \nL 142.140364 95.034322 \nL 151.884543 96.039959 \nL 161.628722 96.818759 \nL 171.372901 97.965253 \nL 181.11708 98.94862 \nL 190.861259 99.62117 \n\" clip-path=\"url(#pd4d2cdbadf)\" style=\"fill: none; stroke: #1f77b4; stroke-width: 1.5; stroke-linecap: square\"/>\n   </g>\n   <g id=\"line2d_104\">\n    <path d=\"M 49.633125 14.824092 \nL 69.163125 75.902365 \nL 88.693125 91.348134 \nL 108.223125 96.654565 \nL 127.753125 98.391026 \nL 147.283125 103.678495 \nL 166.813125 104.83811 \nL 186.343125 106.328055 \n\" clip-path=\"url(#pd4d2cdbadf)\" style=\"fill: none; stroke-dasharray: 5.55,2.4; stroke-dashoffset: 0; stroke: #ff7f0e; stroke-width: 1.5\"/>\n   </g>\n   <g id=\"line2d_105\">\n    <path d=\"M 49.633125 139.5 \nL 69.163125 117.209415 \nL 88.693125 112.265656 \nL 108.223125 111.252448 \nL 127.753125 110.448869 \nL 147.283125 107.910025 \nL 166.813125 107.374305 \nL 186.343125 106.69301 \n\" clip-path=\"url(#pd4d2cdbadf)\" style=\"fill: none; stroke-dasharray: 9.6,2.4,1.5,2.4; stroke-dashoffset: 0; stroke: #2ca02c; stroke-width: 1.5\"/>\n   </g>\n   <g id=\"line2d_106\">\n    <path d=\"M 34.954394 13.5 \nL 44.698573 14.054329 \nL 54.442752 17.161698 \nL 64.186931 44.714274 \nL 73.93111 70.529521 \nL 83.675289 78.799158 \nL 93.419468 83.155196 \nL 103.163647 86.718925 \nL 112.907826 88.982047 \nL 122.652006 92.27798 \nL 132.396185 93.201674 \nL 142.140364 95.034322 \nL 151.884543 96.039959 \nL 161.628722 96.818759 \nL 171.372901 97.965253 \nL 181.11708 98.94862 \nL 190.861259 99.62117 \nL 200.605438 99.965616 \n\" clip-path=\"url(#pd4d2cdbadf)\" style=\"fill: none; stroke: #1f77b4; stroke-width: 1.5; stroke-linecap: square\"/>\n   </g>\n   <g id=\"line2d_107\">\n    <path d=\"M 49.633125 14.824092 \nL 69.163125 75.902365 \nL 88.693125 91.348134 \nL 108.223125 96.654565 \nL 127.753125 98.391026 \nL 147.283125 103.678495 \nL 166.813125 104.83811 \nL 186.343125 106.328055 \n\" clip-path=\"url(#pd4d2cdbadf)\" style=\"fill: none; stroke-dasharray: 5.55,2.4; stroke-dashoffset: 0; stroke: #ff7f0e; stroke-width: 1.5\"/>\n   </g>\n   <g id=\"line2d_108\">\n    <path d=\"M 49.633125 139.5 \nL 69.163125 117.209415 \nL 88.693125 112.265656 \nL 108.223125 111.252448 \nL 127.753125 110.448869 \nL 147.283125 107.910025 \nL 166.813125 107.374305 \nL 186.343125 106.69301 \n\" clip-path=\"url(#pd4d2cdbadf)\" style=\"fill: none; stroke-dasharray: 9.6,2.4,1.5,2.4; stroke-dashoffset: 0; stroke: #2ca02c; stroke-width: 1.5\"/>\n   </g>\n   <g id=\"line2d_109\">\n    <path d=\"M 34.954394 13.5 \nL 44.698573 14.054329 \nL 54.442752 17.161698 \nL 64.186931 44.714274 \nL 73.93111 70.529521 \nL 83.675289 78.799158 \nL 93.419468 83.155196 \nL 103.163647 86.718925 \nL 112.907826 88.982047 \nL 122.652006 92.27798 \nL 132.396185 93.201674 \nL 142.140364 95.034322 \nL 151.884543 96.039959 \nL 161.628722 96.818759 \nL 171.372901 97.965253 \nL 181.11708 98.94862 \nL 190.861259 99.62117 \nL 200.605438 99.965616 \n\" clip-path=\"url(#pd4d2cdbadf)\" style=\"fill: none; stroke: #1f77b4; stroke-width: 1.5; stroke-linecap: square\"/>\n   </g>\n   <g id=\"line2d_110\">\n    <path d=\"M 49.633125 14.824092 \nL 69.163125 75.902365 \nL 88.693125 91.348134 \nL 108.223125 96.654565 \nL 127.753125 98.391026 \nL 147.283125 103.678495 \nL 166.813125 104.83811 \nL 186.343125 106.328055 \nL 205.873125 107.102417 \n\" clip-path=\"url(#pd4d2cdbadf)\" style=\"fill: none; stroke-dasharray: 5.55,2.4; stroke-dashoffset: 0; stroke: #ff7f0e; stroke-width: 1.5\"/>\n   </g>\n   <g id=\"line2d_111\">\n    <path d=\"M 49.633125 139.5 \nL 69.163125 117.209415 \nL 88.693125 112.265656 \nL 108.223125 111.252448 \nL 127.753125 110.448869 \nL 147.283125 107.910025 \nL 166.813125 107.374305 \nL 186.343125 106.69301 \n\" clip-path=\"url(#pd4d2cdbadf)\" style=\"fill: none; stroke-dasharray: 9.6,2.4,1.5,2.4; stroke-dashoffset: 0; stroke: #2ca02c; stroke-width: 1.5\"/>\n   </g>\n   <g id=\"line2d_112\">\n    <path d=\"M 34.954394 13.5 \nL 44.698573 14.054329 \nL 54.442752 17.161698 \nL 64.186931 44.714274 \nL 73.93111 70.529521 \nL 83.675289 78.799158 \nL 93.419468 83.155196 \nL 103.163647 86.718925 \nL 112.907826 88.982047 \nL 122.652006 92.27798 \nL 132.396185 93.201674 \nL 142.140364 95.034322 \nL 151.884543 96.039959 \nL 161.628722 96.818759 \nL 171.372901 97.965253 \nL 181.11708 98.94862 \nL 190.861259 99.62117 \nL 200.605438 99.965616 \n\" clip-path=\"url(#pd4d2cdbadf)\" style=\"fill: none; stroke: #1f77b4; stroke-width: 1.5; stroke-linecap: square\"/>\n   </g>\n   <g id=\"line2d_113\">\n    <path d=\"M 49.633125 14.824092 \nL 69.163125 75.902365 \nL 88.693125 91.348134 \nL 108.223125 96.654565 \nL 127.753125 98.391026 \nL 147.283125 103.678495 \nL 166.813125 104.83811 \nL 186.343125 106.328055 \nL 205.873125 107.102417 \n\" clip-path=\"url(#pd4d2cdbadf)\" style=\"fill: none; stroke-dasharray: 5.55,2.4; stroke-dashoffset: 0; stroke: #ff7f0e; stroke-width: 1.5\"/>\n   </g>\n   <g id=\"line2d_114\">\n    <path d=\"M 49.633125 139.5 \nL 69.163125 117.209415 \nL 88.693125 112.265656 \nL 108.223125 111.252448 \nL 127.753125 110.448869 \nL 147.283125 107.910025 \nL 166.813125 107.374305 \nL 186.343125 106.69301 \nL 205.873125 106.430973 \n\" clip-path=\"url(#pd4d2cdbadf)\" style=\"fill: none; stroke-dasharray: 9.6,2.4,1.5,2.4; stroke-dashoffset: 0; stroke: #2ca02c; stroke-width: 1.5\"/>\n   </g>\n   <g id=\"line2d_115\">\n    <path d=\"M 34.954394 13.5 \nL 44.698573 14.054329 \nL 54.442752 17.161698 \nL 64.186931 44.714274 \nL 73.93111 70.529521 \nL 83.675289 78.799158 \nL 93.419468 83.155196 \nL 103.163647 86.718925 \nL 112.907826 88.982047 \nL 122.652006 92.27798 \nL 132.396185 93.201674 \nL 142.140364 95.034322 \nL 151.884543 96.039959 \nL 161.628722 96.818759 \nL 171.372901 97.965253 \nL 181.11708 98.94862 \nL 190.861259 99.62117 \nL 200.605438 99.965616 \nL 210.349618 101.139473 \n\" clip-path=\"url(#pd4d2cdbadf)\" style=\"fill: none; stroke: #1f77b4; stroke-width: 1.5; stroke-linecap: square\"/>\n   </g>\n   <g id=\"line2d_116\">\n    <path d=\"M 49.633125 14.824092 \nL 69.163125 75.902365 \nL 88.693125 91.348134 \nL 108.223125 96.654565 \nL 127.753125 98.391026 \nL 147.283125 103.678495 \nL 166.813125 104.83811 \nL 186.343125 106.328055 \nL 205.873125 107.102417 \n\" clip-path=\"url(#pd4d2cdbadf)\" style=\"fill: none; stroke-dasharray: 5.55,2.4; stroke-dashoffset: 0; stroke: #ff7f0e; stroke-width: 1.5\"/>\n   </g>\n   <g id=\"line2d_117\">\n    <path d=\"M 49.633125 139.5 \nL 69.163125 117.209415 \nL 88.693125 112.265656 \nL 108.223125 111.252448 \nL 127.753125 110.448869 \nL 147.283125 107.910025 \nL 166.813125 107.374305 \nL 186.343125 106.69301 \nL 205.873125 106.430973 \n\" clip-path=\"url(#pd4d2cdbadf)\" style=\"fill: none; stroke-dasharray: 9.6,2.4,1.5,2.4; stroke-dashoffset: 0; stroke: #2ca02c; stroke-width: 1.5\"/>\n   </g>\n   <g id=\"line2d_118\">\n    <path d=\"M 34.954394 13.5 \nL 44.698573 14.054329 \nL 54.442752 17.161698 \nL 64.186931 44.714274 \nL 73.93111 70.529521 \nL 83.675289 78.799158 \nL 93.419468 83.155196 \nL 103.163647 86.718925 \nL 112.907826 88.982047 \nL 122.652006 92.27798 \nL 132.396185 93.201674 \nL 142.140364 95.034322 \nL 151.884543 96.039959 \nL 161.628722 96.818759 \nL 171.372901 97.965253 \nL 181.11708 98.94862 \nL 190.861259 99.62117 \nL 200.605438 99.965616 \nL 210.349618 101.139473 \nL 220.093797 101.822783 \n\" clip-path=\"url(#pd4d2cdbadf)\" style=\"fill: none; stroke: #1f77b4; stroke-width: 1.5; stroke-linecap: square\"/>\n   </g>\n   <g id=\"line2d_119\">\n    <path d=\"M 49.633125 14.824092 \nL 69.163125 75.902365 \nL 88.693125 91.348134 \nL 108.223125 96.654565 \nL 127.753125 98.391026 \nL 147.283125 103.678495 \nL 166.813125 104.83811 \nL 186.343125 106.328055 \nL 205.873125 107.102417 \n\" clip-path=\"url(#pd4d2cdbadf)\" style=\"fill: none; stroke-dasharray: 5.55,2.4; stroke-dashoffset: 0; stroke: #ff7f0e; stroke-width: 1.5\"/>\n   </g>\n   <g id=\"line2d_120\">\n    <path d=\"M 49.633125 139.5 \nL 69.163125 117.209415 \nL 88.693125 112.265656 \nL 108.223125 111.252448 \nL 127.753125 110.448869 \nL 147.283125 107.910025 \nL 166.813125 107.374305 \nL 186.343125 106.69301 \nL 205.873125 106.430973 \n\" clip-path=\"url(#pd4d2cdbadf)\" style=\"fill: none; stroke-dasharray: 9.6,2.4,1.5,2.4; stroke-dashoffset: 0; stroke: #2ca02c; stroke-width: 1.5\"/>\n   </g>\n   <g id=\"line2d_121\">\n    <path d=\"M 34.954394 13.5 \nL 44.698573 14.054329 \nL 54.442752 17.161698 \nL 64.186931 44.714274 \nL 73.93111 70.529521 \nL 83.675289 78.799158 \nL 93.419468 83.155196 \nL 103.163647 86.718925 \nL 112.907826 88.982047 \nL 122.652006 92.27798 \nL 132.396185 93.201674 \nL 142.140364 95.034322 \nL 151.884543 96.039959 \nL 161.628722 96.818759 \nL 171.372901 97.965253 \nL 181.11708 98.94862 \nL 190.861259 99.62117 \nL 200.605438 99.965616 \nL 210.349618 101.139473 \nL 220.093797 101.822783 \n\" clip-path=\"url(#pd4d2cdbadf)\" style=\"fill: none; stroke: #1f77b4; stroke-width: 1.5; stroke-linecap: square\"/>\n   </g>\n   <g id=\"line2d_122\">\n    <path d=\"M 49.633125 14.824092 \nL 69.163125 75.902365 \nL 88.693125 91.348134 \nL 108.223125 96.654565 \nL 127.753125 98.391026 \nL 147.283125 103.678495 \nL 166.813125 104.83811 \nL 186.343125 106.328055 \nL 205.873125 107.102417 \nL 225.403125 108.122657 \n\" clip-path=\"url(#pd4d2cdbadf)\" style=\"fill: none; stroke-dasharray: 5.55,2.4; stroke-dashoffset: 0; stroke: #ff7f0e; stroke-width: 1.5\"/>\n   </g>\n   <g id=\"line2d_123\">\n    <path d=\"M 49.633125 139.5 \nL 69.163125 117.209415 \nL 88.693125 112.265656 \nL 108.223125 111.252448 \nL 127.753125 110.448869 \nL 147.283125 107.910025 \nL 166.813125 107.374305 \nL 186.343125 106.69301 \nL 205.873125 106.430973 \n\" clip-path=\"url(#pd4d2cdbadf)\" style=\"fill: none; stroke-dasharray: 9.6,2.4,1.5,2.4; stroke-dashoffset: 0; stroke: #2ca02c; stroke-width: 1.5\"/>\n   </g>\n   <g id=\"line2d_124\">\n    <path d=\"M 34.954394 13.5 \nL 44.698573 14.054329 \nL 54.442752 17.161698 \nL 64.186931 44.714274 \nL 73.93111 70.529521 \nL 83.675289 78.799158 \nL 93.419468 83.155196 \nL 103.163647 86.718925 \nL 112.907826 88.982047 \nL 122.652006 92.27798 \nL 132.396185 93.201674 \nL 142.140364 95.034322 \nL 151.884543 96.039959 \nL 161.628722 96.818759 \nL 171.372901 97.965253 \nL 181.11708 98.94862 \nL 190.861259 99.62117 \nL 200.605438 99.965616 \nL 210.349618 101.139473 \nL 220.093797 101.822783 \n\" clip-path=\"url(#pd4d2cdbadf)\" style=\"fill: none; stroke: #1f77b4; stroke-width: 1.5; stroke-linecap: square\"/>\n   </g>\n   <g id=\"line2d_125\">\n    <path d=\"M 49.633125 14.824092 \nL 69.163125 75.902365 \nL 88.693125 91.348134 \nL 108.223125 96.654565 \nL 127.753125 98.391026 \nL 147.283125 103.678495 \nL 166.813125 104.83811 \nL 186.343125 106.328055 \nL 205.873125 107.102417 \nL 225.403125 108.122657 \n\" clip-path=\"url(#pd4d2cdbadf)\" style=\"fill: none; stroke-dasharray: 5.55,2.4; stroke-dashoffset: 0; stroke: #ff7f0e; stroke-width: 1.5\"/>\n   </g>\n   <g id=\"line2d_126\">\n    <path d=\"M 49.633125 139.5 \nL 69.163125 117.209415 \nL 88.693125 112.265656 \nL 108.223125 111.252448 \nL 127.753125 110.448869 \nL 147.283125 107.910025 \nL 166.813125 107.374305 \nL 186.343125 106.69301 \nL 205.873125 106.430973 \nL 225.403125 106.180583 \n\" clip-path=\"url(#pd4d2cdbadf)\" style=\"fill: none; stroke-dasharray: 9.6,2.4,1.5,2.4; stroke-dashoffset: 0; stroke: #2ca02c; stroke-width: 1.5\"/>\n   </g>\n   <g id=\"patch_3\">\n    <path d=\"M 30.103125 145.8 \nL 30.103125 7.2 \n\" style=\"fill: none; stroke: #000000; stroke-width: 0.8; stroke-linejoin: miter; stroke-linecap: square\"/>\n   </g>\n   <g id=\"patch_4\">\n    <path d=\"M 225.403125 145.8 \nL 225.403125 7.2 \n\" style=\"fill: none; stroke: #000000; stroke-width: 0.8; stroke-linejoin: miter; stroke-linecap: square\"/>\n   </g>\n   <g id=\"patch_5\">\n    <path d=\"M 30.103125 145.8 \nL 225.403125 145.8 \n\" style=\"fill: none; stroke: #000000; stroke-width: 0.8; stroke-linejoin: miter; stroke-linecap: square\"/>\n   </g>\n   <g id=\"patch_6\">\n    <path d=\"M 30.103125 7.2 \nL 225.403125 7.2 \n\" style=\"fill: none; stroke: #000000; stroke-width: 0.8; stroke-linejoin: miter; stroke-linecap: square\"/>\n   </g>\n   <g id=\"legend_1\">\n    <g id=\"patch_7\">\n     <path d=\"M 138.8125 60.06875 \nL 218.403125 60.06875 \nQ 220.403125 60.06875 220.403125 58.06875 \nL 220.403125 14.2 \nQ 220.403125 12.2 218.403125 12.2 \nL 138.8125 12.2 \nQ 136.8125 12.2 136.8125 14.2 \nL 136.8125 58.06875 \nQ 136.8125 60.06875 138.8125 60.06875 \nz\n\" style=\"fill: #ffffff; opacity: 0.8; stroke: #cccccc; stroke-linejoin: miter\"/>\n    </g>\n    <g id=\"line2d_127\">\n     <path d=\"M 140.8125 20.298438 \nL 150.8125 20.298438 \nL 160.8125 20.298438 \n\" style=\"fill: none; stroke: #1f77b4; stroke-width: 1.5; stroke-linecap: square\"/>\n    </g>\n    <g id=\"text_12\">\n     <!-- train_loss -->\n     <g transform=\"translate(168.8125 23.798438) scale(0.1 -0.1)\">\n      <defs>\n       <path id=\"DejaVuSans-74\" d=\"M 1172 4494 \nL 1172 3500 \nL 2356 3500 \nL 2356 3053 \nL 1172 3053 \nL 1172 1153 \nQ 1172 725 1289 603 \nQ 1406 481 1766 481 \nL 2356 481 \nL 2356 0 \nL 1766 0 \nQ 1100 0 847 248 \nQ 594 497 594 1153 \nL 594 3053 \nL 172 3053 \nL 172 3500 \nL 594 3500 \nL 594 4494 \nL 1172 4494 \nz\n\" transform=\"scale(0.015625)\"/>\n       <path id=\"DejaVuSans-72\" d=\"M 2631 2963 \nQ 2534 3019 2420 3045 \nQ 2306 3072 2169 3072 \nQ 1681 3072 1420 2755 \nQ 1159 2438 1159 1844 \nL 1159 0 \nL 581 0 \nL 581 3500 \nL 1159 3500 \nL 1159 2956 \nQ 1341 3275 1631 3429 \nQ 1922 3584 2338 3584 \nQ 2397 3584 2469 3576 \nQ 2541 3569 2628 3553 \nL 2631 2963 \nz\n\" transform=\"scale(0.015625)\"/>\n       <path id=\"DejaVuSans-61\" d=\"M 2194 1759 \nQ 1497 1759 1228 1600 \nQ 959 1441 959 1056 \nQ 959 750 1161 570 \nQ 1363 391 1709 391 \nQ 2188 391 2477 730 \nQ 2766 1069 2766 1631 \nL 2766 1759 \nL 2194 1759 \nz\nM 3341 1997 \nL 3341 0 \nL 2766 0 \nL 2766 531 \nQ 2569 213 2275 61 \nQ 1981 -91 1556 -91 \nQ 1019 -91 701 211 \nQ 384 513 384 1019 \nQ 384 1609 779 1909 \nQ 1175 2209 1959 2209 \nL 2766 2209 \nL 2766 2266 \nQ 2766 2663 2505 2880 \nQ 2244 3097 1772 3097 \nQ 1472 3097 1187 3025 \nQ 903 2953 641 2809 \nL 641 3341 \nQ 956 3463 1253 3523 \nQ 1550 3584 1831 3584 \nQ 2591 3584 2966 3190 \nQ 3341 2797 3341 1997 \nz\n\" transform=\"scale(0.015625)\"/>\n       <path id=\"DejaVuSans-69\" d=\"M 603 3500 \nL 1178 3500 \nL 1178 0 \nL 603 0 \nL 603 3500 \nz\nM 603 4863 \nL 1178 4863 \nL 1178 4134 \nL 603 4134 \nL 603 4863 \nz\n\" transform=\"scale(0.015625)\"/>\n       <path id=\"DejaVuSans-6e\" d=\"M 3513 2113 \nL 3513 0 \nL 2938 0 \nL 2938 2094 \nQ 2938 2591 2744 2837 \nQ 2550 3084 2163 3084 \nQ 1697 3084 1428 2787 \nQ 1159 2491 1159 1978 \nL 1159 0 \nL 581 0 \nL 581 3500 \nL 1159 3500 \nL 1159 2956 \nQ 1366 3272 1645 3428 \nQ 1925 3584 2291 3584 \nQ 2894 3584 3203 3211 \nQ 3513 2838 3513 2113 \nz\n\" transform=\"scale(0.015625)\"/>\n       <path id=\"DejaVuSans-5f\" d=\"M 3263 -1063 \nL 3263 -1509 \nL -63 -1509 \nL -63 -1063 \nL 3263 -1063 \nz\n\" transform=\"scale(0.015625)\"/>\n       <path id=\"DejaVuSans-6c\" d=\"M 603 4863 \nL 1178 4863 \nL 1178 0 \nL 603 0 \nL 603 4863 \nz\n\" transform=\"scale(0.015625)\"/>\n       <path id=\"DejaVuSans-73\" d=\"M 2834 3397 \nL 2834 2853 \nQ 2591 2978 2328 3040 \nQ 2066 3103 1784 3103 \nQ 1356 3103 1142 2972 \nQ 928 2841 928 2578 \nQ 928 2378 1081 2264 \nQ 1234 2150 1697 2047 \nL 1894 2003 \nQ 2506 1872 2764 1633 \nQ 3022 1394 3022 966 \nQ 3022 478 2636 193 \nQ 2250 -91 1575 -91 \nQ 1294 -91 989 -36 \nQ 684 19 347 128 \nL 347 722 \nQ 666 556 975 473 \nQ 1284 391 1588 391 \nQ 1994 391 2212 530 \nQ 2431 669 2431 922 \nQ 2431 1156 2273 1281 \nQ 2116 1406 1581 1522 \nL 1381 1569 \nQ 847 1681 609 1914 \nQ 372 2147 372 2553 \nQ 372 3047 722 3315 \nQ 1072 3584 1716 3584 \nQ 2034 3584 2315 3537 \nQ 2597 3491 2834 3397 \nz\n\" transform=\"scale(0.015625)\"/>\n      </defs>\n      <use xlink:href=\"#DejaVuSans-74\"/>\n      <use xlink:href=\"#DejaVuSans-72\" x=\"39.208984\"/>\n      <use xlink:href=\"#DejaVuSans-61\" x=\"80.322266\"/>\n      <use xlink:href=\"#DejaVuSans-69\" x=\"141.601562\"/>\n      <use xlink:href=\"#DejaVuSans-6e\" x=\"169.384766\"/>\n      <use xlink:href=\"#DejaVuSans-5f\" x=\"232.763672\"/>\n      <use xlink:href=\"#DejaVuSans-6c\" x=\"282.763672\"/>\n      <use xlink:href=\"#DejaVuSans-6f\" x=\"310.546875\"/>\n      <use xlink:href=\"#DejaVuSans-73\" x=\"371.728516\"/>\n      <use xlink:href=\"#DejaVuSans-73\" x=\"423.828125\"/>\n     </g>\n    </g>\n    <g id=\"line2d_128\">\n     <path d=\"M 140.8125 35.254688 \nL 150.8125 35.254688 \nL 160.8125 35.254688 \n\" style=\"fill: none; stroke-dasharray: 5.55,2.4; stroke-dashoffset: 0; stroke: #ff7f0e; stroke-width: 1.5\"/>\n    </g>\n    <g id=\"text_13\">\n     <!-- val_loss -->\n     <g transform=\"translate(168.8125 38.754688) scale(0.1 -0.1)\">\n      <defs>\n       <path id=\"DejaVuSans-76\" d=\"M 191 3500 \nL 800 3500 \nL 1894 563 \nL 2988 3500 \nL 3597 3500 \nL 2284 0 \nL 1503 0 \nL 191 3500 \nz\n\" transform=\"scale(0.015625)\"/>\n      </defs>\n      <use xlink:href=\"#DejaVuSans-76\"/>\n      <use xlink:href=\"#DejaVuSans-61\" x=\"59.179688\"/>\n      <use xlink:href=\"#DejaVuSans-6c\" x=\"120.458984\"/>\n      <use xlink:href=\"#DejaVuSans-5f\" x=\"148.242188\"/>\n      <use xlink:href=\"#DejaVuSans-6c\" x=\"198.242188\"/>\n      <use xlink:href=\"#DejaVuSans-6f\" x=\"226.025391\"/>\n      <use xlink:href=\"#DejaVuSans-73\" x=\"287.207031\"/>\n      <use xlink:href=\"#DejaVuSans-73\" x=\"339.306641\"/>\n     </g>\n    </g>\n    <g id=\"line2d_129\">\n     <path d=\"M 140.8125 50.210938 \nL 150.8125 50.210938 \nL 160.8125 50.210938 \n\" style=\"fill: none; stroke-dasharray: 9.6,2.4,1.5,2.4; stroke-dashoffset: 0; stroke: #2ca02c; stroke-width: 1.5\"/>\n    </g>\n    <g id=\"text_14\">\n     <!-- val_acc -->\n     <g transform=\"translate(168.8125 53.710938) scale(0.1 -0.1)\">\n      <use xlink:href=\"#DejaVuSans-76\"/>\n      <use xlink:href=\"#DejaVuSans-61\" x=\"59.179688\"/>\n      <use xlink:href=\"#DejaVuSans-6c\" x=\"120.458984\"/>\n      <use xlink:href=\"#DejaVuSans-5f\" x=\"148.242188\"/>\n      <use xlink:href=\"#DejaVuSans-61\" x=\"198.242188\"/>\n      <use xlink:href=\"#DejaVuSans-63\" x=\"259.521484\"/>\n      <use xlink:href=\"#DejaVuSans-63\" x=\"314.501953\"/>\n     </g>\n    </g>\n   </g>\n  </g>\n </g>\n <defs>\n  <clipPath id=\"pd4d2cdbadf\">\n   <rect x=\"30.103125\" y=\"7.2\" width=\"195.3\" height=\"138.6\"/>\n  </clipPath>\n </defs>\n</svg>\n",
            "text/plain": [
              "<Figure size 350x250 with 1 Axes>"
            ]
          },
          "metadata": {},
          "output_type": "display_data"
        }
      ],
      "source": [
        "class LeNet(d2l.torch.Classifier):\n",
        "    def __init__(self, lr=0.1, num_classes=10):\n",
        "        super().__init__()\n",
        "        self.save_hyperparameters()\n",
        "        self.net = nn.Sequential(nn.LazyConv2d(6, kernel_size=5, padding=2),\n",
        "                                 nn.ReLU(),\n",
        "                                 nn.MaxPool2d(kernel_size=2, stride=2),\n",
        "                                 nn.LazyConv2d(16, kernel_size=5),\n",
        "                                 nn.ReLU(),\n",
        "                                 nn.MaxPool2d(kernel_size=2, stride=2),\n",
        "                                 nn.Flatten(),\n",
        "                                 nn.LazyLinear(120),\n",
        "                                 nn.ReLU(), nn.Dropout(0.5),\n",
        "                                 nn.LazyLinear(84),\n",
        "                                 nn.ReLU(), nn.Dropout(0.5),\n",
        "                                 nn.LazyLinear(num_classes))\n",
        "model = LeNet(lr=0.01)\n",
        "data = d2l.torch.FashionMNIST(batch_size=128, resize=(28, 28))\n",
        "trainer = d2l.torch.Trainer(max_epochs=10)\n",
        "trainer.fit(model, data)\n",
        "X,y = next(iter(data.get_dataloader(False)))\n",
        "y_hat = model(X)\n",
        "print(f'acc: {model.accuracy(y_hat,y).item():.2f}')"
      ]
    },
    {
      "cell_type": "markdown",
      "metadata": {
        "id": "GtkagjgWjojN"
      },
      "source": [
        "**8. Can you make AlexNet overfit? Which feature do you need to remove or change to break training?**\n",
        "\n",
        "  Ya, AlexNet dapat dibuat overfitting dengan cara-cara berikut:\n",
        "*   Menghapus/mengubah teknik regularisasi\n",
        "\n",
        "  Menghapus dropout atau mengurangi tingkat regularisasi, sehingga model akan mempelajari detail yang tidak relevan dari data pelatihan.\n",
        "*   Mengurangi ukuran dataset\n",
        "\n",
        "  Dengan dataset yang lebih kecil, AlexNet akan mempelajari data pelatihan secara terlalu spesifik, sehingga tidak akan bisa menggeneralisasi dengan baik untuk data baru.\n",
        "* Meningkatkan jumlah parameter\n",
        "\n",
        "  Dengan menambah jumlah lapisan atau neuron di lapisan membuat kapasitas model lebih besar untuk mengingat detail data pelatihan sehingga dapat menyebabkan overfitting.\n",
        "\n"
      ]
    },
    {
      "cell_type": "markdown",
      "metadata": {
        "id": "JImEl3SL0uwW"
      },
      "source": [
        "### **8.2 Networks Using Blocks (VGG)**"
      ]
    },
    {
      "cell_type": "code",
      "execution_count": null,
      "metadata": {
        "id": "AKY9RTmjGfxv"
      },
      "outputs": [],
      "source": [
        "import torch\n",
        "from torch import nn\n",
        "from d2l import torch as d2l"
      ]
    },
    {
      "cell_type": "code",
      "execution_count": null,
      "metadata": {
        "id": "S9zRHPK71QcL"
      },
      "outputs": [],
      "source": [
        "def vgg_block(num_convs, out_channels):\n",
        "    layers = []\n",
        "    for _ in range(num_convs):\n",
        "        layers.append(nn.LazyConv2d(out_channels, kernel_size=3, padding=1))\n",
        "        layers.append(nn.ReLU())\n",
        "    layers.append(nn.MaxPool2d(kernel_size=2,stride=2))\n",
        "    return nn.Sequential(*layers)"
      ]
    },
    {
      "cell_type": "code",
      "execution_count": null,
      "metadata": {
        "id": "nu3TNoDQ1UTU"
      },
      "outputs": [],
      "source": [
        "class VGG(d2l.Classifier):\n",
        "    def __init__(self, arch, lr=0.1, num_classes=10):\n",
        "        super().__init__()\n",
        "        self.save_hyperparameters()\n",
        "        conv_blks = []\n",
        "        for (num_convs, out_channels) in arch:\n",
        "            conv_blks.append(vgg_block(num_convs, out_channels))\n",
        "        self.net = nn.Sequential(\n",
        "            *conv_blks, nn.Flatten(),\n",
        "            nn.LazyLinear(4096), nn.ReLU(), nn.Dropout(0.5),\n",
        "            nn.LazyLinear(4096), nn.ReLU(), nn.Dropout(0.5),\n",
        "            nn.LazyLinear(num_classes))\n",
        "        self.net.apply(d2l.init_cnn)"
      ]
    },
    {
      "cell_type": "code",
      "execution_count": null,
      "metadata": {
        "colab": {
          "base_uri": "https://localhost:8080/"
        },
        "id": "pOMByhRu1U7s",
        "outputId": "8bbb782f-cb24-433d-a8ce-e29ef862dbb8"
      },
      "outputs": [
        {
          "name": "stdout",
          "output_type": "stream",
          "text": [
            "Sequential output shape:\t torch.Size([1, 64, 112, 112])\n",
            "Sequential output shape:\t torch.Size([1, 128, 56, 56])\n",
            "Sequential output shape:\t torch.Size([1, 256, 28, 28])\n",
            "Sequential output shape:\t torch.Size([1, 512, 14, 14])\n",
            "Sequential output shape:\t torch.Size([1, 512, 7, 7])\n",
            "Flatten output shape:\t torch.Size([1, 25088])\n",
            "Linear output shape:\t torch.Size([1, 4096])\n",
            "ReLU output shape:\t torch.Size([1, 4096])\n",
            "Dropout output shape:\t torch.Size([1, 4096])\n",
            "Linear output shape:\t torch.Size([1, 4096])\n",
            "ReLU output shape:\t torch.Size([1, 4096])\n",
            "Dropout output shape:\t torch.Size([1, 4096])\n",
            "Linear output shape:\t torch.Size([1, 10])\n"
          ]
        }
      ],
      "source": [
        "VGG(arch=((1, 64), (1, 128), (2, 256), (2, 512), (2, 512))).layer_summary(\n",
        "    (1, 1, 224, 224))"
      ]
    },
    {
      "cell_type": "code",
      "execution_count": null,
      "metadata": {
        "colab": {
          "background_save": true,
          "base_uri": "https://localhost:8080/",
          "height": 265
        },
        "id": "etovFVRg1Yir",
        "outputId": "362923e6-5bb9-4137-a228-03413284f59b"
      },
      "outputs": [
        {
          "data": {
            "image/svg+xml": "<?xml version=\"1.0\" encoding=\"utf-8\" standalone=\"no\"?>\n<!DOCTYPE svg PUBLIC \"-//W3C//DTD SVG 1.1//EN\"\n  \"http://www.w3.org/Graphics/SVG/1.1/DTD/svg11.dtd\">\n<svg xmlns:xlink=\"http://www.w3.org/1999/xlink\" width=\"238.965625pt\" height=\"183.35625pt\" viewBox=\"0 0 238.965625 183.35625\" xmlns=\"http://www.w3.org/2000/svg\" version=\"1.1\">\n <metadata>\n  <rdf:RDF xmlns:dc=\"http://purl.org/dc/elements/1.1/\" xmlns:cc=\"http://creativecommons.org/ns#\" xmlns:rdf=\"http://www.w3.org/1999/02/22-rdf-syntax-ns#\">\n   <cc:Work>\n    <dc:type rdf:resource=\"http://purl.org/dc/dcmitype/StillImage\"/>\n    <dc:date>2024-09-29T22:49:57.493409</dc:date>\n    <dc:format>image/svg+xml</dc:format>\n    <dc:creator>\n     <cc:Agent>\n      <dc:title>Matplotlib v3.7.2, https://matplotlib.org/</dc:title>\n     </cc:Agent>\n    </dc:creator>\n   </cc:Work>\n  </rdf:RDF>\n </metadata>\n <defs>\n  <style type=\"text/css\">*{stroke-linejoin: round; stroke-linecap: butt}</style>\n </defs>\n <g id=\"figure_1\">\n  <g id=\"patch_1\">\n   <path d=\"M 0 183.35625 \nL 238.965625 183.35625 \nL 238.965625 0 \nL 0 0 \nz\n\" style=\"fill: #ffffff\"/>\n  </g>\n  <g id=\"axes_1\">\n   <g id=\"patch_2\">\n    <path d=\"M 30.103125 145.8 \nL 225.403125 145.8 \nL 225.403125 7.2 \nL 30.103125 7.2 \nz\n\" style=\"fill: #ffffff\"/>\n   </g>\n   <g id=\"matplotlib.axis_1\">\n    <g id=\"xtick_1\">\n     <g id=\"line2d_1\">\n      <defs>\n       <path id=\"me0bc4f4f42\" d=\"M 0 0 \nL 0 3.5 \n\" style=\"stroke: #000000; stroke-width: 0.8\"/>\n      </defs>\n      <g>\n       <use xlink:href=\"#me0bc4f4f42\" x=\"30.103125\" y=\"145.8\" style=\"stroke: #000000; stroke-width: 0.8\"/>\n      </g>\n     </g>\n     <g id=\"text_1\">\n      <!-- 0 -->\n      <g transform=\"translate(26.921875 160.398438) scale(0.1 -0.1)\">\n       <defs>\n        <path id=\"DejaVuSans-30\" d=\"M 2034 4250 \nQ 1547 4250 1301 3770 \nQ 1056 3291 1056 2328 \nQ 1056 1369 1301 889 \nQ 1547 409 2034 409 \nQ 2525 409 2770 889 \nQ 3016 1369 3016 2328 \nQ 3016 3291 2770 3770 \nQ 2525 4250 2034 4250 \nz\nM 2034 4750 \nQ 2819 4750 3233 4129 \nQ 3647 3509 3647 2328 \nQ 3647 1150 3233 529 \nQ 2819 -91 2034 -91 \nQ 1250 -91 836 529 \nQ 422 1150 422 2328 \nQ 422 3509 836 4129 \nQ 1250 4750 2034 4750 \nz\n\" transform=\"scale(0.015625)\"/>\n       </defs>\n       <use xlink:href=\"#DejaVuSans-30\"/>\n      </g>\n     </g>\n    </g>\n    <g id=\"xtick_2\">\n     <g id=\"line2d_2\">\n      <g>\n       <use xlink:href=\"#me0bc4f4f42\" x=\"69.163125\" y=\"145.8\" style=\"stroke: #000000; stroke-width: 0.8\"/>\n      </g>\n     </g>\n     <g id=\"text_2\">\n      <!-- 2 -->\n      <g transform=\"translate(65.981875 160.398438) scale(0.1 -0.1)\">\n       <defs>\n        <path id=\"DejaVuSans-32\" d=\"M 1228 531 \nL 3431 531 \nL 3431 0 \nL 469 0 \nL 469 531 \nQ 828 903 1448 1529 \nQ 2069 2156 2228 2338 \nQ 2531 2678 2651 2914 \nQ 2772 3150 2772 3378 \nQ 2772 3750 2511 3984 \nQ 2250 4219 1831 4219 \nQ 1534 4219 1204 4116 \nQ 875 4013 500 3803 \nL 500 4441 \nQ 881 4594 1212 4672 \nQ 1544 4750 1819 4750 \nQ 2544 4750 2975 4387 \nQ 3406 4025 3406 3419 \nQ 3406 3131 3298 2873 \nQ 3191 2616 2906 2266 \nQ 2828 2175 2409 1742 \nQ 1991 1309 1228 531 \nz\n\" transform=\"scale(0.015625)\"/>\n       </defs>\n       <use xlink:href=\"#DejaVuSans-32\"/>\n      </g>\n     </g>\n    </g>\n    <g id=\"xtick_3\">\n     <g id=\"line2d_3\">\n      <g>\n       <use xlink:href=\"#me0bc4f4f42\" x=\"108.223125\" y=\"145.8\" style=\"stroke: #000000; stroke-width: 0.8\"/>\n      </g>\n     </g>\n     <g id=\"text_3\">\n      <!-- 4 -->\n      <g transform=\"translate(105.041875 160.398438) scale(0.1 -0.1)\">\n       <defs>\n        <path id=\"DejaVuSans-34\" d=\"M 2419 4116 \nL 825 1625 \nL 2419 1625 \nL 2419 4116 \nz\nM 2253 4666 \nL 3047 4666 \nL 3047 1625 \nL 3713 1625 \nL 3713 1100 \nL 3047 1100 \nL 3047 0 \nL 2419 0 \nL 2419 1100 \nL 313 1100 \nL 313 1709 \nL 2253 4666 \nz\n\" transform=\"scale(0.015625)\"/>\n       </defs>\n       <use xlink:href=\"#DejaVuSans-34\"/>\n      </g>\n     </g>\n    </g>\n    <g id=\"xtick_4\">\n     <g id=\"line2d_4\">\n      <g>\n       <use xlink:href=\"#me0bc4f4f42\" x=\"147.283125\" y=\"145.8\" style=\"stroke: #000000; stroke-width: 0.8\"/>\n      </g>\n     </g>\n     <g id=\"text_4\">\n      <!-- 6 -->\n      <g transform=\"translate(144.101875 160.398438) scale(0.1 -0.1)\">\n       <defs>\n        <path id=\"DejaVuSans-36\" d=\"M 2113 2584 \nQ 1688 2584 1439 2293 \nQ 1191 2003 1191 1497 \nQ 1191 994 1439 701 \nQ 1688 409 2113 409 \nQ 2538 409 2786 701 \nQ 3034 994 3034 1497 \nQ 3034 2003 2786 2293 \nQ 2538 2584 2113 2584 \nz\nM 3366 4563 \nL 3366 3988 \nQ 3128 4100 2886 4159 \nQ 2644 4219 2406 4219 \nQ 1781 4219 1451 3797 \nQ 1122 3375 1075 2522 \nQ 1259 2794 1537 2939 \nQ 1816 3084 2150 3084 \nQ 2853 3084 3261 2657 \nQ 3669 2231 3669 1497 \nQ 3669 778 3244 343 \nQ 2819 -91 2113 -91 \nQ 1303 -91 875 529 \nQ 447 1150 447 2328 \nQ 447 3434 972 4092 \nQ 1497 4750 2381 4750 \nQ 2619 4750 2861 4703 \nQ 3103 4656 3366 4563 \nz\n\" transform=\"scale(0.015625)\"/>\n       </defs>\n       <use xlink:href=\"#DejaVuSans-36\"/>\n      </g>\n     </g>\n    </g>\n    <g id=\"xtick_5\">\n     <g id=\"line2d_5\">\n      <g>\n       <use xlink:href=\"#me0bc4f4f42\" x=\"186.343125\" y=\"145.8\" style=\"stroke: #000000; stroke-width: 0.8\"/>\n      </g>\n     </g>\n     <g id=\"text_5\">\n      <!-- 8 -->\n      <g transform=\"translate(183.161875 160.398438) scale(0.1 -0.1)\">\n       <defs>\n        <path id=\"DejaVuSans-38\" d=\"M 2034 2216 \nQ 1584 2216 1326 1975 \nQ 1069 1734 1069 1313 \nQ 1069 891 1326 650 \nQ 1584 409 2034 409 \nQ 2484 409 2743 651 \nQ 3003 894 3003 1313 \nQ 3003 1734 2745 1975 \nQ 2488 2216 2034 2216 \nz\nM 1403 2484 \nQ 997 2584 770 2862 \nQ 544 3141 544 3541 \nQ 544 4100 942 4425 \nQ 1341 4750 2034 4750 \nQ 2731 4750 3128 4425 \nQ 3525 4100 3525 3541 \nQ 3525 3141 3298 2862 \nQ 3072 2584 2669 2484 \nQ 3125 2378 3379 2068 \nQ 3634 1759 3634 1313 \nQ 3634 634 3220 271 \nQ 2806 -91 2034 -91 \nQ 1263 -91 848 271 \nQ 434 634 434 1313 \nQ 434 1759 690 2068 \nQ 947 2378 1403 2484 \nz\nM 1172 3481 \nQ 1172 3119 1398 2916 \nQ 1625 2713 2034 2713 \nQ 2441 2713 2670 2916 \nQ 2900 3119 2900 3481 \nQ 2900 3844 2670 4047 \nQ 2441 4250 2034 4250 \nQ 1625 4250 1398 4047 \nQ 1172 3844 1172 3481 \nz\n\" transform=\"scale(0.015625)\"/>\n       </defs>\n       <use xlink:href=\"#DejaVuSans-38\"/>\n      </g>\n     </g>\n    </g>\n    <g id=\"xtick_6\">\n     <g id=\"line2d_6\">\n      <g>\n       <use xlink:href=\"#me0bc4f4f42\" x=\"225.403125\" y=\"145.8\" style=\"stroke: #000000; stroke-width: 0.8\"/>\n      </g>\n     </g>\n     <g id=\"text_6\">\n      <!-- 10 -->\n      <g transform=\"translate(219.040625 160.398438) scale(0.1 -0.1)\">\n       <defs>\n        <path id=\"DejaVuSans-31\" d=\"M 794 531 \nL 1825 531 \nL 1825 4091 \nL 703 3866 \nL 703 4441 \nL 1819 4666 \nL 2450 4666 \nL 2450 531 \nL 3481 531 \nL 3481 0 \nL 794 0 \nL 794 531 \nz\n\" transform=\"scale(0.015625)\"/>\n       </defs>\n       <use xlink:href=\"#DejaVuSans-31\"/>\n       <use xlink:href=\"#DejaVuSans-30\" x=\"63.623047\"/>\n      </g>\n     </g>\n    </g>\n    <g id=\"text_7\">\n     <!-- epoch -->\n     <g transform=\"translate(112.525 174.076563) scale(0.1 -0.1)\">\n      <defs>\n       <path id=\"DejaVuSans-65\" d=\"M 3597 1894 \nL 3597 1613 \nL 953 1613 \nQ 991 1019 1311 708 \nQ 1631 397 2203 397 \nQ 2534 397 2845 478 \nQ 3156 559 3463 722 \nL 3463 178 \nQ 3153 47 2828 -22 \nQ 2503 -91 2169 -91 \nQ 1331 -91 842 396 \nQ 353 884 353 1716 \nQ 353 2575 817 3079 \nQ 1281 3584 2069 3584 \nQ 2775 3584 3186 3129 \nQ 3597 2675 3597 1894 \nz\nM 3022 2063 \nQ 3016 2534 2758 2815 \nQ 2500 3097 2075 3097 \nQ 1594 3097 1305 2825 \nQ 1016 2553 972 2059 \nL 3022 2063 \nz\n\" transform=\"scale(0.015625)\"/>\n       <path id=\"DejaVuSans-70\" d=\"M 1159 525 \nL 1159 -1331 \nL 581 -1331 \nL 581 3500 \nL 1159 3500 \nL 1159 2969 \nQ 1341 3281 1617 3432 \nQ 1894 3584 2278 3584 \nQ 2916 3584 3314 3078 \nQ 3713 2572 3713 1747 \nQ 3713 922 3314 415 \nQ 2916 -91 2278 -91 \nQ 1894 -91 1617 61 \nQ 1341 213 1159 525 \nz\nM 3116 1747 \nQ 3116 2381 2855 2742 \nQ 2594 3103 2138 3103 \nQ 1681 3103 1420 2742 \nQ 1159 2381 1159 1747 \nQ 1159 1113 1420 752 \nQ 1681 391 2138 391 \nQ 2594 391 2855 752 \nQ 3116 1113 3116 1747 \nz\n\" transform=\"scale(0.015625)\"/>\n       <path id=\"DejaVuSans-6f\" d=\"M 1959 3097 \nQ 1497 3097 1228 2736 \nQ 959 2375 959 1747 \nQ 959 1119 1226 758 \nQ 1494 397 1959 397 \nQ 2419 397 2687 759 \nQ 2956 1122 2956 1747 \nQ 2956 2369 2687 2733 \nQ 2419 3097 1959 3097 \nz\nM 1959 3584 \nQ 2709 3584 3137 3096 \nQ 3566 2609 3566 1747 \nQ 3566 888 3137 398 \nQ 2709 -91 1959 -91 \nQ 1206 -91 779 398 \nQ 353 888 353 1747 \nQ 353 2609 779 3096 \nQ 1206 3584 1959 3584 \nz\n\" transform=\"scale(0.015625)\"/>\n       <path id=\"DejaVuSans-63\" d=\"M 3122 3366 \nL 3122 2828 \nQ 2878 2963 2633 3030 \nQ 2388 3097 2138 3097 \nQ 1578 3097 1268 2742 \nQ 959 2388 959 1747 \nQ 959 1106 1268 751 \nQ 1578 397 2138 397 \nQ 2388 397 2633 464 \nQ 2878 531 3122 666 \nL 3122 134 \nQ 2881 22 2623 -34 \nQ 2366 -91 2075 -91 \nQ 1284 -91 818 406 \nQ 353 903 353 1747 \nQ 353 2603 823 3093 \nQ 1294 3584 2113 3584 \nQ 2378 3584 2631 3529 \nQ 2884 3475 3122 3366 \nz\n\" transform=\"scale(0.015625)\"/>\n       <path id=\"DejaVuSans-68\" d=\"M 3513 2113 \nL 3513 0 \nL 2938 0 \nL 2938 2094 \nQ 2938 2591 2744 2837 \nQ 2550 3084 2163 3084 \nQ 1697 3084 1428 2787 \nQ 1159 2491 1159 1978 \nL 1159 0 \nL 581 0 \nL 581 4863 \nL 1159 4863 \nL 1159 2956 \nQ 1366 3272 1645 3428 \nQ 1925 3584 2291 3584 \nQ 2894 3584 3203 3211 \nQ 3513 2838 3513 2113 \nz\n\" transform=\"scale(0.015625)\"/>\n      </defs>\n      <use xlink:href=\"#DejaVuSans-65\"/>\n      <use xlink:href=\"#DejaVuSans-70\" x=\"61.523438\"/>\n      <use xlink:href=\"#DejaVuSans-6f\" x=\"125\"/>\n      <use xlink:href=\"#DejaVuSans-63\" x=\"186.181641\"/>\n      <use xlink:href=\"#DejaVuSans-68\" x=\"241.162109\"/>\n     </g>\n    </g>\n   </g>\n   <g id=\"matplotlib.axis_2\">\n    <g id=\"ytick_1\">\n     <g id=\"line2d_7\">\n      <defs>\n       <path id=\"m9967db94c7\" d=\"M 0 0 \nL -3.5 0 \n\" style=\"stroke: #000000; stroke-width: 0.8\"/>\n      </defs>\n      <g>\n       <use xlink:href=\"#m9967db94c7\" x=\"30.103125\" y=\"141.68176\" style=\"stroke: #000000; stroke-width: 0.8\"/>\n      </g>\n     </g>\n     <g id=\"text_8\">\n      <!-- 0.5 -->\n      <g transform=\"translate(7.2 145.480978) scale(0.1 -0.1)\">\n       <defs>\n        <path id=\"DejaVuSans-2e\" d=\"M 684 794 \nL 1344 794 \nL 1344 0 \nL 684 0 \nL 684 794 \nz\n\" transform=\"scale(0.015625)\"/>\n        <path id=\"DejaVuSans-35\" d=\"M 691 4666 \nL 3169 4666 \nL 3169 4134 \nL 1269 4134 \nL 1269 2991 \nQ 1406 3038 1543 3061 \nQ 1681 3084 1819 3084 \nQ 2600 3084 3056 2656 \nQ 3513 2228 3513 1497 \nQ 3513 744 3044 326 \nQ 2575 -91 1722 -91 \nQ 1428 -91 1123 -41 \nQ 819 9 494 109 \nL 494 744 \nQ 775 591 1075 516 \nQ 1375 441 1709 441 \nQ 2250 441 2565 725 \nQ 2881 1009 2881 1497 \nQ 2881 1984 2565 2268 \nQ 2250 2553 1709 2553 \nQ 1456 2553 1204 2497 \nQ 953 2441 691 2322 \nL 691 4666 \nz\n\" transform=\"scale(0.015625)\"/>\n       </defs>\n       <use xlink:href=\"#DejaVuSans-30\"/>\n       <use xlink:href=\"#DejaVuSans-2e\" x=\"63.623047\"/>\n       <use xlink:href=\"#DejaVuSans-35\" x=\"95.410156\"/>\n      </g>\n     </g>\n    </g>\n    <g id=\"ytick_2\">\n     <g id=\"line2d_8\">\n      <g>\n       <use xlink:href=\"#m9967db94c7\" x=\"30.103125\" y=\"106.020718\" style=\"stroke: #000000; stroke-width: 0.8\"/>\n      </g>\n     </g>\n     <g id=\"text_9\">\n      <!-- 1.0 -->\n      <g transform=\"translate(7.2 109.819937) scale(0.1 -0.1)\">\n       <use xlink:href=\"#DejaVuSans-31\"/>\n       <use xlink:href=\"#DejaVuSans-2e\" x=\"63.623047\"/>\n       <use xlink:href=\"#DejaVuSans-30\" x=\"95.410156\"/>\n      </g>\n     </g>\n    </g>\n    <g id=\"ytick_3\">\n     <g id=\"line2d_9\">\n      <g>\n       <use xlink:href=\"#m9967db94c7\" x=\"30.103125\" y=\"70.359676\" style=\"stroke: #000000; stroke-width: 0.8\"/>\n      </g>\n     </g>\n     <g id=\"text_10\">\n      <!-- 1.5 -->\n      <g transform=\"translate(7.2 74.158895) scale(0.1 -0.1)\">\n       <use xlink:href=\"#DejaVuSans-31\"/>\n       <use xlink:href=\"#DejaVuSans-2e\" x=\"63.623047\"/>\n       <use xlink:href=\"#DejaVuSans-35\" x=\"95.410156\"/>\n      </g>\n     </g>\n    </g>\n    <g id=\"ytick_4\">\n     <g id=\"line2d_10\">\n      <g>\n       <use xlink:href=\"#m9967db94c7\" x=\"30.103125\" y=\"34.698635\" style=\"stroke: #000000; stroke-width: 0.8\"/>\n      </g>\n     </g>\n     <g id=\"text_11\">\n      <!-- 2.0 -->\n      <g transform=\"translate(7.2 38.497854) scale(0.1 -0.1)\">\n       <use xlink:href=\"#DejaVuSans-32\"/>\n       <use xlink:href=\"#DejaVuSans-2e\" x=\"63.623047\"/>\n       <use xlink:href=\"#DejaVuSans-30\" x=\"95.410156\"/>\n      </g>\n     </g>\n    </g>\n   </g>\n   <g id=\"line2d_11\">\n    <path d=\"M 34.954394 13.5 \n\" clip-path=\"url(#p213371cbe2)\" style=\"fill: none; stroke: #1f77b4; stroke-width: 1.5; stroke-linecap: square\"/>\n   </g>\n   <g id=\"line2d_12\">\n    <path d=\"M 34.954394 13.5 \nL 44.698573 63.204854 \n\" clip-path=\"url(#p213371cbe2)\" style=\"fill: none; stroke: #1f77b4; stroke-width: 1.5; stroke-linecap: square\"/>\n   </g>\n   <g id=\"line2d_13\">\n    <path d=\"M 34.954394 13.5 \nL 44.698573 63.204854 \n\" clip-path=\"url(#p213371cbe2)\" style=\"fill: none; stroke: #1f77b4; stroke-width: 1.5; stroke-linecap: square\"/>\n   </g>\n   <g id=\"line2d_14\">\n    <path d=\"M 49.633125 121.331628 \n\" clip-path=\"url(#p213371cbe2)\" style=\"fill: none; stroke-dasharray: 5.55,2.4; stroke-dashoffset: 0; stroke: #ff7f0e; stroke-width: 1.5\"/>\n   </g>\n   <g id=\"line2d_15\"/>\n   <g id=\"line2d_16\">\n    <path d=\"M 34.954394 13.5 \nL 44.698573 63.204854 \n\" clip-path=\"url(#p213371cbe2)\" style=\"fill: none; stroke: #1f77b4; stroke-width: 1.5; stroke-linecap: square\"/>\n   </g>\n   <g id=\"line2d_17\">\n    <path d=\"M 49.633125 121.331628 \n\" clip-path=\"url(#p213371cbe2)\" style=\"fill: none; stroke-dasharray: 5.55,2.4; stroke-dashoffset: 0; stroke: #ff7f0e; stroke-width: 1.5\"/>\n   </g>\n   <g id=\"line2d_18\">\n    <path d=\"M 49.633125 128.040847 \n\" clip-path=\"url(#p213371cbe2)\" style=\"fill: none; stroke-dasharray: 9.6,2.4,1.5,2.4; stroke-dashoffset: 0; stroke: #2ca02c; stroke-width: 1.5\"/>\n   </g>\n   <g id=\"line2d_19\">\n    <path d=\"M 34.954394 13.5 \nL 44.698573 63.204854 \nL 54.442752 122.839952 \n\" clip-path=\"url(#p213371cbe2)\" style=\"fill: none; stroke: #1f77b4; stroke-width: 1.5; stroke-linecap: square\"/>\n   </g>\n   <g id=\"line2d_20\">\n    <path d=\"M 49.633125 121.331628 \n\" clip-path=\"url(#p213371cbe2)\" style=\"fill: none; stroke-dasharray: 5.55,2.4; stroke-dashoffset: 0; stroke: #ff7f0e; stroke-width: 1.5\"/>\n   </g>\n   <g id=\"line2d_21\">\n    <path d=\"M 49.633125 128.040847 \n\" clip-path=\"url(#p213371cbe2)\" style=\"fill: none; stroke-dasharray: 9.6,2.4,1.5,2.4; stroke-dashoffset: 0; stroke: #2ca02c; stroke-width: 1.5\"/>\n   </g>\n   <g id=\"line2d_22\">\n    <path d=\"M 34.954394 13.5 \nL 44.698573 63.204854 \nL 54.442752 122.839952 \nL 64.186931 133.215512 \n\" clip-path=\"url(#p213371cbe2)\" style=\"fill: none; stroke: #1f77b4; stroke-width: 1.5; stroke-linecap: square\"/>\n   </g>\n   <g id=\"line2d_23\">\n    <path d=\"M 49.633125 121.331628 \n\" clip-path=\"url(#p213371cbe2)\" style=\"fill: none; stroke-dasharray: 5.55,2.4; stroke-dashoffset: 0; stroke: #ff7f0e; stroke-width: 1.5\"/>\n   </g>\n   <g id=\"line2d_24\">\n    <path d=\"M 49.633125 128.040847 \n\" clip-path=\"url(#p213371cbe2)\" style=\"fill: none; stroke-dasharray: 9.6,2.4,1.5,2.4; stroke-dashoffset: 0; stroke: #2ca02c; stroke-width: 1.5\"/>\n   </g>\n   <g id=\"line2d_25\">\n    <path d=\"M 34.954394 13.5 \nL 44.698573 63.204854 \nL 54.442752 122.839952 \nL 64.186931 133.215512 \n\" clip-path=\"url(#p213371cbe2)\" style=\"fill: none; stroke: #1f77b4; stroke-width: 1.5; stroke-linecap: square\"/>\n   </g>\n   <g id=\"line2d_26\">\n    <path d=\"M 49.633125 121.331628 \nL 69.163125 139.5 \n\" clip-path=\"url(#p213371cbe2)\" style=\"fill: none; stroke-dasharray: 5.55,2.4; stroke-dashoffset: 0; stroke: #ff7f0e; stroke-width: 1.5\"/>\n   </g>\n   <g id=\"line2d_27\">\n    <path d=\"M 49.633125 128.040847 \n\" clip-path=\"url(#p213371cbe2)\" style=\"fill: none; stroke-dasharray: 9.6,2.4,1.5,2.4; stroke-dashoffset: 0; stroke: #2ca02c; stroke-width: 1.5\"/>\n   </g>\n   <g id=\"line2d_28\">\n    <path d=\"M 34.954394 13.5 \nL 44.698573 63.204854 \nL 54.442752 122.839952 \nL 64.186931 133.215512 \n\" clip-path=\"url(#p213371cbe2)\" style=\"fill: none; stroke: #1f77b4; stroke-width: 1.5; stroke-linecap: square\"/>\n   </g>\n   <g id=\"line2d_29\">\n    <path d=\"M 49.633125 121.331628 \nL 69.163125 139.5 \n\" clip-path=\"url(#p213371cbe2)\" style=\"fill: none; stroke-dasharray: 5.55,2.4; stroke-dashoffset: 0; stroke: #ff7f0e; stroke-width: 1.5\"/>\n   </g>\n   <g id=\"line2d_30\">\n    <path d=\"M 49.633125 128.040847 \nL 69.163125 120.247047 \n\" clip-path=\"url(#p213371cbe2)\" style=\"fill: none; stroke-dasharray: 9.6,2.4,1.5,2.4; stroke-dashoffset: 0; stroke: #2ca02c; stroke-width: 1.5\"/>\n   </g>\n   <g id=\"line2d_31\">\n    <path d=\"M 34.954394 13.5 \nL 44.698573 63.204854 \nL 54.442752 122.839952 \nL 64.186931 133.215512 \nL 73.93111 138.457504 \n\" clip-path=\"url(#p213371cbe2)\" style=\"fill: none; stroke: #1f77b4; stroke-width: 1.5; stroke-linecap: square\"/>\n   </g>\n   <g id=\"line2d_32\">\n    <path d=\"M 49.633125 121.331628 \nL 69.163125 139.5 \n\" clip-path=\"url(#p213371cbe2)\" style=\"fill: none; stroke-dasharray: 5.55,2.4; stroke-dashoffset: 0; stroke: #ff7f0e; stroke-width: 1.5\"/>\n   </g>\n   <g id=\"line2d_33\">\n    <path d=\"M 49.633125 128.040847 \nL 69.163125 120.247047 \n\" clip-path=\"url(#p213371cbe2)\" style=\"fill: none; stroke-dasharray: 9.6,2.4,1.5,2.4; stroke-dashoffset: 0; stroke: #2ca02c; stroke-width: 1.5\"/>\n   </g>\n   <g id=\"patch_3\">\n    <path d=\"M 30.103125 145.8 \nL 30.103125 7.2 \n\" style=\"fill: none; stroke: #000000; stroke-width: 0.8; stroke-linejoin: miter; stroke-linecap: square\"/>\n   </g>\n   <g id=\"patch_4\">\n    <path d=\"M 225.403125 145.8 \nL 225.403125 7.2 \n\" style=\"fill: none; stroke: #000000; stroke-width: 0.8; stroke-linejoin: miter; stroke-linecap: square\"/>\n   </g>\n   <g id=\"patch_5\">\n    <path d=\"M 30.103125 145.8 \nL 225.403125 145.8 \n\" style=\"fill: none; stroke: #000000; stroke-width: 0.8; stroke-linejoin: miter; stroke-linecap: square\"/>\n   </g>\n   <g id=\"patch_6\">\n    <path d=\"M 30.103125 7.2 \nL 225.403125 7.2 \n\" style=\"fill: none; stroke: #000000; stroke-width: 0.8; stroke-linejoin: miter; stroke-linecap: square\"/>\n   </g>\n   <g id=\"legend_1\">\n    <g id=\"patch_7\">\n     <path d=\"M 138.8125 60.06875 \nL 218.403125 60.06875 \nQ 220.403125 60.06875 220.403125 58.06875 \nL 220.403125 14.2 \nQ 220.403125 12.2 218.403125 12.2 \nL 138.8125 12.2 \nQ 136.8125 12.2 136.8125 14.2 \nL 136.8125 58.06875 \nQ 136.8125 60.06875 138.8125 60.06875 \nz\n\" style=\"fill: #ffffff; opacity: 0.8; stroke: #cccccc; stroke-linejoin: miter\"/>\n    </g>\n    <g id=\"line2d_34\">\n     <path d=\"M 140.8125 20.298438 \nL 150.8125 20.298438 \nL 160.8125 20.298438 \n\" style=\"fill: none; stroke: #1f77b4; stroke-width: 1.5; stroke-linecap: square\"/>\n    </g>\n    <g id=\"text_12\">\n     <!-- train_loss -->\n     <g transform=\"translate(168.8125 23.798438) scale(0.1 -0.1)\">\n      <defs>\n       <path id=\"DejaVuSans-74\" d=\"M 1172 4494 \nL 1172 3500 \nL 2356 3500 \nL 2356 3053 \nL 1172 3053 \nL 1172 1153 \nQ 1172 725 1289 603 \nQ 1406 481 1766 481 \nL 2356 481 \nL 2356 0 \nL 1766 0 \nQ 1100 0 847 248 \nQ 594 497 594 1153 \nL 594 3053 \nL 172 3053 \nL 172 3500 \nL 594 3500 \nL 594 4494 \nL 1172 4494 \nz\n\" transform=\"scale(0.015625)\"/>\n       <path id=\"DejaVuSans-72\" d=\"M 2631 2963 \nQ 2534 3019 2420 3045 \nQ 2306 3072 2169 3072 \nQ 1681 3072 1420 2755 \nQ 1159 2438 1159 1844 \nL 1159 0 \nL 581 0 \nL 581 3500 \nL 1159 3500 \nL 1159 2956 \nQ 1341 3275 1631 3429 \nQ 1922 3584 2338 3584 \nQ 2397 3584 2469 3576 \nQ 2541 3569 2628 3553 \nL 2631 2963 \nz\n\" transform=\"scale(0.015625)\"/>\n       <path id=\"DejaVuSans-61\" d=\"M 2194 1759 \nQ 1497 1759 1228 1600 \nQ 959 1441 959 1056 \nQ 959 750 1161 570 \nQ 1363 391 1709 391 \nQ 2188 391 2477 730 \nQ 2766 1069 2766 1631 \nL 2766 1759 \nL 2194 1759 \nz\nM 3341 1997 \nL 3341 0 \nL 2766 0 \nL 2766 531 \nQ 2569 213 2275 61 \nQ 1981 -91 1556 -91 \nQ 1019 -91 701 211 \nQ 384 513 384 1019 \nQ 384 1609 779 1909 \nQ 1175 2209 1959 2209 \nL 2766 2209 \nL 2766 2266 \nQ 2766 2663 2505 2880 \nQ 2244 3097 1772 3097 \nQ 1472 3097 1187 3025 \nQ 903 2953 641 2809 \nL 641 3341 \nQ 956 3463 1253 3523 \nQ 1550 3584 1831 3584 \nQ 2591 3584 2966 3190 \nQ 3341 2797 3341 1997 \nz\n\" transform=\"scale(0.015625)\"/>\n       <path id=\"DejaVuSans-69\" d=\"M 603 3500 \nL 1178 3500 \nL 1178 0 \nL 603 0 \nL 603 3500 \nz\nM 603 4863 \nL 1178 4863 \nL 1178 4134 \nL 603 4134 \nL 603 4863 \nz\n\" transform=\"scale(0.015625)\"/>\n       <path id=\"DejaVuSans-6e\" d=\"M 3513 2113 \nL 3513 0 \nL 2938 0 \nL 2938 2094 \nQ 2938 2591 2744 2837 \nQ 2550 3084 2163 3084 \nQ 1697 3084 1428 2787 \nQ 1159 2491 1159 1978 \nL 1159 0 \nL 581 0 \nL 581 3500 \nL 1159 3500 \nL 1159 2956 \nQ 1366 3272 1645 3428 \nQ 1925 3584 2291 3584 \nQ 2894 3584 3203 3211 \nQ 3513 2838 3513 2113 \nz\n\" transform=\"scale(0.015625)\"/>\n       <path id=\"DejaVuSans-5f\" d=\"M 3263 -1063 \nL 3263 -1509 \nL -63 -1509 \nL -63 -1063 \nL 3263 -1063 \nz\n\" transform=\"scale(0.015625)\"/>\n       <path id=\"DejaVuSans-6c\" d=\"M 603 4863 \nL 1178 4863 \nL 1178 0 \nL 603 0 \nL 603 4863 \nz\n\" transform=\"scale(0.015625)\"/>\n       <path id=\"DejaVuSans-73\" d=\"M 2834 3397 \nL 2834 2853 \nQ 2591 2978 2328 3040 \nQ 2066 3103 1784 3103 \nQ 1356 3103 1142 2972 \nQ 928 2841 928 2578 \nQ 928 2378 1081 2264 \nQ 1234 2150 1697 2047 \nL 1894 2003 \nQ 2506 1872 2764 1633 \nQ 3022 1394 3022 966 \nQ 3022 478 2636 193 \nQ 2250 -91 1575 -91 \nQ 1294 -91 989 -36 \nQ 684 19 347 128 \nL 347 722 \nQ 666 556 975 473 \nQ 1284 391 1588 391 \nQ 1994 391 2212 530 \nQ 2431 669 2431 922 \nQ 2431 1156 2273 1281 \nQ 2116 1406 1581 1522 \nL 1381 1569 \nQ 847 1681 609 1914 \nQ 372 2147 372 2553 \nQ 372 3047 722 3315 \nQ 1072 3584 1716 3584 \nQ 2034 3584 2315 3537 \nQ 2597 3491 2834 3397 \nz\n\" transform=\"scale(0.015625)\"/>\n      </defs>\n      <use xlink:href=\"#DejaVuSans-74\"/>\n      <use xlink:href=\"#DejaVuSans-72\" x=\"39.208984\"/>\n      <use xlink:href=\"#DejaVuSans-61\" x=\"80.322266\"/>\n      <use xlink:href=\"#DejaVuSans-69\" x=\"141.601562\"/>\n      <use xlink:href=\"#DejaVuSans-6e\" x=\"169.384766\"/>\n      <use xlink:href=\"#DejaVuSans-5f\" x=\"232.763672\"/>\n      <use xlink:href=\"#DejaVuSans-6c\" x=\"282.763672\"/>\n      <use xlink:href=\"#DejaVuSans-6f\" x=\"310.546875\"/>\n      <use xlink:href=\"#DejaVuSans-73\" x=\"371.728516\"/>\n      <use xlink:href=\"#DejaVuSans-73\" x=\"423.828125\"/>\n     </g>\n    </g>\n    <g id=\"line2d_35\">\n     <path d=\"M 140.8125 35.254688 \nL 150.8125 35.254688 \nL 160.8125 35.254688 \n\" style=\"fill: none; stroke-dasharray: 5.55,2.4; stroke-dashoffset: 0; stroke: #ff7f0e; stroke-width: 1.5\"/>\n    </g>\n    <g id=\"text_13\">\n     <!-- val_loss -->\n     <g transform=\"translate(168.8125 38.754688) scale(0.1 -0.1)\">\n      <defs>\n       <path id=\"DejaVuSans-76\" d=\"M 191 3500 \nL 800 3500 \nL 1894 563 \nL 2988 3500 \nL 3597 3500 \nL 2284 0 \nL 1503 0 \nL 191 3500 \nz\n\" transform=\"scale(0.015625)\"/>\n      </defs>\n      <use xlink:href=\"#DejaVuSans-76\"/>\n      <use xlink:href=\"#DejaVuSans-61\" x=\"59.179688\"/>\n      <use xlink:href=\"#DejaVuSans-6c\" x=\"120.458984\"/>\n      <use xlink:href=\"#DejaVuSans-5f\" x=\"148.242188\"/>\n      <use xlink:href=\"#DejaVuSans-6c\" x=\"198.242188\"/>\n      <use xlink:href=\"#DejaVuSans-6f\" x=\"226.025391\"/>\n      <use xlink:href=\"#DejaVuSans-73\" x=\"287.207031\"/>\n      <use xlink:href=\"#DejaVuSans-73\" x=\"339.306641\"/>\n     </g>\n    </g>\n    <g id=\"line2d_36\">\n     <path d=\"M 140.8125 50.210938 \nL 150.8125 50.210938 \nL 160.8125 50.210938 \n\" style=\"fill: none; stroke-dasharray: 9.6,2.4,1.5,2.4; stroke-dashoffset: 0; stroke: #2ca02c; stroke-width: 1.5\"/>\n    </g>\n    <g id=\"text_14\">\n     <!-- val_acc -->\n     <g transform=\"translate(168.8125 53.710938) scale(0.1 -0.1)\">\n      <use xlink:href=\"#DejaVuSans-76\"/>\n      <use xlink:href=\"#DejaVuSans-61\" x=\"59.179688\"/>\n      <use xlink:href=\"#DejaVuSans-6c\" x=\"120.458984\"/>\n      <use xlink:href=\"#DejaVuSans-5f\" x=\"148.242188\"/>\n      <use xlink:href=\"#DejaVuSans-61\" x=\"198.242188\"/>\n      <use xlink:href=\"#DejaVuSans-63\" x=\"259.521484\"/>\n      <use xlink:href=\"#DejaVuSans-63\" x=\"314.501953\"/>\n     </g>\n    </g>\n   </g>\n  </g>\n </g>\n <defs>\n  <clipPath id=\"p213371cbe2\">\n   <rect x=\"30.103125\" y=\"7.2\" width=\"195.3\" height=\"138.6\"/>\n  </clipPath>\n </defs>\n</svg>\n",
            "text/plain": [
              "<Figure size 350x250 with 1 Axes>"
            ]
          },
          "metadata": {},
          "output_type": "display_data"
        }
      ],
      "source": [
        "model = VGG(arch=((1, 16), (1, 32), (2, 64), (2, 128), (2, 128)), lr=0.01)\n",
        "trainer = d2l.Trainer(max_epochs=10, num_gpus=1)\n",
        "data = d2l.FashionMNIST(batch_size=128, resize=(224, 224))\n",
        "model.apply_init([next(iter(data.get_dataloader(True)))[0]], d2l.init_cnn)\n",
        "trainer.fit(model, data)"
      ]
    },
    {
      "cell_type": "markdown",
      "metadata": {
        "id": "_khhKAnL1cI0"
      },
      "source": [
        "### **Exercise 8.2**"
      ]
    },
    {
      "cell_type": "code",
      "execution_count": null,
      "metadata": {
        "id": "Zrgn9nSj1dZM"
      },
      "outputs": [],
      "source": [
        "import torch\n",
        "import torch.nn as nn\n",
        "import d2l\n",
        "from torchsummary import summary\n",
        "\n",
        "def stat_params(net, params):\n",
        "    for idx, module in enumerate(net):\n",
        "        if type(module) not in (nn.Linear,nn.Conv2d):\n",
        "            continue\n",
        "        num = sum(p.numel() for p in module.parameters())\n",
        "        if type(module) == nn.Conv2d:\n",
        "            params['conv'] += num\n",
        "        else:\n",
        "            params['lr'] += num\n",
        "\n",
        "def stat_comp(net, params, x):\n",
        "    for idx, module in enumerate(net):\n",
        "        c_i = x.shape[1]\n",
        "        x = module(x)\n",
        "        if type(module) == nn.Conv2d:\n",
        "            k = [p.shape for p in module.parameters()]\n",
        "            c_o,h_o,w_o = x.shape[1], x.shape[2], x.shape[3]\n",
        "            params['conv'] += c_i*c_o*h_o*w_o*k[0][-1]*k[0][-2]\n",
        "        if type(module) == nn.Linear:\n",
        "            params['lr'] += sum(p.numel() for p in module.parameters())\n",
        "    return x\n",
        "\n",
        "\n",
        "def vgg_block(num_convs, out_channels):\n",
        "    layers = []\n",
        "    for _ in range(num_convs):\n",
        "        layers.append(nn.LazyConv2d(out_channels, kernel_size=3, padding=1))\n",
        "        layers.append(nn.ReLU())\n",
        "    layers.append(nn.MaxPool2d(kernel_size=2, stride=2))\n",
        "    return nn.Sequential(*layers)\n",
        "\n",
        "class VGG(d2l.torch.Classifier):\n",
        "    def __init__(self, arch, lr=0.1, num_classes=10):\n",
        "        super().__init__()\n",
        "        self.save_hyperparameters()\n",
        "        conv_blks = []\n",
        "        for (num_convs, out_channels) in arch:\n",
        "            conv_blks.append(vgg_block(num_convs, out_channels))\n",
        "        self.net = nn.Sequential(*conv_blks, nn.Flatten(),\n",
        "                                 nn.LazyLinear(4096), nn.ReLU(), nn.Dropout(0.5),\n",
        "                                 nn.LazyLinear(4096), nn.ReLU(), nn.Dropout(0.5),\n",
        "                                 nn.LazyLinear(num_classes))\n",
        "        self.net.apply(d2l.torch.init_cnn)"
      ]
    },
    {
      "cell_type": "markdown",
      "metadata": {
        "id": "rUgTXUnCniYH"
      },
      "source": [
        "**1. Compared with AlexNet, VGG is much slower in terms of computation, and it also needs more GPU memory.**\n",
        "* Compare the number of parameters needed for AlexNet and VGG."
      ]
    },
    {
      "cell_type": "code",
      "execution_count": null,
      "metadata": {
        "colab": {
          "base_uri": "https://localhost:8080/"
        },
        "id": "p65X02jW1-p7",
        "outputId": "510f125a-2d20-4af6-a2a7-3a32c8794853"
      },
      "outputs": [
        {
          "name": "stdout",
          "output_type": "stream",
          "text": [
            "----------------------------------------------------------------\n",
            "        Layer (type)               Output Shape         Param #\n",
            "================================================================\n",
            "            Conv2d-1         [-1, 64, 224, 224]           1,792\n",
            "              ReLU-2         [-1, 64, 224, 224]               0\n",
            "         MaxPool2d-3         [-1, 64, 112, 112]               0\n",
            "            Conv2d-4        [-1, 128, 112, 112]          73,856\n",
            "              ReLU-5        [-1, 128, 112, 112]               0\n",
            "         MaxPool2d-6          [-1, 128, 56, 56]               0\n",
            "            Conv2d-7          [-1, 256, 56, 56]         295,168\n",
            "              ReLU-8          [-1, 256, 56, 56]               0\n",
            "            Conv2d-9          [-1, 256, 56, 56]         590,080\n",
            "             ReLU-10          [-1, 256, 56, 56]               0\n",
            "        MaxPool2d-11          [-1, 256, 28, 28]               0\n",
            "           Conv2d-12          [-1, 512, 28, 28]       1,180,160\n",
            "             ReLU-13          [-1, 512, 28, 28]               0\n",
            "           Conv2d-14          [-1, 512, 28, 28]       2,359,808\n",
            "             ReLU-15          [-1, 512, 28, 28]               0\n",
            "        MaxPool2d-16          [-1, 512, 14, 14]               0\n",
            "           Conv2d-17          [-1, 512, 14, 14]       2,359,808\n",
            "             ReLU-18          [-1, 512, 14, 14]               0\n",
            "           Conv2d-19          [-1, 512, 14, 14]       2,359,808\n",
            "             ReLU-20          [-1, 512, 14, 14]               0\n",
            "        MaxPool2d-21            [-1, 512, 7, 7]               0\n",
            "          Flatten-22                [-1, 25088]               0\n",
            "           Linear-23                 [-1, 4096]     102,764,544\n",
            "             ReLU-24                 [-1, 4096]               0\n",
            "          Dropout-25                 [-1, 4096]               0\n",
            "           Linear-26                 [-1, 4096]      16,781,312\n",
            "             ReLU-27                 [-1, 4096]               0\n",
            "          Dropout-28                 [-1, 4096]               0\n",
            "           Linear-29                   [-1, 10]          40,970\n",
            "================================================================\n",
            "Total params: 128,807,306\n",
            "Trainable params: 128,807,306\n",
            "Non-trainable params: 0\n",
            "----------------------------------------------------------------\n",
            "Input size (MB): 0.57\n",
            "Forward/backward pass size (MB): 125.37\n",
            "Params size (MB): 491.36\n",
            "Estimated Total Size (MB): 617.30\n",
            "----------------------------------------------------------------\n"
          ]
        },
        {
          "data": {
            "text/plain": [
              "{'conv': 9220480, 'lr': 119586826}"
            ]
          },
          "execution_count": 20,
          "metadata": {},
          "output_type": "execute_result"
        }
      ],
      "source": [
        "arch=((1, 64), (1, 128), (2, 256), (2, 512), (2, 512))\n",
        "vgg = VGG(arch=arch)\n",
        "X = torch.randn(1,3, 224, 224)\n",
        "_ = vgg(X)\n",
        "params = {'conv':0, 'lr':0}\n",
        "for idx, module in enumerate(vgg.net):\n",
        "    if type(module) == nn.Sequential:\n",
        "        stat_params(module,params)\n",
        "    if type(module) == nn.Linear:\n",
        "        num = sum(p.numel() for p in module.parameters())\n",
        "        params['lr'] += num\n",
        "summary(vgg, (3, 224, 224))\n",
        "params"
      ]
    },
    {
      "cell_type": "markdown",
      "metadata": {
        "id": "qmT_ci-v2Y6g"
      },
      "source": [
        "![Screenshot (2129).png](data:image/png;base64,iVBORw0KGgoAAAANSUhEUgAAASAAAAA6CAYAAAAQuYTJAAAAAXNSR0IArs4c6QAAAARnQU1BAACxjwv8YQUAAAAJcEhZcwAADsMAAA7DAcdvqGQAAAxeSURBVHhe7Z27VttMEICH/1nsFCRPYJ7ApElFm06UuKGjpKMxJe7SUtHEfgL8BIQi9rv4n71I2p3dHa2NLsGe7xydRNrrXDRaCXY42yFwgvz58we+fv1qz06PU5c/heilX/6z/wqCIPSOBCBBEAZDApAg/MOsrs/g7Hplz44PCUAf4NidQxiaFbwsAIofU3vezGfzSQlADWiDnp1B1zYtx7l43Norhu3jxV4OtW/9ttHjn13jrUPZwuMF0eP2ES5QZiV3eQRTz6nTMYPJtHqBxWQOtyT+HJNPSgBiUU+gCRTFBBYvHVsbmUwmsJ49RBz98zC6uYMCFhCoa/UAs3UB1cN8dQ1n4xl8W+5A/SDWHEuAS+dGz6nTA0PJtMLlz+TqO4zsueHIfBIVcJK8vb3Z/zEsix1M5rvNZr5Dk++W9nLJsoAdFO7VzW4+wWuoVnM4bXQfk918Ez9XfU3mS9Pe6XMzn2SOQa+r/srBQrLkP5BQL/Taclfg/EgVQk6d9knppX+ZVF3HX0qOzCclADEYAyiFGUVS5VFj03NtKOUswXnYXzUWcQJq7KwxPOeI02UAwkk6TqggN15QHiGnTgck9dK3TKquY9eSY/NJCUApYkonDuEpnj5NNPQpZpwWl7XRvkrj635tuWe8jDE4Y7t0GoCsnNU06M1EbkQ9Z6zvPT1z6nRAWi99yhQPLtjg6HxSvgEl2P5+hvXkCr7bF/DR9yuYrJ/ht/89jrCG2dj9uHgJC1timMITWnK9XkNxd0Pe7WumT0so1jP4ST7+GZrG+BeYwi3eQeU3ivi3jJrRzav5FoK6SZFTp1t6lGn7G57XE7gqnc9yjD4pASjKFn4/r1GvMxiXSh3PUM1reGatXQDGeeNU1fEKN5VVV3B9+QbzeQEL9kOqdYrZA/y2V2qaxvg30DfH4h4et+ajqXczTX/EP+q65NTpmb5k0oGmuCM2PVKfxMonCfsKopfKdFlpl5LOUhnt4SwtE8tmh7q+qesuS1WZ39bWUcvzPcaILctjdPsKprBzjSztFUaX5INs4hWFq9M2vF76kMmM4ZUrjtQnJQBF8I3o4n8HCOs5BiqPUvH0xiHvzqGxEV1njzEUZRs8OKfoPgCpqURuNhdnruWR1AFXp0Wa9NK5TLosDLDH6pOyG/5EkV3fcYbWi/qlvfH7Heye8n/7+TMj34AE4Z/BfOfZZ+vFZ0cCkCD8M4zg5nUHJ7L40UgAEgRhMM7URzf7f0EQhF6Rj9AninyEjiN66Rd5BRMEYTAkAAmCMBgSgARBGAwJQIIgDIYEIEEQBkMC0J6Y/MB2N7KbJ1il2qyuu4e/wzjIs9vQzh+Pzz+cXdYFnhwX4GZt4GQ4WD5LNG8x0alX1oNeWJkSsPmXq74cvTbIkWrnXw93v5fldB759iV9Mu006sfwp8hhmzGXu8LZZJfeIGgIytXmv0mBffAbKqt2ahOfM56/89kmkqp3DmJZuZGQKzO0uhmV9u9ucuRkOFg+i7oW6FO1c+rpjZA96oWVKUFUDtvW6auGl4Nt51z3/bPs06RgdecR6EmfO3ZK9cm2M9QBSBsKG9ujvm/oTle3A1NWLM3kTXk9YHiDmvqecAPRxg2YNjTiOb6i1FWDDoJ2Dm5ZYMyyf/wvV2ZpMwCFelD+kCEDJVc+TUKfug+3nTOXnvWi4eTVJOTgdMjKwbQjxP2XziNWLz2GWzennX0FW8H1eAYw36iAhMcS4P4RtvrPjoxh9m1pr+9gM3+DS7LMWlzew/nGlC+LNcweTOn0B4alxUtdN5Hp7XOygofZOpkVb/Uw85JKbR9/aj027fOh7Tw277CGb/AFy7Z/3zDWn8PYFpW8/UWrMWVdMPryDWD9Dht7bljDu3/B4MgQkCmfIqnP0Q3cFQvro8p/L+Ft/kvrs2+9aDh5kaQc27+As4Xnn+XrCx72PYuVg2nnw/uvS759/T6z2mHQiERUS/A0UbhRLHyC6L6qqKfq1uXxiDsMBz/ptK7sas8T3MWX29dj+ISpIe08/HYxXaoVpyrnykraftLr1W6pF/SPCfULDSd7vnw5+qzm4/TRv144eRFODu1nzmpB1zU6ZeVg2mka/bdBn/og9mX6ZNsh9UfoSEQ10ZsyhvNJ4ukWMAWzCFIR2KYaYPLOfgqmT/Vq8PwenzCxD3n3zh+Uw6fwT/V3oJ5QGzx+O5/VNa5EYQ6/knkut6AejHG4snaYPhmdmOMOvoWOw8qQL9+mQZ+4msen/ssPa6OrZxjHPn5qutULL1OOXzgrp9F3uMJIEl+tUTmYdhn+G4O1L9Nnk1/UAShYKiHjc8C5Ezbwjq9R50G0ijO9ncNEvYbp1y/nj7gdATpHMC54fZ8wy9A60Cp9qdfUckmMTonn69kYzi7Ua24JbVejfkJy+TaHzWtdFl/eouuh53FlvaD+oif4to7JULKffMDqc0WC+OjmF8zxganyJvepF05eQ4Nf6HuP+paBlYNpR4n7bwYR+5awfcbaYWRCzNK/XnbhuV7imeWYu6zyl3+m3Ft1qeWYtzy0SzqVR5csz4bkoKW2Ws5SXZBX1Ng1n/gSN97O6p8stw3kdU0vg8v2XJmh9Y+tFdSXOBkOlc+F6JPW815B+tALJ5Ma0r+faogcUbnKVytODqZdhv+G86AQ+2b1qaB+YbABCLGGUjGpFlRhGprreESCi6dPJTBRvpkUqTcwhzmakbfShacnRVzJPjEDJ9pp53HHs0epyKTNEK4MaTUAeWMROTgZPiJfRahP/7sDmU/XemmQKT8AIUSvXjNOjmQ7zn/JfW4PPR/SnzdHrk+2nUHScZwoknYiTqd6Ub88OH6Hu13z98BTQX4TWhB6Qv29L5jfSvBxkAAkCD2h/hLqa/KnfKeJBCBBEAZDckILgjAY8hH6RJGP0HFEL/0ir2CCIAyGBCBBEAZDApAgCIMhAUgQhMGoApBOCdlFfkpBEIQEsgJi0EH5zM+Py+a/PTSHcaodly+aK4u0DXL8MiTzAiP75wxWScHqeejDVUzDPH19O/0y7fw2+fmS26Jp/ArOhlxZpG3MVqGvNdjCspePKry5EH02zVP9GF6R3iR3nDRuOtSbaiP5hp2Ntr7OyIZSvSmRbBJM9dnUzoGzU12m+qSbAv0+4/KXc4nkBebK6Jz1ub87Oz5lfp56E3Nyp3yinfq/04buzk73afjwZtSG8Ztoy77aBoGvcbaw7OujrO2b55lYAamkThjJHsvoRZ70Rw8+Ke4XUNzdwrm9YpjCk5PfZXw+UZmeTE4fm+vkrvxV++mtzkNTJ25L9NnYzgGfQveLCcxjGcvcMp2W001K9QXPckD5djt4vYkle0qXmRShV1Bl2p3+QIky8syw81T5kQDmvyL5dLh2oxt4dfMKeflpmD7bgh2/gdbsm/LfJvb3Udb2GX7IvIKtYYbGwkiGq6TT2r2bl7/Zz397aA7jffIUc/mivTImL3IXxBNk+UG0TrzlLNG5eWrnTeQ23kc+Nycz12dXNOSEdmnLvk3+G7UFcoiPsrbPsZNdCeHKKXydYJdqn5zkUlsvE/3Xh/B1A3WlDkdBsaW90qluy/TJtvPgbBIv0zZV84y8cvCvGhG5K+Jl1Vj6SOWEtvKSV5LoPOnSXuvQ75OTz0DmmtHnh1/BPDg9Ulqyb5P/Oni2+ICPNtmes5N8hPbAKP2zIU9vdk7d3BzGlHieYi5fdFi2T17kdsjJCa0Y3dzhEn0BOk144zzd5bub2zhPvnhO5lSf7dOc57qmHftm+K9DbYv92lEfTds+w05YoNFRqgpbp7oCMnIrtQRH7Cmrnxr2iep9fFOYp4j/N9PIofpMtrOnmv2ejuETK3wStr0C8ghkcnB0xs7T1a2mLsuRT/sztRnTZ0lbK6Do+Enasu+c9zVbu6LSRxs+anHq5thJAhALUZgymKMUreDKMERnyZuQGqG5nT+OT7SM9qEdzbdndwHIyFOWLwv3hlfn1qnNCTNPMo6ua/vKaBe94bg+LR8PQNz4Vn7XEEgX9jX48rK28CB6wpHyfNu3fc48JQCxUENY50LdmMM3aKngaFkF7RNh2xGjeqTLtD2rPsM6cflNf267ui1T5s2fjKWd0GlDHJ6dJ+nX9cdkOzpeeZSNmT4VHw5ADeP795miG/saiK812KJmDx/lbI80zVPScZwoknYiTqd6Ub/MJzmhPeQjtCD0hOSEDpEAJAg9ITmhQyQACYIwEAD/A1xE5AkpWPQuAAAAAElFTkSuQmCC)"
      ]
    },
    {
      "cell_type": "markdown",
      "metadata": {
        "id": "eCMVr9qxnpAT"
      },
      "source": [
        "* Compare the number of floating point operations used in the convolutional layers and in the fully connected layers."
      ]
    },
    {
      "cell_type": "code",
      "execution_count": null,
      "metadata": {
        "colab": {
          "base_uri": "https://localhost:8080/"
        },
        "id": "HkowHsXQ4EmX",
        "outputId": "67da1706-5def-4aed-f475-1e847fd71c17"
      },
      "outputs": [
        {
          "data": {
            "text/plain": [
              "{'conv': 7485456384, 'lr': 119586826}"
            ]
          },
          "execution_count": 21,
          "metadata": {},
          "output_type": "execute_result"
        }
      ],
      "source": [
        "x = torch.randn(1,3, 224, 224)\n",
        "params = {'conv':0, 'lr':0}\n",
        "for idx, module in enumerate(vgg.net):\n",
        "    if type(module) == nn.Sequential:\n",
        "        x = stat_comp(module, params, x)\n",
        "    if type(module) == nn.Linear:\n",
        "        params['lr'] += sum(p.numel() for p in module.parameters())\n",
        "params"
      ]
    },
    {
      "cell_type": "markdown",
      "metadata": {
        "id": "0rGZ_DCY4pOr"
      },
      "source": [
        "![Screenshot (2130).png](data:image/png;base64,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)"
      ]
    },
    {
      "cell_type": "markdown",
      "metadata": {
        "id": "93EgjS2EnvRc"
      },
      "source": [
        "* How could you reduce the computational cost created by the fully connected layers?\n",
        "  *   Mengurangi jumlah neuron di fully connected layers dapat mengurangi jumlah parameter yang harus dihitung, sehingga akan secara otomatis menurunkan biaya komputasi.\n",
        "  * Menggunakan regularisasi seperti dropout untuk mengurangi overfitting sehingga mengurangi kompleksitas komputasi.\n",
        "  * Menggunakan global average pooling untuk mengurangi dimensi fitur data dan jumlah parameter tanpa mengurangi performa model.\n",
        "  * Mengurangi resolusi atau ukuran feature map untuk mengurangi dimensi input ke fully connected layers."
      ]
    },
    {
      "cell_type": "markdown",
      "metadata": {
        "id": "F2Ki83vdny69"
      },
      "source": [
        "**2. When displaying the dimensions associated with the various layers of the network, we only see the information associated with eight blocks (plus some auxiliary transforms), even though the network has 11 layers. Where did the remaining three layers go?**"
      ]
    },
    {
      "cell_type": "code",
      "execution_count": null,
      "metadata": {
        "colab": {
          "base_uri": "https://localhost:8080/"
        },
        "id": "Vlowa6SQ6TqN",
        "outputId": "c5a136dc-88f1-468d-b9fd-8cdb7ce647bd"
      },
      "outputs": [
        {
          "data": {
            "text/plain": [
              "VGG(\n",
              "  (net): Sequential(\n",
              "    (0): Sequential(\n",
              "      (0): Conv2d(3, 64, kernel_size=(3, 3), stride=(1, 1), padding=(1, 1))\n",
              "      (1): ReLU()\n",
              "      (2): MaxPool2d(kernel_size=2, stride=2, padding=0, dilation=1, ceil_mode=False)\n",
              "    )\n",
              "    (1): Sequential(\n",
              "      (0): Conv2d(64, 128, kernel_size=(3, 3), stride=(1, 1), padding=(1, 1))\n",
              "      (1): ReLU()\n",
              "      (2): MaxPool2d(kernel_size=2, stride=2, padding=0, dilation=1, ceil_mode=False)\n",
              "    )\n",
              "    (2): Sequential(\n",
              "      (0): Conv2d(128, 256, kernel_size=(3, 3), stride=(1, 1), padding=(1, 1))\n",
              "      (1): ReLU()\n",
              "      (2): Conv2d(256, 256, kernel_size=(3, 3), stride=(1, 1), padding=(1, 1))\n",
              "      (3): ReLU()\n",
              "      (4): MaxPool2d(kernel_size=2, stride=2, padding=0, dilation=1, ceil_mode=False)\n",
              "    )\n",
              "    (3): Sequential(\n",
              "      (0): Conv2d(256, 512, kernel_size=(3, 3), stride=(1, 1), padding=(1, 1))\n",
              "      (1): ReLU()\n",
              "      (2): Conv2d(512, 512, kernel_size=(3, 3), stride=(1, 1), padding=(1, 1))\n",
              "      (3): ReLU()\n",
              "      (4): MaxPool2d(kernel_size=2, stride=2, padding=0, dilation=1, ceil_mode=False)\n",
              "    )\n",
              "    (4): Sequential(\n",
              "      (0): Conv2d(512, 512, kernel_size=(3, 3), stride=(1, 1), padding=(1, 1))\n",
              "      (1): ReLU()\n",
              "      (2): Conv2d(512, 512, kernel_size=(3, 3), stride=(1, 1), padding=(1, 1))\n",
              "      (3): ReLU()\n",
              "      (4): MaxPool2d(kernel_size=2, stride=2, padding=0, dilation=1, ceil_mode=False)\n",
              "    )\n",
              "    (5): Flatten(start_dim=1, end_dim=-1)\n",
              "    (6): Linear(in_features=25088, out_features=4096, bias=True)\n",
              "    (7): ReLU()\n",
              "    (8): Dropout(p=0.5, inplace=False)\n",
              "    (9): Linear(in_features=4096, out_features=4096, bias=True)\n",
              "    (10): ReLU()\n",
              "    (11): Dropout(p=0.5, inplace=False)\n",
              "    (12): Linear(in_features=4096, out_features=10, bias=True)\n",
              "  )\n",
              ")"
            ]
          },
          "execution_count": 22,
          "metadata": {},
          "output_type": "execute_result"
        }
      ],
      "source": [
        "vgg"
      ]
    },
    {
      "cell_type": "markdown",
      "metadata": {
        "id": "XTdTGyp-n1a5"
      },
      "source": [
        "**3. Use Table 1 in the VGG paper (Simonyan and Zisserman, 2014) to construct other common models, such as VGG-16 or VGG-19.**"
      ]
    },
    {
      "cell_type": "code",
      "execution_count": null,
      "metadata": {
        "colab": {
          "base_uri": "https://localhost:8080/"
        },
        "id": "2l46OzuT6gL1",
        "outputId": "610f122e-0e0b-4c53-b1a4-f335ee79dc15"
      },
      "outputs": [
        {
          "data": {
            "text/plain": [
              "VGG(\n",
              "  (net): Sequential(\n",
              "    (0): Sequential(\n",
              "      (0): LazyConv2d(0, 64, kernel_size=(3, 3), stride=(1, 1), padding=(1, 1))\n",
              "      (1): ReLU()\n",
              "      (2): LazyConv2d(0, 64, kernel_size=(3, 3), stride=(1, 1), padding=(1, 1))\n",
              "      (3): ReLU()\n",
              "      (4): MaxPool2d(kernel_size=2, stride=2, padding=0, dilation=1, ceil_mode=False)\n",
              "    )\n",
              "    (1): Sequential(\n",
              "      (0): LazyConv2d(0, 128, kernel_size=(3, 3), stride=(1, 1), padding=(1, 1))\n",
              "      (1): ReLU()\n",
              "      (2): LazyConv2d(0, 128, kernel_size=(3, 3), stride=(1, 1), padding=(1, 1))\n",
              "      (3): ReLU()\n",
              "      (4): MaxPool2d(kernel_size=2, stride=2, padding=0, dilation=1, ceil_mode=False)\n",
              "    )\n",
              "    (2): Sequential(\n",
              "      (0): LazyConv2d(0, 256, kernel_size=(3, 3), stride=(1, 1), padding=(1, 1))\n",
              "      (1): ReLU()\n",
              "      (2): LazyConv2d(0, 256, kernel_size=(3, 3), stride=(1, 1), padding=(1, 1))\n",
              "      (3): ReLU()\n",
              "      (4): LazyConv2d(0, 256, kernel_size=(3, 3), stride=(1, 1), padding=(1, 1))\n",
              "      (5): ReLU()\n",
              "      (6): MaxPool2d(kernel_size=2, stride=2, padding=0, dilation=1, ceil_mode=False)\n",
              "    )\n",
              "    (3): Sequential(\n",
              "      (0): LazyConv2d(0, 512, kernel_size=(3, 3), stride=(1, 1), padding=(1, 1))\n",
              "      (1): ReLU()\n",
              "      (2): LazyConv2d(0, 512, kernel_size=(3, 3), stride=(1, 1), padding=(1, 1))\n",
              "      (3): ReLU()\n",
              "      (4): LazyConv2d(0, 512, kernel_size=(3, 3), stride=(1, 1), padding=(1, 1))\n",
              "      (5): ReLU()\n",
              "      (6): LazyConv2d(0, 512, kernel_size=(3, 3), stride=(1, 1), padding=(1, 1))\n",
              "      (7): ReLU()\n",
              "      (8): LazyConv2d(0, 512, kernel_size=(3, 3), stride=(1, 1), padding=(1, 1))\n",
              "      (9): ReLU()\n",
              "      (10): LazyConv2d(0, 512, kernel_size=(3, 3), stride=(1, 1), padding=(1, 1))\n",
              "      (11): ReLU()\n",
              "      (12): LazyConv2d(0, 512, kernel_size=(3, 3), stride=(1, 1), padding=(1, 1))\n",
              "      (13): ReLU()\n",
              "      (14): LazyConv2d(0, 512, kernel_size=(3, 3), stride=(1, 1), padding=(1, 1))\n",
              "      (15): ReLU()\n",
              "      (16): LazyConv2d(0, 512, kernel_size=(3, 3), stride=(1, 1), padding=(1, 1))\n",
              "      (17): ReLU()\n",
              "      (18): LazyConv2d(0, 512, kernel_size=(3, 3), stride=(1, 1), padding=(1, 1))\n",
              "      (19): ReLU()\n",
              "      (20): LazyConv2d(0, 512, kernel_size=(3, 3), stride=(1, 1), padding=(1, 1))\n",
              "      (21): ReLU()\n",
              "      (22): LazyConv2d(0, 512, kernel_size=(3, 3), stride=(1, 1), padding=(1, 1))\n",
              "      (23): ReLU()\n",
              "      (24): LazyConv2d(0, 512, kernel_size=(3, 3), stride=(1, 1), padding=(1, 1))\n",
              "      (25): ReLU()\n",
              "      (26): LazyConv2d(0, 512, kernel_size=(3, 3), stride=(1, 1), padding=(1, 1))\n",
              "      (27): ReLU()\n",
              "      (28): LazyConv2d(0, 512, kernel_size=(3, 3), stride=(1, 1), padding=(1, 1))\n",
              "      (29): ReLU()\n",
              "      (30): LazyConv2d(0, 512, kernel_size=(3, 3), stride=(1, 1), padding=(1, 1))\n",
              "      (31): ReLU()\n",
              "      (32): LazyConv2d(0, 512, kernel_size=(3, 3), stride=(1, 1), padding=(1, 1))\n",
              "      (33): ReLU()\n",
              "      (34): LazyConv2d(0, 512, kernel_size=(3, 3), stride=(1, 1), padding=(1, 1))\n",
              "      (35): ReLU()\n",
              "      (36): LazyConv2d(0, 512, kernel_size=(3, 3), stride=(1, 1), padding=(1, 1))\n",
              "      (37): ReLU()\n",
              "      (38): LazyConv2d(0, 512, kernel_size=(3, 3), stride=(1, 1), padding=(1, 1))\n",
              "      (39): ReLU()\n",
              "      (40): LazyConv2d(0, 512, kernel_size=(3, 3), stride=(1, 1), padding=(1, 1))\n",
              "      (41): ReLU()\n",
              "      (42): LazyConv2d(0, 512, kernel_size=(3, 3), stride=(1, 1), padding=(1, 1))\n",
              "      (43): ReLU()\n",
              "      (44): LazyConv2d(0, 512, kernel_size=(3, 3), stride=(1, 1), padding=(1, 1))\n",
              "      (45): ReLU()\n",
              "      (46): LazyConv2d(0, 512, kernel_size=(3, 3), stride=(1, 1), padding=(1, 1))\n",
              "      (47): ReLU()\n",
              "      (48): LazyConv2d(0, 512, kernel_size=(3, 3), stride=(1, 1), padding=(1, 1))\n",
              "      (49): ReLU()\n",
              "      (50): LazyConv2d(0, 512, kernel_size=(3, 3), stride=(1, 1), padding=(1, 1))\n",
              "      (51): ReLU()\n",
              "      (52): LazyConv2d(0, 512, kernel_size=(3, 3), stride=(1, 1), padding=(1, 1))\n",
              "      (53): ReLU()\n",
              "      (54): LazyConv2d(0, 512, kernel_size=(3, 3), stride=(1, 1), padding=(1, 1))\n",
              "      (55): ReLU()\n",
              "      (56): LazyConv2d(0, 512, kernel_size=(3, 3), stride=(1, 1), padding=(1, 1))\n",
              "      (57): ReLU()\n",
              "      (58): LazyConv2d(0, 512, kernel_size=(3, 3), stride=(1, 1), padding=(1, 1))\n",
              "      (59): ReLU()\n",
              "      (60): LazyConv2d(0, 512, kernel_size=(3, 3), stride=(1, 1), padding=(1, 1))\n",
              "      (61): ReLU()\n",
              "      (62): LazyConv2d(0, 512, kernel_size=(3, 3), stride=(1, 1), padding=(1, 1))\n",
              "      (63): ReLU()\n",
              "      (64): MaxPool2d(kernel_size=2, stride=2, padding=0, dilation=1, ceil_mode=False)\n",
              "    )\n",
              "    (4): Sequential(\n",
              "      (0): LazyConv2d(0, 512, kernel_size=(3, 3), stride=(1, 1), padding=(1, 1))\n",
              "      (1): ReLU()\n",
              "      (2): LazyConv2d(0, 512, kernel_size=(3, 3), stride=(1, 1), padding=(1, 1))\n",
              "      (3): ReLU()\n",
              "      (4): LazyConv2d(0, 512, kernel_size=(3, 3), stride=(1, 1), padding=(1, 1))\n",
              "      (5): ReLU()\n",
              "      (6): MaxPool2d(kernel_size=2, stride=2, padding=0, dilation=1, ceil_mode=False)\n",
              "    )\n",
              "    (5): Flatten(start_dim=1, end_dim=-1)\n",
              "    (6): LazyLinear(in_features=0, out_features=4096, bias=True)\n",
              "    (7): ReLU()\n",
              "    (8): Dropout(p=0.5, inplace=False)\n",
              "    (9): LazyLinear(in_features=0, out_features=4096, bias=True)\n",
              "    (10): ReLU()\n",
              "    (11): Dropout(p=0.5, inplace=False)\n",
              "    (12): LazyLinear(in_features=0, out_features=10, bias=True)\n",
              "  )\n",
              ")"
            ]
          },
          "execution_count": 23,
          "metadata": {},
          "output_type": "execute_result"
        }
      ],
      "source": [
        "arch16=((2, 64), (2, 128), (3, 256), (32, 512), (3, 512))\n",
        "vgg16 = VGG(arch=arch16)\n",
        "vgg16"
      ]
    },
    {
      "cell_type": "code",
      "execution_count": null,
      "metadata": {
        "colab": {
          "base_uri": "https://localhost:8080/"
        },
        "id": "Jr1PW-gW6nJD",
        "outputId": "28af446d-527d-405a-b7e4-a4778c105f85"
      },
      "outputs": [
        {
          "data": {
            "text/plain": [
              "VGG(\n",
              "  (net): Sequential(\n",
              "    (0): Sequential(\n",
              "      (0): LazyConv2d(0, 64, kernel_size=(3, 3), stride=(1, 1), padding=(1, 1))\n",
              "      (1): ReLU()\n",
              "      (2): LazyConv2d(0, 64, kernel_size=(3, 3), stride=(1, 1), padding=(1, 1))\n",
              "      (3): ReLU()\n",
              "      (4): MaxPool2d(kernel_size=2, stride=2, padding=0, dilation=1, ceil_mode=False)\n",
              "    )\n",
              "    (1): Sequential(\n",
              "      (0): LazyConv2d(0, 128, kernel_size=(3, 3), stride=(1, 1), padding=(1, 1))\n",
              "      (1): ReLU()\n",
              "      (2): LazyConv2d(0, 128, kernel_size=(3, 3), stride=(1, 1), padding=(1, 1))\n",
              "      (3): ReLU()\n",
              "      (4): MaxPool2d(kernel_size=2, stride=2, padding=0, dilation=1, ceil_mode=False)\n",
              "    )\n",
              "    (2): Sequential(\n",
              "      (0): LazyConv2d(0, 256, kernel_size=(3, 3), stride=(1, 1), padding=(1, 1))\n",
              "      (1): ReLU()\n",
              "      (2): LazyConv2d(0, 256, kernel_size=(3, 3), stride=(1, 1), padding=(1, 1))\n",
              "      (3): ReLU()\n",
              "      (4): LazyConv2d(0, 256, kernel_size=(3, 3), stride=(1, 1), padding=(1, 1))\n",
              "      (5): ReLU()\n",
              "      (6): LazyConv2d(0, 256, kernel_size=(3, 3), stride=(1, 1), padding=(1, 1))\n",
              "      (7): ReLU()\n",
              "      (8): MaxPool2d(kernel_size=2, stride=2, padding=0, dilation=1, ceil_mode=False)\n",
              "    )\n",
              "    (3): Sequential(\n",
              "      (0): LazyConv2d(0, 512, kernel_size=(3, 3), stride=(1, 1), padding=(1, 1))\n",
              "      (1): ReLU()\n",
              "      (2): LazyConv2d(0, 512, kernel_size=(3, 3), stride=(1, 1), padding=(1, 1))\n",
              "      (3): ReLU()\n",
              "      (4): LazyConv2d(0, 512, kernel_size=(3, 3), stride=(1, 1), padding=(1, 1))\n",
              "      (5): ReLU()\n",
              "      (6): LazyConv2d(0, 512, kernel_size=(3, 3), stride=(1, 1), padding=(1, 1))\n",
              "      (7): ReLU()\n",
              "      (8): MaxPool2d(kernel_size=2, stride=2, padding=0, dilation=1, ceil_mode=False)\n",
              "    )\n",
              "    (4): Sequential(\n",
              "      (0): LazyConv2d(0, 512, kernel_size=(3, 3), stride=(1, 1), padding=(1, 1))\n",
              "      (1): ReLU()\n",
              "      (2): LazyConv2d(0, 512, kernel_size=(3, 3), stride=(1, 1), padding=(1, 1))\n",
              "      (3): ReLU()\n",
              "      (4): LazyConv2d(0, 512, kernel_size=(3, 3), stride=(1, 1), padding=(1, 1))\n",
              "      (5): ReLU()\n",
              "      (6): LazyConv2d(0, 512, kernel_size=(3, 3), stride=(1, 1), padding=(1, 1))\n",
              "      (7): ReLU()\n",
              "      (8): MaxPool2d(kernel_size=2, stride=2, padding=0, dilation=1, ceil_mode=False)\n",
              "    )\n",
              "    (5): Flatten(start_dim=1, end_dim=-1)\n",
              "    (6): LazyLinear(in_features=0, out_features=4096, bias=True)\n",
              "    (7): ReLU()\n",
              "    (8): Dropout(p=0.5, inplace=False)\n",
              "    (9): LazyLinear(in_features=0, out_features=4096, bias=True)\n",
              "    (10): ReLU()\n",
              "    (11): Dropout(p=0.5, inplace=False)\n",
              "    (12): LazyLinear(in_features=0, out_features=10, bias=True)\n",
              "  )\n",
              ")"
            ]
          },
          "execution_count": 24,
          "metadata": {},
          "output_type": "execute_result"
        }
      ],
      "source": [
        "arch19=((2, 64), (2, 128), (4, 256), (4, 512), (4, 512))\n",
        "vgg19 = VGG(arch=arch19)\n",
        "vgg19"
      ]
    },
    {
      "cell_type": "markdown",
      "metadata": {
        "id": "PrTYApyhn5mC"
      },
      "source": [
        "**4. Upsampling the resolution in Fashion-MNIST eight-fold from $28 × 28$ to $224 × 224$ dimensions is very wasteful. Try modifying the network architecture and resolution conversion, e.g., to 56 or to 84 dimensions for its input instead. Can you do so without reducing the accuracy of the network? Consult the VGG paper (Simonyan and Zisserman, 2014) for ideas on adding more nonlinearities prior to downsampling.**"
      ]
    },
    {
      "cell_type": "code",
      "execution_count": null,
      "metadata": {
        "colab": {
          "background_save": true,
          "base_uri": "https://localhost:8080/",
          "height": 265
        },
        "id": "qNX4nZHG6wPC",
        "outputId": "5bbd6286-cf5e-4c56-cf5b-5c924e131164"
      },
      "outputs": [
        {
          "data": {
            "image/svg+xml": "<?xml version=\"1.0\" encoding=\"utf-8\" standalone=\"no\"?>\n<!DOCTYPE svg PUBLIC \"-//W3C//DTD SVG 1.1//EN\"\n  \"http://www.w3.org/Graphics/SVG/1.1/DTD/svg11.dtd\">\n<svg xmlns:xlink=\"http://www.w3.org/1999/xlink\" width=\"238.965625pt\" height=\"183.35625pt\" viewBox=\"0 0 238.965625 183.35625\" xmlns=\"http://www.w3.org/2000/svg\" version=\"1.1\">\n <metadata>\n  <rdf:RDF xmlns:dc=\"http://purl.org/dc/elements/1.1/\" xmlns:cc=\"http://creativecommons.org/ns#\" xmlns:rdf=\"http://www.w3.org/1999/02/22-rdf-syntax-ns#\">\n   <cc:Work>\n    <dc:type rdf:resource=\"http://purl.org/dc/dcmitype/StillImage\"/>\n    <dc:date>2024-09-27T17:41:04.473166</dc:date>\n    <dc:format>image/svg+xml</dc:format>\n    <dc:creator>\n     <cc:Agent>\n      <dc:title>Matplotlib v3.7.2, https://matplotlib.org/</dc:title>\n     </cc:Agent>\n    </dc:creator>\n   </cc:Work>\n  </rdf:RDF>\n </metadata>\n <defs>\n  <style type=\"text/css\">*{stroke-linejoin: round; stroke-linecap: butt}</style>\n </defs>\n <g id=\"figure_1\">\n  <g id=\"patch_1\">\n   <path d=\"M 0 183.35625 \nL 238.965625 183.35625 \nL 238.965625 0 \nL 0 0 \nz\n\" style=\"fill: #ffffff\"/>\n  </g>\n  <g id=\"axes_1\">\n   <g id=\"patch_2\">\n    <path d=\"M 30.103125 145.8 \nL 225.403125 145.8 \nL 225.403125 7.2 \nL 30.103125 7.2 \nz\n\" style=\"fill: #ffffff\"/>\n   </g>\n   <g id=\"matplotlib.axis_1\">\n    <g id=\"xtick_1\">\n     <g id=\"line2d_1\">\n      <defs>\n       <path id=\"mf13d164545\" d=\"M 0 0 \nL 0 3.5 \n\" style=\"stroke: #000000; stroke-width: 0.8\"/>\n      </defs>\n      <g>\n       <use xlink:href=\"#mf13d164545\" x=\"30.103125\" y=\"145.8\" style=\"stroke: #000000; stroke-width: 0.8\"/>\n      </g>\n     </g>\n     <g id=\"text_1\">\n      <!-- 0 -->\n      <g transform=\"translate(26.921875 160.398438) scale(0.1 -0.1)\">\n       <defs>\n        <path id=\"DejaVuSans-30\" d=\"M 2034 4250 \nQ 1547 4250 1301 3770 \nQ 1056 3291 1056 2328 \nQ 1056 1369 1301 889 \nQ 1547 409 2034 409 \nQ 2525 409 2770 889 \nQ 3016 1369 3016 2328 \nQ 3016 3291 2770 3770 \nQ 2525 4250 2034 4250 \nz\nM 2034 4750 \nQ 2819 4750 3233 4129 \nQ 3647 3509 3647 2328 \nQ 3647 1150 3233 529 \nQ 2819 -91 2034 -91 \nQ 1250 -91 836 529 \nQ 422 1150 422 2328 \nQ 422 3509 836 4129 \nQ 1250 4750 2034 4750 \nz\n\" transform=\"scale(0.015625)\"/>\n       </defs>\n       <use xlink:href=\"#DejaVuSans-30\"/>\n      </g>\n     </g>\n    </g>\n    <g id=\"xtick_2\">\n     <g id=\"line2d_2\">\n      <g>\n       <use xlink:href=\"#mf13d164545\" x=\"69.163125\" y=\"145.8\" style=\"stroke: #000000; stroke-width: 0.8\"/>\n      </g>\n     </g>\n     <g id=\"text_2\">\n      <!-- 2 -->\n      <g transform=\"translate(65.981875 160.398438) scale(0.1 -0.1)\">\n       <defs>\n        <path id=\"DejaVuSans-32\" d=\"M 1228 531 \nL 3431 531 \nL 3431 0 \nL 469 0 \nL 469 531 \nQ 828 903 1448 1529 \nQ 2069 2156 2228 2338 \nQ 2531 2678 2651 2914 \nQ 2772 3150 2772 3378 \nQ 2772 3750 2511 3984 \nQ 2250 4219 1831 4219 \nQ 1534 4219 1204 4116 \nQ 875 4013 500 3803 \nL 500 4441 \nQ 881 4594 1212 4672 \nQ 1544 4750 1819 4750 \nQ 2544 4750 2975 4387 \nQ 3406 4025 3406 3419 \nQ 3406 3131 3298 2873 \nQ 3191 2616 2906 2266 \nQ 2828 2175 2409 1742 \nQ 1991 1309 1228 531 \nz\n\" transform=\"scale(0.015625)\"/>\n       </defs>\n       <use xlink:href=\"#DejaVuSans-32\"/>\n      </g>\n     </g>\n    </g>\n    <g id=\"xtick_3\">\n     <g id=\"line2d_3\">\n      <g>\n       <use xlink:href=\"#mf13d164545\" x=\"108.223125\" y=\"145.8\" style=\"stroke: #000000; stroke-width: 0.8\"/>\n      </g>\n     </g>\n     <g id=\"text_3\">\n      <!-- 4 -->\n      <g transform=\"translate(105.041875 160.398438) scale(0.1 -0.1)\">\n       <defs>\n        <path id=\"DejaVuSans-34\" d=\"M 2419 4116 \nL 825 1625 \nL 2419 1625 \nL 2419 4116 \nz\nM 2253 4666 \nL 3047 4666 \nL 3047 1625 \nL 3713 1625 \nL 3713 1100 \nL 3047 1100 \nL 3047 0 \nL 2419 0 \nL 2419 1100 \nL 313 1100 \nL 313 1709 \nL 2253 4666 \nz\n\" transform=\"scale(0.015625)\"/>\n       </defs>\n       <use xlink:href=\"#DejaVuSans-34\"/>\n      </g>\n     </g>\n    </g>\n    <g id=\"xtick_4\">\n     <g id=\"line2d_4\">\n      <g>\n       <use xlink:href=\"#mf13d164545\" x=\"147.283125\" y=\"145.8\" style=\"stroke: #000000; stroke-width: 0.8\"/>\n      </g>\n     </g>\n     <g id=\"text_4\">\n      <!-- 6 -->\n      <g transform=\"translate(144.101875 160.398438) scale(0.1 -0.1)\">\n       <defs>\n        <path id=\"DejaVuSans-36\" d=\"M 2113 2584 \nQ 1688 2584 1439 2293 \nQ 1191 2003 1191 1497 \nQ 1191 994 1439 701 \nQ 1688 409 2113 409 \nQ 2538 409 2786 701 \nQ 3034 994 3034 1497 \nQ 3034 2003 2786 2293 \nQ 2538 2584 2113 2584 \nz\nM 3366 4563 \nL 3366 3988 \nQ 3128 4100 2886 4159 \nQ 2644 4219 2406 4219 \nQ 1781 4219 1451 3797 \nQ 1122 3375 1075 2522 \nQ 1259 2794 1537 2939 \nQ 1816 3084 2150 3084 \nQ 2853 3084 3261 2657 \nQ 3669 2231 3669 1497 \nQ 3669 778 3244 343 \nQ 2819 -91 2113 -91 \nQ 1303 -91 875 529 \nQ 447 1150 447 2328 \nQ 447 3434 972 4092 \nQ 1497 4750 2381 4750 \nQ 2619 4750 2861 4703 \nQ 3103 4656 3366 4563 \nz\n\" transform=\"scale(0.015625)\"/>\n       </defs>\n       <use xlink:href=\"#DejaVuSans-36\"/>\n      </g>\n     </g>\n    </g>\n    <g id=\"xtick_5\">\n     <g id=\"line2d_5\">\n      <g>\n       <use xlink:href=\"#mf13d164545\" x=\"186.343125\" y=\"145.8\" style=\"stroke: #000000; stroke-width: 0.8\"/>\n      </g>\n     </g>\n     <g id=\"text_5\">\n      <!-- 8 -->\n      <g transform=\"translate(183.161875 160.398438) scale(0.1 -0.1)\">\n       <defs>\n        <path id=\"DejaVuSans-38\" d=\"M 2034 2216 \nQ 1584 2216 1326 1975 \nQ 1069 1734 1069 1313 \nQ 1069 891 1326 650 \nQ 1584 409 2034 409 \nQ 2484 409 2743 651 \nQ 3003 894 3003 1313 \nQ 3003 1734 2745 1975 \nQ 2488 2216 2034 2216 \nz\nM 1403 2484 \nQ 997 2584 770 2862 \nQ 544 3141 544 3541 \nQ 544 4100 942 4425 \nQ 1341 4750 2034 4750 \nQ 2731 4750 3128 4425 \nQ 3525 4100 3525 3541 \nQ 3525 3141 3298 2862 \nQ 3072 2584 2669 2484 \nQ 3125 2378 3379 2068 \nQ 3634 1759 3634 1313 \nQ 3634 634 3220 271 \nQ 2806 -91 2034 -91 \nQ 1263 -91 848 271 \nQ 434 634 434 1313 \nQ 434 1759 690 2068 \nQ 947 2378 1403 2484 \nz\nM 1172 3481 \nQ 1172 3119 1398 2916 \nQ 1625 2713 2034 2713 \nQ 2441 2713 2670 2916 \nQ 2900 3119 2900 3481 \nQ 2900 3844 2670 4047 \nQ 2441 4250 2034 4250 \nQ 1625 4250 1398 4047 \nQ 1172 3844 1172 3481 \nz\n\" transform=\"scale(0.015625)\"/>\n       </defs>\n       <use xlink:href=\"#DejaVuSans-38\"/>\n      </g>\n     </g>\n    </g>\n    <g id=\"xtick_6\">\n     <g id=\"line2d_6\">\n      <g>\n       <use xlink:href=\"#mf13d164545\" x=\"225.403125\" y=\"145.8\" style=\"stroke: #000000; stroke-width: 0.8\"/>\n      </g>\n     </g>\n     <g id=\"text_6\">\n      <!-- 10 -->\n      <g transform=\"translate(219.040625 160.398438) scale(0.1 -0.1)\">\n       <defs>\n        <path id=\"DejaVuSans-31\" d=\"M 794 531 \nL 1825 531 \nL 1825 4091 \nL 703 3866 \nL 703 4441 \nL 1819 4666 \nL 2450 4666 \nL 2450 531 \nL 3481 531 \nL 3481 0 \nL 794 0 \nL 794 531 \nz\n\" transform=\"scale(0.015625)\"/>\n       </defs>\n       <use xlink:href=\"#DejaVuSans-31\"/>\n       <use xlink:href=\"#DejaVuSans-30\" x=\"63.623047\"/>\n      </g>\n     </g>\n    </g>\n    <g id=\"text_7\">\n     <!-- epoch -->\n     <g transform=\"translate(112.525 174.076563) scale(0.1 -0.1)\">\n      <defs>\n       <path id=\"DejaVuSans-65\" d=\"M 3597 1894 \nL 3597 1613 \nL 953 1613 \nQ 991 1019 1311 708 \nQ 1631 397 2203 397 \nQ 2534 397 2845 478 \nQ 3156 559 3463 722 \nL 3463 178 \nQ 3153 47 2828 -22 \nQ 2503 -91 2169 -91 \nQ 1331 -91 842 396 \nQ 353 884 353 1716 \nQ 353 2575 817 3079 \nQ 1281 3584 2069 3584 \nQ 2775 3584 3186 3129 \nQ 3597 2675 3597 1894 \nz\nM 3022 2063 \nQ 3016 2534 2758 2815 \nQ 2500 3097 2075 3097 \nQ 1594 3097 1305 2825 \nQ 1016 2553 972 2059 \nL 3022 2063 \nz\n\" transform=\"scale(0.015625)\"/>\n       <path id=\"DejaVuSans-70\" d=\"M 1159 525 \nL 1159 -1331 \nL 581 -1331 \nL 581 3500 \nL 1159 3500 \nL 1159 2969 \nQ 1341 3281 1617 3432 \nQ 1894 3584 2278 3584 \nQ 2916 3584 3314 3078 \nQ 3713 2572 3713 1747 \nQ 3713 922 3314 415 \nQ 2916 -91 2278 -91 \nQ 1894 -91 1617 61 \nQ 1341 213 1159 525 \nz\nM 3116 1747 \nQ 3116 2381 2855 2742 \nQ 2594 3103 2138 3103 \nQ 1681 3103 1420 2742 \nQ 1159 2381 1159 1747 \nQ 1159 1113 1420 752 \nQ 1681 391 2138 391 \nQ 2594 391 2855 752 \nQ 3116 1113 3116 1747 \nz\n\" transform=\"scale(0.015625)\"/>\n       <path id=\"DejaVuSans-6f\" d=\"M 1959 3097 \nQ 1497 3097 1228 2736 \nQ 959 2375 959 1747 \nQ 959 1119 1226 758 \nQ 1494 397 1959 397 \nQ 2419 397 2687 759 \nQ 2956 1122 2956 1747 \nQ 2956 2369 2687 2733 \nQ 2419 3097 1959 3097 \nz\nM 1959 3584 \nQ 2709 3584 3137 3096 \nQ 3566 2609 3566 1747 \nQ 3566 888 3137 398 \nQ 2709 -91 1959 -91 \nQ 1206 -91 779 398 \nQ 353 888 353 1747 \nQ 353 2609 779 3096 \nQ 1206 3584 1959 3584 \nz\n\" transform=\"scale(0.015625)\"/>\n       <path id=\"DejaVuSans-63\" d=\"M 3122 3366 \nL 3122 2828 \nQ 2878 2963 2633 3030 \nQ 2388 3097 2138 3097 \nQ 1578 3097 1268 2742 \nQ 959 2388 959 1747 \nQ 959 1106 1268 751 \nQ 1578 397 2138 397 \nQ 2388 397 2633 464 \nQ 2878 531 3122 666 \nL 3122 134 \nQ 2881 22 2623 -34 \nQ 2366 -91 2075 -91 \nQ 1284 -91 818 406 \nQ 353 903 353 1747 \nQ 353 2603 823 3093 \nQ 1294 3584 2113 3584 \nQ 2378 3584 2631 3529 \nQ 2884 3475 3122 3366 \nz\n\" transform=\"scale(0.015625)\"/>\n       <path id=\"DejaVuSans-68\" d=\"M 3513 2113 \nL 3513 0 \nL 2938 0 \nL 2938 2094 \nQ 2938 2591 2744 2837 \nQ 2550 3084 2163 3084 \nQ 1697 3084 1428 2787 \nQ 1159 2491 1159 1978 \nL 1159 0 \nL 581 0 \nL 581 4863 \nL 1159 4863 \nL 1159 2956 \nQ 1366 3272 1645 3428 \nQ 1925 3584 2291 3584 \nQ 2894 3584 3203 3211 \nQ 3513 2838 3513 2113 \nz\n\" transform=\"scale(0.015625)\"/>\n      </defs>\n      <use xlink:href=\"#DejaVuSans-65\"/>\n      <use xlink:href=\"#DejaVuSans-70\" x=\"61.523438\"/>\n      <use xlink:href=\"#DejaVuSans-6f\" x=\"125\"/>\n      <use xlink:href=\"#DejaVuSans-63\" x=\"186.181641\"/>\n      <use xlink:href=\"#DejaVuSans-68\" x=\"241.162109\"/>\n     </g>\n    </g>\n   </g>\n   <g id=\"matplotlib.axis_2\">\n    <g id=\"ytick_1\">\n     <g id=\"line2d_7\">\n      <defs>\n       <path id=\"m9e1522328e\" d=\"M 0 0 \nL -3.5 0 \n\" style=\"stroke: #000000; stroke-width: 0.8\"/>\n      </defs>\n      <g>\n       <use xlink:href=\"#m9e1522328e\" x=\"30.103125\" y=\"145.154567\" style=\"stroke: #000000; stroke-width: 0.8\"/>\n      </g>\n     </g>\n     <g id=\"text_8\">\n      <!-- 0.0 -->\n      <g transform=\"translate(7.2 148.953786) scale(0.1 -0.1)\">\n       <defs>\n        <path id=\"DejaVuSans-2e\" d=\"M 684 794 \nL 1344 794 \nL 1344 0 \nL 684 0 \nL 684 794 \nz\n\" transform=\"scale(0.015625)\"/>\n       </defs>\n       <use xlink:href=\"#DejaVuSans-30\"/>\n       <use xlink:href=\"#DejaVuSans-2e\" x=\"63.623047\"/>\n       <use xlink:href=\"#DejaVuSans-30\" x=\"95.410156\"/>\n      </g>\n     </g>\n    </g>\n    <g id=\"ytick_2\">\n     <g id=\"line2d_8\">\n      <g>\n       <use xlink:href=\"#m9e1522328e\" x=\"30.103125\" y=\"116.565077\" style=\"stroke: #000000; stroke-width: 0.8\"/>\n      </g>\n     </g>\n     <g id=\"text_9\">\n      <!-- 0.5 -->\n      <g transform=\"translate(7.2 120.364295) scale(0.1 -0.1)\">\n       <defs>\n        <path id=\"DejaVuSans-35\" d=\"M 691 4666 \nL 3169 4666 \nL 3169 4134 \nL 1269 4134 \nL 1269 2991 \nQ 1406 3038 1543 3061 \nQ 1681 3084 1819 3084 \nQ 2600 3084 3056 2656 \nQ 3513 2228 3513 1497 \nQ 3513 744 3044 326 \nQ 2575 -91 1722 -91 \nQ 1428 -91 1123 -41 \nQ 819 9 494 109 \nL 494 744 \nQ 775 591 1075 516 \nQ 1375 441 1709 441 \nQ 2250 441 2565 725 \nQ 2881 1009 2881 1497 \nQ 2881 1984 2565 2268 \nQ 2250 2553 1709 2553 \nQ 1456 2553 1204 2497 \nQ 953 2441 691 2322 \nL 691 4666 \nz\n\" transform=\"scale(0.015625)\"/>\n       </defs>\n       <use xlink:href=\"#DejaVuSans-30\"/>\n       <use xlink:href=\"#DejaVuSans-2e\" x=\"63.623047\"/>\n       <use xlink:href=\"#DejaVuSans-35\" x=\"95.410156\"/>\n      </g>\n     </g>\n    </g>\n    <g id=\"ytick_3\">\n     <g id=\"line2d_9\">\n      <g>\n       <use xlink:href=\"#m9e1522328e\" x=\"30.103125\" y=\"87.975586\" style=\"stroke: #000000; stroke-width: 0.8\"/>\n      </g>\n     </g>\n     <g id=\"text_10\">\n      <!-- 1.0 -->\n      <g transform=\"translate(7.2 91.774805) scale(0.1 -0.1)\">\n       <use xlink:href=\"#DejaVuSans-31\"/>\n       <use xlink:href=\"#DejaVuSans-2e\" x=\"63.623047\"/>\n       <use xlink:href=\"#DejaVuSans-30\" x=\"95.410156\"/>\n      </g>\n     </g>\n    </g>\n    <g id=\"ytick_4\">\n     <g id=\"line2d_10\">\n      <g>\n       <use xlink:href=\"#m9e1522328e\" x=\"30.103125\" y=\"59.386096\" style=\"stroke: #000000; stroke-width: 0.8\"/>\n      </g>\n     </g>\n     <g id=\"text_11\">\n      <!-- 1.5 -->\n      <g transform=\"translate(7.2 63.185315) scale(0.1 -0.1)\">\n       <use xlink:href=\"#DejaVuSans-31\"/>\n       <use xlink:href=\"#DejaVuSans-2e\" x=\"63.623047\"/>\n       <use xlink:href=\"#DejaVuSans-35\" x=\"95.410156\"/>\n      </g>\n     </g>\n    </g>\n    <g id=\"ytick_5\">\n     <g id=\"line2d_11\">\n      <g>\n       <use xlink:href=\"#m9e1522328e\" x=\"30.103125\" y=\"30.796606\" style=\"stroke: #000000; stroke-width: 0.8\"/>\n      </g>\n     </g>\n     <g id=\"text_12\">\n      <!-- 2.0 -->\n      <g transform=\"translate(7.2 34.595825) scale(0.1 -0.1)\">\n       <use xlink:href=\"#DejaVuSans-32\"/>\n       <use xlink:href=\"#DejaVuSans-2e\" x=\"63.623047\"/>\n       <use xlink:href=\"#DejaVuSans-30\" x=\"95.410156\"/>\n      </g>\n     </g>\n    </g>\n   </g>\n   <g id=\"line2d_12\">\n    <path d=\"M 34.954394 13.500072 \n\" clip-path=\"url(#pbf2c9acfe0)\" style=\"fill: none; stroke: #1f77b4; stroke-width: 1.5; stroke-linecap: square\"/>\n   </g>\n   <g id=\"line2d_13\">\n    <path d=\"M 34.954394 13.500072 \nL 44.698573 13.5 \n\" clip-path=\"url(#pbf2c9acfe0)\" style=\"fill: none; stroke: #1f77b4; stroke-width: 1.5; stroke-linecap: square\"/>\n   </g>\n   <g id=\"line2d_14\">\n    <path d=\"M 34.954394 13.500072 \nL 44.698573 13.5 \n\" clip-path=\"url(#pbf2c9acfe0)\" style=\"fill: none; stroke: #1f77b4; stroke-width: 1.5; stroke-linecap: square\"/>\n   </g>\n   <g id=\"line2d_15\">\n    <path d=\"M 49.633125 13.50894 \n\" clip-path=\"url(#pbf2c9acfe0)\" style=\"fill: none; stroke-dasharray: 5.55,2.4; stroke-dashoffset: 0; stroke: #ff7f0e; stroke-width: 1.5\"/>\n   </g>\n   <g id=\"line2d_16\"/>\n   <g id=\"line2d_17\">\n    <path d=\"M 34.954394 13.500072 \nL 44.698573 13.5 \n\" clip-path=\"url(#pbf2c9acfe0)\" style=\"fill: none; stroke: #1f77b4; stroke-width: 1.5; stroke-linecap: square\"/>\n   </g>\n   <g id=\"line2d_18\">\n    <path d=\"M 49.633125 13.50894 \n\" clip-path=\"url(#pbf2c9acfe0)\" style=\"fill: none; stroke-dasharray: 5.55,2.4; stroke-dashoffset: 0; stroke: #ff7f0e; stroke-width: 1.5\"/>\n   </g>\n   <g id=\"line2d_19\">\n    <path d=\"M 49.633125 139.5 \n\" clip-path=\"url(#pbf2c9acfe0)\" style=\"fill: none; stroke-dasharray: 9.6,2.4,1.5,2.4; stroke-dashoffset: 0; stroke: #2ca02c; stroke-width: 1.5\"/>\n   </g>\n   <g id=\"line2d_20\">\n    <path d=\"M 34.954394 13.500072 \nL 44.698573 13.5 \nL 54.442752 13.508061 \n\" clip-path=\"url(#pbf2c9acfe0)\" style=\"fill: none; stroke: #1f77b4; stroke-width: 1.5; stroke-linecap: square\"/>\n   </g>\n   <g id=\"line2d_21\">\n    <path d=\"M 49.633125 13.50894 \n\" clip-path=\"url(#pbf2c9acfe0)\" style=\"fill: none; stroke-dasharray: 5.55,2.4; stroke-dashoffset: 0; stroke: #ff7f0e; stroke-width: 1.5\"/>\n   </g>\n   <g id=\"line2d_22\">\n    <path d=\"M 49.633125 139.5 \n\" clip-path=\"url(#pbf2c9acfe0)\" style=\"fill: none; stroke-dasharray: 9.6,2.4,1.5,2.4; stroke-dashoffset: 0; stroke: #2ca02c; stroke-width: 1.5\"/>\n   </g>\n   <g id=\"line2d_23\">\n    <path d=\"M 34.954394 13.500072 \nL 44.698573 13.5 \nL 54.442752 13.508061 \nL 64.186931 13.519857 \n\" clip-path=\"url(#pbf2c9acfe0)\" style=\"fill: none; stroke: #1f77b4; stroke-width: 1.5; stroke-linecap: square\"/>\n   </g>\n   <g id=\"line2d_24\">\n    <path d=\"M 49.633125 13.50894 \n\" clip-path=\"url(#pbf2c9acfe0)\" style=\"fill: none; stroke-dasharray: 5.55,2.4; stroke-dashoffset: 0; stroke: #ff7f0e; stroke-width: 1.5\"/>\n   </g>\n   <g id=\"line2d_25\">\n    <path d=\"M 49.633125 139.5 \n\" clip-path=\"url(#pbf2c9acfe0)\" style=\"fill: none; stroke-dasharray: 9.6,2.4,1.5,2.4; stroke-dashoffset: 0; stroke: #2ca02c; stroke-width: 1.5\"/>\n   </g>\n   <g id=\"line2d_26\">\n    <path d=\"M 34.954394 13.500072 \nL 44.698573 13.5 \nL 54.442752 13.508061 \nL 64.186931 13.519857 \n\" clip-path=\"url(#pbf2c9acfe0)\" style=\"fill: none; stroke: #1f77b4; stroke-width: 1.5; stroke-linecap: square\"/>\n   </g>\n   <g id=\"line2d_27\">\n    <path d=\"M 49.633125 13.50894 \nL 69.163125 13.534336 \n\" clip-path=\"url(#pbf2c9acfe0)\" style=\"fill: none; stroke-dasharray: 5.55,2.4; stroke-dashoffset: 0; stroke: #ff7f0e; stroke-width: 1.5\"/>\n   </g>\n   <g id=\"line2d_28\">\n    <path d=\"M 49.633125 139.5 \n\" clip-path=\"url(#pbf2c9acfe0)\" style=\"fill: none; stroke-dasharray: 9.6,2.4,1.5,2.4; stroke-dashoffset: 0; stroke: #2ca02c; stroke-width: 1.5\"/>\n   </g>\n   <g id=\"line2d_29\">\n    <path d=\"M 34.954394 13.500072 \nL 44.698573 13.5 \nL 54.442752 13.508061 \nL 64.186931 13.519857 \n\" clip-path=\"url(#pbf2c9acfe0)\" style=\"fill: none; stroke: #1f77b4; stroke-width: 1.5; stroke-linecap: square\"/>\n   </g>\n   <g id=\"line2d_30\">\n    <path d=\"M 49.633125 13.50894 \nL 69.163125 13.534336 \n\" clip-path=\"url(#pbf2c9acfe0)\" style=\"fill: none; stroke-dasharray: 5.55,2.4; stroke-dashoffset: 0; stroke: #ff7f0e; stroke-width: 1.5\"/>\n   </g>\n   <g id=\"line2d_31\">\n    <path d=\"M 49.633125 139.5 \nL 69.163125 136.995027 \n\" clip-path=\"url(#pbf2c9acfe0)\" style=\"fill: none; stroke-dasharray: 9.6,2.4,1.5,2.4; stroke-dashoffset: 0; stroke: #2ca02c; stroke-width: 1.5\"/>\n   </g>\n   <g id=\"line2d_32\">\n    <path d=\"M 34.954394 13.500072 \nL 44.698573 13.5 \nL 54.442752 13.508061 \nL 64.186931 13.519857 \nL 73.93111 13.544815 \n\" clip-path=\"url(#pbf2c9acfe0)\" style=\"fill: none; stroke: #1f77b4; stroke-width: 1.5; stroke-linecap: square\"/>\n   </g>\n   <g id=\"line2d_33\">\n    <path d=\"M 49.633125 13.50894 \nL 69.163125 13.534336 \n\" clip-path=\"url(#pbf2c9acfe0)\" style=\"fill: none; stroke-dasharray: 5.55,2.4; stroke-dashoffset: 0; stroke: #ff7f0e; stroke-width: 1.5\"/>\n   </g>\n   <g id=\"line2d_34\">\n    <path d=\"M 49.633125 139.5 \nL 69.163125 136.995027 \n\" clip-path=\"url(#pbf2c9acfe0)\" style=\"fill: none; stroke-dasharray: 9.6,2.4,1.5,2.4; stroke-dashoffset: 0; stroke: #2ca02c; stroke-width: 1.5\"/>\n   </g>\n   <g id=\"patch_3\">\n    <path d=\"M 30.103125 145.8 \nL 30.103125 7.2 \n\" style=\"fill: none; stroke: #000000; stroke-width: 0.8; stroke-linejoin: miter; stroke-linecap: square\"/>\n   </g>\n   <g id=\"patch_4\">\n    <path d=\"M 225.403125 145.8 \nL 225.403125 7.2 \n\" style=\"fill: none; stroke: #000000; stroke-width: 0.8; stroke-linejoin: miter; stroke-linecap: square\"/>\n   </g>\n   <g id=\"patch_5\">\n    <path d=\"M 30.103125 145.8 \nL 225.403125 145.8 \n\" style=\"fill: none; stroke: #000000; stroke-width: 0.8; stroke-linejoin: miter; stroke-linecap: square\"/>\n   </g>\n   <g id=\"patch_6\">\n    <path d=\"M 30.103125 7.2 \nL 225.403125 7.2 \n\" style=\"fill: none; stroke: #000000; stroke-width: 0.8; stroke-linejoin: miter; stroke-linecap: square\"/>\n   </g>\n   <g id=\"legend_1\">\n    <g id=\"patch_7\">\n     <path d=\"M 138.8125 60.06875 \nL 218.403125 60.06875 \nQ 220.403125 60.06875 220.403125 58.06875 \nL 220.403125 14.2 \nQ 220.403125 12.2 218.403125 12.2 \nL 138.8125 12.2 \nQ 136.8125 12.2 136.8125 14.2 \nL 136.8125 58.06875 \nQ 136.8125 60.06875 138.8125 60.06875 \nz\n\" style=\"fill: #ffffff; opacity: 0.8; stroke: #cccccc; stroke-linejoin: miter\"/>\n    </g>\n    <g id=\"line2d_35\">\n     <path d=\"M 140.8125 20.298438 \nL 150.8125 20.298438 \nL 160.8125 20.298438 \n\" style=\"fill: none; stroke: #1f77b4; stroke-width: 1.5; stroke-linecap: square\"/>\n    </g>\n    <g id=\"text_13\">\n     <!-- train_loss -->\n     <g transform=\"translate(168.8125 23.798438) scale(0.1 -0.1)\">\n      <defs>\n       <path id=\"DejaVuSans-74\" d=\"M 1172 4494 \nL 1172 3500 \nL 2356 3500 \nL 2356 3053 \nL 1172 3053 \nL 1172 1153 \nQ 1172 725 1289 603 \nQ 1406 481 1766 481 \nL 2356 481 \nL 2356 0 \nL 1766 0 \nQ 1100 0 847 248 \nQ 594 497 594 1153 \nL 594 3053 \nL 172 3053 \nL 172 3500 \nL 594 3500 \nL 594 4494 \nL 1172 4494 \nz\n\" transform=\"scale(0.015625)\"/>\n       <path id=\"DejaVuSans-72\" d=\"M 2631 2963 \nQ 2534 3019 2420 3045 \nQ 2306 3072 2169 3072 \nQ 1681 3072 1420 2755 \nQ 1159 2438 1159 1844 \nL 1159 0 \nL 581 0 \nL 581 3500 \nL 1159 3500 \nL 1159 2956 \nQ 1341 3275 1631 3429 \nQ 1922 3584 2338 3584 \nQ 2397 3584 2469 3576 \nQ 2541 3569 2628 3553 \nL 2631 2963 \nz\n\" transform=\"scale(0.015625)\"/>\n       <path id=\"DejaVuSans-61\" d=\"M 2194 1759 \nQ 1497 1759 1228 1600 \nQ 959 1441 959 1056 \nQ 959 750 1161 570 \nQ 1363 391 1709 391 \nQ 2188 391 2477 730 \nQ 2766 1069 2766 1631 \nL 2766 1759 \nL 2194 1759 \nz\nM 3341 1997 \nL 3341 0 \nL 2766 0 \nL 2766 531 \nQ 2569 213 2275 61 \nQ 1981 -91 1556 -91 \nQ 1019 -91 701 211 \nQ 384 513 384 1019 \nQ 384 1609 779 1909 \nQ 1175 2209 1959 2209 \nL 2766 2209 \nL 2766 2266 \nQ 2766 2663 2505 2880 \nQ 2244 3097 1772 3097 \nQ 1472 3097 1187 3025 \nQ 903 2953 641 2809 \nL 641 3341 \nQ 956 3463 1253 3523 \nQ 1550 3584 1831 3584 \nQ 2591 3584 2966 3190 \nQ 3341 2797 3341 1997 \nz\n\" transform=\"scale(0.015625)\"/>\n       <path id=\"DejaVuSans-69\" d=\"M 603 3500 \nL 1178 3500 \nL 1178 0 \nL 603 0 \nL 603 3500 \nz\nM 603 4863 \nL 1178 4863 \nL 1178 4134 \nL 603 4134 \nL 603 4863 \nz\n\" transform=\"scale(0.015625)\"/>\n       <path id=\"DejaVuSans-6e\" d=\"M 3513 2113 \nL 3513 0 \nL 2938 0 \nL 2938 2094 \nQ 2938 2591 2744 2837 \nQ 2550 3084 2163 3084 \nQ 1697 3084 1428 2787 \nQ 1159 2491 1159 1978 \nL 1159 0 \nL 581 0 \nL 581 3500 \nL 1159 3500 \nL 1159 2956 \nQ 1366 3272 1645 3428 \nQ 1925 3584 2291 3584 \nQ 2894 3584 3203 3211 \nQ 3513 2838 3513 2113 \nz\n\" transform=\"scale(0.015625)\"/>\n       <path id=\"DejaVuSans-5f\" d=\"M 3263 -1063 \nL 3263 -1509 \nL -63 -1509 \nL -63 -1063 \nL 3263 -1063 \nz\n\" transform=\"scale(0.015625)\"/>\n       <path id=\"DejaVuSans-6c\" d=\"M 603 4863 \nL 1178 4863 \nL 1178 0 \nL 603 0 \nL 603 4863 \nz\n\" transform=\"scale(0.015625)\"/>\n       <path id=\"DejaVuSans-73\" d=\"M 2834 3397 \nL 2834 2853 \nQ 2591 2978 2328 3040 \nQ 2066 3103 1784 3103 \nQ 1356 3103 1142 2972 \nQ 928 2841 928 2578 \nQ 928 2378 1081 2264 \nQ 1234 2150 1697 2047 \nL 1894 2003 \nQ 2506 1872 2764 1633 \nQ 3022 1394 3022 966 \nQ 3022 478 2636 193 \nQ 2250 -91 1575 -91 \nQ 1294 -91 989 -36 \nQ 684 19 347 128 \nL 347 722 \nQ 666 556 975 473 \nQ 1284 391 1588 391 \nQ 1994 391 2212 530 \nQ 2431 669 2431 922 \nQ 2431 1156 2273 1281 \nQ 2116 1406 1581 1522 \nL 1381 1569 \nQ 847 1681 609 1914 \nQ 372 2147 372 2553 \nQ 372 3047 722 3315 \nQ 1072 3584 1716 3584 \nQ 2034 3584 2315 3537 \nQ 2597 3491 2834 3397 \nz\n\" transform=\"scale(0.015625)\"/>\n      </defs>\n      <use xlink:href=\"#DejaVuSans-74\"/>\n      <use xlink:href=\"#DejaVuSans-72\" x=\"39.208984\"/>\n      <use xlink:href=\"#DejaVuSans-61\" x=\"80.322266\"/>\n      <use xlink:href=\"#DejaVuSans-69\" x=\"141.601562\"/>\n      <use xlink:href=\"#DejaVuSans-6e\" x=\"169.384766\"/>\n      <use xlink:href=\"#DejaVuSans-5f\" x=\"232.763672\"/>\n      <use xlink:href=\"#DejaVuSans-6c\" x=\"282.763672\"/>\n      <use xlink:href=\"#DejaVuSans-6f\" x=\"310.546875\"/>\n      <use xlink:href=\"#DejaVuSans-73\" x=\"371.728516\"/>\n      <use xlink:href=\"#DejaVuSans-73\" x=\"423.828125\"/>\n     </g>\n    </g>\n    <g id=\"line2d_36\">\n     <path d=\"M 140.8125 35.254688 \nL 150.8125 35.254688 \nL 160.8125 35.254688 \n\" style=\"fill: none; stroke-dasharray: 5.55,2.4; stroke-dashoffset: 0; stroke: #ff7f0e; stroke-width: 1.5\"/>\n    </g>\n    <g id=\"text_14\">\n     <!-- val_loss -->\n     <g transform=\"translate(168.8125 38.754688) scale(0.1 -0.1)\">\n      <defs>\n       <path id=\"DejaVuSans-76\" d=\"M 191 3500 \nL 800 3500 \nL 1894 563 \nL 2988 3500 \nL 3597 3500 \nL 2284 0 \nL 1503 0 \nL 191 3500 \nz\n\" transform=\"scale(0.015625)\"/>\n      </defs>\n      <use xlink:href=\"#DejaVuSans-76\"/>\n      <use xlink:href=\"#DejaVuSans-61\" x=\"59.179688\"/>\n      <use xlink:href=\"#DejaVuSans-6c\" x=\"120.458984\"/>\n      <use xlink:href=\"#DejaVuSans-5f\" x=\"148.242188\"/>\n      <use xlink:href=\"#DejaVuSans-6c\" x=\"198.242188\"/>\n      <use xlink:href=\"#DejaVuSans-6f\" x=\"226.025391\"/>\n      <use xlink:href=\"#DejaVuSans-73\" x=\"287.207031\"/>\n      <use xlink:href=\"#DejaVuSans-73\" x=\"339.306641\"/>\n     </g>\n    </g>\n    <g id=\"line2d_37\">\n     <path d=\"M 140.8125 50.210938 \nL 150.8125 50.210938 \nL 160.8125 50.210938 \n\" style=\"fill: none; stroke-dasharray: 9.6,2.4,1.5,2.4; stroke-dashoffset: 0; stroke: #2ca02c; stroke-width: 1.5\"/>\n    </g>\n    <g id=\"text_15\">\n     <!-- val_acc -->\n     <g transform=\"translate(168.8125 53.710938) scale(0.1 -0.1)\">\n      <use xlink:href=\"#DejaVuSans-76\"/>\n      <use xlink:href=\"#DejaVuSans-61\" x=\"59.179688\"/>\n      <use xlink:href=\"#DejaVuSans-6c\" x=\"120.458984\"/>\n      <use xlink:href=\"#DejaVuSans-5f\" x=\"148.242188\"/>\n      <use xlink:href=\"#DejaVuSans-61\" x=\"198.242188\"/>\n      <use xlink:href=\"#DejaVuSans-63\" x=\"259.521484\"/>\n      <use xlink:href=\"#DejaVuSans-63\" x=\"314.501953\"/>\n     </g>\n    </g>\n   </g>\n  </g>\n </g>\n <defs>\n  <clipPath id=\"pbf2c9acfe0\">\n   <rect x=\"30.103125\" y=\"7.2\" width=\"195.3\" height=\"138.6\"/>\n  </clipPath>\n </defs>\n</svg>\n",
            "text/plain": [
              "<Figure size 350x250 with 1 Axes>"
            ]
          },
          "metadata": {},
          "output_type": "display_data"
        }
      ],
      "source": [
        "model = VGG(arch=((3, 128), (3, 256)), lr=0.01)\n",
        "trainer = d2l.torch.Trainer(max_epochs=10, num_gpus=1)\n",
        "data = d2l.torch.FashionMNIST(batch_size=128, resize=(28, 28))\n",
        "trainer.fit(model, data)"
      ]
    },
    {
      "cell_type": "markdown",
      "metadata": {
        "id": "i5awGWN01hDL"
      },
      "source": [
        "### **8.3 Network in Network (NiN)**"
      ]
    },
    {
      "cell_type": "code",
      "execution_count": null,
      "metadata": {
        "id": "3YAQ0DM_GlRk"
      },
      "outputs": [],
      "source": [
        "import torch\n",
        "from torch import nn\n",
        "from d2l import torch as d2l"
      ]
    },
    {
      "cell_type": "code",
      "execution_count": null,
      "metadata": {
        "id": "EL8OYEPL1mPG"
      },
      "outputs": [],
      "source": [
        "def nin_block(out_channels, kernel_size, strides, padding):\n",
        "    return nn.Sequential(\n",
        "        nn.LazyConv2d(out_channels, kernel_size, strides, padding), nn.ReLU(),\n",
        "        nn.LazyConv2d(out_channels, kernel_size=1), nn.ReLU(),\n",
        "        nn.LazyConv2d(out_channels, kernel_size=1), nn.ReLU())"
      ]
    },
    {
      "cell_type": "code",
      "execution_count": null,
      "metadata": {
        "id": "todg86sx1qtf"
      },
      "outputs": [],
      "source": [
        "class NiN(d2l.Classifier):\n",
        "    def __init__(self, lr=0.1, num_classes=10):\n",
        "        super().__init__()\n",
        "        self.save_hyperparameters()\n",
        "        self.net = nn.Sequential(\n",
        "            nin_block(96, kernel_size=11, strides=4, padding=0),\n",
        "            nn.MaxPool2d(3, stride=2),\n",
        "            nin_block(256, kernel_size=5, strides=1, padding=2),\n",
        "            nn.MaxPool2d(3, stride=2),\n",
        "            nin_block(384, kernel_size=3, strides=1, padding=1),\n",
        "            nn.MaxPool2d(3, stride=2),\n",
        "            nn.Dropout(0.5),\n",
        "            nin_block(num_classes, kernel_size=3, strides=1, padding=1),\n",
        "            nn.AdaptiveAvgPool2d((1, 1)),\n",
        "            nn.Flatten())\n",
        "        self.net.apply(d2l.init_cnn)"
      ]
    },
    {
      "cell_type": "code",
      "execution_count": null,
      "metadata": {
        "colab": {
          "base_uri": "https://localhost:8080/"
        },
        "id": "sDiaNmXp1sph",
        "outputId": "4c4ebfb4-e003-4939-ce26-bec25f420af1"
      },
      "outputs": [
        {
          "output_type": "stream",
          "name": "stdout",
          "text": [
            "Sequential output shape:\t torch.Size([1, 96, 54, 54])\n",
            "MaxPool2d output shape:\t torch.Size([1, 96, 26, 26])\n",
            "Sequential output shape:\t torch.Size([1, 256, 26, 26])\n",
            "MaxPool2d output shape:\t torch.Size([1, 256, 12, 12])\n",
            "Sequential output shape:\t torch.Size([1, 384, 12, 12])\n",
            "MaxPool2d output shape:\t torch.Size([1, 384, 5, 5])\n",
            "Dropout output shape:\t torch.Size([1, 384, 5, 5])\n",
            "Sequential output shape:\t torch.Size([1, 10, 5, 5])\n",
            "AdaptiveAvgPool2d output shape:\t torch.Size([1, 10, 1, 1])\n",
            "Flatten output shape:\t torch.Size([1, 10])\n"
          ]
        }
      ],
      "source": [
        "NiN().layer_summary((1, 1, 224, 224))"
      ]
    },
    {
      "cell_type": "code",
      "execution_count": null,
      "metadata": {
        "colab": {
          "background_save": true,
          "base_uri": "https://localhost:8080/",
          "height": 265
        },
        "id": "VDGyIbXB1usr",
        "outputId": "0f3d969d-1e13-4b23-9eef-f0c32301c2de"
      },
      "outputs": [
        {
          "data": {
            "image/svg+xml": "<?xml version=\"1.0\" encoding=\"utf-8\" standalone=\"no\"?>\n<!DOCTYPE svg PUBLIC \"-//W3C//DTD SVG 1.1//EN\"\n  \"http://www.w3.org/Graphics/SVG/1.1/DTD/svg11.dtd\">\n<svg xmlns:xlink=\"http://www.w3.org/1999/xlink\" width=\"238.965625pt\" height=\"183.35625pt\" viewBox=\"0 0 238.965625 183.35625\" xmlns=\"http://www.w3.org/2000/svg\" version=\"1.1\">\n <metadata>\n  <rdf:RDF xmlns:dc=\"http://purl.org/dc/elements/1.1/\" xmlns:cc=\"http://creativecommons.org/ns#\" xmlns:rdf=\"http://www.w3.org/1999/02/22-rdf-syntax-ns#\">\n   <cc:Work>\n    <dc:type rdf:resource=\"http://purl.org/dc/dcmitype/StillImage\"/>\n    <dc:date>2024-09-25T09:40:08.955824</dc:date>\n    <dc:format>image/svg+xml</dc:format>\n    <dc:creator>\n     <cc:Agent>\n      <dc:title>Matplotlib v3.7.2, https://matplotlib.org/</dc:title>\n     </cc:Agent>\n    </dc:creator>\n   </cc:Work>\n  </rdf:RDF>\n </metadata>\n <defs>\n  <style type=\"text/css\">*{stroke-linejoin: round; stroke-linecap: butt}</style>\n </defs>\n <g id=\"figure_1\">\n  <g id=\"patch_1\">\n   <path d=\"M 0 183.35625 \nL 238.965625 183.35625 \nL 238.965625 0 \nL 0 0 \nz\n\" style=\"fill: #ffffff\"/>\n  </g>\n  <g id=\"axes_1\">\n   <g id=\"patch_2\">\n    <path d=\"M 30.103125 145.8 \nL 225.403125 145.8 \nL 225.403125 7.2 \nL 30.103125 7.2 \nz\n\" style=\"fill: #ffffff\"/>\n   </g>\n   <g id=\"matplotlib.axis_1\">\n    <g id=\"xtick_1\">\n     <g id=\"line2d_1\">\n      <defs>\n       <path id=\"mb722d9d86e\" d=\"M 0 0 \nL 0 3.5 \n\" style=\"stroke: #000000; stroke-width: 0.8\"/>\n      </defs>\n      <g>\n       <use xlink:href=\"#mb722d9d86e\" x=\"30.103125\" y=\"145.8\" style=\"stroke: #000000; stroke-width: 0.8\"/>\n      </g>\n     </g>\n     <g id=\"text_1\">\n      <!-- 0 -->\n      <g transform=\"translate(26.921875 160.398438) scale(0.1 -0.1)\">\n       <defs>\n        <path id=\"DejaVuSans-30\" d=\"M 2034 4250 \nQ 1547 4250 1301 3770 \nQ 1056 3291 1056 2328 \nQ 1056 1369 1301 889 \nQ 1547 409 2034 409 \nQ 2525 409 2770 889 \nQ 3016 1369 3016 2328 \nQ 3016 3291 2770 3770 \nQ 2525 4250 2034 4250 \nz\nM 2034 4750 \nQ 2819 4750 3233 4129 \nQ 3647 3509 3647 2328 \nQ 3647 1150 3233 529 \nQ 2819 -91 2034 -91 \nQ 1250 -91 836 529 \nQ 422 1150 422 2328 \nQ 422 3509 836 4129 \nQ 1250 4750 2034 4750 \nz\n\" transform=\"scale(0.015625)\"/>\n       </defs>\n       <use xlink:href=\"#DejaVuSans-30\"/>\n      </g>\n     </g>\n    </g>\n    <g id=\"xtick_2\">\n     <g id=\"line2d_2\">\n      <g>\n       <use xlink:href=\"#mb722d9d86e\" x=\"69.163125\" y=\"145.8\" style=\"stroke: #000000; stroke-width: 0.8\"/>\n      </g>\n     </g>\n     <g id=\"text_2\">\n      <!-- 2 -->\n      <g transform=\"translate(65.981875 160.398438) scale(0.1 -0.1)\">\n       <defs>\n        <path id=\"DejaVuSans-32\" d=\"M 1228 531 \nL 3431 531 \nL 3431 0 \nL 469 0 \nL 469 531 \nQ 828 903 1448 1529 \nQ 2069 2156 2228 2338 \nQ 2531 2678 2651 2914 \nQ 2772 3150 2772 3378 \nQ 2772 3750 2511 3984 \nQ 2250 4219 1831 4219 \nQ 1534 4219 1204 4116 \nQ 875 4013 500 3803 \nL 500 4441 \nQ 881 4594 1212 4672 \nQ 1544 4750 1819 4750 \nQ 2544 4750 2975 4387 \nQ 3406 4025 3406 3419 \nQ 3406 3131 3298 2873 \nQ 3191 2616 2906 2266 \nQ 2828 2175 2409 1742 \nQ 1991 1309 1228 531 \nz\n\" transform=\"scale(0.015625)\"/>\n       </defs>\n       <use xlink:href=\"#DejaVuSans-32\"/>\n      </g>\n     </g>\n    </g>\n    <g id=\"xtick_3\">\n     <g id=\"line2d_3\">\n      <g>\n       <use xlink:href=\"#mb722d9d86e\" x=\"108.223125\" y=\"145.8\" style=\"stroke: #000000; stroke-width: 0.8\"/>\n      </g>\n     </g>\n     <g id=\"text_3\">\n      <!-- 4 -->\n      <g transform=\"translate(105.041875 160.398438) scale(0.1 -0.1)\">\n       <defs>\n        <path id=\"DejaVuSans-34\" d=\"M 2419 4116 \nL 825 1625 \nL 2419 1625 \nL 2419 4116 \nz\nM 2253 4666 \nL 3047 4666 \nL 3047 1625 \nL 3713 1625 \nL 3713 1100 \nL 3047 1100 \nL 3047 0 \nL 2419 0 \nL 2419 1100 \nL 313 1100 \nL 313 1709 \nL 2253 4666 \nz\n\" transform=\"scale(0.015625)\"/>\n       </defs>\n       <use xlink:href=\"#DejaVuSans-34\"/>\n      </g>\n     </g>\n    </g>\n    <g id=\"xtick_4\">\n     <g id=\"line2d_4\">\n      <g>\n       <use xlink:href=\"#mb722d9d86e\" x=\"147.283125\" y=\"145.8\" style=\"stroke: #000000; stroke-width: 0.8\"/>\n      </g>\n     </g>\n     <g id=\"text_4\">\n      <!-- 6 -->\n      <g transform=\"translate(144.101875 160.398438) scale(0.1 -0.1)\">\n       <defs>\n        <path id=\"DejaVuSans-36\" d=\"M 2113 2584 \nQ 1688 2584 1439 2293 \nQ 1191 2003 1191 1497 \nQ 1191 994 1439 701 \nQ 1688 409 2113 409 \nQ 2538 409 2786 701 \nQ 3034 994 3034 1497 \nQ 3034 2003 2786 2293 \nQ 2538 2584 2113 2584 \nz\nM 3366 4563 \nL 3366 3988 \nQ 3128 4100 2886 4159 \nQ 2644 4219 2406 4219 \nQ 1781 4219 1451 3797 \nQ 1122 3375 1075 2522 \nQ 1259 2794 1537 2939 \nQ 1816 3084 2150 3084 \nQ 2853 3084 3261 2657 \nQ 3669 2231 3669 1497 \nQ 3669 778 3244 343 \nQ 2819 -91 2113 -91 \nQ 1303 -91 875 529 \nQ 447 1150 447 2328 \nQ 447 3434 972 4092 \nQ 1497 4750 2381 4750 \nQ 2619 4750 2861 4703 \nQ 3103 4656 3366 4563 \nz\n\" transform=\"scale(0.015625)\"/>\n       </defs>\n       <use xlink:href=\"#DejaVuSans-36\"/>\n      </g>\n     </g>\n    </g>\n    <g id=\"xtick_5\">\n     <g id=\"line2d_5\">\n      <g>\n       <use xlink:href=\"#mb722d9d86e\" x=\"186.343125\" y=\"145.8\" style=\"stroke: #000000; stroke-width: 0.8\"/>\n      </g>\n     </g>\n     <g id=\"text_5\">\n      <!-- 8 -->\n      <g transform=\"translate(183.161875 160.398438) scale(0.1 -0.1)\">\n       <defs>\n        <path id=\"DejaVuSans-38\" d=\"M 2034 2216 \nQ 1584 2216 1326 1975 \nQ 1069 1734 1069 1313 \nQ 1069 891 1326 650 \nQ 1584 409 2034 409 \nQ 2484 409 2743 651 \nQ 3003 894 3003 1313 \nQ 3003 1734 2745 1975 \nQ 2488 2216 2034 2216 \nz\nM 1403 2484 \nQ 997 2584 770 2862 \nQ 544 3141 544 3541 \nQ 544 4100 942 4425 \nQ 1341 4750 2034 4750 \nQ 2731 4750 3128 4425 \nQ 3525 4100 3525 3541 \nQ 3525 3141 3298 2862 \nQ 3072 2584 2669 2484 \nQ 3125 2378 3379 2068 \nQ 3634 1759 3634 1313 \nQ 3634 634 3220 271 \nQ 2806 -91 2034 -91 \nQ 1263 -91 848 271 \nQ 434 634 434 1313 \nQ 434 1759 690 2068 \nQ 947 2378 1403 2484 \nz\nM 1172 3481 \nQ 1172 3119 1398 2916 \nQ 1625 2713 2034 2713 \nQ 2441 2713 2670 2916 \nQ 2900 3119 2900 3481 \nQ 2900 3844 2670 4047 \nQ 2441 4250 2034 4250 \nQ 1625 4250 1398 4047 \nQ 1172 3844 1172 3481 \nz\n\" transform=\"scale(0.015625)\"/>\n       </defs>\n       <use xlink:href=\"#DejaVuSans-38\"/>\n      </g>\n     </g>\n    </g>\n    <g id=\"xtick_6\">\n     <g id=\"line2d_6\">\n      <g>\n       <use xlink:href=\"#mb722d9d86e\" x=\"225.403125\" y=\"145.8\" style=\"stroke: #000000; stroke-width: 0.8\"/>\n      </g>\n     </g>\n     <g id=\"text_6\">\n      <!-- 10 -->\n      <g transform=\"translate(219.040625 160.398438) scale(0.1 -0.1)\">\n       <defs>\n        <path id=\"DejaVuSans-31\" d=\"M 794 531 \nL 1825 531 \nL 1825 4091 \nL 703 3866 \nL 703 4441 \nL 1819 4666 \nL 2450 4666 \nL 2450 531 \nL 3481 531 \nL 3481 0 \nL 794 0 \nL 794 531 \nz\n\" transform=\"scale(0.015625)\"/>\n       </defs>\n       <use xlink:href=\"#DejaVuSans-31\"/>\n       <use xlink:href=\"#DejaVuSans-30\" x=\"63.623047\"/>\n      </g>\n     </g>\n    </g>\n    <g id=\"text_7\">\n     <!-- epoch -->\n     <g transform=\"translate(112.525 174.076563) scale(0.1 -0.1)\">\n      <defs>\n       <path id=\"DejaVuSans-65\" d=\"M 3597 1894 \nL 3597 1613 \nL 953 1613 \nQ 991 1019 1311 708 \nQ 1631 397 2203 397 \nQ 2534 397 2845 478 \nQ 3156 559 3463 722 \nL 3463 178 \nQ 3153 47 2828 -22 \nQ 2503 -91 2169 -91 \nQ 1331 -91 842 396 \nQ 353 884 353 1716 \nQ 353 2575 817 3079 \nQ 1281 3584 2069 3584 \nQ 2775 3584 3186 3129 \nQ 3597 2675 3597 1894 \nz\nM 3022 2063 \nQ 3016 2534 2758 2815 \nQ 2500 3097 2075 3097 \nQ 1594 3097 1305 2825 \nQ 1016 2553 972 2059 \nL 3022 2063 \nz\n\" transform=\"scale(0.015625)\"/>\n       <path id=\"DejaVuSans-70\" d=\"M 1159 525 \nL 1159 -1331 \nL 581 -1331 \nL 581 3500 \nL 1159 3500 \nL 1159 2969 \nQ 1341 3281 1617 3432 \nQ 1894 3584 2278 3584 \nQ 2916 3584 3314 3078 \nQ 3713 2572 3713 1747 \nQ 3713 922 3314 415 \nQ 2916 -91 2278 -91 \nQ 1894 -91 1617 61 \nQ 1341 213 1159 525 \nz\nM 3116 1747 \nQ 3116 2381 2855 2742 \nQ 2594 3103 2138 3103 \nQ 1681 3103 1420 2742 \nQ 1159 2381 1159 1747 \nQ 1159 1113 1420 752 \nQ 1681 391 2138 391 \nQ 2594 391 2855 752 \nQ 3116 1113 3116 1747 \nz\n\" transform=\"scale(0.015625)\"/>\n       <path id=\"DejaVuSans-6f\" d=\"M 1959 3097 \nQ 1497 3097 1228 2736 \nQ 959 2375 959 1747 \nQ 959 1119 1226 758 \nQ 1494 397 1959 397 \nQ 2419 397 2687 759 \nQ 2956 1122 2956 1747 \nQ 2956 2369 2687 2733 \nQ 2419 3097 1959 3097 \nz\nM 1959 3584 \nQ 2709 3584 3137 3096 \nQ 3566 2609 3566 1747 \nQ 3566 888 3137 398 \nQ 2709 -91 1959 -91 \nQ 1206 -91 779 398 \nQ 353 888 353 1747 \nQ 353 2609 779 3096 \nQ 1206 3584 1959 3584 \nz\n\" transform=\"scale(0.015625)\"/>\n       <path id=\"DejaVuSans-63\" d=\"M 3122 3366 \nL 3122 2828 \nQ 2878 2963 2633 3030 \nQ 2388 3097 2138 3097 \nQ 1578 3097 1268 2742 \nQ 959 2388 959 1747 \nQ 959 1106 1268 751 \nQ 1578 397 2138 397 \nQ 2388 397 2633 464 \nQ 2878 531 3122 666 \nL 3122 134 \nQ 2881 22 2623 -34 \nQ 2366 -91 2075 -91 \nQ 1284 -91 818 406 \nQ 353 903 353 1747 \nQ 353 2603 823 3093 \nQ 1294 3584 2113 3584 \nQ 2378 3584 2631 3529 \nQ 2884 3475 3122 3366 \nz\n\" transform=\"scale(0.015625)\"/>\n       <path id=\"DejaVuSans-68\" d=\"M 3513 2113 \nL 3513 0 \nL 2938 0 \nL 2938 2094 \nQ 2938 2591 2744 2837 \nQ 2550 3084 2163 3084 \nQ 1697 3084 1428 2787 \nQ 1159 2491 1159 1978 \nL 1159 0 \nL 581 0 \nL 581 4863 \nL 1159 4863 \nL 1159 2956 \nQ 1366 3272 1645 3428 \nQ 1925 3584 2291 3584 \nQ 2894 3584 3203 3211 \nQ 3513 2838 3513 2113 \nz\n\" transform=\"scale(0.015625)\"/>\n      </defs>\n      <use xlink:href=\"#DejaVuSans-65\"/>\n      <use xlink:href=\"#DejaVuSans-70\" x=\"61.523438\"/>\n      <use xlink:href=\"#DejaVuSans-6f\" x=\"125\"/>\n      <use xlink:href=\"#DejaVuSans-63\" x=\"186.181641\"/>\n      <use xlink:href=\"#DejaVuSans-68\" x=\"241.162109\"/>\n     </g>\n    </g>\n   </g>\n   <g id=\"matplotlib.axis_2\">\n    <g id=\"ytick_1\">\n     <g id=\"line2d_7\">\n      <defs>\n       <path id=\"m3d2e13b815\" d=\"M 0 0 \nL -3.5 0 \n\" style=\"stroke: #000000; stroke-width: 0.8\"/>\n      </defs>\n      <g>\n       <use xlink:href=\"#m3d2e13b815\" x=\"30.103125\" y=\"120.917939\" style=\"stroke: #000000; stroke-width: 0.8\"/>\n      </g>\n     </g>\n     <g id=\"text_8\">\n      <!-- 0.5 -->\n      <g transform=\"translate(7.2 124.717158) scale(0.1 -0.1)\">\n       <defs>\n        <path id=\"DejaVuSans-2e\" d=\"M 684 794 \nL 1344 794 \nL 1344 0 \nL 684 0 \nL 684 794 \nz\n\" transform=\"scale(0.015625)\"/>\n        <path id=\"DejaVuSans-35\" d=\"M 691 4666 \nL 3169 4666 \nL 3169 4134 \nL 1269 4134 \nL 1269 2991 \nQ 1406 3038 1543 3061 \nQ 1681 3084 1819 3084 \nQ 2600 3084 3056 2656 \nQ 3513 2228 3513 1497 \nQ 3513 744 3044 326 \nQ 2575 -91 1722 -91 \nQ 1428 -91 1123 -41 \nQ 819 9 494 109 \nL 494 744 \nQ 775 591 1075 516 \nQ 1375 441 1709 441 \nQ 2250 441 2565 725 \nQ 2881 1009 2881 1497 \nQ 2881 1984 2565 2268 \nQ 2250 2553 1709 2553 \nQ 1456 2553 1204 2497 \nQ 953 2441 691 2322 \nL 691 4666 \nz\n\" transform=\"scale(0.015625)\"/>\n       </defs>\n       <use xlink:href=\"#DejaVuSans-30\"/>\n       <use xlink:href=\"#DejaVuSans-2e\" x=\"63.623047\"/>\n       <use xlink:href=\"#DejaVuSans-35\" x=\"95.410156\"/>\n      </g>\n     </g>\n    </g>\n    <g id=\"ytick_2\">\n     <g id=\"line2d_8\">\n      <g>\n       <use xlink:href=\"#m3d2e13b815\" x=\"30.103125\" y=\"91.17723\" style=\"stroke: #000000; stroke-width: 0.8\"/>\n      </g>\n     </g>\n     <g id=\"text_9\">\n      <!-- 1.0 -->\n      <g transform=\"translate(7.2 94.976448) scale(0.1 -0.1)\">\n       <use xlink:href=\"#DejaVuSans-31\"/>\n       <use xlink:href=\"#DejaVuSans-2e\" x=\"63.623047\"/>\n       <use xlink:href=\"#DejaVuSans-30\" x=\"95.410156\"/>\n      </g>\n     </g>\n    </g>\n    <g id=\"ytick_3\">\n     <g id=\"line2d_9\">\n      <g>\n       <use xlink:href=\"#m3d2e13b815\" x=\"30.103125\" y=\"61.43652\" style=\"stroke: #000000; stroke-width: 0.8\"/>\n      </g>\n     </g>\n     <g id=\"text_10\">\n      <!-- 1.5 -->\n      <g transform=\"translate(7.2 65.235739) scale(0.1 -0.1)\">\n       <use xlink:href=\"#DejaVuSans-31\"/>\n       <use xlink:href=\"#DejaVuSans-2e\" x=\"63.623047\"/>\n       <use xlink:href=\"#DejaVuSans-35\" x=\"95.410156\"/>\n      </g>\n     </g>\n    </g>\n    <g id=\"ytick_4\">\n     <g id=\"line2d_10\">\n      <g>\n       <use xlink:href=\"#m3d2e13b815\" x=\"30.103125\" y=\"31.695811\" style=\"stroke: #000000; stroke-width: 0.8\"/>\n      </g>\n     </g>\n     <g id=\"text_11\">\n      <!-- 2.0 -->\n      <g transform=\"translate(7.2 35.49503) scale(0.1 -0.1)\">\n       <use xlink:href=\"#DejaVuSans-32\"/>\n       <use xlink:href=\"#DejaVuSans-2e\" x=\"63.623047\"/>\n       <use xlink:href=\"#DejaVuSans-30\" x=\"95.410156\"/>\n      </g>\n     </g>\n    </g>\n   </g>\n   <g id=\"line2d_11\">\n    <path d=\"M 34.954394 13.5 \n\" clip-path=\"url(#pbf9f603261)\" style=\"fill: none; stroke: #1f77b4; stroke-width: 1.5; stroke-linecap: square\"/>\n   </g>\n   <g id=\"line2d_12\">\n    <path d=\"M 34.954394 13.5 \nL 44.698573 14.333438 \n\" clip-path=\"url(#pbf9f603261)\" style=\"fill: none; stroke: #1f77b4; stroke-width: 1.5; stroke-linecap: square\"/>\n   </g>\n   <g id=\"line2d_13\">\n    <path d=\"M 34.954394 13.5 \nL 44.698573 14.333438 \n\" clip-path=\"url(#pbf9f603261)\" style=\"fill: none; stroke: #1f77b4; stroke-width: 1.5; stroke-linecap: square\"/>\n   </g>\n   <g id=\"line2d_14\">\n    <path d=\"M 49.633125 15.86771 \n\" clip-path=\"url(#pbf9f603261)\" style=\"fill: none; stroke-dasharray: 5.55,2.4; stroke-dashoffset: 0; stroke: #ff7f0e; stroke-width: 1.5\"/>\n   </g>\n   <g id=\"line2d_15\"/>\n   <g id=\"line2d_16\">\n    <path d=\"M 34.954394 13.5 \nL 44.698573 14.333438 \n\" clip-path=\"url(#pbf9f603261)\" style=\"fill: none; stroke: #1f77b4; stroke-width: 1.5; stroke-linecap: square\"/>\n   </g>\n   <g id=\"line2d_17\">\n    <path d=\"M 49.633125 15.86771 \n\" clip-path=\"url(#pbf9f603261)\" style=\"fill: none; stroke-dasharray: 5.55,2.4; stroke-dashoffset: 0; stroke: #ff7f0e; stroke-width: 1.5\"/>\n   </g>\n   <g id=\"line2d_18\">\n    <path d=\"M 49.633125 139.5 \n\" clip-path=\"url(#pbf9f603261)\" style=\"fill: none; stroke-dasharray: 9.6,2.4,1.5,2.4; stroke-dashoffset: 0; stroke: #2ca02c; stroke-width: 1.5\"/>\n   </g>\n   <g id=\"line2d_19\">\n    <path d=\"M 34.954394 13.5 \nL 44.698573 14.333438 \nL 54.442752 17.929968 \n\" clip-path=\"url(#pbf9f603261)\" style=\"fill: none; stroke: #1f77b4; stroke-width: 1.5; stroke-linecap: square\"/>\n   </g>\n   <g id=\"line2d_20\">\n    <path d=\"M 49.633125 15.86771 \n\" clip-path=\"url(#pbf9f603261)\" style=\"fill: none; stroke-dasharray: 5.55,2.4; stroke-dashoffset: 0; stroke: #ff7f0e; stroke-width: 1.5\"/>\n   </g>\n   <g id=\"line2d_21\">\n    <path d=\"M 49.633125 139.5 \n\" clip-path=\"url(#pbf9f603261)\" style=\"fill: none; stroke-dasharray: 9.6,2.4,1.5,2.4; stroke-dashoffset: 0; stroke: #2ca02c; stroke-width: 1.5\"/>\n   </g>\n   <g id=\"line2d_22\">\n    <path d=\"M 34.954394 13.5 \nL 44.698573 14.333438 \nL 54.442752 17.929968 \nL 64.186931 23.548857 \n\" clip-path=\"url(#pbf9f603261)\" style=\"fill: none; stroke: #1f77b4; stroke-width: 1.5; stroke-linecap: square\"/>\n   </g>\n   <g id=\"line2d_23\">\n    <path d=\"M 49.633125 15.86771 \n\" clip-path=\"url(#pbf9f603261)\" style=\"fill: none; stroke-dasharray: 5.55,2.4; stroke-dashoffset: 0; stroke: #ff7f0e; stroke-width: 1.5\"/>\n   </g>\n   <g id=\"line2d_24\">\n    <path d=\"M 49.633125 139.5 \n\" clip-path=\"url(#pbf9f603261)\" style=\"fill: none; stroke-dasharray: 9.6,2.4,1.5,2.4; stroke-dashoffset: 0; stroke: #2ca02c; stroke-width: 1.5\"/>\n   </g>\n   <g id=\"line2d_25\">\n    <path d=\"M 34.954394 13.5 \nL 44.698573 14.333438 \nL 54.442752 17.929968 \nL 64.186931 23.548857 \n\" clip-path=\"url(#pbf9f603261)\" style=\"fill: none; stroke: #1f77b4; stroke-width: 1.5; stroke-linecap: square\"/>\n   </g>\n   <g id=\"line2d_26\">\n    <path d=\"M 49.633125 15.86771 \nL 69.163125 30.231435 \n\" clip-path=\"url(#pbf9f603261)\" style=\"fill: none; stroke-dasharray: 5.55,2.4; stroke-dashoffset: 0; stroke: #ff7f0e; stroke-width: 1.5\"/>\n   </g>\n   <g id=\"line2d_27\">\n    <path d=\"M 49.633125 139.5 \n\" clip-path=\"url(#pbf9f603261)\" style=\"fill: none; stroke-dasharray: 9.6,2.4,1.5,2.4; stroke-dashoffset: 0; stroke: #2ca02c; stroke-width: 1.5\"/>\n   </g>\n   <g id=\"line2d_28\">\n    <path d=\"M 34.954394 13.5 \nL 44.698573 14.333438 \nL 54.442752 17.929968 \nL 64.186931 23.548857 \n\" clip-path=\"url(#pbf9f603261)\" style=\"fill: none; stroke: #1f77b4; stroke-width: 1.5; stroke-linecap: square\"/>\n   </g>\n   <g id=\"line2d_29\">\n    <path d=\"M 49.633125 15.86771 \nL 69.163125 30.231435 \n\" clip-path=\"url(#pbf9f603261)\" style=\"fill: none; stroke-dasharray: 5.55,2.4; stroke-dashoffset: 0; stroke: #ff7f0e; stroke-width: 1.5\"/>\n   </g>\n   <g id=\"line2d_30\">\n    <path d=\"M 49.633125 139.5 \nL 69.163125 133.917735 \n\" clip-path=\"url(#pbf9f603261)\" style=\"fill: none; stroke-dasharray: 9.6,2.4,1.5,2.4; stroke-dashoffset: 0; stroke: #2ca02c; stroke-width: 1.5\"/>\n   </g>\n   <g id=\"patch_3\">\n    <path d=\"M 30.103125 145.8 \nL 30.103125 7.2 \n\" style=\"fill: none; stroke: #000000; stroke-width: 0.8; stroke-linejoin: miter; stroke-linecap: square\"/>\n   </g>\n   <g id=\"patch_4\">\n    <path d=\"M 225.403125 145.8 \nL 225.403125 7.2 \n\" style=\"fill: none; stroke: #000000; stroke-width: 0.8; stroke-linejoin: miter; stroke-linecap: square\"/>\n   </g>\n   <g id=\"patch_5\">\n    <path d=\"M 30.103125 145.8 \nL 225.403125 145.8 \n\" style=\"fill: none; stroke: #000000; stroke-width: 0.8; stroke-linejoin: miter; stroke-linecap: square\"/>\n   </g>\n   <g id=\"patch_6\">\n    <path d=\"M 30.103125 7.2 \nL 225.403125 7.2 \n\" style=\"fill: none; stroke: #000000; stroke-width: 0.8; stroke-linejoin: miter; stroke-linecap: square\"/>\n   </g>\n   <g id=\"legend_1\">\n    <g id=\"patch_7\">\n     <path d=\"M 138.8125 60.06875 \nL 218.403125 60.06875 \nQ 220.403125 60.06875 220.403125 58.06875 \nL 220.403125 14.2 \nQ 220.403125 12.2 218.403125 12.2 \nL 138.8125 12.2 \nQ 136.8125 12.2 136.8125 14.2 \nL 136.8125 58.06875 \nQ 136.8125 60.06875 138.8125 60.06875 \nz\n\" style=\"fill: #ffffff; opacity: 0.8; stroke: #cccccc; stroke-linejoin: miter\"/>\n    </g>\n    <g id=\"line2d_31\">\n     <path d=\"M 140.8125 20.298438 \nL 150.8125 20.298438 \nL 160.8125 20.298438 \n\" style=\"fill: none; stroke: #1f77b4; stroke-width: 1.5; stroke-linecap: square\"/>\n    </g>\n    <g id=\"text_12\">\n     <!-- train_loss -->\n     <g transform=\"translate(168.8125 23.798438) scale(0.1 -0.1)\">\n      <defs>\n       <path id=\"DejaVuSans-74\" d=\"M 1172 4494 \nL 1172 3500 \nL 2356 3500 \nL 2356 3053 \nL 1172 3053 \nL 1172 1153 \nQ 1172 725 1289 603 \nQ 1406 481 1766 481 \nL 2356 481 \nL 2356 0 \nL 1766 0 \nQ 1100 0 847 248 \nQ 594 497 594 1153 \nL 594 3053 \nL 172 3053 \nL 172 3500 \nL 594 3500 \nL 594 4494 \nL 1172 4494 \nz\n\" transform=\"scale(0.015625)\"/>\n       <path id=\"DejaVuSans-72\" d=\"M 2631 2963 \nQ 2534 3019 2420 3045 \nQ 2306 3072 2169 3072 \nQ 1681 3072 1420 2755 \nQ 1159 2438 1159 1844 \nL 1159 0 \nL 581 0 \nL 581 3500 \nL 1159 3500 \nL 1159 2956 \nQ 1341 3275 1631 3429 \nQ 1922 3584 2338 3584 \nQ 2397 3584 2469 3576 \nQ 2541 3569 2628 3553 \nL 2631 2963 \nz\n\" transform=\"scale(0.015625)\"/>\n       <path id=\"DejaVuSans-61\" d=\"M 2194 1759 \nQ 1497 1759 1228 1600 \nQ 959 1441 959 1056 \nQ 959 750 1161 570 \nQ 1363 391 1709 391 \nQ 2188 391 2477 730 \nQ 2766 1069 2766 1631 \nL 2766 1759 \nL 2194 1759 \nz\nM 3341 1997 \nL 3341 0 \nL 2766 0 \nL 2766 531 \nQ 2569 213 2275 61 \nQ 1981 -91 1556 -91 \nQ 1019 -91 701 211 \nQ 384 513 384 1019 \nQ 384 1609 779 1909 \nQ 1175 2209 1959 2209 \nL 2766 2209 \nL 2766 2266 \nQ 2766 2663 2505 2880 \nQ 2244 3097 1772 3097 \nQ 1472 3097 1187 3025 \nQ 903 2953 641 2809 \nL 641 3341 \nQ 956 3463 1253 3523 \nQ 1550 3584 1831 3584 \nQ 2591 3584 2966 3190 \nQ 3341 2797 3341 1997 \nz\n\" transform=\"scale(0.015625)\"/>\n       <path id=\"DejaVuSans-69\" d=\"M 603 3500 \nL 1178 3500 \nL 1178 0 \nL 603 0 \nL 603 3500 \nz\nM 603 4863 \nL 1178 4863 \nL 1178 4134 \nL 603 4134 \nL 603 4863 \nz\n\" transform=\"scale(0.015625)\"/>\n       <path id=\"DejaVuSans-6e\" d=\"M 3513 2113 \nL 3513 0 \nL 2938 0 \nL 2938 2094 \nQ 2938 2591 2744 2837 \nQ 2550 3084 2163 3084 \nQ 1697 3084 1428 2787 \nQ 1159 2491 1159 1978 \nL 1159 0 \nL 581 0 \nL 581 3500 \nL 1159 3500 \nL 1159 2956 \nQ 1366 3272 1645 3428 \nQ 1925 3584 2291 3584 \nQ 2894 3584 3203 3211 \nQ 3513 2838 3513 2113 \nz\n\" transform=\"scale(0.015625)\"/>\n       <path id=\"DejaVuSans-5f\" d=\"M 3263 -1063 \nL 3263 -1509 \nL -63 -1509 \nL -63 -1063 \nL 3263 -1063 \nz\n\" transform=\"scale(0.015625)\"/>\n       <path id=\"DejaVuSans-6c\" d=\"M 603 4863 \nL 1178 4863 \nL 1178 0 \nL 603 0 \nL 603 4863 \nz\n\" transform=\"scale(0.015625)\"/>\n       <path id=\"DejaVuSans-73\" d=\"M 2834 3397 \nL 2834 2853 \nQ 2591 2978 2328 3040 \nQ 2066 3103 1784 3103 \nQ 1356 3103 1142 2972 \nQ 928 2841 928 2578 \nQ 928 2378 1081 2264 \nQ 1234 2150 1697 2047 \nL 1894 2003 \nQ 2506 1872 2764 1633 \nQ 3022 1394 3022 966 \nQ 3022 478 2636 193 \nQ 2250 -91 1575 -91 \nQ 1294 -91 989 -36 \nQ 684 19 347 128 \nL 347 722 \nQ 666 556 975 473 \nQ 1284 391 1588 391 \nQ 1994 391 2212 530 \nQ 2431 669 2431 922 \nQ 2431 1156 2273 1281 \nQ 2116 1406 1581 1522 \nL 1381 1569 \nQ 847 1681 609 1914 \nQ 372 2147 372 2553 \nQ 372 3047 722 3315 \nQ 1072 3584 1716 3584 \nQ 2034 3584 2315 3537 \nQ 2597 3491 2834 3397 \nz\n\" transform=\"scale(0.015625)\"/>\n      </defs>\n      <use xlink:href=\"#DejaVuSans-74\"/>\n      <use xlink:href=\"#DejaVuSans-72\" x=\"39.208984\"/>\n      <use xlink:href=\"#DejaVuSans-61\" x=\"80.322266\"/>\n      <use xlink:href=\"#DejaVuSans-69\" x=\"141.601562\"/>\n      <use xlink:href=\"#DejaVuSans-6e\" x=\"169.384766\"/>\n      <use xlink:href=\"#DejaVuSans-5f\" x=\"232.763672\"/>\n      <use xlink:href=\"#DejaVuSans-6c\" x=\"282.763672\"/>\n      <use xlink:href=\"#DejaVuSans-6f\" x=\"310.546875\"/>\n      <use xlink:href=\"#DejaVuSans-73\" x=\"371.728516\"/>\n      <use xlink:href=\"#DejaVuSans-73\" x=\"423.828125\"/>\n     </g>\n    </g>\n    <g id=\"line2d_32\">\n     <path d=\"M 140.8125 35.254688 \nL 150.8125 35.254688 \nL 160.8125 35.254688 \n\" style=\"fill: none; stroke-dasharray: 5.55,2.4; stroke-dashoffset: 0; stroke: #ff7f0e; stroke-width: 1.5\"/>\n    </g>\n    <g id=\"text_13\">\n     <!-- val_loss -->\n     <g transform=\"translate(168.8125 38.754688) scale(0.1 -0.1)\">\n      <defs>\n       <path id=\"DejaVuSans-76\" d=\"M 191 3500 \nL 800 3500 \nL 1894 563 \nL 2988 3500 \nL 3597 3500 \nL 2284 0 \nL 1503 0 \nL 191 3500 \nz\n\" transform=\"scale(0.015625)\"/>\n      </defs>\n      <use xlink:href=\"#DejaVuSans-76\"/>\n      <use xlink:href=\"#DejaVuSans-61\" x=\"59.179688\"/>\n      <use xlink:href=\"#DejaVuSans-6c\" x=\"120.458984\"/>\n      <use xlink:href=\"#DejaVuSans-5f\" x=\"148.242188\"/>\n      <use xlink:href=\"#DejaVuSans-6c\" x=\"198.242188\"/>\n      <use xlink:href=\"#DejaVuSans-6f\" x=\"226.025391\"/>\n      <use xlink:href=\"#DejaVuSans-73\" x=\"287.207031\"/>\n      <use xlink:href=\"#DejaVuSans-73\" x=\"339.306641\"/>\n     </g>\n    </g>\n    <g id=\"line2d_33\">\n     <path d=\"M 140.8125 50.210938 \nL 150.8125 50.210938 \nL 160.8125 50.210938 \n\" style=\"fill: none; stroke-dasharray: 9.6,2.4,1.5,2.4; stroke-dashoffset: 0; stroke: #2ca02c; stroke-width: 1.5\"/>\n    </g>\n    <g id=\"text_14\">\n     <!-- val_acc -->\n     <g transform=\"translate(168.8125 53.710938) scale(0.1 -0.1)\">\n      <use xlink:href=\"#DejaVuSans-76\"/>\n      <use xlink:href=\"#DejaVuSans-61\" x=\"59.179688\"/>\n      <use xlink:href=\"#DejaVuSans-6c\" x=\"120.458984\"/>\n      <use xlink:href=\"#DejaVuSans-5f\" x=\"148.242188\"/>\n      <use xlink:href=\"#DejaVuSans-61\" x=\"198.242188\"/>\n      <use xlink:href=\"#DejaVuSans-63\" x=\"259.521484\"/>\n      <use xlink:href=\"#DejaVuSans-63\" x=\"314.501953\"/>\n     </g>\n    </g>\n   </g>\n  </g>\n </g>\n <defs>\n  <clipPath id=\"pbf9f603261\">\n   <rect x=\"30.103125\" y=\"7.2\" width=\"195.3\" height=\"138.6\"/>\n  </clipPath>\n </defs>\n</svg>\n",
            "text/plain": [
              "<Figure size 350x250 with 1 Axes>"
            ]
          },
          "metadata": {},
          "output_type": "display_data"
        }
      ],
      "source": [
        "model = NiN(lr=0.05)\n",
        "trainer = d2l.Trainer(max_epochs=10, num_gpus=1)\n",
        "data = d2l.FashionMNIST(batch_size=128, resize=(224, 224))\n",
        "model.apply_init([next(iter(data.get_dataloader(True)))[0]], d2l.init_cnn)\n",
        "trainer.fit(model, data)"
      ]
    },
    {
      "cell_type": "markdown",
      "metadata": {
        "id": "_oQRe8wR1zjK"
      },
      "source": [
        "### **Exercise 8.3**"
      ]
    },
    {
      "cell_type": "code",
      "execution_count": null,
      "metadata": {
        "colab": {
          "background_save": true,
          "base_uri": "https://localhost:8080/",
          "height": 265
        },
        "id": "Qe_Za4dShUNd",
        "outputId": "ff36232e-46e0-461a-ca69-a90cec683ea0"
      },
      "outputs": [
        {
          "data": {
            "image/svg+xml": "<?xml version=\"1.0\" encoding=\"utf-8\" standalone=\"no\"?>\n<!DOCTYPE svg PUBLIC \"-//W3C//DTD SVG 1.1//EN\"\n  \"http://www.w3.org/Graphics/SVG/1.1/DTD/svg11.dtd\">\n<svg xmlns:xlink=\"http://www.w3.org/1999/xlink\" width=\"238.965625pt\" height=\"183.35625pt\" viewBox=\"0 0 238.965625 183.35625\" xmlns=\"http://www.w3.org/2000/svg\" version=\"1.1\">\n <metadata>\n  <rdf:RDF xmlns:dc=\"http://purl.org/dc/elements/1.1/\" xmlns:cc=\"http://creativecommons.org/ns#\" xmlns:rdf=\"http://www.w3.org/1999/02/22-rdf-syntax-ns#\">\n   <cc:Work>\n    <dc:type rdf:resource=\"http://purl.org/dc/dcmitype/StillImage\"/>\n    <dc:date>2024-09-30T05:00:11.133578</dc:date>\n    <dc:format>image/svg+xml</dc:format>\n    <dc:creator>\n     <cc:Agent>\n      <dc:title>Matplotlib v3.7.2, https://matplotlib.org/</dc:title>\n     </cc:Agent>\n    </dc:creator>\n   </cc:Work>\n  </rdf:RDF>\n </metadata>\n <defs>\n  <style type=\"text/css\">*{stroke-linejoin: round; stroke-linecap: butt}</style>\n </defs>\n <g id=\"figure_1\">\n  <g id=\"patch_1\">\n   <path d=\"M 0 183.35625 \nL 238.965625 183.35625 \nL 238.965625 0 \nL 0 0 \nz\n\" style=\"fill: #ffffff\"/>\n  </g>\n  <g id=\"axes_1\">\n   <g id=\"patch_2\">\n    <path d=\"M 30.103125 145.8 \nL 225.403125 145.8 \nL 225.403125 7.2 \nL 30.103125 7.2 \nz\n\" style=\"fill: #ffffff\"/>\n   </g>\n   <g id=\"matplotlib.axis_1\">\n    <g id=\"xtick_1\">\n     <g id=\"line2d_1\">\n      <defs>\n       <path id=\"m8c20206648\" d=\"M 0 0 \nL 0 3.5 \n\" style=\"stroke: #000000; stroke-width: 0.8\"/>\n      </defs>\n      <g>\n       <use xlink:href=\"#m8c20206648\" x=\"30.103125\" y=\"145.8\" style=\"stroke: #000000; stroke-width: 0.8\"/>\n      </g>\n     </g>\n     <g id=\"text_1\">\n      <!-- 0 -->\n      <g transform=\"translate(26.921875 160.398438) scale(0.1 -0.1)\">\n       <defs>\n        <path id=\"DejaVuSans-30\" d=\"M 2034 4250 \nQ 1547 4250 1301 3770 \nQ 1056 3291 1056 2328 \nQ 1056 1369 1301 889 \nQ 1547 409 2034 409 \nQ 2525 409 2770 889 \nQ 3016 1369 3016 2328 \nQ 3016 3291 2770 3770 \nQ 2525 4250 2034 4250 \nz\nM 2034 4750 \nQ 2819 4750 3233 4129 \nQ 3647 3509 3647 2328 \nQ 3647 1150 3233 529 \nQ 2819 -91 2034 -91 \nQ 1250 -91 836 529 \nQ 422 1150 422 2328 \nQ 422 3509 836 4129 \nQ 1250 4750 2034 4750 \nz\n\" transform=\"scale(0.015625)\"/>\n       </defs>\n       <use xlink:href=\"#DejaVuSans-30\"/>\n      </g>\n     </g>\n    </g>\n    <g id=\"xtick_2\">\n     <g id=\"line2d_2\">\n      <g>\n       <use xlink:href=\"#m8c20206648\" x=\"69.163125\" y=\"145.8\" style=\"stroke: #000000; stroke-width: 0.8\"/>\n      </g>\n     </g>\n     <g id=\"text_2\">\n      <!-- 2 -->\n      <g transform=\"translate(65.981875 160.398438) scale(0.1 -0.1)\">\n       <defs>\n        <path id=\"DejaVuSans-32\" d=\"M 1228 531 \nL 3431 531 \nL 3431 0 \nL 469 0 \nL 469 531 \nQ 828 903 1448 1529 \nQ 2069 2156 2228 2338 \nQ 2531 2678 2651 2914 \nQ 2772 3150 2772 3378 \nQ 2772 3750 2511 3984 \nQ 2250 4219 1831 4219 \nQ 1534 4219 1204 4116 \nQ 875 4013 500 3803 \nL 500 4441 \nQ 881 4594 1212 4672 \nQ 1544 4750 1819 4750 \nQ 2544 4750 2975 4387 \nQ 3406 4025 3406 3419 \nQ 3406 3131 3298 2873 \nQ 3191 2616 2906 2266 \nQ 2828 2175 2409 1742 \nQ 1991 1309 1228 531 \nz\n\" transform=\"scale(0.015625)\"/>\n       </defs>\n       <use xlink:href=\"#DejaVuSans-32\"/>\n      </g>\n     </g>\n    </g>\n    <g id=\"xtick_3\">\n     <g id=\"line2d_3\">\n      <g>\n       <use xlink:href=\"#m8c20206648\" x=\"108.223125\" y=\"145.8\" style=\"stroke: #000000; stroke-width: 0.8\"/>\n      </g>\n     </g>\n     <g id=\"text_3\">\n      <!-- 4 -->\n      <g transform=\"translate(105.041875 160.398438) scale(0.1 -0.1)\">\n       <defs>\n        <path id=\"DejaVuSans-34\" d=\"M 2419 4116 \nL 825 1625 \nL 2419 1625 \nL 2419 4116 \nz\nM 2253 4666 \nL 3047 4666 \nL 3047 1625 \nL 3713 1625 \nL 3713 1100 \nL 3047 1100 \nL 3047 0 \nL 2419 0 \nL 2419 1100 \nL 313 1100 \nL 313 1709 \nL 2253 4666 \nz\n\" transform=\"scale(0.015625)\"/>\n       </defs>\n       <use xlink:href=\"#DejaVuSans-34\"/>\n      </g>\n     </g>\n    </g>\n    <g id=\"xtick_4\">\n     <g id=\"line2d_4\">\n      <g>\n       <use xlink:href=\"#m8c20206648\" x=\"147.283125\" y=\"145.8\" style=\"stroke: #000000; stroke-width: 0.8\"/>\n      </g>\n     </g>\n     <g id=\"text_4\">\n      <!-- 6 -->\n      <g transform=\"translate(144.101875 160.398438) scale(0.1 -0.1)\">\n       <defs>\n        <path id=\"DejaVuSans-36\" d=\"M 2113 2584 \nQ 1688 2584 1439 2293 \nQ 1191 2003 1191 1497 \nQ 1191 994 1439 701 \nQ 1688 409 2113 409 \nQ 2538 409 2786 701 \nQ 3034 994 3034 1497 \nQ 3034 2003 2786 2293 \nQ 2538 2584 2113 2584 \nz\nM 3366 4563 \nL 3366 3988 \nQ 3128 4100 2886 4159 \nQ 2644 4219 2406 4219 \nQ 1781 4219 1451 3797 \nQ 1122 3375 1075 2522 \nQ 1259 2794 1537 2939 \nQ 1816 3084 2150 3084 \nQ 2853 3084 3261 2657 \nQ 3669 2231 3669 1497 \nQ 3669 778 3244 343 \nQ 2819 -91 2113 -91 \nQ 1303 -91 875 529 \nQ 447 1150 447 2328 \nQ 447 3434 972 4092 \nQ 1497 4750 2381 4750 \nQ 2619 4750 2861 4703 \nQ 3103 4656 3366 4563 \nz\n\" transform=\"scale(0.015625)\"/>\n       </defs>\n       <use xlink:href=\"#DejaVuSans-36\"/>\n      </g>\n     </g>\n    </g>\n    <g id=\"xtick_5\">\n     <g id=\"line2d_5\">\n      <g>\n       <use xlink:href=\"#m8c20206648\" x=\"186.343125\" y=\"145.8\" style=\"stroke: #000000; stroke-width: 0.8\"/>\n      </g>\n     </g>\n     <g id=\"text_5\">\n      <!-- 8 -->\n      <g transform=\"translate(183.161875 160.398438) scale(0.1 -0.1)\">\n       <defs>\n        <path id=\"DejaVuSans-38\" d=\"M 2034 2216 \nQ 1584 2216 1326 1975 \nQ 1069 1734 1069 1313 \nQ 1069 891 1326 650 \nQ 1584 409 2034 409 \nQ 2484 409 2743 651 \nQ 3003 894 3003 1313 \nQ 3003 1734 2745 1975 \nQ 2488 2216 2034 2216 \nz\nM 1403 2484 \nQ 997 2584 770 2862 \nQ 544 3141 544 3541 \nQ 544 4100 942 4425 \nQ 1341 4750 2034 4750 \nQ 2731 4750 3128 4425 \nQ 3525 4100 3525 3541 \nQ 3525 3141 3298 2862 \nQ 3072 2584 2669 2484 \nQ 3125 2378 3379 2068 \nQ 3634 1759 3634 1313 \nQ 3634 634 3220 271 \nQ 2806 -91 2034 -91 \nQ 1263 -91 848 271 \nQ 434 634 434 1313 \nQ 434 1759 690 2068 \nQ 947 2378 1403 2484 \nz\nM 1172 3481 \nQ 1172 3119 1398 2916 \nQ 1625 2713 2034 2713 \nQ 2441 2713 2670 2916 \nQ 2900 3119 2900 3481 \nQ 2900 3844 2670 4047 \nQ 2441 4250 2034 4250 \nQ 1625 4250 1398 4047 \nQ 1172 3844 1172 3481 \nz\n\" transform=\"scale(0.015625)\"/>\n       </defs>\n       <use xlink:href=\"#DejaVuSans-38\"/>\n      </g>\n     </g>\n    </g>\n    <g id=\"xtick_6\">\n     <g id=\"line2d_6\">\n      <g>\n       <use xlink:href=\"#m8c20206648\" x=\"225.403125\" y=\"145.8\" style=\"stroke: #000000; stroke-width: 0.8\"/>\n      </g>\n     </g>\n     <g id=\"text_6\">\n      <!-- 10 -->\n      <g transform=\"translate(219.040625 160.398438) scale(0.1 -0.1)\">\n       <defs>\n        <path id=\"DejaVuSans-31\" d=\"M 794 531 \nL 1825 531 \nL 1825 4091 \nL 703 3866 \nL 703 4441 \nL 1819 4666 \nL 2450 4666 \nL 2450 531 \nL 3481 531 \nL 3481 0 \nL 794 0 \nL 794 531 \nz\n\" transform=\"scale(0.015625)\"/>\n       </defs>\n       <use xlink:href=\"#DejaVuSans-31\"/>\n       <use xlink:href=\"#DejaVuSans-30\" x=\"63.623047\"/>\n      </g>\n     </g>\n    </g>\n    <g id=\"text_7\">\n     <!-- epoch -->\n     <g transform=\"translate(112.525 174.076563) scale(0.1 -0.1)\">\n      <defs>\n       <path id=\"DejaVuSans-65\" d=\"M 3597 1894 \nL 3597 1613 \nL 953 1613 \nQ 991 1019 1311 708 \nQ 1631 397 2203 397 \nQ 2534 397 2845 478 \nQ 3156 559 3463 722 \nL 3463 178 \nQ 3153 47 2828 -22 \nQ 2503 -91 2169 -91 \nQ 1331 -91 842 396 \nQ 353 884 353 1716 \nQ 353 2575 817 3079 \nQ 1281 3584 2069 3584 \nQ 2775 3584 3186 3129 \nQ 3597 2675 3597 1894 \nz\nM 3022 2063 \nQ 3016 2534 2758 2815 \nQ 2500 3097 2075 3097 \nQ 1594 3097 1305 2825 \nQ 1016 2553 972 2059 \nL 3022 2063 \nz\n\" transform=\"scale(0.015625)\"/>\n       <path id=\"DejaVuSans-70\" d=\"M 1159 525 \nL 1159 -1331 \nL 581 -1331 \nL 581 3500 \nL 1159 3500 \nL 1159 2969 \nQ 1341 3281 1617 3432 \nQ 1894 3584 2278 3584 \nQ 2916 3584 3314 3078 \nQ 3713 2572 3713 1747 \nQ 3713 922 3314 415 \nQ 2916 -91 2278 -91 \nQ 1894 -91 1617 61 \nQ 1341 213 1159 525 \nz\nM 3116 1747 \nQ 3116 2381 2855 2742 \nQ 2594 3103 2138 3103 \nQ 1681 3103 1420 2742 \nQ 1159 2381 1159 1747 \nQ 1159 1113 1420 752 \nQ 1681 391 2138 391 \nQ 2594 391 2855 752 \nQ 3116 1113 3116 1747 \nz\n\" transform=\"scale(0.015625)\"/>\n       <path id=\"DejaVuSans-6f\" d=\"M 1959 3097 \nQ 1497 3097 1228 2736 \nQ 959 2375 959 1747 \nQ 959 1119 1226 758 \nQ 1494 397 1959 397 \nQ 2419 397 2687 759 \nQ 2956 1122 2956 1747 \nQ 2956 2369 2687 2733 \nQ 2419 3097 1959 3097 \nz\nM 1959 3584 \nQ 2709 3584 3137 3096 \nQ 3566 2609 3566 1747 \nQ 3566 888 3137 398 \nQ 2709 -91 1959 -91 \nQ 1206 -91 779 398 \nQ 353 888 353 1747 \nQ 353 2609 779 3096 \nQ 1206 3584 1959 3584 \nz\n\" transform=\"scale(0.015625)\"/>\n       <path id=\"DejaVuSans-63\" d=\"M 3122 3366 \nL 3122 2828 \nQ 2878 2963 2633 3030 \nQ 2388 3097 2138 3097 \nQ 1578 3097 1268 2742 \nQ 959 2388 959 1747 \nQ 959 1106 1268 751 \nQ 1578 397 2138 397 \nQ 2388 397 2633 464 \nQ 2878 531 3122 666 \nL 3122 134 \nQ 2881 22 2623 -34 \nQ 2366 -91 2075 -91 \nQ 1284 -91 818 406 \nQ 353 903 353 1747 \nQ 353 2603 823 3093 \nQ 1294 3584 2113 3584 \nQ 2378 3584 2631 3529 \nQ 2884 3475 3122 3366 \nz\n\" transform=\"scale(0.015625)\"/>\n       <path id=\"DejaVuSans-68\" d=\"M 3513 2113 \nL 3513 0 \nL 2938 0 \nL 2938 2094 \nQ 2938 2591 2744 2837 \nQ 2550 3084 2163 3084 \nQ 1697 3084 1428 2787 \nQ 1159 2491 1159 1978 \nL 1159 0 \nL 581 0 \nL 581 4863 \nL 1159 4863 \nL 1159 2956 \nQ 1366 3272 1645 3428 \nQ 1925 3584 2291 3584 \nQ 2894 3584 3203 3211 \nQ 3513 2838 3513 2113 \nz\n\" transform=\"scale(0.015625)\"/>\n      </defs>\n      <use xlink:href=\"#DejaVuSans-65\"/>\n      <use xlink:href=\"#DejaVuSans-70\" x=\"61.523438\"/>\n      <use xlink:href=\"#DejaVuSans-6f\" x=\"125\"/>\n      <use xlink:href=\"#DejaVuSans-63\" x=\"186.181641\"/>\n      <use xlink:href=\"#DejaVuSans-68\" x=\"241.162109\"/>\n     </g>\n    </g>\n   </g>\n   <g id=\"matplotlib.axis_2\">\n    <g id=\"ytick_1\">\n     <g id=\"line2d_7\">\n      <defs>\n       <path id=\"me5152b2ef5\" d=\"M 0 0 \nL -3.5 0 \n\" style=\"stroke: #000000; stroke-width: 0.8\"/>\n      </defs>\n      <g>\n       <use xlink:href=\"#me5152b2ef5\" x=\"30.103125\" y=\"117.129552\" style=\"stroke: #000000; stroke-width: 0.8\"/>\n      </g>\n     </g>\n     <g id=\"text_8\">\n      <!-- 0.5 -->\n      <g transform=\"translate(7.2 120.92877) scale(0.1 -0.1)\">\n       <defs>\n        <path id=\"DejaVuSans-2e\" d=\"M 684 794 \nL 1344 794 \nL 1344 0 \nL 684 0 \nL 684 794 \nz\n\" transform=\"scale(0.015625)\"/>\n        <path id=\"DejaVuSans-35\" d=\"M 691 4666 \nL 3169 4666 \nL 3169 4134 \nL 1269 4134 \nL 1269 2991 \nQ 1406 3038 1543 3061 \nQ 1681 3084 1819 3084 \nQ 2600 3084 3056 2656 \nQ 3513 2228 3513 1497 \nQ 3513 744 3044 326 \nQ 2575 -91 1722 -91 \nQ 1428 -91 1123 -41 \nQ 819 9 494 109 \nL 494 744 \nQ 775 591 1075 516 \nQ 1375 441 1709 441 \nQ 2250 441 2565 725 \nQ 2881 1009 2881 1497 \nQ 2881 1984 2565 2268 \nQ 2250 2553 1709 2553 \nQ 1456 2553 1204 2497 \nQ 953 2441 691 2322 \nL 691 4666 \nz\n\" transform=\"scale(0.015625)\"/>\n       </defs>\n       <use xlink:href=\"#DejaVuSans-30\"/>\n       <use xlink:href=\"#DejaVuSans-2e\" x=\"63.623047\"/>\n       <use xlink:href=\"#DejaVuSans-35\" x=\"95.410156\"/>\n      </g>\n     </g>\n    </g>\n    <g id=\"ytick_2\">\n     <g id=\"line2d_8\">\n      <g>\n       <use xlink:href=\"#me5152b2ef5\" x=\"30.103125\" y=\"88.415414\" style=\"stroke: #000000; stroke-width: 0.8\"/>\n      </g>\n     </g>\n     <g id=\"text_9\">\n      <!-- 1.0 -->\n      <g transform=\"translate(7.2 92.214633) scale(0.1 -0.1)\">\n       <use xlink:href=\"#DejaVuSans-31\"/>\n       <use xlink:href=\"#DejaVuSans-2e\" x=\"63.623047\"/>\n       <use xlink:href=\"#DejaVuSans-30\" x=\"95.410156\"/>\n      </g>\n     </g>\n    </g>\n    <g id=\"ytick_3\">\n     <g id=\"line2d_9\">\n      <g>\n       <use xlink:href=\"#me5152b2ef5\" x=\"30.103125\" y=\"59.701277\" style=\"stroke: #000000; stroke-width: 0.8\"/>\n      </g>\n     </g>\n     <g id=\"text_10\">\n      <!-- 1.5 -->\n      <g transform=\"translate(7.2 63.500496) scale(0.1 -0.1)\">\n       <use xlink:href=\"#DejaVuSans-31\"/>\n       <use xlink:href=\"#DejaVuSans-2e\" x=\"63.623047\"/>\n       <use xlink:href=\"#DejaVuSans-35\" x=\"95.410156\"/>\n      </g>\n     </g>\n    </g>\n    <g id=\"ytick_4\">\n     <g id=\"line2d_10\">\n      <g>\n       <use xlink:href=\"#me5152b2ef5\" x=\"30.103125\" y=\"30.98714\" style=\"stroke: #000000; stroke-width: 0.8\"/>\n      </g>\n     </g>\n     <g id=\"text_11\">\n      <!-- 2.0 -->\n      <g transform=\"translate(7.2 34.786358) scale(0.1 -0.1)\">\n       <use xlink:href=\"#DejaVuSans-32\"/>\n       <use xlink:href=\"#DejaVuSans-2e\" x=\"63.623047\"/>\n       <use xlink:href=\"#DejaVuSans-30\" x=\"95.410156\"/>\n      </g>\n     </g>\n    </g>\n   </g>\n   <g id=\"line2d_11\">\n    <path d=\"M 34.954394 13.5 \n\" clip-path=\"url(#pa0185a0475)\" style=\"fill: none; stroke: #1f77b4; stroke-width: 1.5; stroke-linecap: square\"/>\n   </g>\n   <g id=\"line2d_12\">\n    <path d=\"M 34.954394 13.5 \nL 44.698573 13.599716 \n\" clip-path=\"url(#pa0185a0475)\" style=\"fill: none; stroke: #1f77b4; stroke-width: 1.5; stroke-linecap: square\"/>\n   </g>\n   <g id=\"line2d_13\">\n    <path d=\"M 34.954394 13.5 \nL 44.698573 13.599716 \n\" clip-path=\"url(#pa0185a0475)\" style=\"fill: none; stroke: #1f77b4; stroke-width: 1.5; stroke-linecap: square\"/>\n   </g>\n   <g id=\"line2d_14\">\n    <path d=\"M 49.633125 13.64 \n\" clip-path=\"url(#pa0185a0475)\" style=\"fill: none; stroke-dasharray: 5.55,2.4; stroke-dashoffset: 0; stroke: #ff7f0e; stroke-width: 1.5\"/>\n   </g>\n   <g id=\"line2d_15\"/>\n   <g id=\"line2d_16\">\n    <path d=\"M 34.954394 13.5 \nL 44.698573 13.599716 \n\" clip-path=\"url(#pa0185a0475)\" style=\"fill: none; stroke: #1f77b4; stroke-width: 1.5; stroke-linecap: square\"/>\n   </g>\n   <g id=\"line2d_17\">\n    <path d=\"M 49.633125 13.64 \n\" clip-path=\"url(#pa0185a0475)\" style=\"fill: none; stroke-dasharray: 5.55,2.4; stroke-dashoffset: 0; stroke: #ff7f0e; stroke-width: 1.5\"/>\n   </g>\n   <g id=\"line2d_18\">\n    <path d=\"M 49.633125 139.5 \n\" clip-path=\"url(#pa0185a0475)\" style=\"fill: none; stroke-dasharray: 9.6,2.4,1.5,2.4; stroke-dashoffset: 0; stroke: #2ca02c; stroke-width: 1.5\"/>\n   </g>\n   <g id=\"line2d_19\">\n    <path d=\"M 34.954394 13.5 \nL 44.698573 13.599716 \nL 54.442752 13.676015 \n\" clip-path=\"url(#pa0185a0475)\" style=\"fill: none; stroke: #1f77b4; stroke-width: 1.5; stroke-linecap: square\"/>\n   </g>\n   <g id=\"line2d_20\">\n    <path d=\"M 49.633125 13.64 \n\" clip-path=\"url(#pa0185a0475)\" style=\"fill: none; stroke-dasharray: 5.55,2.4; stroke-dashoffset: 0; stroke: #ff7f0e; stroke-width: 1.5\"/>\n   </g>\n   <g id=\"line2d_21\">\n    <path d=\"M 49.633125 139.5 \n\" clip-path=\"url(#pa0185a0475)\" style=\"fill: none; stroke-dasharray: 9.6,2.4,1.5,2.4; stroke-dashoffset: 0; stroke: #2ca02c; stroke-width: 1.5\"/>\n   </g>\n   <g id=\"patch_3\">\n    <path d=\"M 30.103125 145.8 \nL 30.103125 7.2 \n\" style=\"fill: none; stroke: #000000; stroke-width: 0.8; stroke-linejoin: miter; stroke-linecap: square\"/>\n   </g>\n   <g id=\"patch_4\">\n    <path d=\"M 225.403125 145.8 \nL 225.403125 7.2 \n\" style=\"fill: none; stroke: #000000; stroke-width: 0.8; stroke-linejoin: miter; stroke-linecap: square\"/>\n   </g>\n   <g id=\"patch_5\">\n    <path d=\"M 30.103125 145.8 \nL 225.403125 145.8 \n\" style=\"fill: none; stroke: #000000; stroke-width: 0.8; stroke-linejoin: miter; stroke-linecap: square\"/>\n   </g>\n   <g id=\"patch_6\">\n    <path d=\"M 30.103125 7.2 \nL 225.403125 7.2 \n\" style=\"fill: none; stroke: #000000; stroke-width: 0.8; stroke-linejoin: miter; stroke-linecap: square\"/>\n   </g>\n   <g id=\"legend_1\">\n    <g id=\"patch_7\">\n     <path d=\"M 138.8125 60.06875 \nL 218.403125 60.06875 \nQ 220.403125 60.06875 220.403125 58.06875 \nL 220.403125 14.2 \nQ 220.403125 12.2 218.403125 12.2 \nL 138.8125 12.2 \nQ 136.8125 12.2 136.8125 14.2 \nL 136.8125 58.06875 \nQ 136.8125 60.06875 138.8125 60.06875 \nz\n\" style=\"fill: #ffffff; opacity: 0.8; stroke: #cccccc; stroke-linejoin: miter\"/>\n    </g>\n    <g id=\"line2d_22\">\n     <path d=\"M 140.8125 20.298438 \nL 150.8125 20.298438 \nL 160.8125 20.298438 \n\" style=\"fill: none; stroke: #1f77b4; stroke-width: 1.5; stroke-linecap: square\"/>\n    </g>\n    <g id=\"text_12\">\n     <!-- train_loss -->\n     <g transform=\"translate(168.8125 23.798438) scale(0.1 -0.1)\">\n      <defs>\n       <path id=\"DejaVuSans-74\" d=\"M 1172 4494 \nL 1172 3500 \nL 2356 3500 \nL 2356 3053 \nL 1172 3053 \nL 1172 1153 \nQ 1172 725 1289 603 \nQ 1406 481 1766 481 \nL 2356 481 \nL 2356 0 \nL 1766 0 \nQ 1100 0 847 248 \nQ 594 497 594 1153 \nL 594 3053 \nL 172 3053 \nL 172 3500 \nL 594 3500 \nL 594 4494 \nL 1172 4494 \nz\n\" transform=\"scale(0.015625)\"/>\n       <path id=\"DejaVuSans-72\" d=\"M 2631 2963 \nQ 2534 3019 2420 3045 \nQ 2306 3072 2169 3072 \nQ 1681 3072 1420 2755 \nQ 1159 2438 1159 1844 \nL 1159 0 \nL 581 0 \nL 581 3500 \nL 1159 3500 \nL 1159 2956 \nQ 1341 3275 1631 3429 \nQ 1922 3584 2338 3584 \nQ 2397 3584 2469 3576 \nQ 2541 3569 2628 3553 \nL 2631 2963 \nz\n\" transform=\"scale(0.015625)\"/>\n       <path id=\"DejaVuSans-61\" d=\"M 2194 1759 \nQ 1497 1759 1228 1600 \nQ 959 1441 959 1056 \nQ 959 750 1161 570 \nQ 1363 391 1709 391 \nQ 2188 391 2477 730 \nQ 2766 1069 2766 1631 \nL 2766 1759 \nL 2194 1759 \nz\nM 3341 1997 \nL 3341 0 \nL 2766 0 \nL 2766 531 \nQ 2569 213 2275 61 \nQ 1981 -91 1556 -91 \nQ 1019 -91 701 211 \nQ 384 513 384 1019 \nQ 384 1609 779 1909 \nQ 1175 2209 1959 2209 \nL 2766 2209 \nL 2766 2266 \nQ 2766 2663 2505 2880 \nQ 2244 3097 1772 3097 \nQ 1472 3097 1187 3025 \nQ 903 2953 641 2809 \nL 641 3341 \nQ 956 3463 1253 3523 \nQ 1550 3584 1831 3584 \nQ 2591 3584 2966 3190 \nQ 3341 2797 3341 1997 \nz\n\" transform=\"scale(0.015625)\"/>\n       <path id=\"DejaVuSans-69\" d=\"M 603 3500 \nL 1178 3500 \nL 1178 0 \nL 603 0 \nL 603 3500 \nz\nM 603 4863 \nL 1178 4863 \nL 1178 4134 \nL 603 4134 \nL 603 4863 \nz\n\" transform=\"scale(0.015625)\"/>\n       <path id=\"DejaVuSans-6e\" d=\"M 3513 2113 \nL 3513 0 \nL 2938 0 \nL 2938 2094 \nQ 2938 2591 2744 2837 \nQ 2550 3084 2163 3084 \nQ 1697 3084 1428 2787 \nQ 1159 2491 1159 1978 \nL 1159 0 \nL 581 0 \nL 581 3500 \nL 1159 3500 \nL 1159 2956 \nQ 1366 3272 1645 3428 \nQ 1925 3584 2291 3584 \nQ 2894 3584 3203 3211 \nQ 3513 2838 3513 2113 \nz\n\" transform=\"scale(0.015625)\"/>\n       <path id=\"DejaVuSans-5f\" d=\"M 3263 -1063 \nL 3263 -1509 \nL -63 -1509 \nL -63 -1063 \nL 3263 -1063 \nz\n\" transform=\"scale(0.015625)\"/>\n       <path id=\"DejaVuSans-6c\" d=\"M 603 4863 \nL 1178 4863 \nL 1178 0 \nL 603 0 \nL 603 4863 \nz\n\" transform=\"scale(0.015625)\"/>\n       <path id=\"DejaVuSans-73\" d=\"M 2834 3397 \nL 2834 2853 \nQ 2591 2978 2328 3040 \nQ 2066 3103 1784 3103 \nQ 1356 3103 1142 2972 \nQ 928 2841 928 2578 \nQ 928 2378 1081 2264 \nQ 1234 2150 1697 2047 \nL 1894 2003 \nQ 2506 1872 2764 1633 \nQ 3022 1394 3022 966 \nQ 3022 478 2636 193 \nQ 2250 -91 1575 -91 \nQ 1294 -91 989 -36 \nQ 684 19 347 128 \nL 347 722 \nQ 666 556 975 473 \nQ 1284 391 1588 391 \nQ 1994 391 2212 530 \nQ 2431 669 2431 922 \nQ 2431 1156 2273 1281 \nQ 2116 1406 1581 1522 \nL 1381 1569 \nQ 847 1681 609 1914 \nQ 372 2147 372 2553 \nQ 372 3047 722 3315 \nQ 1072 3584 1716 3584 \nQ 2034 3584 2315 3537 \nQ 2597 3491 2834 3397 \nz\n\" transform=\"scale(0.015625)\"/>\n      </defs>\n      <use xlink:href=\"#DejaVuSans-74\"/>\n      <use xlink:href=\"#DejaVuSans-72\" x=\"39.208984\"/>\n      <use xlink:href=\"#DejaVuSans-61\" x=\"80.322266\"/>\n      <use xlink:href=\"#DejaVuSans-69\" x=\"141.601562\"/>\n      <use xlink:href=\"#DejaVuSans-6e\" x=\"169.384766\"/>\n      <use xlink:href=\"#DejaVuSans-5f\" x=\"232.763672\"/>\n      <use xlink:href=\"#DejaVuSans-6c\" x=\"282.763672\"/>\n      <use xlink:href=\"#DejaVuSans-6f\" x=\"310.546875\"/>\n      <use xlink:href=\"#DejaVuSans-73\" x=\"371.728516\"/>\n      <use xlink:href=\"#DejaVuSans-73\" x=\"423.828125\"/>\n     </g>\n    </g>\n    <g id=\"line2d_23\">\n     <path d=\"M 140.8125 35.254688 \nL 150.8125 35.254688 \nL 160.8125 35.254688 \n\" style=\"fill: none; stroke-dasharray: 5.55,2.4; stroke-dashoffset: 0; stroke: #ff7f0e; stroke-width: 1.5\"/>\n    </g>\n    <g id=\"text_13\">\n     <!-- val_loss -->\n     <g transform=\"translate(168.8125 38.754688) scale(0.1 -0.1)\">\n      <defs>\n       <path id=\"DejaVuSans-76\" d=\"M 191 3500 \nL 800 3500 \nL 1894 563 \nL 2988 3500 \nL 3597 3500 \nL 2284 0 \nL 1503 0 \nL 191 3500 \nz\n\" transform=\"scale(0.015625)\"/>\n      </defs>\n      <use xlink:href=\"#DejaVuSans-76\"/>\n      <use xlink:href=\"#DejaVuSans-61\" x=\"59.179688\"/>\n      <use xlink:href=\"#DejaVuSans-6c\" x=\"120.458984\"/>\n      <use xlink:href=\"#DejaVuSans-5f\" x=\"148.242188\"/>\n      <use xlink:href=\"#DejaVuSans-6c\" x=\"198.242188\"/>\n      <use xlink:href=\"#DejaVuSans-6f\" x=\"226.025391\"/>\n      <use xlink:href=\"#DejaVuSans-73\" x=\"287.207031\"/>\n      <use xlink:href=\"#DejaVuSans-73\" x=\"339.306641\"/>\n     </g>\n    </g>\n    <g id=\"line2d_24\">\n     <path d=\"M 140.8125 50.210938 \nL 150.8125 50.210938 \nL 160.8125 50.210938 \n\" style=\"fill: none; stroke-dasharray: 9.6,2.4,1.5,2.4; stroke-dashoffset: 0; stroke: #2ca02c; stroke-width: 1.5\"/>\n    </g>\n    <g id=\"text_14\">\n     <!-- val_acc -->\n     <g transform=\"translate(168.8125 53.710938) scale(0.1 -0.1)\">\n      <use xlink:href=\"#DejaVuSans-76\"/>\n      <use xlink:href=\"#DejaVuSans-61\" x=\"59.179688\"/>\n      <use xlink:href=\"#DejaVuSans-6c\" x=\"120.458984\"/>\n      <use xlink:href=\"#DejaVuSans-5f\" x=\"148.242188\"/>\n      <use xlink:href=\"#DejaVuSans-61\" x=\"198.242188\"/>\n      <use xlink:href=\"#DejaVuSans-63\" x=\"259.521484\"/>\n      <use xlink:href=\"#DejaVuSans-63\" x=\"314.501953\"/>\n     </g>\n    </g>\n   </g>\n  </g>\n </g>\n <defs>\n  <clipPath id=\"pa0185a0475\">\n   <rect x=\"30.103125\" y=\"7.2\" width=\"195.3\" height=\"138.6\"/>\n  </clipPath>\n </defs>\n</svg>\n",
            "text/plain": [
              "<Figure size 350x250 with 1 Axes>"
            ]
          },
          "metadata": {},
          "output_type": "display_data"
        }
      ],
      "source": [
        "import torch\n",
        "import torch.nn as nn\n",
        "import d2l\n",
        "from torchsummary import summary\n",
        "\n",
        "def nin_block(out_channels, kernel_size, strides, padding, conv1s=[[1,0],[1,0]]):\n",
        "    layers = [nn.LazyConv2d(out_channels, kernel_size=kernel_size, stride=strides, padding=padding),nn.ReLU()]\n",
        "    for conv1_size,conv1_padding in conv1s:\n",
        "        layers.append(nn.LazyConv2d(out_channels, kernel_size=conv1_size,padding=conv1_padding))\n",
        "        layers.append(nn.ReLU())\n",
        "    return nn.Sequential(*layers)\n",
        "\n",
        "class Nin(d2l.torch.Classifier):\n",
        "    def __init__(self, arch, lr=0.1):\n",
        "        super().__init__()\n",
        "        self.save_hyperparameters()\n",
        "        layers = []\n",
        "        for i in range(len(arch)-1):\n",
        "            layers.append(nin_block(*arch[i]))\n",
        "            layers.append(nn.MaxPool2d(3, stride=2))\n",
        "        layers.append(nn.Dropout(0.5))\n",
        "        layers.append(nin_block(*arch[-1]))\n",
        "        layers.append(nn.AdaptiveAvgPool2d((1, 1)))\n",
        "        layers.append(nn.Flatten())\n",
        "        self.net = nn.Sequential(*layers)\n",
        "        self.net.apply(d2l.torch.init_cnn)\n",
        "\n",
        "data = d2l.torch.FashionMNIST(batch_size=128, resize=(224, 224))\n",
        "arch = ((96,11,4,0),(256,5,1,2),(384,3,1,1),(10,3,1,1))\n",
        "model = Nin(arch, lr=0.03)\n",
        "model.apply_init([next(iter(data.get_dataloader(True)))[0]], d2l.torch.init_cnn)\n",
        "\n",
        "# Check for CUDA availability and set the device accordingly\n",
        "if torch.cuda.is_available():\n",
        "    device = torch.device(\"cuda\")\n",
        "    print(\"Using CUDA\")\n",
        "else:\n",
        "    device = torch.device(\"cpu\")\n",
        "    print(\"CUDA not available, using CPU instead\")\n",
        "\n",
        "# Move the model to the selected device\n",
        "model.to(device)\n",
        "\n",
        "# If CUDA is available, reset peak memory stats\n",
        "if device.type == 'cuda':\n",
        "    scaler = torch.cuda.amp.GradScaler()\n",
        "\n",
        "trainer = d2l.torch.Trainer(max_epochs=10, num_gpus=1 if device.type == 'cuda' else 0)\n",
        "# The d2l.torch.Trainer's fit method likely expects the data loaders to be accessed\n",
        "# through the data object directly. Remove the data_iter argument.\n",
        "trainer.fit(model, data)\n",
        "\n",
        "# If CUDA is available, print memory stats\n",
        "if device.type == 'cuda':\n",
        "    memory_stats = torch.cuda.memory_stats(device=device)\n",
        "    print(\"Peak memory usage:\", memory_stats[\"allocated_bytes.all.peak\"] / (1024 ** 2), \"MB\")\n",
        "    print(\"Current memory usage:\", memory_stats[\"allocated_bytes.all.current\"] / (1024 ** 2), \"MB\")\n",
        "\n",
        "# Get data loaders using the data object directly\n",
        "train_iter = data.get_dataloader(True, num_workers=4, pin_memory=True)\n",
        "test_iter = data.get_dataloader(False, num_workers=4, pin_memory=True)\n",
        "\n",
        "X,y = next(iter(test_iter))\n",
        "X = X.to(device)  # Move data to the correct device\n",
        "y = y.to(device)  # Move data to the correct device\n",
        "\n",
        "# If CUDA is available, reset peak memory stats before inference\n",
        "if device.type == 'cuda':\n",
        "    torch.cuda.reset_peak_memory_stats()\n",
        "    torch.cuda.empty_cache()\n",
        "\n",
        "y_hat = model(X)\n",
        "print(f'acc: {model.accuracy(y_hat,y).item():.2f}')\n",
        "\n",
        "# If CUDA is available, print memory stats after inference\n",
        "if device.type == 'cuda':\n",
        "    memory_stats = torch.cuda.memory_stats(device=device)\n",
        "    print(\"Peak memory usage:\", memory_stats[\"allocated_bytes.all\"])"
      ]
    },
    {
      "cell_type": "markdown",
      "metadata": {
        "id": "ym3bNelSoSDN"
      },
      "source": [
        "**1. Why are there two $1 × 1$ convolutional layers per NiN block? Increase their number to three. Reduce their number to one. What changes?**\n",
        "\n",
        "* Dua Lapisan konvolusi 1 × 1 dalam blok NiN bertujuan untuk mengurangi jumlah feature maps dan melakukan kombinasi linier untuk setiap piksel, sehingga akan mengurangi kompleksitas komputasi. Selain itu, mampu meningkatkan non-linearitas, sehingga berpotensi menghasilkan akurasi lebih baik.\n",
        "* Jika menambah jumlah lapisan konvolusi 1 × 1 menjadi tiga, model akan mampu mengekstraksi fitur yang lebih kompleks, namun biaya komputasi meningkat.\n",
        "Non-linearitas meningkat, namun bisa menyebabkan overfitting.\n",
        "* Jika mengurangi jumlah lapisan konvolusi 1 × 1 menjadi satu, model mungkin tidak mampu menangkap fitur yang kompleks, sehingga performa menurun.\n",
        "Biaya komputasi akan berkurang, tetapi model kurang bisa generalisasi terhadap data yang lebih kompleks.\n"
      ]
    },
    {
      "cell_type": "code",
      "execution_count": null,
      "metadata": {
        "id": "vP79IShU-1Fz",
        "colab": {
          "base_uri": "https://localhost:8080/",
          "height": 265
        },
        "outputId": "c310d004-4bc1-4005-889e-d0bab511af99"
      },
      "outputs": [
        {
          "data": {
            "image/svg+xml": "<?xml version=\"1.0\" encoding=\"utf-8\" standalone=\"no\"?>\n<!DOCTYPE svg PUBLIC \"-//W3C//DTD SVG 1.1//EN\"\n  \"http://www.w3.org/Graphics/SVG/1.1/DTD/svg11.dtd\">\n<svg xmlns:xlink=\"http://www.w3.org/1999/xlink\" width=\"238.965625pt\" height=\"183.35625pt\" viewBox=\"0 0 238.965625 183.35625\" xmlns=\"http://www.w3.org/2000/svg\" version=\"1.1\">\n <metadata>\n  <rdf:RDF xmlns:dc=\"http://purl.org/dc/elements/1.1/\" xmlns:cc=\"http://creativecommons.org/ns#\" xmlns:rdf=\"http://www.w3.org/1999/02/22-rdf-syntax-ns#\">\n   <cc:Work>\n    <dc:type rdf:resource=\"http://purl.org/dc/dcmitype/StillImage\"/>\n    <dc:date>2024-09-30T17:46:20.394058</dc:date>\n    <dc:format>image/svg+xml</dc:format>\n    <dc:creator>\n     <cc:Agent>\n      <dc:title>Matplotlib v3.7.2, https://matplotlib.org/</dc:title>\n     </cc:Agent>\n    </dc:creator>\n   </cc:Work>\n  </rdf:RDF>\n </metadata>\n <defs>\n  <style type=\"text/css\">*{stroke-linejoin: round; stroke-linecap: butt}</style>\n </defs>\n <g id=\"figure_1\">\n  <g id=\"patch_1\">\n   <path d=\"M 0 183.35625 \nL 238.965625 183.35625 \nL 238.965625 0 \nL 0 0 \nz\n\" style=\"fill: #ffffff\"/>\n  </g>\n  <g id=\"axes_1\">\n   <g id=\"patch_2\">\n    <path d=\"M 30.103125 145.8 \nL 225.403125 145.8 \nL 225.403125 7.2 \nL 30.103125 7.2 \nz\n\" style=\"fill: #ffffff\"/>\n   </g>\n   <g id=\"matplotlib.axis_1\">\n    <g id=\"xtick_1\">\n     <g id=\"line2d_1\">\n      <defs>\n       <path id=\"m282bb7797f\" d=\"M 0 0 \nL 0 3.5 \n\" style=\"stroke: #000000; stroke-width: 0.8\"/>\n      </defs>\n      <g>\n       <use xlink:href=\"#m282bb7797f\" x=\"30.103125\" y=\"145.8\" style=\"stroke: #000000; stroke-width: 0.8\"/>\n      </g>\n     </g>\n     <g id=\"text_1\">\n      <!-- 0 -->\n      <g transform=\"translate(26.921875 160.398438) scale(0.1 -0.1)\">\n       <defs>\n        <path id=\"DejaVuSans-30\" d=\"M 2034 4250 \nQ 1547 4250 1301 3770 \nQ 1056 3291 1056 2328 \nQ 1056 1369 1301 889 \nQ 1547 409 2034 409 \nQ 2525 409 2770 889 \nQ 3016 1369 3016 2328 \nQ 3016 3291 2770 3770 \nQ 2525 4250 2034 4250 \nz\nM 2034 4750 \nQ 2819 4750 3233 4129 \nQ 3647 3509 3647 2328 \nQ 3647 1150 3233 529 \nQ 2819 -91 2034 -91 \nQ 1250 -91 836 529 \nQ 422 1150 422 2328 \nQ 422 3509 836 4129 \nQ 1250 4750 2034 4750 \nz\n\" transform=\"scale(0.015625)\"/>\n       </defs>\n       <use xlink:href=\"#DejaVuSans-30\"/>\n      </g>\n     </g>\n    </g>\n    <g id=\"xtick_2\">\n     <g id=\"line2d_2\">\n      <g>\n       <use xlink:href=\"#m282bb7797f\" x=\"69.163125\" y=\"145.8\" style=\"stroke: #000000; stroke-width: 0.8\"/>\n      </g>\n     </g>\n     <g id=\"text_2\">\n      <!-- 2 -->\n      <g transform=\"translate(65.981875 160.398438) scale(0.1 -0.1)\">\n       <defs>\n        <path id=\"DejaVuSans-32\" d=\"M 1228 531 \nL 3431 531 \nL 3431 0 \nL 469 0 \nL 469 531 \nQ 828 903 1448 1529 \nQ 2069 2156 2228 2338 \nQ 2531 2678 2651 2914 \nQ 2772 3150 2772 3378 \nQ 2772 3750 2511 3984 \nQ 2250 4219 1831 4219 \nQ 1534 4219 1204 4116 \nQ 875 4013 500 3803 \nL 500 4441 \nQ 881 4594 1212 4672 \nQ 1544 4750 1819 4750 \nQ 2544 4750 2975 4387 \nQ 3406 4025 3406 3419 \nQ 3406 3131 3298 2873 \nQ 3191 2616 2906 2266 \nQ 2828 2175 2409 1742 \nQ 1991 1309 1228 531 \nz\n\" transform=\"scale(0.015625)\"/>\n       </defs>\n       <use xlink:href=\"#DejaVuSans-32\"/>\n      </g>\n     </g>\n    </g>\n    <g id=\"xtick_3\">\n     <g id=\"line2d_3\">\n      <g>\n       <use xlink:href=\"#m282bb7797f\" x=\"108.223125\" y=\"145.8\" style=\"stroke: #000000; stroke-width: 0.8\"/>\n      </g>\n     </g>\n     <g id=\"text_3\">\n      <!-- 4 -->\n      <g transform=\"translate(105.041875 160.398438) scale(0.1 -0.1)\">\n       <defs>\n        <path id=\"DejaVuSans-34\" d=\"M 2419 4116 \nL 825 1625 \nL 2419 1625 \nL 2419 4116 \nz\nM 2253 4666 \nL 3047 4666 \nL 3047 1625 \nL 3713 1625 \nL 3713 1100 \nL 3047 1100 \nL 3047 0 \nL 2419 0 \nL 2419 1100 \nL 313 1100 \nL 313 1709 \nL 2253 4666 \nz\n\" transform=\"scale(0.015625)\"/>\n       </defs>\n       <use xlink:href=\"#DejaVuSans-34\"/>\n      </g>\n     </g>\n    </g>\n    <g id=\"xtick_4\">\n     <g id=\"line2d_4\">\n      <g>\n       <use xlink:href=\"#m282bb7797f\" x=\"147.283125\" y=\"145.8\" style=\"stroke: #000000; stroke-width: 0.8\"/>\n      </g>\n     </g>\n     <g id=\"text_4\">\n      <!-- 6 -->\n      <g transform=\"translate(144.101875 160.398438) scale(0.1 -0.1)\">\n       <defs>\n        <path id=\"DejaVuSans-36\" d=\"M 2113 2584 \nQ 1688 2584 1439 2293 \nQ 1191 2003 1191 1497 \nQ 1191 994 1439 701 \nQ 1688 409 2113 409 \nQ 2538 409 2786 701 \nQ 3034 994 3034 1497 \nQ 3034 2003 2786 2293 \nQ 2538 2584 2113 2584 \nz\nM 3366 4563 \nL 3366 3988 \nQ 3128 4100 2886 4159 \nQ 2644 4219 2406 4219 \nQ 1781 4219 1451 3797 \nQ 1122 3375 1075 2522 \nQ 1259 2794 1537 2939 \nQ 1816 3084 2150 3084 \nQ 2853 3084 3261 2657 \nQ 3669 2231 3669 1497 \nQ 3669 778 3244 343 \nQ 2819 -91 2113 -91 \nQ 1303 -91 875 529 \nQ 447 1150 447 2328 \nQ 447 3434 972 4092 \nQ 1497 4750 2381 4750 \nQ 2619 4750 2861 4703 \nQ 3103 4656 3366 4563 \nz\n\" transform=\"scale(0.015625)\"/>\n       </defs>\n       <use xlink:href=\"#DejaVuSans-36\"/>\n      </g>\n     </g>\n    </g>\n    <g id=\"xtick_5\">\n     <g id=\"line2d_5\">\n      <g>\n       <use xlink:href=\"#m282bb7797f\" x=\"186.343125\" y=\"145.8\" style=\"stroke: #000000; stroke-width: 0.8\"/>\n      </g>\n     </g>\n     <g id=\"text_5\">\n      <!-- 8 -->\n      <g transform=\"translate(183.161875 160.398438) scale(0.1 -0.1)\">\n       <defs>\n        <path id=\"DejaVuSans-38\" d=\"M 2034 2216 \nQ 1584 2216 1326 1975 \nQ 1069 1734 1069 1313 \nQ 1069 891 1326 650 \nQ 1584 409 2034 409 \nQ 2484 409 2743 651 \nQ 3003 894 3003 1313 \nQ 3003 1734 2745 1975 \nQ 2488 2216 2034 2216 \nz\nM 1403 2484 \nQ 997 2584 770 2862 \nQ 544 3141 544 3541 \nQ 544 4100 942 4425 \nQ 1341 4750 2034 4750 \nQ 2731 4750 3128 4425 \nQ 3525 4100 3525 3541 \nQ 3525 3141 3298 2862 \nQ 3072 2584 2669 2484 \nQ 3125 2378 3379 2068 \nQ 3634 1759 3634 1313 \nQ 3634 634 3220 271 \nQ 2806 -91 2034 -91 \nQ 1263 -91 848 271 \nQ 434 634 434 1313 \nQ 434 1759 690 2068 \nQ 947 2378 1403 2484 \nz\nM 1172 3481 \nQ 1172 3119 1398 2916 \nQ 1625 2713 2034 2713 \nQ 2441 2713 2670 2916 \nQ 2900 3119 2900 3481 \nQ 2900 3844 2670 4047 \nQ 2441 4250 2034 4250 \nQ 1625 4250 1398 4047 \nQ 1172 3844 1172 3481 \nz\n\" transform=\"scale(0.015625)\"/>\n       </defs>\n       <use xlink:href=\"#DejaVuSans-38\"/>\n      </g>\n     </g>\n    </g>\n    <g id=\"xtick_6\">\n     <g id=\"line2d_6\">\n      <g>\n       <use xlink:href=\"#m282bb7797f\" x=\"225.403125\" y=\"145.8\" style=\"stroke: #000000; stroke-width: 0.8\"/>\n      </g>\n     </g>\n     <g id=\"text_6\">\n      <!-- 10 -->\n      <g transform=\"translate(219.040625 160.398438) scale(0.1 -0.1)\">\n       <defs>\n        <path id=\"DejaVuSans-31\" d=\"M 794 531 \nL 1825 531 \nL 1825 4091 \nL 703 3866 \nL 703 4441 \nL 1819 4666 \nL 2450 4666 \nL 2450 531 \nL 3481 531 \nL 3481 0 \nL 794 0 \nL 794 531 \nz\n\" transform=\"scale(0.015625)\"/>\n       </defs>\n       <use xlink:href=\"#DejaVuSans-31\"/>\n       <use xlink:href=\"#DejaVuSans-30\" x=\"63.623047\"/>\n      </g>\n     </g>\n    </g>\n    <g id=\"text_7\">\n     <!-- epoch -->\n     <g transform=\"translate(112.525 174.076563) scale(0.1 -0.1)\">\n      <defs>\n       <path id=\"DejaVuSans-65\" d=\"M 3597 1894 \nL 3597 1613 \nL 953 1613 \nQ 991 1019 1311 708 \nQ 1631 397 2203 397 \nQ 2534 397 2845 478 \nQ 3156 559 3463 722 \nL 3463 178 \nQ 3153 47 2828 -22 \nQ 2503 -91 2169 -91 \nQ 1331 -91 842 396 \nQ 353 884 353 1716 \nQ 353 2575 817 3079 \nQ 1281 3584 2069 3584 \nQ 2775 3584 3186 3129 \nQ 3597 2675 3597 1894 \nz\nM 3022 2063 \nQ 3016 2534 2758 2815 \nQ 2500 3097 2075 3097 \nQ 1594 3097 1305 2825 \nQ 1016 2553 972 2059 \nL 3022 2063 \nz\n\" transform=\"scale(0.015625)\"/>\n       <path id=\"DejaVuSans-70\" d=\"M 1159 525 \nL 1159 -1331 \nL 581 -1331 \nL 581 3500 \nL 1159 3500 \nL 1159 2969 \nQ 1341 3281 1617 3432 \nQ 1894 3584 2278 3584 \nQ 2916 3584 3314 3078 \nQ 3713 2572 3713 1747 \nQ 3713 922 3314 415 \nQ 2916 -91 2278 -91 \nQ 1894 -91 1617 61 \nQ 1341 213 1159 525 \nz\nM 3116 1747 \nQ 3116 2381 2855 2742 \nQ 2594 3103 2138 3103 \nQ 1681 3103 1420 2742 \nQ 1159 2381 1159 1747 \nQ 1159 1113 1420 752 \nQ 1681 391 2138 391 \nQ 2594 391 2855 752 \nQ 3116 1113 3116 1747 \nz\n\" transform=\"scale(0.015625)\"/>\n       <path id=\"DejaVuSans-6f\" d=\"M 1959 3097 \nQ 1497 3097 1228 2736 \nQ 959 2375 959 1747 \nQ 959 1119 1226 758 \nQ 1494 397 1959 397 \nQ 2419 397 2687 759 \nQ 2956 1122 2956 1747 \nQ 2956 2369 2687 2733 \nQ 2419 3097 1959 3097 \nz\nM 1959 3584 \nQ 2709 3584 3137 3096 \nQ 3566 2609 3566 1747 \nQ 3566 888 3137 398 \nQ 2709 -91 1959 -91 \nQ 1206 -91 779 398 \nQ 353 888 353 1747 \nQ 353 2609 779 3096 \nQ 1206 3584 1959 3584 \nz\n\" transform=\"scale(0.015625)\"/>\n       <path id=\"DejaVuSans-63\" d=\"M 3122 3366 \nL 3122 2828 \nQ 2878 2963 2633 3030 \nQ 2388 3097 2138 3097 \nQ 1578 3097 1268 2742 \nQ 959 2388 959 1747 \nQ 959 1106 1268 751 \nQ 1578 397 2138 397 \nQ 2388 397 2633 464 \nQ 2878 531 3122 666 \nL 3122 134 \nQ 2881 22 2623 -34 \nQ 2366 -91 2075 -91 \nQ 1284 -91 818 406 \nQ 353 903 353 1747 \nQ 353 2603 823 3093 \nQ 1294 3584 2113 3584 \nQ 2378 3584 2631 3529 \nQ 2884 3475 3122 3366 \nz\n\" transform=\"scale(0.015625)\"/>\n       <path id=\"DejaVuSans-68\" d=\"M 3513 2113 \nL 3513 0 \nL 2938 0 \nL 2938 2094 \nQ 2938 2591 2744 2837 \nQ 2550 3084 2163 3084 \nQ 1697 3084 1428 2787 \nQ 1159 2491 1159 1978 \nL 1159 0 \nL 581 0 \nL 581 4863 \nL 1159 4863 \nL 1159 2956 \nQ 1366 3272 1645 3428 \nQ 1925 3584 2291 3584 \nQ 2894 3584 3203 3211 \nQ 3513 2838 3513 2113 \nz\n\" transform=\"scale(0.015625)\"/>\n      </defs>\n      <use xlink:href=\"#DejaVuSans-65\"/>\n      <use xlink:href=\"#DejaVuSans-70\" x=\"61.523438\"/>\n      <use xlink:href=\"#DejaVuSans-6f\" x=\"125\"/>\n      <use xlink:href=\"#DejaVuSans-63\" x=\"186.181641\"/>\n      <use xlink:href=\"#DejaVuSans-68\" x=\"241.162109\"/>\n     </g>\n    </g>\n   </g>\n   <g id=\"matplotlib.axis_2\">\n    <g id=\"ytick_1\">\n     <g id=\"line2d_7\">\n      <defs>\n       <path id=\"m658f9bf8cc\" d=\"M 0 0 \nL -3.5 0 \n\" style=\"stroke: #000000; stroke-width: 0.8\"/>\n      </defs>\n      <g>\n       <use xlink:href=\"#m658f9bf8cc\" x=\"30.103125\" y=\"122.401609\" style=\"stroke: #000000; stroke-width: 0.8\"/>\n      </g>\n     </g>\n     <g id=\"text_8\">\n      <!-- 0.5 -->\n      <g transform=\"translate(7.2 126.200827) scale(0.1 -0.1)\">\n       <defs>\n        <path id=\"DejaVuSans-2e\" d=\"M 684 794 \nL 1344 794 \nL 1344 0 \nL 684 0 \nL 684 794 \nz\n\" transform=\"scale(0.015625)\"/>\n        <path id=\"DejaVuSans-35\" d=\"M 691 4666 \nL 3169 4666 \nL 3169 4134 \nL 1269 4134 \nL 1269 2991 \nQ 1406 3038 1543 3061 \nQ 1681 3084 1819 3084 \nQ 2600 3084 3056 2656 \nQ 3513 2228 3513 1497 \nQ 3513 744 3044 326 \nQ 2575 -91 1722 -91 \nQ 1428 -91 1123 -41 \nQ 819 9 494 109 \nL 494 744 \nQ 775 591 1075 516 \nQ 1375 441 1709 441 \nQ 2250 441 2565 725 \nQ 2881 1009 2881 1497 \nQ 2881 1984 2565 2268 \nQ 2250 2553 1709 2553 \nQ 1456 2553 1204 2497 \nQ 953 2441 691 2322 \nL 691 4666 \nz\n\" transform=\"scale(0.015625)\"/>\n       </defs>\n       <use xlink:href=\"#DejaVuSans-30\"/>\n       <use xlink:href=\"#DejaVuSans-2e\" x=\"63.623047\"/>\n       <use xlink:href=\"#DejaVuSans-35\" x=\"95.410156\"/>\n      </g>\n     </g>\n    </g>\n    <g id=\"ytick_2\">\n     <g id=\"line2d_8\">\n      <g>\n       <use xlink:href=\"#m658f9bf8cc\" x=\"30.103125\" y=\"92.195646\" style=\"stroke: #000000; stroke-width: 0.8\"/>\n      </g>\n     </g>\n     <g id=\"text_9\">\n      <!-- 1.0 -->\n      <g transform=\"translate(7.2 95.994864) scale(0.1 -0.1)\">\n       <use xlink:href=\"#DejaVuSans-31\"/>\n       <use xlink:href=\"#DejaVuSans-2e\" x=\"63.623047\"/>\n       <use xlink:href=\"#DejaVuSans-30\" x=\"95.410156\"/>\n      </g>\n     </g>\n    </g>\n    <g id=\"ytick_3\">\n     <g id=\"line2d_9\">\n      <g>\n       <use xlink:href=\"#m658f9bf8cc\" x=\"30.103125\" y=\"61.989683\" style=\"stroke: #000000; stroke-width: 0.8\"/>\n      </g>\n     </g>\n     <g id=\"text_10\">\n      <!-- 1.5 -->\n      <g transform=\"translate(7.2 65.788901) scale(0.1 -0.1)\">\n       <use xlink:href=\"#DejaVuSans-31\"/>\n       <use xlink:href=\"#DejaVuSans-2e\" x=\"63.623047\"/>\n       <use xlink:href=\"#DejaVuSans-35\" x=\"95.410156\"/>\n      </g>\n     </g>\n    </g>\n    <g id=\"ytick_4\">\n     <g id=\"line2d_10\">\n      <g>\n       <use xlink:href=\"#m658f9bf8cc\" x=\"30.103125\" y=\"31.78372\" style=\"stroke: #000000; stroke-width: 0.8\"/>\n      </g>\n     </g>\n     <g id=\"text_11\">\n      <!-- 2.0 -->\n      <g transform=\"translate(7.2 35.582938) scale(0.1 -0.1)\">\n       <use xlink:href=\"#DejaVuSans-32\"/>\n       <use xlink:href=\"#DejaVuSans-2e\" x=\"63.623047\"/>\n       <use xlink:href=\"#DejaVuSans-30\" x=\"95.410156\"/>\n      </g>\n     </g>\n    </g>\n   </g>\n   <g id=\"line2d_11\">\n    <path d=\"M 34.954394 13.5 \n\" clip-path=\"url(#pa95f598f1b)\" style=\"fill: none; stroke: #1f77b4; stroke-width: 1.5; stroke-linecap: square\"/>\n   </g>\n   <g id=\"line2d_12\">\n    <path d=\"M 34.954394 13.5 \nL 44.698573 14.078418 \n\" clip-path=\"url(#pa95f598f1b)\" style=\"fill: none; stroke: #1f77b4; stroke-width: 1.5; stroke-linecap: square\"/>\n   </g>\n   <g id=\"line2d_13\">\n    <path d=\"M 34.954394 13.5 \nL 44.698573 14.078418 \n\" clip-path=\"url(#pa95f598f1b)\" style=\"fill: none; stroke: #1f77b4; stroke-width: 1.5; stroke-linecap: square\"/>\n   </g>\n   <g id=\"line2d_14\">\n    <path d=\"M 49.633125 14.084598 \n\" clip-path=\"url(#pa95f598f1b)\" style=\"fill: none; stroke-dasharray: 5.55,2.4; stroke-dashoffset: 0; stroke: #ff7f0e; stroke-width: 1.5\"/>\n   </g>\n   <g id=\"line2d_15\"/>\n   <g id=\"line2d_16\">\n    <path d=\"M 34.954394 13.5 \nL 44.698573 14.078418 \n\" clip-path=\"url(#pa95f598f1b)\" style=\"fill: none; stroke: #1f77b4; stroke-width: 1.5; stroke-linecap: square\"/>\n   </g>\n   <g id=\"line2d_17\">\n    <path d=\"M 49.633125 14.084598 \n\" clip-path=\"url(#pa95f598f1b)\" style=\"fill: none; stroke-dasharray: 5.55,2.4; stroke-dashoffset: 0; stroke: #ff7f0e; stroke-width: 1.5\"/>\n   </g>\n   <g id=\"line2d_18\">\n    <path d=\"M 49.633125 139.5 \n\" clip-path=\"url(#pa95f598f1b)\" style=\"fill: none; stroke-dasharray: 9.6,2.4,1.5,2.4; stroke-dashoffset: 0; stroke: #2ca02c; stroke-width: 1.5\"/>\n   </g>\n   <g id=\"line2d_19\">\n    <path d=\"M 34.954394 13.5 \nL 44.698573 14.078418 \nL 54.442752 16.087469 \n\" clip-path=\"url(#pa95f598f1b)\" style=\"fill: none; stroke: #1f77b4; stroke-width: 1.5; stroke-linecap: square\"/>\n   </g>\n   <g id=\"line2d_20\">\n    <path d=\"M 49.633125 14.084598 \n\" clip-path=\"url(#pa95f598f1b)\" style=\"fill: none; stroke-dasharray: 5.55,2.4; stroke-dashoffset: 0; stroke: #ff7f0e; stroke-width: 1.5\"/>\n   </g>\n   <g id=\"line2d_21\">\n    <path d=\"M 49.633125 139.5 \n\" clip-path=\"url(#pa95f598f1b)\" style=\"fill: none; stroke-dasharray: 9.6,2.4,1.5,2.4; stroke-dashoffset: 0; stroke: #2ca02c; stroke-width: 1.5\"/>\n   </g>\n   <g id=\"line2d_22\">\n    <path d=\"M 34.954394 13.5 \nL 44.698573 14.078418 \nL 54.442752 16.087469 \nL 64.186931 48.39843 \n\" clip-path=\"url(#pa95f598f1b)\" style=\"fill: none; stroke: #1f77b4; stroke-width: 1.5; stroke-linecap: square\"/>\n   </g>\n   <g id=\"line2d_23\">\n    <path d=\"M 49.633125 14.084598 \n\" clip-path=\"url(#pa95f598f1b)\" style=\"fill: none; stroke-dasharray: 5.55,2.4; stroke-dashoffset: 0; stroke: #ff7f0e; stroke-width: 1.5\"/>\n   </g>\n   <g id=\"line2d_24\">\n    <path d=\"M 49.633125 139.5 \n\" clip-path=\"url(#pa95f598f1b)\" style=\"fill: none; stroke-dasharray: 9.6,2.4,1.5,2.4; stroke-dashoffset: 0; stroke: #2ca02c; stroke-width: 1.5\"/>\n   </g>\n   <g id=\"line2d_25\">\n    <path d=\"M 34.954394 13.5 \nL 44.698573 14.078418 \nL 54.442752 16.087469 \nL 64.186931 48.39843 \n\" clip-path=\"url(#pa95f598f1b)\" style=\"fill: none; stroke: #1f77b4; stroke-width: 1.5; stroke-linecap: square\"/>\n   </g>\n   <g id=\"line2d_26\">\n    <path d=\"M 49.633125 14.084598 \nL 69.163125 93.473992 \n\" clip-path=\"url(#pa95f598f1b)\" style=\"fill: none; stroke-dasharray: 5.55,2.4; stroke-dashoffset: 0; stroke: #ff7f0e; stroke-width: 1.5\"/>\n   </g>\n   <g id=\"line2d_27\">\n    <path d=\"M 49.633125 139.5 \n\" clip-path=\"url(#pa95f598f1b)\" style=\"fill: none; stroke-dasharray: 9.6,2.4,1.5,2.4; stroke-dashoffset: 0; stroke: #2ca02c; stroke-width: 1.5\"/>\n   </g>\n   <g id=\"line2d_28\">\n    <path d=\"M 34.954394 13.5 \nL 44.698573 14.078418 \nL 54.442752 16.087469 \nL 64.186931 48.39843 \n\" clip-path=\"url(#pa95f598f1b)\" style=\"fill: none; stroke: #1f77b4; stroke-width: 1.5; stroke-linecap: square\"/>\n   </g>\n   <g id=\"line2d_29\">\n    <path d=\"M 49.633125 14.084598 \nL 69.163125 93.473992 \n\" clip-path=\"url(#pa95f598f1b)\" style=\"fill: none; stroke-dasharray: 5.55,2.4; stroke-dashoffset: 0; stroke: #ff7f0e; stroke-width: 1.5\"/>\n   </g>\n   <g id=\"line2d_30\">\n    <path d=\"M 49.633125 139.5 \nL 69.163125 111.815183 \n\" clip-path=\"url(#pa95f598f1b)\" style=\"fill: none; stroke-dasharray: 9.6,2.4,1.5,2.4; stroke-dashoffset: 0; stroke: #2ca02c; stroke-width: 1.5\"/>\n   </g>\n   <g id=\"line2d_31\">\n    <path d=\"M 34.954394 13.5 \nL 44.698573 14.078418 \nL 54.442752 16.087469 \nL 64.186931 48.39843 \nL 73.93111 97.479215 \n\" clip-path=\"url(#pa95f598f1b)\" style=\"fill: none; stroke: #1f77b4; stroke-width: 1.5; stroke-linecap: square\"/>\n   </g>\n   <g id=\"line2d_32\">\n    <path d=\"M 49.633125 14.084598 \nL 69.163125 93.473992 \n\" clip-path=\"url(#pa95f598f1b)\" style=\"fill: none; stroke-dasharray: 5.55,2.4; stroke-dashoffset: 0; stroke: #ff7f0e; stroke-width: 1.5\"/>\n   </g>\n   <g id=\"line2d_33\">\n    <path d=\"M 49.633125 139.5 \nL 69.163125 111.815183 \n\" clip-path=\"url(#pa95f598f1b)\" style=\"fill: none; stroke-dasharray: 9.6,2.4,1.5,2.4; stroke-dashoffset: 0; stroke: #2ca02c; stroke-width: 1.5\"/>\n   </g>\n   <g id=\"line2d_34\">\n    <path d=\"M 34.954394 13.5 \nL 44.698573 14.078418 \nL 54.442752 16.087469 \nL 64.186931 48.39843 \nL 73.93111 97.479215 \nL 83.675289 105.774985 \n\" clip-path=\"url(#pa95f598f1b)\" style=\"fill: none; stroke: #1f77b4; stroke-width: 1.5; stroke-linecap: square\"/>\n   </g>\n   <g id=\"line2d_35\">\n    <path d=\"M 49.633125 14.084598 \nL 69.163125 93.473992 \n\" clip-path=\"url(#pa95f598f1b)\" style=\"fill: none; stroke-dasharray: 5.55,2.4; stroke-dashoffset: 0; stroke: #ff7f0e; stroke-width: 1.5\"/>\n   </g>\n   <g id=\"line2d_36\">\n    <path d=\"M 49.633125 139.5 \nL 69.163125 111.815183 \n\" clip-path=\"url(#pa95f598f1b)\" style=\"fill: none; stroke-dasharray: 9.6,2.4,1.5,2.4; stroke-dashoffset: 0; stroke: #2ca02c; stroke-width: 1.5\"/>\n   </g>\n   <g id=\"line2d_37\">\n    <path d=\"M 34.954394 13.5 \nL 44.698573 14.078418 \nL 54.442752 16.087469 \nL 64.186931 48.39843 \nL 73.93111 97.479215 \nL 83.675289 105.774985 \n\" clip-path=\"url(#pa95f598f1b)\" style=\"fill: none; stroke: #1f77b4; stroke-width: 1.5; stroke-linecap: square\"/>\n   </g>\n   <g id=\"line2d_38\">\n    <path d=\"M 49.633125 14.084598 \nL 69.163125 93.473992 \nL 88.693125 109.640735 \n\" clip-path=\"url(#pa95f598f1b)\" style=\"fill: none; stroke-dasharray: 5.55,2.4; stroke-dashoffset: 0; stroke: #ff7f0e; stroke-width: 1.5\"/>\n   </g>\n   <g id=\"line2d_39\">\n    <path d=\"M 49.633125 139.5 \nL 69.163125 111.815183 \n\" clip-path=\"url(#pa95f598f1b)\" style=\"fill: none; stroke-dasharray: 9.6,2.4,1.5,2.4; stroke-dashoffset: 0; stroke: #2ca02c; stroke-width: 1.5\"/>\n   </g>\n   <g id=\"line2d_40\">\n    <path d=\"M 34.954394 13.5 \nL 44.698573 14.078418 \nL 54.442752 16.087469 \nL 64.186931 48.39843 \nL 73.93111 97.479215 \nL 83.675289 105.774985 \n\" clip-path=\"url(#pa95f598f1b)\" style=\"fill: none; stroke: #1f77b4; stroke-width: 1.5; stroke-linecap: square\"/>\n   </g>\n   <g id=\"line2d_41\">\n    <path d=\"M 49.633125 14.084598 \nL 69.163125 93.473992 \nL 88.693125 109.640735 \n\" clip-path=\"url(#pa95f598f1b)\" style=\"fill: none; stroke-dasharray: 5.55,2.4; stroke-dashoffset: 0; stroke: #ff7f0e; stroke-width: 1.5\"/>\n   </g>\n   <g id=\"line2d_42\">\n    <path d=\"M 49.633125 139.5 \nL 69.163125 111.815183 \nL 88.693125 106.372614 \n\" clip-path=\"url(#pa95f598f1b)\" style=\"fill: none; stroke-dasharray: 9.6,2.4,1.5,2.4; stroke-dashoffset: 0; stroke: #2ca02c; stroke-width: 1.5\"/>\n   </g>\n   <g id=\"line2d_43\">\n    <path d=\"M 34.954394 13.5 \nL 44.698573 14.078418 \nL 54.442752 16.087469 \nL 64.186931 48.39843 \nL 73.93111 97.479215 \nL 83.675289 105.774985 \nL 93.419468 109.391641 \n\" clip-path=\"url(#pa95f598f1b)\" style=\"fill: none; stroke: #1f77b4; stroke-width: 1.5; stroke-linecap: square\"/>\n   </g>\n   <g id=\"line2d_44\">\n    <path d=\"M 49.633125 14.084598 \nL 69.163125 93.473992 \nL 88.693125 109.640735 \n\" clip-path=\"url(#pa95f598f1b)\" style=\"fill: none; stroke-dasharray: 5.55,2.4; stroke-dashoffset: 0; stroke: #ff7f0e; stroke-width: 1.5\"/>\n   </g>\n   <g id=\"line2d_45\">\n    <path d=\"M 49.633125 139.5 \nL 69.163125 111.815183 \nL 88.693125 106.372614 \n\" clip-path=\"url(#pa95f598f1b)\" style=\"fill: none; stroke-dasharray: 9.6,2.4,1.5,2.4; stroke-dashoffset: 0; stroke: #2ca02c; stroke-width: 1.5\"/>\n   </g>\n   <g id=\"patch_3\">\n    <path d=\"M 30.103125 145.8 \nL 30.103125 7.2 \n\" style=\"fill: none; stroke: #000000; stroke-width: 0.8; stroke-linejoin: miter; stroke-linecap: square\"/>\n   </g>\n   <g id=\"patch_4\">\n    <path d=\"M 225.403125 145.8 \nL 225.403125 7.2 \n\" style=\"fill: none; stroke: #000000; stroke-width: 0.8; stroke-linejoin: miter; stroke-linecap: square\"/>\n   </g>\n   <g id=\"patch_5\">\n    <path d=\"M 30.103125 145.8 \nL 225.403125 145.8 \n\" style=\"fill: none; stroke: #000000; stroke-width: 0.8; stroke-linejoin: miter; stroke-linecap: square\"/>\n   </g>\n   <g id=\"patch_6\">\n    <path d=\"M 30.103125 7.2 \nL 225.403125 7.2 \n\" style=\"fill: none; stroke: #000000; stroke-width: 0.8; stroke-linejoin: miter; stroke-linecap: square\"/>\n   </g>\n   <g id=\"legend_1\">\n    <g id=\"patch_7\">\n     <path d=\"M 138.8125 60.06875 \nL 218.403125 60.06875 \nQ 220.403125 60.06875 220.403125 58.06875 \nL 220.403125 14.2 \nQ 220.403125 12.2 218.403125 12.2 \nL 138.8125 12.2 \nQ 136.8125 12.2 136.8125 14.2 \nL 136.8125 58.06875 \nQ 136.8125 60.06875 138.8125 60.06875 \nz\n\" style=\"fill: #ffffff; opacity: 0.8; stroke: #cccccc; stroke-linejoin: miter\"/>\n    </g>\n    <g id=\"line2d_46\">\n     <path d=\"M 140.8125 20.298438 \nL 150.8125 20.298438 \nL 160.8125 20.298438 \n\" style=\"fill: none; stroke: #1f77b4; stroke-width: 1.5; stroke-linecap: square\"/>\n    </g>\n    <g id=\"text_12\">\n     <!-- train_loss -->\n     <g transform=\"translate(168.8125 23.798438) scale(0.1 -0.1)\">\n      <defs>\n       <path id=\"DejaVuSans-74\" d=\"M 1172 4494 \nL 1172 3500 \nL 2356 3500 \nL 2356 3053 \nL 1172 3053 \nL 1172 1153 \nQ 1172 725 1289 603 \nQ 1406 481 1766 481 \nL 2356 481 \nL 2356 0 \nL 1766 0 \nQ 1100 0 847 248 \nQ 594 497 594 1153 \nL 594 3053 \nL 172 3053 \nL 172 3500 \nL 594 3500 \nL 594 4494 \nL 1172 4494 \nz\n\" transform=\"scale(0.015625)\"/>\n       <path id=\"DejaVuSans-72\" d=\"M 2631 2963 \nQ 2534 3019 2420 3045 \nQ 2306 3072 2169 3072 \nQ 1681 3072 1420 2755 \nQ 1159 2438 1159 1844 \nL 1159 0 \nL 581 0 \nL 581 3500 \nL 1159 3500 \nL 1159 2956 \nQ 1341 3275 1631 3429 \nQ 1922 3584 2338 3584 \nQ 2397 3584 2469 3576 \nQ 2541 3569 2628 3553 \nL 2631 2963 \nz\n\" transform=\"scale(0.015625)\"/>\n       <path id=\"DejaVuSans-61\" d=\"M 2194 1759 \nQ 1497 1759 1228 1600 \nQ 959 1441 959 1056 \nQ 959 750 1161 570 \nQ 1363 391 1709 391 \nQ 2188 391 2477 730 \nQ 2766 1069 2766 1631 \nL 2766 1759 \nL 2194 1759 \nz\nM 3341 1997 \nL 3341 0 \nL 2766 0 \nL 2766 531 \nQ 2569 213 2275 61 \nQ 1981 -91 1556 -91 \nQ 1019 -91 701 211 \nQ 384 513 384 1019 \nQ 384 1609 779 1909 \nQ 1175 2209 1959 2209 \nL 2766 2209 \nL 2766 2266 \nQ 2766 2663 2505 2880 \nQ 2244 3097 1772 3097 \nQ 1472 3097 1187 3025 \nQ 903 2953 641 2809 \nL 641 3341 \nQ 956 3463 1253 3523 \nQ 1550 3584 1831 3584 \nQ 2591 3584 2966 3190 \nQ 3341 2797 3341 1997 \nz\n\" transform=\"scale(0.015625)\"/>\n       <path id=\"DejaVuSans-69\" d=\"M 603 3500 \nL 1178 3500 \nL 1178 0 \nL 603 0 \nL 603 3500 \nz\nM 603 4863 \nL 1178 4863 \nL 1178 4134 \nL 603 4134 \nL 603 4863 \nz\n\" transform=\"scale(0.015625)\"/>\n       <path id=\"DejaVuSans-6e\" d=\"M 3513 2113 \nL 3513 0 \nL 2938 0 \nL 2938 2094 \nQ 2938 2591 2744 2837 \nQ 2550 3084 2163 3084 \nQ 1697 3084 1428 2787 \nQ 1159 2491 1159 1978 \nL 1159 0 \nL 581 0 \nL 581 3500 \nL 1159 3500 \nL 1159 2956 \nQ 1366 3272 1645 3428 \nQ 1925 3584 2291 3584 \nQ 2894 3584 3203 3211 \nQ 3513 2838 3513 2113 \nz\n\" transform=\"scale(0.015625)\"/>\n       <path id=\"DejaVuSans-5f\" d=\"M 3263 -1063 \nL 3263 -1509 \nL -63 -1509 \nL -63 -1063 \nL 3263 -1063 \nz\n\" transform=\"scale(0.015625)\"/>\n       <path id=\"DejaVuSans-6c\" d=\"M 603 4863 \nL 1178 4863 \nL 1178 0 \nL 603 0 \nL 603 4863 \nz\n\" transform=\"scale(0.015625)\"/>\n       <path id=\"DejaVuSans-73\" d=\"M 2834 3397 \nL 2834 2853 \nQ 2591 2978 2328 3040 \nQ 2066 3103 1784 3103 \nQ 1356 3103 1142 2972 \nQ 928 2841 928 2578 \nQ 928 2378 1081 2264 \nQ 1234 2150 1697 2047 \nL 1894 2003 \nQ 2506 1872 2764 1633 \nQ 3022 1394 3022 966 \nQ 3022 478 2636 193 \nQ 2250 -91 1575 -91 \nQ 1294 -91 989 -36 \nQ 684 19 347 128 \nL 347 722 \nQ 666 556 975 473 \nQ 1284 391 1588 391 \nQ 1994 391 2212 530 \nQ 2431 669 2431 922 \nQ 2431 1156 2273 1281 \nQ 2116 1406 1581 1522 \nL 1381 1569 \nQ 847 1681 609 1914 \nQ 372 2147 372 2553 \nQ 372 3047 722 3315 \nQ 1072 3584 1716 3584 \nQ 2034 3584 2315 3537 \nQ 2597 3491 2834 3397 \nz\n\" transform=\"scale(0.015625)\"/>\n      </defs>\n      <use xlink:href=\"#DejaVuSans-74\"/>\n      <use xlink:href=\"#DejaVuSans-72\" x=\"39.208984\"/>\n      <use xlink:href=\"#DejaVuSans-61\" x=\"80.322266\"/>\n      <use xlink:href=\"#DejaVuSans-69\" x=\"141.601562\"/>\n      <use xlink:href=\"#DejaVuSans-6e\" x=\"169.384766\"/>\n      <use xlink:href=\"#DejaVuSans-5f\" x=\"232.763672\"/>\n      <use xlink:href=\"#DejaVuSans-6c\" x=\"282.763672\"/>\n      <use xlink:href=\"#DejaVuSans-6f\" x=\"310.546875\"/>\n      <use xlink:href=\"#DejaVuSans-73\" x=\"371.728516\"/>\n      <use xlink:href=\"#DejaVuSans-73\" x=\"423.828125\"/>\n     </g>\n    </g>\n    <g id=\"line2d_47\">\n     <path d=\"M 140.8125 35.254688 \nL 150.8125 35.254688 \nL 160.8125 35.254688 \n\" style=\"fill: none; stroke-dasharray: 5.55,2.4; stroke-dashoffset: 0; stroke: #ff7f0e; stroke-width: 1.5\"/>\n    </g>\n    <g id=\"text_13\">\n     <!-- val_loss -->\n     <g transform=\"translate(168.8125 38.754688) scale(0.1 -0.1)\">\n      <defs>\n       <path id=\"DejaVuSans-76\" d=\"M 191 3500 \nL 800 3500 \nL 1894 563 \nL 2988 3500 \nL 3597 3500 \nL 2284 0 \nL 1503 0 \nL 191 3500 \nz\n\" transform=\"scale(0.015625)\"/>\n      </defs>\n      <use xlink:href=\"#DejaVuSans-76\"/>\n      <use xlink:href=\"#DejaVuSans-61\" x=\"59.179688\"/>\n      <use xlink:href=\"#DejaVuSans-6c\" x=\"120.458984\"/>\n      <use xlink:href=\"#DejaVuSans-5f\" x=\"148.242188\"/>\n      <use xlink:href=\"#DejaVuSans-6c\" x=\"198.242188\"/>\n      <use xlink:href=\"#DejaVuSans-6f\" x=\"226.025391\"/>\n      <use xlink:href=\"#DejaVuSans-73\" x=\"287.207031\"/>\n      <use xlink:href=\"#DejaVuSans-73\" x=\"339.306641\"/>\n     </g>\n    </g>\n    <g id=\"line2d_48\">\n     <path d=\"M 140.8125 50.210938 \nL 150.8125 50.210938 \nL 160.8125 50.210938 \n\" style=\"fill: none; stroke-dasharray: 9.6,2.4,1.5,2.4; stroke-dashoffset: 0; stroke: #2ca02c; stroke-width: 1.5\"/>\n    </g>\n    <g id=\"text_14\">\n     <!-- val_acc -->\n     <g transform=\"translate(168.8125 53.710938) scale(0.1 -0.1)\">\n      <use xlink:href=\"#DejaVuSans-76\"/>\n      <use xlink:href=\"#DejaVuSans-61\" x=\"59.179688\"/>\n      <use xlink:href=\"#DejaVuSans-6c\" x=\"120.458984\"/>\n      <use xlink:href=\"#DejaVuSans-5f\" x=\"148.242188\"/>\n      <use xlink:href=\"#DejaVuSans-61\" x=\"198.242188\"/>\n      <use xlink:href=\"#DejaVuSans-63\" x=\"259.521484\"/>\n      <use xlink:href=\"#DejaVuSans-63\" x=\"314.501953\"/>\n     </g>\n    </g>\n   </g>\n  </g>\n </g>\n <defs>\n  <clipPath id=\"pa95f598f1b\">\n   <rect x=\"30.103125\" y=\"7.2\" width=\"195.3\" height=\"138.6\"/>\n  </clipPath>\n </defs>\n</svg>\n",
            "text/plain": [
              "<Figure size 350x250 with 1 Axes>"
            ]
          },
          "metadata": {},
          "output_type": "display_data"
        }
      ],
      "source": [
        "arch = ((96,11,4,0,3),(256,5,1,2,3),(384,3,1,1,3),(10,3,1,1,3))\n",
        "model = Nin(arch)\n",
        "trainer = d2l.torch.Trainer(max_epochs=10, num_gpus=1)\n",
        "trainer.fit(model, data)\n",
        "X,y = next(iter(data.get_dataloader(False)))\n",
        "X = X.to('cuda')\n",
        "y = y.to('cuda')\n",
        "y_hat = model(X)\n",
        "print(f'acc: {model.accuracy(y_hat,y).item():.2f}')"
      ]
    },
    {
      "cell_type": "code",
      "execution_count": null,
      "metadata": {
        "id": "Os5hn8rc-7NC"
      },
      "outputs": [],
      "source": [
        "data = d2l.torch.FashionMNIST(batch_size=128, resize=(224, 224))\n",
        "arch = ((96,11,4,0,[[1,0]]),(256,5,1,2,[[1,0]]),(384,3,1,1,[[1,0]]),(10,3,1,1,[[1,0]]))\n",
        "model = Nin(arch, lr=0.05)\n",
        "model.apply_init([next(iter(data.get_dataloader(True)))[0]], d2l.torch.init_cnn)\n",
        "trainer = d2l.torch.Trainer(max_epochs=10, num_gpus=1)\n",
        "trainer.fit(model, data)\n",
        "X,y = next(iter(data.get_dataloader(False)))\n",
        "X = X.to('cuda')\n",
        "y = y.to('cuda')\n",
        "y_hat = model(X)\n",
        "print(f'acc: {model.accuracy(y_hat,y).item():.2f}')"
      ]
    },
    {
      "cell_type": "markdown",
      "metadata": {
        "id": "FJjHaB8ZoXdL"
      },
      "source": [
        "**2. What changes if you replace the $1 × 1$ convolutions by $3 × 3$ convolutions?**"
      ]
    },
    {
      "cell_type": "code",
      "execution_count": null,
      "metadata": {
        "id": "ON-06LNy-_1h"
      },
      "outputs": [],
      "source": [
        "arch = ((96,11,4,0,[[3,1],[3,1]]),(256,5,1,2,[[3,1],[3,1]]),(384,3,1,1,[[3,1],[3,1]]),(10,3,1,1,[[3,1],[3,1]]))\n",
        "model = Nin(arch)\n",
        "model.apply_init([next(iter(data.get_dataloader(True)))[0]], d2l.init_cnn)\n",
        "trainer = d2l.torch.Trainer(max_epochs=10, num_gpus=1)\n",
        "trainer.fit(model, data)\n",
        "X,y = next(iter(data.get_dataloader(False)))\n",
        "X = X.to('cuda')\n",
        "y = y.to('cuda')\n",
        "y_hat = model(X)\n",
        "print(f'acc: {model.accuracy(y_hat,y).item():.2f}')"
      ]
    },
    {
      "cell_type": "markdown",
      "metadata": {
        "id": "sa3YouLvob6X"
      },
      "source": [
        "**3. What happens if you replace the global average pooling by a fully connected layer (speed, accuracy, number of parameters)?**"
      ]
    },
    {
      "cell_type": "code",
      "execution_count": null,
      "metadata": {
        "id": "DgfaCZz2_CkP"
      },
      "outputs": [],
      "source": [
        "class MLPNin(d2l.torch.Classifier):\n",
        "    def __init__(self, arch, lr=0.1, num_classes=10):\n",
        "        super().__init__()\n",
        "        self.save_hyperparameters()\n",
        "        layers = []\n",
        "        for i in range(len(arch)-1):\n",
        "            layers.append(nin_block(*arch[i]))\n",
        "            layers.append(nn.MaxPool2d(3, stride=2))\n",
        "        layers.append(nn.Dropout(0.5))\n",
        "        layers.append(nin_block(*arch[-1]))\n",
        "        layers.append(nn.Flatten())\n",
        "        layers.append(nn.LazyLinear(num_classes))\n",
        "        self.net = nn.Sequential(*layers)\n",
        "        self.net.apply(d2l.init_cnn)"
      ]
    },
    {
      "cell_type": "markdown",
      "metadata": {
        "id": "Q4p6nBXGogS1"
      },
      "source": [
        "**4. Calculate the resource usage for NiN.**\n",
        "* What is the number of parameters?"
      ]
    },
    {
      "cell_type": "code",
      "execution_count": null,
      "metadata": {
        "id": "FvyhxQHM_FF3",
        "colab": {
          "base_uri": "https://localhost:8080/"
        },
        "outputId": "73c4eab4-8596-4a3e-9c69-2388c69e827e"
      },
      "outputs": [
        {
          "output_type": "stream",
          "name": "stdout",
          "text": [
            "Total parameters: 2459268\n"
          ]
        }
      ],
      "source": [
        "arch = ((96,11,4,0,2),(256,5,1,2,2),(384,3,1,1,2),(10,3,1,1,2))\n",
        "model = Nin(arch)\n",
        "X = torch.randn(1,3, 224, 224)\n",
        "_ = model(X)\n",
        "total_params = sum(p.numel() for p in model.parameters())\n",
        "print(\"Total parameters:\", total_params)"
      ]
    },
    {
      "cell_type": "markdown",
      "metadata": {
        "id": "YLvZGmLOokVC"
      },
      "source": [
        "* What is the amount of computation?"
      ]
    },
    {
      "cell_type": "code",
      "execution_count": null,
      "metadata": {
        "id": "dmQTYD83_IKk",
        "colab": {
          "base_uri": "https://localhost:8080/"
        },
        "outputId": "8eda7927-ef48-43fb-e595-7e8b16321033"
      },
      "outputs": [
        {
          "output_type": "stream",
          "name": "stdout",
          "text": [
            "Collecting thop\n",
            "  Downloading thop-0.1.1.post2209072238-py3-none-any.whl.metadata (2.7 kB)\n",
            "Requirement already satisfied: torch in /usr/local/lib/python3.10/dist-packages (from thop) (2.4.1+cu121)\n",
            "Requirement already satisfied: filelock in /usr/local/lib/python3.10/dist-packages (from torch->thop) (3.16.1)\n",
            "Requirement already satisfied: typing-extensions>=4.8.0 in /usr/local/lib/python3.10/dist-packages (from torch->thop) (4.12.2)\n",
            "Requirement already satisfied: sympy in /usr/local/lib/python3.10/dist-packages (from torch->thop) (1.13.3)\n",
            "Requirement already satisfied: networkx in /usr/local/lib/python3.10/dist-packages (from torch->thop) (3.3)\n",
            "Requirement already satisfied: jinja2 in /usr/local/lib/python3.10/dist-packages (from torch->thop) (3.1.4)\n",
            "Requirement already satisfied: fsspec in /usr/local/lib/python3.10/dist-packages (from torch->thop) (2024.6.1)\n",
            "Requirement already satisfied: MarkupSafe>=2.0 in /usr/local/lib/python3.10/dist-packages (from jinja2->torch->thop) (2.1.5)\n",
            "Requirement already satisfied: mpmath<1.4,>=1.1.0 in /usr/local/lib/python3.10/dist-packages (from sympy->torch->thop) (1.3.0)\n",
            "Downloading thop-0.1.1.post2209072238-py3-none-any.whl (15 kB)\n",
            "Installing collected packages: thop\n",
            "Successfully installed thop-0.1.1.post2209072238\n",
            "[INFO] Register count_convNd() for <class 'torch.nn.modules.conv.Conv2d'>.\n",
            "[INFO] Register zero_ops() for <class 'torch.nn.modules.activation.ReLU'>.\n",
            "[INFO] Register zero_ops() for <class 'torch.nn.modules.container.Sequential'>.\n",
            "[INFO] Register zero_ops() for <class 'torch.nn.modules.pooling.MaxPool2d'>.\n",
            "[INFO] Register zero_ops() for <class 'torch.nn.modules.dropout.Dropout'>.\n",
            "[INFO] Register count_adap_avgpool() for <class 'torch.nn.modules.pooling.AdaptiveAvgPool2d'>.\n",
            "Total FLOPs: 983983402.0\n"
          ]
        }
      ],
      "source": [
        "!pip install thop\n",
        "from thop import profile\n",
        "flops, params = profile(model, inputs=(X,))\n",
        "print(\"Total FLOPs:\", flops)"
      ]
    },
    {
      "cell_type": "markdown",
      "metadata": {
        "id": "g3_zoUW8omhd"
      },
      "source": [
        "* What is the amount of memory needed during training?"
      ]
    },
    {
      "cell_type": "code",
      "execution_count": null,
      "metadata": {
        "id": "_TKAFPL4_R7z"
      },
      "outputs": [],
      "source": [
        "device = torch.device(\"cuda\" if torch.cuda.is_available() else \"cpu\")\n",
        "# Initialize memory counters\n",
        "torch.cuda.reset_peak_memory_stats()\n",
        "torch.cuda.empty_cache()\n",
        "trainer = d2l.Trainer(max_epochs=10, num_gpus=1)\n",
        "trainer.fit(model, data)\n",
        "memory_stats = torch.cuda.memory_stats(device=device)\n",
        "# Print peak memory usage and other memory statistics\n",
        "print(\"Peak memory usage:\", memory_stats[\"allocated_bytes.all.peak\"] / (1024 ** 2), \"MB\")\n",
        "print(\"Current memory usage:\", memory_stats[\"allocated_bytes.all.current\"] / (1024 ** 2), \"MB\")"
      ]
    },
    {
      "cell_type": "markdown",
      "metadata": {
        "id": "6-ALlGVCoodE"
      },
      "source": [
        "* What is the amount of memory needed during prediction?"
      ]
    },
    {
      "cell_type": "code",
      "execution_count": null,
      "metadata": {
        "id": "cWUbmYBz_VfY",
        "collapsed": true
      },
      "outputs": [],
      "source": [
        "device = torch.device(\"cuda\" if torch.cuda.is_available() else \"cpu\")\n",
        "torch.cuda.reset_peak_memory_stats()\n",
        "torch.cuda.empty_cache()\n",
        "_ = model(X)\n",
        "memory_stats = torch.cuda.memory_stats(device=device)\n",
        "print(\"Peak memory usage:\", memory_stats[\"allocated_bytes.all.peak\"] / (1024 ** 2), \"MB\")\n",
        "print(\"Current memory usage:\", memory_stats[\"allocated_bytes.all.current\"] / (1024 ** 2), \"MB\")"
      ]
    },
    {
      "cell_type": "markdown",
      "metadata": {
        "id": "A9uhtgkaot8R"
      },
      "source": [
        "**5. What are possible problems with reducing the $384 × 5 × 5$ representation to a $10 × 5 × 5$ representation in one step?**\n",
        "* Reduksi apabila terlalu drastis dalam satu langkah dapat menyebabkan kehilangan informasi penting, fitur-fitur relevan yang seharusnya diekstraksi secara bertahap.\n",
        "* Meningkatkan risiko overfitting terhadap data pelatihan karena model tidak belajar secara bertahap dari fitur yang lebih kompleks.\n",
        "* Model kemungkingan tidak punya cukup waktu atau kapasitas untuk menangkap pola-pola kompleks pada data, sehingga kinerja model terhadap data baru bisa menurun."
      ]
    },
    {
      "cell_type": "markdown",
      "metadata": {
        "id": "xR_jvQXLo3eS"
      },
      "source": [
        "**6. Use the structural design decisions in VGG that led to VGG-11, VGG-16, and VGG-19 to design a family of NiN-like networks.**"
      ]
    },
    {
      "cell_type": "code",
      "execution_count": null,
      "metadata": {
        "id": "k1QGk5gl11Tv",
        "colab": {
          "base_uri": "https://localhost:8080/"
        },
        "outputId": "81a77a58-89df-47a8-8e8c-37ed7bb9789d"
      },
      "outputs": [
        {
          "output_type": "execute_result",
          "data": {
            "text/plain": [
              "Nin(\n",
              "  (net): Sequential(\n",
              "    (0): Sequential(\n",
              "      (0): LazyConv2d(0, 96, kernel_size=(11, 11), stride=(4, 4))\n",
              "      (1): ReLU()\n",
              "      (2): LazyConv2d(0, 96, kernel_size=(2, 2), stride=(1, 1))\n",
              "      (3): ReLU()\n",
              "    )\n",
              "    (1): MaxPool2d(kernel_size=3, stride=2, padding=0, dilation=1, ceil_mode=False)\n",
              "    (2): Sequential(\n",
              "      (0): LazyConv2d(0, 256, kernel_size=(5, 5), stride=(1, 1), padding=(2, 2))\n",
              "      (1): ReLU()\n",
              "      (2): LazyConv2d(0, 256, kernel_size=(2, 2), stride=(1, 1))\n",
              "      (3): ReLU()\n",
              "    )\n",
              "    (3): MaxPool2d(kernel_size=3, stride=2, padding=0, dilation=1, ceil_mode=False)\n",
              "    (4): Sequential(\n",
              "      (0): LazyConv2d(0, 384, kernel_size=(3, 3), stride=(1, 1), padding=(1, 1))\n",
              "      (1): ReLU()\n",
              "      (2): LazyConv2d(0, 384, kernel_size=(2, 2), stride=(1, 1))\n",
              "      (3): ReLU()\n",
              "    )\n",
              "    (5): MaxPool2d(kernel_size=3, stride=2, padding=0, dilation=1, ceil_mode=False)\n",
              "    (6): Dropout(p=0.5, inplace=False)\n",
              "    (7): Sequential(\n",
              "      (0): LazyConv2d(0, 10, kernel_size=(3, 3), stride=(1, 1), padding=(1, 1))\n",
              "      (1): ReLU()\n",
              "      (2): LazyConv2d(0, 10, kernel_size=(2, 2), stride=(1, 1))\n",
              "      (3): ReLU()\n",
              "    )\n",
              "    (8): AdaptiveAvgPool2d(output_size=(1, 1))\n",
              "    (9): Flatten(start_dim=1, end_dim=-1)\n",
              "  )\n",
              ")"
            ]
          },
          "metadata": {},
          "execution_count": 13
        }
      ],
      "source": [
        "arch = ((96,11,4,0,2),(256,5,1,2,2),(384,3,1,1,2),(10,3,1,1,2))\n",
        "nin = Nin(arch)\n",
        "nin"
      ]
    },
    {
      "cell_type": "code",
      "execution_count": null,
      "metadata": {
        "id": "DJRkypEgAaI6",
        "colab": {
          "base_uri": "https://localhost:8080/"
        },
        "outputId": "6995e2ab-efe8-43df-f462-5d4f198ba993"
      },
      "outputs": [
        {
          "output_type": "execute_result",
          "data": {
            "text/plain": [
              "Nin(\n",
              "  (net): Sequential(\n",
              "    (0): Sequential(\n",
              "      (0): LazyConv2d(0, 64, kernel_size=(3, 3), stride=(2, 2), padding=(1, 1))\n",
              "      (1): ReLU()\n",
              "      (2): LazyConv2d(0, 64, kernel_size=(1, 1), stride=(1, 1))\n",
              "      (3): ReLU()\n",
              "      (4): LazyConv2d(0, 64, kernel_size=(1, 1), stride=(1, 1))\n",
              "      (5): ReLU()\n",
              "    )\n",
              "    (1): MaxPool2d(kernel_size=3, stride=2, padding=0, dilation=1, ceil_mode=False)\n",
              "    (2): Sequential(\n",
              "      (0): LazyConv2d(0, 256, kernel_size=(3, 3), stride=(1, 1), padding=(1, 1))\n",
              "      (1): ReLU()\n",
              "      (2): LazyConv2d(0, 256, kernel_size=(1, 1), stride=(1, 1))\n",
              "      (3): ReLU()\n",
              "      (4): LazyConv2d(0, 256, kernel_size=(1, 1), stride=(1, 1))\n",
              "      (5): ReLU()\n",
              "    )\n",
              "    (3): MaxPool2d(kernel_size=3, stride=2, padding=0, dilation=1, ceil_mode=False)\n",
              "    (4): Sequential(\n",
              "      (0): LazyConv2d(0, 256, kernel_size=(3, 3), stride=(1, 1), padding=(1, 1))\n",
              "      (1): ReLU()\n",
              "      (2): LazyConv2d(0, 256, kernel_size=(1, 1), stride=(1, 1))\n",
              "      (3): ReLU()\n",
              "      (4): LazyConv2d(0, 256, kernel_size=(1, 1), stride=(1, 1))\n",
              "      (5): ReLU()\n",
              "    )\n",
              "    (5): MaxPool2d(kernel_size=3, stride=2, padding=0, dilation=1, ceil_mode=False)\n",
              "    (6): Sequential(\n",
              "      (0): LazyConv2d(0, 384, kernel_size=(3, 3), stride=(1, 1), padding=(1, 1))\n",
              "      (1): ReLU()\n",
              "      (2): LazyConv2d(0, 384, kernel_size=(1, 1), stride=(1, 1))\n",
              "      (3): ReLU()\n",
              "      (4): LazyConv2d(0, 384, kernel_size=(1, 1), stride=(1, 1))\n",
              "      (5): ReLU()\n",
              "    )\n",
              "    (7): MaxPool2d(kernel_size=3, stride=2, padding=0, dilation=1, ceil_mode=False)\n",
              "    (8): Dropout(p=0.5, inplace=False)\n",
              "    (9): Sequential(\n",
              "      (0): LazyConv2d(0, 10, kernel_size=(3, 3), stride=(1, 1), padding=(1, 1))\n",
              "      (1): ReLU()\n",
              "      (2): LazyConv2d(0, 10, kernel_size=(1, 1), stride=(1, 1))\n",
              "      (3): ReLU()\n",
              "      (4): LazyConv2d(0, 10, kernel_size=(1, 1), stride=(1, 1))\n",
              "      (5): ReLU()\n",
              "    )\n",
              "    (10): AdaptiveAvgPool2d(output_size=(1, 1))\n",
              "    (11): Flatten(start_dim=1, end_dim=-1)\n",
              "  )\n",
              ")"
            ]
          },
          "metadata": {},
          "execution_count": 14
        }
      ],
      "source": [
        "arch15 = ((64,3,2,1),\n",
        "          (256,3,1,1),\n",
        "          (256,3,1,1),\n",
        "          (384,3,1,1),\n",
        "          (10,3,1,1))\n",
        "nin15 = Nin(arch15)\n",
        "nin15"
      ]
    },
    {
      "cell_type": "markdown",
      "metadata": {
        "id": "k0OT1LYf12ON"
      },
      "source": [
        "### **8.4 Multi-Branch Networks (GoogLeNet)**"
      ]
    },
    {
      "cell_type": "code",
      "execution_count": null,
      "metadata": {
        "id": "xfWOrh6fGqLX"
      },
      "outputs": [],
      "source": [
        "import torch\n",
        "from torch import nn\n",
        "from torch.nn import functional as F\n",
        "from d2l import torch as d2l"
      ]
    },
    {
      "cell_type": "code",
      "execution_count": null,
      "metadata": {
        "id": "p32z5fr719Z2"
      },
      "outputs": [],
      "source": [
        "class Inception(nn.Module):\n",
        "    # c1--c4 are the number of output channels for each branch\n",
        "    def __init__(self, c1, c2, c3, c4, **kwargs):\n",
        "        super(Inception, self).__init__(**kwargs)\n",
        "        # Branch 1\n",
        "        self.b1_1 = nn.LazyConv2d(c1, kernel_size=1)\n",
        "        # Branch 2\n",
        "        self.b2_1 = nn.LazyConv2d(c2[0], kernel_size=1)\n",
        "        self.b2_2 = nn.LazyConv2d(c2[1], kernel_size=3, padding=1)\n",
        "        # Branch 3\n",
        "        self.b3_1 = nn.LazyConv2d(c3[0], kernel_size=1)\n",
        "        self.b3_2 = nn.LazyConv2d(c3[1], kernel_size=5, padding=2)\n",
        "        # Branch 4\n",
        "        self.b4_1 = nn.MaxPool2d(kernel_size=3, stride=1, padding=1)\n",
        "        self.b4_2 = nn.LazyConv2d(c4, kernel_size=1)\n",
        "\n",
        "    def forward(self, x):\n",
        "        b1 = F.relu(self.b1_1(x))\n",
        "        b2 = F.relu(self.b2_2(F.relu(self.b2_1(x))))\n",
        "        b3 = F.relu(self.b3_2(F.relu(self.b3_1(x))))\n",
        "        b4 = F.relu(self.b4_2(self.b4_1(x)))\n",
        "        return torch.cat((b1, b2, b3, b4), dim=1)"
      ]
    },
    {
      "cell_type": "code",
      "execution_count": null,
      "metadata": {
        "id": "lEOgpfc32GAq"
      },
      "outputs": [],
      "source": [
        "class GoogleNet(d2l.Classifier):\n",
        "    def b1(self):\n",
        "        return nn.Sequential(\n",
        "            nn.LazyConv2d(64, kernel_size=7, stride=2, padding=3),\n",
        "            nn.ReLU(), nn.MaxPool2d(kernel_size=3, stride=2, padding=1))"
      ]
    },
    {
      "cell_type": "code",
      "execution_count": null,
      "metadata": {
        "id": "ayFN2Asv2LUq"
      },
      "outputs": [],
      "source": [
        "@d2l.add_to_class(GoogleNet)\n",
        "def b2(self):\n",
        "    return nn.Sequential(\n",
        "        nn.LazyConv2d(64, kernel_size=1), nn.ReLU(),\n",
        "        nn.LazyConv2d(192, kernel_size=3, padding=1), nn.ReLU(),\n",
        "        nn.MaxPool2d(kernel_size=3, stride=2, padding=1))"
      ]
    },
    {
      "cell_type": "code",
      "execution_count": null,
      "metadata": {
        "id": "eX5aOCyI2NMj"
      },
      "outputs": [],
      "source": [
        "@d2l.add_to_class(GoogleNet)\n",
        "def b3(self):\n",
        "    return nn.Sequential(Inception(64, (96, 128), (16, 32), 32),\n",
        "                         Inception(128, (128, 192), (32, 96), 64),\n",
        "                         nn.MaxPool2d(kernel_size=3, stride=2, padding=1))"
      ]
    },
    {
      "cell_type": "code",
      "execution_count": null,
      "metadata": {
        "id": "xGxPXI8J2O2i"
      },
      "outputs": [],
      "source": [
        "@d2l.add_to_class(GoogleNet)\n",
        "def b4(self):\n",
        "    return nn.Sequential(Inception(192, (96, 208), (16, 48), 64),\n",
        "                         Inception(160, (112, 224), (24, 64), 64),\n",
        "                         Inception(128, (128, 256), (24, 64), 64),\n",
        "                         Inception(112, (144, 288), (32, 64), 64),\n",
        "                         Inception(256, (160, 320), (32, 128), 128),\n",
        "                         nn.MaxPool2d(kernel_size=3, stride=2, padding=1))"
      ]
    },
    {
      "cell_type": "code",
      "execution_count": null,
      "metadata": {
        "id": "PI4TYP6Y2Qnm"
      },
      "outputs": [],
      "source": [
        "@d2l.add_to_class(GoogleNet)\n",
        "def b5(self):\n",
        "    return nn.Sequential(Inception(256, (160, 320), (32, 128), 128),\n",
        "                         Inception(384, (192, 384), (48, 128), 128),\n",
        "                         nn.AdaptiveAvgPool2d((1,1)), nn.Flatten())"
      ]
    },
    {
      "cell_type": "code",
      "execution_count": null,
      "metadata": {
        "id": "kNRJjvx52SD0"
      },
      "outputs": [],
      "source": [
        "@d2l.add_to_class(GoogleNet)\n",
        "def __init__(self, lr=0.1, num_classes=10):\n",
        "    super(GoogleNet, self).__init__()\n",
        "    self.save_hyperparameters()\n",
        "    self.net = nn.Sequential(self.b1(), self.b2(), self.b3(), self.b4(),\n",
        "                             self.b5(), nn.LazyLinear(num_classes))\n",
        "    self.net.apply(d2l.init_cnn)"
      ]
    },
    {
      "cell_type": "code",
      "execution_count": null,
      "metadata": {
        "colab": {
          "base_uri": "https://localhost:8080/"
        },
        "id": "SdZO8s6r2T65",
        "outputId": "f0e09de2-5598-4b32-f078-3229f420a276"
      },
      "outputs": [
        {
          "output_type": "stream",
          "name": "stdout",
          "text": [
            "Sequential output shape:\t torch.Size([1, 64, 24, 24])\n",
            "Sequential output shape:\t torch.Size([1, 192, 12, 12])\n",
            "Sequential output shape:\t torch.Size([1, 480, 6, 6])\n",
            "Sequential output shape:\t torch.Size([1, 832, 3, 3])\n",
            "Sequential output shape:\t torch.Size([1, 1024])\n",
            "Linear output shape:\t torch.Size([1, 10])\n"
          ]
        }
      ],
      "source": [
        "model = GoogleNet().layer_summary((1, 1, 96, 96))"
      ]
    },
    {
      "cell_type": "code",
      "execution_count": null,
      "metadata": {
        "colab": {
          "background_save": true,
          "base_uri": "https://localhost:8080/",
          "height": 265
        },
        "id": "EXTzv5b_2V5G",
        "outputId": "845e472f-d044-4087-a811-088562c42fc2"
      },
      "outputs": [
        {
          "data": {
            "image/svg+xml": "<?xml version=\"1.0\" encoding=\"utf-8\" standalone=\"no\"?>\n<!DOCTYPE svg PUBLIC \"-//W3C//DTD SVG 1.1//EN\"\n  \"http://www.w3.org/Graphics/SVG/1.1/DTD/svg11.dtd\">\n<svg xmlns:xlink=\"http://www.w3.org/1999/xlink\" width=\"238.965625pt\" height=\"183.35625pt\" viewBox=\"0 0 238.965625 183.35625\" xmlns=\"http://www.w3.org/2000/svg\" version=\"1.1\">\n <metadata>\n  <rdf:RDF xmlns:dc=\"http://purl.org/dc/elements/1.1/\" xmlns:cc=\"http://creativecommons.org/ns#\" xmlns:rdf=\"http://www.w3.org/1999/02/22-rdf-syntax-ns#\">\n   <cc:Work>\n    <dc:type rdf:resource=\"http://purl.org/dc/dcmitype/StillImage\"/>\n    <dc:date>2024-09-26T01:35:10.084898</dc:date>\n    <dc:format>image/svg+xml</dc:format>\n    <dc:creator>\n     <cc:Agent>\n      <dc:title>Matplotlib v3.7.2, https://matplotlib.org/</dc:title>\n     </cc:Agent>\n    </dc:creator>\n   </cc:Work>\n  </rdf:RDF>\n </metadata>\n <defs>\n  <style type=\"text/css\">*{stroke-linejoin: round; stroke-linecap: butt}</style>\n </defs>\n <g id=\"figure_1\">\n  <g id=\"patch_1\">\n   <path d=\"M 0 183.35625 \nL 238.965625 183.35625 \nL 238.965625 0 \nL 0 0 \nz\n\" style=\"fill: #ffffff\"/>\n  </g>\n  <g id=\"axes_1\">\n   <g id=\"patch_2\">\n    <path d=\"M 30.103125 145.8 \nL 225.403125 145.8 \nL 225.403125 7.2 \nL 30.103125 7.2 \nz\n\" style=\"fill: #ffffff\"/>\n   </g>\n   <g id=\"matplotlib.axis_1\">\n    <g id=\"xtick_1\">\n     <g id=\"line2d_1\">\n      <defs>\n       <path id=\"m26e90dd72a\" d=\"M 0 0 \nL 0 3.5 \n\" style=\"stroke: #000000; stroke-width: 0.8\"/>\n      </defs>\n      <g>\n       <use xlink:href=\"#m26e90dd72a\" x=\"30.103125\" y=\"145.8\" style=\"stroke: #000000; stroke-width: 0.8\"/>\n      </g>\n     </g>\n     <g id=\"text_1\">\n      <!-- 0 -->\n      <g transform=\"translate(26.921875 160.398438) scale(0.1 -0.1)\">\n       <defs>\n        <path id=\"DejaVuSans-30\" d=\"M 2034 4250 \nQ 1547 4250 1301 3770 \nQ 1056 3291 1056 2328 \nQ 1056 1369 1301 889 \nQ 1547 409 2034 409 \nQ 2525 409 2770 889 \nQ 3016 1369 3016 2328 \nQ 3016 3291 2770 3770 \nQ 2525 4250 2034 4250 \nz\nM 2034 4750 \nQ 2819 4750 3233 4129 \nQ 3647 3509 3647 2328 \nQ 3647 1150 3233 529 \nQ 2819 -91 2034 -91 \nQ 1250 -91 836 529 \nQ 422 1150 422 2328 \nQ 422 3509 836 4129 \nQ 1250 4750 2034 4750 \nz\n\" transform=\"scale(0.015625)\"/>\n       </defs>\n       <use xlink:href=\"#DejaVuSans-30\"/>\n      </g>\n     </g>\n    </g>\n    <g id=\"xtick_2\">\n     <g id=\"line2d_2\">\n      <g>\n       <use xlink:href=\"#m26e90dd72a\" x=\"69.163125\" y=\"145.8\" style=\"stroke: #000000; stroke-width: 0.8\"/>\n      </g>\n     </g>\n     <g id=\"text_2\">\n      <!-- 2 -->\n      <g transform=\"translate(65.981875 160.398438) scale(0.1 -0.1)\">\n       <defs>\n        <path id=\"DejaVuSans-32\" d=\"M 1228 531 \nL 3431 531 \nL 3431 0 \nL 469 0 \nL 469 531 \nQ 828 903 1448 1529 \nQ 2069 2156 2228 2338 \nQ 2531 2678 2651 2914 \nQ 2772 3150 2772 3378 \nQ 2772 3750 2511 3984 \nQ 2250 4219 1831 4219 \nQ 1534 4219 1204 4116 \nQ 875 4013 500 3803 \nL 500 4441 \nQ 881 4594 1212 4672 \nQ 1544 4750 1819 4750 \nQ 2544 4750 2975 4387 \nQ 3406 4025 3406 3419 \nQ 3406 3131 3298 2873 \nQ 3191 2616 2906 2266 \nQ 2828 2175 2409 1742 \nQ 1991 1309 1228 531 \nz\n\" transform=\"scale(0.015625)\"/>\n       </defs>\n       <use xlink:href=\"#DejaVuSans-32\"/>\n      </g>\n     </g>\n    </g>\n    <g id=\"xtick_3\">\n     <g id=\"line2d_3\">\n      <g>\n       <use xlink:href=\"#m26e90dd72a\" x=\"108.223125\" y=\"145.8\" style=\"stroke: #000000; stroke-width: 0.8\"/>\n      </g>\n     </g>\n     <g id=\"text_3\">\n      <!-- 4 -->\n      <g transform=\"translate(105.041875 160.398438) scale(0.1 -0.1)\">\n       <defs>\n        <path id=\"DejaVuSans-34\" d=\"M 2419 4116 \nL 825 1625 \nL 2419 1625 \nL 2419 4116 \nz\nM 2253 4666 \nL 3047 4666 \nL 3047 1625 \nL 3713 1625 \nL 3713 1100 \nL 3047 1100 \nL 3047 0 \nL 2419 0 \nL 2419 1100 \nL 313 1100 \nL 313 1709 \nL 2253 4666 \nz\n\" transform=\"scale(0.015625)\"/>\n       </defs>\n       <use xlink:href=\"#DejaVuSans-34\"/>\n      </g>\n     </g>\n    </g>\n    <g id=\"xtick_4\">\n     <g id=\"line2d_4\">\n      <g>\n       <use xlink:href=\"#m26e90dd72a\" x=\"147.283125\" y=\"145.8\" style=\"stroke: #000000; stroke-width: 0.8\"/>\n      </g>\n     </g>\n     <g id=\"text_4\">\n      <!-- 6 -->\n      <g transform=\"translate(144.101875 160.398438) scale(0.1 -0.1)\">\n       <defs>\n        <path id=\"DejaVuSans-36\" d=\"M 2113 2584 \nQ 1688 2584 1439 2293 \nQ 1191 2003 1191 1497 \nQ 1191 994 1439 701 \nQ 1688 409 2113 409 \nQ 2538 409 2786 701 \nQ 3034 994 3034 1497 \nQ 3034 2003 2786 2293 \nQ 2538 2584 2113 2584 \nz\nM 3366 4563 \nL 3366 3988 \nQ 3128 4100 2886 4159 \nQ 2644 4219 2406 4219 \nQ 1781 4219 1451 3797 \nQ 1122 3375 1075 2522 \nQ 1259 2794 1537 2939 \nQ 1816 3084 2150 3084 \nQ 2853 3084 3261 2657 \nQ 3669 2231 3669 1497 \nQ 3669 778 3244 343 \nQ 2819 -91 2113 -91 \nQ 1303 -91 875 529 \nQ 447 1150 447 2328 \nQ 447 3434 972 4092 \nQ 1497 4750 2381 4750 \nQ 2619 4750 2861 4703 \nQ 3103 4656 3366 4563 \nz\n\" transform=\"scale(0.015625)\"/>\n       </defs>\n       <use xlink:href=\"#DejaVuSans-36\"/>\n      </g>\n     </g>\n    </g>\n    <g id=\"xtick_5\">\n     <g id=\"line2d_5\">\n      <g>\n       <use xlink:href=\"#m26e90dd72a\" x=\"186.343125\" y=\"145.8\" style=\"stroke: #000000; stroke-width: 0.8\"/>\n      </g>\n     </g>\n     <g id=\"text_5\">\n      <!-- 8 -->\n      <g transform=\"translate(183.161875 160.398438) scale(0.1 -0.1)\">\n       <defs>\n        <path id=\"DejaVuSans-38\" d=\"M 2034 2216 \nQ 1584 2216 1326 1975 \nQ 1069 1734 1069 1313 \nQ 1069 891 1326 650 \nQ 1584 409 2034 409 \nQ 2484 409 2743 651 \nQ 3003 894 3003 1313 \nQ 3003 1734 2745 1975 \nQ 2488 2216 2034 2216 \nz\nM 1403 2484 \nQ 997 2584 770 2862 \nQ 544 3141 544 3541 \nQ 544 4100 942 4425 \nQ 1341 4750 2034 4750 \nQ 2731 4750 3128 4425 \nQ 3525 4100 3525 3541 \nQ 3525 3141 3298 2862 \nQ 3072 2584 2669 2484 \nQ 3125 2378 3379 2068 \nQ 3634 1759 3634 1313 \nQ 3634 634 3220 271 \nQ 2806 -91 2034 -91 \nQ 1263 -91 848 271 \nQ 434 634 434 1313 \nQ 434 1759 690 2068 \nQ 947 2378 1403 2484 \nz\nM 1172 3481 \nQ 1172 3119 1398 2916 \nQ 1625 2713 2034 2713 \nQ 2441 2713 2670 2916 \nQ 2900 3119 2900 3481 \nQ 2900 3844 2670 4047 \nQ 2441 4250 2034 4250 \nQ 1625 4250 1398 4047 \nQ 1172 3844 1172 3481 \nz\n\" transform=\"scale(0.015625)\"/>\n       </defs>\n       <use xlink:href=\"#DejaVuSans-38\"/>\n      </g>\n     </g>\n    </g>\n    <g id=\"xtick_6\">\n     <g id=\"line2d_6\">\n      <g>\n       <use xlink:href=\"#m26e90dd72a\" x=\"225.403125\" y=\"145.8\" style=\"stroke: #000000; stroke-width: 0.8\"/>\n      </g>\n     </g>\n     <g id=\"text_6\">\n      <!-- 10 -->\n      <g transform=\"translate(219.040625 160.398438) scale(0.1 -0.1)\">\n       <defs>\n        <path id=\"DejaVuSans-31\" d=\"M 794 531 \nL 1825 531 \nL 1825 4091 \nL 703 3866 \nL 703 4441 \nL 1819 4666 \nL 2450 4666 \nL 2450 531 \nL 3481 531 \nL 3481 0 \nL 794 0 \nL 794 531 \nz\n\" transform=\"scale(0.015625)\"/>\n       </defs>\n       <use xlink:href=\"#DejaVuSans-31\"/>\n       <use xlink:href=\"#DejaVuSans-30\" x=\"63.623047\"/>\n      </g>\n     </g>\n    </g>\n    <g id=\"text_7\">\n     <!-- epoch -->\n     <g transform=\"translate(112.525 174.076563) scale(0.1 -0.1)\">\n      <defs>\n       <path id=\"DejaVuSans-65\" d=\"M 3597 1894 \nL 3597 1613 \nL 953 1613 \nQ 991 1019 1311 708 \nQ 1631 397 2203 397 \nQ 2534 397 2845 478 \nQ 3156 559 3463 722 \nL 3463 178 \nQ 3153 47 2828 -22 \nQ 2503 -91 2169 -91 \nQ 1331 -91 842 396 \nQ 353 884 353 1716 \nQ 353 2575 817 3079 \nQ 1281 3584 2069 3584 \nQ 2775 3584 3186 3129 \nQ 3597 2675 3597 1894 \nz\nM 3022 2063 \nQ 3016 2534 2758 2815 \nQ 2500 3097 2075 3097 \nQ 1594 3097 1305 2825 \nQ 1016 2553 972 2059 \nL 3022 2063 \nz\n\" transform=\"scale(0.015625)\"/>\n       <path id=\"DejaVuSans-70\" d=\"M 1159 525 \nL 1159 -1331 \nL 581 -1331 \nL 581 3500 \nL 1159 3500 \nL 1159 2969 \nQ 1341 3281 1617 3432 \nQ 1894 3584 2278 3584 \nQ 2916 3584 3314 3078 \nQ 3713 2572 3713 1747 \nQ 3713 922 3314 415 \nQ 2916 -91 2278 -91 \nQ 1894 -91 1617 61 \nQ 1341 213 1159 525 \nz\nM 3116 1747 \nQ 3116 2381 2855 2742 \nQ 2594 3103 2138 3103 \nQ 1681 3103 1420 2742 \nQ 1159 2381 1159 1747 \nQ 1159 1113 1420 752 \nQ 1681 391 2138 391 \nQ 2594 391 2855 752 \nQ 3116 1113 3116 1747 \nz\n\" transform=\"scale(0.015625)\"/>\n       <path id=\"DejaVuSans-6f\" d=\"M 1959 3097 \nQ 1497 3097 1228 2736 \nQ 959 2375 959 1747 \nQ 959 1119 1226 758 \nQ 1494 397 1959 397 \nQ 2419 397 2687 759 \nQ 2956 1122 2956 1747 \nQ 2956 2369 2687 2733 \nQ 2419 3097 1959 3097 \nz\nM 1959 3584 \nQ 2709 3584 3137 3096 \nQ 3566 2609 3566 1747 \nQ 3566 888 3137 398 \nQ 2709 -91 1959 -91 \nQ 1206 -91 779 398 \nQ 353 888 353 1747 \nQ 353 2609 779 3096 \nQ 1206 3584 1959 3584 \nz\n\" transform=\"scale(0.015625)\"/>\n       <path id=\"DejaVuSans-63\" d=\"M 3122 3366 \nL 3122 2828 \nQ 2878 2963 2633 3030 \nQ 2388 3097 2138 3097 \nQ 1578 3097 1268 2742 \nQ 959 2388 959 1747 \nQ 959 1106 1268 751 \nQ 1578 397 2138 397 \nQ 2388 397 2633 464 \nQ 2878 531 3122 666 \nL 3122 134 \nQ 2881 22 2623 -34 \nQ 2366 -91 2075 -91 \nQ 1284 -91 818 406 \nQ 353 903 353 1747 \nQ 353 2603 823 3093 \nQ 1294 3584 2113 3584 \nQ 2378 3584 2631 3529 \nQ 2884 3475 3122 3366 \nz\n\" transform=\"scale(0.015625)\"/>\n       <path id=\"DejaVuSans-68\" d=\"M 3513 2113 \nL 3513 0 \nL 2938 0 \nL 2938 2094 \nQ 2938 2591 2744 2837 \nQ 2550 3084 2163 3084 \nQ 1697 3084 1428 2787 \nQ 1159 2491 1159 1978 \nL 1159 0 \nL 581 0 \nL 581 4863 \nL 1159 4863 \nL 1159 2956 \nQ 1366 3272 1645 3428 \nQ 1925 3584 2291 3584 \nQ 2894 3584 3203 3211 \nQ 3513 2838 3513 2113 \nz\n\" transform=\"scale(0.015625)\"/>\n      </defs>\n      <use xlink:href=\"#DejaVuSans-65\"/>\n      <use xlink:href=\"#DejaVuSans-70\" x=\"61.523438\"/>\n      <use xlink:href=\"#DejaVuSans-6f\" x=\"125\"/>\n      <use xlink:href=\"#DejaVuSans-63\" x=\"186.181641\"/>\n      <use xlink:href=\"#DejaVuSans-68\" x=\"241.162109\"/>\n     </g>\n    </g>\n   </g>\n   <g id=\"matplotlib.axis_2\">\n    <g id=\"ytick_1\">\n     <g id=\"line2d_7\">\n      <defs>\n       <path id=\"m5aefbfd368\" d=\"M 0 0 \nL -3.5 0 \n\" style=\"stroke: #000000; stroke-width: 0.8\"/>\n      </defs>\n      <g>\n       <use xlink:href=\"#m5aefbfd368\" x=\"30.103125\" y=\"119.268755\" style=\"stroke: #000000; stroke-width: 0.8\"/>\n      </g>\n     </g>\n     <g id=\"text_8\">\n      <!-- 0.5 -->\n      <g transform=\"translate(7.2 123.067974) scale(0.1 -0.1)\">\n       <defs>\n        <path id=\"DejaVuSans-2e\" d=\"M 684 794 \nL 1344 794 \nL 1344 0 \nL 684 0 \nL 684 794 \nz\n\" transform=\"scale(0.015625)\"/>\n        <path id=\"DejaVuSans-35\" d=\"M 691 4666 \nL 3169 4666 \nL 3169 4134 \nL 1269 4134 \nL 1269 2991 \nQ 1406 3038 1543 3061 \nQ 1681 3084 1819 3084 \nQ 2600 3084 3056 2656 \nQ 3513 2228 3513 1497 \nQ 3513 744 3044 326 \nQ 2575 -91 1722 -91 \nQ 1428 -91 1123 -41 \nQ 819 9 494 109 \nL 494 744 \nQ 775 591 1075 516 \nQ 1375 441 1709 441 \nQ 2250 441 2565 725 \nQ 2881 1009 2881 1497 \nQ 2881 1984 2565 2268 \nQ 2250 2553 1709 2553 \nQ 1456 2553 1204 2497 \nQ 953 2441 691 2322 \nL 691 4666 \nz\n\" transform=\"scale(0.015625)\"/>\n       </defs>\n       <use xlink:href=\"#DejaVuSans-30\"/>\n       <use xlink:href=\"#DejaVuSans-2e\" x=\"63.623047\"/>\n       <use xlink:href=\"#DejaVuSans-35\" x=\"95.410156\"/>\n      </g>\n     </g>\n    </g>\n    <g id=\"ytick_2\">\n     <g id=\"line2d_8\">\n      <g>\n       <use xlink:href=\"#m5aefbfd368\" x=\"30.103125\" y=\"89.925906\" style=\"stroke: #000000; stroke-width: 0.8\"/>\n      </g>\n     </g>\n     <g id=\"text_9\">\n      <!-- 1.0 -->\n      <g transform=\"translate(7.2 93.725125) scale(0.1 -0.1)\">\n       <use xlink:href=\"#DejaVuSans-31\"/>\n       <use xlink:href=\"#DejaVuSans-2e\" x=\"63.623047\"/>\n       <use xlink:href=\"#DejaVuSans-30\" x=\"95.410156\"/>\n      </g>\n     </g>\n    </g>\n    <g id=\"ytick_3\">\n     <g id=\"line2d_9\">\n      <g>\n       <use xlink:href=\"#m5aefbfd368\" x=\"30.103125\" y=\"60.583057\" style=\"stroke: #000000; stroke-width: 0.8\"/>\n      </g>\n     </g>\n     <g id=\"text_10\">\n      <!-- 1.5 -->\n      <g transform=\"translate(7.2 64.382276) scale(0.1 -0.1)\">\n       <use xlink:href=\"#DejaVuSans-31\"/>\n       <use xlink:href=\"#DejaVuSans-2e\" x=\"63.623047\"/>\n       <use xlink:href=\"#DejaVuSans-35\" x=\"95.410156\"/>\n      </g>\n     </g>\n    </g>\n    <g id=\"ytick_4\">\n     <g id=\"line2d_10\">\n      <g>\n       <use xlink:href=\"#m5aefbfd368\" x=\"30.103125\" y=\"31.240208\" style=\"stroke: #000000; stroke-width: 0.8\"/>\n      </g>\n     </g>\n     <g id=\"text_11\">\n      <!-- 2.0 -->\n      <g transform=\"translate(7.2 35.039427) scale(0.1 -0.1)\">\n       <use xlink:href=\"#DejaVuSans-32\"/>\n       <use xlink:href=\"#DejaVuSans-2e\" x=\"63.623047\"/>\n       <use xlink:href=\"#DejaVuSans-30\" x=\"95.410156\"/>\n      </g>\n     </g>\n    </g>\n   </g>\n   <g id=\"line2d_11\">\n    <path d=\"M 34.954394 13.5 \n\" clip-path=\"url(#p3a96935636)\" style=\"fill: none; stroke: #1f77b4; stroke-width: 1.5; stroke-linecap: square\"/>\n   </g>\n   <g id=\"line2d_12\">\n    <path d=\"M 34.954394 13.5 \nL 44.698573 13.534613 \n\" clip-path=\"url(#p3a96935636)\" style=\"fill: none; stroke: #1f77b4; stroke-width: 1.5; stroke-linecap: square\"/>\n   </g>\n   <g id=\"line2d_13\">\n    <path d=\"M 34.954394 13.5 \nL 44.698573 13.534613 \n\" clip-path=\"url(#p3a96935636)\" style=\"fill: none; stroke: #1f77b4; stroke-width: 1.5; stroke-linecap: square\"/>\n   </g>\n   <g id=\"line2d_14\">\n    <path d=\"M 49.633125 13.562557 \n\" clip-path=\"url(#p3a96935636)\" style=\"fill: none; stroke-dasharray: 5.55,2.4; stroke-dashoffset: 0; stroke: #ff7f0e; stroke-width: 1.5\"/>\n   </g>\n   <g id=\"line2d_15\"/>\n   <g id=\"line2d_16\">\n    <path d=\"M 34.954394 13.5 \nL 44.698573 13.534613 \n\" clip-path=\"url(#p3a96935636)\" style=\"fill: none; stroke: #1f77b4; stroke-width: 1.5; stroke-linecap: square\"/>\n   </g>\n   <g id=\"line2d_17\">\n    <path d=\"M 49.633125 13.562557 \n\" clip-path=\"url(#p3a96935636)\" style=\"fill: none; stroke-dasharray: 5.55,2.4; stroke-dashoffset: 0; stroke: #ff7f0e; stroke-width: 1.5\"/>\n   </g>\n   <g id=\"line2d_18\">\n    <path d=\"M 49.633125 132.170091 \n\" clip-path=\"url(#p3a96935636)\" style=\"fill: none; stroke-dasharray: 9.6,2.4,1.5,2.4; stroke-dashoffset: 0; stroke: #2ca02c; stroke-width: 1.5\"/>\n   </g>\n   <g id=\"line2d_19\">\n    <path d=\"M 34.954394 13.5 \nL 44.698573 13.534613 \nL 54.442752 13.574074 \n\" clip-path=\"url(#p3a96935636)\" style=\"fill: none; stroke: #1f77b4; stroke-width: 1.5; stroke-linecap: square\"/>\n   </g>\n   <g id=\"line2d_20\">\n    <path d=\"M 49.633125 13.562557 \n\" clip-path=\"url(#p3a96935636)\" style=\"fill: none; stroke-dasharray: 5.55,2.4; stroke-dashoffset: 0; stroke: #ff7f0e; stroke-width: 1.5\"/>\n   </g>\n   <g id=\"line2d_21\">\n    <path d=\"M 49.633125 132.170091 \n\" clip-path=\"url(#p3a96935636)\" style=\"fill: none; stroke-dasharray: 9.6,2.4,1.5,2.4; stroke-dashoffset: 0; stroke: #2ca02c; stroke-width: 1.5\"/>\n   </g>\n   <g id=\"line2d_22\">\n    <path d=\"M 34.954394 13.5 \nL 44.698573 13.534613 \nL 54.442752 13.574074 \nL 64.186931 13.617654 \n\" clip-path=\"url(#p3a96935636)\" style=\"fill: none; stroke: #1f77b4; stroke-width: 1.5; stroke-linecap: square\"/>\n   </g>\n   <g id=\"line2d_23\">\n    <path d=\"M 49.633125 13.562557 \n\" clip-path=\"url(#p3a96935636)\" style=\"fill: none; stroke-dasharray: 5.55,2.4; stroke-dashoffset: 0; stroke: #ff7f0e; stroke-width: 1.5\"/>\n   </g>\n   <g id=\"line2d_24\">\n    <path d=\"M 49.633125 132.170091 \n\" clip-path=\"url(#p3a96935636)\" style=\"fill: none; stroke-dasharray: 9.6,2.4,1.5,2.4; stroke-dashoffset: 0; stroke: #2ca02c; stroke-width: 1.5\"/>\n   </g>\n   <g id=\"line2d_25\">\n    <path d=\"M 34.954394 13.5 \nL 44.698573 13.534613 \nL 54.442752 13.574074 \nL 64.186931 13.617654 \n\" clip-path=\"url(#p3a96935636)\" style=\"fill: none; stroke: #1f77b4; stroke-width: 1.5; stroke-linecap: square\"/>\n   </g>\n   <g id=\"line2d_26\">\n    <path d=\"M 49.633125 13.562557 \nL 69.163125 13.651161 \n\" clip-path=\"url(#p3a96935636)\" style=\"fill: none; stroke-dasharray: 5.55,2.4; stroke-dashoffset: 0; stroke: #ff7f0e; stroke-width: 1.5\"/>\n   </g>\n   <g id=\"line2d_27\">\n    <path d=\"M 49.633125 132.170091 \n\" clip-path=\"url(#p3a96935636)\" style=\"fill: none; stroke-dasharray: 9.6,2.4,1.5,2.4; stroke-dashoffset: 0; stroke: #2ca02c; stroke-width: 1.5\"/>\n   </g>\n   <g id=\"line2d_28\">\n    <path d=\"M 34.954394 13.5 \nL 44.698573 13.534613 \nL 54.442752 13.574074 \nL 64.186931 13.617654 \n\" clip-path=\"url(#p3a96935636)\" style=\"fill: none; stroke: #1f77b4; stroke-width: 1.5; stroke-linecap: square\"/>\n   </g>\n   <g id=\"line2d_29\">\n    <path d=\"M 49.633125 13.562557 \nL 69.163125 13.651161 \n\" clip-path=\"url(#p3a96935636)\" style=\"fill: none; stroke-dasharray: 5.55,2.4; stroke-dashoffset: 0; stroke: #ff7f0e; stroke-width: 1.5\"/>\n   </g>\n   <g id=\"line2d_30\">\n    <path d=\"M 49.633125 132.170091 \nL 69.163125 133.737055 \n\" clip-path=\"url(#p3a96935636)\" style=\"fill: none; stroke-dasharray: 9.6,2.4,1.5,2.4; stroke-dashoffset: 0; stroke: #2ca02c; stroke-width: 1.5\"/>\n   </g>\n   <g id=\"line2d_31\">\n    <path d=\"M 34.954394 13.5 \nL 44.698573 13.534613 \nL 54.442752 13.574074 \nL 64.186931 13.617654 \nL 73.93111 13.682478 \n\" clip-path=\"url(#p3a96935636)\" style=\"fill: none; stroke: #1f77b4; stroke-width: 1.5; stroke-linecap: square\"/>\n   </g>\n   <g id=\"line2d_32\">\n    <path d=\"M 49.633125 13.562557 \nL 69.163125 13.651161 \n\" clip-path=\"url(#p3a96935636)\" style=\"fill: none; stroke-dasharray: 5.55,2.4; stroke-dashoffset: 0; stroke: #ff7f0e; stroke-width: 1.5\"/>\n   </g>\n   <g id=\"line2d_33\">\n    <path d=\"M 49.633125 132.170091 \nL 69.163125 133.737055 \n\" clip-path=\"url(#p3a96935636)\" style=\"fill: none; stroke-dasharray: 9.6,2.4,1.5,2.4; stroke-dashoffset: 0; stroke: #2ca02c; stroke-width: 1.5\"/>\n   </g>\n   <g id=\"line2d_34\">\n    <path d=\"M 34.954394 13.5 \nL 44.698573 13.534613 \nL 54.442752 13.574074 \nL 64.186931 13.617654 \nL 73.93111 13.682478 \nL 83.675289 13.775653 \n\" clip-path=\"url(#p3a96935636)\" style=\"fill: none; stroke: #1f77b4; stroke-width: 1.5; stroke-linecap: square\"/>\n   </g>\n   <g id=\"line2d_35\">\n    <path d=\"M 49.633125 13.562557 \nL 69.163125 13.651161 \n\" clip-path=\"url(#p3a96935636)\" style=\"fill: none; stroke-dasharray: 5.55,2.4; stroke-dashoffset: 0; stroke: #ff7f0e; stroke-width: 1.5\"/>\n   </g>\n   <g id=\"line2d_36\">\n    <path d=\"M 49.633125 132.170091 \nL 69.163125 133.737055 \n\" clip-path=\"url(#p3a96935636)\" style=\"fill: none; stroke-dasharray: 9.6,2.4,1.5,2.4; stroke-dashoffset: 0; stroke: #2ca02c; stroke-width: 1.5\"/>\n   </g>\n   <g id=\"line2d_37\">\n    <path d=\"M 34.954394 13.5 \nL 44.698573 13.534613 \nL 54.442752 13.574074 \nL 64.186931 13.617654 \nL 73.93111 13.682478 \nL 83.675289 13.775653 \n\" clip-path=\"url(#p3a96935636)\" style=\"fill: none; stroke: #1f77b4; stroke-width: 1.5; stroke-linecap: square\"/>\n   </g>\n   <g id=\"line2d_38\">\n    <path d=\"M 49.633125 13.562557 \nL 69.163125 13.651161 \nL 88.693125 13.853217 \n\" clip-path=\"url(#p3a96935636)\" style=\"fill: none; stroke-dasharray: 5.55,2.4; stroke-dashoffset: 0; stroke: #ff7f0e; stroke-width: 1.5\"/>\n   </g>\n   <g id=\"line2d_39\">\n    <path d=\"M 49.633125 132.170091 \nL 69.163125 133.737055 \n\" clip-path=\"url(#p3a96935636)\" style=\"fill: none; stroke-dasharray: 9.6,2.4,1.5,2.4; stroke-dashoffset: 0; stroke: #2ca02c; stroke-width: 1.5\"/>\n   </g>\n   <g id=\"line2d_40\">\n    <path d=\"M 34.954394 13.5 \nL 44.698573 13.534613 \nL 54.442752 13.574074 \nL 64.186931 13.617654 \nL 73.93111 13.682478 \nL 83.675289 13.775653 \n\" clip-path=\"url(#p3a96935636)\" style=\"fill: none; stroke: #1f77b4; stroke-width: 1.5; stroke-linecap: square\"/>\n   </g>\n   <g id=\"line2d_41\">\n    <path d=\"M 49.633125 13.562557 \nL 69.163125 13.651161 \nL 88.693125 13.853217 \n\" clip-path=\"url(#p3a96935636)\" style=\"fill: none; stroke-dasharray: 5.55,2.4; stroke-dashoffset: 0; stroke: #ff7f0e; stroke-width: 1.5\"/>\n   </g>\n   <g id=\"line2d_42\">\n    <path d=\"M 49.633125 132.170091 \nL 69.163125 133.737055 \nL 88.693125 139.5 \n\" clip-path=\"url(#p3a96935636)\" style=\"fill: none; stroke-dasharray: 9.6,2.4,1.5,2.4; stroke-dashoffset: 0; stroke: #2ca02c; stroke-width: 1.5\"/>\n   </g>\n   <g id=\"line2d_43\">\n    <path d=\"M 34.954394 13.5 \nL 44.698573 13.534613 \nL 54.442752 13.574074 \nL 64.186931 13.617654 \nL 73.93111 13.682478 \nL 83.675289 13.775653 \nL 93.419468 13.963813 \n\" clip-path=\"url(#p3a96935636)\" style=\"fill: none; stroke: #1f77b4; stroke-width: 1.5; stroke-linecap: square\"/>\n   </g>\n   <g id=\"line2d_44\">\n    <path d=\"M 49.633125 13.562557 \nL 69.163125 13.651161 \nL 88.693125 13.853217 \n\" clip-path=\"url(#p3a96935636)\" style=\"fill: none; stroke-dasharray: 5.55,2.4; stroke-dashoffset: 0; stroke: #ff7f0e; stroke-width: 1.5\"/>\n   </g>\n   <g id=\"line2d_45\">\n    <path d=\"M 49.633125 132.170091 \nL 69.163125 133.737055 \nL 88.693125 139.5 \n\" clip-path=\"url(#p3a96935636)\" style=\"fill: none; stroke-dasharray: 9.6,2.4,1.5,2.4; stroke-dashoffset: 0; stroke: #2ca02c; stroke-width: 1.5\"/>\n   </g>\n   <g id=\"line2d_46\">\n    <path d=\"M 34.954394 13.5 \nL 44.698573 13.534613 \nL 54.442752 13.574074 \nL 64.186931 13.617654 \nL 73.93111 13.682478 \nL 83.675289 13.775653 \nL 93.419468 13.963813 \nL 103.163647 14.388643 \n\" clip-path=\"url(#p3a96935636)\" style=\"fill: none; stroke: #1f77b4; stroke-width: 1.5; stroke-linecap: square\"/>\n   </g>\n   <g id=\"line2d_47\">\n    <path d=\"M 49.633125 13.562557 \nL 69.163125 13.651161 \nL 88.693125 13.853217 \n\" clip-path=\"url(#p3a96935636)\" style=\"fill: none; stroke-dasharray: 5.55,2.4; stroke-dashoffset: 0; stroke: #ff7f0e; stroke-width: 1.5\"/>\n   </g>\n   <g id=\"line2d_48\">\n    <path d=\"M 49.633125 132.170091 \nL 69.163125 133.737055 \nL 88.693125 139.5 \n\" clip-path=\"url(#p3a96935636)\" style=\"fill: none; stroke-dasharray: 9.6,2.4,1.5,2.4; stroke-dashoffset: 0; stroke: #2ca02c; stroke-width: 1.5\"/>\n   </g>\n   <g id=\"line2d_49\">\n    <path d=\"M 34.954394 13.5 \nL 44.698573 13.534613 \nL 54.442752 13.574074 \nL 64.186931 13.617654 \nL 73.93111 13.682478 \nL 83.675289 13.775653 \nL 93.419468 13.963813 \nL 103.163647 14.388643 \n\" clip-path=\"url(#p3a96935636)\" style=\"fill: none; stroke: #1f77b4; stroke-width: 1.5; stroke-linecap: square\"/>\n   </g>\n   <g id=\"line2d_50\">\n    <path d=\"M 49.633125 13.562557 \nL 69.163125 13.651161 \nL 88.693125 13.853217 \nL 108.223125 14.833625 \n\" clip-path=\"url(#p3a96935636)\" style=\"fill: none; stroke-dasharray: 5.55,2.4; stroke-dashoffset: 0; stroke: #ff7f0e; stroke-width: 1.5\"/>\n   </g>\n   <g id=\"line2d_51\">\n    <path d=\"M 49.633125 132.170091 \nL 69.163125 133.737055 \nL 88.693125 139.5 \n\" clip-path=\"url(#p3a96935636)\" style=\"fill: none; stroke-dasharray: 9.6,2.4,1.5,2.4; stroke-dashoffset: 0; stroke: #2ca02c; stroke-width: 1.5\"/>\n   </g>\n   <g id=\"line2d_52\">\n    <path d=\"M 34.954394 13.5 \nL 44.698573 13.534613 \nL 54.442752 13.574074 \nL 64.186931 13.617654 \nL 73.93111 13.682478 \nL 83.675289 13.775653 \nL 93.419468 13.963813 \nL 103.163647 14.388643 \n\" clip-path=\"url(#p3a96935636)\" style=\"fill: none; stroke: #1f77b4; stroke-width: 1.5; stroke-linecap: square\"/>\n   </g>\n   <g id=\"line2d_53\">\n    <path d=\"M 49.633125 13.562557 \nL 69.163125 13.651161 \nL 88.693125 13.853217 \nL 108.223125 14.833625 \n\" clip-path=\"url(#p3a96935636)\" style=\"fill: none; stroke-dasharray: 5.55,2.4; stroke-dashoffset: 0; stroke: #ff7f0e; stroke-width: 1.5\"/>\n   </g>\n   <g id=\"line2d_54\">\n    <path d=\"M 49.633125 132.170091 \nL 69.163125 133.737055 \nL 88.693125 139.5 \nL 108.223125 124.95045 \n\" clip-path=\"url(#p3a96935636)\" style=\"fill: none; stroke-dasharray: 9.6,2.4,1.5,2.4; stroke-dashoffset: 0; stroke: #2ca02c; stroke-width: 1.5\"/>\n   </g>\n   <g id=\"patch_3\">\n    <path d=\"M 30.103125 145.8 \nL 30.103125 7.2 \n\" style=\"fill: none; stroke: #000000; stroke-width: 0.8; stroke-linejoin: miter; stroke-linecap: square\"/>\n   </g>\n   <g id=\"patch_4\">\n    <path d=\"M 225.403125 145.8 \nL 225.403125 7.2 \n\" style=\"fill: none; stroke: #000000; stroke-width: 0.8; stroke-linejoin: miter; stroke-linecap: square\"/>\n   </g>\n   <g id=\"patch_5\">\n    <path d=\"M 30.103125 145.8 \nL 225.403125 145.8 \n\" style=\"fill: none; stroke: #000000; stroke-width: 0.8; stroke-linejoin: miter; stroke-linecap: square\"/>\n   </g>\n   <g id=\"patch_6\">\n    <path d=\"M 30.103125 7.2 \nL 225.403125 7.2 \n\" style=\"fill: none; stroke: #000000; stroke-width: 0.8; stroke-linejoin: miter; stroke-linecap: square\"/>\n   </g>\n   <g id=\"legend_1\">\n    <g id=\"patch_7\">\n     <path d=\"M 138.8125 60.06875 \nL 218.403125 60.06875 \nQ 220.403125 60.06875 220.403125 58.06875 \nL 220.403125 14.2 \nQ 220.403125 12.2 218.403125 12.2 \nL 138.8125 12.2 \nQ 136.8125 12.2 136.8125 14.2 \nL 136.8125 58.06875 \nQ 136.8125 60.06875 138.8125 60.06875 \nz\n\" style=\"fill: #ffffff; opacity: 0.8; stroke: #cccccc; stroke-linejoin: miter\"/>\n    </g>\n    <g id=\"line2d_55\">\n     <path d=\"M 140.8125 20.298438 \nL 150.8125 20.298438 \nL 160.8125 20.298438 \n\" style=\"fill: none; stroke: #1f77b4; stroke-width: 1.5; stroke-linecap: square\"/>\n    </g>\n    <g id=\"text_12\">\n     <!-- train_loss -->\n     <g transform=\"translate(168.8125 23.798438) scale(0.1 -0.1)\">\n      <defs>\n       <path id=\"DejaVuSans-74\" d=\"M 1172 4494 \nL 1172 3500 \nL 2356 3500 \nL 2356 3053 \nL 1172 3053 \nL 1172 1153 \nQ 1172 725 1289 603 \nQ 1406 481 1766 481 \nL 2356 481 \nL 2356 0 \nL 1766 0 \nQ 1100 0 847 248 \nQ 594 497 594 1153 \nL 594 3053 \nL 172 3053 \nL 172 3500 \nL 594 3500 \nL 594 4494 \nL 1172 4494 \nz\n\" transform=\"scale(0.015625)\"/>\n       <path id=\"DejaVuSans-72\" d=\"M 2631 2963 \nQ 2534 3019 2420 3045 \nQ 2306 3072 2169 3072 \nQ 1681 3072 1420 2755 \nQ 1159 2438 1159 1844 \nL 1159 0 \nL 581 0 \nL 581 3500 \nL 1159 3500 \nL 1159 2956 \nQ 1341 3275 1631 3429 \nQ 1922 3584 2338 3584 \nQ 2397 3584 2469 3576 \nQ 2541 3569 2628 3553 \nL 2631 2963 \nz\n\" transform=\"scale(0.015625)\"/>\n       <path id=\"DejaVuSans-61\" d=\"M 2194 1759 \nQ 1497 1759 1228 1600 \nQ 959 1441 959 1056 \nQ 959 750 1161 570 \nQ 1363 391 1709 391 \nQ 2188 391 2477 730 \nQ 2766 1069 2766 1631 \nL 2766 1759 \nL 2194 1759 \nz\nM 3341 1997 \nL 3341 0 \nL 2766 0 \nL 2766 531 \nQ 2569 213 2275 61 \nQ 1981 -91 1556 -91 \nQ 1019 -91 701 211 \nQ 384 513 384 1019 \nQ 384 1609 779 1909 \nQ 1175 2209 1959 2209 \nL 2766 2209 \nL 2766 2266 \nQ 2766 2663 2505 2880 \nQ 2244 3097 1772 3097 \nQ 1472 3097 1187 3025 \nQ 903 2953 641 2809 \nL 641 3341 \nQ 956 3463 1253 3523 \nQ 1550 3584 1831 3584 \nQ 2591 3584 2966 3190 \nQ 3341 2797 3341 1997 \nz\n\" transform=\"scale(0.015625)\"/>\n       <path id=\"DejaVuSans-69\" d=\"M 603 3500 \nL 1178 3500 \nL 1178 0 \nL 603 0 \nL 603 3500 \nz\nM 603 4863 \nL 1178 4863 \nL 1178 4134 \nL 603 4134 \nL 603 4863 \nz\n\" transform=\"scale(0.015625)\"/>\n       <path id=\"DejaVuSans-6e\" d=\"M 3513 2113 \nL 3513 0 \nL 2938 0 \nL 2938 2094 \nQ 2938 2591 2744 2837 \nQ 2550 3084 2163 3084 \nQ 1697 3084 1428 2787 \nQ 1159 2491 1159 1978 \nL 1159 0 \nL 581 0 \nL 581 3500 \nL 1159 3500 \nL 1159 2956 \nQ 1366 3272 1645 3428 \nQ 1925 3584 2291 3584 \nQ 2894 3584 3203 3211 \nQ 3513 2838 3513 2113 \nz\n\" transform=\"scale(0.015625)\"/>\n       <path id=\"DejaVuSans-5f\" d=\"M 3263 -1063 \nL 3263 -1509 \nL -63 -1509 \nL -63 -1063 \nL 3263 -1063 \nz\n\" transform=\"scale(0.015625)\"/>\n       <path id=\"DejaVuSans-6c\" d=\"M 603 4863 \nL 1178 4863 \nL 1178 0 \nL 603 0 \nL 603 4863 \nz\n\" transform=\"scale(0.015625)\"/>\n       <path id=\"DejaVuSans-73\" d=\"M 2834 3397 \nL 2834 2853 \nQ 2591 2978 2328 3040 \nQ 2066 3103 1784 3103 \nQ 1356 3103 1142 2972 \nQ 928 2841 928 2578 \nQ 928 2378 1081 2264 \nQ 1234 2150 1697 2047 \nL 1894 2003 \nQ 2506 1872 2764 1633 \nQ 3022 1394 3022 966 \nQ 3022 478 2636 193 \nQ 2250 -91 1575 -91 \nQ 1294 -91 989 -36 \nQ 684 19 347 128 \nL 347 722 \nQ 666 556 975 473 \nQ 1284 391 1588 391 \nQ 1994 391 2212 530 \nQ 2431 669 2431 922 \nQ 2431 1156 2273 1281 \nQ 2116 1406 1581 1522 \nL 1381 1569 \nQ 847 1681 609 1914 \nQ 372 2147 372 2553 \nQ 372 3047 722 3315 \nQ 1072 3584 1716 3584 \nQ 2034 3584 2315 3537 \nQ 2597 3491 2834 3397 \nz\n\" transform=\"scale(0.015625)\"/>\n      </defs>\n      <use xlink:href=\"#DejaVuSans-74\"/>\n      <use xlink:href=\"#DejaVuSans-72\" x=\"39.208984\"/>\n      <use xlink:href=\"#DejaVuSans-61\" x=\"80.322266\"/>\n      <use xlink:href=\"#DejaVuSans-69\" x=\"141.601562\"/>\n      <use xlink:href=\"#DejaVuSans-6e\" x=\"169.384766\"/>\n      <use xlink:href=\"#DejaVuSans-5f\" x=\"232.763672\"/>\n      <use xlink:href=\"#DejaVuSans-6c\" x=\"282.763672\"/>\n      <use xlink:href=\"#DejaVuSans-6f\" x=\"310.546875\"/>\n      <use xlink:href=\"#DejaVuSans-73\" x=\"371.728516\"/>\n      <use xlink:href=\"#DejaVuSans-73\" x=\"423.828125\"/>\n     </g>\n    </g>\n    <g id=\"line2d_56\">\n     <path d=\"M 140.8125 35.254688 \nL 150.8125 35.254688 \nL 160.8125 35.254688 \n\" style=\"fill: none; stroke-dasharray: 5.55,2.4; stroke-dashoffset: 0; stroke: #ff7f0e; stroke-width: 1.5\"/>\n    </g>\n    <g id=\"text_13\">\n     <!-- val_loss -->\n     <g transform=\"translate(168.8125 38.754688) scale(0.1 -0.1)\">\n      <defs>\n       <path id=\"DejaVuSans-76\" d=\"M 191 3500 \nL 800 3500 \nL 1894 563 \nL 2988 3500 \nL 3597 3500 \nL 2284 0 \nL 1503 0 \nL 191 3500 \nz\n\" transform=\"scale(0.015625)\"/>\n      </defs>\n      <use xlink:href=\"#DejaVuSans-76\"/>\n      <use xlink:href=\"#DejaVuSans-61\" x=\"59.179688\"/>\n      <use xlink:href=\"#DejaVuSans-6c\" x=\"120.458984\"/>\n      <use xlink:href=\"#DejaVuSans-5f\" x=\"148.242188\"/>\n      <use xlink:href=\"#DejaVuSans-6c\" x=\"198.242188\"/>\n      <use xlink:href=\"#DejaVuSans-6f\" x=\"226.025391\"/>\n      <use xlink:href=\"#DejaVuSans-73\" x=\"287.207031\"/>\n      <use xlink:href=\"#DejaVuSans-73\" x=\"339.306641\"/>\n     </g>\n    </g>\n    <g id=\"line2d_57\">\n     <path d=\"M 140.8125 50.210938 \nL 150.8125 50.210938 \nL 160.8125 50.210938 \n\" style=\"fill: none; stroke-dasharray: 9.6,2.4,1.5,2.4; stroke-dashoffset: 0; stroke: #2ca02c; stroke-width: 1.5\"/>\n    </g>\n    <g id=\"text_14\">\n     <!-- val_acc -->\n     <g transform=\"translate(168.8125 53.710938) scale(0.1 -0.1)\">\n      <use xlink:href=\"#DejaVuSans-76\"/>\n      <use xlink:href=\"#DejaVuSans-61\" x=\"59.179688\"/>\n      <use xlink:href=\"#DejaVuSans-6c\" x=\"120.458984\"/>\n      <use xlink:href=\"#DejaVuSans-5f\" x=\"148.242188\"/>\n      <use xlink:href=\"#DejaVuSans-61\" x=\"198.242188\"/>\n      <use xlink:href=\"#DejaVuSans-63\" x=\"259.521484\"/>\n      <use xlink:href=\"#DejaVuSans-63\" x=\"314.501953\"/>\n     </g>\n    </g>\n   </g>\n  </g>\n </g>\n <defs>\n  <clipPath id=\"p3a96935636\">\n   <rect x=\"30.103125\" y=\"7.2\" width=\"195.3\" height=\"138.6\"/>\n  </clipPath>\n </defs>\n</svg>\n",
            "text/plain": [
              "<Figure size 350x250 with 1 Axes>"
            ]
          },
          "metadata": {},
          "output_type": "display_data"
        }
      ],
      "source": [
        "model = GoogleNet(lr=0.01)\n",
        "trainer = d2l.Trainer(max_epochs=10, num_gpus=1)\n",
        "data = d2l.FashionMNIST(batch_size=128, resize=(96, 96))\n",
        "model.apply_init([next(iter(data.get_dataloader(True)))[0]], d2l.init_cnn)\n",
        "trainer.fit(model, data)"
      ]
    },
    {
      "cell_type": "markdown",
      "metadata": {
        "id": "QLITt4mT2ZRT"
      },
      "source": [
        "### **Exercise 8.4**"
      ]
    },
    {
      "cell_type": "code",
      "execution_count": null,
      "metadata": {
        "id": "4iq4nL2vygMh"
      },
      "outputs": [],
      "source": [
        "import torch.nn as nn\n",
        "import torch\n",
        "import d2l\n",
        "from torchsummary import summary\n",
        "\n",
        "class Inception(nn.Module):\n",
        "    def __init__(self, c1, c2, c3, c4, **kwargs):\n",
        "        super().__init__(*kwargs)\n",
        "        self.b1 = nn.Sequential(nn.LazyConv2d(c1, kernel_size=1),\n",
        "                                nn.ReLU())\n",
        "        self.b2 = nn.Sequential(nn.LazyConv2d(c2[0], kernel_size=1),\n",
        "                                nn.ReLU(),\n",
        "                                nn.LazyConv2d(c2[1], kernel_size=3, padding=1),\n",
        "                                nn.ReLU())\n",
        "        self.b3 = nn.Sequential(nn.LazyConv2d(c3[0], kernel_size=1),\n",
        "                                nn.ReLU(),\n",
        "                                nn.LazyConv2d(c3[1], kernel_size=5, padding=2),\n",
        "                                nn.ReLU())\n",
        "        self.b4 = nn.Sequential(nn.MaxPool2d(kernel_size=3, stride=1, padding=1),\n",
        "                                nn.LazyConv2d(c4, kernel_size=1),\n",
        "                                nn.ReLU())\n",
        "\n",
        "    def forward(self, x):\n",
        "        o1 = self.b1(x)\n",
        "        o2 = self.b2(x)\n",
        "        o3 = self.b3(x)\n",
        "        o4 = self.b4(x)\n",
        "        return torch.cat((o1,o2,o3,o4),dim=1)\n",
        "\n",
        "class GoogleNet(d2l.torch.Classifier):\n",
        "    def b1(self):\n",
        "        return nn.Sequential(nn.LazyConv2d(64, kernel_size=7, stride=2, padding=3),\n",
        "                             nn.ReLU(),\n",
        "                             nn.MaxPool2d(kernel_size=3, stride=2, padding=1))\n",
        "\n",
        "    def b2(self):\n",
        "        return nn.Sequential(nn.LazyConv2d(64, kernel_size=1), nn.ReLU(),\n",
        "                             nn.LazyConv2d(192, kernel_size=3, padding=1),\n",
        "                             nn.ReLU(),\n",
        "                             nn.MaxPool2d(kernel_size=3, stride=2, padding=1))\n",
        "\n",
        "    def b3(self):\n",
        "        return nn.Sequential(Inception(64, (96, 128), (16, 32), 32),\n",
        "                             Inception(128, (128, 192), (32, 96), 64),\n",
        "                             nn.MaxPool2d(kernel_size=3, stride=2, padding=1))\n",
        "\n",
        "    def b4(self):\n",
        "        return nn.Sequential(Inception(192, (96, 208), (16, 48), 64),\n",
        "                             Inception(160, (112, 224), (24, 64), 64),\n",
        "                             Inception(128, (128, 256), (24, 64), 64),\n",
        "                             Inception(112, (144, 288), (32, 64), 64),\n",
        "                             Inception(256, (160, 320), (32, 128), 128),\n",
        "                             nn.MaxPool2d(kernel_size=3, stride=2, padding=1))\n",
        "\n",
        "    def b5(self):\n",
        "        return nn.Sequential(Inception(256, (160, 320), (32, 128), 128),\n",
        "                             Inception(384, (192, 384), (48, 128), 128),\n",
        "                             nn.AdaptiveAvgPool2d((1,1)), nn.Flatten())\n",
        "\n",
        "    def __init__(self, lr=0.1, num_classes=10):\n",
        "        super().__init__()\n",
        "        self.save_hyperparameters()\n",
        "        self.net = nn.Sequential(self.b1(), self.b2(), self.b3(), self.b4(),\n",
        "                                 self.b5(), nn.LazyLinear(num_classes))\n",
        "        self.net.apply(d2l.init_cnn)"
      ]
    },
    {
      "cell_type": "markdown",
      "metadata": {
        "id": "MW09hyYFpCNK"
      },
      "source": [
        "**1. GoogLeNet was so successful that it went through a number of iterations, progressively improving speed and accuracy. Try to implement and run some of them. They include the following:**\n",
        "* Add a batch normalization layer (Ioffe and Szegedy, 2015), as described later in Section 8.5."
      ]
    },
    {
      "cell_type": "code",
      "execution_count": null,
      "metadata": {
        "id": "j0d2fk-hyl4S"
      },
      "outputs": [],
      "source": [
        "class NormInception(nn.Module):\n",
        "    def __init__(self, c1, c2, c3, c4, **kwargs):\n",
        "        super().__init__(*kwargs)\n",
        "        self.b1 = nn.Sequential(nn.LazyConv2d(c1, kernel_size=1),\n",
        "                                nn.LazyBatchNorm2d(),\n",
        "                                nn.ReLU())\n",
        "        self.b2 = nn.Sequential(nn.LazyConv2d(c2[0], kernel_size=1),\n",
        "                                nn.LazyBatchNorm2d(),\n",
        "                                nn.ReLU(),\n",
        "                                nn.LazyConv2d(c2[1], kernel_size=3, padding=1),\n",
        "                                nn.LazyBatchNorm2d(),\n",
        "                                nn.ReLU())\n",
        "        self.b3 = nn.Sequential(nn.LazyConv2d(c3[0], kernel_size=1),\n",
        "                                nn.LazyBatchNorm2d(),\n",
        "                                nn.ReLU(),\n",
        "                                nn.LazyConv2d(c3[1], kernel_size=5, padding=2),\n",
        "                                nn.LazyBatchNorm2d(),\n",
        "                                nn.ReLU())\n",
        "        self.b4 = nn.Sequential(nn.MaxPool2d(kernel_size=3, stride=1, padding=1),\n",
        "                                nn.LazyBatchNorm2d(),\n",
        "                                nn.LazyConv2d(c4, kernel_size=1),\n",
        "                                nn.LazyBatchNorm2d(),\n",
        "                                nn.ReLU())\n",
        "\n",
        "    def forward(self, x):\n",
        "        o1 = self.b1(x)\n",
        "        o2 = self.b2(x)\n",
        "        o3 = self.b3(x)\n",
        "        o4 = self.b4(x)\n",
        "        return torch.cat((o1,o2,o3,o4),dim=1)\n",
        "\n",
        "class NormGoogleNet(d2l.torch.Classifier):\n",
        "    def b1(self):\n",
        "        return nn.Sequential(nn.LazyConv2d(64, kernel_size=7, stride=2, padding=3),\n",
        "                             nn.LazyBatchNorm2d(),\n",
        "                             nn.ReLU(),\n",
        "                             nn.MaxPool2d(kernel_size=3, stride=2, padding=1))\n",
        "\n",
        "    def b2(self):\n",
        "        return nn.Sequential(nn.LazyConv2d(64, kernel_size=1),\n",
        "                             nn.LazyBatchNorm2d(),nn.ReLU(),\n",
        "                             nn.LazyConv2d(192, kernel_size=3, padding=1),\n",
        "                             nn.LazyBatchNorm2d(), nn.ReLU(),\n",
        "                             nn.MaxPool2d(kernel_size=3, stride=2, padding=1))\n",
        "\n",
        "    def b3(self):\n",
        "        return nn.Sequential(NormInception(64, (96, 128), (16, 32), 32),\n",
        "                             NormInception(128, (128, 192), (32, 96), 64),\n",
        "                             nn.MaxPool2d(kernel_size=3, stride=2, padding=1))\n",
        "\n",
        "    def b4(self):\n",
        "        return nn.Sequential(NormInception(192, (96, 208), (16, 48), 64),\n",
        "                             NormInception(160, (112, 224), (24, 64), 64),\n",
        "                             NormInception(128, (128, 256), (24, 64), 64),\n",
        "                             NormInception(112, (144, 288), (32, 64), 64),\n",
        "                             NormInception(256, (160, 320), (32, 128), 128),\n",
        "                             nn.MaxPool2d(kernel_size=3, stride=2, padding=1))\n",
        "\n",
        "    def b5(self):\n",
        "        return nn.Sequential(NormInception(256, (160, 320), (32, 128), 128),\n",
        "                             NormInception(384, (192, 384), (48, 128), 128),\n",
        "                             nn.AdaptiveAvgPool2d((1,1)), nn.Flatten())\n",
        "\n",
        "    def __init__(self, lr=0.1, num_classes=10):\n",
        "        super().__init__()\n",
        "        self.save_hyperparameters()\n",
        "        self.net = nn.Sequential(self.b1(), self.b2(), self.b3(), self.b4(),\n",
        "                                 self.b5(), nn.LazyLinear(num_classes))\n",
        "        self.net.apply(d2l.init_cnn)"
      ]
    },
    {
      "cell_type": "markdown",
      "metadata": {
        "id": "rdVlGwZ5pFqZ"
      },
      "source": [
        "* Make adjustments to the Inception block (width, choice and order of convolutions), as described in Szegedy et al. (2016)."
      ]
    },
    {
      "cell_type": "code",
      "execution_count": null,
      "metadata": {
        "id": "48CNTUfIyumI"
      },
      "outputs": [],
      "source": [
        "class Inception(nn.Module):\n",
        "    def __init__(self, c1, c2, c3, c4, **kwargs):\n",
        "        super().__init__(*kwargs)\n",
        "        self.b1 = nn.Sequential(nn.LazyConv2d(c1, kernel_size=1),\n",
        "                                nn.ReLU())\n",
        "        self.b2 = nn.Sequential(nn.LazyConv2d(c2[0], kernel_size=1),\n",
        "                                nn.ReLU(),\n",
        "                                nn.LazyConv2d(c2[1], kernel_size=3, padding=1),\n",
        "                                nn.ReLU())\n",
        "        self.b3 = nn.Sequential(nn.LazyConv2d(c3[0], kernel_size=1),\n",
        "                                nn.ReLU(),\n",
        "                                nn.LazyConv2d(c3[1], kernel_size=3, padding=1),\n",
        "                                nn.ReLU(),\n",
        "                                nn.LazyConv2d(c3[2], kernel_size=3, padding=1),\n",
        "                                nn.ReLU())\n",
        "        self.b4 = nn.Sequential(nn.MaxPool2d(kernel_size=3, stride=1, padding=1),\n",
        "                                nn.LazyConv2d(c4, kernel_size=1),\n",
        "                                nn.ReLU())\n",
        "\n",
        "    def forward(self, x):\n",
        "        o1 = self.b1(x)\n",
        "        o2 = self.b2(x)\n",
        "        o3 = self.b3(x)\n",
        "        o4 = self.b4(x)\n",
        "        return torch.cat((o1,o2,o3,o4),dim=1)"
      ]
    },
    {
      "cell_type": "code",
      "execution_count": null,
      "metadata": {
        "id": "de1nrTsTyyXk"
      },
      "outputs": [],
      "source": [
        "class Inception(nn.Module):\n",
        "    def __init__(self, c1, c2, c3, c4, **kwargs):\n",
        "        super().__init__(*kwargs)\n",
        "        self.b1 = nn.Sequential(nn.LazyConv2d(c1, kernel_size=1),\n",
        "                                nn.ReLU())\n",
        "        self.b2 = nn.Sequential(nn.LazyConv2d(c2[0], kernel_size=1),\n",
        "                                nn.ReLU(),\n",
        "                                nn.LazyConv2d(c2[1], kernel_size=(1,3), padding=(0,1)),\n",
        "                                nn.ReLU(),\n",
        "                                nn.LazyConv2d(c2[2], kernel_size=(3,1), padding=(1,0)),\n",
        "                                nn.ReLU())\n",
        "        self.b3 = nn.Sequential(nn.LazyConv2d(c3[0], kernel_size=1),\n",
        "                                nn.ReLU(),\n",
        "                                nn.LazyConv2d(c3[1], kernel_size=(1,3), padding=(0,1)),\n",
        "                                nn.ReLU(),\n",
        "                                nn.LazyConv2d(c3[2], kernel_size=(3,1), padding=(1,0)),\n",
        "                                nn.ReLU(),\n",
        "                                nn.LazyConv2d(c3[3], kernel_size=(1,3), padding=(0,1)),\n",
        "                                nn.ReLU(),\n",
        "                                nn.LazyConv2d(c3[4], kernel_size=(3,1), padding=(1,0)),\n",
        "                                nn.ReLU())\n",
        "        self.b4 = nn.Sequential(nn.MaxPool2d(kernel_size=3, stride=1, padding=1),\n",
        "                                nn.LazyConv2d(c4, kernel_size=1),\n",
        "                                nn.ReLU())\n",
        "\n",
        "    def forward(self, x):\n",
        "        o1 = self.b1(x)\n",
        "        o2 = self.b2(x)\n",
        "        o3 = self.b3(x)\n",
        "        o4 = self.b4(x)\n",
        "        return torch.cat((o1,o2,o3,o4),dim=1)"
      ]
    },
    {
      "cell_type": "code",
      "execution_count": null,
      "metadata": {
        "id": "phI61fMHy2o3"
      },
      "outputs": [],
      "source": [
        "class Inception(nn.Module):\n",
        "    def __init__(self, c1, c2, c3, c4, **kwargs):\n",
        "        super().__init__(*kwargs)\n",
        "        self.b1 = nn.Sequential(nn.LazyConv2d(c1, kernel_size=1),\n",
        "                                nn.ReLU())\n",
        "        self.b2 = nn.Sequential(nn.LazyConv2d(c2[0], kernel_size=1),\n",
        "                                nn.ReLU())\n",
        "        self.b2_1 = nn.Sequential(nn.LazyConv2d(c2[1], kernel_size=(1,3), padding=(0,1)),\n",
        "                                nn.ReLU())\n",
        "        self.b2_2 = nn.Sequential(nn.LazyConv2d(c2[2], kernel_size=(3,1), padding=(1,0)),\n",
        "                                nn.ReLU())\n",
        "        self.b3 = nn.Sequential(nn.LazyConv2d(c3[0], kernel_size=1),\n",
        "                                nn.ReLU(),\n",
        "                                nn.LazyConv2d(c3[1], kernel_size=3, padding=1),\n",
        "                                nn.ReLU())\n",
        "        self.b3_1 = nn.Sequential(nn.LazyConv2d(c3[2], kernel_size=(1,3), padding=(0,1)),\n",
        "                                nn.ReLU())\n",
        "        self.b3_2 = nn.Sequential(nn.LazyConv2d(c3[3], kernel_size=(3,1), padding=(1,0)),\n",
        "                                nn.ReLU())\n",
        "        self.b4 = nn.Sequential(nn.MaxPool2d(kernel_size=3, stride=1, padding=1),\n",
        "                                nn.LazyConv2d(c4, kernel_size=1),\n",
        "                                nn.ReLU())\n",
        "\n",
        "    def forward(self, x):\n",
        "        o1 = self.b1(x)\n",
        "        o2 = self.b2(x)\n",
        "        o2_1 = self.b2_1(o2)\n",
        "        o2_2 = self.b2_2(o2)\n",
        "        o3 = self.b3(x)\n",
        "        o3_1 = self.b3_1(o3)\n",
        "        o3_2 = self.b3_2(o2)\n",
        "        o4 = self.b4(x)\n",
        "        return torch.cat((o1,o2_1,o2_2,o3_1,o3_2,o4),dim=1)"
      ]
    },
    {
      "cell_type": "markdown",
      "metadata": {
        "id": "Be7R54p0pJ2o"
      },
      "source": [
        "* Use label smoothing for model regularization, as described in Szegedy et al. (2016)."
      ]
    },
    {
      "cell_type": "code",
      "execution_count": null,
      "metadata": {
        "id": "SLfm_Dvpy5Vy"
      },
      "outputs": [],
      "source": [
        "class LSRGoogleNet(GoogleNet):\n",
        "    def __init__(self, eps=0, lr=0.1, num_classes=10):\n",
        "        super().__init__(lr=lr, num_classes=num_classes)\n",
        "        self.save_hyperparameters()\n",
        "\n",
        "    def loss(self, y_hat, y, averaged=True):\n",
        "        y_hat = y_hat.reshape((-1, y_hat.shape[-1]))\n",
        "        y = y.reshape((-1,))\n",
        "        u = torch.ones(y.shape).tye(torch.float32)/y.shape[-1]\n",
        "        lsr_loss = (1-self.eps)*F.cross_entropy(y_hat, y, reduction='mean' if averaged else 'none')\n",
        "        +self.eps*F.cross_entropy(y_hat, u, reduction='mean' if averaged else 'none')\n",
        "        return lsr_loss"
      ]
    },
    {
      "cell_type": "markdown",
      "metadata": {
        "id": "VSpAbqwwpMGp"
      },
      "source": [
        "* Make further adjustments to the Inception block by adding residual connection (Szegedy et al., 2017), as described later in Section 8.6."
      ]
    },
    {
      "cell_type": "code",
      "source": [
        "import torch\n",
        "from torch import nn\n",
        "import d2l\n",
        "from torch.nn import functional as F\n",
        "\n",
        "class GoogleNet(d2l.torch.Classifier):\n",
        "    def b1(self):\n",
        "        return nn.Sequential(nn.LazyConv2d(64, kernel_size=7, stride=2, padding=3),\n",
        "                             nn.ReLU(),\n",
        "                             nn.MaxPool2d(kernel_size=3, stride=2, padding=1))\n",
        "\n",
        "    def b2(self):\n",
        "        return nn.Sequential(nn.LazyConv2d(64, kernel_size=1),\n",
        "                             nn.LazyBatchNorm2d(),nn.ReLU(),\n",
        "                             nn.LazyConv2d(192, kernel_size=3, padding=1),\n",
        "                             nn.LazyBatchNorm2d(), nn.ReLU(),\n",
        "                             nn.MaxPool2d(kernel_size=3, stride=2, padding=1))\n",
        "\n",
        "    def b3(self):\n",
        "        return nn.Sequential(Inception(64, (96, 128), (16, 32), 32),\n",
        "                             Inception(128, (128, 192), (32, 96), 64),\n",
        "                             nn.MaxPool2d(kernel_size=3, stride=2, padding=1))\n",
        "\n",
        "    def b4(self):\n",
        "        return nn.Sequential(Inception(192, (96, 208), (16, 48), 64),\n",
        "                             Inception(160, (112, 224), (24, 64), 64),\n",
        "                             Inception(128, (128, 256), (24, 64), 64),\n",
        "                             Inception(112, (144, 288), (32, 64), 64),\n",
        "                             Inception(256, (160, 320), (32, 128), 128),\n",
        "                             nn.MaxPool2d(kernel_size=3, stride=2, padding=1))\n",
        "\n",
        "    def b5(self):\n",
        "        return nn.Sequential(Inception(256, (160, 320), (32, 128), 128),\n",
        "                             Inception(384, (192, 384), (48, 128), 128),\n",
        "                             nn.AdaptiveAvgPool2d((1,1)), nn.Flatten())\n",
        "\n",
        "    def __init__(self, lr=0.1, num_classes=10):\n",
        "        super().__init__()\n",
        "        self.save_hyperparameters()\n",
        "        # Change in_channels to 3 to match input tensor shape\n",
        "        self.net = nn.Sequential(self.b1(), self.b2(), self.b3(), self.b4(),\n",
        "                                 self.b5(), nn.LazyLinear(num_classes))\n",
        "        self.net.apply(d2l.torch.init_cnn)\n",
        "\n",
        "    def forward(self, X):\n",
        "        if not self.is_initialized:\n",
        "            self.net(torch.randn(2, 1, 32, 32))\n",
        "            self.initialize_weights()\n",
        "            self.is_initialized = True\n",
        "\n",
        "        if X.shape[0] == 1:\n",
        "            self.net.eval()\n",
        "            output = self.net(X)\n",
        "            self.net.train()\n",
        "            return output\n",
        "        else:\n",
        "            return self.net(X)\n",
        "\n",
        "    def initialize_weights(self):\n",
        "        \"\"\"Initialize the weights of the network.\"\"\"\n",
        "        for m in self.net.modules():\n",
        "            if isinstance(m, (nn.Conv2d, nn.Linear)):\n",
        "                nn.init.xavier_uniform_(m.weight)"
      ],
      "metadata": {
        "id": "wQZNXcZE0aB3"
      },
      "execution_count": null,
      "outputs": []
    },
    {
      "cell_type": "markdown",
      "metadata": {
        "id": "v-bx1ssqpXHg"
      },
      "source": [
        "**2. What is the minimum image size needed for GoogLeNet to work?**\n",
        "\n",
        "GoogLeNet membagi ukuran gambar sebanyak 5x, sehingga ukuran gambar minimumnya adalah $2^5 = 32$."
      ]
    },
    {
      "cell_type": "code",
      "execution_count": null,
      "metadata": {
        "id": "nQOQ5cxN0gjK"
      },
      "outputs": [],
      "source": [
        "model = GoogleNet(lr=0.01)\n",
        "X = torch.randn(1,1,32,32)\n",
        "model(X)\n",
        "for m in model.net:\n",
        "    X = m(X)\n",
        "    print(X.shape)"
      ]
    },
    {
      "cell_type": "code",
      "execution_count": null,
      "metadata": {
        "id": "f0SFrDbC0iwn"
      },
      "outputs": [],
      "source": [
        "model = GoogleNet(lr=0.01)\n",
        "X = torch.randn(1,1,64,64)\n",
        "model(X)\n",
        "for m in model.net:\n",
        "    X = m(X)\n",
        "    print(X.shape)"
      ]
    },
    {
      "cell_type": "markdown",
      "metadata": {
        "id": "uHkQQBShpbHJ"
      },
      "source": [
        "**3. Can you design a variant of GoogLeNet that works on Fashion-MNIST's native resolution of $28 × 28$ pixels? How would you need to change the stem, the body, and the head of the network, if anything at all?**"
      ]
    },
    {
      "cell_type": "code",
      "execution_count": null,
      "metadata": {
        "id": "cZlFT7aX0mn9"
      },
      "outputs": [],
      "source": [
        "class SmallGoogLeNet():\n",
        "    def b1(self):\n",
        "        return nn.Sequential(nn.LazyConv2d(64, kernel_size=5, stride=1, padding=2),\n",
        "                             nn.ReLU(),\n",
        "                             # nn.MaxPool2d(kernel_size=3, stride=2, padding=1)\n",
        "                            )\n",
        "\n",
        "    def __init__(self, lr=0.1, num_classes=10): # Corrected indentation to align with b1()\n",
        "        super().__init__()\n",
        "        self.save_hyperparameters()\n",
        "        self.net = nn.Sequential(self.b1(),self.b2(), self.b3(), self.b4(),\n",
        "                                 self.b5(), nn.LazyLinear(num_classes))\n",
        "        self.net.apply(d2l.torch.init_cnn)"
      ]
    },
    {
      "cell_type": "markdown",
      "metadata": {
        "id": "QTvCqlbdpg1C"
      },
      "source": [
        "**4. Compare the model parameter sizes of AlexNet, VGG, NiN, and GoogLeNet. How do the latter two network architectures significantly reduce the model parameter size?**"
      ]
    },
    {
      "cell_type": "code",
      "execution_count": null,
      "metadata": {
        "id": "rE_6PMFo1R_q"
      },
      "outputs": [],
      "source": [
        "model = GoogleNet(lr=0.01)\n",
        "X = torch.randn(1,3, 224, 224)\n",
        "_ = model(X)\n",
        "total_params = sum(p.numel() for p in model.parameters())\n",
        "print(\"Total parameters:\", total_params)"
      ]
    },
    {
      "cell_type": "markdown",
      "metadata": {
        "id": "FBHJYjpH2hUD"
      },
      "source": [
        "![Screenshot (2131).png](data:image/png;base64,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)"
      ]
    },
    {
      "cell_type": "markdown",
      "metadata": {
        "id": "KJRpoAqe3EqR"
      },
      "source": [
        "Reduksi ukuran parameter yang signifikan pada NiN dan GoogLeNet dilakukan dengan convolution 1x1 dan modul inception. Model jadi mampu menangkap fitur secara efisien namun tetap menjaga jumlah parameter. Konvolusi 1x1 pada NiN dan GoogLeNet berfungsi untuk mengurangi kompleksitas jaringan, menghindari fully connected layers yang besar, dan meningkatkan efisiensi komputasi."
      ]
    },
    {
      "cell_type": "markdown",
      "metadata": {
        "id": "sOGI5Lknpldv"
      },
      "source": [
        "**5. Compare the amount of computation needed in GoogLeNet and AlexNet. How does this affect the design of an accelerator chip, e.g., in terms of memory size, memory bandwidth, cache size, the amount of computation, and the benefit of specialized operations?**\n",
        "\n",
        "* Ukuran Memori\n",
        "\n",
        "  AlexNet yang menggunakan fully connected layers sangat besar, memerlukan memori yang besar juga. Sementara GoogLeNet membutuhkan memori lebih kecil karena mengurangi penggunaan fully connected layers dan memanfaatkan konvolusi 1×1.\n",
        "* Bandwidth Memori\n",
        "\n",
        "  GoogLeNet menggunakan bandwidth memori secara lebih efisien, walaupun \"demand\" lebih tinggi akibat banyaknya operasi paralel convolution dalam modul Inception. Sementara AlexNet memerlukan bandwidth lebih besar untuk menyimpan hasil intermediate dari fully connected layers yang besar.\n",
        "* Ukuran Cache\n",
        "\n",
        "  GoogLeNet memanfaatkan konvolusi 1×1 untuk mengurangi dimensi feature map dan jumlah parameter, sehingga penggunaan cache lebih kecil. Sementara AlexNet membutuhkan cache lebih besar untuk menangani fully connected layers.\n",
        "* Jumlah Komputasi\n",
        "\n",
        "  Dibandingkan AlexNet, GoogLeNet menggunakan lebih sedikit parameter, namun lebih banyak lapisan dan operasi konvolusi yang kompleks. Sehingga GoogLeNet membutuhkan lebih banyak komputasi dalam beberapa tahap, meskipun ukuran modelnya lebih efisien.\n",
        "* Operasi Khusus\n",
        "\n",
        "  GoogLeNet menggunakan operasi khusus, seperti konvolusi 1×1 dan kombinasi multi-skala dalam modul Inception guna meningkatkan efisiensi dan pengelolaan memori."
      ]
    },
    {
      "cell_type": "markdown",
      "metadata": {
        "id": "mTbRg4vp2fyJ"
      },
      "source": [
        "### **8.5 Batch Normalization**"
      ]
    },
    {
      "cell_type": "code",
      "execution_count": null,
      "metadata": {
        "id": "2fG6wqLtGw4t"
      },
      "outputs": [],
      "source": [
        "import torch\n",
        "from torch import nn\n",
        "from d2l import torch as d2l"
      ]
    },
    {
      "cell_type": "code",
      "execution_count": null,
      "metadata": {
        "id": "nny5etv32pfe"
      },
      "outputs": [],
      "source": [
        "def batch_norm(X, gamma, beta, moving_mean, moving_var, eps, momentum):\n",
        "    if not torch.is_grad_enabled():\n",
        "        X_hat = (X - moving_mean) / torch.sqrt(moving_var + eps)\n",
        "    else:\n",
        "        assert len(X.shape) in (2, 4)\n",
        "        if len(X.shape) == 2:\n",
        "            mean = X.mean(dim=0)\n",
        "            var = ((X - mean) ** 2).mean(dim=0)\n",
        "        else:\n",
        "            mean = X.mean(dim=(0, 2, 3), keepdim=True)\n",
        "            var = ((X - mean) ** 2).mean(dim=(0, 2, 3), keepdim=True)\n",
        "        X_hat = (X - mean) / torch.sqrt(var + eps)\n",
        "        moving_mean = (1.0 - momentum) * moving_mean + momentum * mean\n",
        "        moving_var = (1.0 - momentum) * moving_var + momentum * var\n",
        "    Y = gamma * X_hat + beta  # Scale and shift\n",
        "    return Y, moving_mean.data, moving_var.data"
      ]
    },
    {
      "cell_type": "code",
      "execution_count": null,
      "metadata": {
        "id": "LXP8wYM72wIK"
      },
      "outputs": [],
      "source": [
        "class BatchNorm(nn.Module):\n",
        "    def __init__(self, num_features, num_dims):\n",
        "        super().__init__()\n",
        "        if num_dims == 2:\n",
        "            shape = (1, num_features)\n",
        "        else:\n",
        "            shape = (1, num_features, 1, 1)\n",
        "        self.gamma = nn.Parameter(torch.ones(shape))\n",
        "        self.beta = nn.Parameter(torch.zeros(shape))\n",
        "        self.moving_mean = torch.zeros(shape)\n",
        "        self.moving_var = torch.ones(shape)\n",
        "\n",
        "    def forward(self, X):\n",
        "        if self.moving_mean.device != X.device:\n",
        "            self.moving_mean = self.moving_mean.to(X.device)\n",
        "            self.moving_var = self.moving_var.to(X.device)\n",
        "        Y, self.moving_mean, self.moving_var = batch_norm(\n",
        "            X, self.gamma, self.beta, self.moving_mean,\n",
        "            self.moving_var, eps=1e-5, momentum=0.1)\n",
        "        return Y"
      ]
    },
    {
      "cell_type": "code",
      "execution_count": null,
      "metadata": {
        "id": "tBnSn9l42x-s"
      },
      "outputs": [],
      "source": [
        "class BNLeNetScratch(d2l.Classifier):\n",
        "    def __init__(self, lr=0.1, num_classes=10):\n",
        "        super().__init__()\n",
        "        self.save_hyperparameters()\n",
        "        self.net = nn.Sequential(\n",
        "            nn.LazyConv2d(6, kernel_size=5), BatchNorm(6, num_dims=4),\n",
        "            nn.Sigmoid(), nn.AvgPool2d(kernel_size=2, stride=2),\n",
        "            nn.LazyConv2d(16, kernel_size=5), BatchNorm(16, num_dims=4),\n",
        "            nn.Sigmoid(), nn.AvgPool2d(kernel_size=2, stride=2),\n",
        "            nn.Flatten(), nn.LazyLinear(120),\n",
        "            BatchNorm(120, num_dims=2), nn.Sigmoid(), nn.LazyLinear(84),\n",
        "            BatchNorm(84, num_dims=2), nn.Sigmoid(),\n",
        "            nn.LazyLinear(num_classes))"
      ]
    },
    {
      "cell_type": "code",
      "execution_count": null,
      "metadata": {
        "colab": {
          "base_uri": "https://localhost:8080/",
          "height": 265
        },
        "id": "tvBGFBpP2zuI",
        "outputId": "b2b5c2da-882b-44ec-f7c4-efb9e6ed0311"
      },
      "outputs": [
        {
          "data": {
            "image/svg+xml": "<?xml version=\"1.0\" encoding=\"utf-8\" standalone=\"no\"?>\n<!DOCTYPE svg PUBLIC \"-//W3C//DTD SVG 1.1//EN\"\n  \"http://www.w3.org/Graphics/SVG/1.1/DTD/svg11.dtd\">\n<svg xmlns:xlink=\"http://www.w3.org/1999/xlink\" width=\"238.965625pt\" height=\"183.35625pt\" viewBox=\"0 0 238.965625 183.35625\" xmlns=\"http://www.w3.org/2000/svg\" version=\"1.1\">\n <metadata>\n  <rdf:RDF xmlns:dc=\"http://purl.org/dc/elements/1.1/\" xmlns:cc=\"http://creativecommons.org/ns#\" xmlns:rdf=\"http://www.w3.org/1999/02/22-rdf-syntax-ns#\">\n   <cc:Work>\n    <dc:type rdf:resource=\"http://purl.org/dc/dcmitype/StillImage\"/>\n    <dc:date>2024-09-26T06:46:23.616266</dc:date>\n    <dc:format>image/svg+xml</dc:format>\n    <dc:creator>\n     <cc:Agent>\n      <dc:title>Matplotlib v3.7.2, https://matplotlib.org/</dc:title>\n     </cc:Agent>\n    </dc:creator>\n   </cc:Work>\n  </rdf:RDF>\n </metadata>\n <defs>\n  <style type=\"text/css\">*{stroke-linejoin: round; stroke-linecap: butt}</style>\n </defs>\n <g id=\"figure_1\">\n  <g id=\"patch_1\">\n   <path d=\"M 0 183.35625 \nL 238.965625 183.35625 \nL 238.965625 0 \nL 0 0 \nz\n\" style=\"fill: #ffffff\"/>\n  </g>\n  <g id=\"axes_1\">\n   <g id=\"patch_2\">\n    <path d=\"M 30.103125 145.8 \nL 225.403125 145.8 \nL 225.403125 7.2 \nL 30.103125 7.2 \nz\n\" style=\"fill: #ffffff\"/>\n   </g>\n   <g id=\"matplotlib.axis_1\">\n    <g id=\"xtick_1\">\n     <g id=\"line2d_1\">\n      <defs>\n       <path id=\"md7214ffd9f\" d=\"M 0 0 \nL 0 3.5 \n\" style=\"stroke: #000000; stroke-width: 0.8\"/>\n      </defs>\n      <g>\n       <use xlink:href=\"#md7214ffd9f\" x=\"30.103125\" y=\"145.8\" style=\"stroke: #000000; stroke-width: 0.8\"/>\n      </g>\n     </g>\n     <g id=\"text_1\">\n      <!-- 0 -->\n      <g transform=\"translate(26.921875 160.398438) scale(0.1 -0.1)\">\n       <defs>\n        <path id=\"DejaVuSans-30\" d=\"M 2034 4250 \nQ 1547 4250 1301 3770 \nQ 1056 3291 1056 2328 \nQ 1056 1369 1301 889 \nQ 1547 409 2034 409 \nQ 2525 409 2770 889 \nQ 3016 1369 3016 2328 \nQ 3016 3291 2770 3770 \nQ 2525 4250 2034 4250 \nz\nM 2034 4750 \nQ 2819 4750 3233 4129 \nQ 3647 3509 3647 2328 \nQ 3647 1150 3233 529 \nQ 2819 -91 2034 -91 \nQ 1250 -91 836 529 \nQ 422 1150 422 2328 \nQ 422 3509 836 4129 \nQ 1250 4750 2034 4750 \nz\n\" transform=\"scale(0.015625)\"/>\n       </defs>\n       <use xlink:href=\"#DejaVuSans-30\"/>\n      </g>\n     </g>\n    </g>\n    <g id=\"xtick_2\">\n     <g id=\"line2d_2\">\n      <g>\n       <use xlink:href=\"#md7214ffd9f\" x=\"69.163125\" y=\"145.8\" style=\"stroke: #000000; stroke-width: 0.8\"/>\n      </g>\n     </g>\n     <g id=\"text_2\">\n      <!-- 2 -->\n      <g transform=\"translate(65.981875 160.398438) scale(0.1 -0.1)\">\n       <defs>\n        <path id=\"DejaVuSans-32\" d=\"M 1228 531 \nL 3431 531 \nL 3431 0 \nL 469 0 \nL 469 531 \nQ 828 903 1448 1529 \nQ 2069 2156 2228 2338 \nQ 2531 2678 2651 2914 \nQ 2772 3150 2772 3378 \nQ 2772 3750 2511 3984 \nQ 2250 4219 1831 4219 \nQ 1534 4219 1204 4116 \nQ 875 4013 500 3803 \nL 500 4441 \nQ 881 4594 1212 4672 \nQ 1544 4750 1819 4750 \nQ 2544 4750 2975 4387 \nQ 3406 4025 3406 3419 \nQ 3406 3131 3298 2873 \nQ 3191 2616 2906 2266 \nQ 2828 2175 2409 1742 \nQ 1991 1309 1228 531 \nz\n\" transform=\"scale(0.015625)\"/>\n       </defs>\n       <use xlink:href=\"#DejaVuSans-32\"/>\n      </g>\n     </g>\n    </g>\n    <g id=\"xtick_3\">\n     <g id=\"line2d_3\">\n      <g>\n       <use xlink:href=\"#md7214ffd9f\" x=\"108.223125\" y=\"145.8\" style=\"stroke: #000000; stroke-width: 0.8\"/>\n      </g>\n     </g>\n     <g id=\"text_3\">\n      <!-- 4 -->\n      <g transform=\"translate(105.041875 160.398438) scale(0.1 -0.1)\">\n       <defs>\n        <path id=\"DejaVuSans-34\" d=\"M 2419 4116 \nL 825 1625 \nL 2419 1625 \nL 2419 4116 \nz\nM 2253 4666 \nL 3047 4666 \nL 3047 1625 \nL 3713 1625 \nL 3713 1100 \nL 3047 1100 \nL 3047 0 \nL 2419 0 \nL 2419 1100 \nL 313 1100 \nL 313 1709 \nL 2253 4666 \nz\n\" transform=\"scale(0.015625)\"/>\n       </defs>\n       <use xlink:href=\"#DejaVuSans-34\"/>\n      </g>\n     </g>\n    </g>\n    <g id=\"xtick_4\">\n     <g id=\"line2d_4\">\n      <g>\n       <use xlink:href=\"#md7214ffd9f\" x=\"147.283125\" y=\"145.8\" style=\"stroke: #000000; stroke-width: 0.8\"/>\n      </g>\n     </g>\n     <g id=\"text_4\">\n      <!-- 6 -->\n      <g transform=\"translate(144.101875 160.398438) scale(0.1 -0.1)\">\n       <defs>\n        <path id=\"DejaVuSans-36\" d=\"M 2113 2584 \nQ 1688 2584 1439 2293 \nQ 1191 2003 1191 1497 \nQ 1191 994 1439 701 \nQ 1688 409 2113 409 \nQ 2538 409 2786 701 \nQ 3034 994 3034 1497 \nQ 3034 2003 2786 2293 \nQ 2538 2584 2113 2584 \nz\nM 3366 4563 \nL 3366 3988 \nQ 3128 4100 2886 4159 \nQ 2644 4219 2406 4219 \nQ 1781 4219 1451 3797 \nQ 1122 3375 1075 2522 \nQ 1259 2794 1537 2939 \nQ 1816 3084 2150 3084 \nQ 2853 3084 3261 2657 \nQ 3669 2231 3669 1497 \nQ 3669 778 3244 343 \nQ 2819 -91 2113 -91 \nQ 1303 -91 875 529 \nQ 447 1150 447 2328 \nQ 447 3434 972 4092 \nQ 1497 4750 2381 4750 \nQ 2619 4750 2861 4703 \nQ 3103 4656 3366 4563 \nz\n\" transform=\"scale(0.015625)\"/>\n       </defs>\n       <use xlink:href=\"#DejaVuSans-36\"/>\n      </g>\n     </g>\n    </g>\n    <g id=\"xtick_5\">\n     <g id=\"line2d_5\">\n      <g>\n       <use xlink:href=\"#md7214ffd9f\" x=\"186.343125\" y=\"145.8\" style=\"stroke: #000000; stroke-width: 0.8\"/>\n      </g>\n     </g>\n     <g id=\"text_5\">\n      <!-- 8 -->\n      <g transform=\"translate(183.161875 160.398438) scale(0.1 -0.1)\">\n       <defs>\n        <path id=\"DejaVuSans-38\" d=\"M 2034 2216 \nQ 1584 2216 1326 1975 \nQ 1069 1734 1069 1313 \nQ 1069 891 1326 650 \nQ 1584 409 2034 409 \nQ 2484 409 2743 651 \nQ 3003 894 3003 1313 \nQ 3003 1734 2745 1975 \nQ 2488 2216 2034 2216 \nz\nM 1403 2484 \nQ 997 2584 770 2862 \nQ 544 3141 544 3541 \nQ 544 4100 942 4425 \nQ 1341 4750 2034 4750 \nQ 2731 4750 3128 4425 \nQ 3525 4100 3525 3541 \nQ 3525 3141 3298 2862 \nQ 3072 2584 2669 2484 \nQ 3125 2378 3379 2068 \nQ 3634 1759 3634 1313 \nQ 3634 634 3220 271 \nQ 2806 -91 2034 -91 \nQ 1263 -91 848 271 \nQ 434 634 434 1313 \nQ 434 1759 690 2068 \nQ 947 2378 1403 2484 \nz\nM 1172 3481 \nQ 1172 3119 1398 2916 \nQ 1625 2713 2034 2713 \nQ 2441 2713 2670 2916 \nQ 2900 3119 2900 3481 \nQ 2900 3844 2670 4047 \nQ 2441 4250 2034 4250 \nQ 1625 4250 1398 4047 \nQ 1172 3844 1172 3481 \nz\n\" transform=\"scale(0.015625)\"/>\n       </defs>\n       <use xlink:href=\"#DejaVuSans-38\"/>\n      </g>\n     </g>\n    </g>\n    <g id=\"xtick_6\">\n     <g id=\"line2d_6\">\n      <g>\n       <use xlink:href=\"#md7214ffd9f\" x=\"225.403125\" y=\"145.8\" style=\"stroke: #000000; stroke-width: 0.8\"/>\n      </g>\n     </g>\n     <g id=\"text_6\">\n      <!-- 10 -->\n      <g transform=\"translate(219.040625 160.398438) scale(0.1 -0.1)\">\n       <defs>\n        <path id=\"DejaVuSans-31\" d=\"M 794 531 \nL 1825 531 \nL 1825 4091 \nL 703 3866 \nL 703 4441 \nL 1819 4666 \nL 2450 4666 \nL 2450 531 \nL 3481 531 \nL 3481 0 \nL 794 0 \nL 794 531 \nz\n\" transform=\"scale(0.015625)\"/>\n       </defs>\n       <use xlink:href=\"#DejaVuSans-31\"/>\n       <use xlink:href=\"#DejaVuSans-30\" x=\"63.623047\"/>\n      </g>\n     </g>\n    </g>\n    <g id=\"text_7\">\n     <!-- epoch -->\n     <g transform=\"translate(112.525 174.076563) scale(0.1 -0.1)\">\n      <defs>\n       <path id=\"DejaVuSans-65\" d=\"M 3597 1894 \nL 3597 1613 \nL 953 1613 \nQ 991 1019 1311 708 \nQ 1631 397 2203 397 \nQ 2534 397 2845 478 \nQ 3156 559 3463 722 \nL 3463 178 \nQ 3153 47 2828 -22 \nQ 2503 -91 2169 -91 \nQ 1331 -91 842 396 \nQ 353 884 353 1716 \nQ 353 2575 817 3079 \nQ 1281 3584 2069 3584 \nQ 2775 3584 3186 3129 \nQ 3597 2675 3597 1894 \nz\nM 3022 2063 \nQ 3016 2534 2758 2815 \nQ 2500 3097 2075 3097 \nQ 1594 3097 1305 2825 \nQ 1016 2553 972 2059 \nL 3022 2063 \nz\n\" transform=\"scale(0.015625)\"/>\n       <path id=\"DejaVuSans-70\" d=\"M 1159 525 \nL 1159 -1331 \nL 581 -1331 \nL 581 3500 \nL 1159 3500 \nL 1159 2969 \nQ 1341 3281 1617 3432 \nQ 1894 3584 2278 3584 \nQ 2916 3584 3314 3078 \nQ 3713 2572 3713 1747 \nQ 3713 922 3314 415 \nQ 2916 -91 2278 -91 \nQ 1894 -91 1617 61 \nQ 1341 213 1159 525 \nz\nM 3116 1747 \nQ 3116 2381 2855 2742 \nQ 2594 3103 2138 3103 \nQ 1681 3103 1420 2742 \nQ 1159 2381 1159 1747 \nQ 1159 1113 1420 752 \nQ 1681 391 2138 391 \nQ 2594 391 2855 752 \nQ 3116 1113 3116 1747 \nz\n\" transform=\"scale(0.015625)\"/>\n       <path id=\"DejaVuSans-6f\" d=\"M 1959 3097 \nQ 1497 3097 1228 2736 \nQ 959 2375 959 1747 \nQ 959 1119 1226 758 \nQ 1494 397 1959 397 \nQ 2419 397 2687 759 \nQ 2956 1122 2956 1747 \nQ 2956 2369 2687 2733 \nQ 2419 3097 1959 3097 \nz\nM 1959 3584 \nQ 2709 3584 3137 3096 \nQ 3566 2609 3566 1747 \nQ 3566 888 3137 398 \nQ 2709 -91 1959 -91 \nQ 1206 -91 779 398 \nQ 353 888 353 1747 \nQ 353 2609 779 3096 \nQ 1206 3584 1959 3584 \nz\n\" transform=\"scale(0.015625)\"/>\n       <path id=\"DejaVuSans-63\" d=\"M 3122 3366 \nL 3122 2828 \nQ 2878 2963 2633 3030 \nQ 2388 3097 2138 3097 \nQ 1578 3097 1268 2742 \nQ 959 2388 959 1747 \nQ 959 1106 1268 751 \nQ 1578 397 2138 397 \nQ 2388 397 2633 464 \nQ 2878 531 3122 666 \nL 3122 134 \nQ 2881 22 2623 -34 \nQ 2366 -91 2075 -91 \nQ 1284 -91 818 406 \nQ 353 903 353 1747 \nQ 353 2603 823 3093 \nQ 1294 3584 2113 3584 \nQ 2378 3584 2631 3529 \nQ 2884 3475 3122 3366 \nz\n\" transform=\"scale(0.015625)\"/>\n       <path id=\"DejaVuSans-68\" d=\"M 3513 2113 \nL 3513 0 \nL 2938 0 \nL 2938 2094 \nQ 2938 2591 2744 2837 \nQ 2550 3084 2163 3084 \nQ 1697 3084 1428 2787 \nQ 1159 2491 1159 1978 \nL 1159 0 \nL 581 0 \nL 581 4863 \nL 1159 4863 \nL 1159 2956 \nQ 1366 3272 1645 3428 \nQ 1925 3584 2291 3584 \nQ 2894 3584 3203 3211 \nQ 3513 2838 3513 2113 \nz\n\" transform=\"scale(0.015625)\"/>\n      </defs>\n      <use xlink:href=\"#DejaVuSans-65\"/>\n      <use xlink:href=\"#DejaVuSans-70\" x=\"61.523438\"/>\n      <use xlink:href=\"#DejaVuSans-6f\" x=\"125\"/>\n      <use xlink:href=\"#DejaVuSans-63\" x=\"186.181641\"/>\n      <use xlink:href=\"#DejaVuSans-68\" x=\"241.162109\"/>\n     </g>\n    </g>\n   </g>\n   <g id=\"matplotlib.axis_2\">\n    <g id=\"ytick_1\">\n     <g id=\"line2d_7\">\n      <defs>\n       <path id=\"mc5b5da0a2e\" d=\"M 0 0 \nL -3.5 0 \n\" style=\"stroke: #000000; stroke-width: 0.8\"/>\n      </defs>\n      <g>\n       <use xlink:href=\"#mc5b5da0a2e\" x=\"30.103125\" y=\"120.907649\" style=\"stroke: #000000; stroke-width: 0.8\"/>\n      </g>\n     </g>\n     <g id=\"text_8\">\n      <!-- 0.4 -->\n      <g transform=\"translate(7.2 124.706868) scale(0.1 -0.1)\">\n       <defs>\n        <path id=\"DejaVuSans-2e\" d=\"M 684 794 \nL 1344 794 \nL 1344 0 \nL 684 0 \nL 684 794 \nz\n\" transform=\"scale(0.015625)\"/>\n       </defs>\n       <use xlink:href=\"#DejaVuSans-30\"/>\n       <use xlink:href=\"#DejaVuSans-2e\" x=\"63.623047\"/>\n       <use xlink:href=\"#DejaVuSans-34\" x=\"95.410156\"/>\n      </g>\n     </g>\n    </g>\n    <g id=\"ytick_2\">\n     <g id=\"line2d_8\">\n      <g>\n       <use xlink:href=\"#mc5b5da0a2e\" x=\"30.103125\" y=\"79.879403\" style=\"stroke: #000000; stroke-width: 0.8\"/>\n      </g>\n     </g>\n     <g id=\"text_9\">\n      <!-- 0.6 -->\n      <g transform=\"translate(7.2 83.678622) scale(0.1 -0.1)\">\n       <use xlink:href=\"#DejaVuSans-30\"/>\n       <use xlink:href=\"#DejaVuSans-2e\" x=\"63.623047\"/>\n       <use xlink:href=\"#DejaVuSans-36\" x=\"95.410156\"/>\n      </g>\n     </g>\n    </g>\n    <g id=\"ytick_3\">\n     <g id=\"line2d_9\">\n      <g>\n       <use xlink:href=\"#mc5b5da0a2e\" x=\"30.103125\" y=\"38.851158\" style=\"stroke: #000000; stroke-width: 0.8\"/>\n      </g>\n     </g>\n     <g id=\"text_10\">\n      <!-- 0.8 -->\n      <g transform=\"translate(7.2 42.650377) scale(0.1 -0.1)\">\n       <use xlink:href=\"#DejaVuSans-30\"/>\n       <use xlink:href=\"#DejaVuSans-2e\" x=\"63.623047\"/>\n       <use xlink:href=\"#DejaVuSans-38\" x=\"95.410156\"/>\n      </g>\n     </g>\n    </g>\n   </g>\n   <g id=\"line2d_10\">\n    <path d=\"M 34.954394 13.5 \n\" clip-path=\"url(#pb68af76169)\" style=\"fill: none; stroke: #1f77b4; stroke-width: 1.5; stroke-linecap: square\"/>\n   </g>\n   <g id=\"line2d_11\">\n    <path d=\"M 34.954394 13.5 \nL 44.698573 79.676865 \n\" clip-path=\"url(#pb68af76169)\" style=\"fill: none; stroke: #1f77b4; stroke-width: 1.5; stroke-linecap: square\"/>\n   </g>\n   <g id=\"line2d_12\">\n    <path d=\"M 34.954394 13.5 \nL 44.698573 79.676865 \n\" clip-path=\"url(#pb68af76169)\" style=\"fill: none; stroke: #1f77b4; stroke-width: 1.5; stroke-linecap: square\"/>\n   </g>\n   <g id=\"line2d_13\">\n    <path d=\"M 49.633125 86.300969 \n\" clip-path=\"url(#pb68af76169)\" style=\"fill: none; stroke-dasharray: 5.55,2.4; stroke-dashoffset: 0; stroke: #ff7f0e; stroke-width: 1.5\"/>\n   </g>\n   <g id=\"line2d_14\"/>\n   <g id=\"line2d_15\">\n    <path d=\"M 34.954394 13.5 \nL 44.698573 79.676865 \n\" clip-path=\"url(#pb68af76169)\" style=\"fill: none; stroke: #1f77b4; stroke-width: 1.5; stroke-linecap: square\"/>\n   </g>\n   <g id=\"line2d_16\">\n    <path d=\"M 49.633125 86.300969 \n\" clip-path=\"url(#pb68af76169)\" style=\"fill: none; stroke-dasharray: 5.55,2.4; stroke-dashoffset: 0; stroke: #ff7f0e; stroke-width: 1.5\"/>\n   </g>\n   <g id=\"line2d_17\">\n    <path d=\"M 49.633125 37.706976 \n\" clip-path=\"url(#pb68af76169)\" style=\"fill: none; stroke-dasharray: 9.6,2.4,1.5,2.4; stroke-dashoffset: 0; stroke: #2ca02c; stroke-width: 1.5\"/>\n   </g>\n   <g id=\"line2d_18\">\n    <path d=\"M 34.954394 13.5 \nL 44.698573 79.676865 \nL 54.442752 95.928855 \n\" clip-path=\"url(#pb68af76169)\" style=\"fill: none; stroke: #1f77b4; stroke-width: 1.5; stroke-linecap: square\"/>\n   </g>\n   <g id=\"line2d_19\">\n    <path d=\"M 49.633125 86.300969 \n\" clip-path=\"url(#pb68af76169)\" style=\"fill: none; stroke-dasharray: 5.55,2.4; stroke-dashoffset: 0; stroke: #ff7f0e; stroke-width: 1.5\"/>\n   </g>\n   <g id=\"line2d_20\">\n    <path d=\"M 49.633125 37.706976 \n\" clip-path=\"url(#pb68af76169)\" style=\"fill: none; stroke-dasharray: 9.6,2.4,1.5,2.4; stroke-dashoffset: 0; stroke: #2ca02c; stroke-width: 1.5\"/>\n   </g>\n   <g id=\"line2d_21\">\n    <path d=\"M 34.954394 13.5 \nL 44.698573 79.676865 \nL 54.442752 95.928855 \nL 64.186931 104.514958 \n\" clip-path=\"url(#pb68af76169)\" style=\"fill: none; stroke: #1f77b4; stroke-width: 1.5; stroke-linecap: square\"/>\n   </g>\n   <g id=\"line2d_22\">\n    <path d=\"M 49.633125 86.300969 \n\" clip-path=\"url(#pb68af76169)\" style=\"fill: none; stroke-dasharray: 5.55,2.4; stroke-dashoffset: 0; stroke: #ff7f0e; stroke-width: 1.5\"/>\n   </g>\n   <g id=\"line2d_23\">\n    <path d=\"M 49.633125 37.706976 \n\" clip-path=\"url(#pb68af76169)\" style=\"fill: none; stroke-dasharray: 9.6,2.4,1.5,2.4; stroke-dashoffset: 0; stroke: #2ca02c; stroke-width: 1.5\"/>\n   </g>\n   <g id=\"line2d_24\">\n    <path d=\"M 34.954394 13.5 \nL 44.698573 79.676865 \nL 54.442752 95.928855 \nL 64.186931 104.514958 \n\" clip-path=\"url(#pb68af76169)\" style=\"fill: none; stroke: #1f77b4; stroke-width: 1.5; stroke-linecap: square\"/>\n   </g>\n   <g id=\"line2d_25\">\n    <path d=\"M 49.633125 86.300969 \nL 69.163125 100.863221 \n\" clip-path=\"url(#pb68af76169)\" style=\"fill: none; stroke-dasharray: 5.55,2.4; stroke-dashoffset: 0; stroke: #ff7f0e; stroke-width: 1.5\"/>\n   </g>\n   <g id=\"line2d_26\">\n    <path d=\"M 49.633125 37.706976 \n\" clip-path=\"url(#pb68af76169)\" style=\"fill: none; stroke-dasharray: 9.6,2.4,1.5,2.4; stroke-dashoffset: 0; stroke: #2ca02c; stroke-width: 1.5\"/>\n   </g>\n   <g id=\"line2d_27\">\n    <path d=\"M 34.954394 13.5 \nL 44.698573 79.676865 \nL 54.442752 95.928855 \nL 64.186931 104.514958 \n\" clip-path=\"url(#pb68af76169)\" style=\"fill: none; stroke: #1f77b4; stroke-width: 1.5; stroke-linecap: square\"/>\n   </g>\n   <g id=\"line2d_28\">\n    <path d=\"M 49.633125 86.300969 \nL 69.163125 100.863221 \n\" clip-path=\"url(#pb68af76169)\" style=\"fill: none; stroke-dasharray: 5.55,2.4; stroke-dashoffset: 0; stroke: #ff7f0e; stroke-width: 1.5\"/>\n   </g>\n   <g id=\"line2d_29\">\n    <path d=\"M 49.633125 37.706976 \nL 69.163125 33.649594 \n\" clip-path=\"url(#pb68af76169)\" style=\"fill: none; stroke-dasharray: 9.6,2.4,1.5,2.4; stroke-dashoffset: 0; stroke: #2ca02c; stroke-width: 1.5\"/>\n   </g>\n   <g id=\"line2d_30\">\n    <path d=\"M 34.954394 13.5 \nL 44.698573 79.676865 \nL 54.442752 95.928855 \nL 64.186931 104.514958 \nL 73.93111 109.921382 \n\" clip-path=\"url(#pb68af76169)\" style=\"fill: none; stroke: #1f77b4; stroke-width: 1.5; stroke-linecap: square\"/>\n   </g>\n   <g id=\"line2d_31\">\n    <path d=\"M 49.633125 86.300969 \nL 69.163125 100.863221 \n\" clip-path=\"url(#pb68af76169)\" style=\"fill: none; stroke-dasharray: 5.55,2.4; stroke-dashoffset: 0; stroke: #ff7f0e; stroke-width: 1.5\"/>\n   </g>\n   <g id=\"line2d_32\">\n    <path d=\"M 49.633125 37.706976 \nL 69.163125 33.649594 \n\" clip-path=\"url(#pb68af76169)\" style=\"fill: none; stroke-dasharray: 9.6,2.4,1.5,2.4; stroke-dashoffset: 0; stroke: #2ca02c; stroke-width: 1.5\"/>\n   </g>\n   <g id=\"line2d_33\">\n    <path d=\"M 34.954394 13.5 \nL 44.698573 79.676865 \nL 54.442752 95.928855 \nL 64.186931 104.514958 \nL 73.93111 109.921382 \nL 83.675289 113.708945 \n\" clip-path=\"url(#pb68af76169)\" style=\"fill: none; stroke: #1f77b4; stroke-width: 1.5; stroke-linecap: square\"/>\n   </g>\n   <g id=\"line2d_34\">\n    <path d=\"M 49.633125 86.300969 \nL 69.163125 100.863221 \n\" clip-path=\"url(#pb68af76169)\" style=\"fill: none; stroke-dasharray: 5.55,2.4; stroke-dashoffset: 0; stroke: #ff7f0e; stroke-width: 1.5\"/>\n   </g>\n   <g id=\"line2d_35\">\n    <path d=\"M 49.633125 37.706976 \nL 69.163125 33.649594 \n\" clip-path=\"url(#pb68af76169)\" style=\"fill: none; stroke-dasharray: 9.6,2.4,1.5,2.4; stroke-dashoffset: 0; stroke: #2ca02c; stroke-width: 1.5\"/>\n   </g>\n   <g id=\"line2d_36\">\n    <path d=\"M 34.954394 13.5 \nL 44.698573 79.676865 \nL 54.442752 95.928855 \nL 64.186931 104.514958 \nL 73.93111 109.921382 \nL 83.675289 113.708945 \n\" clip-path=\"url(#pb68af76169)\" style=\"fill: none; stroke: #1f77b4; stroke-width: 1.5; stroke-linecap: square\"/>\n   </g>\n   <g id=\"line2d_37\">\n    <path d=\"M 49.633125 86.300969 \nL 69.163125 100.863221 \nL 88.693125 101.915171 \n\" clip-path=\"url(#pb68af76169)\" style=\"fill: none; stroke-dasharray: 5.55,2.4; stroke-dashoffset: 0; stroke: #ff7f0e; stroke-width: 1.5\"/>\n   </g>\n   <g id=\"line2d_38\">\n    <path d=\"M 49.633125 37.706976 \nL 69.163125 33.649594 \n\" clip-path=\"url(#pb68af76169)\" style=\"fill: none; stroke-dasharray: 9.6,2.4,1.5,2.4; stroke-dashoffset: 0; stroke: #2ca02c; stroke-width: 1.5\"/>\n   </g>\n   <g id=\"line2d_39\">\n    <path d=\"M 34.954394 13.5 \nL 44.698573 79.676865 \nL 54.442752 95.928855 \nL 64.186931 104.514958 \nL 73.93111 109.921382 \nL 83.675289 113.708945 \n\" clip-path=\"url(#pb68af76169)\" style=\"fill: none; stroke: #1f77b4; stroke-width: 1.5; stroke-linecap: square\"/>\n   </g>\n   <g id=\"line2d_40\">\n    <path d=\"M 49.633125 86.300969 \nL 69.163125 100.863221 \nL 88.693125 101.915171 \n\" clip-path=\"url(#pb68af76169)\" style=\"fill: none; stroke-dasharray: 5.55,2.4; stroke-dashoffset: 0; stroke: #ff7f0e; stroke-width: 1.5\"/>\n   </g>\n   <g id=\"line2d_41\">\n    <path d=\"M 49.633125 37.706976 \nL 69.163125 33.649594 \nL 88.693125 35.455129 \n\" clip-path=\"url(#pb68af76169)\" style=\"fill: none; stroke-dasharray: 9.6,2.4,1.5,2.4; stroke-dashoffset: 0; stroke: #2ca02c; stroke-width: 1.5\"/>\n   </g>\n   <g id=\"line2d_42\">\n    <path d=\"M 34.954394 13.5 \nL 44.698573 79.676865 \nL 54.442752 95.928855 \nL 64.186931 104.514958 \nL 73.93111 109.921382 \nL 83.675289 113.708945 \nL 93.419468 115.629691 \n\" clip-path=\"url(#pb68af76169)\" style=\"fill: none; stroke: #1f77b4; stroke-width: 1.5; stroke-linecap: square\"/>\n   </g>\n   <g id=\"line2d_43\">\n    <path d=\"M 49.633125 86.300969 \nL 69.163125 100.863221 \nL 88.693125 101.915171 \n\" clip-path=\"url(#pb68af76169)\" style=\"fill: none; stroke-dasharray: 5.55,2.4; stroke-dashoffset: 0; stroke: #ff7f0e; stroke-width: 1.5\"/>\n   </g>\n   <g id=\"line2d_44\">\n    <path d=\"M 49.633125 37.706976 \nL 69.163125 33.649594 \nL 88.693125 35.455129 \n\" clip-path=\"url(#pb68af76169)\" style=\"fill: none; stroke-dasharray: 9.6,2.4,1.5,2.4; stroke-dashoffset: 0; stroke: #2ca02c; stroke-width: 1.5\"/>\n   </g>\n   <g id=\"line2d_45\">\n    <path d=\"M 34.954394 13.5 \nL 44.698573 79.676865 \nL 54.442752 95.928855 \nL 64.186931 104.514958 \nL 73.93111 109.921382 \nL 83.675289 113.708945 \nL 93.419468 115.629691 \nL 103.163647 121.284356 \n\" clip-path=\"url(#pb68af76169)\" style=\"fill: none; stroke: #1f77b4; stroke-width: 1.5; stroke-linecap: square\"/>\n   </g>\n   <g id=\"line2d_46\">\n    <path d=\"M 49.633125 86.300969 \nL 69.163125 100.863221 \nL 88.693125 101.915171 \n\" clip-path=\"url(#pb68af76169)\" style=\"fill: none; stroke-dasharray: 5.55,2.4; stroke-dashoffset: 0; stroke: #ff7f0e; stroke-width: 1.5\"/>\n   </g>\n   <g id=\"line2d_47\">\n    <path d=\"M 49.633125 37.706976 \nL 69.163125 33.649594 \nL 88.693125 35.455129 \n\" clip-path=\"url(#pb68af76169)\" style=\"fill: none; stroke-dasharray: 9.6,2.4,1.5,2.4; stroke-dashoffset: 0; stroke: #2ca02c; stroke-width: 1.5\"/>\n   </g>\n   <g id=\"line2d_48\">\n    <path d=\"M 34.954394 13.5 \nL 44.698573 79.676865 \nL 54.442752 95.928855 \nL 64.186931 104.514958 \nL 73.93111 109.921382 \nL 83.675289 113.708945 \nL 93.419468 115.629691 \nL 103.163647 121.284356 \n\" clip-path=\"url(#pb68af76169)\" style=\"fill: none; stroke: #1f77b4; stroke-width: 1.5; stroke-linecap: square\"/>\n   </g>\n   <g id=\"line2d_49\">\n    <path d=\"M 49.633125 86.300969 \nL 69.163125 100.863221 \nL 88.693125 101.915171 \nL 108.223125 98.896184 \n\" clip-path=\"url(#pb68af76169)\" style=\"fill: none; stroke-dasharray: 5.55,2.4; stroke-dashoffset: 0; stroke: #ff7f0e; stroke-width: 1.5\"/>\n   </g>\n   <g id=\"line2d_50\">\n    <path d=\"M 49.633125 37.706976 \nL 69.163125 33.649594 \nL 88.693125 35.455129 \n\" clip-path=\"url(#pb68af76169)\" style=\"fill: none; stroke-dasharray: 9.6,2.4,1.5,2.4; stroke-dashoffset: 0; stroke: #2ca02c; stroke-width: 1.5\"/>\n   </g>\n   <g id=\"line2d_51\">\n    <path d=\"M 34.954394 13.5 \nL 44.698573 79.676865 \nL 54.442752 95.928855 \nL 64.186931 104.514958 \nL 73.93111 109.921382 \nL 83.675289 113.708945 \nL 93.419468 115.629691 \nL 103.163647 121.284356 \n\" clip-path=\"url(#pb68af76169)\" style=\"fill: none; stroke: #1f77b4; stroke-width: 1.5; stroke-linecap: square\"/>\n   </g>\n   <g id=\"line2d_52\">\n    <path d=\"M 49.633125 86.300969 \nL 69.163125 100.863221 \nL 88.693125 101.915171 \nL 108.223125 98.896184 \n\" clip-path=\"url(#pb68af76169)\" style=\"fill: none; stroke-dasharray: 5.55,2.4; stroke-dashoffset: 0; stroke: #ff7f0e; stroke-width: 1.5\"/>\n   </g>\n   <g id=\"line2d_53\">\n    <path d=\"M 49.633125 37.706976 \nL 69.163125 33.649594 \nL 88.693125 35.455129 \nL 108.223125 33.933611 \n\" clip-path=\"url(#pb68af76169)\" style=\"fill: none; stroke-dasharray: 9.6,2.4,1.5,2.4; stroke-dashoffset: 0; stroke: #2ca02c; stroke-width: 1.5\"/>\n   </g>\n   <g id=\"line2d_54\">\n    <path d=\"M 34.954394 13.5 \nL 44.698573 79.676865 \nL 54.442752 95.928855 \nL 64.186931 104.514958 \nL 73.93111 109.921382 \nL 83.675289 113.708945 \nL 93.419468 115.629691 \nL 103.163647 121.284356 \nL 112.907826 124.124657 \n\" clip-path=\"url(#pb68af76169)\" style=\"fill: none; stroke: #1f77b4; stroke-width: 1.5; stroke-linecap: square\"/>\n   </g>\n   <g id=\"line2d_55\">\n    <path d=\"M 49.633125 86.300969 \nL 69.163125 100.863221 \nL 88.693125 101.915171 \nL 108.223125 98.896184 \n\" clip-path=\"url(#pb68af76169)\" style=\"fill: none; stroke-dasharray: 5.55,2.4; stroke-dashoffset: 0; stroke: #ff7f0e; stroke-width: 1.5\"/>\n   </g>\n   <g id=\"line2d_56\">\n    <path d=\"M 49.633125 37.706976 \nL 69.163125 33.649594 \nL 88.693125 35.455129 \nL 108.223125 33.933611 \n\" clip-path=\"url(#pb68af76169)\" style=\"fill: none; stroke-dasharray: 9.6,2.4,1.5,2.4; stroke-dashoffset: 0; stroke: #2ca02c; stroke-width: 1.5\"/>\n   </g>\n   <g id=\"line2d_57\">\n    <path d=\"M 34.954394 13.5 \nL 44.698573 79.676865 \nL 54.442752 95.928855 \nL 64.186931 104.514958 \nL 73.93111 109.921382 \nL 83.675289 113.708945 \nL 93.419468 115.629691 \nL 103.163647 121.284356 \nL 112.907826 124.124657 \nL 122.652006 123.23222 \n\" clip-path=\"url(#pb68af76169)\" style=\"fill: none; stroke: #1f77b4; stroke-width: 1.5; stroke-linecap: square\"/>\n   </g>\n   <g id=\"line2d_58\">\n    <path d=\"M 49.633125 86.300969 \nL 69.163125 100.863221 \nL 88.693125 101.915171 \nL 108.223125 98.896184 \n\" clip-path=\"url(#pb68af76169)\" style=\"fill: none; stroke-dasharray: 5.55,2.4; stroke-dashoffset: 0; stroke: #ff7f0e; stroke-width: 1.5\"/>\n   </g>\n   <g id=\"line2d_59\">\n    <path d=\"M 49.633125 37.706976 \nL 69.163125 33.649594 \nL 88.693125 35.455129 \nL 108.223125 33.933611 \n\" clip-path=\"url(#pb68af76169)\" style=\"fill: none; stroke-dasharray: 9.6,2.4,1.5,2.4; stroke-dashoffset: 0; stroke: #2ca02c; stroke-width: 1.5\"/>\n   </g>\n   <g id=\"line2d_60\">\n    <path d=\"M 34.954394 13.5 \nL 44.698573 79.676865 \nL 54.442752 95.928855 \nL 64.186931 104.514958 \nL 73.93111 109.921382 \nL 83.675289 113.708945 \nL 93.419468 115.629691 \nL 103.163647 121.284356 \nL 112.907826 124.124657 \nL 122.652006 123.23222 \n\" clip-path=\"url(#pb68af76169)\" style=\"fill: none; stroke: #1f77b4; stroke-width: 1.5; stroke-linecap: square\"/>\n   </g>\n   <g id=\"line2d_61\">\n    <path d=\"M 49.633125 86.300969 \nL 69.163125 100.863221 \nL 88.693125 101.915171 \nL 108.223125 98.896184 \nL 127.753125 117.53457 \n\" clip-path=\"url(#pb68af76169)\" style=\"fill: none; stroke-dasharray: 5.55,2.4; stroke-dashoffset: 0; stroke: #ff7f0e; stroke-width: 1.5\"/>\n   </g>\n   <g id=\"line2d_62\">\n    <path d=\"M 49.633125 37.706976 \nL 69.163125 33.649594 \nL 88.693125 35.455129 \nL 108.223125 33.933611 \n\" clip-path=\"url(#pb68af76169)\" style=\"fill: none; stroke-dasharray: 9.6,2.4,1.5,2.4; stroke-dashoffset: 0; stroke: #2ca02c; stroke-width: 1.5\"/>\n   </g>\n   <g id=\"line2d_63\">\n    <path d=\"M 34.954394 13.5 \nL 44.698573 79.676865 \nL 54.442752 95.928855 \nL 64.186931 104.514958 \nL 73.93111 109.921382 \nL 83.675289 113.708945 \nL 93.419468 115.629691 \nL 103.163647 121.284356 \nL 112.907826 124.124657 \nL 122.652006 123.23222 \n\" clip-path=\"url(#pb68af76169)\" style=\"fill: none; stroke: #1f77b4; stroke-width: 1.5; stroke-linecap: square\"/>\n   </g>\n   <g id=\"line2d_64\">\n    <path d=\"M 49.633125 86.300969 \nL 69.163125 100.863221 \nL 88.693125 101.915171 \nL 108.223125 98.896184 \nL 127.753125 117.53457 \n\" clip-path=\"url(#pb68af76169)\" style=\"fill: none; stroke-dasharray: 5.55,2.4; stroke-dashoffset: 0; stroke: #ff7f0e; stroke-width: 1.5\"/>\n   </g>\n   <g id=\"line2d_65\">\n    <path d=\"M 49.633125 37.706976 \nL 69.163125 33.649594 \nL 88.693125 35.455129 \nL 108.223125 33.933611 \nL 127.753125 28.476432 \n\" clip-path=\"url(#pb68af76169)\" style=\"fill: none; stroke-dasharray: 9.6,2.4,1.5,2.4; stroke-dashoffset: 0; stroke: #2ca02c; stroke-width: 1.5\"/>\n   </g>\n   <g id=\"line2d_66\">\n    <path d=\"M 34.954394 13.5 \nL 44.698573 79.676865 \nL 54.442752 95.928855 \nL 64.186931 104.514958 \nL 73.93111 109.921382 \nL 83.675289 113.708945 \nL 93.419468 115.629691 \nL 103.163647 121.284356 \nL 112.907826 124.124657 \nL 122.652006 123.23222 \nL 132.396185 127.249616 \n\" clip-path=\"url(#pb68af76169)\" style=\"fill: none; stroke: #1f77b4; stroke-width: 1.5; stroke-linecap: square\"/>\n   </g>\n   <g id=\"line2d_67\">\n    <path d=\"M 49.633125 86.300969 \nL 69.163125 100.863221 \nL 88.693125 101.915171 \nL 108.223125 98.896184 \nL 127.753125 117.53457 \n\" clip-path=\"url(#pb68af76169)\" style=\"fill: none; stroke-dasharray: 5.55,2.4; stroke-dashoffset: 0; stroke: #ff7f0e; stroke-width: 1.5\"/>\n   </g>\n   <g id=\"line2d_68\">\n    <path d=\"M 49.633125 37.706976 \nL 69.163125 33.649594 \nL 88.693125 35.455129 \nL 108.223125 33.933611 \nL 127.753125 28.476432 \n\" clip-path=\"url(#pb68af76169)\" style=\"fill: none; stroke-dasharray: 9.6,2.4,1.5,2.4; stroke-dashoffset: 0; stroke: #2ca02c; stroke-width: 1.5\"/>\n   </g>\n   <g id=\"line2d_69\">\n    <path d=\"M 34.954394 13.5 \nL 44.698573 79.676865 \nL 54.442752 95.928855 \nL 64.186931 104.514958 \nL 73.93111 109.921382 \nL 83.675289 113.708945 \nL 93.419468 115.629691 \nL 103.163647 121.284356 \nL 112.907826 124.124657 \nL 122.652006 123.23222 \nL 132.396185 127.249616 \nL 142.140364 127.560149 \n\" clip-path=\"url(#pb68af76169)\" style=\"fill: none; stroke: #1f77b4; stroke-width: 1.5; stroke-linecap: square\"/>\n   </g>\n   <g id=\"line2d_70\">\n    <path d=\"M 49.633125 86.300969 \nL 69.163125 100.863221 \nL 88.693125 101.915171 \nL 108.223125 98.896184 \nL 127.753125 117.53457 \n\" clip-path=\"url(#pb68af76169)\" style=\"fill: none; stroke-dasharray: 5.55,2.4; stroke-dashoffset: 0; stroke: #ff7f0e; stroke-width: 1.5\"/>\n   </g>\n   <g id=\"line2d_71\">\n    <path d=\"M 49.633125 37.706976 \nL 69.163125 33.649594 \nL 88.693125 35.455129 \nL 108.223125 33.933611 \nL 127.753125 28.476432 \n\" clip-path=\"url(#pb68af76169)\" style=\"fill: none; stroke-dasharray: 9.6,2.4,1.5,2.4; stroke-dashoffset: 0; stroke: #2ca02c; stroke-width: 1.5\"/>\n   </g>\n   <g id=\"line2d_72\">\n    <path d=\"M 34.954394 13.5 \nL 44.698573 79.676865 \nL 54.442752 95.928855 \nL 64.186931 104.514958 \nL 73.93111 109.921382 \nL 83.675289 113.708945 \nL 93.419468 115.629691 \nL 103.163647 121.284356 \nL 112.907826 124.124657 \nL 122.652006 123.23222 \nL 132.396185 127.249616 \nL 142.140364 127.560149 \n\" clip-path=\"url(#pb68af76169)\" style=\"fill: none; stroke: #1f77b4; stroke-width: 1.5; stroke-linecap: square\"/>\n   </g>\n   <g id=\"line2d_73\">\n    <path d=\"M 49.633125 86.300969 \nL 69.163125 100.863221 \nL 88.693125 101.915171 \nL 108.223125 98.896184 \nL 127.753125 117.53457 \nL 147.283125 121.988047 \n\" clip-path=\"url(#pb68af76169)\" style=\"fill: none; stroke-dasharray: 5.55,2.4; stroke-dashoffset: 0; stroke: #ff7f0e; stroke-width: 1.5\"/>\n   </g>\n   <g id=\"line2d_74\">\n    <path d=\"M 49.633125 37.706976 \nL 69.163125 33.649594 \nL 88.693125 35.455129 \nL 108.223125 33.933611 \nL 127.753125 28.476432 \n\" clip-path=\"url(#pb68af76169)\" style=\"fill: none; stroke-dasharray: 9.6,2.4,1.5,2.4; stroke-dashoffset: 0; stroke: #2ca02c; stroke-width: 1.5\"/>\n   </g>\n   <g id=\"line2d_75\">\n    <path d=\"M 34.954394 13.5 \nL 44.698573 79.676865 \nL 54.442752 95.928855 \nL 64.186931 104.514958 \nL 73.93111 109.921382 \nL 83.675289 113.708945 \nL 93.419468 115.629691 \nL 103.163647 121.284356 \nL 112.907826 124.124657 \nL 122.652006 123.23222 \nL 132.396185 127.249616 \nL 142.140364 127.560149 \n\" clip-path=\"url(#pb68af76169)\" style=\"fill: none; stroke: #1f77b4; stroke-width: 1.5; stroke-linecap: square\"/>\n   </g>\n   <g id=\"line2d_76\">\n    <path d=\"M 49.633125 86.300969 \nL 69.163125 100.863221 \nL 88.693125 101.915171 \nL 108.223125 98.896184 \nL 127.753125 117.53457 \nL 147.283125 121.988047 \n\" clip-path=\"url(#pb68af76169)\" style=\"fill: none; stroke-dasharray: 5.55,2.4; stroke-dashoffset: 0; stroke: #ff7f0e; stroke-width: 1.5\"/>\n   </g>\n   <g id=\"line2d_77\">\n    <path d=\"M 49.633125 37.706976 \nL 69.163125 33.649594 \nL 88.693125 35.455129 \nL 108.223125 33.933611 \nL 127.753125 28.476432 \nL 147.283125 27.624382 \n\" clip-path=\"url(#pb68af76169)\" style=\"fill: none; stroke-dasharray: 9.6,2.4,1.5,2.4; stroke-dashoffset: 0; stroke: #2ca02c; stroke-width: 1.5\"/>\n   </g>\n   <g id=\"line2d_78\">\n    <path d=\"M 34.954394 13.5 \nL 44.698573 79.676865 \nL 54.442752 95.928855 \nL 64.186931 104.514958 \nL 73.93111 109.921382 \nL 83.675289 113.708945 \nL 93.419468 115.629691 \nL 103.163647 121.284356 \nL 112.907826 124.124657 \nL 122.652006 123.23222 \nL 132.396185 127.249616 \nL 142.140364 127.560149 \nL 151.884543 130.098874 \n\" clip-path=\"url(#pb68af76169)\" style=\"fill: none; stroke: #1f77b4; stroke-width: 1.5; stroke-linecap: square\"/>\n   </g>\n   <g id=\"line2d_79\">\n    <path d=\"M 49.633125 86.300969 \nL 69.163125 100.863221 \nL 88.693125 101.915171 \nL 108.223125 98.896184 \nL 127.753125 117.53457 \nL 147.283125 121.988047 \n\" clip-path=\"url(#pb68af76169)\" style=\"fill: none; stroke-dasharray: 5.55,2.4; stroke-dashoffset: 0; stroke: #ff7f0e; stroke-width: 1.5\"/>\n   </g>\n   <g id=\"line2d_80\">\n    <path d=\"M 49.633125 37.706976 \nL 69.163125 33.649594 \nL 88.693125 35.455129 \nL 108.223125 33.933611 \nL 127.753125 28.476432 \nL 147.283125 27.624382 \n\" clip-path=\"url(#pb68af76169)\" style=\"fill: none; stroke-dasharray: 9.6,2.4,1.5,2.4; stroke-dashoffset: 0; stroke: #2ca02c; stroke-width: 1.5\"/>\n   </g>\n   <g id=\"line2d_81\">\n    <path d=\"M 34.954394 13.5 \nL 44.698573 79.676865 \nL 54.442752 95.928855 \nL 64.186931 104.514958 \nL 73.93111 109.921382 \nL 83.675289 113.708945 \nL 93.419468 115.629691 \nL 103.163647 121.284356 \nL 112.907826 124.124657 \nL 122.652006 123.23222 \nL 132.396185 127.249616 \nL 142.140364 127.560149 \nL 151.884543 130.098874 \nL 161.628722 131.969672 \n\" clip-path=\"url(#pb68af76169)\" style=\"fill: none; stroke: #1f77b4; stroke-width: 1.5; stroke-linecap: square\"/>\n   </g>\n   <g id=\"line2d_82\">\n    <path d=\"M 49.633125 86.300969 \nL 69.163125 100.863221 \nL 88.693125 101.915171 \nL 108.223125 98.896184 \nL 127.753125 117.53457 \nL 147.283125 121.988047 \n\" clip-path=\"url(#pb68af76169)\" style=\"fill: none; stroke-dasharray: 5.55,2.4; stroke-dashoffset: 0; stroke: #ff7f0e; stroke-width: 1.5\"/>\n   </g>\n   <g id=\"line2d_83\">\n    <path d=\"M 49.633125 37.706976 \nL 69.163125 33.649594 \nL 88.693125 35.455129 \nL 108.223125 33.933611 \nL 127.753125 28.476432 \nL 147.283125 27.624382 \n\" clip-path=\"url(#pb68af76169)\" style=\"fill: none; stroke-dasharray: 9.6,2.4,1.5,2.4; stroke-dashoffset: 0; stroke: #2ca02c; stroke-width: 1.5\"/>\n   </g>\n   <g id=\"line2d_84\">\n    <path d=\"M 34.954394 13.5 \nL 44.698573 79.676865 \nL 54.442752 95.928855 \nL 64.186931 104.514958 \nL 73.93111 109.921382 \nL 83.675289 113.708945 \nL 93.419468 115.629691 \nL 103.163647 121.284356 \nL 112.907826 124.124657 \nL 122.652006 123.23222 \nL 132.396185 127.249616 \nL 142.140364 127.560149 \nL 151.884543 130.098874 \nL 161.628722 131.969672 \n\" clip-path=\"url(#pb68af76169)\" style=\"fill: none; stroke: #1f77b4; stroke-width: 1.5; stroke-linecap: square\"/>\n   </g>\n   <g id=\"line2d_85\">\n    <path d=\"M 49.633125 86.300969 \nL 69.163125 100.863221 \nL 88.693125 101.915171 \nL 108.223125 98.896184 \nL 127.753125 117.53457 \nL 147.283125 121.988047 \nL 166.813125 115.799649 \n\" clip-path=\"url(#pb68af76169)\" style=\"fill: none; stroke-dasharray: 5.55,2.4; stroke-dashoffset: 0; stroke: #ff7f0e; stroke-width: 1.5\"/>\n   </g>\n   <g id=\"line2d_86\">\n    <path d=\"M 49.633125 37.706976 \nL 69.163125 33.649594 \nL 88.693125 35.455129 \nL 108.223125 33.933611 \nL 127.753125 28.476432 \nL 147.283125 27.624382 \n\" clip-path=\"url(#pb68af76169)\" style=\"fill: none; stroke-dasharray: 9.6,2.4,1.5,2.4; stroke-dashoffset: 0; stroke: #2ca02c; stroke-width: 1.5\"/>\n   </g>\n   <g id=\"line2d_87\">\n    <path d=\"M 34.954394 13.5 \nL 44.698573 79.676865 \nL 54.442752 95.928855 \nL 64.186931 104.514958 \nL 73.93111 109.921382 \nL 83.675289 113.708945 \nL 93.419468 115.629691 \nL 103.163647 121.284356 \nL 112.907826 124.124657 \nL 122.652006 123.23222 \nL 132.396185 127.249616 \nL 142.140364 127.560149 \nL 151.884543 130.098874 \nL 161.628722 131.969672 \n\" clip-path=\"url(#pb68af76169)\" style=\"fill: none; stroke: #1f77b4; stroke-width: 1.5; stroke-linecap: square\"/>\n   </g>\n   <g id=\"line2d_88\">\n    <path d=\"M 49.633125 86.300969 \nL 69.163125 100.863221 \nL 88.693125 101.915171 \nL 108.223125 98.896184 \nL 127.753125 117.53457 \nL 147.283125 121.988047 \nL 166.813125 115.799649 \n\" clip-path=\"url(#pb68af76169)\" style=\"fill: none; stroke-dasharray: 5.55,2.4; stroke-dashoffset: 0; stroke: #ff7f0e; stroke-width: 1.5\"/>\n   </g>\n   <g id=\"line2d_89\">\n    <path d=\"M 49.633125 37.706976 \nL 69.163125 33.649594 \nL 88.693125 35.455129 \nL 108.223125 33.933611 \nL 127.753125 28.476432 \nL 147.283125 27.624382 \nL 166.813125 30.20082 \n\" clip-path=\"url(#pb68af76169)\" style=\"fill: none; stroke-dasharray: 9.6,2.4,1.5,2.4; stroke-dashoffset: 0; stroke: #2ca02c; stroke-width: 1.5\"/>\n   </g>\n   <g id=\"line2d_90\">\n    <path d=\"M 34.954394 13.5 \nL 44.698573 79.676865 \nL 54.442752 95.928855 \nL 64.186931 104.514958 \nL 73.93111 109.921382 \nL 83.675289 113.708945 \nL 93.419468 115.629691 \nL 103.163647 121.284356 \nL 112.907826 124.124657 \nL 122.652006 123.23222 \nL 132.396185 127.249616 \nL 142.140364 127.560149 \nL 151.884543 130.098874 \nL 161.628722 131.969672 \nL 171.372901 134.355738 \n\" clip-path=\"url(#pb68af76169)\" style=\"fill: none; stroke: #1f77b4; stroke-width: 1.5; stroke-linecap: square\"/>\n   </g>\n   <g id=\"line2d_91\">\n    <path d=\"M 49.633125 86.300969 \nL 69.163125 100.863221 \nL 88.693125 101.915171 \nL 108.223125 98.896184 \nL 127.753125 117.53457 \nL 147.283125 121.988047 \nL 166.813125 115.799649 \n\" clip-path=\"url(#pb68af76169)\" style=\"fill: none; stroke-dasharray: 5.55,2.4; stroke-dashoffset: 0; stroke: #ff7f0e; stroke-width: 1.5\"/>\n   </g>\n   <g id=\"line2d_92\">\n    <path d=\"M 49.633125 37.706976 \nL 69.163125 33.649594 \nL 88.693125 35.455129 \nL 108.223125 33.933611 \nL 127.753125 28.476432 \nL 147.283125 27.624382 \nL 166.813125 30.20082 \n\" clip-path=\"url(#pb68af76169)\" style=\"fill: none; stroke-dasharray: 9.6,2.4,1.5,2.4; stroke-dashoffset: 0; stroke: #2ca02c; stroke-width: 1.5\"/>\n   </g>\n   <g id=\"line2d_93\">\n    <path d=\"M 34.954394 13.5 \nL 44.698573 79.676865 \nL 54.442752 95.928855 \nL 64.186931 104.514958 \nL 73.93111 109.921382 \nL 83.675289 113.708945 \nL 93.419468 115.629691 \nL 103.163647 121.284356 \nL 112.907826 124.124657 \nL 122.652006 123.23222 \nL 132.396185 127.249616 \nL 142.140364 127.560149 \nL 151.884543 130.098874 \nL 161.628722 131.969672 \nL 171.372901 134.355738 \nL 181.11708 134.074605 \n\" clip-path=\"url(#pb68af76169)\" style=\"fill: none; stroke: #1f77b4; stroke-width: 1.5; stroke-linecap: square\"/>\n   </g>\n   <g id=\"line2d_94\">\n    <path d=\"M 49.633125 86.300969 \nL 69.163125 100.863221 \nL 88.693125 101.915171 \nL 108.223125 98.896184 \nL 127.753125 117.53457 \nL 147.283125 121.988047 \nL 166.813125 115.799649 \n\" clip-path=\"url(#pb68af76169)\" style=\"fill: none; stroke-dasharray: 5.55,2.4; stroke-dashoffset: 0; stroke: #ff7f0e; stroke-width: 1.5\"/>\n   </g>\n   <g id=\"line2d_95\">\n    <path d=\"M 49.633125 37.706976 \nL 69.163125 33.649594 \nL 88.693125 35.455129 \nL 108.223125 33.933611 \nL 127.753125 28.476432 \nL 147.283125 27.624382 \nL 166.813125 30.20082 \n\" clip-path=\"url(#pb68af76169)\" style=\"fill: none; stroke-dasharray: 9.6,2.4,1.5,2.4; stroke-dashoffset: 0; stroke: #2ca02c; stroke-width: 1.5\"/>\n   </g>\n   <g id=\"line2d_96\">\n    <path d=\"M 34.954394 13.5 \nL 44.698573 79.676865 \nL 54.442752 95.928855 \nL 64.186931 104.514958 \nL 73.93111 109.921382 \nL 83.675289 113.708945 \nL 93.419468 115.629691 \nL 103.163647 121.284356 \nL 112.907826 124.124657 \nL 122.652006 123.23222 \nL 132.396185 127.249616 \nL 142.140364 127.560149 \nL 151.884543 130.098874 \nL 161.628722 131.969672 \nL 171.372901 134.355738 \nL 181.11708 134.074605 \n\" clip-path=\"url(#pb68af76169)\" style=\"fill: none; stroke: #1f77b4; stroke-width: 1.5; stroke-linecap: square\"/>\n   </g>\n   <g id=\"line2d_97\">\n    <path d=\"M 49.633125 86.300969 \nL 69.163125 100.863221 \nL 88.693125 101.915171 \nL 108.223125 98.896184 \nL 127.753125 117.53457 \nL 147.283125 121.988047 \nL 166.813125 115.799649 \nL 186.343125 121.305975 \n\" clip-path=\"url(#pb68af76169)\" style=\"fill: none; stroke-dasharray: 5.55,2.4; stroke-dashoffset: 0; stroke: #ff7f0e; stroke-width: 1.5\"/>\n   </g>\n   <g id=\"line2d_98\">\n    <path d=\"M 49.633125 37.706976 \nL 69.163125 33.649594 \nL 88.693125 35.455129 \nL 108.223125 33.933611 \nL 127.753125 28.476432 \nL 147.283125 27.624382 \nL 166.813125 30.20082 \n\" clip-path=\"url(#pb68af76169)\" style=\"fill: none; stroke-dasharray: 9.6,2.4,1.5,2.4; stroke-dashoffset: 0; stroke: #2ca02c; stroke-width: 1.5\"/>\n   </g>\n   <g id=\"line2d_99\">\n    <path d=\"M 34.954394 13.5 \nL 44.698573 79.676865 \nL 54.442752 95.928855 \nL 64.186931 104.514958 \nL 73.93111 109.921382 \nL 83.675289 113.708945 \nL 93.419468 115.629691 \nL 103.163647 121.284356 \nL 112.907826 124.124657 \nL 122.652006 123.23222 \nL 132.396185 127.249616 \nL 142.140364 127.560149 \nL 151.884543 130.098874 \nL 161.628722 131.969672 \nL 171.372901 134.355738 \nL 181.11708 134.074605 \n\" clip-path=\"url(#pb68af76169)\" style=\"fill: none; stroke: #1f77b4; stroke-width: 1.5; stroke-linecap: square\"/>\n   </g>\n   <g id=\"line2d_100\">\n    <path d=\"M 49.633125 86.300969 \nL 69.163125 100.863221 \nL 88.693125 101.915171 \nL 108.223125 98.896184 \nL 127.753125 117.53457 \nL 147.283125 121.988047 \nL 166.813125 115.799649 \nL 186.343125 121.305975 \n\" clip-path=\"url(#pb68af76169)\" style=\"fill: none; stroke-dasharray: 5.55,2.4; stroke-dashoffset: 0; stroke: #ff7f0e; stroke-width: 1.5\"/>\n   </g>\n   <g id=\"line2d_101\">\n    <path d=\"M 49.633125 37.706976 \nL 69.163125 33.649594 \nL 88.693125 35.455129 \nL 108.223125 33.933611 \nL 127.753125 28.476432 \nL 147.283125 27.624382 \nL 166.813125 30.20082 \nL 186.343125 27.543235 \n\" clip-path=\"url(#pb68af76169)\" style=\"fill: none; stroke-dasharray: 9.6,2.4,1.5,2.4; stroke-dashoffset: 0; stroke: #2ca02c; stroke-width: 1.5\"/>\n   </g>\n   <g id=\"line2d_102\">\n    <path d=\"M 34.954394 13.5 \nL 44.698573 79.676865 \nL 54.442752 95.928855 \nL 64.186931 104.514958 \nL 73.93111 109.921382 \nL 83.675289 113.708945 \nL 93.419468 115.629691 \nL 103.163647 121.284356 \nL 112.907826 124.124657 \nL 122.652006 123.23222 \nL 132.396185 127.249616 \nL 142.140364 127.560149 \nL 151.884543 130.098874 \nL 161.628722 131.969672 \nL 171.372901 134.355738 \nL 181.11708 134.074605 \nL 190.861259 137.002723 \n\" clip-path=\"url(#pb68af76169)\" style=\"fill: none; stroke: #1f77b4; stroke-width: 1.5; stroke-linecap: square\"/>\n   </g>\n   <g id=\"line2d_103\">\n    <path d=\"M 49.633125 86.300969 \nL 69.163125 100.863221 \nL 88.693125 101.915171 \nL 108.223125 98.896184 \nL 127.753125 117.53457 \nL 147.283125 121.988047 \nL 166.813125 115.799649 \nL 186.343125 121.305975 \n\" clip-path=\"url(#pb68af76169)\" style=\"fill: none; stroke-dasharray: 5.55,2.4; stroke-dashoffset: 0; stroke: #ff7f0e; stroke-width: 1.5\"/>\n   </g>\n   <g id=\"line2d_104\">\n    <path d=\"M 49.633125 37.706976 \nL 69.163125 33.649594 \nL 88.693125 35.455129 \nL 108.223125 33.933611 \nL 127.753125 28.476432 \nL 147.283125 27.624382 \nL 166.813125 30.20082 \nL 186.343125 27.543235 \n\" clip-path=\"url(#pb68af76169)\" style=\"fill: none; stroke-dasharray: 9.6,2.4,1.5,2.4; stroke-dashoffset: 0; stroke: #2ca02c; stroke-width: 1.5\"/>\n   </g>\n   <g id=\"line2d_105\">\n    <path d=\"M 34.954394 13.5 \nL 44.698573 79.676865 \nL 54.442752 95.928855 \nL 64.186931 104.514958 \nL 73.93111 109.921382 \nL 83.675289 113.708945 \nL 93.419468 115.629691 \nL 103.163647 121.284356 \nL 112.907826 124.124657 \nL 122.652006 123.23222 \nL 132.396185 127.249616 \nL 142.140364 127.560149 \nL 151.884543 130.098874 \nL 161.628722 131.969672 \nL 171.372901 134.355738 \nL 181.11708 134.074605 \nL 190.861259 137.002723 \nL 200.605438 135.244926 \n\" clip-path=\"url(#pb68af76169)\" style=\"fill: none; stroke: #1f77b4; stroke-width: 1.5; stroke-linecap: square\"/>\n   </g>\n   <g id=\"line2d_106\">\n    <path d=\"M 49.633125 86.300969 \nL 69.163125 100.863221 \nL 88.693125 101.915171 \nL 108.223125 98.896184 \nL 127.753125 117.53457 \nL 147.283125 121.988047 \nL 166.813125 115.799649 \nL 186.343125 121.305975 \n\" clip-path=\"url(#pb68af76169)\" style=\"fill: none; stroke-dasharray: 5.55,2.4; stroke-dashoffset: 0; stroke: #ff7f0e; stroke-width: 1.5\"/>\n   </g>\n   <g id=\"line2d_107\">\n    <path d=\"M 49.633125 37.706976 \nL 69.163125 33.649594 \nL 88.693125 35.455129 \nL 108.223125 33.933611 \nL 127.753125 28.476432 \nL 147.283125 27.624382 \nL 166.813125 30.20082 \nL 186.343125 27.543235 \n\" clip-path=\"url(#pb68af76169)\" style=\"fill: none; stroke-dasharray: 9.6,2.4,1.5,2.4; stroke-dashoffset: 0; stroke: #2ca02c; stroke-width: 1.5\"/>\n   </g>\n   <g id=\"line2d_108\">\n    <path d=\"M 34.954394 13.5 \nL 44.698573 79.676865 \nL 54.442752 95.928855 \nL 64.186931 104.514958 \nL 73.93111 109.921382 \nL 83.675289 113.708945 \nL 93.419468 115.629691 \nL 103.163647 121.284356 \nL 112.907826 124.124657 \nL 122.652006 123.23222 \nL 132.396185 127.249616 \nL 142.140364 127.560149 \nL 151.884543 130.098874 \nL 161.628722 131.969672 \nL 171.372901 134.355738 \nL 181.11708 134.074605 \nL 190.861259 137.002723 \nL 200.605438 135.244926 \n\" clip-path=\"url(#pb68af76169)\" style=\"fill: none; stroke: #1f77b4; stroke-width: 1.5; stroke-linecap: square\"/>\n   </g>\n   <g id=\"line2d_109\">\n    <path d=\"M 49.633125 86.300969 \nL 69.163125 100.863221 \nL 88.693125 101.915171 \nL 108.223125 98.896184 \nL 127.753125 117.53457 \nL 147.283125 121.988047 \nL 166.813125 115.799649 \nL 186.343125 121.305975 \nL 205.873125 118.62351 \n\" clip-path=\"url(#pb68af76169)\" style=\"fill: none; stroke-dasharray: 5.55,2.4; stroke-dashoffset: 0; stroke: #ff7f0e; stroke-width: 1.5\"/>\n   </g>\n   <g id=\"line2d_110\">\n    <path d=\"M 49.633125 37.706976 \nL 69.163125 33.649594 \nL 88.693125 35.455129 \nL 108.223125 33.933611 \nL 127.753125 28.476432 \nL 147.283125 27.624382 \nL 166.813125 30.20082 \nL 186.343125 27.543235 \n\" clip-path=\"url(#pb68af76169)\" style=\"fill: none; stroke-dasharray: 9.6,2.4,1.5,2.4; stroke-dashoffset: 0; stroke: #2ca02c; stroke-width: 1.5\"/>\n   </g>\n   <g id=\"line2d_111\">\n    <path d=\"M 34.954394 13.5 \nL 44.698573 79.676865 \nL 54.442752 95.928855 \nL 64.186931 104.514958 \nL 73.93111 109.921382 \nL 83.675289 113.708945 \nL 93.419468 115.629691 \nL 103.163647 121.284356 \nL 112.907826 124.124657 \nL 122.652006 123.23222 \nL 132.396185 127.249616 \nL 142.140364 127.560149 \nL 151.884543 130.098874 \nL 161.628722 131.969672 \nL 171.372901 134.355738 \nL 181.11708 134.074605 \nL 190.861259 137.002723 \nL 200.605438 135.244926 \n\" clip-path=\"url(#pb68af76169)\" style=\"fill: none; stroke: #1f77b4; stroke-width: 1.5; stroke-linecap: square\"/>\n   </g>\n   <g id=\"line2d_112\">\n    <path d=\"M 49.633125 86.300969 \nL 69.163125 100.863221 \nL 88.693125 101.915171 \nL 108.223125 98.896184 \nL 127.753125 117.53457 \nL 147.283125 121.988047 \nL 166.813125 115.799649 \nL 186.343125 121.305975 \nL 205.873125 118.62351 \n\" clip-path=\"url(#pb68af76169)\" style=\"fill: none; stroke-dasharray: 5.55,2.4; stroke-dashoffset: 0; stroke: #ff7f0e; stroke-width: 1.5\"/>\n   </g>\n   <g id=\"line2d_113\">\n    <path d=\"M 49.633125 37.706976 \nL 69.163125 33.649594 \nL 88.693125 35.455129 \nL 108.223125 33.933611 \nL 127.753125 28.476432 \nL 147.283125 27.624382 \nL 166.813125 30.20082 \nL 186.343125 27.543235 \nL 205.873125 28.131555 \n\" clip-path=\"url(#pb68af76169)\" style=\"fill: none; stroke-dasharray: 9.6,2.4,1.5,2.4; stroke-dashoffset: 0; stroke: #2ca02c; stroke-width: 1.5\"/>\n   </g>\n   <g id=\"line2d_114\">\n    <path d=\"M 34.954394 13.5 \nL 44.698573 79.676865 \nL 54.442752 95.928855 \nL 64.186931 104.514958 \nL 73.93111 109.921382 \nL 83.675289 113.708945 \nL 93.419468 115.629691 \nL 103.163647 121.284356 \nL 112.907826 124.124657 \nL 122.652006 123.23222 \nL 132.396185 127.249616 \nL 142.140364 127.560149 \nL 151.884543 130.098874 \nL 161.628722 131.969672 \nL 171.372901 134.355738 \nL 181.11708 134.074605 \nL 190.861259 137.002723 \nL 200.605438 135.244926 \nL 210.349618 139.5 \n\" clip-path=\"url(#pb68af76169)\" style=\"fill: none; stroke: #1f77b4; stroke-width: 1.5; stroke-linecap: square\"/>\n   </g>\n   <g id=\"line2d_115\">\n    <path d=\"M 49.633125 86.300969 \nL 69.163125 100.863221 \nL 88.693125 101.915171 \nL 108.223125 98.896184 \nL 127.753125 117.53457 \nL 147.283125 121.988047 \nL 166.813125 115.799649 \nL 186.343125 121.305975 \nL 205.873125 118.62351 \n\" clip-path=\"url(#pb68af76169)\" style=\"fill: none; stroke-dasharray: 5.55,2.4; stroke-dashoffset: 0; stroke: #ff7f0e; stroke-width: 1.5\"/>\n   </g>\n   <g id=\"line2d_116\">\n    <path d=\"M 49.633125 37.706976 \nL 69.163125 33.649594 \nL 88.693125 35.455129 \nL 108.223125 33.933611 \nL 127.753125 28.476432 \nL 147.283125 27.624382 \nL 166.813125 30.20082 \nL 186.343125 27.543235 \nL 205.873125 28.131555 \n\" clip-path=\"url(#pb68af76169)\" style=\"fill: none; stroke-dasharray: 9.6,2.4,1.5,2.4; stroke-dashoffset: 0; stroke: #2ca02c; stroke-width: 1.5\"/>\n   </g>\n   <g id=\"line2d_117\">\n    <path d=\"M 34.954394 13.5 \nL 44.698573 79.676865 \nL 54.442752 95.928855 \nL 64.186931 104.514958 \nL 73.93111 109.921382 \nL 83.675289 113.708945 \nL 93.419468 115.629691 \nL 103.163647 121.284356 \nL 112.907826 124.124657 \nL 122.652006 123.23222 \nL 132.396185 127.249616 \nL 142.140364 127.560149 \nL 151.884543 130.098874 \nL 161.628722 131.969672 \nL 171.372901 134.355738 \nL 181.11708 134.074605 \nL 190.861259 137.002723 \nL 200.605438 135.244926 \nL 210.349618 139.5 \nL 220.093797 137.082589 \n\" clip-path=\"url(#pb68af76169)\" style=\"fill: none; stroke: #1f77b4; stroke-width: 1.5; stroke-linecap: square\"/>\n   </g>\n   <g id=\"line2d_118\">\n    <path d=\"M 49.633125 86.300969 \nL 69.163125 100.863221 \nL 88.693125 101.915171 \nL 108.223125 98.896184 \nL 127.753125 117.53457 \nL 147.283125 121.988047 \nL 166.813125 115.799649 \nL 186.343125 121.305975 \nL 205.873125 118.62351 \n\" clip-path=\"url(#pb68af76169)\" style=\"fill: none; stroke-dasharray: 5.55,2.4; stroke-dashoffset: 0; stroke: #ff7f0e; stroke-width: 1.5\"/>\n   </g>\n   <g id=\"line2d_119\">\n    <path d=\"M 49.633125 37.706976 \nL 69.163125 33.649594 \nL 88.693125 35.455129 \nL 108.223125 33.933611 \nL 127.753125 28.476432 \nL 147.283125 27.624382 \nL 166.813125 30.20082 \nL 186.343125 27.543235 \nL 205.873125 28.131555 \n\" clip-path=\"url(#pb68af76169)\" style=\"fill: none; stroke-dasharray: 9.6,2.4,1.5,2.4; stroke-dashoffset: 0; stroke: #2ca02c; stroke-width: 1.5\"/>\n   </g>\n   <g id=\"line2d_120\">\n    <path d=\"M 34.954394 13.5 \nL 44.698573 79.676865 \nL 54.442752 95.928855 \nL 64.186931 104.514958 \nL 73.93111 109.921382 \nL 83.675289 113.708945 \nL 93.419468 115.629691 \nL 103.163647 121.284356 \nL 112.907826 124.124657 \nL 122.652006 123.23222 \nL 132.396185 127.249616 \nL 142.140364 127.560149 \nL 151.884543 130.098874 \nL 161.628722 131.969672 \nL 171.372901 134.355738 \nL 181.11708 134.074605 \nL 190.861259 137.002723 \nL 200.605438 135.244926 \nL 210.349618 139.5 \nL 220.093797 137.082589 \n\" clip-path=\"url(#pb68af76169)\" style=\"fill: none; stroke: #1f77b4; stroke-width: 1.5; stroke-linecap: square\"/>\n   </g>\n   <g id=\"line2d_121\">\n    <path d=\"M 49.633125 86.300969 \nL 69.163125 100.863221 \nL 88.693125 101.915171 \nL 108.223125 98.896184 \nL 127.753125 117.53457 \nL 147.283125 121.988047 \nL 166.813125 115.799649 \nL 186.343125 121.305975 \nL 205.873125 118.62351 \nL 225.403125 128.036683 \n\" clip-path=\"url(#pb68af76169)\" style=\"fill: none; stroke-dasharray: 5.55,2.4; stroke-dashoffset: 0; stroke: #ff7f0e; stroke-width: 1.5\"/>\n   </g>\n   <g id=\"line2d_122\">\n    <path d=\"M 49.633125 37.706976 \nL 69.163125 33.649594 \nL 88.693125 35.455129 \nL 108.223125 33.933611 \nL 127.753125 28.476432 \nL 147.283125 27.624382 \nL 166.813125 30.20082 \nL 186.343125 27.543235 \nL 205.873125 28.131555 \n\" clip-path=\"url(#pb68af76169)\" style=\"fill: none; stroke-dasharray: 9.6,2.4,1.5,2.4; stroke-dashoffset: 0; stroke: #2ca02c; stroke-width: 1.5\"/>\n   </g>\n   <g id=\"line2d_123\">\n    <path d=\"M 34.954394 13.5 \nL 44.698573 79.676865 \nL 54.442752 95.928855 \nL 64.186931 104.514958 \nL 73.93111 109.921382 \nL 83.675289 113.708945 \nL 93.419468 115.629691 \nL 103.163647 121.284356 \nL 112.907826 124.124657 \nL 122.652006 123.23222 \nL 132.396185 127.249616 \nL 142.140364 127.560149 \nL 151.884543 130.098874 \nL 161.628722 131.969672 \nL 171.372901 134.355738 \nL 181.11708 134.074605 \nL 190.861259 137.002723 \nL 200.605438 135.244926 \nL 210.349618 139.5 \nL 220.093797 137.082589 \n\" clip-path=\"url(#pb68af76169)\" style=\"fill: none; stroke: #1f77b4; stroke-width: 1.5; stroke-linecap: square\"/>\n   </g>\n   <g id=\"line2d_124\">\n    <path d=\"M 49.633125 86.300969 \nL 69.163125 100.863221 \nL 88.693125 101.915171 \nL 108.223125 98.896184 \nL 127.753125 117.53457 \nL 147.283125 121.988047 \nL 166.813125 115.799649 \nL 186.343125 121.305975 \nL 205.873125 118.62351 \nL 225.403125 128.036683 \n\" clip-path=\"url(#pb68af76169)\" style=\"fill: none; stroke-dasharray: 5.55,2.4; stroke-dashoffset: 0; stroke: #ff7f0e; stroke-width: 1.5\"/>\n   </g>\n   <g id=\"line2d_125\">\n    <path d=\"M 49.633125 37.706976 \nL 69.163125 33.649594 \nL 88.693125 35.455129 \nL 108.223125 33.933611 \nL 127.753125 28.476432 \nL 147.283125 27.624382 \nL 166.813125 30.20082 \nL 186.343125 27.543235 \nL 205.873125 28.131555 \nL 225.403125 24.905936 \n\" clip-path=\"url(#pb68af76169)\" style=\"fill: none; stroke-dasharray: 9.6,2.4,1.5,2.4; stroke-dashoffset: 0; stroke: #2ca02c; stroke-width: 1.5\"/>\n   </g>\n   <g id=\"patch_3\">\n    <path d=\"M 30.103125 145.8 \nL 30.103125 7.2 \n\" style=\"fill: none; stroke: #000000; stroke-width: 0.8; stroke-linejoin: miter; stroke-linecap: square\"/>\n   </g>\n   <g id=\"patch_4\">\n    <path d=\"M 225.403125 145.8 \nL 225.403125 7.2 \n\" style=\"fill: none; stroke: #000000; stroke-width: 0.8; stroke-linejoin: miter; stroke-linecap: square\"/>\n   </g>\n   <g id=\"patch_5\">\n    <path d=\"M 30.103125 145.8 \nL 225.403125 145.8 \n\" style=\"fill: none; stroke: #000000; stroke-width: 0.8; stroke-linejoin: miter; stroke-linecap: square\"/>\n   </g>\n   <g id=\"patch_6\">\n    <path d=\"M 30.103125 7.2 \nL 225.403125 7.2 \n\" style=\"fill: none; stroke: #000000; stroke-width: 0.8; stroke-linejoin: miter; stroke-linecap: square\"/>\n   </g>\n   <g id=\"legend_1\">\n    <g id=\"patch_7\">\n     <path d=\"M 138.8125 100.434375 \nL 218.403125 100.434375 \nQ 220.403125 100.434375 220.403125 98.434375 \nL 220.403125 54.565625 \nQ 220.403125 52.565625 218.403125 52.565625 \nL 138.8125 52.565625 \nQ 136.8125 52.565625 136.8125 54.565625 \nL 136.8125 98.434375 \nQ 136.8125 100.434375 138.8125 100.434375 \nz\n\" style=\"fill: #ffffff; opacity: 0.8; stroke: #cccccc; stroke-linejoin: miter\"/>\n    </g>\n    <g id=\"line2d_126\">\n     <path d=\"M 140.8125 60.664063 \nL 150.8125 60.664063 \nL 160.8125 60.664063 \n\" style=\"fill: none; stroke: #1f77b4; stroke-width: 1.5; stroke-linecap: square\"/>\n    </g>\n    <g id=\"text_11\">\n     <!-- train_loss -->\n     <g transform=\"translate(168.8125 64.164063) scale(0.1 -0.1)\">\n      <defs>\n       <path id=\"DejaVuSans-74\" d=\"M 1172 4494 \nL 1172 3500 \nL 2356 3500 \nL 2356 3053 \nL 1172 3053 \nL 1172 1153 \nQ 1172 725 1289 603 \nQ 1406 481 1766 481 \nL 2356 481 \nL 2356 0 \nL 1766 0 \nQ 1100 0 847 248 \nQ 594 497 594 1153 \nL 594 3053 \nL 172 3053 \nL 172 3500 \nL 594 3500 \nL 594 4494 \nL 1172 4494 \nz\n\" transform=\"scale(0.015625)\"/>\n       <path id=\"DejaVuSans-72\" d=\"M 2631 2963 \nQ 2534 3019 2420 3045 \nQ 2306 3072 2169 3072 \nQ 1681 3072 1420 2755 \nQ 1159 2438 1159 1844 \nL 1159 0 \nL 581 0 \nL 581 3500 \nL 1159 3500 \nL 1159 2956 \nQ 1341 3275 1631 3429 \nQ 1922 3584 2338 3584 \nQ 2397 3584 2469 3576 \nQ 2541 3569 2628 3553 \nL 2631 2963 \nz\n\" transform=\"scale(0.015625)\"/>\n       <path id=\"DejaVuSans-61\" d=\"M 2194 1759 \nQ 1497 1759 1228 1600 \nQ 959 1441 959 1056 \nQ 959 750 1161 570 \nQ 1363 391 1709 391 \nQ 2188 391 2477 730 \nQ 2766 1069 2766 1631 \nL 2766 1759 \nL 2194 1759 \nz\nM 3341 1997 \nL 3341 0 \nL 2766 0 \nL 2766 531 \nQ 2569 213 2275 61 \nQ 1981 -91 1556 -91 \nQ 1019 -91 701 211 \nQ 384 513 384 1019 \nQ 384 1609 779 1909 \nQ 1175 2209 1959 2209 \nL 2766 2209 \nL 2766 2266 \nQ 2766 2663 2505 2880 \nQ 2244 3097 1772 3097 \nQ 1472 3097 1187 3025 \nQ 903 2953 641 2809 \nL 641 3341 \nQ 956 3463 1253 3523 \nQ 1550 3584 1831 3584 \nQ 2591 3584 2966 3190 \nQ 3341 2797 3341 1997 \nz\n\" transform=\"scale(0.015625)\"/>\n       <path id=\"DejaVuSans-69\" d=\"M 603 3500 \nL 1178 3500 \nL 1178 0 \nL 603 0 \nL 603 3500 \nz\nM 603 4863 \nL 1178 4863 \nL 1178 4134 \nL 603 4134 \nL 603 4863 \nz\n\" transform=\"scale(0.015625)\"/>\n       <path id=\"DejaVuSans-6e\" d=\"M 3513 2113 \nL 3513 0 \nL 2938 0 \nL 2938 2094 \nQ 2938 2591 2744 2837 \nQ 2550 3084 2163 3084 \nQ 1697 3084 1428 2787 \nQ 1159 2491 1159 1978 \nL 1159 0 \nL 581 0 \nL 581 3500 \nL 1159 3500 \nL 1159 2956 \nQ 1366 3272 1645 3428 \nQ 1925 3584 2291 3584 \nQ 2894 3584 3203 3211 \nQ 3513 2838 3513 2113 \nz\n\" transform=\"scale(0.015625)\"/>\n       <path id=\"DejaVuSans-5f\" d=\"M 3263 -1063 \nL 3263 -1509 \nL -63 -1509 \nL -63 -1063 \nL 3263 -1063 \nz\n\" transform=\"scale(0.015625)\"/>\n       <path id=\"DejaVuSans-6c\" d=\"M 603 4863 \nL 1178 4863 \nL 1178 0 \nL 603 0 \nL 603 4863 \nz\n\" transform=\"scale(0.015625)\"/>\n       <path id=\"DejaVuSans-73\" d=\"M 2834 3397 \nL 2834 2853 \nQ 2591 2978 2328 3040 \nQ 2066 3103 1784 3103 \nQ 1356 3103 1142 2972 \nQ 928 2841 928 2578 \nQ 928 2378 1081 2264 \nQ 1234 2150 1697 2047 \nL 1894 2003 \nQ 2506 1872 2764 1633 \nQ 3022 1394 3022 966 \nQ 3022 478 2636 193 \nQ 2250 -91 1575 -91 \nQ 1294 -91 989 -36 \nQ 684 19 347 128 \nL 347 722 \nQ 666 556 975 473 \nQ 1284 391 1588 391 \nQ 1994 391 2212 530 \nQ 2431 669 2431 922 \nQ 2431 1156 2273 1281 \nQ 2116 1406 1581 1522 \nL 1381 1569 \nQ 847 1681 609 1914 \nQ 372 2147 372 2553 \nQ 372 3047 722 3315 \nQ 1072 3584 1716 3584 \nQ 2034 3584 2315 3537 \nQ 2597 3491 2834 3397 \nz\n\" transform=\"scale(0.015625)\"/>\n      </defs>\n      <use xlink:href=\"#DejaVuSans-74\"/>\n      <use xlink:href=\"#DejaVuSans-72\" x=\"39.208984\"/>\n      <use xlink:href=\"#DejaVuSans-61\" x=\"80.322266\"/>\n      <use xlink:href=\"#DejaVuSans-69\" x=\"141.601562\"/>\n      <use xlink:href=\"#DejaVuSans-6e\" x=\"169.384766\"/>\n      <use xlink:href=\"#DejaVuSans-5f\" x=\"232.763672\"/>\n      <use xlink:href=\"#DejaVuSans-6c\" x=\"282.763672\"/>\n      <use xlink:href=\"#DejaVuSans-6f\" x=\"310.546875\"/>\n      <use xlink:href=\"#DejaVuSans-73\" x=\"371.728516\"/>\n      <use xlink:href=\"#DejaVuSans-73\" x=\"423.828125\"/>\n     </g>\n    </g>\n    <g id=\"line2d_127\">\n     <path d=\"M 140.8125 75.620313 \nL 150.8125 75.620313 \nL 160.8125 75.620313 \n\" style=\"fill: none; stroke-dasharray: 5.55,2.4; stroke-dashoffset: 0; stroke: #ff7f0e; stroke-width: 1.5\"/>\n    </g>\n    <g id=\"text_12\">\n     <!-- val_loss -->\n     <g transform=\"translate(168.8125 79.120313) scale(0.1 -0.1)\">\n      <defs>\n       <path id=\"DejaVuSans-76\" d=\"M 191 3500 \nL 800 3500 \nL 1894 563 \nL 2988 3500 \nL 3597 3500 \nL 2284 0 \nL 1503 0 \nL 191 3500 \nz\n\" transform=\"scale(0.015625)\"/>\n      </defs>\n      <use xlink:href=\"#DejaVuSans-76\"/>\n      <use xlink:href=\"#DejaVuSans-61\" x=\"59.179688\"/>\n      <use xlink:href=\"#DejaVuSans-6c\" x=\"120.458984\"/>\n      <use xlink:href=\"#DejaVuSans-5f\" x=\"148.242188\"/>\n      <use xlink:href=\"#DejaVuSans-6c\" x=\"198.242188\"/>\n      <use xlink:href=\"#DejaVuSans-6f\" x=\"226.025391\"/>\n      <use xlink:href=\"#DejaVuSans-73\" x=\"287.207031\"/>\n      <use xlink:href=\"#DejaVuSans-73\" x=\"339.306641\"/>\n     </g>\n    </g>\n    <g id=\"line2d_128\">\n     <path d=\"M 140.8125 90.576563 \nL 150.8125 90.576563 \nL 160.8125 90.576563 \n\" style=\"fill: none; stroke-dasharray: 9.6,2.4,1.5,2.4; stroke-dashoffset: 0; stroke: #2ca02c; stroke-width: 1.5\"/>\n    </g>\n    <g id=\"text_13\">\n     <!-- val_acc -->\n     <g transform=\"translate(168.8125 94.076563) scale(0.1 -0.1)\">\n      <use xlink:href=\"#DejaVuSans-76\"/>\n      <use xlink:href=\"#DejaVuSans-61\" x=\"59.179688\"/>\n      <use xlink:href=\"#DejaVuSans-6c\" x=\"120.458984\"/>\n      <use xlink:href=\"#DejaVuSans-5f\" x=\"148.242188\"/>\n      <use xlink:href=\"#DejaVuSans-61\" x=\"198.242188\"/>\n      <use xlink:href=\"#DejaVuSans-63\" x=\"259.521484\"/>\n      <use xlink:href=\"#DejaVuSans-63\" x=\"314.501953\"/>\n     </g>\n    </g>\n   </g>\n  </g>\n </g>\n <defs>\n  <clipPath id=\"pb68af76169\">\n   <rect x=\"30.103125\" y=\"7.2\" width=\"195.3\" height=\"138.6\"/>\n  </clipPath>\n </defs>\n</svg>\n",
            "text/plain": [
              "<Figure size 350x250 with 1 Axes>"
            ]
          },
          "metadata": {},
          "output_type": "display_data"
        }
      ],
      "source": [
        "trainer = d2l.Trainer(max_epochs=10, num_gpus=1)\n",
        "data = d2l.FashionMNIST(batch_size=128)\n",
        "model = BNLeNetScratch(lr=0.1)\n",
        "model.apply_init([next(iter(data.get_dataloader(True)))[0]], d2l.init_cnn)\n",
        "trainer.fit(model, data)"
      ]
    },
    {
      "cell_type": "code",
      "execution_count": null,
      "metadata": {
        "id": "RjqVOmEP21hd"
      },
      "outputs": [],
      "source": [
        "model.net[1].gamma.reshape((-1,)), model.net[1].beta.reshape((-1,))"
      ]
    },
    {
      "cell_type": "code",
      "execution_count": null,
      "metadata": {
        "id": "1bhYEEyT23Sp"
      },
      "outputs": [],
      "source": [
        "class BNLeNet(d2l.Classifier):\n",
        "    def __init__(self, lr=0.1, num_classes=10):\n",
        "        super().__init__()\n",
        "        self.save_hyperparameters()\n",
        "        self.net = nn.Sequential(\n",
        "            nn.LazyConv2d(6, kernel_size=5), nn.LazyBatchNorm2d(),\n",
        "            nn.Sigmoid(), nn.AvgPool2d(kernel_size=2, stride=2),\n",
        "            nn.LazyConv2d(16, kernel_size=5), nn.LazyBatchNorm2d(),\n",
        "            nn.Sigmoid(), nn.AvgPool2d(kernel_size=2, stride=2),\n",
        "            nn.Flatten(), nn.LazyLinear(120), nn.LazyBatchNorm1d(),\n",
        "            nn.Sigmoid(), nn.LazyLinear(84), nn.LazyBatchNorm1d(),\n",
        "            nn.Sigmoid(), nn.LazyLinear(num_classes))"
      ]
    },
    {
      "cell_type": "code",
      "execution_count": null,
      "metadata": {
        "colab": {
          "base_uri": "https://localhost:8080/",
          "height": 265
        },
        "id": "aM4McvCc25As",
        "outputId": "21a13025-f748-4f08-b065-d799b3ed261b"
      },
      "outputs": [
        {
          "data": {
            "image/svg+xml": "<?xml version=\"1.0\" encoding=\"utf-8\" standalone=\"no\"?>\n<!DOCTYPE svg PUBLIC \"-//W3C//DTD SVG 1.1//EN\"\n  \"http://www.w3.org/Graphics/SVG/1.1/DTD/svg11.dtd\">\n<svg xmlns:xlink=\"http://www.w3.org/1999/xlink\" width=\"238.965625pt\" height=\"183.35625pt\" viewBox=\"0 0 238.965625 183.35625\" xmlns=\"http://www.w3.org/2000/svg\" version=\"1.1\">\n <metadata>\n  <rdf:RDF xmlns:dc=\"http://purl.org/dc/elements/1.1/\" xmlns:cc=\"http://creativecommons.org/ns#\" xmlns:rdf=\"http://www.w3.org/1999/02/22-rdf-syntax-ns#\">\n   <cc:Work>\n    <dc:type rdf:resource=\"http://purl.org/dc/dcmitype/StillImage\"/>\n    <dc:date>2024-09-26T07:07:09.083105</dc:date>\n    <dc:format>image/svg+xml</dc:format>\n    <dc:creator>\n     <cc:Agent>\n      <dc:title>Matplotlib v3.7.2, https://matplotlib.org/</dc:title>\n     </cc:Agent>\n    </dc:creator>\n   </cc:Work>\n  </rdf:RDF>\n </metadata>\n <defs>\n  <style type=\"text/css\">*{stroke-linejoin: round; stroke-linecap: butt}</style>\n </defs>\n <g id=\"figure_1\">\n  <g id=\"patch_1\">\n   <path d=\"M 0 183.35625 \nL 238.965625 183.35625 \nL 238.965625 0 \nL 0 0 \nz\n\" style=\"fill: #ffffff\"/>\n  </g>\n  <g id=\"axes_1\">\n   <g id=\"patch_2\">\n    <path d=\"M 30.103125 145.8 \nL 225.403125 145.8 \nL 225.403125 7.2 \nL 30.103125 7.2 \nz\n\" style=\"fill: #ffffff\"/>\n   </g>\n   <g id=\"matplotlib.axis_1\">\n    <g id=\"xtick_1\">\n     <g id=\"line2d_1\">\n      <defs>\n       <path id=\"m5aaf0d68d3\" d=\"M 0 0 \nL 0 3.5 \n\" style=\"stroke: #000000; stroke-width: 0.8\"/>\n      </defs>\n      <g>\n       <use xlink:href=\"#m5aaf0d68d3\" x=\"30.103125\" y=\"145.8\" style=\"stroke: #000000; stroke-width: 0.8\"/>\n      </g>\n     </g>\n     <g id=\"text_1\">\n      <!-- 0 -->\n      <g transform=\"translate(26.921875 160.398438) scale(0.1 -0.1)\">\n       <defs>\n        <path id=\"DejaVuSans-30\" d=\"M 2034 4250 \nQ 1547 4250 1301 3770 \nQ 1056 3291 1056 2328 \nQ 1056 1369 1301 889 \nQ 1547 409 2034 409 \nQ 2525 409 2770 889 \nQ 3016 1369 3016 2328 \nQ 3016 3291 2770 3770 \nQ 2525 4250 2034 4250 \nz\nM 2034 4750 \nQ 2819 4750 3233 4129 \nQ 3647 3509 3647 2328 \nQ 3647 1150 3233 529 \nQ 2819 -91 2034 -91 \nQ 1250 -91 836 529 \nQ 422 1150 422 2328 \nQ 422 3509 836 4129 \nQ 1250 4750 2034 4750 \nz\n\" transform=\"scale(0.015625)\"/>\n       </defs>\n       <use xlink:href=\"#DejaVuSans-30\"/>\n      </g>\n     </g>\n    </g>\n    <g id=\"xtick_2\">\n     <g id=\"line2d_2\">\n      <g>\n       <use xlink:href=\"#m5aaf0d68d3\" x=\"69.163125\" y=\"145.8\" style=\"stroke: #000000; stroke-width: 0.8\"/>\n      </g>\n     </g>\n     <g id=\"text_2\">\n      <!-- 2 -->\n      <g transform=\"translate(65.981875 160.398438) scale(0.1 -0.1)\">\n       <defs>\n        <path id=\"DejaVuSans-32\" d=\"M 1228 531 \nL 3431 531 \nL 3431 0 \nL 469 0 \nL 469 531 \nQ 828 903 1448 1529 \nQ 2069 2156 2228 2338 \nQ 2531 2678 2651 2914 \nQ 2772 3150 2772 3378 \nQ 2772 3750 2511 3984 \nQ 2250 4219 1831 4219 \nQ 1534 4219 1204 4116 \nQ 875 4013 500 3803 \nL 500 4441 \nQ 881 4594 1212 4672 \nQ 1544 4750 1819 4750 \nQ 2544 4750 2975 4387 \nQ 3406 4025 3406 3419 \nQ 3406 3131 3298 2873 \nQ 3191 2616 2906 2266 \nQ 2828 2175 2409 1742 \nQ 1991 1309 1228 531 \nz\n\" transform=\"scale(0.015625)\"/>\n       </defs>\n       <use xlink:href=\"#DejaVuSans-32\"/>\n      </g>\n     </g>\n    </g>\n    <g id=\"xtick_3\">\n     <g id=\"line2d_3\">\n      <g>\n       <use xlink:href=\"#m5aaf0d68d3\" x=\"108.223125\" y=\"145.8\" style=\"stroke: #000000; stroke-width: 0.8\"/>\n      </g>\n     </g>\n     <g id=\"text_3\">\n      <!-- 4 -->\n      <g transform=\"translate(105.041875 160.398438) scale(0.1 -0.1)\">\n       <defs>\n        <path id=\"DejaVuSans-34\" d=\"M 2419 4116 \nL 825 1625 \nL 2419 1625 \nL 2419 4116 \nz\nM 2253 4666 \nL 3047 4666 \nL 3047 1625 \nL 3713 1625 \nL 3713 1100 \nL 3047 1100 \nL 3047 0 \nL 2419 0 \nL 2419 1100 \nL 313 1100 \nL 313 1709 \nL 2253 4666 \nz\n\" transform=\"scale(0.015625)\"/>\n       </defs>\n       <use xlink:href=\"#DejaVuSans-34\"/>\n      </g>\n     </g>\n    </g>\n    <g id=\"xtick_4\">\n     <g id=\"line2d_4\">\n      <g>\n       <use xlink:href=\"#m5aaf0d68d3\" x=\"147.283125\" y=\"145.8\" style=\"stroke: #000000; stroke-width: 0.8\"/>\n      </g>\n     </g>\n     <g id=\"text_4\">\n      <!-- 6 -->\n      <g transform=\"translate(144.101875 160.398438) scale(0.1 -0.1)\">\n       <defs>\n        <path id=\"DejaVuSans-36\" d=\"M 2113 2584 \nQ 1688 2584 1439 2293 \nQ 1191 2003 1191 1497 \nQ 1191 994 1439 701 \nQ 1688 409 2113 409 \nQ 2538 409 2786 701 \nQ 3034 994 3034 1497 \nQ 3034 2003 2786 2293 \nQ 2538 2584 2113 2584 \nz\nM 3366 4563 \nL 3366 3988 \nQ 3128 4100 2886 4159 \nQ 2644 4219 2406 4219 \nQ 1781 4219 1451 3797 \nQ 1122 3375 1075 2522 \nQ 1259 2794 1537 2939 \nQ 1816 3084 2150 3084 \nQ 2853 3084 3261 2657 \nQ 3669 2231 3669 1497 \nQ 3669 778 3244 343 \nQ 2819 -91 2113 -91 \nQ 1303 -91 875 529 \nQ 447 1150 447 2328 \nQ 447 3434 972 4092 \nQ 1497 4750 2381 4750 \nQ 2619 4750 2861 4703 \nQ 3103 4656 3366 4563 \nz\n\" transform=\"scale(0.015625)\"/>\n       </defs>\n       <use xlink:href=\"#DejaVuSans-36\"/>\n      </g>\n     </g>\n    </g>\n    <g id=\"xtick_5\">\n     <g id=\"line2d_5\">\n      <g>\n       <use xlink:href=\"#m5aaf0d68d3\" x=\"186.343125\" y=\"145.8\" style=\"stroke: #000000; stroke-width: 0.8\"/>\n      </g>\n     </g>\n     <g id=\"text_5\">\n      <!-- 8 -->\n      <g transform=\"translate(183.161875 160.398438) scale(0.1 -0.1)\">\n       <defs>\n        <path id=\"DejaVuSans-38\" d=\"M 2034 2216 \nQ 1584 2216 1326 1975 \nQ 1069 1734 1069 1313 \nQ 1069 891 1326 650 \nQ 1584 409 2034 409 \nQ 2484 409 2743 651 \nQ 3003 894 3003 1313 \nQ 3003 1734 2745 1975 \nQ 2488 2216 2034 2216 \nz\nM 1403 2484 \nQ 997 2584 770 2862 \nQ 544 3141 544 3541 \nQ 544 4100 942 4425 \nQ 1341 4750 2034 4750 \nQ 2731 4750 3128 4425 \nQ 3525 4100 3525 3541 \nQ 3525 3141 3298 2862 \nQ 3072 2584 2669 2484 \nQ 3125 2378 3379 2068 \nQ 3634 1759 3634 1313 \nQ 3634 634 3220 271 \nQ 2806 -91 2034 -91 \nQ 1263 -91 848 271 \nQ 434 634 434 1313 \nQ 434 1759 690 2068 \nQ 947 2378 1403 2484 \nz\nM 1172 3481 \nQ 1172 3119 1398 2916 \nQ 1625 2713 2034 2713 \nQ 2441 2713 2670 2916 \nQ 2900 3119 2900 3481 \nQ 2900 3844 2670 4047 \nQ 2441 4250 2034 4250 \nQ 1625 4250 1398 4047 \nQ 1172 3844 1172 3481 \nz\n\" transform=\"scale(0.015625)\"/>\n       </defs>\n       <use xlink:href=\"#DejaVuSans-38\"/>\n      </g>\n     </g>\n    </g>\n    <g id=\"xtick_6\">\n     <g id=\"line2d_6\">\n      <g>\n       <use xlink:href=\"#m5aaf0d68d3\" x=\"225.403125\" y=\"145.8\" style=\"stroke: #000000; stroke-width: 0.8\"/>\n      </g>\n     </g>\n     <g id=\"text_6\">\n      <!-- 10 -->\n      <g transform=\"translate(219.040625 160.398438) scale(0.1 -0.1)\">\n       <defs>\n        <path id=\"DejaVuSans-31\" d=\"M 794 531 \nL 1825 531 \nL 1825 4091 \nL 703 3866 \nL 703 4441 \nL 1819 4666 \nL 2450 4666 \nL 2450 531 \nL 3481 531 \nL 3481 0 \nL 794 0 \nL 794 531 \nz\n\" transform=\"scale(0.015625)\"/>\n       </defs>\n       <use xlink:href=\"#DejaVuSans-31\"/>\n       <use xlink:href=\"#DejaVuSans-30\" x=\"63.623047\"/>\n      </g>\n     </g>\n    </g>\n    <g id=\"text_7\">\n     <!-- epoch -->\n     <g transform=\"translate(112.525 174.076563) scale(0.1 -0.1)\">\n      <defs>\n       <path id=\"DejaVuSans-65\" d=\"M 3597 1894 \nL 3597 1613 \nL 953 1613 \nQ 991 1019 1311 708 \nQ 1631 397 2203 397 \nQ 2534 397 2845 478 \nQ 3156 559 3463 722 \nL 3463 178 \nQ 3153 47 2828 -22 \nQ 2503 -91 2169 -91 \nQ 1331 -91 842 396 \nQ 353 884 353 1716 \nQ 353 2575 817 3079 \nQ 1281 3584 2069 3584 \nQ 2775 3584 3186 3129 \nQ 3597 2675 3597 1894 \nz\nM 3022 2063 \nQ 3016 2534 2758 2815 \nQ 2500 3097 2075 3097 \nQ 1594 3097 1305 2825 \nQ 1016 2553 972 2059 \nL 3022 2063 \nz\n\" transform=\"scale(0.015625)\"/>\n       <path id=\"DejaVuSans-70\" d=\"M 1159 525 \nL 1159 -1331 \nL 581 -1331 \nL 581 3500 \nL 1159 3500 \nL 1159 2969 \nQ 1341 3281 1617 3432 \nQ 1894 3584 2278 3584 \nQ 2916 3584 3314 3078 \nQ 3713 2572 3713 1747 \nQ 3713 922 3314 415 \nQ 2916 -91 2278 -91 \nQ 1894 -91 1617 61 \nQ 1341 213 1159 525 \nz\nM 3116 1747 \nQ 3116 2381 2855 2742 \nQ 2594 3103 2138 3103 \nQ 1681 3103 1420 2742 \nQ 1159 2381 1159 1747 \nQ 1159 1113 1420 752 \nQ 1681 391 2138 391 \nQ 2594 391 2855 752 \nQ 3116 1113 3116 1747 \nz\n\" transform=\"scale(0.015625)\"/>\n       <path id=\"DejaVuSans-6f\" d=\"M 1959 3097 \nQ 1497 3097 1228 2736 \nQ 959 2375 959 1747 \nQ 959 1119 1226 758 \nQ 1494 397 1959 397 \nQ 2419 397 2687 759 \nQ 2956 1122 2956 1747 \nQ 2956 2369 2687 2733 \nQ 2419 3097 1959 3097 \nz\nM 1959 3584 \nQ 2709 3584 3137 3096 \nQ 3566 2609 3566 1747 \nQ 3566 888 3137 398 \nQ 2709 -91 1959 -91 \nQ 1206 -91 779 398 \nQ 353 888 353 1747 \nQ 353 2609 779 3096 \nQ 1206 3584 1959 3584 \nz\n\" transform=\"scale(0.015625)\"/>\n       <path id=\"DejaVuSans-63\" d=\"M 3122 3366 \nL 3122 2828 \nQ 2878 2963 2633 3030 \nQ 2388 3097 2138 3097 \nQ 1578 3097 1268 2742 \nQ 959 2388 959 1747 \nQ 959 1106 1268 751 \nQ 1578 397 2138 397 \nQ 2388 397 2633 464 \nQ 2878 531 3122 666 \nL 3122 134 \nQ 2881 22 2623 -34 \nQ 2366 -91 2075 -91 \nQ 1284 -91 818 406 \nQ 353 903 353 1747 \nQ 353 2603 823 3093 \nQ 1294 3584 2113 3584 \nQ 2378 3584 2631 3529 \nQ 2884 3475 3122 3366 \nz\n\" transform=\"scale(0.015625)\"/>\n       <path id=\"DejaVuSans-68\" d=\"M 3513 2113 \nL 3513 0 \nL 2938 0 \nL 2938 2094 \nQ 2938 2591 2744 2837 \nQ 2550 3084 2163 3084 \nQ 1697 3084 1428 2787 \nQ 1159 2491 1159 1978 \nL 1159 0 \nL 581 0 \nL 581 4863 \nL 1159 4863 \nL 1159 2956 \nQ 1366 3272 1645 3428 \nQ 1925 3584 2291 3584 \nQ 2894 3584 3203 3211 \nQ 3513 2838 3513 2113 \nz\n\" transform=\"scale(0.015625)\"/>\n      </defs>\n      <use xlink:href=\"#DejaVuSans-65\"/>\n      <use xlink:href=\"#DejaVuSans-70\" x=\"61.523438\"/>\n      <use xlink:href=\"#DejaVuSans-6f\" x=\"125\"/>\n      <use xlink:href=\"#DejaVuSans-63\" x=\"186.181641\"/>\n      <use xlink:href=\"#DejaVuSans-68\" x=\"241.162109\"/>\n     </g>\n    </g>\n   </g>\n   <g id=\"matplotlib.axis_2\">\n    <g id=\"ytick_1\">\n     <g id=\"line2d_7\">\n      <defs>\n       <path id=\"m460e6be843\" d=\"M 0 0 \nL -3.5 0 \n\" style=\"stroke: #000000; stroke-width: 0.8\"/>\n      </defs>\n      <g>\n       <use xlink:href=\"#m460e6be843\" x=\"30.103125\" y=\"120.317009\" style=\"stroke: #000000; stroke-width: 0.8\"/>\n      </g>\n     </g>\n     <g id=\"text_8\">\n      <!-- 0.4 -->\n      <g transform=\"translate(7.2 124.116228) scale(0.1 -0.1)\">\n       <defs>\n        <path id=\"DejaVuSans-2e\" d=\"M 684 794 \nL 1344 794 \nL 1344 0 \nL 684 0 \nL 684 794 \nz\n\" transform=\"scale(0.015625)\"/>\n       </defs>\n       <use xlink:href=\"#DejaVuSans-30\"/>\n       <use xlink:href=\"#DejaVuSans-2e\" x=\"63.623047\"/>\n       <use xlink:href=\"#DejaVuSans-34\" x=\"95.410156\"/>\n      </g>\n     </g>\n    </g>\n    <g id=\"ytick_2\">\n     <g id=\"line2d_8\">\n      <g>\n       <use xlink:href=\"#m460e6be843\" x=\"30.103125\" y=\"82.37764\" style=\"stroke: #000000; stroke-width: 0.8\"/>\n      </g>\n     </g>\n     <g id=\"text_9\">\n      <!-- 0.6 -->\n      <g transform=\"translate(7.2 86.176858) scale(0.1 -0.1)\">\n       <use xlink:href=\"#DejaVuSans-30\"/>\n       <use xlink:href=\"#DejaVuSans-2e\" x=\"63.623047\"/>\n       <use xlink:href=\"#DejaVuSans-36\" x=\"95.410156\"/>\n      </g>\n     </g>\n    </g>\n    <g id=\"ytick_3\">\n     <g id=\"line2d_9\">\n      <g>\n       <use xlink:href=\"#m460e6be843\" x=\"30.103125\" y=\"44.43827\" style=\"stroke: #000000; stroke-width: 0.8\"/>\n      </g>\n     </g>\n     <g id=\"text_10\">\n      <!-- 0.8 -->\n      <g transform=\"translate(7.2 48.237489) scale(0.1 -0.1)\">\n       <use xlink:href=\"#DejaVuSans-30\"/>\n       <use xlink:href=\"#DejaVuSans-2e\" x=\"63.623047\"/>\n       <use xlink:href=\"#DejaVuSans-38\" x=\"95.410156\"/>\n      </g>\n     </g>\n    </g>\n   </g>\n   <g id=\"line2d_10\">\n    <path d=\"M 34.954394 13.5 \n\" clip-path=\"url(#p3761226b32)\" style=\"fill: none; stroke: #1f77b4; stroke-width: 1.5; stroke-linecap: square\"/>\n   </g>\n   <g id=\"line2d_11\">\n    <path d=\"M 34.954394 13.5 \nL 44.698573 79.928787 \n\" clip-path=\"url(#p3761226b32)\" style=\"fill: none; stroke: #1f77b4; stroke-width: 1.5; stroke-linecap: square\"/>\n   </g>\n   <g id=\"line2d_12\">\n    <path d=\"M 34.954394 13.5 \nL 44.698573 79.928787 \n\" clip-path=\"url(#p3761226b32)\" style=\"fill: none; stroke: #1f77b4; stroke-width: 1.5; stroke-linecap: square\"/>\n   </g>\n   <g id=\"line2d_13\">\n    <path d=\"M 49.633125 78.865328 \n\" clip-path=\"url(#p3761226b32)\" style=\"fill: none; stroke-dasharray: 5.55,2.4; stroke-dashoffset: 0; stroke: #ff7f0e; stroke-width: 1.5\"/>\n   </g>\n   <g id=\"line2d_14\"/>\n   <g id=\"line2d_15\">\n    <path d=\"M 34.954394 13.5 \nL 44.698573 79.928787 \n\" clip-path=\"url(#p3761226b32)\" style=\"fill: none; stroke: #1f77b4; stroke-width: 1.5; stroke-linecap: square\"/>\n   </g>\n   <g id=\"line2d_16\">\n    <path d=\"M 49.633125 78.865328 \n\" clip-path=\"url(#p3761226b32)\" style=\"fill: none; stroke-dasharray: 5.55,2.4; stroke-dashoffset: 0; stroke: #ff7f0e; stroke-width: 1.5\"/>\n   </g>\n   <g id=\"line2d_17\">\n    <path d=\"M 49.633125 44.243171 \n\" clip-path=\"url(#p3761226b32)\" style=\"fill: none; stroke-dasharray: 9.6,2.4,1.5,2.4; stroke-dashoffset: 0; stroke: #2ca02c; stroke-width: 1.5\"/>\n   </g>\n   <g id=\"line2d_18\">\n    <path d=\"M 34.954394 13.5 \nL 44.698573 79.928787 \nL 54.442752 95.626239 \n\" clip-path=\"url(#p3761226b32)\" style=\"fill: none; stroke: #1f77b4; stroke-width: 1.5; stroke-linecap: square\"/>\n   </g>\n   <g id=\"line2d_19\">\n    <path d=\"M 49.633125 78.865328 \n\" clip-path=\"url(#p3761226b32)\" style=\"fill: none; stroke-dasharray: 5.55,2.4; stroke-dashoffset: 0; stroke: #ff7f0e; stroke-width: 1.5\"/>\n   </g>\n   <g id=\"line2d_20\">\n    <path d=\"M 49.633125 44.243171 \n\" clip-path=\"url(#p3761226b32)\" style=\"fill: none; stroke-dasharray: 9.6,2.4,1.5,2.4; stroke-dashoffset: 0; stroke: #2ca02c; stroke-width: 1.5\"/>\n   </g>\n   <g id=\"line2d_21\">\n    <path d=\"M 34.954394 13.5 \nL 44.698573 79.928787 \nL 54.442752 95.626239 \nL 64.186931 104.963712 \n\" clip-path=\"url(#p3761226b32)\" style=\"fill: none; stroke: #1f77b4; stroke-width: 1.5; stroke-linecap: square\"/>\n   </g>\n   <g id=\"line2d_22\">\n    <path d=\"M 49.633125 78.865328 \n\" clip-path=\"url(#p3761226b32)\" style=\"fill: none; stroke-dasharray: 5.55,2.4; stroke-dashoffset: 0; stroke: #ff7f0e; stroke-width: 1.5\"/>\n   </g>\n   <g id=\"line2d_23\">\n    <path d=\"M 49.633125 44.243171 \n\" clip-path=\"url(#p3761226b32)\" style=\"fill: none; stroke-dasharray: 9.6,2.4,1.5,2.4; stroke-dashoffset: 0; stroke: #2ca02c; stroke-width: 1.5\"/>\n   </g>\n   <g id=\"line2d_24\">\n    <path d=\"M 34.954394 13.5 \nL 44.698573 79.928787 \nL 54.442752 95.626239 \nL 64.186931 104.963712 \n\" clip-path=\"url(#p3761226b32)\" style=\"fill: none; stroke: #1f77b4; stroke-width: 1.5; stroke-linecap: square\"/>\n   </g>\n   <g id=\"line2d_25\">\n    <path d=\"M 49.633125 78.865328 \nL 69.163125 99.456664 \n\" clip-path=\"url(#p3761226b32)\" style=\"fill: none; stroke-dasharray: 5.55,2.4; stroke-dashoffset: 0; stroke: #ff7f0e; stroke-width: 1.5\"/>\n   </g>\n   <g id=\"line2d_26\">\n    <path d=\"M 49.633125 44.243171 \n\" clip-path=\"url(#p3761226b32)\" style=\"fill: none; stroke-dasharray: 9.6,2.4,1.5,2.4; stroke-dashoffset: 0; stroke: #2ca02c; stroke-width: 1.5\"/>\n   </g>\n   <g id=\"line2d_27\">\n    <path d=\"M 34.954394 13.5 \nL 44.698573 79.928787 \nL 54.442752 95.626239 \nL 64.186931 104.963712 \n\" clip-path=\"url(#p3761226b32)\" style=\"fill: none; stroke: #1f77b4; stroke-width: 1.5; stroke-linecap: square\"/>\n   </g>\n   <g id=\"line2d_28\">\n    <path d=\"M 49.633125 78.865328 \nL 69.163125 99.456664 \n\" clip-path=\"url(#p3761226b32)\" style=\"fill: none; stroke-dasharray: 5.55,2.4; stroke-dashoffset: 0; stroke: #ff7f0e; stroke-width: 1.5\"/>\n   </g>\n   <g id=\"line2d_29\">\n    <path d=\"M 49.633125 44.243171 \nL 69.163125 40.453736 \n\" clip-path=\"url(#p3761226b32)\" style=\"fill: none; stroke-dasharray: 9.6,2.4,1.5,2.4; stroke-dashoffset: 0; stroke: #2ca02c; stroke-width: 1.5\"/>\n   </g>\n   <g id=\"line2d_30\">\n    <path d=\"M 34.954394 13.5 \nL 44.698573 79.928787 \nL 54.442752 95.626239 \nL 64.186931 104.963712 \nL 73.93111 110.501966 \n\" clip-path=\"url(#p3761226b32)\" style=\"fill: none; stroke: #1f77b4; stroke-width: 1.5; stroke-linecap: square\"/>\n   </g>\n   <g id=\"line2d_31\">\n    <path d=\"M 49.633125 78.865328 \nL 69.163125 99.456664 \n\" clip-path=\"url(#p3761226b32)\" style=\"fill: none; stroke-dasharray: 5.55,2.4; stroke-dashoffset: 0; stroke: #ff7f0e; stroke-width: 1.5\"/>\n   </g>\n   <g id=\"line2d_32\">\n    <path d=\"M 49.633125 44.243171 \nL 69.163125 40.453736 \n\" clip-path=\"url(#p3761226b32)\" style=\"fill: none; stroke-dasharray: 9.6,2.4,1.5,2.4; stroke-dashoffset: 0; stroke: #2ca02c; stroke-width: 1.5\"/>\n   </g>\n   <g id=\"line2d_33\">\n    <path d=\"M 34.954394 13.5 \nL 44.698573 79.928787 \nL 54.442752 95.626239 \nL 64.186931 104.963712 \nL 73.93111 110.501966 \nL 83.675289 115.590829 \n\" clip-path=\"url(#p3761226b32)\" style=\"fill: none; stroke: #1f77b4; stroke-width: 1.5; stroke-linecap: square\"/>\n   </g>\n   <g id=\"line2d_34\">\n    <path d=\"M 49.633125 78.865328 \nL 69.163125 99.456664 \n\" clip-path=\"url(#p3761226b32)\" style=\"fill: none; stroke-dasharray: 5.55,2.4; stroke-dashoffset: 0; stroke: #ff7f0e; stroke-width: 1.5\"/>\n   </g>\n   <g id=\"line2d_35\">\n    <path d=\"M 49.633125 44.243171 \nL 69.163125 40.453736 \n\" clip-path=\"url(#p3761226b32)\" style=\"fill: none; stroke-dasharray: 9.6,2.4,1.5,2.4; stroke-dashoffset: 0; stroke: #2ca02c; stroke-width: 1.5\"/>\n   </g>\n   <g id=\"line2d_36\">\n    <path d=\"M 34.954394 13.5 \nL 44.698573 79.928787 \nL 54.442752 95.626239 \nL 64.186931 104.963712 \nL 73.93111 110.501966 \nL 83.675289 115.590829 \n\" clip-path=\"url(#p3761226b32)\" style=\"fill: none; stroke: #1f77b4; stroke-width: 1.5; stroke-linecap: square\"/>\n   </g>\n   <g id=\"line2d_37\">\n    <path d=\"M 49.633125 78.865328 \nL 69.163125 99.456664 \nL 88.693125 104.053681 \n\" clip-path=\"url(#p3761226b32)\" style=\"fill: none; stroke-dasharray: 5.55,2.4; stroke-dashoffset: 0; stroke: #ff7f0e; stroke-width: 1.5\"/>\n   </g>\n   <g id=\"line2d_38\">\n    <path d=\"M 49.633125 44.243171 \nL 69.163125 40.453736 \n\" clip-path=\"url(#p3761226b32)\" style=\"fill: none; stroke-dasharray: 9.6,2.4,1.5,2.4; stroke-dashoffset: 0; stroke: #2ca02c; stroke-width: 1.5\"/>\n   </g>\n   <g id=\"line2d_39\">\n    <path d=\"M 34.954394 13.5 \nL 44.698573 79.928787 \nL 54.442752 95.626239 \nL 64.186931 104.963712 \nL 73.93111 110.501966 \nL 83.675289 115.590829 \n\" clip-path=\"url(#p3761226b32)\" style=\"fill: none; stroke: #1f77b4; stroke-width: 1.5; stroke-linecap: square\"/>\n   </g>\n   <g id=\"line2d_40\">\n    <path d=\"M 49.633125 78.865328 \nL 69.163125 99.456664 \nL 88.693125 104.053681 \n\" clip-path=\"url(#p3761226b32)\" style=\"fill: none; stroke-dasharray: 5.55,2.4; stroke-dashoffset: 0; stroke: #ff7f0e; stroke-width: 1.5\"/>\n   </g>\n   <g id=\"line2d_41\">\n    <path d=\"M 49.633125 44.243171 \nL 69.163125 40.453736 \nL 88.693125 38.50274 \n\" clip-path=\"url(#p3761226b32)\" style=\"fill: none; stroke-dasharray: 9.6,2.4,1.5,2.4; stroke-dashoffset: 0; stroke: #2ca02c; stroke-width: 1.5\"/>\n   </g>\n   <g id=\"line2d_42\">\n    <path d=\"M 34.954394 13.5 \nL 44.698573 79.928787 \nL 54.442752 95.626239 \nL 64.186931 104.963712 \nL 73.93111 110.501966 \nL 83.675289 115.590829 \nL 93.419468 119.904412 \n\" clip-path=\"url(#p3761226b32)\" style=\"fill: none; stroke: #1f77b4; stroke-width: 1.5; stroke-linecap: square\"/>\n   </g>\n   <g id=\"line2d_43\">\n    <path d=\"M 49.633125 78.865328 \nL 69.163125 99.456664 \nL 88.693125 104.053681 \n\" clip-path=\"url(#p3761226b32)\" style=\"fill: none; stroke-dasharray: 5.55,2.4; stroke-dashoffset: 0; stroke: #ff7f0e; stroke-width: 1.5\"/>\n   </g>\n   <g id=\"line2d_44\">\n    <path d=\"M 49.633125 44.243171 \nL 69.163125 40.453736 \nL 88.693125 38.50274 \n\" clip-path=\"url(#p3761226b32)\" style=\"fill: none; stroke-dasharray: 9.6,2.4,1.5,2.4; stroke-dashoffset: 0; stroke: #2ca02c; stroke-width: 1.5\"/>\n   </g>\n   <g id=\"line2d_45\">\n    <path d=\"M 34.954394 13.5 \nL 44.698573 79.928787 \nL 54.442752 95.626239 \nL 64.186931 104.963712 \nL 73.93111 110.501966 \nL 83.675289 115.590829 \nL 93.419468 119.904412 \nL 103.163647 121.18518 \n\" clip-path=\"url(#p3761226b32)\" style=\"fill: none; stroke: #1f77b4; stroke-width: 1.5; stroke-linecap: square\"/>\n   </g>\n   <g id=\"line2d_46\">\n    <path d=\"M 49.633125 78.865328 \nL 69.163125 99.456664 \nL 88.693125 104.053681 \n\" clip-path=\"url(#p3761226b32)\" style=\"fill: none; stroke-dasharray: 5.55,2.4; stroke-dashoffset: 0; stroke: #ff7f0e; stroke-width: 1.5\"/>\n   </g>\n   <g id=\"line2d_47\">\n    <path d=\"M 49.633125 44.243171 \nL 69.163125 40.453736 \nL 88.693125 38.50274 \n\" clip-path=\"url(#p3761226b32)\" style=\"fill: none; stroke-dasharray: 9.6,2.4,1.5,2.4; stroke-dashoffset: 0; stroke: #2ca02c; stroke-width: 1.5\"/>\n   </g>\n   <g id=\"line2d_48\">\n    <path d=\"M 34.954394 13.5 \nL 44.698573 79.928787 \nL 54.442752 95.626239 \nL 64.186931 104.963712 \nL 73.93111 110.501966 \nL 83.675289 115.590829 \nL 93.419468 119.904412 \nL 103.163647 121.18518 \n\" clip-path=\"url(#p3761226b32)\" style=\"fill: none; stroke: #1f77b4; stroke-width: 1.5; stroke-linecap: square\"/>\n   </g>\n   <g id=\"line2d_49\">\n    <path d=\"M 49.633125 78.865328 \nL 69.163125 99.456664 \nL 88.693125 104.053681 \nL 108.223125 118.530875 \n\" clip-path=\"url(#p3761226b32)\" style=\"fill: none; stroke-dasharray: 5.55,2.4; stroke-dashoffset: 0; stroke: #ff7f0e; stroke-width: 1.5\"/>\n   </g>\n   <g id=\"line2d_50\">\n    <path d=\"M 49.633125 44.243171 \nL 69.163125 40.453736 \nL 88.693125 38.50274 \n\" clip-path=\"url(#p3761226b32)\" style=\"fill: none; stroke-dasharray: 9.6,2.4,1.5,2.4; stroke-dashoffset: 0; stroke: #2ca02c; stroke-width: 1.5\"/>\n   </g>\n   <g id=\"line2d_51\">\n    <path d=\"M 34.954394 13.5 \nL 44.698573 79.928787 \nL 54.442752 95.626239 \nL 64.186931 104.963712 \nL 73.93111 110.501966 \nL 83.675289 115.590829 \nL 93.419468 119.904412 \nL 103.163647 121.18518 \n\" clip-path=\"url(#p3761226b32)\" style=\"fill: none; stroke: #1f77b4; stroke-width: 1.5; stroke-linecap: square\"/>\n   </g>\n   <g id=\"line2d_52\">\n    <path d=\"M 49.633125 78.865328 \nL 69.163125 99.456664 \nL 88.693125 104.053681 \nL 108.223125 118.530875 \n\" clip-path=\"url(#p3761226b32)\" style=\"fill: none; stroke-dasharray: 5.55,2.4; stroke-dashoffset: 0; stroke: #ff7f0e; stroke-width: 1.5\"/>\n   </g>\n   <g id=\"line2d_53\">\n    <path d=\"M 49.633125 44.243171 \nL 69.163125 40.453736 \nL 88.693125 38.50274 \nL 108.223125 34.544469 \n\" clip-path=\"url(#p3761226b32)\" style=\"fill: none; stroke-dasharray: 9.6,2.4,1.5,2.4; stroke-dashoffset: 0; stroke: #2ca02c; stroke-width: 1.5\"/>\n   </g>\n   <g id=\"line2d_54\">\n    <path d=\"M 34.954394 13.5 \nL 44.698573 79.928787 \nL 54.442752 95.626239 \nL 64.186931 104.963712 \nL 73.93111 110.501966 \nL 83.675289 115.590829 \nL 93.419468 119.904412 \nL 103.163647 121.18518 \nL 112.907826 123.763806 \n\" clip-path=\"url(#p3761226b32)\" style=\"fill: none; stroke: #1f77b4; stroke-width: 1.5; stroke-linecap: square\"/>\n   </g>\n   <g id=\"line2d_55\">\n    <path d=\"M 49.633125 78.865328 \nL 69.163125 99.456664 \nL 88.693125 104.053681 \nL 108.223125 118.530875 \n\" clip-path=\"url(#p3761226b32)\" style=\"fill: none; stroke-dasharray: 5.55,2.4; stroke-dashoffset: 0; stroke: #ff7f0e; stroke-width: 1.5\"/>\n   </g>\n   <g id=\"line2d_56\">\n    <path d=\"M 49.633125 44.243171 \nL 69.163125 40.453736 \nL 88.693125 38.50274 \nL 108.223125 34.544469 \n\" clip-path=\"url(#p3761226b32)\" style=\"fill: none; stroke-dasharray: 9.6,2.4,1.5,2.4; stroke-dashoffset: 0; stroke: #2ca02c; stroke-width: 1.5\"/>\n   </g>\n   <g id=\"line2d_57\">\n    <path d=\"M 34.954394 13.5 \nL 44.698573 79.928787 \nL 54.442752 95.626239 \nL 64.186931 104.963712 \nL 73.93111 110.501966 \nL 83.675289 115.590829 \nL 93.419468 119.904412 \nL 103.163647 121.18518 \nL 112.907826 123.763806 \nL 122.652006 126.693847 \n\" clip-path=\"url(#p3761226b32)\" style=\"fill: none; stroke: #1f77b4; stroke-width: 1.5; stroke-linecap: square\"/>\n   </g>\n   <g id=\"line2d_58\">\n    <path d=\"M 49.633125 78.865328 \nL 69.163125 99.456664 \nL 88.693125 104.053681 \nL 108.223125 118.530875 \n\" clip-path=\"url(#p3761226b32)\" style=\"fill: none; stroke-dasharray: 5.55,2.4; stroke-dashoffset: 0; stroke: #ff7f0e; stroke-width: 1.5\"/>\n   </g>\n   <g id=\"line2d_59\">\n    <path d=\"M 49.633125 44.243171 \nL 69.163125 40.453736 \nL 88.693125 38.50274 \nL 108.223125 34.544469 \n\" clip-path=\"url(#p3761226b32)\" style=\"fill: none; stroke-dasharray: 9.6,2.4,1.5,2.4; stroke-dashoffset: 0; stroke: #2ca02c; stroke-width: 1.5\"/>\n   </g>\n   <g id=\"line2d_60\">\n    <path d=\"M 34.954394 13.5 \nL 44.698573 79.928787 \nL 54.442752 95.626239 \nL 64.186931 104.963712 \nL 73.93111 110.501966 \nL 83.675289 115.590829 \nL 93.419468 119.904412 \nL 103.163647 121.18518 \nL 112.907826 123.763806 \nL 122.652006 126.693847 \n\" clip-path=\"url(#p3761226b32)\" style=\"fill: none; stroke: #1f77b4; stroke-width: 1.5; stroke-linecap: square\"/>\n   </g>\n   <g id=\"line2d_61\">\n    <path d=\"M 49.633125 78.865328 \nL 69.163125 99.456664 \nL 88.693125 104.053681 \nL 108.223125 118.530875 \nL 127.753125 120.551699 \n\" clip-path=\"url(#p3761226b32)\" style=\"fill: none; stroke-dasharray: 5.55,2.4; stroke-dashoffset: 0; stroke: #ff7f0e; stroke-width: 1.5\"/>\n   </g>\n   <g id=\"line2d_62\">\n    <path d=\"M 49.633125 44.243171 \nL 69.163125 40.453736 \nL 88.693125 38.50274 \nL 108.223125 34.544469 \n\" clip-path=\"url(#p3761226b32)\" style=\"fill: none; stroke-dasharray: 9.6,2.4,1.5,2.4; stroke-dashoffset: 0; stroke: #2ca02c; stroke-width: 1.5\"/>\n   </g>\n   <g id=\"line2d_63\">\n    <path d=\"M 34.954394 13.5 \nL 44.698573 79.928787 \nL 54.442752 95.626239 \nL 64.186931 104.963712 \nL 73.93111 110.501966 \nL 83.675289 115.590829 \nL 93.419468 119.904412 \nL 103.163647 121.18518 \nL 112.907826 123.763806 \nL 122.652006 126.693847 \n\" clip-path=\"url(#p3761226b32)\" style=\"fill: none; stroke: #1f77b4; stroke-width: 1.5; stroke-linecap: square\"/>\n   </g>\n   <g id=\"line2d_64\">\n    <path d=\"M 49.633125 78.865328 \nL 69.163125 99.456664 \nL 88.693125 104.053681 \nL 108.223125 118.530875 \nL 127.753125 120.551699 \n\" clip-path=\"url(#p3761226b32)\" style=\"fill: none; stroke-dasharray: 5.55,2.4; stroke-dashoffset: 0; stroke: #ff7f0e; stroke-width: 1.5\"/>\n   </g>\n   <g id=\"line2d_65\">\n    <path d=\"M 49.633125 44.243171 \nL 69.163125 40.453736 \nL 88.693125 38.50274 \nL 108.223125 34.544469 \nL 127.753125 33.043703 \n\" clip-path=\"url(#p3761226b32)\" style=\"fill: none; stroke-dasharray: 9.6,2.4,1.5,2.4; stroke-dashoffset: 0; stroke: #2ca02c; stroke-width: 1.5\"/>\n   </g>\n   <g id=\"line2d_66\">\n    <path d=\"M 34.954394 13.5 \nL 44.698573 79.928787 \nL 54.442752 95.626239 \nL 64.186931 104.963712 \nL 73.93111 110.501966 \nL 83.675289 115.590829 \nL 93.419468 119.904412 \nL 103.163647 121.18518 \nL 112.907826 123.763806 \nL 122.652006 126.693847 \nL 132.396185 128.856342 \n\" clip-path=\"url(#p3761226b32)\" style=\"fill: none; stroke: #1f77b4; stroke-width: 1.5; stroke-linecap: square\"/>\n   </g>\n   <g id=\"line2d_67\">\n    <path d=\"M 49.633125 78.865328 \nL 69.163125 99.456664 \nL 88.693125 104.053681 \nL 108.223125 118.530875 \nL 127.753125 120.551699 \n\" clip-path=\"url(#p3761226b32)\" style=\"fill: none; stroke-dasharray: 5.55,2.4; stroke-dashoffset: 0; stroke: #ff7f0e; stroke-width: 1.5\"/>\n   </g>\n   <g id=\"line2d_68\">\n    <path d=\"M 49.633125 44.243171 \nL 69.163125 40.453736 \nL 88.693125 38.50274 \nL 108.223125 34.544469 \nL 127.753125 33.043703 \n\" clip-path=\"url(#p3761226b32)\" style=\"fill: none; stroke-dasharray: 9.6,2.4,1.5,2.4; stroke-dashoffset: 0; stroke: #2ca02c; stroke-width: 1.5\"/>\n   </g>\n   <g id=\"line2d_69\">\n    <path d=\"M 34.954394 13.5 \nL 44.698573 79.928787 \nL 54.442752 95.626239 \nL 64.186931 104.963712 \nL 73.93111 110.501966 \nL 83.675289 115.590829 \nL 93.419468 119.904412 \nL 103.163647 121.18518 \nL 112.907826 123.763806 \nL 122.652006 126.693847 \nL 132.396185 128.856342 \nL 142.140364 129.125501 \n\" clip-path=\"url(#p3761226b32)\" style=\"fill: none; stroke: #1f77b4; stroke-width: 1.5; stroke-linecap: square\"/>\n   </g>\n   <g id=\"line2d_70\">\n    <path d=\"M 49.633125 78.865328 \nL 69.163125 99.456664 \nL 88.693125 104.053681 \nL 108.223125 118.530875 \nL 127.753125 120.551699 \n\" clip-path=\"url(#p3761226b32)\" style=\"fill: none; stroke-dasharray: 5.55,2.4; stroke-dashoffset: 0; stroke: #ff7f0e; stroke-width: 1.5\"/>\n   </g>\n   <g id=\"line2d_71\">\n    <path d=\"M 49.633125 44.243171 \nL 69.163125 40.453736 \nL 88.693125 38.50274 \nL 108.223125 34.544469 \nL 127.753125 33.043703 \n\" clip-path=\"url(#p3761226b32)\" style=\"fill: none; stroke-dasharray: 9.6,2.4,1.5,2.4; stroke-dashoffset: 0; stroke: #2ca02c; stroke-width: 1.5\"/>\n   </g>\n   <g id=\"line2d_72\">\n    <path d=\"M 34.954394 13.5 \nL 44.698573 79.928787 \nL 54.442752 95.626239 \nL 64.186931 104.963712 \nL 73.93111 110.501966 \nL 83.675289 115.590829 \nL 93.419468 119.904412 \nL 103.163647 121.18518 \nL 112.907826 123.763806 \nL 122.652006 126.693847 \nL 132.396185 128.856342 \nL 142.140364 129.125501 \n\" clip-path=\"url(#p3761226b32)\" style=\"fill: none; stroke: #1f77b4; stroke-width: 1.5; stroke-linecap: square\"/>\n   </g>\n   <g id=\"line2d_73\">\n    <path d=\"M 49.633125 78.865328 \nL 69.163125 99.456664 \nL 88.693125 104.053681 \nL 108.223125 118.530875 \nL 127.753125 120.551699 \nL 147.283125 122.945618 \n\" clip-path=\"url(#p3761226b32)\" style=\"fill: none; stroke-dasharray: 5.55,2.4; stroke-dashoffset: 0; stroke: #ff7f0e; stroke-width: 1.5\"/>\n   </g>\n   <g id=\"line2d_74\">\n    <path d=\"M 49.633125 44.243171 \nL 69.163125 40.453736 \nL 88.693125 38.50274 \nL 108.223125 34.544469 \nL 127.753125 33.043703 \n\" clip-path=\"url(#p3761226b32)\" style=\"fill: none; stroke-dasharray: 9.6,2.4,1.5,2.4; stroke-dashoffset: 0; stroke: #2ca02c; stroke-width: 1.5\"/>\n   </g>\n   <g id=\"line2d_75\">\n    <path d=\"M 34.954394 13.5 \nL 44.698573 79.928787 \nL 54.442752 95.626239 \nL 64.186931 104.963712 \nL 73.93111 110.501966 \nL 83.675289 115.590829 \nL 93.419468 119.904412 \nL 103.163647 121.18518 \nL 112.907826 123.763806 \nL 122.652006 126.693847 \nL 132.396185 128.856342 \nL 142.140364 129.125501 \n\" clip-path=\"url(#p3761226b32)\" style=\"fill: none; stroke: #1f77b4; stroke-width: 1.5; stroke-linecap: square\"/>\n   </g>\n   <g id=\"line2d_76\">\n    <path d=\"M 49.633125 78.865328 \nL 69.163125 99.456664 \nL 88.693125 104.053681 \nL 108.223125 118.530875 \nL 127.753125 120.551699 \nL 147.283125 122.945618 \n\" clip-path=\"url(#p3761226b32)\" style=\"fill: none; stroke-dasharray: 5.55,2.4; stroke-dashoffset: 0; stroke: #ff7f0e; stroke-width: 1.5\"/>\n   </g>\n   <g id=\"line2d_77\">\n    <path d=\"M 49.633125 44.243171 \nL 69.163125 40.453736 \nL 88.693125 38.50274 \nL 108.223125 34.544469 \nL 127.753125 33.043703 \nL 147.283125 32.799828 \n\" clip-path=\"url(#p3761226b32)\" style=\"fill: none; stroke-dasharray: 9.6,2.4,1.5,2.4; stroke-dashoffset: 0; stroke: #2ca02c; stroke-width: 1.5\"/>\n   </g>\n   <g id=\"line2d_78\">\n    <path d=\"M 34.954394 13.5 \nL 44.698573 79.928787 \nL 54.442752 95.626239 \nL 64.186931 104.963712 \nL 73.93111 110.501966 \nL 83.675289 115.590829 \nL 93.419468 119.904412 \nL 103.163647 121.18518 \nL 112.907826 123.763806 \nL 122.652006 126.693847 \nL 132.396185 128.856342 \nL 142.140364 129.125501 \nL 151.884543 131.349157 \n\" clip-path=\"url(#p3761226b32)\" style=\"fill: none; stroke: #1f77b4; stroke-width: 1.5; stroke-linecap: square\"/>\n   </g>\n   <g id=\"line2d_79\">\n    <path d=\"M 49.633125 78.865328 \nL 69.163125 99.456664 \nL 88.693125 104.053681 \nL 108.223125 118.530875 \nL 127.753125 120.551699 \nL 147.283125 122.945618 \n\" clip-path=\"url(#p3761226b32)\" style=\"fill: none; stroke-dasharray: 5.55,2.4; stroke-dashoffset: 0; stroke: #ff7f0e; stroke-width: 1.5\"/>\n   </g>\n   <g id=\"line2d_80\">\n    <path d=\"M 49.633125 44.243171 \nL 69.163125 40.453736 \nL 88.693125 38.50274 \nL 108.223125 34.544469 \nL 127.753125 33.043703 \nL 147.283125 32.799828 \n\" clip-path=\"url(#p3761226b32)\" style=\"fill: none; stroke-dasharray: 9.6,2.4,1.5,2.4; stroke-dashoffset: 0; stroke: #2ca02c; stroke-width: 1.5\"/>\n   </g>\n   <g id=\"line2d_81\">\n    <path d=\"M 34.954394 13.5 \nL 44.698573 79.928787 \nL 54.442752 95.626239 \nL 64.186931 104.963712 \nL 73.93111 110.501966 \nL 83.675289 115.590829 \nL 93.419468 119.904412 \nL 103.163647 121.18518 \nL 112.907826 123.763806 \nL 122.652006 126.693847 \nL 132.396185 128.856342 \nL 142.140364 129.125501 \nL 151.884543 131.349157 \nL 161.628722 133.038378 \n\" clip-path=\"url(#p3761226b32)\" style=\"fill: none; stroke: #1f77b4; stroke-width: 1.5; stroke-linecap: square\"/>\n   </g>\n   <g id=\"line2d_82\">\n    <path d=\"M 49.633125 78.865328 \nL 69.163125 99.456664 \nL 88.693125 104.053681 \nL 108.223125 118.530875 \nL 127.753125 120.551699 \nL 147.283125 122.945618 \n\" clip-path=\"url(#p3761226b32)\" style=\"fill: none; stroke-dasharray: 5.55,2.4; stroke-dashoffset: 0; stroke: #ff7f0e; stroke-width: 1.5\"/>\n   </g>\n   <g id=\"line2d_83\">\n    <path d=\"M 49.633125 44.243171 \nL 69.163125 40.453736 \nL 88.693125 38.50274 \nL 108.223125 34.544469 \nL 127.753125 33.043703 \nL 147.283125 32.799828 \n\" clip-path=\"url(#p3761226b32)\" style=\"fill: none; stroke-dasharray: 9.6,2.4,1.5,2.4; stroke-dashoffset: 0; stroke: #2ca02c; stroke-width: 1.5\"/>\n   </g>\n   <g id=\"line2d_84\">\n    <path d=\"M 34.954394 13.5 \nL 44.698573 79.928787 \nL 54.442752 95.626239 \nL 64.186931 104.963712 \nL 73.93111 110.501966 \nL 83.675289 115.590829 \nL 93.419468 119.904412 \nL 103.163647 121.18518 \nL 112.907826 123.763806 \nL 122.652006 126.693847 \nL 132.396185 128.856342 \nL 142.140364 129.125501 \nL 151.884543 131.349157 \nL 161.628722 133.038378 \n\" clip-path=\"url(#p3761226b32)\" style=\"fill: none; stroke: #1f77b4; stroke-width: 1.5; stroke-linecap: square\"/>\n   </g>\n   <g id=\"line2d_85\">\n    <path d=\"M 49.633125 78.865328 \nL 69.163125 99.456664 \nL 88.693125 104.053681 \nL 108.223125 118.530875 \nL 127.753125 120.551699 \nL 147.283125 122.945618 \nL 166.813125 119.572021 \n\" clip-path=\"url(#p3761226b32)\" style=\"fill: none; stroke-dasharray: 5.55,2.4; stroke-dashoffset: 0; stroke: #ff7f0e; stroke-width: 1.5\"/>\n   </g>\n   <g id=\"line2d_86\">\n    <path d=\"M 49.633125 44.243171 \nL 69.163125 40.453736 \nL 88.693125 38.50274 \nL 108.223125 34.544469 \nL 127.753125 33.043703 \nL 147.283125 32.799828 \n\" clip-path=\"url(#p3761226b32)\" style=\"fill: none; stroke-dasharray: 9.6,2.4,1.5,2.4; stroke-dashoffset: 0; stroke: #2ca02c; stroke-width: 1.5\"/>\n   </g>\n   <g id=\"line2d_87\">\n    <path d=\"M 34.954394 13.5 \nL 44.698573 79.928787 \nL 54.442752 95.626239 \nL 64.186931 104.963712 \nL 73.93111 110.501966 \nL 83.675289 115.590829 \nL 93.419468 119.904412 \nL 103.163647 121.18518 \nL 112.907826 123.763806 \nL 122.652006 126.693847 \nL 132.396185 128.856342 \nL 142.140364 129.125501 \nL 151.884543 131.349157 \nL 161.628722 133.038378 \n\" clip-path=\"url(#p3761226b32)\" style=\"fill: none; stroke: #1f77b4; stroke-width: 1.5; stroke-linecap: square\"/>\n   </g>\n   <g id=\"line2d_88\">\n    <path d=\"M 49.633125 78.865328 \nL 69.163125 99.456664 \nL 88.693125 104.053681 \nL 108.223125 118.530875 \nL 127.753125 120.551699 \nL 147.283125 122.945618 \nL 166.813125 119.572021 \n\" clip-path=\"url(#p3761226b32)\" style=\"fill: none; stroke-dasharray: 5.55,2.4; stroke-dashoffset: 0; stroke: #ff7f0e; stroke-width: 1.5\"/>\n   </g>\n   <g id=\"line2d_89\">\n    <path d=\"M 49.633125 44.243171 \nL 69.163125 40.453736 \nL 88.693125 38.50274 \nL 108.223125 34.544469 \nL 127.753125 33.043703 \nL 147.283125 32.799828 \nL 166.813125 33.550212 \n\" clip-path=\"url(#p3761226b32)\" style=\"fill: none; stroke-dasharray: 9.6,2.4,1.5,2.4; stroke-dashoffset: 0; stroke: #2ca02c; stroke-width: 1.5\"/>\n   </g>\n   <g id=\"line2d_90\">\n    <path d=\"M 34.954394 13.5 \nL 44.698573 79.928787 \nL 54.442752 95.626239 \nL 64.186931 104.963712 \nL 73.93111 110.501966 \nL 83.675289 115.590829 \nL 93.419468 119.904412 \nL 103.163647 121.18518 \nL 112.907826 123.763806 \nL 122.652006 126.693847 \nL 132.396185 128.856342 \nL 142.140364 129.125501 \nL 151.884543 131.349157 \nL 161.628722 133.038378 \nL 171.372901 134.527103 \n\" clip-path=\"url(#p3761226b32)\" style=\"fill: none; stroke: #1f77b4; stroke-width: 1.5; stroke-linecap: square\"/>\n   </g>\n   <g id=\"line2d_91\">\n    <path d=\"M 49.633125 78.865328 \nL 69.163125 99.456664 \nL 88.693125 104.053681 \nL 108.223125 118.530875 \nL 127.753125 120.551699 \nL 147.283125 122.945618 \nL 166.813125 119.572021 \n\" clip-path=\"url(#p3761226b32)\" style=\"fill: none; stroke-dasharray: 5.55,2.4; stroke-dashoffset: 0; stroke: #ff7f0e; stroke-width: 1.5\"/>\n   </g>\n   <g id=\"line2d_92\">\n    <path d=\"M 49.633125 44.243171 \nL 69.163125 40.453736 \nL 88.693125 38.50274 \nL 108.223125 34.544469 \nL 127.753125 33.043703 \nL 147.283125 32.799828 \nL 166.813125 33.550212 \n\" clip-path=\"url(#p3761226b32)\" style=\"fill: none; stroke-dasharray: 9.6,2.4,1.5,2.4; stroke-dashoffset: 0; stroke: #2ca02c; stroke-width: 1.5\"/>\n   </g>\n   <g id=\"line2d_93\">\n    <path d=\"M 34.954394 13.5 \nL 44.698573 79.928787 \nL 54.442752 95.626239 \nL 64.186931 104.963712 \nL 73.93111 110.501966 \nL 83.675289 115.590829 \nL 93.419468 119.904412 \nL 103.163647 121.18518 \nL 112.907826 123.763806 \nL 122.652006 126.693847 \nL 132.396185 128.856342 \nL 142.140364 129.125501 \nL 151.884543 131.349157 \nL 161.628722 133.038378 \nL 171.372901 134.527103 \nL 181.11708 135.063382 \n\" clip-path=\"url(#p3761226b32)\" style=\"fill: none; stroke: #1f77b4; stroke-width: 1.5; stroke-linecap: square\"/>\n   </g>\n   <g id=\"line2d_94\">\n    <path d=\"M 49.633125 78.865328 \nL 69.163125 99.456664 \nL 88.693125 104.053681 \nL 108.223125 118.530875 \nL 127.753125 120.551699 \nL 147.283125 122.945618 \nL 166.813125 119.572021 \n\" clip-path=\"url(#p3761226b32)\" style=\"fill: none; stroke-dasharray: 5.55,2.4; stroke-dashoffset: 0; stroke: #ff7f0e; stroke-width: 1.5\"/>\n   </g>\n   <g id=\"line2d_95\">\n    <path d=\"M 49.633125 44.243171 \nL 69.163125 40.453736 \nL 88.693125 38.50274 \nL 108.223125 34.544469 \nL 127.753125 33.043703 \nL 147.283125 32.799828 \nL 166.813125 33.550212 \n\" clip-path=\"url(#p3761226b32)\" style=\"fill: none; stroke-dasharray: 9.6,2.4,1.5,2.4; stroke-dashoffset: 0; stroke: #2ca02c; stroke-width: 1.5\"/>\n   </g>\n   <g id=\"line2d_96\">\n    <path d=\"M 34.954394 13.5 \nL 44.698573 79.928787 \nL 54.442752 95.626239 \nL 64.186931 104.963712 \nL 73.93111 110.501966 \nL 83.675289 115.590829 \nL 93.419468 119.904412 \nL 103.163647 121.18518 \nL 112.907826 123.763806 \nL 122.652006 126.693847 \nL 132.396185 128.856342 \nL 142.140364 129.125501 \nL 151.884543 131.349157 \nL 161.628722 133.038378 \nL 171.372901 134.527103 \nL 181.11708 135.063382 \n\" clip-path=\"url(#p3761226b32)\" style=\"fill: none; stroke: #1f77b4; stroke-width: 1.5; stroke-linecap: square\"/>\n   </g>\n   <g id=\"line2d_97\">\n    <path d=\"M 49.633125 78.865328 \nL 69.163125 99.456664 \nL 88.693125 104.053681 \nL 108.223125 118.530875 \nL 127.753125 120.551699 \nL 147.283125 122.945618 \nL 166.813125 119.572021 \nL 186.343125 125.088285 \n\" clip-path=\"url(#p3761226b32)\" style=\"fill: none; stroke-dasharray: 5.55,2.4; stroke-dashoffset: 0; stroke: #ff7f0e; stroke-width: 1.5\"/>\n   </g>\n   <g id=\"line2d_98\">\n    <path d=\"M 49.633125 44.243171 \nL 69.163125 40.453736 \nL 88.693125 38.50274 \nL 108.223125 34.544469 \nL 127.753125 33.043703 \nL 147.283125 32.799828 \nL 166.813125 33.550212 \n\" clip-path=\"url(#p3761226b32)\" style=\"fill: none; stroke-dasharray: 9.6,2.4,1.5,2.4; stroke-dashoffset: 0; stroke: #2ca02c; stroke-width: 1.5\"/>\n   </g>\n   <g id=\"line2d_99\">\n    <path d=\"M 34.954394 13.5 \nL 44.698573 79.928787 \nL 54.442752 95.626239 \nL 64.186931 104.963712 \nL 73.93111 110.501966 \nL 83.675289 115.590829 \nL 93.419468 119.904412 \nL 103.163647 121.18518 \nL 112.907826 123.763806 \nL 122.652006 126.693847 \nL 132.396185 128.856342 \nL 142.140364 129.125501 \nL 151.884543 131.349157 \nL 161.628722 133.038378 \nL 171.372901 134.527103 \nL 181.11708 135.063382 \n\" clip-path=\"url(#p3761226b32)\" style=\"fill: none; stroke: #1f77b4; stroke-width: 1.5; stroke-linecap: square\"/>\n   </g>\n   <g id=\"line2d_100\">\n    <path d=\"M 49.633125 78.865328 \nL 69.163125 99.456664 \nL 88.693125 104.053681 \nL 108.223125 118.530875 \nL 127.753125 120.551699 \nL 147.283125 122.945618 \nL 166.813125 119.572021 \nL 186.343125 125.088285 \n\" clip-path=\"url(#p3761226b32)\" style=\"fill: none; stroke-dasharray: 5.55,2.4; stroke-dashoffset: 0; stroke: #ff7f0e; stroke-width: 1.5\"/>\n   </g>\n   <g id=\"line2d_101\">\n    <path d=\"M 49.633125 44.243171 \nL 69.163125 40.453736 \nL 88.693125 38.50274 \nL 108.223125 34.544469 \nL 127.753125 33.043703 \nL 147.283125 32.799828 \nL 166.813125 33.550212 \nL 186.343125 32.105724 \n\" clip-path=\"url(#p3761226b32)\" style=\"fill: none; stroke-dasharray: 9.6,2.4,1.5,2.4; stroke-dashoffset: 0; stroke: #2ca02c; stroke-width: 1.5\"/>\n   </g>\n   <g id=\"line2d_102\">\n    <path d=\"M 34.954394 13.5 \nL 44.698573 79.928787 \nL 54.442752 95.626239 \nL 64.186931 104.963712 \nL 73.93111 110.501966 \nL 83.675289 115.590829 \nL 93.419468 119.904412 \nL 103.163647 121.18518 \nL 112.907826 123.763806 \nL 122.652006 126.693847 \nL 132.396185 128.856342 \nL 142.140364 129.125501 \nL 151.884543 131.349157 \nL 161.628722 133.038378 \nL 171.372901 134.527103 \nL 181.11708 135.063382 \nL 190.861259 136.378307 \n\" clip-path=\"url(#p3761226b32)\" style=\"fill: none; stroke: #1f77b4; stroke-width: 1.5; stroke-linecap: square\"/>\n   </g>\n   <g id=\"line2d_103\">\n    <path d=\"M 49.633125 78.865328 \nL 69.163125 99.456664 \nL 88.693125 104.053681 \nL 108.223125 118.530875 \nL 127.753125 120.551699 \nL 147.283125 122.945618 \nL 166.813125 119.572021 \nL 186.343125 125.088285 \n\" clip-path=\"url(#p3761226b32)\" style=\"fill: none; stroke-dasharray: 5.55,2.4; stroke-dashoffset: 0; stroke: #ff7f0e; stroke-width: 1.5\"/>\n   </g>\n   <g id=\"line2d_104\">\n    <path d=\"M 49.633125 44.243171 \nL 69.163125 40.453736 \nL 88.693125 38.50274 \nL 108.223125 34.544469 \nL 127.753125 33.043703 \nL 147.283125 32.799828 \nL 166.813125 33.550212 \nL 186.343125 32.105724 \n\" clip-path=\"url(#p3761226b32)\" style=\"fill: none; stroke-dasharray: 9.6,2.4,1.5,2.4; stroke-dashoffset: 0; stroke: #2ca02c; stroke-width: 1.5\"/>\n   </g>\n   <g id=\"line2d_105\">\n    <path d=\"M 34.954394 13.5 \nL 44.698573 79.928787 \nL 54.442752 95.626239 \nL 64.186931 104.963712 \nL 73.93111 110.501966 \nL 83.675289 115.590829 \nL 93.419468 119.904412 \nL 103.163647 121.18518 \nL 112.907826 123.763806 \nL 122.652006 126.693847 \nL 132.396185 128.856342 \nL 142.140364 129.125501 \nL 151.884543 131.349157 \nL 161.628722 133.038378 \nL 171.372901 134.527103 \nL 181.11708 135.063382 \nL 190.861259 136.378307 \nL 200.605438 137.038908 \n\" clip-path=\"url(#p3761226b32)\" style=\"fill: none; stroke: #1f77b4; stroke-width: 1.5; stroke-linecap: square\"/>\n   </g>\n   <g id=\"line2d_106\">\n    <path d=\"M 49.633125 78.865328 \nL 69.163125 99.456664 \nL 88.693125 104.053681 \nL 108.223125 118.530875 \nL 127.753125 120.551699 \nL 147.283125 122.945618 \nL 166.813125 119.572021 \nL 186.343125 125.088285 \n\" clip-path=\"url(#p3761226b32)\" style=\"fill: none; stroke-dasharray: 5.55,2.4; stroke-dashoffset: 0; stroke: #ff7f0e; stroke-width: 1.5\"/>\n   </g>\n   <g id=\"line2d_107\">\n    <path d=\"M 49.633125 44.243171 \nL 69.163125 40.453736 \nL 88.693125 38.50274 \nL 108.223125 34.544469 \nL 127.753125 33.043703 \nL 147.283125 32.799828 \nL 166.813125 33.550212 \nL 186.343125 32.105724 \n\" clip-path=\"url(#p3761226b32)\" style=\"fill: none; stroke-dasharray: 9.6,2.4,1.5,2.4; stroke-dashoffset: 0; stroke: #2ca02c; stroke-width: 1.5\"/>\n   </g>\n   <g id=\"line2d_108\">\n    <path d=\"M 34.954394 13.5 \nL 44.698573 79.928787 \nL 54.442752 95.626239 \nL 64.186931 104.963712 \nL 73.93111 110.501966 \nL 83.675289 115.590829 \nL 93.419468 119.904412 \nL 103.163647 121.18518 \nL 112.907826 123.763806 \nL 122.652006 126.693847 \nL 132.396185 128.856342 \nL 142.140364 129.125501 \nL 151.884543 131.349157 \nL 161.628722 133.038378 \nL 171.372901 134.527103 \nL 181.11708 135.063382 \nL 190.861259 136.378307 \nL 200.605438 137.038908 \n\" clip-path=\"url(#p3761226b32)\" style=\"fill: none; stroke: #1f77b4; stroke-width: 1.5; stroke-linecap: square\"/>\n   </g>\n   <g id=\"line2d_109\">\n    <path d=\"M 49.633125 78.865328 \nL 69.163125 99.456664 \nL 88.693125 104.053681 \nL 108.223125 118.530875 \nL 127.753125 120.551699 \nL 147.283125 122.945618 \nL 166.813125 119.572021 \nL 186.343125 125.088285 \nL 205.873125 121.1318 \n\" clip-path=\"url(#p3761226b32)\" style=\"fill: none; stroke-dasharray: 5.55,2.4; stroke-dashoffset: 0; stroke: #ff7f0e; stroke-width: 1.5\"/>\n   </g>\n   <g id=\"line2d_110\">\n    <path d=\"M 49.633125 44.243171 \nL 69.163125 40.453736 \nL 88.693125 38.50274 \nL 108.223125 34.544469 \nL 127.753125 33.043703 \nL 147.283125 32.799828 \nL 166.813125 33.550212 \nL 186.343125 32.105724 \n\" clip-path=\"url(#p3761226b32)\" style=\"fill: none; stroke-dasharray: 9.6,2.4,1.5,2.4; stroke-dashoffset: 0; stroke: #2ca02c; stroke-width: 1.5\"/>\n   </g>\n   <g id=\"line2d_111\">\n    <path d=\"M 34.954394 13.5 \nL 44.698573 79.928787 \nL 54.442752 95.626239 \nL 64.186931 104.963712 \nL 73.93111 110.501966 \nL 83.675289 115.590829 \nL 93.419468 119.904412 \nL 103.163647 121.18518 \nL 112.907826 123.763806 \nL 122.652006 126.693847 \nL 132.396185 128.856342 \nL 142.140364 129.125501 \nL 151.884543 131.349157 \nL 161.628722 133.038378 \nL 171.372901 134.527103 \nL 181.11708 135.063382 \nL 190.861259 136.378307 \nL 200.605438 137.038908 \n\" clip-path=\"url(#p3761226b32)\" style=\"fill: none; stroke: #1f77b4; stroke-width: 1.5; stroke-linecap: square\"/>\n   </g>\n   <g id=\"line2d_112\">\n    <path d=\"M 49.633125 78.865328 \nL 69.163125 99.456664 \nL 88.693125 104.053681 \nL 108.223125 118.530875 \nL 127.753125 120.551699 \nL 147.283125 122.945618 \nL 166.813125 119.572021 \nL 186.343125 125.088285 \nL 205.873125 121.1318 \n\" clip-path=\"url(#p3761226b32)\" style=\"fill: none; stroke-dasharray: 5.55,2.4; stroke-dashoffset: 0; stroke: #ff7f0e; stroke-width: 1.5\"/>\n   </g>\n   <g id=\"line2d_113\">\n    <path d=\"M 49.633125 44.243171 \nL 69.163125 40.453736 \nL 88.693125 38.50274 \nL 108.223125 34.544469 \nL 127.753125 33.043703 \nL 147.283125 32.799828 \nL 166.813125 33.550212 \nL 186.343125 32.105724 \nL 205.873125 33.962922 \n\" clip-path=\"url(#p3761226b32)\" style=\"fill: none; stroke-dasharray: 9.6,2.4,1.5,2.4; stroke-dashoffset: 0; stroke: #2ca02c; stroke-width: 1.5\"/>\n   </g>\n   <g id=\"line2d_114\">\n    <path d=\"M 34.954394 13.5 \nL 44.698573 79.928787 \nL 54.442752 95.626239 \nL 64.186931 104.963712 \nL 73.93111 110.501966 \nL 83.675289 115.590829 \nL 93.419468 119.904412 \nL 103.163647 121.18518 \nL 112.907826 123.763806 \nL 122.652006 126.693847 \nL 132.396185 128.856342 \nL 142.140364 129.125501 \nL 151.884543 131.349157 \nL 161.628722 133.038378 \nL 171.372901 134.527103 \nL 181.11708 135.063382 \nL 190.861259 136.378307 \nL 200.605438 137.038908 \nL 210.349618 138.041536 \n\" clip-path=\"url(#p3761226b32)\" style=\"fill: none; stroke: #1f77b4; stroke-width: 1.5; stroke-linecap: square\"/>\n   </g>\n   <g id=\"line2d_115\">\n    <path d=\"M 49.633125 78.865328 \nL 69.163125 99.456664 \nL 88.693125 104.053681 \nL 108.223125 118.530875 \nL 127.753125 120.551699 \nL 147.283125 122.945618 \nL 166.813125 119.572021 \nL 186.343125 125.088285 \nL 205.873125 121.1318 \n\" clip-path=\"url(#p3761226b32)\" style=\"fill: none; stroke-dasharray: 5.55,2.4; stroke-dashoffset: 0; stroke: #ff7f0e; stroke-width: 1.5\"/>\n   </g>\n   <g id=\"line2d_116\">\n    <path d=\"M 49.633125 44.243171 \nL 69.163125 40.453736 \nL 88.693125 38.50274 \nL 108.223125 34.544469 \nL 127.753125 33.043703 \nL 147.283125 32.799828 \nL 166.813125 33.550212 \nL 186.343125 32.105724 \nL 205.873125 33.962922 \n\" clip-path=\"url(#p3761226b32)\" style=\"fill: none; stroke-dasharray: 9.6,2.4,1.5,2.4; stroke-dashoffset: 0; stroke: #2ca02c; stroke-width: 1.5\"/>\n   </g>\n   <g id=\"line2d_117\">\n    <path d=\"M 34.954394 13.5 \nL 44.698573 79.928787 \nL 54.442752 95.626239 \nL 64.186931 104.963712 \nL 73.93111 110.501966 \nL 83.675289 115.590829 \nL 93.419468 119.904412 \nL 103.163647 121.18518 \nL 112.907826 123.763806 \nL 122.652006 126.693847 \nL 132.396185 128.856342 \nL 142.140364 129.125501 \nL 151.884543 131.349157 \nL 161.628722 133.038378 \nL 171.372901 134.527103 \nL 181.11708 135.063382 \nL 190.861259 136.378307 \nL 200.605438 137.038908 \nL 210.349618 138.041536 \nL 220.093797 139.5 \n\" clip-path=\"url(#p3761226b32)\" style=\"fill: none; stroke: #1f77b4; stroke-width: 1.5; stroke-linecap: square\"/>\n   </g>\n   <g id=\"line2d_118\">\n    <path d=\"M 49.633125 78.865328 \nL 69.163125 99.456664 \nL 88.693125 104.053681 \nL 108.223125 118.530875 \nL 127.753125 120.551699 \nL 147.283125 122.945618 \nL 166.813125 119.572021 \nL 186.343125 125.088285 \nL 205.873125 121.1318 \n\" clip-path=\"url(#p3761226b32)\" style=\"fill: none; stroke-dasharray: 5.55,2.4; stroke-dashoffset: 0; stroke: #ff7f0e; stroke-width: 1.5\"/>\n   </g>\n   <g id=\"line2d_119\">\n    <path d=\"M 49.633125 44.243171 \nL 69.163125 40.453736 \nL 88.693125 38.50274 \nL 108.223125 34.544469 \nL 127.753125 33.043703 \nL 147.283125 32.799828 \nL 166.813125 33.550212 \nL 186.343125 32.105724 \nL 205.873125 33.962922 \n\" clip-path=\"url(#p3761226b32)\" style=\"fill: none; stroke-dasharray: 9.6,2.4,1.5,2.4; stroke-dashoffset: 0; stroke: #2ca02c; stroke-width: 1.5\"/>\n   </g>\n   <g id=\"line2d_120\">\n    <path d=\"M 34.954394 13.5 \nL 44.698573 79.928787 \nL 54.442752 95.626239 \nL 64.186931 104.963712 \nL 73.93111 110.501966 \nL 83.675289 115.590829 \nL 93.419468 119.904412 \nL 103.163647 121.18518 \nL 112.907826 123.763806 \nL 122.652006 126.693847 \nL 132.396185 128.856342 \nL 142.140364 129.125501 \nL 151.884543 131.349157 \nL 161.628722 133.038378 \nL 171.372901 134.527103 \nL 181.11708 135.063382 \nL 190.861259 136.378307 \nL 200.605438 137.038908 \nL 210.349618 138.041536 \nL 220.093797 139.5 \n\" clip-path=\"url(#p3761226b32)\" style=\"fill: none; stroke: #1f77b4; stroke-width: 1.5; stroke-linecap: square\"/>\n   </g>\n   <g id=\"line2d_121\">\n    <path d=\"M 49.633125 78.865328 \nL 69.163125 99.456664 \nL 88.693125 104.053681 \nL 108.223125 118.530875 \nL 127.753125 120.551699 \nL 147.283125 122.945618 \nL 166.813125 119.572021 \nL 186.343125 125.088285 \nL 205.873125 121.1318 \nL 225.403125 133.11162 \n\" clip-path=\"url(#p3761226b32)\" style=\"fill: none; stroke-dasharray: 5.55,2.4; stroke-dashoffset: 0; stroke: #ff7f0e; stroke-width: 1.5\"/>\n   </g>\n   <g id=\"line2d_122\">\n    <path d=\"M 49.633125 44.243171 \nL 69.163125 40.453736 \nL 88.693125 38.50274 \nL 108.223125 34.544469 \nL 127.753125 33.043703 \nL 147.283125 32.799828 \nL 166.813125 33.550212 \nL 186.343125 32.105724 \nL 205.873125 33.962922 \n\" clip-path=\"url(#p3761226b32)\" style=\"fill: none; stroke-dasharray: 9.6,2.4,1.5,2.4; stroke-dashoffset: 0; stroke: #2ca02c; stroke-width: 1.5\"/>\n   </g>\n   <g id=\"line2d_123\">\n    <path d=\"M 34.954394 13.5 \nL 44.698573 79.928787 \nL 54.442752 95.626239 \nL 64.186931 104.963712 \nL 73.93111 110.501966 \nL 83.675289 115.590829 \nL 93.419468 119.904412 \nL 103.163647 121.18518 \nL 112.907826 123.763806 \nL 122.652006 126.693847 \nL 132.396185 128.856342 \nL 142.140364 129.125501 \nL 151.884543 131.349157 \nL 161.628722 133.038378 \nL 171.372901 134.527103 \nL 181.11708 135.063382 \nL 190.861259 136.378307 \nL 200.605438 137.038908 \nL 210.349618 138.041536 \nL 220.093797 139.5 \n\" clip-path=\"url(#p3761226b32)\" style=\"fill: none; stroke: #1f77b4; stroke-width: 1.5; stroke-linecap: square\"/>\n   </g>\n   <g id=\"line2d_124\">\n    <path d=\"M 49.633125 78.865328 \nL 69.163125 99.456664 \nL 88.693125 104.053681 \nL 108.223125 118.530875 \nL 127.753125 120.551699 \nL 147.283125 122.945618 \nL 166.813125 119.572021 \nL 186.343125 125.088285 \nL 205.873125 121.1318 \nL 225.403125 133.11162 \n\" clip-path=\"url(#p3761226b32)\" style=\"fill: none; stroke-dasharray: 5.55,2.4; stroke-dashoffset: 0; stroke: #ff7f0e; stroke-width: 1.5\"/>\n   </g>\n   <g id=\"line2d_125\">\n    <path d=\"M 49.633125 44.243171 \nL 69.163125 40.453736 \nL 88.693125 38.50274 \nL 108.223125 34.544469 \nL 127.753125 33.043703 \nL 147.283125 32.799828 \nL 166.813125 33.550212 \nL 186.343125 32.105724 \nL 205.873125 33.962922 \nL 225.403125 28.653962 \n\" clip-path=\"url(#p3761226b32)\" style=\"fill: none; stroke-dasharray: 9.6,2.4,1.5,2.4; stroke-dashoffset: 0; stroke: #2ca02c; stroke-width: 1.5\"/>\n   </g>\n   <g id=\"patch_3\">\n    <path d=\"M 30.103125 145.8 \nL 30.103125 7.2 \n\" style=\"fill: none; stroke: #000000; stroke-width: 0.8; stroke-linejoin: miter; stroke-linecap: square\"/>\n   </g>\n   <g id=\"patch_4\">\n    <path d=\"M 225.403125 145.8 \nL 225.403125 7.2 \n\" style=\"fill: none; stroke: #000000; stroke-width: 0.8; stroke-linejoin: miter; stroke-linecap: square\"/>\n   </g>\n   <g id=\"patch_5\">\n    <path d=\"M 30.103125 145.8 \nL 225.403125 145.8 \n\" style=\"fill: none; stroke: #000000; stroke-width: 0.8; stroke-linejoin: miter; stroke-linecap: square\"/>\n   </g>\n   <g id=\"patch_6\">\n    <path d=\"M 30.103125 7.2 \nL 225.403125 7.2 \n\" style=\"fill: none; stroke: #000000; stroke-width: 0.8; stroke-linejoin: miter; stroke-linecap: square\"/>\n   </g>\n   <g id=\"legend_1\">\n    <g id=\"patch_7\">\n     <path d=\"M 138.8125 100.434375 \nL 218.403125 100.434375 \nQ 220.403125 100.434375 220.403125 98.434375 \nL 220.403125 54.565625 \nQ 220.403125 52.565625 218.403125 52.565625 \nL 138.8125 52.565625 \nQ 136.8125 52.565625 136.8125 54.565625 \nL 136.8125 98.434375 \nQ 136.8125 100.434375 138.8125 100.434375 \nz\n\" style=\"fill: #ffffff; opacity: 0.8; stroke: #cccccc; stroke-linejoin: miter\"/>\n    </g>\n    <g id=\"line2d_126\">\n     <path d=\"M 140.8125 60.664063 \nL 150.8125 60.664063 \nL 160.8125 60.664063 \n\" style=\"fill: none; stroke: #1f77b4; stroke-width: 1.5; stroke-linecap: square\"/>\n    </g>\n    <g id=\"text_11\">\n     <!-- train_loss -->\n     <g transform=\"translate(168.8125 64.164063) scale(0.1 -0.1)\">\n      <defs>\n       <path id=\"DejaVuSans-74\" d=\"M 1172 4494 \nL 1172 3500 \nL 2356 3500 \nL 2356 3053 \nL 1172 3053 \nL 1172 1153 \nQ 1172 725 1289 603 \nQ 1406 481 1766 481 \nL 2356 481 \nL 2356 0 \nL 1766 0 \nQ 1100 0 847 248 \nQ 594 497 594 1153 \nL 594 3053 \nL 172 3053 \nL 172 3500 \nL 594 3500 \nL 594 4494 \nL 1172 4494 \nz\n\" transform=\"scale(0.015625)\"/>\n       <path id=\"DejaVuSans-72\" d=\"M 2631 2963 \nQ 2534 3019 2420 3045 \nQ 2306 3072 2169 3072 \nQ 1681 3072 1420 2755 \nQ 1159 2438 1159 1844 \nL 1159 0 \nL 581 0 \nL 581 3500 \nL 1159 3500 \nL 1159 2956 \nQ 1341 3275 1631 3429 \nQ 1922 3584 2338 3584 \nQ 2397 3584 2469 3576 \nQ 2541 3569 2628 3553 \nL 2631 2963 \nz\n\" transform=\"scale(0.015625)\"/>\n       <path id=\"DejaVuSans-61\" d=\"M 2194 1759 \nQ 1497 1759 1228 1600 \nQ 959 1441 959 1056 \nQ 959 750 1161 570 \nQ 1363 391 1709 391 \nQ 2188 391 2477 730 \nQ 2766 1069 2766 1631 \nL 2766 1759 \nL 2194 1759 \nz\nM 3341 1997 \nL 3341 0 \nL 2766 0 \nL 2766 531 \nQ 2569 213 2275 61 \nQ 1981 -91 1556 -91 \nQ 1019 -91 701 211 \nQ 384 513 384 1019 \nQ 384 1609 779 1909 \nQ 1175 2209 1959 2209 \nL 2766 2209 \nL 2766 2266 \nQ 2766 2663 2505 2880 \nQ 2244 3097 1772 3097 \nQ 1472 3097 1187 3025 \nQ 903 2953 641 2809 \nL 641 3341 \nQ 956 3463 1253 3523 \nQ 1550 3584 1831 3584 \nQ 2591 3584 2966 3190 \nQ 3341 2797 3341 1997 \nz\n\" transform=\"scale(0.015625)\"/>\n       <path id=\"DejaVuSans-69\" d=\"M 603 3500 \nL 1178 3500 \nL 1178 0 \nL 603 0 \nL 603 3500 \nz\nM 603 4863 \nL 1178 4863 \nL 1178 4134 \nL 603 4134 \nL 603 4863 \nz\n\" transform=\"scale(0.015625)\"/>\n       <path id=\"DejaVuSans-6e\" d=\"M 3513 2113 \nL 3513 0 \nL 2938 0 \nL 2938 2094 \nQ 2938 2591 2744 2837 \nQ 2550 3084 2163 3084 \nQ 1697 3084 1428 2787 \nQ 1159 2491 1159 1978 \nL 1159 0 \nL 581 0 \nL 581 3500 \nL 1159 3500 \nL 1159 2956 \nQ 1366 3272 1645 3428 \nQ 1925 3584 2291 3584 \nQ 2894 3584 3203 3211 \nQ 3513 2838 3513 2113 \nz\n\" transform=\"scale(0.015625)\"/>\n       <path id=\"DejaVuSans-5f\" d=\"M 3263 -1063 \nL 3263 -1509 \nL -63 -1509 \nL -63 -1063 \nL 3263 -1063 \nz\n\" transform=\"scale(0.015625)\"/>\n       <path id=\"DejaVuSans-6c\" d=\"M 603 4863 \nL 1178 4863 \nL 1178 0 \nL 603 0 \nL 603 4863 \nz\n\" transform=\"scale(0.015625)\"/>\n       <path id=\"DejaVuSans-73\" d=\"M 2834 3397 \nL 2834 2853 \nQ 2591 2978 2328 3040 \nQ 2066 3103 1784 3103 \nQ 1356 3103 1142 2972 \nQ 928 2841 928 2578 \nQ 928 2378 1081 2264 \nQ 1234 2150 1697 2047 \nL 1894 2003 \nQ 2506 1872 2764 1633 \nQ 3022 1394 3022 966 \nQ 3022 478 2636 193 \nQ 2250 -91 1575 -91 \nQ 1294 -91 989 -36 \nQ 684 19 347 128 \nL 347 722 \nQ 666 556 975 473 \nQ 1284 391 1588 391 \nQ 1994 391 2212 530 \nQ 2431 669 2431 922 \nQ 2431 1156 2273 1281 \nQ 2116 1406 1581 1522 \nL 1381 1569 \nQ 847 1681 609 1914 \nQ 372 2147 372 2553 \nQ 372 3047 722 3315 \nQ 1072 3584 1716 3584 \nQ 2034 3584 2315 3537 \nQ 2597 3491 2834 3397 \nz\n\" transform=\"scale(0.015625)\"/>\n      </defs>\n      <use xlink:href=\"#DejaVuSans-74\"/>\n      <use xlink:href=\"#DejaVuSans-72\" x=\"39.208984\"/>\n      <use xlink:href=\"#DejaVuSans-61\" x=\"80.322266\"/>\n      <use xlink:href=\"#DejaVuSans-69\" x=\"141.601562\"/>\n      <use xlink:href=\"#DejaVuSans-6e\" x=\"169.384766\"/>\n      <use xlink:href=\"#DejaVuSans-5f\" x=\"232.763672\"/>\n      <use xlink:href=\"#DejaVuSans-6c\" x=\"282.763672\"/>\n      <use xlink:href=\"#DejaVuSans-6f\" x=\"310.546875\"/>\n      <use xlink:href=\"#DejaVuSans-73\" x=\"371.728516\"/>\n      <use xlink:href=\"#DejaVuSans-73\" x=\"423.828125\"/>\n     </g>\n    </g>\n    <g id=\"line2d_127\">\n     <path d=\"M 140.8125 75.620313 \nL 150.8125 75.620313 \nL 160.8125 75.620313 \n\" style=\"fill: none; stroke-dasharray: 5.55,2.4; stroke-dashoffset: 0; stroke: #ff7f0e; stroke-width: 1.5\"/>\n    </g>\n    <g id=\"text_12\">\n     <!-- val_loss -->\n     <g transform=\"translate(168.8125 79.120313) scale(0.1 -0.1)\">\n      <defs>\n       <path id=\"DejaVuSans-76\" d=\"M 191 3500 \nL 800 3500 \nL 1894 563 \nL 2988 3500 \nL 3597 3500 \nL 2284 0 \nL 1503 0 \nL 191 3500 \nz\n\" transform=\"scale(0.015625)\"/>\n      </defs>\n      <use xlink:href=\"#DejaVuSans-76\"/>\n      <use xlink:href=\"#DejaVuSans-61\" x=\"59.179688\"/>\n      <use xlink:href=\"#DejaVuSans-6c\" x=\"120.458984\"/>\n      <use xlink:href=\"#DejaVuSans-5f\" x=\"148.242188\"/>\n      <use xlink:href=\"#DejaVuSans-6c\" x=\"198.242188\"/>\n      <use xlink:href=\"#DejaVuSans-6f\" x=\"226.025391\"/>\n      <use xlink:href=\"#DejaVuSans-73\" x=\"287.207031\"/>\n      <use xlink:href=\"#DejaVuSans-73\" x=\"339.306641\"/>\n     </g>\n    </g>\n    <g id=\"line2d_128\">\n     <path d=\"M 140.8125 90.576563 \nL 150.8125 90.576563 \nL 160.8125 90.576563 \n\" style=\"fill: none; stroke-dasharray: 9.6,2.4,1.5,2.4; stroke-dashoffset: 0; stroke: #2ca02c; stroke-width: 1.5\"/>\n    </g>\n    <g id=\"text_13\">\n     <!-- val_acc -->\n     <g transform=\"translate(168.8125 94.076563) scale(0.1 -0.1)\">\n      <use xlink:href=\"#DejaVuSans-76\"/>\n      <use xlink:href=\"#DejaVuSans-61\" x=\"59.179688\"/>\n      <use xlink:href=\"#DejaVuSans-6c\" x=\"120.458984\"/>\n      <use xlink:href=\"#DejaVuSans-5f\" x=\"148.242188\"/>\n      <use xlink:href=\"#DejaVuSans-61\" x=\"198.242188\"/>\n      <use xlink:href=\"#DejaVuSans-63\" x=\"259.521484\"/>\n      <use xlink:href=\"#DejaVuSans-63\" x=\"314.501953\"/>\n     </g>\n    </g>\n   </g>\n  </g>\n </g>\n <defs>\n  <clipPath id=\"p3761226b32\">\n   <rect x=\"30.103125\" y=\"7.2\" width=\"195.3\" height=\"138.6\"/>\n  </clipPath>\n </defs>\n</svg>\n",
            "text/plain": [
              "<Figure size 350x250 with 1 Axes>"
            ]
          },
          "metadata": {},
          "output_type": "display_data"
        }
      ],
      "source": [
        "trainer = d2l.Trainer(max_epochs=10, num_gpus=1)\n",
        "data = d2l.FashionMNIST(batch_size=128)\n",
        "model = BNLeNet(lr=0.1)\n",
        "model.apply_init([next(iter(data.get_dataloader(True)))[0]], d2l.init_cnn)\n",
        "trainer.fit(model, data)"
      ]
    },
    {
      "cell_type": "markdown",
      "metadata": {
        "id": "dXBPy1653DvC"
      },
      "source": [
        "### **Exercise 8.5**"
      ]
    },
    {
      "cell_type": "markdown",
      "metadata": {
        "id": "GRnditjxqJBX"
      },
      "source": [
        "**1. Should we remove the bias parameter from the fully connected layer or the convolutional layer before the batch normalization? Why?**\n",
        "\n",
        "Ya, parameter bias dari fully connected layers atau convolutional layer sebaiknya dihapus sebelum batch normalization. Saat normalization, dilakukan shifting dan scaling pada data yang mengganti fungsi parameter bias. Sehingga menjaga parameter di lapisan sebelumnya tidak lagi diperlukan karena batch normalization pada akhirnya akan mengoreksinya. Menghapus parameter bias bertujuan untuk menghindari redundansi dan menyederhanakan model."
      ]
    },
    {
      "cell_type": "markdown",
      "metadata": {
        "id": "loiGWZweqNVj"
      },
      "source": [
        "**2. Compare the learning rates for LeNet with and without batch normalization.**\n",
        "* Plot the increase in validation accuracy."
      ]
    },
    {
      "cell_type": "code",
      "source": [
        "import torch\n",
        "import torch.nn as nn\n",
        "import d2l\n",
        "from torchsummary import summary\n",
        "\n",
        "def init_cnn(module):\n",
        "    \"\"\"Initialize weights for CNNs.\"\"\"\n",
        "    if type(module) == nn.Linear or type(module) == nn.Conv2d:\n",
        "        nn.init.xavier_uniform_(module.weight)\n",
        "\n",
        "class LeNet(d2l.torch.Classifier):\n",
        "    \"\"\"The LeNet-5 model.\"\"\"\n",
        "    def __init__(self, lr=0.1, num_classes=10):\n",
        "        super().__init__()\n",
        "        self.save_hyperparameters()\n",
        "        self.net = nn.Sequential(\n",
        "            nn.LazyConv2d(6, kernel_size=5, padding=2), nn.Sigmoid(),\n",
        "            nn.AvgPool2d(kernel_size=2, stride=2),\n",
        "            nn.LazyConv2d(16, kernel_size=5), nn.Sigmoid(),\n",
        "            nn.AvgPool2d(kernel_size=2, stride=2),\n",
        "            nn.Flatten(),\n",
        "            nn.LazyLinear(120), nn.Sigmoid(),\n",
        "            nn.LazyLinear(84), nn.Sigmoid(),\n",
        "            nn.LazyLinear(num_classes))\n",
        "\n",
        "class BNLeNet(d2l.torch.Classifier):\n",
        "    def __init__(self, lr=0.1, num_classes=10):\n",
        "        super().__init__()\n",
        "        self.save_hyperparameters()\n",
        "        self.net = nn.Sequential(\n",
        "            nn.LazyConv2d(6, kernel_size=5), nn.LazyBatchNorm2d(),\n",
        "            nn.Sigmoid(), nn.AvgPool2d(kernel_size=2, stride=2),\n",
        "            nn.LazyConv2d(16, kernel_size=5), nn.LazyBatchNorm2d(),\n",
        "            nn.Sigmoid(), nn.AvgPool2d(kernel_size=2, stride=2),\n",
        "            nn.Flatten(), nn.LazyLinear(120), nn.LazyBatchNorm1d(),\n",
        "            nn.Sigmoid(), nn.LazyLinear(84), nn.LazyBatchNorm1d(),\n",
        "            nn.Sigmoid(), nn.LazyLinear(num_classes))\n",
        "\n",
        "def stat_model_acc(model, data, plot_flag):\n",
        "\n",
        "    model.apply_init([next(iter(data.get_dataloader(True)))[0]], init_cnn)\n",
        "    trainer = d2l.torch.Trainer(max_epochs=10, num_gpus=1)\n",
        "    trainer.fit(model, data)\n",
        "    X,y = next(iter(data.get_dataloader(False)))\n",
        "    X = X.to('cuda')\n",
        "    y = y.to('cuda')\n",
        "    y_hat = model(X)\n",
        "    return model.accuracy(y_hat,y).item()"
      ],
      "metadata": {
        "id": "KFq1g6BJ8bDn"
      },
      "execution_count": null,
      "outputs": []
    },
    {
      "cell_type": "code",
      "execution_count": null,
      "metadata": {
        "id": "yGHlxaBkBKGu"
      },
      "outputs": [],
      "source": [
        "data = d2l.torch.FashionMNIST(batch_size=128)\n",
        "lr_list = [0.001,0.01,0.03,0.1,0.3]\n",
        "le_accs= []\n",
        "ble_accs = []\n",
        "for lr in lr_list[:1]:\n",
        "    le = LeNet(lr=lr)\n",
        "    ble = BNLeNet(lr=lr)\n",
        "    le_accs.append(stat_model_acc(le, data, False))\n",
        "    ble_accs.append(stat_model_acc(ble, data, False))"
      ]
    },
    {
      "cell_type": "markdown",
      "source": [
        "* How large can you make the learning rate before the optimization fails in both cases?"
      ],
      "metadata": {
        "id": "IXEOEKb39avh"
      }
    },
    {
      "cell_type": "code",
      "source": [
        "data = d2l.torch.FashionMNIST(batch_size=128)\n",
        "lr_list = [1,3,10,30]\n",
        "le_accs= []\n",
        "ble_accs = []\n",
        "for lr in lr_list:\n",
        "\tle = LeNet(lr=lr)\n",
        "\tble = BNLeNet(lr=lr)\n",
        "\tle_accs.append(stat_model_acc(le, data))\n",
        "\tble_accs.append(stat_model_acc(ble, data))"
      ],
      "metadata": {
        "id": "z6piQtM59aD5"
      },
      "execution_count": null,
      "outputs": []
    },
    {
      "cell_type": "markdown",
      "metadata": {
        "id": "Cv80Sp88qYAL"
      },
      "source": [
        "**3. Do we need batch normalization in every layer?**\n",
        "\n",
        "Tidak, batch normalization tidak selalu dibutuhkan di setiap lapisan. Batch normalization akan efektif apabila digunakan di lapisan dengan distribusi aktivasi yang berubah secara signifikan selama pelatihan, seperti di convolutional atau fully connected layers. Berikut pertimbangannya:\n",
        "* Tidak semua lapisan mengalami perubahan distribusi aktivasi yang besar. Lapisan output atau lapisan yang sudah memiliki normalisasi internal tidak memerlukan batch normalization.\n",
        "* Menggunakan batch normalization di setiap lapisan dapat meningkatkan beban komputasi dan memori, sehingga malah menurunkan efisiensi dan hanya menambah kompleksitas model."
      ]
    },
    {
      "cell_type": "markdown",
      "metadata": {
        "id": "nPpIvt-Rqbdq"
      },
      "source": [
        "**4. Implement a “lite” version of batch normalization that only removes the mean, or alternatively one that only removes the variance. How does it behave?**"
      ]
    },
    {
      "cell_type": "code",
      "execution_count": null,
      "metadata": {
        "id": "LTESWLyuDLd3"
      },
      "outputs": [],
      "source": [
        "def lite_batch_norm(X, gamma, beta, moving_mean, moving_var, eps, momentum, mean_flag):\n",
        "    if not torch.is_grad_enabled():\n",
        "        if mean_flag:\n",
        "            X_hat = X - moving_mean\n",
        "        else:\n",
        "            X_hat = X / torch.sqrt(moving_var + eps)\n",
        "    else:\n",
        "        assert len(X.shape) in (2, 4)\n",
        "        if len(X.shape) == 2:\n",
        "            mean = X.mean(dim=0)\n",
        "            var = ((X - mean) ** 2).mean(dim=0)\n",
        "        else:\n",
        "            mean = X.mean(dim=(0, 2, 3), keepdim=True)\n",
        "            var = ((X - mean) ** 2).mean(dim=(0, 2, 3), keepdim=True)\n",
        "        if mean_flag:\n",
        "            X_hat = X - mean\n",
        "        else:\n",
        "            X_hat = X / torch.sqrt(moving_var + eps)\n",
        "        moving_mean = (1.0 - momentum) * moving_mean + momentum * mean\n",
        "        moving_var = (1.0 - momentum) * moving_var + momentum * var\n",
        "    Y = gamma * X_hat + beta  # Scale and shift\n",
        "    return Y, moving_mean.data, moving_var.data\n",
        "\n",
        "class LiteBatchNorm(nn.Module):\n",
        "    def __init__(self, num_features, num_dims, mean_flag=True):\n",
        "        super().__init__()\n",
        "        if num_dims == 2:\n",
        "            shape = (1, num_features)\n",
        "        else:\n",
        "            shape = (1, num_features, 1, 1)\n",
        "        self.gamma = nn.Parameter(torch.ones(shape))\n",
        "        self.beta = nn.Parameter(torch.zeros(shape))\n",
        "        self.moving_mean = torch.zeros(shape)\n",
        "        self.moving_var = torch.ones(shape)\n",
        "        self.mean_flag = mean_flag\n",
        "\n",
        "    def forward(self, X):\n",
        "        if self.moving_mean.device != X.device:\n",
        "            self.moving_mean = self.moving_mean.to(X.device)\n",
        "            self.moving_var = self.moving_var.to(X.device)\n",
        "        Y, self.moving_mean, self.moving_var = lite_batch_norm(\n",
        "            X, self.gamma, self.beta, self.moving_mean,\n",
        "            self.moving_var, eps=1e-5, momentum=0.1, mean_flag=self.mean_flag)\n",
        "        return Y\n",
        "\n",
        "class LiteBNLeNetScratch(d2l.torch.Classifier):\n",
        "    def __init__(self, lr=0.1, num_classes=10, mean_flag=True):\n",
        "        super().__init__()\n",
        "        self.save_hyperparameters()\n",
        "        self.net = nn.Sequential(\n",
        "            nn.LazyConv2d(6, kernel_size=5), LiteBatchNorm(6, num_dims=4, mean_flag=mean_flag),\n",
        "            nn.Sigmoid(), nn.AvgPool2d(kernel_size=2, stride=2),\n",
        "            nn.LazyConv2d(16, kernel_size=5), LiteBatchNorm(16, num_dims=4, mean_flag=mean_flag),\n",
        "            nn.Sigmoid(), nn.AvgPool2d(kernel_size=2, stride=2),\n",
        "            nn.Flatten(), nn.LazyLinear(120),\n",
        "            LiteBatchNorm(120, num_dims=2, mean_flag=mean_flag), nn.Sigmoid(), nn.LazyLinear(84),\n",
        "            LiteBatchNorm(84, num_dims=2, mean_flag=mean_flag), nn.Sigmoid(),\n",
        "            nn.LazyLinear(num_classes))"
      ]
    },
    {
      "cell_type": "code",
      "execution_count": null,
      "metadata": {
        "id": "zAZ5muUfDMZu"
      },
      "outputs": [],
      "source": [
        "model = LiteBNLeNetScratch(lr=0.1)\n",
        "model.apply_init([next(iter(data.get_dataloader(True)))[0]], d2l.init_cnn)\n",
        "trainer = d2l.Trainer(max_epochs=10, num_gpus=1)\n",
        "trainer.fit(model, data)\n",
        "X,y = next(iter(data.get_dataloader(False)))\n",
        "X = X.to('cuda')\n",
        "y = y.to('cuda')\n",
        "y_hat = model(X)\n",
        "model.accuracy(y_hat,y).item()"
      ]
    },
    {
      "cell_type": "code",
      "execution_count": null,
      "metadata": {
        "id": "lNtN9-dQDOb2"
      },
      "outputs": [],
      "source": [
        "model = LiteBNLeNetScratch(lr=0.1,mean_flag=False)\n",
        "model.apply_init([next(iter(data.get_dataloader(True)))[0]], d2l.init_cnn)\n",
        "trainer = d2l.Trainer(max_epochs=10, num_gpus=1)\n",
        "trainer.fit(model, data)\n",
        "X,y = next(iter(data.get_dataloader(False)))\n",
        "X = X.to('cuda')\n",
        "y = y.to('cuda')\n",
        "y_hat = model(X)\n",
        "model.accuracy(y_hat,y).item()"
      ]
    },
    {
      "cell_type": "markdown",
      "metadata": {
        "id": "uAh2kGlnqei4"
      },
      "source": [
        "**5. Fix the parameters beta and gamma. Observe and analyze the results.**"
      ]
    },
    {
      "cell_type": "code",
      "execution_count": null,
      "metadata": {
        "id": "SlvqF70ZDRof"
      },
      "outputs": [],
      "source": [
        "class FixedBatchNorm(nn.Module):\n",
        "    def __init__(self, num_features, num_dims, beta=None, gamma=None):\n",
        "        super().__init__()\n",
        "        if num_dims == 2:\n",
        "            shape = (1, num_features)\n",
        "        else:\n",
        "            shape = (1, num_features, 1, 1)\n",
        "        self.gamma = torch.ones(shape) if gamma is None else gamma\n",
        "        self.beta = torch.zeros(shape) if beta is None else beta\n",
        "        self.moving_mean = torch.zeros(shape)\n",
        "        self.moving_var = torch.ones(shape)\n",
        "\n",
        "    def forward(self, X):\n",
        "        print(X.device)\n",
        "        X = X.to('cuda')\n",
        "        if self.moving_mean.device != X.device:\n",
        "            self.moving_mean = self.moving_mean.to(X.device)\n",
        "            self.moving_var = self.moving_var.to(X.device)\n",
        "        Y, self.moving_mean, self.moving_var = batch_norm(\n",
        "            X, self.gamma, self.beta, self.moving_mean,\n",
        "            self.moving_var, eps=1e-5, momentum=0.1)\n",
        "        return Y\n",
        "\n",
        "\n",
        "class FixedBNLeNetScratch(d2l.torch.Classifier):\n",
        "    def __init__(self, lr=0.1, num_classes=10, beta=None, gamma=None):\n",
        "        super().__init__()\n",
        "        self.save_hyperparameters()\n",
        "        self.net = nn.Sequential(\n",
        "            nn.LazyConv2d(6, kernel_size=5), FixedBatchNorm(6, num_dims=4, beta=beta, gamma=gamma),\n",
        "            nn.Sigmoid(), nn.AvgPool2d(kernel_size=2, stride=2),\n",
        "            nn.LazyConv2d(16, kernel_size=5), FixedBatchNorm(16, num_dims=4, beta=beta, gamma=gamma),\n",
        "            nn.Sigmoid(), nn.AvgPool2d(kernel_size=2, stride=2),\n",
        "            nn.Flatten(), nn.LazyLinear(120),\n",
        "            FixedBatchNorm(120, num_dims=2, beta=beta, gamma=gamma), nn.Sigmoid(), nn.LazyLinear(84),\n",
        "            FixedBatchNorm(84, num_dims=2, beta=beta, gamma=gamma), nn.Sigmoid(),\n",
        "            nn.LazyLinear(num_classes))"
      ]
    },
    {
      "cell_type": "code",
      "execution_count": null,
      "metadata": {
        "id": "ORh9aPT6DZXR"
      },
      "outputs": [],
      "source": [
        "model = FixedBNLeNetScratch(lr=0.1)\n",
        "stat_model_acc(model, data)\n",
        "model = model.to('cuda')\n",
        "model.apply_init([next(iter(data.get_dataloader(True)))[0].to('cuda')], d2l.init_cnn)\n",
        "trainer = d2l.Trainer(max_epochs=10, num_gpus=1)\n",
        "trainer.fit(model, data)\n",
        "X,y = next(iter(data.get_dataloader(False)))\n",
        "X = X.to('cuda')\n",
        "y = y.to('cuda')\n",
        "y_hat = model(X)\n",
        "model.accuracy(y_hat,y).item()"
      ]
    },
    {
      "cell_type": "markdown",
      "metadata": {
        "id": "MxRHZ3ElqhSK"
      },
      "source": [
        "**6. Can you replace dropout by batch normalization? How does the behavior change?**\n",
        "\n",
        "Pada dasarnya, batch normalization dan dropout memiliki tujuan berbeda. Dropout bertujuan untuk mengurangi overfitting dan berfungsi sebagai regularisasi model. Sementara batch normalization bertujuan untuk menstabilkan dan mempercepat pelatihan, tidak secara langsung berfungsi sebagai regularisasi seperti dropout. Sehingga jika dropout diganti batch normalization, model memang bisa menjadi lebih stabil dan proses pelatihan lebih cepat. Akan tetapi, model bisa lebih riskan mengalami overfitting.\n"
      ]
    },
    {
      "cell_type": "markdown",
      "metadata": {
        "id": "HPdal1Zyqii5"
      },
      "source": [
        "**7. Research ideas: think of other normalization transforms that you can apply:**\n",
        "* Can you apply the probability integral transform?"
      ]
    },
    {
      "cell_type": "code",
      "execution_count": null,
      "metadata": {
        "id": "qsyBftciGeh1"
      },
      "outputs": [],
      "source": [
        "import numpy as np\n",
        "\n",
        "def linear_interpolation(x, known_x, known_y):\n",
        "    lower_indices = torch.searchsorted(known_x, x, right=True).to('cuda') - 1\n",
        "    upper_indices = lower_indices + 1\n",
        "    max_indices = torch.ones(len(x)).to('cuda')*(len(known_y)-1)\n",
        "    upper_indices = torch.min(upper_indices, max_indices).type(torch.long)\n",
        "    print('li:',known_y.device)\n",
        "    known_y = known_y.to('cuda')\n",
        "    print(known_y.device,lower_indices.device)\n",
        "    lower_y = known_y[lower_indices]\n",
        "    upper_y = known_y[upper_indices]\n",
        "\n",
        "    # Calculate the interpolation weights\n",
        "    weights = (x - known_x[lower_indices]) / (known_x[upper_indices] - known_x[lower_indices])\n",
        "\n",
        "    # Perform linear interpolation\n",
        "    interpolated_y = lower_y + weights * (upper_y - lower_y)\n",
        "    return interpolated_y\n",
        "\n",
        "def gen_sort_cdf(data):\n",
        "    sorts = []\n",
        "    cdfs = []\n",
        "    for i in range(data.shape[1]):\n",
        "        sort,_ = torch.sort(data[:, i]) #.detach().numpy()\n",
        "        cdf = torch.arange(1, len(sort) + 1) / len(sort)\n",
        "        cdf = cdf.to('cuda')\n",
        "        sorts.append(sort.reshape(-1,1))\n",
        "        cdfs.append(cdf.reshape(-1,1))\n",
        "        sorts.append(torch.tensor(sort).reshape(-1,1))\n",
        "        cdfs.append(torch.tensor(cdf).reshape(-1,1))\n",
        "    return torch.cat(sorts, dim=1), torch.cat(cdfs, dim=1)\n",
        "\n",
        "def pit_col(sorted_data, cdf_values, data):\n",
        "    sorted_data = np.sort(org_data)\n",
        "    cdf_values = np.arange(1, len(sorted_data) + 1) / len(sorted_data)\n",
        "    transformed_data = linear_interpolation(data, sorted_data, cdf_values)\n",
        "    return transformed_data.reshape(-1,1)\n",
        "\n",
        "def pit(sorted_data, cdf_values, data):\n",
        "    return torch.cat([pit_col(sorted_data[:,i], cdf_values[:,i], data[:, i]) for i in range(data.shape[1])], dim=1)\n",
        "\n",
        "def batch_pit_norm(X, gamma, beta, moving_sorted, moving_cdf, momentum):\n",
        "    assert len(X.shape) in (2, 4)\n",
        "    shape  = X.shape\n",
        "    X = X.to('cuda')\n",
        "    moving_sorted = moving_sorted.to('cuda')\n",
        "    if len(shape) == 4:\n",
        "        X = torch.transpose(X,0,1).reshape(shape[1],-1)\n",
        "    if not torch.is_grad_enabled():\n",
        "        # In prediction mode, use mean and variance obtained by moving average\n",
        "        X_hat = pit(moving_sorted, moving_cdf, cdfs, X)\n",
        "    else:\n",
        "        sorts, cdfs = gen_sort_cdf(X)\n",
        "        X_hat = pit(sorts, cdfs, X)\n",
        "        print('sort',moving_sorted.device,sorts.device)\n",
        "        print('cdf',moving_cdf.device,cdfs.device)\n",
        "        moving_sorted = (1.0 - momentum) * moving_sorted + momentum * sorts\n",
        "        moving_cdf = (1.0 - momentum) * moving_cdf + momentum * cdfs\n",
        "    X_hat = X.reshape(shape)\n",
        "    print(gamma.device,X_hat.device,beta.device)\n",
        "    Y = gamma * X_hat + beta  # Scale and shift\n",
        "    return Y, moving_sorted, moving_cdf\n",
        "\n",
        "class PitBatchNorm(nn.Module):\n",
        "    def __init__(self, num_features, num_dims):\n",
        "        super().__init__()\n",
        "        if num_dims == 2:\n",
        "            shape = (1, num_features)\n",
        "        else:\n",
        "            shape = (1, num_features, 1, 1)\n",
        "        self.gamma = nn.Parameter(torch.ones(shape)).to('cuda')\n",
        "        self.beta = nn.Parameter(torch.zeros(shape)).to('cuda')\n",
        "        self.moving_sorted = torch.zeros(shape)\n",
        "        self.moving_cdf = torch.zeros(shape)\n",
        "\n",
        "    def forward(self, X):\n",
        "        X = X.to('cuda')\n",
        "        if self.moving_sorted.device != X.device:\n",
        "            self.moving_sorted = self.moving_sorted.to(X.device)\n",
        "            self.moving_cdf = self.moving_cdf.to(X.device)\n",
        "        print(self.moving_sorted.device,self.moving_cdf.device)\n",
        "        Y, self.moving_sorted, self.moving_cdf = batch_pit_norm(\n",
        "            X, self.gamma, self.beta, self.moving_sorted,\n",
        "            self.moving_cdf, momentum=0.1)\n",
        "        return Y\n",
        "\n",
        "\n",
        "class PitBNLeNetScratch(d2l.torch.Classifier):\n",
        "    def __init__(self, lr=0.1, num_classes=10, mean_flag=True):\n",
        "        super().__init__()\n",
        "        self.save_hyperparameters()\n",
        "        self.net = nn.Sequential(\n",
        "            nn.LazyConv2d(6, kernel_size=5), PitBatchNorm(6, num_dims=4),\n",
        "            nn.Sigmoid(), nn.AvgPool2d(kernel_size=2, stride=2),\n",
        "            nn.LazyConv2d(16, kernel_size=5), PitBatchNorm(16, num_dims=4),\n",
        "            nn.Sigmoid(), nn.AvgPool2d(kernel_size=2, stride=2),\n",
        "            nn.Flatten(), nn.LazyLinear(120),\n",
        "            nn.Sigmoid(), nn.LazyLinear(84),\n",
        "            PitBatchNorm(120, num_dims=2), nn.Sigmoid(), nn.LazyLinear(84),\n",
        "            nn.Sigmoid(),\n",
        "            PitBatchNorm(84, num_dims=2), nn.Sigmoid(),\n",
        "            nn.LazyLinear(num_classes))"
      ]
    },
    {
      "cell_type": "code",
      "execution_count": null,
      "metadata": {
        "id": "hrtnBv_bGigK"
      },
      "outputs": [],
      "source": [
        "model = PitBNLeNetScratch(lr=0.1)\n",
        "stat_model_acc(model, data)\n",
        "model = model\n",
        "model = model.to('cuda')\n",
        "model.apply_init([next(iter(data.get_dataloader(True)))[0].to('cuda')], d2l.init_cnn)\n",
        "trainer = d2l.Trainer(max_epochs=10, num_gpus=1)\n",
        "trainer.fit(model, data)\n",
        "X,y = next(iter(data.get_dataloader(False)))\n",
        "X = X.to('cuda')\n",
        "y = y.to('cuda')\n",
        "y_hat = model(X)\n",
        "model.accuracy(y_hat,y).item()\n",
        "print(X.shape)\n",
        "for m in model.net:\n",
        "  X = m(X)\n",
        "  print(X.shape)"
      ]
    },
    {
      "cell_type": "markdown",
      "metadata": {
        "id": "lZ-F7GL5quCf"
      },
      "source": [
        "* Can you use a full-rank covariance estimate? Why should you probably not do that?"
      ]
    },
    {
      "cell_type": "code",
      "execution_count": null,
      "metadata": {
        "id": "-mRE16fQGrMC"
      },
      "outputs": [],
      "source": [
        "def batch_frcov_norm(X, gamma, beta, moving_cov_matrix, momentum):\n",
        "    assert len(X.shape) in (2, 4)\n",
        "    shape  = X.shape\n",
        "    if len(shape) == 4:\n",
        "        X = torch.transpose(X,0,1).reshape(shape[1],-1)\n",
        "    if not torch.is_grad_enabled():\n",
        "        # In prediction mode, use mean and variance obtained by moving average\n",
        "        eigenvalues, eigenvectors = torch.linalg.eig(moving_cov_matrix)\n",
        "        X_hat = X @ eigenvectors.type(torch.float32)\n",
        "    else:\n",
        "        centered_data = X - X.mean(dim=0)\n",
        "        cov_matrix = (centered_data.conj().T @ centered_data) / (X.shape[0] - 1)\n",
        "        eigenvalues, eigenvectors = torch.linalg.eig(cov_matrix)\n",
        "        X_hat = X @ eigenvectors.type(torch.float32)\n",
        "        moving_cov_matrix = (1.0 - momentum) * moving_cov_matrix + momentum * cov_matrix\n",
        "    X_hat = X.reshape(shape)\n",
        "    Y = gamma * X_hat + beta  # Scale and shift\n",
        "    return Y, moving_cov_matrix\n",
        "\n",
        "class FrcovBatchNorm(nn.Module):\n",
        "    def __init__(self, num_features, num_dims):\n",
        "        super().__init__()\n",
        "        if num_dims == 2:\n",
        "            shape = (1, num_features)\n",
        "        else:\n",
        "            shape = (1, num_features, 1, 1)\n",
        "        self.gamma = nn.Parameter(torch.ones(shape))\n",
        "        self.beta = nn.Parameter(torch.zeros(shape))\n",
        "        self.moving_cov_matrix = torch.zeros(shape)\n",
        "\n",
        "    def forward(self, X):\n",
        "        if self.moving_cov_matrix.device != X.device:\n",
        "            self.moving_cov_matrix = self.moving_cov_matrix.to(X.device)\n",
        "        Y, self.moving_cov_matrix = batch_frcov_norm(\n",
        "            X, self.gamma, self.beta, self.moving_cov_matrix,\n",
        "            momentum=0.1)\n",
        "        return Y\n",
        "\n",
        "\n",
        "class FrcovBNLeNetScratch(d2l.Classifier):\n",
        "    def __init__(self, lr=0.1, num_classes=10, mean_flag=True):\n",
        "        super().__init__()\n",
        "        self.save_hyperparameters()\n",
        "        self.net = nn.Sequential(\n",
        "            nn.LazyConv2d(6, kernel_size=5), FrcovBatchNorm(6, num_dims=4),\n",
        "            nn.Sigmoid(), nn.AvgPool2d(kernel_size=2, stride=2),\n",
        "            nn.LazyConv2d(16, kernel_size=5), FrcovBatchNorm(6, num_dims=4),\n",
        "            nn.Sigmoid(), nn.AvgPool2d(kernel_size=2, stride=2),\n",
        "            nn.Flatten(), nn.LazyLinear(120),\n",
        "            FrcovBatchNorm(6, num_dims=4), nn.Sigmoid(), nn.LazyLinear(84),\n",
        "            FrcovBatchNorm(6, num_dims=4), nn.Sigmoid(),\n",
        "            nn.LazyLinear(num_classes))"
      ]
    },
    {
      "cell_type": "code",
      "execution_count": null,
      "metadata": {
        "id": "5zB8_SAKGyBc"
      },
      "outputs": [],
      "source": [
        "model = FrcovBNLeNetScratch(lr=0.1)"
      ]
    },
    {
      "cell_type": "markdown",
      "metadata": {
        "id": "82LMRSP1qwPX"
      },
      "source": [
        "* Can you use other compact matrix variants (block-diagonal, low-displacement rank, Monarch, etc.)?"
      ]
    },
    {
      "cell_type": "code",
      "execution_count": null,
      "metadata": {
        "id": "JfMck0JkG4pp"
      },
      "outputs": [],
      "source": [
        "def batch_bdcov_norm(X, gamma, beta, moving_cov_matrix, momentum):\n",
        "    assert len(X.shape) in (2, 4)\n",
        "    shape  = X.shape\n",
        "    if len(shape) == 4:\n",
        "        X = torch.transpose(X,0,1).reshape(shape[1],-1)\n",
        "    if not torch.is_grad_enabled():\n",
        "        diagonal_matrix = torch.diag_embed(moving_cov_matrix)\n",
        "        block_diagonal_matrix = torch.sum(diagonal_matrix, dim=0)\n",
        "        X_hat = X @ block_diagonal_matrix\n",
        "    else:\n",
        "        centered_data = X - X.mean(dim=0)\n",
        "        cov_matrix = (centered_data.conj().T @ centered_data) / (X.shape[0] - 1)\n",
        "        diagonal_matrix = torch.diag_embed(moving_cov_matrix)\n",
        "        block_diagonal_matrix = torch.sum(diagonal_matrix, dim=0)\n",
        "        X_hat = X @ block_diagonal_matrix\n",
        "        moving_cov_matrix = (1.0 - momentum) * moving_cov_matrix + momentum * cov_matrix\n",
        "    X_hat = X.reshape(shape)\n",
        "    Y = gamma * X_hat + beta  # Scale and shift\n",
        "    return Y, moving_cov_matrix\n",
        "\n",
        "class BdcovBatchNorm(nn.Module):\n",
        "    def __init__(self, num_features, num_dims):\n",
        "        super().__init__()\n",
        "        if num_dims == 2:\n",
        "            shape = (1, num_features)\n",
        "        else:\n",
        "            shape = (1, num_features, 1, 1)\n",
        "        self.gamma = nn.Parameter(torch.ones(shape))\n",
        "        self.beta = nn.Parameter(torch.zeros(shape))\n",
        "        self.moving_cov_matrix = torch.zeros(shape)\n",
        "\n",
        "    def forward(self, X):\n",
        "        if self.moving_cov_matrix.device != X.device:\n",
        "            self.moving_cov_matrix = self.moving_cov_matrix.to(X.device)\n",
        "        Y, self.moving_cov_matrix = batch_bdcov_norm(\n",
        "            X, self.gamma, self.beta, self.moving_cov_matrix,\n",
        "            momentum=0.1)\n",
        "        return Y\n",
        "\n",
        "\n",
        "class BdcovBNLeNetScratch(d2l.Classifier):\n",
        "    def __init__(self, lr=0.1, num_classes=10, mean_flag=True):\n",
        "        super().__init__()\n",
        "        self.save_hyperparameters()\n",
        "        self.net = nn.Sequential(\n",
        "            nn.LazyConv2d(6, kernel_size=5), BdcovBatchNorm(6, num_dims=4),\n",
        "            nn.Sigmoid(), nn.AvgPool2d(kernel_size=2, stride=2),\n",
        "            nn.LazyConv2d(16, kernel_size=5), BdcovBatchNorm(6, num_dims=4),\n",
        "            nn.Sigmoid(), nn.AvgPool2d(kernel_size=2, stride=2),\n",
        "            nn.Flatten(), nn.LazyLinear(120),\n",
        "            BdcovBatchNorm(6, num_dims=4), nn.Sigmoid(), nn.LazyLinear(84),\n",
        "            BdcovBatchNorm(6, num_dims=4), nn.Sigmoid(),\n",
        "            nn.LazyLinear(num_classes))"
      ]
    },
    {
      "cell_type": "markdown",
      "metadata": {
        "id": "D00zm4NWqyiK"
      },
      "source": [
        "* Does a sparsification compression act as a regularizer?\n",
        "\n",
        "Ya, sparsification compression dapat berlaku seperti regularizer karena mampu mengurangi kompleksitas model dengan menghilangkan bobot yang tidak penting atau mendekati nol. Dengan mengurangi jumlah parameter, sparsification mencegah overfitting, yang sering terjadi ketika model memiliki terlalu banyak parameter. Selain itu, sparsification dapat meningkatkan efisiensi komputasi dan memori. Akan tetapi, tingkat efektivitas sparsification sebagai regularizer bergantung pada bagaimana penerapannya dalam proses pelatihan."
      ]
    },
    {
      "cell_type": "markdown",
      "metadata": {
        "id": "N2TyZSb9q0ol"
      },
      "source": [
        "* Are there other projections (e.g., convex cone, symmetry group-specific transforms) that you can use?\n",
        "\n",
        "Ya, terdapat proyeksi lain yang dapat digunakan, seperti Convex Cone Projection atau Symmetry Group-Specific Transforms. Convex Cone Projection mampu menjaga sifat-sifat tertentu dari data atau parameter, sedangkan Symmetry Group-Specific Transforms digunakan untuk mempertahankan invariansi terhadap transformasi tertentu, seperti rotasi atau refleksi. Penggunaan proyeksi ini dapat membantu optimalisasi model dengan menjaga konsistensi dan stabilitas selama proses pelatihan, serta dapat meningkatkan kinerja model."
      ]
    },
    {
      "cell_type": "markdown",
      "metadata": {
        "id": "19h2D56J3GYe"
      },
      "source": [
        "### **8.6 Residual Networks (ResNet) and ResNeXt**"
      ]
    },
    {
      "cell_type": "code",
      "execution_count": null,
      "metadata": {
        "id": "d2Fed5VrG2fc"
      },
      "outputs": [],
      "source": [
        "import torch\n",
        "from torch import nn\n",
        "from torch.nn import functional as F\n",
        "from d2l import torch as d2l"
      ]
    },
    {
      "cell_type": "code",
      "execution_count": null,
      "metadata": {
        "id": "JSV5PNH33NUk"
      },
      "outputs": [],
      "source": [
        "class Residual(nn.Module):\n",
        "    \"\"\"The Residual block of ResNet models.\"\"\"\n",
        "    def __init__(self, num_channels, use_1x1conv=False, strides=1):\n",
        "        super().__init__()\n",
        "        self.conv1 = nn.LazyConv2d(num_channels, kernel_size=3, padding=1,\n",
        "                                   stride=strides)\n",
        "        self.conv2 = nn.LazyConv2d(num_channels, kernel_size=3, padding=1)\n",
        "        if use_1x1conv:\n",
        "            self.conv3 = nn.LazyConv2d(num_channels, kernel_size=1,\n",
        "                                       stride=strides)\n",
        "        else:\n",
        "            self.conv3 = None\n",
        "        self.bn1 = nn.LazyBatchNorm2d()\n",
        "        self.bn2 = nn.LazyBatchNorm2d()\n",
        "\n",
        "    def forward(self, X):\n",
        "        Y = F.relu(self.bn1(self.conv1(X)))\n",
        "        Y = self.bn2(self.conv2(Y))\n",
        "        if self.conv3:\n",
        "            X = self.conv3(X)\n",
        "        Y += X\n",
        "        return F.relu(Y)"
      ]
    },
    {
      "cell_type": "code",
      "execution_count": null,
      "metadata": {
        "colab": {
          "base_uri": "https://localhost:8080/"
        },
        "id": "q3m4ja5e3Vcd",
        "outputId": "e0a02211-3fd8-4f61-8b0a-94d05a228f0f"
      },
      "outputs": [
        {
          "output_type": "execute_result",
          "data": {
            "text/plain": [
              "torch.Size([4, 3, 6, 6])"
            ]
          },
          "metadata": {},
          "execution_count": 45
        }
      ],
      "source": [
        "blk = Residual(3)\n",
        "X = torch.randn(4, 3, 6, 6)\n",
        "blk(X).shape"
      ]
    },
    {
      "cell_type": "code",
      "execution_count": null,
      "metadata": {
        "colab": {
          "base_uri": "https://localhost:8080/"
        },
        "id": "GEhPzcFC3XNU",
        "outputId": "08a2bb09-ea2b-45e0-b7b7-0aa5a01e31bd"
      },
      "outputs": [
        {
          "output_type": "execute_result",
          "data": {
            "text/plain": [
              "torch.Size([4, 6, 3, 3])"
            ]
          },
          "metadata": {},
          "execution_count": 46
        }
      ],
      "source": [
        "blk = Residual(6, use_1x1conv=True, strides=2)\n",
        "blk(X).shape"
      ]
    },
    {
      "cell_type": "code",
      "execution_count": null,
      "metadata": {
        "id": "7Zbmm8TD3ZBl"
      },
      "outputs": [],
      "source": [
        "class ResNet(d2l.Classifier):\n",
        "    def b1(self):\n",
        "        return nn.Sequential(\n",
        "            nn.LazyConv2d(64, kernel_size=7, stride=2, padding=3),\n",
        "            nn.LazyBatchNorm2d(), nn.ReLU(),\n",
        "            nn.MaxPool2d(kernel_size=3, stride=2, padding=1))"
      ]
    },
    {
      "cell_type": "code",
      "execution_count": null,
      "metadata": {
        "id": "clsVRWk_3bAV"
      },
      "outputs": [],
      "source": [
        "@d2l.add_to_class(ResNet)\n",
        "def block(self, num_residuals, num_channels, first_block=False):\n",
        "    blk = []\n",
        "    for i in range(num_residuals):\n",
        "        if i == 0 and not first_block:\n",
        "            blk.append(Residual(num_channels, use_1x1conv=True, strides=2))\n",
        "        else:\n",
        "            blk.append(Residual(num_channels))\n",
        "    return nn.Sequential(*blk)"
      ]
    },
    {
      "cell_type": "code",
      "execution_count": null,
      "metadata": {
        "id": "9JfPnfet3cjJ"
      },
      "outputs": [],
      "source": [
        "@d2l.add_to_class(ResNet)\n",
        "def __init__(self, arch, lr=0.1, num_classes=10):\n",
        "    super(ResNet, self).__init__()\n",
        "    self.save_hyperparameters()\n",
        "    self.net = nn.Sequential(self.b1())\n",
        "    for i, b in enumerate(arch):\n",
        "        self.net.add_module(f'b{i+2}', self.block(*b, first_block=(i==0)))\n",
        "    self.net.add_module('last', nn.Sequential(\n",
        "        nn.AdaptiveAvgPool2d((1, 1)), nn.Flatten(),\n",
        "        nn.LazyLinear(num_classes)))\n",
        "    self.net.apply(d2l.init_cnn)"
      ]
    },
    {
      "cell_type": "code",
      "execution_count": null,
      "metadata": {
        "colab": {
          "base_uri": "https://localhost:8080/"
        },
        "id": "qRzxrWa83eZM",
        "outputId": "00d9e998-1088-4ef7-c0de-d14bb8564e84"
      },
      "outputs": [
        {
          "output_type": "stream",
          "name": "stdout",
          "text": [
            "Sequential output shape:\t torch.Size([1, 64, 24, 24])\n",
            "Sequential output shape:\t torch.Size([1, 64, 24, 24])\n",
            "Sequential output shape:\t torch.Size([1, 128, 12, 12])\n",
            "Sequential output shape:\t torch.Size([1, 256, 6, 6])\n",
            "Sequential output shape:\t torch.Size([1, 512, 3, 3])\n",
            "Sequential output shape:\t torch.Size([1, 10])\n"
          ]
        }
      ],
      "source": [
        "class ResNet18(ResNet):\n",
        "    def __init__(self, lr=0.1, num_classes=10):\n",
        "        super().__init__(((2, 64), (2, 128), (2, 256), (2, 512)),\n",
        "                       lr, num_classes)\n",
        "\n",
        "ResNet18().layer_summary((1, 1, 96, 96))"
      ]
    },
    {
      "cell_type": "code",
      "execution_count": null,
      "metadata": {
        "colab": {
          "base_uri": "https://localhost:8080/",
          "height": 265
        },
        "id": "pcQlqOm_3gDG",
        "outputId": "877baef4-cd76-4ec2-b7c0-96f57928c49d"
      },
      "outputs": [
        {
          "data": {
            "image/svg+xml": "<?xml version=\"1.0\" encoding=\"utf-8\" standalone=\"no\"?>\n<!DOCTYPE svg PUBLIC \"-//W3C//DTD SVG 1.1//EN\"\n  \"http://www.w3.org/Graphics/SVG/1.1/DTD/svg11.dtd\">\n<svg xmlns:xlink=\"http://www.w3.org/1999/xlink\" width=\"238.965625pt\" height=\"183.35625pt\" viewBox=\"0 0 238.965625 183.35625\" xmlns=\"http://www.w3.org/2000/svg\" version=\"1.1\">\n <metadata>\n  <rdf:RDF xmlns:dc=\"http://purl.org/dc/elements/1.1/\" xmlns:cc=\"http://creativecommons.org/ns#\" xmlns:rdf=\"http://www.w3.org/1999/02/22-rdf-syntax-ns#\">\n   <cc:Work>\n    <dc:type rdf:resource=\"http://purl.org/dc/dcmitype/StillImage\"/>\n    <dc:date>2024-09-26T13:20:21.552712</dc:date>\n    <dc:format>image/svg+xml</dc:format>\n    <dc:creator>\n     <cc:Agent>\n      <dc:title>Matplotlib v3.7.2, https://matplotlib.org/</dc:title>\n     </cc:Agent>\n    </dc:creator>\n   </cc:Work>\n  </rdf:RDF>\n </metadata>\n <defs>\n  <style type=\"text/css\">*{stroke-linejoin: round; stroke-linecap: butt}</style>\n </defs>\n <g id=\"figure_1\">\n  <g id=\"patch_1\">\n   <path d=\"M 0 183.35625 \nL 238.965625 183.35625 \nL 238.965625 0 \nL 0 0 \nz\n\" style=\"fill: #ffffff\"/>\n  </g>\n  <g id=\"axes_1\">\n   <g id=\"patch_2\">\n    <path d=\"M 30.103125 145.8 \nL 225.403125 145.8 \nL 225.403125 7.2 \nL 30.103125 7.2 \nz\n\" style=\"fill: #ffffff\"/>\n   </g>\n   <g id=\"matplotlib.axis_1\">\n    <g id=\"xtick_1\">\n     <g id=\"line2d_1\">\n      <defs>\n       <path id=\"me232f6688c\" d=\"M 0 0 \nL 0 3.5 \n\" style=\"stroke: #000000; stroke-width: 0.8\"/>\n      </defs>\n      <g>\n       <use xlink:href=\"#me232f6688c\" x=\"30.103125\" y=\"145.8\" style=\"stroke: #000000; stroke-width: 0.8\"/>\n      </g>\n     </g>\n     <g id=\"text_1\">\n      <!-- 0 -->\n      <g transform=\"translate(26.921875 160.398438) scale(0.1 -0.1)\">\n       <defs>\n        <path id=\"DejaVuSans-30\" d=\"M 2034 4250 \nQ 1547 4250 1301 3770 \nQ 1056 3291 1056 2328 \nQ 1056 1369 1301 889 \nQ 1547 409 2034 409 \nQ 2525 409 2770 889 \nQ 3016 1369 3016 2328 \nQ 3016 3291 2770 3770 \nQ 2525 4250 2034 4250 \nz\nM 2034 4750 \nQ 2819 4750 3233 4129 \nQ 3647 3509 3647 2328 \nQ 3647 1150 3233 529 \nQ 2819 -91 2034 -91 \nQ 1250 -91 836 529 \nQ 422 1150 422 2328 \nQ 422 3509 836 4129 \nQ 1250 4750 2034 4750 \nz\n\" transform=\"scale(0.015625)\"/>\n       </defs>\n       <use xlink:href=\"#DejaVuSans-30\"/>\n      </g>\n     </g>\n    </g>\n    <g id=\"xtick_2\">\n     <g id=\"line2d_2\">\n      <g>\n       <use xlink:href=\"#me232f6688c\" x=\"69.163125\" y=\"145.8\" style=\"stroke: #000000; stroke-width: 0.8\"/>\n      </g>\n     </g>\n     <g id=\"text_2\">\n      <!-- 2 -->\n      <g transform=\"translate(65.981875 160.398438) scale(0.1 -0.1)\">\n       <defs>\n        <path id=\"DejaVuSans-32\" d=\"M 1228 531 \nL 3431 531 \nL 3431 0 \nL 469 0 \nL 469 531 \nQ 828 903 1448 1529 \nQ 2069 2156 2228 2338 \nQ 2531 2678 2651 2914 \nQ 2772 3150 2772 3378 \nQ 2772 3750 2511 3984 \nQ 2250 4219 1831 4219 \nQ 1534 4219 1204 4116 \nQ 875 4013 500 3803 \nL 500 4441 \nQ 881 4594 1212 4672 \nQ 1544 4750 1819 4750 \nQ 2544 4750 2975 4387 \nQ 3406 4025 3406 3419 \nQ 3406 3131 3298 2873 \nQ 3191 2616 2906 2266 \nQ 2828 2175 2409 1742 \nQ 1991 1309 1228 531 \nz\n\" transform=\"scale(0.015625)\"/>\n       </defs>\n       <use xlink:href=\"#DejaVuSans-32\"/>\n      </g>\n     </g>\n    </g>\n    <g id=\"xtick_3\">\n     <g id=\"line2d_3\">\n      <g>\n       <use xlink:href=\"#me232f6688c\" x=\"108.223125\" y=\"145.8\" style=\"stroke: #000000; stroke-width: 0.8\"/>\n      </g>\n     </g>\n     <g id=\"text_3\">\n      <!-- 4 -->\n      <g transform=\"translate(105.041875 160.398438) scale(0.1 -0.1)\">\n       <defs>\n        <path id=\"DejaVuSans-34\" d=\"M 2419 4116 \nL 825 1625 \nL 2419 1625 \nL 2419 4116 \nz\nM 2253 4666 \nL 3047 4666 \nL 3047 1625 \nL 3713 1625 \nL 3713 1100 \nL 3047 1100 \nL 3047 0 \nL 2419 0 \nL 2419 1100 \nL 313 1100 \nL 313 1709 \nL 2253 4666 \nz\n\" transform=\"scale(0.015625)\"/>\n       </defs>\n       <use xlink:href=\"#DejaVuSans-34\"/>\n      </g>\n     </g>\n    </g>\n    <g id=\"xtick_4\">\n     <g id=\"line2d_4\">\n      <g>\n       <use xlink:href=\"#me232f6688c\" x=\"147.283125\" y=\"145.8\" style=\"stroke: #000000; stroke-width: 0.8\"/>\n      </g>\n     </g>\n     <g id=\"text_4\">\n      <!-- 6 -->\n      <g transform=\"translate(144.101875 160.398438) scale(0.1 -0.1)\">\n       <defs>\n        <path id=\"DejaVuSans-36\" d=\"M 2113 2584 \nQ 1688 2584 1439 2293 \nQ 1191 2003 1191 1497 \nQ 1191 994 1439 701 \nQ 1688 409 2113 409 \nQ 2538 409 2786 701 \nQ 3034 994 3034 1497 \nQ 3034 2003 2786 2293 \nQ 2538 2584 2113 2584 \nz\nM 3366 4563 \nL 3366 3988 \nQ 3128 4100 2886 4159 \nQ 2644 4219 2406 4219 \nQ 1781 4219 1451 3797 \nQ 1122 3375 1075 2522 \nQ 1259 2794 1537 2939 \nQ 1816 3084 2150 3084 \nQ 2853 3084 3261 2657 \nQ 3669 2231 3669 1497 \nQ 3669 778 3244 343 \nQ 2819 -91 2113 -91 \nQ 1303 -91 875 529 \nQ 447 1150 447 2328 \nQ 447 3434 972 4092 \nQ 1497 4750 2381 4750 \nQ 2619 4750 2861 4703 \nQ 3103 4656 3366 4563 \nz\n\" transform=\"scale(0.015625)\"/>\n       </defs>\n       <use xlink:href=\"#DejaVuSans-36\"/>\n      </g>\n     </g>\n    </g>\n    <g id=\"xtick_5\">\n     <g id=\"line2d_5\">\n      <g>\n       <use xlink:href=\"#me232f6688c\" x=\"186.343125\" y=\"145.8\" style=\"stroke: #000000; stroke-width: 0.8\"/>\n      </g>\n     </g>\n     <g id=\"text_5\">\n      <!-- 8 -->\n      <g transform=\"translate(183.161875 160.398438) scale(0.1 -0.1)\">\n       <defs>\n        <path id=\"DejaVuSans-38\" d=\"M 2034 2216 \nQ 1584 2216 1326 1975 \nQ 1069 1734 1069 1313 \nQ 1069 891 1326 650 \nQ 1584 409 2034 409 \nQ 2484 409 2743 651 \nQ 3003 894 3003 1313 \nQ 3003 1734 2745 1975 \nQ 2488 2216 2034 2216 \nz\nM 1403 2484 \nQ 997 2584 770 2862 \nQ 544 3141 544 3541 \nQ 544 4100 942 4425 \nQ 1341 4750 2034 4750 \nQ 2731 4750 3128 4425 \nQ 3525 4100 3525 3541 \nQ 3525 3141 3298 2862 \nQ 3072 2584 2669 2484 \nQ 3125 2378 3379 2068 \nQ 3634 1759 3634 1313 \nQ 3634 634 3220 271 \nQ 2806 -91 2034 -91 \nQ 1263 -91 848 271 \nQ 434 634 434 1313 \nQ 434 1759 690 2068 \nQ 947 2378 1403 2484 \nz\nM 1172 3481 \nQ 1172 3119 1398 2916 \nQ 1625 2713 2034 2713 \nQ 2441 2713 2670 2916 \nQ 2900 3119 2900 3481 \nQ 2900 3844 2670 4047 \nQ 2441 4250 2034 4250 \nQ 1625 4250 1398 4047 \nQ 1172 3844 1172 3481 \nz\n\" transform=\"scale(0.015625)\"/>\n       </defs>\n       <use xlink:href=\"#DejaVuSans-38\"/>\n      </g>\n     </g>\n    </g>\n    <g id=\"xtick_6\">\n     <g id=\"line2d_6\">\n      <g>\n       <use xlink:href=\"#me232f6688c\" x=\"225.403125\" y=\"145.8\" style=\"stroke: #000000; stroke-width: 0.8\"/>\n      </g>\n     </g>\n     <g id=\"text_6\">\n      <!-- 10 -->\n      <g transform=\"translate(219.040625 160.398438) scale(0.1 -0.1)\">\n       <defs>\n        <path id=\"DejaVuSans-31\" d=\"M 794 531 \nL 1825 531 \nL 1825 4091 \nL 703 3866 \nL 703 4441 \nL 1819 4666 \nL 2450 4666 \nL 2450 531 \nL 3481 531 \nL 3481 0 \nL 794 0 \nL 794 531 \nz\n\" transform=\"scale(0.015625)\"/>\n       </defs>\n       <use xlink:href=\"#DejaVuSans-31\"/>\n       <use xlink:href=\"#DejaVuSans-30\" x=\"63.623047\"/>\n      </g>\n     </g>\n    </g>\n    <g id=\"text_7\">\n     <!-- epoch -->\n     <g transform=\"translate(112.525 174.076563) scale(0.1 -0.1)\">\n      <defs>\n       <path id=\"DejaVuSans-65\" d=\"M 3597 1894 \nL 3597 1613 \nL 953 1613 \nQ 991 1019 1311 708 \nQ 1631 397 2203 397 \nQ 2534 397 2845 478 \nQ 3156 559 3463 722 \nL 3463 178 \nQ 3153 47 2828 -22 \nQ 2503 -91 2169 -91 \nQ 1331 -91 842 396 \nQ 353 884 353 1716 \nQ 353 2575 817 3079 \nQ 1281 3584 2069 3584 \nQ 2775 3584 3186 3129 \nQ 3597 2675 3597 1894 \nz\nM 3022 2063 \nQ 3016 2534 2758 2815 \nQ 2500 3097 2075 3097 \nQ 1594 3097 1305 2825 \nQ 1016 2553 972 2059 \nL 3022 2063 \nz\n\" transform=\"scale(0.015625)\"/>\n       <path id=\"DejaVuSans-70\" d=\"M 1159 525 \nL 1159 -1331 \nL 581 -1331 \nL 581 3500 \nL 1159 3500 \nL 1159 2969 \nQ 1341 3281 1617 3432 \nQ 1894 3584 2278 3584 \nQ 2916 3584 3314 3078 \nQ 3713 2572 3713 1747 \nQ 3713 922 3314 415 \nQ 2916 -91 2278 -91 \nQ 1894 -91 1617 61 \nQ 1341 213 1159 525 \nz\nM 3116 1747 \nQ 3116 2381 2855 2742 \nQ 2594 3103 2138 3103 \nQ 1681 3103 1420 2742 \nQ 1159 2381 1159 1747 \nQ 1159 1113 1420 752 \nQ 1681 391 2138 391 \nQ 2594 391 2855 752 \nQ 3116 1113 3116 1747 \nz\n\" transform=\"scale(0.015625)\"/>\n       <path id=\"DejaVuSans-6f\" d=\"M 1959 3097 \nQ 1497 3097 1228 2736 \nQ 959 2375 959 1747 \nQ 959 1119 1226 758 \nQ 1494 397 1959 397 \nQ 2419 397 2687 759 \nQ 2956 1122 2956 1747 \nQ 2956 2369 2687 2733 \nQ 2419 3097 1959 3097 \nz\nM 1959 3584 \nQ 2709 3584 3137 3096 \nQ 3566 2609 3566 1747 \nQ 3566 888 3137 398 \nQ 2709 -91 1959 -91 \nQ 1206 -91 779 398 \nQ 353 888 353 1747 \nQ 353 2609 779 3096 \nQ 1206 3584 1959 3584 \nz\n\" transform=\"scale(0.015625)\"/>\n       <path id=\"DejaVuSans-63\" d=\"M 3122 3366 \nL 3122 2828 \nQ 2878 2963 2633 3030 \nQ 2388 3097 2138 3097 \nQ 1578 3097 1268 2742 \nQ 959 2388 959 1747 \nQ 959 1106 1268 751 \nQ 1578 397 2138 397 \nQ 2388 397 2633 464 \nQ 2878 531 3122 666 \nL 3122 134 \nQ 2881 22 2623 -34 \nQ 2366 -91 2075 -91 \nQ 1284 -91 818 406 \nQ 353 903 353 1747 \nQ 353 2603 823 3093 \nQ 1294 3584 2113 3584 \nQ 2378 3584 2631 3529 \nQ 2884 3475 3122 3366 \nz\n\" transform=\"scale(0.015625)\"/>\n       <path id=\"DejaVuSans-68\" d=\"M 3513 2113 \nL 3513 0 \nL 2938 0 \nL 2938 2094 \nQ 2938 2591 2744 2837 \nQ 2550 3084 2163 3084 \nQ 1697 3084 1428 2787 \nQ 1159 2491 1159 1978 \nL 1159 0 \nL 581 0 \nL 581 4863 \nL 1159 4863 \nL 1159 2956 \nQ 1366 3272 1645 3428 \nQ 1925 3584 2291 3584 \nQ 2894 3584 3203 3211 \nQ 3513 2838 3513 2113 \nz\n\" transform=\"scale(0.015625)\"/>\n      </defs>\n      <use xlink:href=\"#DejaVuSans-65\"/>\n      <use xlink:href=\"#DejaVuSans-70\" x=\"61.523438\"/>\n      <use xlink:href=\"#DejaVuSans-6f\" x=\"125\"/>\n      <use xlink:href=\"#DejaVuSans-63\" x=\"186.181641\"/>\n      <use xlink:href=\"#DejaVuSans-68\" x=\"241.162109\"/>\n     </g>\n    </g>\n   </g>\n   <g id=\"matplotlib.axis_2\">\n    <g id=\"ytick_1\">\n     <g id=\"line2d_7\">\n      <defs>\n       <path id=\"m41fe7ac1e2\" d=\"M 0 0 \nL -3.5 0 \n\" style=\"stroke: #000000; stroke-width: 0.8\"/>\n      </defs>\n      <g>\n       <use xlink:href=\"#m41fe7ac1e2\" x=\"30.103125\" y=\"123.612325\" style=\"stroke: #000000; stroke-width: 0.8\"/>\n      </g>\n     </g>\n     <g id=\"text_8\">\n      <!-- 0.2 -->\n      <g transform=\"translate(7.2 127.411544) scale(0.1 -0.1)\">\n       <defs>\n        <path id=\"DejaVuSans-2e\" d=\"M 684 794 \nL 1344 794 \nL 1344 0 \nL 684 0 \nL 684 794 \nz\n\" transform=\"scale(0.015625)\"/>\n       </defs>\n       <use xlink:href=\"#DejaVuSans-30\"/>\n       <use xlink:href=\"#DejaVuSans-2e\" x=\"63.623047\"/>\n       <use xlink:href=\"#DejaVuSans-32\" x=\"95.410156\"/>\n      </g>\n     </g>\n    </g>\n    <g id=\"ytick_2\">\n     <g id=\"line2d_8\">\n      <g>\n       <use xlink:href=\"#m41fe7ac1e2\" x=\"30.103125\" y=\"92.64687\" style=\"stroke: #000000; stroke-width: 0.8\"/>\n      </g>\n     </g>\n     <g id=\"text_9\">\n      <!-- 0.4 -->\n      <g transform=\"translate(7.2 96.446089) scale(0.1 -0.1)\">\n       <use xlink:href=\"#DejaVuSans-30\"/>\n       <use xlink:href=\"#DejaVuSans-2e\" x=\"63.623047\"/>\n       <use xlink:href=\"#DejaVuSans-34\" x=\"95.410156\"/>\n      </g>\n     </g>\n    </g>\n    <g id=\"ytick_3\">\n     <g id=\"line2d_9\">\n      <g>\n       <use xlink:href=\"#m41fe7ac1e2\" x=\"30.103125\" y=\"61.681415\" style=\"stroke: #000000; stroke-width: 0.8\"/>\n      </g>\n     </g>\n     <g id=\"text_10\">\n      <!-- 0.6 -->\n      <g transform=\"translate(7.2 65.480634) scale(0.1 -0.1)\">\n       <use xlink:href=\"#DejaVuSans-30\"/>\n       <use xlink:href=\"#DejaVuSans-2e\" x=\"63.623047\"/>\n       <use xlink:href=\"#DejaVuSans-36\" x=\"95.410156\"/>\n      </g>\n     </g>\n    </g>\n    <g id=\"ytick_4\">\n     <g id=\"line2d_10\">\n      <g>\n       <use xlink:href=\"#m41fe7ac1e2\" x=\"30.103125\" y=\"30.71596\" style=\"stroke: #000000; stroke-width: 0.8\"/>\n      </g>\n     </g>\n     <g id=\"text_11\">\n      <!-- 0.8 -->\n      <g transform=\"translate(7.2 34.515179) scale(0.1 -0.1)\">\n       <use xlink:href=\"#DejaVuSans-30\"/>\n       <use xlink:href=\"#DejaVuSans-2e\" x=\"63.623047\"/>\n       <use xlink:href=\"#DejaVuSans-38\" x=\"95.410156\"/>\n      </g>\n     </g>\n    </g>\n   </g>\n   <g id=\"line2d_11\">\n    <path d=\"M 34.954394 67.693902 \n\" clip-path=\"url(#p7a27130e74)\" style=\"fill: none; stroke: #1f77b4; stroke-width: 1.5; stroke-linecap: square\"/>\n   </g>\n   <g id=\"line2d_12\">\n    <path d=\"M 34.954394 67.693902 \nL 44.698573 100.36972 \n\" clip-path=\"url(#p7a27130e74)\" style=\"fill: none; stroke: #1f77b4; stroke-width: 1.5; stroke-linecap: square\"/>\n   </g>\n   <g id=\"line2d_13\">\n    <path d=\"M 34.954394 67.693902 \nL 44.698573 100.36972 \n\" clip-path=\"url(#p7a27130e74)\" style=\"fill: none; stroke: #1f77b4; stroke-width: 1.5; stroke-linecap: square\"/>\n   </g>\n   <g id=\"line2d_14\">\n    <path d=\"M 49.633125 102.249341 \n\" clip-path=\"url(#p7a27130e74)\" style=\"fill: none; stroke-dasharray: 5.55,2.4; stroke-dashoffset: 0; stroke: #ff7f0e; stroke-width: 1.5\"/>\n   </g>\n   <g id=\"line2d_15\"/>\n   <g id=\"line2d_16\">\n    <path d=\"M 34.954394 67.693902 \nL 44.698573 100.36972 \n\" clip-path=\"url(#p7a27130e74)\" style=\"fill: none; stroke: #1f77b4; stroke-width: 1.5; stroke-linecap: square\"/>\n   </g>\n   <g id=\"line2d_17\">\n    <path d=\"M 49.633125 102.249341 \n\" clip-path=\"url(#p7a27130e74)\" style=\"fill: none; stroke-dasharray: 5.55,2.4; stroke-dashoffset: 0; stroke: #ff7f0e; stroke-width: 1.5\"/>\n   </g>\n   <g id=\"line2d_18\">\n    <path d=\"M 49.633125 18.721133 \n\" clip-path=\"url(#p7a27130e74)\" style=\"fill: none; stroke-dasharray: 9.6,2.4,1.5,2.4; stroke-dashoffset: 0; stroke: #2ca02c; stroke-width: 1.5\"/>\n   </g>\n   <g id=\"line2d_19\">\n    <path d=\"M 34.954394 67.693902 \nL 44.698573 100.36972 \nL 54.442752 112.205097 \n\" clip-path=\"url(#p7a27130e74)\" style=\"fill: none; stroke: #1f77b4; stroke-width: 1.5; stroke-linecap: square\"/>\n   </g>\n   <g id=\"line2d_20\">\n    <path d=\"M 49.633125 102.249341 \n\" clip-path=\"url(#p7a27130e74)\" style=\"fill: none; stroke-dasharray: 5.55,2.4; stroke-dashoffset: 0; stroke: #ff7f0e; stroke-width: 1.5\"/>\n   </g>\n   <g id=\"line2d_21\">\n    <path d=\"M 49.633125 18.721133 \n\" clip-path=\"url(#p7a27130e74)\" style=\"fill: none; stroke-dasharray: 9.6,2.4,1.5,2.4; stroke-dashoffset: 0; stroke: #2ca02c; stroke-width: 1.5\"/>\n   </g>\n   <g id=\"line2d_22\">\n    <path d=\"M 34.954394 67.693902 \nL 44.698573 100.36972 \nL 54.442752 112.205097 \nL 64.186931 114.264015 \n\" clip-path=\"url(#p7a27130e74)\" style=\"fill: none; stroke: #1f77b4; stroke-width: 1.5; stroke-linecap: square\"/>\n   </g>\n   <g id=\"line2d_23\">\n    <path d=\"M 49.633125 102.249341 \n\" clip-path=\"url(#p7a27130e74)\" style=\"fill: none; stroke-dasharray: 5.55,2.4; stroke-dashoffset: 0; stroke: #ff7f0e; stroke-width: 1.5\"/>\n   </g>\n   <g id=\"line2d_24\">\n    <path d=\"M 49.633125 18.721133 \n\" clip-path=\"url(#p7a27130e74)\" style=\"fill: none; stroke-dasharray: 9.6,2.4,1.5,2.4; stroke-dashoffset: 0; stroke: #2ca02c; stroke-width: 1.5\"/>\n   </g>\n   <g id=\"line2d_25\">\n    <path d=\"M 34.954394 67.693902 \nL 44.698573 100.36972 \nL 54.442752 112.205097 \nL 64.186931 114.264015 \n\" clip-path=\"url(#p7a27130e74)\" style=\"fill: none; stroke: #1f77b4; stroke-width: 1.5; stroke-linecap: square\"/>\n   </g>\n   <g id=\"line2d_26\">\n    <path d=\"M 49.633125 102.249341 \nL 69.163125 108.372293 \n\" clip-path=\"url(#p7a27130e74)\" style=\"fill: none; stroke-dasharray: 5.55,2.4; stroke-dashoffset: 0; stroke: #ff7f0e; stroke-width: 1.5\"/>\n   </g>\n   <g id=\"line2d_27\">\n    <path d=\"M 49.633125 18.721133 \n\" clip-path=\"url(#p7a27130e74)\" style=\"fill: none; stroke-dasharray: 9.6,2.4,1.5,2.4; stroke-dashoffset: 0; stroke: #2ca02c; stroke-width: 1.5\"/>\n   </g>\n   <g id=\"line2d_28\">\n    <path d=\"M 34.954394 67.693902 \nL 44.698573 100.36972 \nL 54.442752 112.205097 \nL 64.186931 114.264015 \n\" clip-path=\"url(#p7a27130e74)\" style=\"fill: none; stroke: #1f77b4; stroke-width: 1.5; stroke-linecap: square\"/>\n   </g>\n   <g id=\"line2d_29\">\n    <path d=\"M 49.633125 102.249341 \nL 69.163125 108.372293 \n\" clip-path=\"url(#p7a27130e74)\" style=\"fill: none; stroke-dasharray: 5.55,2.4; stroke-dashoffset: 0; stroke: #ff7f0e; stroke-width: 1.5\"/>\n   </g>\n   <g id=\"line2d_30\">\n    <path d=\"M 49.633125 18.721133 \nL 69.163125 16.822539 \n\" clip-path=\"url(#p7a27130e74)\" style=\"fill: none; stroke-dasharray: 9.6,2.4,1.5,2.4; stroke-dashoffset: 0; stroke: #2ca02c; stroke-width: 1.5\"/>\n   </g>\n   <g id=\"line2d_31\">\n    <path d=\"M 34.954394 67.693902 \nL 44.698573 100.36972 \nL 54.442752 112.205097 \nL 64.186931 114.264015 \nL 73.93111 122.206419 \n\" clip-path=\"url(#p7a27130e74)\" style=\"fill: none; stroke: #1f77b4; stroke-width: 1.5; stroke-linecap: square\"/>\n   </g>\n   <g id=\"line2d_32\">\n    <path d=\"M 49.633125 102.249341 \nL 69.163125 108.372293 \n\" clip-path=\"url(#p7a27130e74)\" style=\"fill: none; stroke-dasharray: 5.55,2.4; stroke-dashoffset: 0; stroke: #ff7f0e; stroke-width: 1.5\"/>\n   </g>\n   <g id=\"line2d_33\">\n    <path d=\"M 49.633125 18.721133 \nL 69.163125 16.822539 \n\" clip-path=\"url(#p7a27130e74)\" style=\"fill: none; stroke-dasharray: 9.6,2.4,1.5,2.4; stroke-dashoffset: 0; stroke: #2ca02c; stroke-width: 1.5\"/>\n   </g>\n   <g id=\"line2d_34\">\n    <path d=\"M 34.954394 67.693902 \nL 44.698573 100.36972 \nL 54.442752 112.205097 \nL 64.186931 114.264015 \nL 73.93111 122.206419 \nL 83.675289 122.247754 \n\" clip-path=\"url(#p7a27130e74)\" style=\"fill: none; stroke: #1f77b4; stroke-width: 1.5; stroke-linecap: square\"/>\n   </g>\n   <g id=\"line2d_35\">\n    <path d=\"M 49.633125 102.249341 \nL 69.163125 108.372293 \n\" clip-path=\"url(#p7a27130e74)\" style=\"fill: none; stroke-dasharray: 5.55,2.4; stroke-dashoffset: 0; stroke: #ff7f0e; stroke-width: 1.5\"/>\n   </g>\n   <g id=\"line2d_36\">\n    <path d=\"M 49.633125 18.721133 \nL 69.163125 16.822539 \n\" clip-path=\"url(#p7a27130e74)\" style=\"fill: none; stroke-dasharray: 9.6,2.4,1.5,2.4; stroke-dashoffset: 0; stroke: #2ca02c; stroke-width: 1.5\"/>\n   </g>\n   <g id=\"line2d_37\">\n    <path d=\"M 34.954394 67.693902 \nL 44.698573 100.36972 \nL 54.442752 112.205097 \nL 64.186931 114.264015 \nL 73.93111 122.206419 \nL 83.675289 122.247754 \n\" clip-path=\"url(#p7a27130e74)\" style=\"fill: none; stroke: #1f77b4; stroke-width: 1.5; stroke-linecap: square\"/>\n   </g>\n   <g id=\"line2d_38\">\n    <path d=\"M 49.633125 102.249341 \nL 69.163125 108.372293 \nL 88.693125 110.494844 \n\" clip-path=\"url(#p7a27130e74)\" style=\"fill: none; stroke-dasharray: 5.55,2.4; stroke-dashoffset: 0; stroke: #ff7f0e; stroke-width: 1.5\"/>\n   </g>\n   <g id=\"line2d_39\">\n    <path d=\"M 49.633125 18.721133 \nL 69.163125 16.822539 \n\" clip-path=\"url(#p7a27130e74)\" style=\"fill: none; stroke-dasharray: 9.6,2.4,1.5,2.4; stroke-dashoffset: 0; stroke: #2ca02c; stroke-width: 1.5\"/>\n   </g>\n   <g id=\"line2d_40\">\n    <path d=\"M 34.954394 67.693902 \nL 44.698573 100.36972 \nL 54.442752 112.205097 \nL 64.186931 114.264015 \nL 73.93111 122.206419 \nL 83.675289 122.247754 \n\" clip-path=\"url(#p7a27130e74)\" style=\"fill: none; stroke: #1f77b4; stroke-width: 1.5; stroke-linecap: square\"/>\n   </g>\n   <g id=\"line2d_41\">\n    <path d=\"M 49.633125 102.249341 \nL 69.163125 108.372293 \nL 88.693125 110.494844 \n\" clip-path=\"url(#p7a27130e74)\" style=\"fill: none; stroke-dasharray: 5.55,2.4; stroke-dashoffset: 0; stroke: #ff7f0e; stroke-width: 1.5\"/>\n   </g>\n   <g id=\"line2d_42\">\n    <path d=\"M 49.633125 18.721133 \nL 69.163125 16.822539 \nL 88.693125 16.317268 \n\" clip-path=\"url(#p7a27130e74)\" style=\"fill: none; stroke-dasharray: 9.6,2.4,1.5,2.4; stroke-dashoffset: 0; stroke: #2ca02c; stroke-width: 1.5\"/>\n   </g>\n   <g id=\"line2d_43\">\n    <path d=\"M 34.954394 67.693902 \nL 44.698573 100.36972 \nL 54.442752 112.205097 \nL 64.186931 114.264015 \nL 73.93111 122.206419 \nL 83.675289 122.247754 \nL 93.419468 128.180248 \n\" clip-path=\"url(#p7a27130e74)\" style=\"fill: none; stroke: #1f77b4; stroke-width: 1.5; stroke-linecap: square\"/>\n   </g>\n   <g id=\"line2d_44\">\n    <path d=\"M 49.633125 102.249341 \nL 69.163125 108.372293 \nL 88.693125 110.494844 \n\" clip-path=\"url(#p7a27130e74)\" style=\"fill: none; stroke-dasharray: 5.55,2.4; stroke-dashoffset: 0; stroke: #ff7f0e; stroke-width: 1.5\"/>\n   </g>\n   <g id=\"line2d_45\">\n    <path d=\"M 49.633125 18.721133 \nL 69.163125 16.822539 \nL 88.693125 16.317268 \n\" clip-path=\"url(#p7a27130e74)\" style=\"fill: none; stroke-dasharray: 9.6,2.4,1.5,2.4; stroke-dashoffset: 0; stroke: #2ca02c; stroke-width: 1.5\"/>\n   </g>\n   <g id=\"line2d_46\">\n    <path d=\"M 34.954394 67.693902 \nL 44.698573 100.36972 \nL 54.442752 112.205097 \nL 64.186931 114.264015 \nL 73.93111 122.206419 \nL 83.675289 122.247754 \nL 93.419468 128.180248 \nL 103.163647 129.399653 \n\" clip-path=\"url(#p7a27130e74)\" style=\"fill: none; stroke: #1f77b4; stroke-width: 1.5; stroke-linecap: square\"/>\n   </g>\n   <g id=\"line2d_47\">\n    <path d=\"M 49.633125 102.249341 \nL 69.163125 108.372293 \nL 88.693125 110.494844 \n\" clip-path=\"url(#p7a27130e74)\" style=\"fill: none; stroke-dasharray: 5.55,2.4; stroke-dashoffset: 0; stroke: #ff7f0e; stroke-width: 1.5\"/>\n   </g>\n   <g id=\"line2d_48\">\n    <path d=\"M 49.633125 18.721133 \nL 69.163125 16.822539 \nL 88.693125 16.317268 \n\" clip-path=\"url(#p7a27130e74)\" style=\"fill: none; stroke-dasharray: 9.6,2.4,1.5,2.4; stroke-dashoffset: 0; stroke: #2ca02c; stroke-width: 1.5\"/>\n   </g>\n   <g id=\"line2d_49\">\n    <path d=\"M 34.954394 67.693902 \nL 44.698573 100.36972 \nL 54.442752 112.205097 \nL 64.186931 114.264015 \nL 73.93111 122.206419 \nL 83.675289 122.247754 \nL 93.419468 128.180248 \nL 103.163647 129.399653 \n\" clip-path=\"url(#p7a27130e74)\" style=\"fill: none; stroke: #1f77b4; stroke-width: 1.5; stroke-linecap: square\"/>\n   </g>\n   <g id=\"line2d_50\">\n    <path d=\"M 49.633125 102.249341 \nL 69.163125 108.372293 \nL 88.693125 110.494844 \nL 108.223125 106.745275 \n\" clip-path=\"url(#p7a27130e74)\" style=\"fill: none; stroke-dasharray: 5.55,2.4; stroke-dashoffset: 0; stroke: #ff7f0e; stroke-width: 1.5\"/>\n   </g>\n   <g id=\"line2d_51\">\n    <path d=\"M 49.633125 18.721133 \nL 69.163125 16.822539 \nL 88.693125 16.317268 \n\" clip-path=\"url(#p7a27130e74)\" style=\"fill: none; stroke-dasharray: 9.6,2.4,1.5,2.4; stroke-dashoffset: 0; stroke: #2ca02c; stroke-width: 1.5\"/>\n   </g>\n   <g id=\"line2d_52\">\n    <path d=\"M 34.954394 67.693902 \nL 44.698573 100.36972 \nL 54.442752 112.205097 \nL 64.186931 114.264015 \nL 73.93111 122.206419 \nL 83.675289 122.247754 \nL 93.419468 128.180248 \nL 103.163647 129.399653 \n\" clip-path=\"url(#p7a27130e74)\" style=\"fill: none; stroke: #1f77b4; stroke-width: 1.5; stroke-linecap: square\"/>\n   </g>\n   <g id=\"line2d_53\">\n    <path d=\"M 49.633125 102.249341 \nL 69.163125 108.372293 \nL 88.693125 110.494844 \nL 108.223125 106.745275 \n\" clip-path=\"url(#p7a27130e74)\" style=\"fill: none; stroke-dasharray: 5.55,2.4; stroke-dashoffset: 0; stroke: #ff7f0e; stroke-width: 1.5\"/>\n   </g>\n   <g id=\"line2d_54\">\n    <path d=\"M 49.633125 18.721133 \nL 69.163125 16.822539 \nL 88.693125 16.317268 \nL 108.223125 16.118222 \n\" clip-path=\"url(#p7a27130e74)\" style=\"fill: none; stroke-dasharray: 9.6,2.4,1.5,2.4; stroke-dashoffset: 0; stroke: #2ca02c; stroke-width: 1.5\"/>\n   </g>\n   <g id=\"line2d_55\">\n    <path d=\"M 34.954394 67.693902 \nL 44.698573 100.36972 \nL 54.442752 112.205097 \nL 64.186931 114.264015 \nL 73.93111 122.206419 \nL 83.675289 122.247754 \nL 93.419468 128.180248 \nL 103.163647 129.399653 \nL 112.907826 134.606334 \n\" clip-path=\"url(#p7a27130e74)\" style=\"fill: none; stroke: #1f77b4; stroke-width: 1.5; stroke-linecap: square\"/>\n   </g>\n   <g id=\"line2d_56\">\n    <path d=\"M 49.633125 102.249341 \nL 69.163125 108.372293 \nL 88.693125 110.494844 \nL 108.223125 106.745275 \n\" clip-path=\"url(#p7a27130e74)\" style=\"fill: none; stroke-dasharray: 5.55,2.4; stroke-dashoffset: 0; stroke: #ff7f0e; stroke-width: 1.5\"/>\n   </g>\n   <g id=\"line2d_57\">\n    <path d=\"M 49.633125 18.721133 \nL 69.163125 16.822539 \nL 88.693125 16.317268 \nL 108.223125 16.118222 \n\" clip-path=\"url(#p7a27130e74)\" style=\"fill: none; stroke-dasharray: 9.6,2.4,1.5,2.4; stroke-dashoffset: 0; stroke: #2ca02c; stroke-width: 1.5\"/>\n   </g>\n   <g id=\"line2d_58\">\n    <path d=\"M 34.954394 67.693902 \nL 44.698573 100.36972 \nL 54.442752 112.205097 \nL 64.186931 114.264015 \nL 73.93111 122.206419 \nL 83.675289 122.247754 \nL 93.419468 128.180248 \nL 103.163647 129.399653 \nL 112.907826 134.606334 \nL 122.652006 133.765673 \n\" clip-path=\"url(#p7a27130e74)\" style=\"fill: none; stroke: #1f77b4; stroke-width: 1.5; stroke-linecap: square\"/>\n   </g>\n   <g id=\"line2d_59\">\n    <path d=\"M 49.633125 102.249341 \nL 69.163125 108.372293 \nL 88.693125 110.494844 \nL 108.223125 106.745275 \n\" clip-path=\"url(#p7a27130e74)\" style=\"fill: none; stroke-dasharray: 5.55,2.4; stroke-dashoffset: 0; stroke: #ff7f0e; stroke-width: 1.5\"/>\n   </g>\n   <g id=\"line2d_60\">\n    <path d=\"M 49.633125 18.721133 \nL 69.163125 16.822539 \nL 88.693125 16.317268 \nL 108.223125 16.118222 \n\" clip-path=\"url(#p7a27130e74)\" style=\"fill: none; stroke-dasharray: 9.6,2.4,1.5,2.4; stroke-dashoffset: 0; stroke: #2ca02c; stroke-width: 1.5\"/>\n   </g>\n   <g id=\"line2d_61\">\n    <path d=\"M 34.954394 67.693902 \nL 44.698573 100.36972 \nL 54.442752 112.205097 \nL 64.186931 114.264015 \nL 73.93111 122.206419 \nL 83.675289 122.247754 \nL 93.419468 128.180248 \nL 103.163647 129.399653 \nL 112.907826 134.606334 \nL 122.652006 133.765673 \n\" clip-path=\"url(#p7a27130e74)\" style=\"fill: none; stroke: #1f77b4; stroke-width: 1.5; stroke-linecap: square\"/>\n   </g>\n   <g id=\"line2d_62\">\n    <path d=\"M 49.633125 102.249341 \nL 69.163125 108.372293 \nL 88.693125 110.494844 \nL 108.223125 106.745275 \nL 127.753125 111.070174 \n\" clip-path=\"url(#p7a27130e74)\" style=\"fill: none; stroke-dasharray: 5.55,2.4; stroke-dashoffset: 0; stroke: #ff7f0e; stroke-width: 1.5\"/>\n   </g>\n   <g id=\"line2d_63\">\n    <path d=\"M 49.633125 18.721133 \nL 69.163125 16.822539 \nL 88.693125 16.317268 \nL 108.223125 16.118222 \n\" clip-path=\"url(#p7a27130e74)\" style=\"fill: none; stroke-dasharray: 9.6,2.4,1.5,2.4; stroke-dashoffset: 0; stroke: #2ca02c; stroke-width: 1.5\"/>\n   </g>\n   <g id=\"line2d_64\">\n    <path d=\"M 34.954394 67.693902 \nL 44.698573 100.36972 \nL 54.442752 112.205097 \nL 64.186931 114.264015 \nL 73.93111 122.206419 \nL 83.675289 122.247754 \nL 93.419468 128.180248 \nL 103.163647 129.399653 \nL 112.907826 134.606334 \nL 122.652006 133.765673 \n\" clip-path=\"url(#p7a27130e74)\" style=\"fill: none; stroke: #1f77b4; stroke-width: 1.5; stroke-linecap: square\"/>\n   </g>\n   <g id=\"line2d_65\">\n    <path d=\"M 49.633125 102.249341 \nL 69.163125 108.372293 \nL 88.693125 110.494844 \nL 108.223125 106.745275 \nL 127.753125 111.070174 \n\" clip-path=\"url(#p7a27130e74)\" style=\"fill: none; stroke-dasharray: 5.55,2.4; stroke-dashoffset: 0; stroke: #ff7f0e; stroke-width: 1.5\"/>\n   </g>\n   <g id=\"line2d_66\">\n    <path d=\"M 49.633125 18.721133 \nL 69.163125 16.822539 \nL 88.693125 16.317268 \nL 108.223125 16.118222 \nL 127.753125 15.184237 \n\" clip-path=\"url(#p7a27130e74)\" style=\"fill: none; stroke-dasharray: 9.6,2.4,1.5,2.4; stroke-dashoffset: 0; stroke: #2ca02c; stroke-width: 1.5\"/>\n   </g>\n   <g id=\"line2d_67\">\n    <path d=\"M 34.954394 67.693902 \nL 44.698573 100.36972 \nL 54.442752 112.205097 \nL 64.186931 114.264015 \nL 73.93111 122.206419 \nL 83.675289 122.247754 \nL 93.419468 128.180248 \nL 103.163647 129.399653 \nL 112.907826 134.606334 \nL 122.652006 133.765673 \nL 132.396185 139.5 \n\" clip-path=\"url(#p7a27130e74)\" style=\"fill: none; stroke: #1f77b4; stroke-width: 1.5; stroke-linecap: square\"/>\n   </g>\n   <g id=\"line2d_68\">\n    <path d=\"M 49.633125 102.249341 \nL 69.163125 108.372293 \nL 88.693125 110.494844 \nL 108.223125 106.745275 \nL 127.753125 111.070174 \n\" clip-path=\"url(#p7a27130e74)\" style=\"fill: none; stroke-dasharray: 5.55,2.4; stroke-dashoffset: 0; stroke: #ff7f0e; stroke-width: 1.5\"/>\n   </g>\n   <g id=\"line2d_69\">\n    <path d=\"M 49.633125 18.721133 \nL 69.163125 16.822539 \nL 88.693125 16.317268 \nL 108.223125 16.118222 \nL 127.753125 15.184237 \n\" clip-path=\"url(#p7a27130e74)\" style=\"fill: none; stroke-dasharray: 9.6,2.4,1.5,2.4; stroke-dashoffset: 0; stroke: #2ca02c; stroke-width: 1.5\"/>\n   </g>\n   <g id=\"line2d_70\">\n    <path d=\"M 34.954394 67.693902 \nL 44.698573 100.36972 \nL 54.442752 112.205097 \nL 64.186931 114.264015 \nL 73.93111 122.206419 \nL 83.675289 122.247754 \nL 93.419468 128.180248 \nL 103.163647 129.399653 \nL 112.907826 134.606334 \nL 122.652006 133.765673 \nL 132.396185 139.5 \nL 142.140364 137.617186 \n\" clip-path=\"url(#p7a27130e74)\" style=\"fill: none; stroke: #1f77b4; stroke-width: 1.5; stroke-linecap: square\"/>\n   </g>\n   <g id=\"line2d_71\">\n    <path d=\"M 49.633125 102.249341 \nL 69.163125 108.372293 \nL 88.693125 110.494844 \nL 108.223125 106.745275 \nL 127.753125 111.070174 \n\" clip-path=\"url(#p7a27130e74)\" style=\"fill: none; stroke-dasharray: 5.55,2.4; stroke-dashoffset: 0; stroke: #ff7f0e; stroke-width: 1.5\"/>\n   </g>\n   <g id=\"line2d_72\">\n    <path d=\"M 49.633125 18.721133 \nL 69.163125 16.822539 \nL 88.693125 16.317268 \nL 108.223125 16.118222 \nL 127.753125 15.184237 \n\" clip-path=\"url(#p7a27130e74)\" style=\"fill: none; stroke-dasharray: 9.6,2.4,1.5,2.4; stroke-dashoffset: 0; stroke: #2ca02c; stroke-width: 1.5\"/>\n   </g>\n   <g id=\"line2d_73\">\n    <path d=\"M 34.954394 67.693902 \nL 44.698573 100.36972 \nL 54.442752 112.205097 \nL 64.186931 114.264015 \nL 73.93111 122.206419 \nL 83.675289 122.247754 \nL 93.419468 128.180248 \nL 103.163647 129.399653 \nL 112.907826 134.606334 \nL 122.652006 133.765673 \nL 132.396185 139.5 \nL 142.140364 137.617186 \n\" clip-path=\"url(#p7a27130e74)\" style=\"fill: none; stroke: #1f77b4; stroke-width: 1.5; stroke-linecap: square\"/>\n   </g>\n   <g id=\"line2d_74\">\n    <path d=\"M 49.633125 102.249341 \nL 69.163125 108.372293 \nL 88.693125 110.494844 \nL 108.223125 106.745275 \nL 127.753125 111.070174 \nL 147.283125 114.809335 \n\" clip-path=\"url(#p7a27130e74)\" style=\"fill: none; stroke-dasharray: 5.55,2.4; stroke-dashoffset: 0; stroke: #ff7f0e; stroke-width: 1.5\"/>\n   </g>\n   <g id=\"line2d_75\">\n    <path d=\"M 49.633125 18.721133 \nL 69.163125 16.822539 \nL 88.693125 16.317268 \nL 108.223125 16.118222 \nL 127.753125 15.184237 \n\" clip-path=\"url(#p7a27130e74)\" style=\"fill: none; stroke-dasharray: 9.6,2.4,1.5,2.4; stroke-dashoffset: 0; stroke: #2ca02c; stroke-width: 1.5\"/>\n   </g>\n   <g id=\"line2d_76\">\n    <path d=\"M 34.954394 67.693902 \nL 44.698573 100.36972 \nL 54.442752 112.205097 \nL 64.186931 114.264015 \nL 73.93111 122.206419 \nL 83.675289 122.247754 \nL 93.419468 128.180248 \nL 103.163647 129.399653 \nL 112.907826 134.606334 \nL 122.652006 133.765673 \nL 132.396185 139.5 \nL 142.140364 137.617186 \n\" clip-path=\"url(#p7a27130e74)\" style=\"fill: none; stroke: #1f77b4; stroke-width: 1.5; stroke-linecap: square\"/>\n   </g>\n   <g id=\"line2d_77\">\n    <path d=\"M 49.633125 102.249341 \nL 69.163125 108.372293 \nL 88.693125 110.494844 \nL 108.223125 106.745275 \nL 127.753125 111.070174 \nL 147.283125 114.809335 \n\" clip-path=\"url(#p7a27130e74)\" style=\"fill: none; stroke-dasharray: 5.55,2.4; stroke-dashoffset: 0; stroke: #ff7f0e; stroke-width: 1.5\"/>\n   </g>\n   <g id=\"line2d_78\">\n    <path d=\"M 49.633125 18.721133 \nL 69.163125 16.822539 \nL 88.693125 16.317268 \nL 108.223125 16.118222 \nL 127.753125 15.184237 \nL 147.283125 13.5 \n\" clip-path=\"url(#p7a27130e74)\" style=\"fill: none; stroke-dasharray: 9.6,2.4,1.5,2.4; stroke-dashoffset: 0; stroke: #2ca02c; stroke-width: 1.5\"/>\n   </g>\n   <g id=\"patch_3\">\n    <path d=\"M 30.103125 145.8 \nL 30.103125 7.2 \n\" style=\"fill: none; stroke: #000000; stroke-width: 0.8; stroke-linejoin: miter; stroke-linecap: square\"/>\n   </g>\n   <g id=\"patch_4\">\n    <path d=\"M 225.403125 145.8 \nL 225.403125 7.2 \n\" style=\"fill: none; stroke: #000000; stroke-width: 0.8; stroke-linejoin: miter; stroke-linecap: square\"/>\n   </g>\n   <g id=\"patch_5\">\n    <path d=\"M 30.103125 145.8 \nL 225.403125 145.8 \n\" style=\"fill: none; stroke: #000000; stroke-width: 0.8; stroke-linejoin: miter; stroke-linecap: square\"/>\n   </g>\n   <g id=\"patch_6\">\n    <path d=\"M 30.103125 7.2 \nL 225.403125 7.2 \n\" style=\"fill: none; stroke: #000000; stroke-width: 0.8; stroke-linejoin: miter; stroke-linecap: square\"/>\n   </g>\n   <g id=\"legend_1\">\n    <g id=\"patch_7\">\n     <path d=\"M 138.8125 100.434375 \nL 218.403125 100.434375 \nQ 220.403125 100.434375 220.403125 98.434375 \nL 220.403125 54.565625 \nQ 220.403125 52.565625 218.403125 52.565625 \nL 138.8125 52.565625 \nQ 136.8125 52.565625 136.8125 54.565625 \nL 136.8125 98.434375 \nQ 136.8125 100.434375 138.8125 100.434375 \nz\n\" style=\"fill: #ffffff; opacity: 0.8; stroke: #cccccc; stroke-linejoin: miter\"/>\n    </g>\n    <g id=\"line2d_79\">\n     <path d=\"M 140.8125 60.664063 \nL 150.8125 60.664063 \nL 160.8125 60.664063 \n\" style=\"fill: none; stroke: #1f77b4; stroke-width: 1.5; stroke-linecap: square\"/>\n    </g>\n    <g id=\"text_12\">\n     <!-- train_loss -->\n     <g transform=\"translate(168.8125 64.164063) scale(0.1 -0.1)\">\n      <defs>\n       <path id=\"DejaVuSans-74\" d=\"M 1172 4494 \nL 1172 3500 \nL 2356 3500 \nL 2356 3053 \nL 1172 3053 \nL 1172 1153 \nQ 1172 725 1289 603 \nQ 1406 481 1766 481 \nL 2356 481 \nL 2356 0 \nL 1766 0 \nQ 1100 0 847 248 \nQ 594 497 594 1153 \nL 594 3053 \nL 172 3053 \nL 172 3500 \nL 594 3500 \nL 594 4494 \nL 1172 4494 \nz\n\" transform=\"scale(0.015625)\"/>\n       <path id=\"DejaVuSans-72\" d=\"M 2631 2963 \nQ 2534 3019 2420 3045 \nQ 2306 3072 2169 3072 \nQ 1681 3072 1420 2755 \nQ 1159 2438 1159 1844 \nL 1159 0 \nL 581 0 \nL 581 3500 \nL 1159 3500 \nL 1159 2956 \nQ 1341 3275 1631 3429 \nQ 1922 3584 2338 3584 \nQ 2397 3584 2469 3576 \nQ 2541 3569 2628 3553 \nL 2631 2963 \nz\n\" transform=\"scale(0.015625)\"/>\n       <path id=\"DejaVuSans-61\" d=\"M 2194 1759 \nQ 1497 1759 1228 1600 \nQ 959 1441 959 1056 \nQ 959 750 1161 570 \nQ 1363 391 1709 391 \nQ 2188 391 2477 730 \nQ 2766 1069 2766 1631 \nL 2766 1759 \nL 2194 1759 \nz\nM 3341 1997 \nL 3341 0 \nL 2766 0 \nL 2766 531 \nQ 2569 213 2275 61 \nQ 1981 -91 1556 -91 \nQ 1019 -91 701 211 \nQ 384 513 384 1019 \nQ 384 1609 779 1909 \nQ 1175 2209 1959 2209 \nL 2766 2209 \nL 2766 2266 \nQ 2766 2663 2505 2880 \nQ 2244 3097 1772 3097 \nQ 1472 3097 1187 3025 \nQ 903 2953 641 2809 \nL 641 3341 \nQ 956 3463 1253 3523 \nQ 1550 3584 1831 3584 \nQ 2591 3584 2966 3190 \nQ 3341 2797 3341 1997 \nz\n\" transform=\"scale(0.015625)\"/>\n       <path id=\"DejaVuSans-69\" d=\"M 603 3500 \nL 1178 3500 \nL 1178 0 \nL 603 0 \nL 603 3500 \nz\nM 603 4863 \nL 1178 4863 \nL 1178 4134 \nL 603 4134 \nL 603 4863 \nz\n\" transform=\"scale(0.015625)\"/>\n       <path id=\"DejaVuSans-6e\" d=\"M 3513 2113 \nL 3513 0 \nL 2938 0 \nL 2938 2094 \nQ 2938 2591 2744 2837 \nQ 2550 3084 2163 3084 \nQ 1697 3084 1428 2787 \nQ 1159 2491 1159 1978 \nL 1159 0 \nL 581 0 \nL 581 3500 \nL 1159 3500 \nL 1159 2956 \nQ 1366 3272 1645 3428 \nQ 1925 3584 2291 3584 \nQ 2894 3584 3203 3211 \nQ 3513 2838 3513 2113 \nz\n\" transform=\"scale(0.015625)\"/>\n       <path id=\"DejaVuSans-5f\" d=\"M 3263 -1063 \nL 3263 -1509 \nL -63 -1509 \nL -63 -1063 \nL 3263 -1063 \nz\n\" transform=\"scale(0.015625)\"/>\n       <path id=\"DejaVuSans-6c\" d=\"M 603 4863 \nL 1178 4863 \nL 1178 0 \nL 603 0 \nL 603 4863 \nz\n\" transform=\"scale(0.015625)\"/>\n       <path id=\"DejaVuSans-73\" d=\"M 2834 3397 \nL 2834 2853 \nQ 2591 2978 2328 3040 \nQ 2066 3103 1784 3103 \nQ 1356 3103 1142 2972 \nQ 928 2841 928 2578 \nQ 928 2378 1081 2264 \nQ 1234 2150 1697 2047 \nL 1894 2003 \nQ 2506 1872 2764 1633 \nQ 3022 1394 3022 966 \nQ 3022 478 2636 193 \nQ 2250 -91 1575 -91 \nQ 1294 -91 989 -36 \nQ 684 19 347 128 \nL 347 722 \nQ 666 556 975 473 \nQ 1284 391 1588 391 \nQ 1994 391 2212 530 \nQ 2431 669 2431 922 \nQ 2431 1156 2273 1281 \nQ 2116 1406 1581 1522 \nL 1381 1569 \nQ 847 1681 609 1914 \nQ 372 2147 372 2553 \nQ 372 3047 722 3315 \nQ 1072 3584 1716 3584 \nQ 2034 3584 2315 3537 \nQ 2597 3491 2834 3397 \nz\n\" transform=\"scale(0.015625)\"/>\n      </defs>\n      <use xlink:href=\"#DejaVuSans-74\"/>\n      <use xlink:href=\"#DejaVuSans-72\" x=\"39.208984\"/>\n      <use xlink:href=\"#DejaVuSans-61\" x=\"80.322266\"/>\n      <use xlink:href=\"#DejaVuSans-69\" x=\"141.601562\"/>\n      <use xlink:href=\"#DejaVuSans-6e\" x=\"169.384766\"/>\n      <use xlink:href=\"#DejaVuSans-5f\" x=\"232.763672\"/>\n      <use xlink:href=\"#DejaVuSans-6c\" x=\"282.763672\"/>\n      <use xlink:href=\"#DejaVuSans-6f\" x=\"310.546875\"/>\n      <use xlink:href=\"#DejaVuSans-73\" x=\"371.728516\"/>\n      <use xlink:href=\"#DejaVuSans-73\" x=\"423.828125\"/>\n     </g>\n    </g>\n    <g id=\"line2d_80\">\n     <path d=\"M 140.8125 75.620313 \nL 150.8125 75.620313 \nL 160.8125 75.620313 \n\" style=\"fill: none; stroke-dasharray: 5.55,2.4; stroke-dashoffset: 0; stroke: #ff7f0e; stroke-width: 1.5\"/>\n    </g>\n    <g id=\"text_13\">\n     <!-- val_loss -->\n     <g transform=\"translate(168.8125 79.120313) scale(0.1 -0.1)\">\n      <defs>\n       <path id=\"DejaVuSans-76\" d=\"M 191 3500 \nL 800 3500 \nL 1894 563 \nL 2988 3500 \nL 3597 3500 \nL 2284 0 \nL 1503 0 \nL 191 3500 \nz\n\" transform=\"scale(0.015625)\"/>\n      </defs>\n      <use xlink:href=\"#DejaVuSans-76\"/>\n      <use xlink:href=\"#DejaVuSans-61\" x=\"59.179688\"/>\n      <use xlink:href=\"#DejaVuSans-6c\" x=\"120.458984\"/>\n      <use xlink:href=\"#DejaVuSans-5f\" x=\"148.242188\"/>\n      <use xlink:href=\"#DejaVuSans-6c\" x=\"198.242188\"/>\n      <use xlink:href=\"#DejaVuSans-6f\" x=\"226.025391\"/>\n      <use xlink:href=\"#DejaVuSans-73\" x=\"287.207031\"/>\n      <use xlink:href=\"#DejaVuSans-73\" x=\"339.306641\"/>\n     </g>\n    </g>\n    <g id=\"line2d_81\">\n     <path d=\"M 140.8125 90.576563 \nL 150.8125 90.576563 \nL 160.8125 90.576563 \n\" style=\"fill: none; stroke-dasharray: 9.6,2.4,1.5,2.4; stroke-dashoffset: 0; stroke: #2ca02c; stroke-width: 1.5\"/>\n    </g>\n    <g id=\"text_14\">\n     <!-- val_acc -->\n     <g transform=\"translate(168.8125 94.076563) scale(0.1 -0.1)\">\n      <use xlink:href=\"#DejaVuSans-76\"/>\n      <use xlink:href=\"#DejaVuSans-61\" x=\"59.179688\"/>\n      <use xlink:href=\"#DejaVuSans-6c\" x=\"120.458984\"/>\n      <use xlink:href=\"#DejaVuSans-5f\" x=\"148.242188\"/>\n      <use xlink:href=\"#DejaVuSans-61\" x=\"198.242188\"/>\n      <use xlink:href=\"#DejaVuSans-63\" x=\"259.521484\"/>\n      <use xlink:href=\"#DejaVuSans-63\" x=\"314.501953\"/>\n     </g>\n    </g>\n   </g>\n  </g>\n </g>\n <defs>\n  <clipPath id=\"p7a27130e74\">\n   <rect x=\"30.103125\" y=\"7.2\" width=\"195.3\" height=\"138.6\"/>\n  </clipPath>\n </defs>\n</svg>\n",
            "text/plain": [
              "<Figure size 350x250 with 1 Axes>"
            ]
          },
          "metadata": {},
          "output_type": "display_data"
        }
      ],
      "source": [
        "model = ResNet18(lr=0.01)\n",
        "trainer = d2l.Trainer(max_epochs=10, num_gpus=1)\n",
        "data = d2l.FashionMNIST(batch_size=128, resize=(96, 96))\n",
        "model.apply_init([next(iter(data.get_dataloader(True)))[0]], d2l.init_cnn)\n",
        "trainer.fit(model, data)"
      ]
    },
    {
      "cell_type": "code",
      "execution_count": null,
      "metadata": {
        "id": "dxl05Rng3ifd"
      },
      "outputs": [],
      "source": [
        "class ResNeXtBlock(nn.Module):\n",
        "    \"\"\"The ResNeXt block.\"\"\"\n",
        "    def __init__(self, num_channels, groups, bot_mul, use_1x1conv=False,\n",
        "                 strides=1):\n",
        "        super().__init__()\n",
        "        bot_channels = int(round(num_channels * bot_mul))\n",
        "        self.conv1 = nn.LazyConv2d(bot_channels, kernel_size=1, stride=1)\n",
        "        self.conv2 = nn.LazyConv2d(bot_channels, kernel_size=3,\n",
        "                                   stride=strides, padding=1,\n",
        "                                   groups=bot_channels//groups)\n",
        "        self.conv3 = nn.LazyConv2d(num_channels, kernel_size=1, stride=1)\n",
        "        self.bn1 = nn.LazyBatchNorm2d()\n",
        "        self.bn2 = nn.LazyBatchNorm2d()\n",
        "        self.bn3 = nn.LazyBatchNorm2d()\n",
        "        if use_1x1conv:\n",
        "            self.conv4 = nn.LazyConv2d(num_channels, kernel_size=1,\n",
        "                                       stride=strides)\n",
        "            self.bn4 = nn.LazyBatchNorm2d()\n",
        "        else:\n",
        "            self.conv4 = None\n",
        "\n",
        "    def forward(self, X):\n",
        "        Y = F.relu(self.bn1(self.conv1(X)))\n",
        "        Y = F.relu(self.bn2(self.conv2(Y)))\n",
        "        Y = self.bn3(self.conv3(Y))\n",
        "        if self.conv4:\n",
        "            X = self.bn4(self.conv4(X))\n",
        "        return F.relu(Y + X)"
      ]
    },
    {
      "cell_type": "code",
      "execution_count": null,
      "metadata": {
        "colab": {
          "base_uri": "https://localhost:8080/"
        },
        "id": "QoJEHEh33lA_",
        "outputId": "0248f9f0-5cd1-47a5-850b-33167f992606"
      },
      "outputs": [
        {
          "output_type": "execute_result",
          "data": {
            "text/plain": [
              "torch.Size([4, 32, 96, 96])"
            ]
          },
          "metadata": {},
          "execution_count": 52
        }
      ],
      "source": [
        "blk = ResNeXtBlock(32, 16, 1)\n",
        "X = torch.randn(4, 32, 96, 96)\n",
        "blk(X).shape"
      ]
    },
    {
      "cell_type": "markdown",
      "metadata": {
        "id": "9h8OTG3f3y1w"
      },
      "source": [
        "### **Exercise 8.6**"
      ]
    },
    {
      "cell_type": "markdown",
      "metadata": {
        "id": "NNAib-lJrDWY"
      },
      "source": [
        "**1. What are the major differences between the Inception block in Fig. 8.4.1 and the residual block? How do they compare in terms of computation, accuracy, and the classes of functions they can describe?**\n",
        "* Komputasi\n",
        "  * Inception Block\n",
        "    \n",
        "    Lebih fleksibel dalam menangkap fitur, namun struktur jalur paralel dapat meningkatkan kompleksitas komputasi dan penggunaan memori.\n",
        "  * Residual Block\n",
        "\n",
        "    Komputasi lebih efisien sehingga memungkinkan pelatihan lebih cepat pada jaringan yang lebih dalam.\n",
        "* Akurasi\n",
        "  * Inception Block\n",
        "    \n",
        "    Akurasi cenderung baik, mampu mengekstrak fitur dari berbagai ukuran, tetapi kemungkinan akan kesulitan apabila jaringan semakin dalam.\n",
        "  * Residual Block\n",
        "\n",
        "    Meningkatkan akurasi pada jaringan yang sangat dalam dan memungkinkan model belajar fungsi identitas dengan lebih baik (mencegah overfitting).\n",
        "* Classes of Functions\n",
        "  * Inception Block\n",
        "\n",
        "    Mampu menggambarkan kelas fungsi yang lebih luas dengan menggabungkan fitur dari berbagai skala dan bentuk.\n",
        "  * Residual Block\n",
        "\n",
        "    Lebih fokus pada pembelajaran representasi yang dalam dan efisien, sehingga mungkin tidak menangkap beberapa variasi skala dengan baik dibandingkan Inception block."
      ]
    },
    {
      "cell_type": "markdown",
      "metadata": {
        "id": "cQ4G0kBfrGCk"
      },
      "source": [
        "**2. Refer to Table 1 in the ResNet paper (He et al., 2016) to implement different variants of the network.**"
      ]
    },
    {
      "cell_type": "code",
      "execution_count": null,
      "metadata": {
        "id": "hr5XXV_8M7ER"
      },
      "outputs": [],
      "source": [
        "import torch\n",
        "import torch.nn as nn\n",
        "from torch.nn import functional as F\n",
        "import d2l\n",
        "\n",
        "class Residual(nn.Module):\n",
        "    def __init__(self, convs, conv_1x1_channel, strides=1):\n",
        "        super().__init__()\n",
        "        layers = []\n",
        "        for i,conv in enumerate(convs):\n",
        "            num_channels, kernel_size, padding = conv\n",
        "            conv_strides = 1 if i != 0 else strides\n",
        "            layers.append(nn.LazyConv2d(num_channels, kernel_size=3, padding=1, stride=conv_strides))\n",
        "            layers.append(nn.LazyBatchNorm2d())\n",
        "            layers.append(nn.ReLU())\n",
        "        self.net = nn.Sequential(*layers[:-1])\n",
        "        self.conv = None\n",
        "        if conv_1x1_channel:\n",
        "            self.conv = nn.LazyConv2d(conv_1x1_channel, kernel_size=1, stride=strides)\n",
        "\n",
        "\n",
        "    def forward(self, X):\n",
        "        Y = self.net(X)\n",
        "        if self.conv:\n",
        "            X = self.conv(X)\n",
        "        Y += X\n",
        "        return F.relu(Y)\n",
        "\n",
        "class ResNet(d2l.torch.Classifier):\n",
        "    def block(self, num_residuals, convs, conv_1x1_channel, first_block=False):\n",
        "        blk = []\n",
        "        for i in range(num_residuals):\n",
        "            if i == 0 and not first_block:\n",
        "                blk.append(Residual(convs, conv_1x1_channel,strides=2))\n",
        "            else:\n",
        "                blk.append(Residual(convs, conv_1x1_channel))\n",
        "        return nn.Sequential(*blk)\n",
        "\n",
        "    def __init__(self, arch, lr=0.1, num_classes=10):\n",
        "        super().__init__()\n",
        "        self.save_hyperparameters()\n",
        "        self.net = nn.Sequential(\n",
        "            nn.LazyConv2d(64, kernel_size=7, stride=2, padding=3),\n",
        "            nn.LazyBatchNorm2d(), nn.ReLU(),\n",
        "            nn.MaxPool2d(kernel_size=3, stride=2, padding=1))\n",
        "        for i, b in enumerate(arch):\n",
        "            self.net.add_module(f'b{i+2}', self.block(*b, first_block=(i==0)))\n",
        "        self.net.add_module('last', nn.Sequential(\n",
        "            nn.AdaptiveAvgPool2d((1, 1)), nn.Flatten(),\n",
        "            nn.LazyLinear(num_classes)))\n",
        "        self.net.apply(d2l.init_cnn)\n",
        "\n",
        "def experiment(data, model):\n",
        "    model.apply_init([next(iter(data.get_dataloader(True)))[0]], d2l.init_cnn)\n",
        "    trainer = d2l.Trainer(max_epochs=10, num_gpus=1)\n",
        "    trainer.fit(model, data)\n",
        "    X,y = next(iter(data.get_dataloader(False)))\n",
        "    X = X.to('cuda')\n",
        "    y = y.to('cuda')\n",
        "    y_hat = model(X)\n",
        "    return model.accuracy(y_hat,y).item()"
      ]
    },
    {
      "cell_type": "code",
      "execution_count": null,
      "metadata": {
        "id": "dxerFSm7NAeq"
      },
      "outputs": [],
      "source": [
        "data = d2l.torch.FashionMNIST(batch_size=64, resize=(224, 224))\n",
        "arch18 = [(2,[(64,3,1)]*2,None),(2,[(128,3,1)]*2,None),(2,[(256,3,1)]*2,None),(2,[(512,3,1)]*2,None)]\n",
        "resnet18 = ResNet(arch=arch18, lr=0.01)\n",
        "experiment(data, resnet18)"
      ]
    },
    {
      "cell_type": "code",
      "execution_count": null,
      "metadata": {
        "id": "QNeV3kx5NEd9"
      },
      "outputs": [],
      "source": [
        "arch34 = [(3,[(64,3,1)]*2,None),(4,[(128,3,1)]*2,None),(6,[(256,3,1)]*2,None),(3,[(512,3,1)]*2,None)]\n",
        "resnet34 = ResNet(arch=arch34, lr=0.01)\n",
        "experiment(data, resnet34)"
      ]
    },
    {
      "cell_type": "markdown",
      "metadata": {
        "id": "7hRStOz8rISE"
      },
      "source": [
        "**3. For deeper networks, ResNet introduces a “bottleneck” architecture to reduce model complexity. Try to implement it.**"
      ]
    },
    {
      "cell_type": "code",
      "execution_count": null,
      "metadata": {
        "id": "xUCawbRtNIAQ"
      },
      "outputs": [],
      "source": [
        "arch50 = [(3,[(64,1,0),(64,3,1)],256),(4,[(128,1,0),(128,3,1)],512),(6,[(256,1,0),(256,3,1)],1024),(3,[(512,1,0),(512,3,1)],2048)]\n",
        "resnet50 = ResNet(arch=arch50, lr=0.01)\n",
        "experiment(data, resnet50)"
      ]
    },
    {
      "cell_type": "code",
      "execution_count": null,
      "metadata": {
        "id": "f_my9WEwNIpu"
      },
      "outputs": [],
      "source": [
        "arch101 = [(3,[(64,1,0),(64,3,1)],256),(4,[(128,1,0),(128,3,1)],512),(23,[(256,1,0),(256,3,1)],1024),(3,[(512,1,0),(512,3,1)],2048)]\n",
        "resnet101 = ResNet(arch=arch101, lr=0.01)\n",
        "experiment(data, resnet101)"
      ]
    },
    {
      "cell_type": "code",
      "execution_count": null,
      "metadata": {
        "id": "OE-j0BVINKha"
      },
      "outputs": [],
      "source": [
        "arch152 = [(3,[(64,1,0),(64,3,1)],256),(8,[(128,1,0),(128,3,1)],512),(36,[(256,1,0),(256,3,1)],1024),(3,[(512,1,0),(512,3,1)],2048)]\n",
        "resnet152 = ResNet(arch=arch152, lr=0.01)\n",
        "experiment(data, resnet152)"
      ]
    },
    {
      "cell_type": "markdown",
      "metadata": {
        "id": "9p4klbUwrKkF"
      },
      "source": [
        "**4. In subsequent versions of ResNet, the authors changed the “convolution, batch normalization, and activation” structure to the “batch normalization, activation, and convolution” structure. Make this improvement yourself. See Figure 1 in He et al. (2016) for details.**"
      ]
    },
    {
      "cell_type": "code",
      "execution_count": null,
      "metadata": {
        "id": "jVA-mcv_NOpo"
      },
      "outputs": [],
      "source": [
        "class SubResidual(nn.Module):\n",
        "    def __init__(self, convs, conv_1x1_channel, strides=1):\n",
        "        super().__init__()\n",
        "        layers = []\n",
        "        for i,conv in enumerate(convs):\n",
        "            num_channels, kernel_size, padding = conv\n",
        "            conv_strides = 1 if i != 0 else strides\n",
        "            layers.append(nn.LazyBatchNorm2d())\n",
        "            layers.append(nn.ReLU())\n",
        "            layers.append(nn.LazyConv2d(num_channels, kernel_size=3, padding=1, stride=conv_strides))\n",
        "        self.net = nn.Sequential(*layers[:-1])\n",
        "        self.conv = None\n",
        "        if conv_1x1_channel:\n",
        "            self.conv = nn.LazyConv2d(conv_1x1_channel, kernel_size=1, stride=strides)\n",
        "\n",
        "\n",
        "    def forward(self, X):\n",
        "        Y = self.net(X)\n",
        "        if self.conv:\n",
        "            X = self.conv(X)\n",
        "        Y += X\n",
        "        return F.relu(Y)\n",
        "\n",
        "class SubResNet(d2l.Classifier):\n",
        "    def block(self, num_residuals, convs, conv_1x1_channel, first_block=False):\n",
        "        blk = []\n",
        "        for i in range(num_residuals):\n",
        "            if i == 0 and not first_block:\n",
        "                blk.append(SubResidual(convs, conv_1x1_channel,strides=2))\n",
        "            else:\n",
        "                blk.append(SubResidual(convs, conv_1x1_channel))\n",
        "        return nn.Sequential(*blk)\n",
        "\n",
        "    def __init__(self, arch, lr=0.1, num_classes=10):\n",
        "        super().__init__()\n",
        "        self.save_hyperparameters()\n",
        "        self.net = nn.Sequential(\n",
        "            nn.LazyConv2d(64, kernel_size=7, stride=2, padding=3),\n",
        "            nn.LazyBatchNorm2d(), nn.ReLU(),\n",
        "            nn.MaxPool2d(kernel_size=3, stride=2, padding=1))\n",
        "        for i, b in enumerate(arch):\n",
        "            self.net.add_module(f'b{i+2}', self.block(*b, first_block=(i==0)))\n",
        "        self.net.add_module('last', nn.Sequential(\n",
        "            nn.AdaptiveAvgPool2d((1, 1)), nn.Flatten(),\n",
        "            nn.LazyLinear(num_classes)))\n",
        "        self.net.apply(d2l.init_cnn)"
      ]
    },
    {
      "cell_type": "code",
      "execution_count": null,
      "metadata": {
        "id": "kZ-WnUc6NQr4"
      },
      "outputs": [],
      "source": [
        "arch18 = [(2,[(64,3,1)]*2,None),(2,[(128,3,1)]*2,None),(2,[(256,3,1)]*2,None),(2,[(512,3,1)]*2,None)]\n",
        "resnet18 = SubResNet(arch=arch18, lr=0.01)\n",
        "experiment(data, resnet18)"
      ]
    },
    {
      "cell_type": "markdown",
      "metadata": {
        "id": "zHaeoBx0rVmI"
      },
      "source": [
        "**5. Why can’t we just increase the complexity of functions without bound, even if the function classes are nested?**\n",
        "* Meningkatkan kompleksitas model dapat menyebabkan overfitting karena model yang sangat kompleks dapat menangkap noise dalam data pelatihan, meskipun bukan merupakan pola yang relevan.\n",
        "* Model yang kompleks memerlukan lebih banyak data dan waktu untuk dilatih sehingga kesulitan dalam optimalisasi juga meningkat.\n",
        "* Semakin kompleks suatu model, akan semakin sulit untuk memahami dan menginterpretasi prediksi yang dihasilkan.\n",
        "* Model yang kompleks membutuhkan lebih banyak sumber daya komputasi dan memori.\n",
        "* Pada beberapa kasus, fungsi yang lebih kompleks tidak menawarkan lebih banyak informasi dibandingkan fungsi yang lebih sederhana. Sehingga membuat penambahan kompleksitas menjadi tidak efisien."
      ]
    },
    {
      "cell_type": "markdown",
      "metadata": {
        "id": "47EfCFG933_F"
      },
      "source": [
        "### **8.7 Densely Connected Networks (DenseNet)**"
      ]
    },
    {
      "cell_type": "code",
      "execution_count": null,
      "metadata": {
        "id": "aao-VlhzG7wQ"
      },
      "outputs": [],
      "source": [
        "import torch\n",
        "from torch import nn\n",
        "from d2l import torch as d2l"
      ]
    },
    {
      "cell_type": "code",
      "execution_count": null,
      "metadata": {
        "id": "uuvuzdBZ38Q0"
      },
      "outputs": [],
      "source": [
        "def conv_block(num_channels):\n",
        "    return nn.Sequential(\n",
        "        nn.LazyBatchNorm2d(), nn.ReLU(),\n",
        "        nn.LazyConv2d(num_channels, kernel_size=3, padding=1))"
      ]
    },
    {
      "cell_type": "code",
      "execution_count": null,
      "metadata": {
        "id": "n8kqzZJx3_tj"
      },
      "outputs": [],
      "source": [
        "class DenseBlock(nn.Module):\n",
        "    def __init__(self, num_convs, num_channels):\n",
        "        super(DenseBlock, self).__init__()\n",
        "        layer = []\n",
        "        for i in range(num_convs):\n",
        "            layer.append(conv_block(num_channels))\n",
        "        self.net = nn.Sequential(*layer)\n",
        "\n",
        "    def forward(self, X):\n",
        "        for blk in self.net:\n",
        "            Y = blk(X)\n",
        "            # Concatenate input and output of each block along the channels\n",
        "            X = torch.cat((X, Y), dim=1)\n",
        "        return X"
      ]
    },
    {
      "cell_type": "code",
      "execution_count": null,
      "metadata": {
        "colab": {
          "base_uri": "https://localhost:8080/"
        },
        "id": "rwjHg1gV4Beh",
        "outputId": "228da411-584c-4142-a1a8-6c547b3d7cec"
      },
      "outputs": [
        {
          "data": {
            "text/plain": [
              "torch.Size([4, 23, 8, 8])"
            ]
          },
          "execution_count": 8,
          "metadata": {},
          "output_type": "execute_result"
        }
      ],
      "source": [
        "blk = DenseBlock(2, 10)\n",
        "X = torch.randn(4, 3, 8, 8)\n",
        "Y = blk(X)\n",
        "Y.shape"
      ]
    },
    {
      "cell_type": "code",
      "execution_count": null,
      "metadata": {
        "id": "EuQLfI5a4DMy"
      },
      "outputs": [],
      "source": [
        "def transition_block(num_channels):\n",
        "    return nn.Sequential(\n",
        "        nn.LazyBatchNorm2d(), nn.ReLU(),\n",
        "        nn.LazyConv2d(num_channels, kernel_size=1),\n",
        "        nn.AvgPool2d(kernel_size=2, stride=2))"
      ]
    },
    {
      "cell_type": "code",
      "execution_count": null,
      "metadata": {
        "colab": {
          "base_uri": "https://localhost:8080/"
        },
        "id": "kkNs3X9y4E3z",
        "outputId": "4ef3e928-f06a-403b-ca2d-85a4c9fce8e0"
      },
      "outputs": [
        {
          "data": {
            "text/plain": [
              "torch.Size([4, 10, 4, 4])"
            ]
          },
          "execution_count": 10,
          "metadata": {},
          "output_type": "execute_result"
        }
      ],
      "source": [
        "blk = transition_block(10)\n",
        "blk(Y).shape"
      ]
    },
    {
      "cell_type": "code",
      "execution_count": null,
      "metadata": {
        "id": "kHOymkLI4Gyw"
      },
      "outputs": [],
      "source": [
        "class DenseNet(d2l.Classifier):\n",
        "    def b1(self):\n",
        "        return nn.Sequential(\n",
        "            nn.LazyConv2d(64, kernel_size=7, stride=2, padding=3),\n",
        "            nn.LazyBatchNorm2d(), nn.ReLU(),\n",
        "            nn.MaxPool2d(kernel_size=3, stride=2, padding=1))"
      ]
    },
    {
      "cell_type": "code",
      "execution_count": null,
      "metadata": {
        "id": "FTej2eo-4Irg"
      },
      "outputs": [],
      "source": [
        "@d2l.add_to_class(DenseNet)\n",
        "def __init__(self, num_channels=64, growth_rate=32, arch=(4, 4, 4, 4),\n",
        "             lr=0.1, num_classes=10):\n",
        "    super(DenseNet, self).__init__()\n",
        "    self.save_hyperparameters()\n",
        "    self.net = nn.Sequential(self.b1())\n",
        "    for i, num_convs in enumerate(arch):\n",
        "        self.net.add_module(f'dense_blk{i+1}', DenseBlock(num_convs,\n",
        "                                                          growth_rate))\n",
        "        # The number of output channels in the previous dense block\n",
        "        num_channels += num_convs * growth_rate\n",
        "        # A transition layer that halves the number of channels is added\n",
        "        # between the dense blocks\n",
        "        if i != len(arch) - 1:\n",
        "            num_channels //= 2\n",
        "            self.net.add_module(f'tran_blk{i+1}', transition_block(\n",
        "                num_channels))\n",
        "    self.net.add_module('last', nn.Sequential(\n",
        "        nn.LazyBatchNorm2d(), nn.ReLU(),\n",
        "        nn.AdaptiveAvgPool2d((1, 1)), nn.Flatten(),\n",
        "        nn.LazyLinear(num_classes)))\n",
        "    self.net.apply(d2l.init_cnn)"
      ]
    },
    {
      "cell_type": "code",
      "execution_count": null,
      "metadata": {
        "colab": {
          "base_uri": "https://localhost:8080/",
          "height": 265
        },
        "id": "7XK-zrCm4KhR",
        "outputId": "d878b1c7-dc09-4472-e7ba-2048ed37178a"
      },
      "outputs": [
        {
          "data": {
            "image/svg+xml": "<?xml version=\"1.0\" encoding=\"utf-8\" standalone=\"no\"?>\n<!DOCTYPE svg PUBLIC \"-//W3C//DTD SVG 1.1//EN\"\n  \"http://www.w3.org/Graphics/SVG/1.1/DTD/svg11.dtd\">\n<svg xmlns:xlink=\"http://www.w3.org/1999/xlink\" width=\"238.965625pt\" height=\"183.35625pt\" viewBox=\"0 0 238.965625 183.35625\" xmlns=\"http://www.w3.org/2000/svg\" version=\"1.1\">\n <metadata>\n  <rdf:RDF xmlns:dc=\"http://purl.org/dc/elements/1.1/\" xmlns:cc=\"http://creativecommons.org/ns#\" xmlns:rdf=\"http://www.w3.org/1999/02/22-rdf-syntax-ns#\">\n   <cc:Work>\n    <dc:type rdf:resource=\"http://purl.org/dc/dcmitype/StillImage\"/>\n    <dc:date>2024-09-26T21:48:10.766276</dc:date>\n    <dc:format>image/svg+xml</dc:format>\n    <dc:creator>\n     <cc:Agent>\n      <dc:title>Matplotlib v3.7.2, https://matplotlib.org/</dc:title>\n     </cc:Agent>\n    </dc:creator>\n   </cc:Work>\n  </rdf:RDF>\n </metadata>\n <defs>\n  <style type=\"text/css\">*{stroke-linejoin: round; stroke-linecap: butt}</style>\n </defs>\n <g id=\"figure_1\">\n  <g id=\"patch_1\">\n   <path d=\"M 0 183.35625 \nL 238.965625 183.35625 \nL 238.965625 0 \nL 0 0 \nz\n\" style=\"fill: #ffffff\"/>\n  </g>\n  <g id=\"axes_1\">\n   <g id=\"patch_2\">\n    <path d=\"M 30.103125 145.8 \nL 225.403125 145.8 \nL 225.403125 7.2 \nL 30.103125 7.2 \nz\n\" style=\"fill: #ffffff\"/>\n   </g>\n   <g id=\"matplotlib.axis_1\">\n    <g id=\"xtick_1\">\n     <g id=\"line2d_1\">\n      <defs>\n       <path id=\"m422a182b50\" d=\"M 0 0 \nL 0 3.5 \n\" style=\"stroke: #000000; stroke-width: 0.8\"/>\n      </defs>\n      <g>\n       <use xlink:href=\"#m422a182b50\" x=\"30.103125\" y=\"145.8\" style=\"stroke: #000000; stroke-width: 0.8\"/>\n      </g>\n     </g>\n     <g id=\"text_1\">\n      <!-- 0 -->\n      <g transform=\"translate(26.921875 160.398438) scale(0.1 -0.1)\">\n       <defs>\n        <path id=\"DejaVuSans-30\" d=\"M 2034 4250 \nQ 1547 4250 1301 3770 \nQ 1056 3291 1056 2328 \nQ 1056 1369 1301 889 \nQ 1547 409 2034 409 \nQ 2525 409 2770 889 \nQ 3016 1369 3016 2328 \nQ 3016 3291 2770 3770 \nQ 2525 4250 2034 4250 \nz\nM 2034 4750 \nQ 2819 4750 3233 4129 \nQ 3647 3509 3647 2328 \nQ 3647 1150 3233 529 \nQ 2819 -91 2034 -91 \nQ 1250 -91 836 529 \nQ 422 1150 422 2328 \nQ 422 3509 836 4129 \nQ 1250 4750 2034 4750 \nz\n\" transform=\"scale(0.015625)\"/>\n       </defs>\n       <use xlink:href=\"#DejaVuSans-30\"/>\n      </g>\n     </g>\n    </g>\n    <g id=\"xtick_2\">\n     <g id=\"line2d_2\">\n      <g>\n       <use xlink:href=\"#m422a182b50\" x=\"69.163125\" y=\"145.8\" style=\"stroke: #000000; stroke-width: 0.8\"/>\n      </g>\n     </g>\n     <g id=\"text_2\">\n      <!-- 2 -->\n      <g transform=\"translate(65.981875 160.398438) scale(0.1 -0.1)\">\n       <defs>\n        <path id=\"DejaVuSans-32\" d=\"M 1228 531 \nL 3431 531 \nL 3431 0 \nL 469 0 \nL 469 531 \nQ 828 903 1448 1529 \nQ 2069 2156 2228 2338 \nQ 2531 2678 2651 2914 \nQ 2772 3150 2772 3378 \nQ 2772 3750 2511 3984 \nQ 2250 4219 1831 4219 \nQ 1534 4219 1204 4116 \nQ 875 4013 500 3803 \nL 500 4441 \nQ 881 4594 1212 4672 \nQ 1544 4750 1819 4750 \nQ 2544 4750 2975 4387 \nQ 3406 4025 3406 3419 \nQ 3406 3131 3298 2873 \nQ 3191 2616 2906 2266 \nQ 2828 2175 2409 1742 \nQ 1991 1309 1228 531 \nz\n\" transform=\"scale(0.015625)\"/>\n       </defs>\n       <use xlink:href=\"#DejaVuSans-32\"/>\n      </g>\n     </g>\n    </g>\n    <g id=\"xtick_3\">\n     <g id=\"line2d_3\">\n      <g>\n       <use xlink:href=\"#m422a182b50\" x=\"108.223125\" y=\"145.8\" style=\"stroke: #000000; stroke-width: 0.8\"/>\n      </g>\n     </g>\n     <g id=\"text_3\">\n      <!-- 4 -->\n      <g transform=\"translate(105.041875 160.398438) scale(0.1 -0.1)\">\n       <defs>\n        <path id=\"DejaVuSans-34\" d=\"M 2419 4116 \nL 825 1625 \nL 2419 1625 \nL 2419 4116 \nz\nM 2253 4666 \nL 3047 4666 \nL 3047 1625 \nL 3713 1625 \nL 3713 1100 \nL 3047 1100 \nL 3047 0 \nL 2419 0 \nL 2419 1100 \nL 313 1100 \nL 313 1709 \nL 2253 4666 \nz\n\" transform=\"scale(0.015625)\"/>\n       </defs>\n       <use xlink:href=\"#DejaVuSans-34\"/>\n      </g>\n     </g>\n    </g>\n    <g id=\"xtick_4\">\n     <g id=\"line2d_4\">\n      <g>\n       <use xlink:href=\"#m422a182b50\" x=\"147.283125\" y=\"145.8\" style=\"stroke: #000000; stroke-width: 0.8\"/>\n      </g>\n     </g>\n     <g id=\"text_4\">\n      <!-- 6 -->\n      <g transform=\"translate(144.101875 160.398438) scale(0.1 -0.1)\">\n       <defs>\n        <path id=\"DejaVuSans-36\" d=\"M 2113 2584 \nQ 1688 2584 1439 2293 \nQ 1191 2003 1191 1497 \nQ 1191 994 1439 701 \nQ 1688 409 2113 409 \nQ 2538 409 2786 701 \nQ 3034 994 3034 1497 \nQ 3034 2003 2786 2293 \nQ 2538 2584 2113 2584 \nz\nM 3366 4563 \nL 3366 3988 \nQ 3128 4100 2886 4159 \nQ 2644 4219 2406 4219 \nQ 1781 4219 1451 3797 \nQ 1122 3375 1075 2522 \nQ 1259 2794 1537 2939 \nQ 1816 3084 2150 3084 \nQ 2853 3084 3261 2657 \nQ 3669 2231 3669 1497 \nQ 3669 778 3244 343 \nQ 2819 -91 2113 -91 \nQ 1303 -91 875 529 \nQ 447 1150 447 2328 \nQ 447 3434 972 4092 \nQ 1497 4750 2381 4750 \nQ 2619 4750 2861 4703 \nQ 3103 4656 3366 4563 \nz\n\" transform=\"scale(0.015625)\"/>\n       </defs>\n       <use xlink:href=\"#DejaVuSans-36\"/>\n      </g>\n     </g>\n    </g>\n    <g id=\"xtick_5\">\n     <g id=\"line2d_5\">\n      <g>\n       <use xlink:href=\"#m422a182b50\" x=\"186.343125\" y=\"145.8\" style=\"stroke: #000000; stroke-width: 0.8\"/>\n      </g>\n     </g>\n     <g id=\"text_5\">\n      <!-- 8 -->\n      <g transform=\"translate(183.161875 160.398438) scale(0.1 -0.1)\">\n       <defs>\n        <path id=\"DejaVuSans-38\" d=\"M 2034 2216 \nQ 1584 2216 1326 1975 \nQ 1069 1734 1069 1313 \nQ 1069 891 1326 650 \nQ 1584 409 2034 409 \nQ 2484 409 2743 651 \nQ 3003 894 3003 1313 \nQ 3003 1734 2745 1975 \nQ 2488 2216 2034 2216 \nz\nM 1403 2484 \nQ 997 2584 770 2862 \nQ 544 3141 544 3541 \nQ 544 4100 942 4425 \nQ 1341 4750 2034 4750 \nQ 2731 4750 3128 4425 \nQ 3525 4100 3525 3541 \nQ 3525 3141 3298 2862 \nQ 3072 2584 2669 2484 \nQ 3125 2378 3379 2068 \nQ 3634 1759 3634 1313 \nQ 3634 634 3220 271 \nQ 2806 -91 2034 -91 \nQ 1263 -91 848 271 \nQ 434 634 434 1313 \nQ 434 1759 690 2068 \nQ 947 2378 1403 2484 \nz\nM 1172 3481 \nQ 1172 3119 1398 2916 \nQ 1625 2713 2034 2713 \nQ 2441 2713 2670 2916 \nQ 2900 3119 2900 3481 \nQ 2900 3844 2670 4047 \nQ 2441 4250 2034 4250 \nQ 1625 4250 1398 4047 \nQ 1172 3844 1172 3481 \nz\n\" transform=\"scale(0.015625)\"/>\n       </defs>\n       <use xlink:href=\"#DejaVuSans-38\"/>\n      </g>\n     </g>\n    </g>\n    <g id=\"xtick_6\">\n     <g id=\"line2d_6\">\n      <g>\n       <use xlink:href=\"#m422a182b50\" x=\"225.403125\" y=\"145.8\" style=\"stroke: #000000; stroke-width: 0.8\"/>\n      </g>\n     </g>\n     <g id=\"text_6\">\n      <!-- 10 -->\n      <g transform=\"translate(219.040625 160.398438) scale(0.1 -0.1)\">\n       <defs>\n        <path id=\"DejaVuSans-31\" d=\"M 794 531 \nL 1825 531 \nL 1825 4091 \nL 703 3866 \nL 703 4441 \nL 1819 4666 \nL 2450 4666 \nL 2450 531 \nL 3481 531 \nL 3481 0 \nL 794 0 \nL 794 531 \nz\n\" transform=\"scale(0.015625)\"/>\n       </defs>\n       <use xlink:href=\"#DejaVuSans-31\"/>\n       <use xlink:href=\"#DejaVuSans-30\" x=\"63.623047\"/>\n      </g>\n     </g>\n    </g>\n    <g id=\"text_7\">\n     <!-- epoch -->\n     <g transform=\"translate(112.525 174.076563) scale(0.1 -0.1)\">\n      <defs>\n       <path id=\"DejaVuSans-65\" d=\"M 3597 1894 \nL 3597 1613 \nL 953 1613 \nQ 991 1019 1311 708 \nQ 1631 397 2203 397 \nQ 2534 397 2845 478 \nQ 3156 559 3463 722 \nL 3463 178 \nQ 3153 47 2828 -22 \nQ 2503 -91 2169 -91 \nQ 1331 -91 842 396 \nQ 353 884 353 1716 \nQ 353 2575 817 3079 \nQ 1281 3584 2069 3584 \nQ 2775 3584 3186 3129 \nQ 3597 2675 3597 1894 \nz\nM 3022 2063 \nQ 3016 2534 2758 2815 \nQ 2500 3097 2075 3097 \nQ 1594 3097 1305 2825 \nQ 1016 2553 972 2059 \nL 3022 2063 \nz\n\" transform=\"scale(0.015625)\"/>\n       <path id=\"DejaVuSans-70\" d=\"M 1159 525 \nL 1159 -1331 \nL 581 -1331 \nL 581 3500 \nL 1159 3500 \nL 1159 2969 \nQ 1341 3281 1617 3432 \nQ 1894 3584 2278 3584 \nQ 2916 3584 3314 3078 \nQ 3713 2572 3713 1747 \nQ 3713 922 3314 415 \nQ 2916 -91 2278 -91 \nQ 1894 -91 1617 61 \nQ 1341 213 1159 525 \nz\nM 3116 1747 \nQ 3116 2381 2855 2742 \nQ 2594 3103 2138 3103 \nQ 1681 3103 1420 2742 \nQ 1159 2381 1159 1747 \nQ 1159 1113 1420 752 \nQ 1681 391 2138 391 \nQ 2594 391 2855 752 \nQ 3116 1113 3116 1747 \nz\n\" transform=\"scale(0.015625)\"/>\n       <path id=\"DejaVuSans-6f\" d=\"M 1959 3097 \nQ 1497 3097 1228 2736 \nQ 959 2375 959 1747 \nQ 959 1119 1226 758 \nQ 1494 397 1959 397 \nQ 2419 397 2687 759 \nQ 2956 1122 2956 1747 \nQ 2956 2369 2687 2733 \nQ 2419 3097 1959 3097 \nz\nM 1959 3584 \nQ 2709 3584 3137 3096 \nQ 3566 2609 3566 1747 \nQ 3566 888 3137 398 \nQ 2709 -91 1959 -91 \nQ 1206 -91 779 398 \nQ 353 888 353 1747 \nQ 353 2609 779 3096 \nQ 1206 3584 1959 3584 \nz\n\" transform=\"scale(0.015625)\"/>\n       <path id=\"DejaVuSans-63\" d=\"M 3122 3366 \nL 3122 2828 \nQ 2878 2963 2633 3030 \nQ 2388 3097 2138 3097 \nQ 1578 3097 1268 2742 \nQ 959 2388 959 1747 \nQ 959 1106 1268 751 \nQ 1578 397 2138 397 \nQ 2388 397 2633 464 \nQ 2878 531 3122 666 \nL 3122 134 \nQ 2881 22 2623 -34 \nQ 2366 -91 2075 -91 \nQ 1284 -91 818 406 \nQ 353 903 353 1747 \nQ 353 2603 823 3093 \nQ 1294 3584 2113 3584 \nQ 2378 3584 2631 3529 \nQ 2884 3475 3122 3366 \nz\n\" transform=\"scale(0.015625)\"/>\n       <path id=\"DejaVuSans-68\" d=\"M 3513 2113 \nL 3513 0 \nL 2938 0 \nL 2938 2094 \nQ 2938 2591 2744 2837 \nQ 2550 3084 2163 3084 \nQ 1697 3084 1428 2787 \nQ 1159 2491 1159 1978 \nL 1159 0 \nL 581 0 \nL 581 4863 \nL 1159 4863 \nL 1159 2956 \nQ 1366 3272 1645 3428 \nQ 1925 3584 2291 3584 \nQ 2894 3584 3203 3211 \nQ 3513 2838 3513 2113 \nz\n\" transform=\"scale(0.015625)\"/>\n      </defs>\n      <use xlink:href=\"#DejaVuSans-65\"/>\n      <use xlink:href=\"#DejaVuSans-70\" x=\"61.523438\"/>\n      <use xlink:href=\"#DejaVuSans-6f\" x=\"125\"/>\n      <use xlink:href=\"#DejaVuSans-63\" x=\"186.181641\"/>\n      <use xlink:href=\"#DejaVuSans-68\" x=\"241.162109\"/>\n     </g>\n    </g>\n   </g>\n   <g id=\"matplotlib.axis_2\">\n    <g id=\"ytick_1\">\n     <g id=\"line2d_7\">\n      <defs>\n       <path id=\"mcb8ab94764\" d=\"M 0 0 \nL -3.5 0 \n\" style=\"stroke: #000000; stroke-width: 0.8\"/>\n      </defs>\n      <g>\n       <use xlink:href=\"#mcb8ab94764\" x=\"30.103125\" y=\"131.697535\" style=\"stroke: #000000; stroke-width: 0.8\"/>\n      </g>\n     </g>\n     <g id=\"text_8\">\n      <!-- 0.2 -->\n      <g transform=\"translate(7.2 135.496754) scale(0.1 -0.1)\">\n       <defs>\n        <path id=\"DejaVuSans-2e\" d=\"M 684 794 \nL 1344 794 \nL 1344 0 \nL 684 0 \nL 684 794 \nz\n\" transform=\"scale(0.015625)\"/>\n       </defs>\n       <use xlink:href=\"#DejaVuSans-30\"/>\n       <use xlink:href=\"#DejaVuSans-2e\" x=\"63.623047\"/>\n       <use xlink:href=\"#DejaVuSans-32\" x=\"95.410156\"/>\n      </g>\n     </g>\n    </g>\n    <g id=\"ytick_2\">\n     <g id=\"line2d_8\">\n      <g>\n       <use xlink:href=\"#mcb8ab94764\" x=\"30.103125\" y=\"98.601047\" style=\"stroke: #000000; stroke-width: 0.8\"/>\n      </g>\n     </g>\n     <g id=\"text_9\">\n      <!-- 0.4 -->\n      <g transform=\"translate(7.2 102.400266) scale(0.1 -0.1)\">\n       <use xlink:href=\"#DejaVuSans-30\"/>\n       <use xlink:href=\"#DejaVuSans-2e\" x=\"63.623047\"/>\n       <use xlink:href=\"#DejaVuSans-34\" x=\"95.410156\"/>\n      </g>\n     </g>\n    </g>\n    <g id=\"ytick_3\">\n     <g id=\"line2d_9\">\n      <g>\n       <use xlink:href=\"#mcb8ab94764\" x=\"30.103125\" y=\"65.504559\" style=\"stroke: #000000; stroke-width: 0.8\"/>\n      </g>\n     </g>\n     <g id=\"text_10\">\n      <!-- 0.6 -->\n      <g transform=\"translate(7.2 69.303778) scale(0.1 -0.1)\">\n       <use xlink:href=\"#DejaVuSans-30\"/>\n       <use xlink:href=\"#DejaVuSans-2e\" x=\"63.623047\"/>\n       <use xlink:href=\"#DejaVuSans-36\" x=\"95.410156\"/>\n      </g>\n     </g>\n    </g>\n    <g id=\"ytick_4\">\n     <g id=\"line2d_10\">\n      <g>\n       <use xlink:href=\"#mcb8ab94764\" x=\"30.103125\" y=\"32.408071\" style=\"stroke: #000000; stroke-width: 0.8\"/>\n      </g>\n     </g>\n     <g id=\"text_11\">\n      <!-- 0.8 -->\n      <g transform=\"translate(7.2 36.20729) scale(0.1 -0.1)\">\n       <use xlink:href=\"#DejaVuSans-30\"/>\n       <use xlink:href=\"#DejaVuSans-2e\" x=\"63.623047\"/>\n       <use xlink:href=\"#DejaVuSans-38\" x=\"95.410156\"/>\n      </g>\n     </g>\n    </g>\n   </g>\n   <g id=\"line2d_11\">\n    <path d=\"M 34.954394 13.890746 \n\" clip-path=\"url(#pee63e2885c)\" style=\"fill: none; stroke: #1f77b4; stroke-width: 1.5; stroke-linecap: square\"/>\n   </g>\n   <g id=\"line2d_12\">\n    <path d=\"M 34.954394 13.890746 \nL 44.698573 90.650158 \n\" clip-path=\"url(#pee63e2885c)\" style=\"fill: none; stroke: #1f77b4; stroke-width: 1.5; stroke-linecap: square\"/>\n   </g>\n   <g id=\"line2d_13\">\n    <path d=\"M 34.954394 13.890746 \nL 44.698573 90.650158 \n\" clip-path=\"url(#pee63e2885c)\" style=\"fill: none; stroke: #1f77b4; stroke-width: 1.5; stroke-linecap: square\"/>\n   </g>\n   <g id=\"line2d_14\">\n    <path d=\"M 49.633125 79.278189 \n\" clip-path=\"url(#pee63e2885c)\" style=\"fill: none; stroke-dasharray: 5.55,2.4; stroke-dashoffset: 0; stroke: #ff7f0e; stroke-width: 1.5\"/>\n   </g>\n   <g id=\"line2d_15\"/>\n   <g id=\"line2d_16\">\n    <path d=\"M 34.954394 13.890746 \nL 44.698573 90.650158 \n\" clip-path=\"url(#pee63e2885c)\" style=\"fill: none; stroke: #1f77b4; stroke-width: 1.5; stroke-linecap: square\"/>\n   </g>\n   <g id=\"line2d_17\">\n    <path d=\"M 49.633125 79.278189 \n\" clip-path=\"url(#pee63e2885c)\" style=\"fill: none; stroke-dasharray: 5.55,2.4; stroke-dashoffset: 0; stroke: #ff7f0e; stroke-width: 1.5\"/>\n   </g>\n   <g id=\"line2d_18\">\n    <path d=\"M 49.633125 28.981249 \n\" clip-path=\"url(#pee63e2885c)\" style=\"fill: none; stroke-dasharray: 9.6,2.4,1.5,2.4; stroke-dashoffset: 0; stroke: #2ca02c; stroke-width: 1.5\"/>\n   </g>\n   <g id=\"line2d_19\">\n    <path d=\"M 34.954394 13.890746 \nL 44.698573 90.650158 \nL 54.442752 107.194689 \n\" clip-path=\"url(#pee63e2885c)\" style=\"fill: none; stroke: #1f77b4; stroke-width: 1.5; stroke-linecap: square\"/>\n   </g>\n   <g id=\"line2d_20\">\n    <path d=\"M 49.633125 79.278189 \n\" clip-path=\"url(#pee63e2885c)\" style=\"fill: none; stroke-dasharray: 5.55,2.4; stroke-dashoffset: 0; stroke: #ff7f0e; stroke-width: 1.5\"/>\n   </g>\n   <g id=\"line2d_21\">\n    <path d=\"M 49.633125 28.981249 \n\" clip-path=\"url(#pee63e2885c)\" style=\"fill: none; stroke-dasharray: 9.6,2.4,1.5,2.4; stroke-dashoffset: 0; stroke: #2ca02c; stroke-width: 1.5\"/>\n   </g>\n   <g id=\"line2d_22\">\n    <path d=\"M 34.954394 13.890746 \nL 44.698573 90.650158 \nL 54.442752 107.194689 \nL 64.186931 112.507096 \n\" clip-path=\"url(#pee63e2885c)\" style=\"fill: none; stroke: #1f77b4; stroke-width: 1.5; stroke-linecap: square\"/>\n   </g>\n   <g id=\"line2d_23\">\n    <path d=\"M 49.633125 79.278189 \n\" clip-path=\"url(#pee63e2885c)\" style=\"fill: none; stroke-dasharray: 5.55,2.4; stroke-dashoffset: 0; stroke: #ff7f0e; stroke-width: 1.5\"/>\n   </g>\n   <g id=\"line2d_24\">\n    <path d=\"M 49.633125 28.981249 \n\" clip-path=\"url(#pee63e2885c)\" style=\"fill: none; stroke-dasharray: 9.6,2.4,1.5,2.4; stroke-dashoffset: 0; stroke: #2ca02c; stroke-width: 1.5\"/>\n   </g>\n   <g id=\"line2d_25\">\n    <path d=\"M 34.954394 13.890746 \nL 44.698573 90.650158 \nL 54.442752 107.194689 \nL 64.186931 112.507096 \n\" clip-path=\"url(#pee63e2885c)\" style=\"fill: none; stroke: #1f77b4; stroke-width: 1.5; stroke-linecap: square\"/>\n   </g>\n   <g id=\"line2d_26\">\n    <path d=\"M 49.633125 79.278189 \nL 69.163125 110.489741 \n\" clip-path=\"url(#pee63e2885c)\" style=\"fill: none; stroke-dasharray: 5.55,2.4; stroke-dashoffset: 0; stroke: #ff7f0e; stroke-width: 1.5\"/>\n   </g>\n   <g id=\"line2d_27\">\n    <path d=\"M 49.633125 28.981249 \n\" clip-path=\"url(#pee63e2885c)\" style=\"fill: none; stroke-dasharray: 9.6,2.4,1.5,2.4; stroke-dashoffset: 0; stroke: #2ca02c; stroke-width: 1.5\"/>\n   </g>\n   <g id=\"line2d_28\">\n    <path d=\"M 34.954394 13.890746 \nL 44.698573 90.650158 \nL 54.442752 107.194689 \nL 64.186931 112.507096 \n\" clip-path=\"url(#pee63e2885c)\" style=\"fill: none; stroke: #1f77b4; stroke-width: 1.5; stroke-linecap: square\"/>\n   </g>\n   <g id=\"line2d_29\">\n    <path d=\"M 49.633125 79.278189 \nL 69.163125 110.489741 \n\" clip-path=\"url(#pee63e2885c)\" style=\"fill: none; stroke-dasharray: 5.55,2.4; stroke-dashoffset: 0; stroke: #ff7f0e; stroke-width: 1.5\"/>\n   </g>\n   <g id=\"line2d_30\">\n    <path d=\"M 49.633125 28.981249 \nL 69.163125 18.131283 \n\" clip-path=\"url(#pee63e2885c)\" style=\"fill: none; stroke-dasharray: 9.6,2.4,1.5,2.4; stroke-dashoffset: 0; stroke: #2ca02c; stroke-width: 1.5\"/>\n   </g>\n   <g id=\"line2d_31\">\n    <path d=\"M 34.954394 13.890746 \nL 44.698573 90.650158 \nL 54.442752 107.194689 \nL 64.186931 112.507096 \nL 73.93111 117.882769 \n\" clip-path=\"url(#pee63e2885c)\" style=\"fill: none; stroke: #1f77b4; stroke-width: 1.5; stroke-linecap: square\"/>\n   </g>\n   <g id=\"line2d_32\">\n    <path d=\"M 49.633125 79.278189 \nL 69.163125 110.489741 \n\" clip-path=\"url(#pee63e2885c)\" style=\"fill: none; stroke-dasharray: 5.55,2.4; stroke-dashoffset: 0; stroke: #ff7f0e; stroke-width: 1.5\"/>\n   </g>\n   <g id=\"line2d_33\">\n    <path d=\"M 49.633125 28.981249 \nL 69.163125 18.131283 \n\" clip-path=\"url(#pee63e2885c)\" style=\"fill: none; stroke-dasharray: 9.6,2.4,1.5,2.4; stroke-dashoffset: 0; stroke: #2ca02c; stroke-width: 1.5\"/>\n   </g>\n   <g id=\"line2d_34\">\n    <path d=\"M 34.954394 13.890746 \nL 44.698573 90.650158 \nL 54.442752 107.194689 \nL 64.186931 112.507096 \nL 73.93111 117.882769 \nL 83.675289 120.564644 \n\" clip-path=\"url(#pee63e2885c)\" style=\"fill: none; stroke: #1f77b4; stroke-width: 1.5; stroke-linecap: square\"/>\n   </g>\n   <g id=\"line2d_35\">\n    <path d=\"M 49.633125 79.278189 \nL 69.163125 110.489741 \n\" clip-path=\"url(#pee63e2885c)\" style=\"fill: none; stroke-dasharray: 5.55,2.4; stroke-dashoffset: 0; stroke: #ff7f0e; stroke-width: 1.5\"/>\n   </g>\n   <g id=\"line2d_36\">\n    <path d=\"M 49.633125 28.981249 \nL 69.163125 18.131283 \n\" clip-path=\"url(#pee63e2885c)\" style=\"fill: none; stroke-dasharray: 9.6,2.4,1.5,2.4; stroke-dashoffset: 0; stroke: #2ca02c; stroke-width: 1.5\"/>\n   </g>\n   <g id=\"line2d_37\">\n    <path d=\"M 34.954394 13.890746 \nL 44.698573 90.650158 \nL 54.442752 107.194689 \nL 64.186931 112.507096 \nL 73.93111 117.882769 \nL 83.675289 120.564644 \n\" clip-path=\"url(#pee63e2885c)\" style=\"fill: none; stroke: #1f77b4; stroke-width: 1.5; stroke-linecap: square\"/>\n   </g>\n   <g id=\"line2d_38\">\n    <path d=\"M 49.633125 79.278189 \nL 69.163125 110.489741 \nL 88.693125 110.045191 \n\" clip-path=\"url(#pee63e2885c)\" style=\"fill: none; stroke-dasharray: 5.55,2.4; stroke-dashoffset: 0; stroke: #ff7f0e; stroke-width: 1.5\"/>\n   </g>\n   <g id=\"line2d_39\">\n    <path d=\"M 49.633125 28.981249 \nL 69.163125 18.131283 \n\" clip-path=\"url(#pee63e2885c)\" style=\"fill: none; stroke-dasharray: 9.6,2.4,1.5,2.4; stroke-dashoffset: 0; stroke: #2ca02c; stroke-width: 1.5\"/>\n   </g>\n   <g id=\"line2d_40\">\n    <path d=\"M 34.954394 13.890746 \nL 44.698573 90.650158 \nL 54.442752 107.194689 \nL 64.186931 112.507096 \nL 73.93111 117.882769 \nL 83.675289 120.564644 \n\" clip-path=\"url(#pee63e2885c)\" style=\"fill: none; stroke: #1f77b4; stroke-width: 1.5; stroke-linecap: square\"/>\n   </g>\n   <g id=\"line2d_41\">\n    <path d=\"M 49.633125 79.278189 \nL 69.163125 110.489741 \nL 88.693125 110.045191 \n\" clip-path=\"url(#pee63e2885c)\" style=\"fill: none; stroke-dasharray: 5.55,2.4; stroke-dashoffset: 0; stroke: #ff7f0e; stroke-width: 1.5\"/>\n   </g>\n   <g id=\"line2d_42\">\n    <path d=\"M 49.633125 28.981249 \nL 69.163125 18.131283 \nL 88.693125 18.147648 \n\" clip-path=\"url(#pee63e2885c)\" style=\"fill: none; stroke-dasharray: 9.6,2.4,1.5,2.4; stroke-dashoffset: 0; stroke: #2ca02c; stroke-width: 1.5\"/>\n   </g>\n   <g id=\"line2d_43\">\n    <path d=\"M 34.954394 13.890746 \nL 44.698573 90.650158 \nL 54.442752 107.194689 \nL 64.186931 112.507096 \nL 73.93111 117.882769 \nL 83.675289 120.564644 \nL 93.419468 123.566552 \n\" clip-path=\"url(#pee63e2885c)\" style=\"fill: none; stroke: #1f77b4; stroke-width: 1.5; stroke-linecap: square\"/>\n   </g>\n   <g id=\"line2d_44\">\n    <path d=\"M 49.633125 79.278189 \nL 69.163125 110.489741 \nL 88.693125 110.045191 \n\" clip-path=\"url(#pee63e2885c)\" style=\"fill: none; stroke-dasharray: 5.55,2.4; stroke-dashoffset: 0; stroke: #ff7f0e; stroke-width: 1.5\"/>\n   </g>\n   <g id=\"line2d_45\">\n    <path d=\"M 49.633125 28.981249 \nL 69.163125 18.131283 \nL 88.693125 18.147648 \n\" clip-path=\"url(#pee63e2885c)\" style=\"fill: none; stroke-dasharray: 9.6,2.4,1.5,2.4; stroke-dashoffset: 0; stroke: #2ca02c; stroke-width: 1.5\"/>\n   </g>\n   <g id=\"line2d_46\">\n    <path d=\"M 34.954394 13.890746 \nL 44.698573 90.650158 \nL 54.442752 107.194689 \nL 64.186931 112.507096 \nL 73.93111 117.882769 \nL 83.675289 120.564644 \nL 93.419468 123.566552 \nL 103.163647 125.915944 \n\" clip-path=\"url(#pee63e2885c)\" style=\"fill: none; stroke: #1f77b4; stroke-width: 1.5; stroke-linecap: square\"/>\n   </g>\n   <g id=\"line2d_47\">\n    <path d=\"M 49.633125 79.278189 \nL 69.163125 110.489741 \nL 88.693125 110.045191 \n\" clip-path=\"url(#pee63e2885c)\" style=\"fill: none; stroke-dasharray: 5.55,2.4; stroke-dashoffset: 0; stroke: #ff7f0e; stroke-width: 1.5\"/>\n   </g>\n   <g id=\"line2d_48\">\n    <path d=\"M 49.633125 28.981249 \nL 69.163125 18.131283 \nL 88.693125 18.147648 \n\" clip-path=\"url(#pee63e2885c)\" style=\"fill: none; stroke-dasharray: 9.6,2.4,1.5,2.4; stroke-dashoffset: 0; stroke: #2ca02c; stroke-width: 1.5\"/>\n   </g>\n   <g id=\"line2d_49\">\n    <path d=\"M 34.954394 13.890746 \nL 44.698573 90.650158 \nL 54.442752 107.194689 \nL 64.186931 112.507096 \nL 73.93111 117.882769 \nL 83.675289 120.564644 \nL 93.419468 123.566552 \nL 103.163647 125.915944 \n\" clip-path=\"url(#pee63e2885c)\" style=\"fill: none; stroke: #1f77b4; stroke-width: 1.5; stroke-linecap: square\"/>\n   </g>\n   <g id=\"line2d_50\">\n    <path d=\"M 49.633125 79.278189 \nL 69.163125 110.489741 \nL 88.693125 110.045191 \nL 108.223125 110.168208 \n\" clip-path=\"url(#pee63e2885c)\" style=\"fill: none; stroke-dasharray: 5.55,2.4; stroke-dashoffset: 0; stroke: #ff7f0e; stroke-width: 1.5\"/>\n   </g>\n   <g id=\"line2d_51\">\n    <path d=\"M 49.633125 28.981249 \nL 69.163125 18.131283 \nL 88.693125 18.147648 \n\" clip-path=\"url(#pee63e2885c)\" style=\"fill: none; stroke-dasharray: 9.6,2.4,1.5,2.4; stroke-dashoffset: 0; stroke: #2ca02c; stroke-width: 1.5\"/>\n   </g>\n   <g id=\"line2d_52\">\n    <path d=\"M 34.954394 13.890746 \nL 44.698573 90.650158 \nL 54.442752 107.194689 \nL 64.186931 112.507096 \nL 73.93111 117.882769 \nL 83.675289 120.564644 \nL 93.419468 123.566552 \nL 103.163647 125.915944 \n\" clip-path=\"url(#pee63e2885c)\" style=\"fill: none; stroke: #1f77b4; stroke-width: 1.5; stroke-linecap: square\"/>\n   </g>\n   <g id=\"line2d_53\">\n    <path d=\"M 49.633125 79.278189 \nL 69.163125 110.489741 \nL 88.693125 110.045191 \nL 108.223125 110.168208 \n\" clip-path=\"url(#pee63e2885c)\" style=\"fill: none; stroke-dasharray: 5.55,2.4; stroke-dashoffset: 0; stroke: #ff7f0e; stroke-width: 1.5\"/>\n   </g>\n   <g id=\"line2d_54\">\n    <path d=\"M 49.633125 28.981249 \nL 69.163125 18.131283 \nL 88.693125 18.147648 \nL 108.223125 18.900436 \n\" clip-path=\"url(#pee63e2885c)\" style=\"fill: none; stroke-dasharray: 9.6,2.4,1.5,2.4; stroke-dashoffset: 0; stroke: #2ca02c; stroke-width: 1.5\"/>\n   </g>\n   <g id=\"line2d_55\">\n    <path d=\"M 34.954394 13.890746 \nL 44.698573 90.650158 \nL 54.442752 107.194689 \nL 64.186931 112.507096 \nL 73.93111 117.882769 \nL 83.675289 120.564644 \nL 93.419468 123.566552 \nL 103.163647 125.915944 \nL 112.907826 127.888163 \n\" clip-path=\"url(#pee63e2885c)\" style=\"fill: none; stroke: #1f77b4; stroke-width: 1.5; stroke-linecap: square\"/>\n   </g>\n   <g id=\"line2d_56\">\n    <path d=\"M 49.633125 79.278189 \nL 69.163125 110.489741 \nL 88.693125 110.045191 \nL 108.223125 110.168208 \n\" clip-path=\"url(#pee63e2885c)\" style=\"fill: none; stroke-dasharray: 5.55,2.4; stroke-dashoffset: 0; stroke: #ff7f0e; stroke-width: 1.5\"/>\n   </g>\n   <g id=\"line2d_57\">\n    <path d=\"M 49.633125 28.981249 \nL 69.163125 18.131283 \nL 88.693125 18.147648 \nL 108.223125 18.900436 \n\" clip-path=\"url(#pee63e2885c)\" style=\"fill: none; stroke-dasharray: 9.6,2.4,1.5,2.4; stroke-dashoffset: 0; stroke: #2ca02c; stroke-width: 1.5\"/>\n   </g>\n   <g id=\"line2d_58\">\n    <path d=\"M 34.954394 13.890746 \nL 44.698573 90.650158 \nL 54.442752 107.194689 \nL 64.186931 112.507096 \nL 73.93111 117.882769 \nL 83.675289 120.564644 \nL 93.419468 123.566552 \nL 103.163647 125.915944 \nL 112.907826 127.888163 \nL 122.652006 128.648445 \n\" clip-path=\"url(#pee63e2885c)\" style=\"fill: none; stroke: #1f77b4; stroke-width: 1.5; stroke-linecap: square\"/>\n   </g>\n   <g id=\"line2d_59\">\n    <path d=\"M 49.633125 79.278189 \nL 69.163125 110.489741 \nL 88.693125 110.045191 \nL 108.223125 110.168208 \n\" clip-path=\"url(#pee63e2885c)\" style=\"fill: none; stroke-dasharray: 5.55,2.4; stroke-dashoffset: 0; stroke: #ff7f0e; stroke-width: 1.5\"/>\n   </g>\n   <g id=\"line2d_60\">\n    <path d=\"M 49.633125 28.981249 \nL 69.163125 18.131283 \nL 88.693125 18.147648 \nL 108.223125 18.900436 \n\" clip-path=\"url(#pee63e2885c)\" style=\"fill: none; stroke-dasharray: 9.6,2.4,1.5,2.4; stroke-dashoffset: 0; stroke: #2ca02c; stroke-width: 1.5\"/>\n   </g>\n   <g id=\"line2d_61\">\n    <path d=\"M 34.954394 13.890746 \nL 44.698573 90.650158 \nL 54.442752 107.194689 \nL 64.186931 112.507096 \nL 73.93111 117.882769 \nL 83.675289 120.564644 \nL 93.419468 123.566552 \nL 103.163647 125.915944 \nL 112.907826 127.888163 \nL 122.652006 128.648445 \n\" clip-path=\"url(#pee63e2885c)\" style=\"fill: none; stroke: #1f77b4; stroke-width: 1.5; stroke-linecap: square\"/>\n   </g>\n   <g id=\"line2d_62\">\n    <path d=\"M 49.633125 79.278189 \nL 69.163125 110.489741 \nL 88.693125 110.045191 \nL 108.223125 110.168208 \nL 127.753125 108.24011 \n\" clip-path=\"url(#pee63e2885c)\" style=\"fill: none; stroke-dasharray: 5.55,2.4; stroke-dashoffset: 0; stroke: #ff7f0e; stroke-width: 1.5\"/>\n   </g>\n   <g id=\"line2d_63\">\n    <path d=\"M 49.633125 28.981249 \nL 69.163125 18.131283 \nL 88.693125 18.147648 \nL 108.223125 18.900436 \n\" clip-path=\"url(#pee63e2885c)\" style=\"fill: none; stroke-dasharray: 9.6,2.4,1.5,2.4; stroke-dashoffset: 0; stroke: #2ca02c; stroke-width: 1.5\"/>\n   </g>\n   <g id=\"line2d_64\">\n    <path d=\"M 34.954394 13.890746 \nL 44.698573 90.650158 \nL 54.442752 107.194689 \nL 64.186931 112.507096 \nL 73.93111 117.882769 \nL 83.675289 120.564644 \nL 93.419468 123.566552 \nL 103.163647 125.915944 \nL 112.907826 127.888163 \nL 122.652006 128.648445 \n\" clip-path=\"url(#pee63e2885c)\" style=\"fill: none; stroke: #1f77b4; stroke-width: 1.5; stroke-linecap: square\"/>\n   </g>\n   <g id=\"line2d_65\">\n    <path d=\"M 49.633125 79.278189 \nL 69.163125 110.489741 \nL 88.693125 110.045191 \nL 108.223125 110.168208 \nL 127.753125 108.24011 \n\" clip-path=\"url(#pee63e2885c)\" style=\"fill: none; stroke-dasharray: 5.55,2.4; stroke-dashoffset: 0; stroke: #ff7f0e; stroke-width: 1.5\"/>\n   </g>\n   <g id=\"line2d_66\">\n    <path d=\"M 49.633125 28.981249 \nL 69.163125 18.131283 \nL 88.693125 18.147648 \nL 108.223125 18.900436 \nL 127.753125 19.784143 \n\" clip-path=\"url(#pee63e2885c)\" style=\"fill: none; stroke-dasharray: 9.6,2.4,1.5,2.4; stroke-dashoffset: 0; stroke: #2ca02c; stroke-width: 1.5\"/>\n   </g>\n   <g id=\"line2d_67\">\n    <path d=\"M 34.954394 13.890746 \nL 44.698573 90.650158 \nL 54.442752 107.194689 \nL 64.186931 112.507096 \nL 73.93111 117.882769 \nL 83.675289 120.564644 \nL 93.419468 123.566552 \nL 103.163647 125.915944 \nL 112.907826 127.888163 \nL 122.652006 128.648445 \nL 132.396185 131.259933 \n\" clip-path=\"url(#pee63e2885c)\" style=\"fill: none; stroke: #1f77b4; stroke-width: 1.5; stroke-linecap: square\"/>\n   </g>\n   <g id=\"line2d_68\">\n    <path d=\"M 49.633125 79.278189 \nL 69.163125 110.489741 \nL 88.693125 110.045191 \nL 108.223125 110.168208 \nL 127.753125 108.24011 \n\" clip-path=\"url(#pee63e2885c)\" style=\"fill: none; stroke-dasharray: 5.55,2.4; stroke-dashoffset: 0; stroke: #ff7f0e; stroke-width: 1.5\"/>\n   </g>\n   <g id=\"line2d_69\">\n    <path d=\"M 49.633125 28.981249 \nL 69.163125 18.131283 \nL 88.693125 18.147648 \nL 108.223125 18.900436 \nL 127.753125 19.784143 \n\" clip-path=\"url(#pee63e2885c)\" style=\"fill: none; stroke-dasharray: 9.6,2.4,1.5,2.4; stroke-dashoffset: 0; stroke: #2ca02c; stroke-width: 1.5\"/>\n   </g>\n   <g id=\"line2d_70\">\n    <path d=\"M 34.954394 13.890746 \nL 44.698573 90.650158 \nL 54.442752 107.194689 \nL 64.186931 112.507096 \nL 73.93111 117.882769 \nL 83.675289 120.564644 \nL 93.419468 123.566552 \nL 103.163647 125.915944 \nL 112.907826 127.888163 \nL 122.652006 128.648445 \nL 132.396185 131.259933 \nL 142.140364 131.236982 \n\" clip-path=\"url(#pee63e2885c)\" style=\"fill: none; stroke: #1f77b4; stroke-width: 1.5; stroke-linecap: square\"/>\n   </g>\n   <g id=\"line2d_71\">\n    <path d=\"M 49.633125 79.278189 \nL 69.163125 110.489741 \nL 88.693125 110.045191 \nL 108.223125 110.168208 \nL 127.753125 108.24011 \n\" clip-path=\"url(#pee63e2885c)\" style=\"fill: none; stroke-dasharray: 5.55,2.4; stroke-dashoffset: 0; stroke: #ff7f0e; stroke-width: 1.5\"/>\n   </g>\n   <g id=\"line2d_72\">\n    <path d=\"M 49.633125 28.981249 \nL 69.163125 18.131283 \nL 88.693125 18.147648 \nL 108.223125 18.900436 \nL 127.753125 19.784143 \n\" clip-path=\"url(#pee63e2885c)\" style=\"fill: none; stroke-dasharray: 9.6,2.4,1.5,2.4; stroke-dashoffset: 0; stroke: #2ca02c; stroke-width: 1.5\"/>\n   </g>\n   <g id=\"line2d_73\">\n    <path d=\"M 34.954394 13.890746 \nL 44.698573 90.650158 \nL 54.442752 107.194689 \nL 64.186931 112.507096 \nL 73.93111 117.882769 \nL 83.675289 120.564644 \nL 93.419468 123.566552 \nL 103.163647 125.915944 \nL 112.907826 127.888163 \nL 122.652006 128.648445 \nL 132.396185 131.259933 \nL 142.140364 131.236982 \n\" clip-path=\"url(#pee63e2885c)\" style=\"fill: none; stroke: #1f77b4; stroke-width: 1.5; stroke-linecap: square\"/>\n   </g>\n   <g id=\"line2d_74\">\n    <path d=\"M 49.633125 79.278189 \nL 69.163125 110.489741 \nL 88.693125 110.045191 \nL 108.223125 110.168208 \nL 127.753125 108.24011 \nL 147.283125 116.570133 \n\" clip-path=\"url(#pee63e2885c)\" style=\"fill: none; stroke-dasharray: 5.55,2.4; stroke-dashoffset: 0; stroke: #ff7f0e; stroke-width: 1.5\"/>\n   </g>\n   <g id=\"line2d_75\">\n    <path d=\"M 49.633125 28.981249 \nL 69.163125 18.131283 \nL 88.693125 18.147648 \nL 108.223125 18.900436 \nL 127.753125 19.784143 \n\" clip-path=\"url(#pee63e2885c)\" style=\"fill: none; stroke-dasharray: 9.6,2.4,1.5,2.4; stroke-dashoffset: 0; stroke: #2ca02c; stroke-width: 1.5\"/>\n   </g>\n   <g id=\"line2d_76\">\n    <path d=\"M 34.954394 13.890746 \nL 44.698573 90.650158 \nL 54.442752 107.194689 \nL 64.186931 112.507096 \nL 73.93111 117.882769 \nL 83.675289 120.564644 \nL 93.419468 123.566552 \nL 103.163647 125.915944 \nL 112.907826 127.888163 \nL 122.652006 128.648445 \nL 132.396185 131.259933 \nL 142.140364 131.236982 \n\" clip-path=\"url(#pee63e2885c)\" style=\"fill: none; stroke: #1f77b4; stroke-width: 1.5; stroke-linecap: square\"/>\n   </g>\n   <g id=\"line2d_77\">\n    <path d=\"M 49.633125 79.278189 \nL 69.163125 110.489741 \nL 88.693125 110.045191 \nL 108.223125 110.168208 \nL 127.753125 108.24011 \nL 147.283125 116.570133 \n\" clip-path=\"url(#pee63e2885c)\" style=\"fill: none; stroke-dasharray: 5.55,2.4; stroke-dashoffset: 0; stroke: #ff7f0e; stroke-width: 1.5\"/>\n   </g>\n   <g id=\"line2d_78\">\n    <path d=\"M 49.633125 28.981249 \nL 69.163125 18.131283 \nL 88.693125 18.147648 \nL 108.223125 18.900436 \nL 127.753125 19.784143 \nL 147.283125 16.363867 \n\" clip-path=\"url(#pee63e2885c)\" style=\"fill: none; stroke-dasharray: 9.6,2.4,1.5,2.4; stroke-dashoffset: 0; stroke: #2ca02c; stroke-width: 1.5\"/>\n   </g>\n   <g id=\"line2d_79\">\n    <path d=\"M 34.954394 13.890746 \nL 44.698573 90.650158 \nL 54.442752 107.194689 \nL 64.186931 112.507096 \nL 73.93111 117.882769 \nL 83.675289 120.564644 \nL 93.419468 123.566552 \nL 103.163647 125.915944 \nL 112.907826 127.888163 \nL 122.652006 128.648445 \nL 132.396185 131.259933 \nL 142.140364 131.236982 \nL 151.884543 133.43604 \n\" clip-path=\"url(#pee63e2885c)\" style=\"fill: none; stroke: #1f77b4; stroke-width: 1.5; stroke-linecap: square\"/>\n   </g>\n   <g id=\"line2d_80\">\n    <path d=\"M 49.633125 79.278189 \nL 69.163125 110.489741 \nL 88.693125 110.045191 \nL 108.223125 110.168208 \nL 127.753125 108.24011 \nL 147.283125 116.570133 \n\" clip-path=\"url(#pee63e2885c)\" style=\"fill: none; stroke-dasharray: 5.55,2.4; stroke-dashoffset: 0; stroke: #ff7f0e; stroke-width: 1.5\"/>\n   </g>\n   <g id=\"line2d_81\">\n    <path d=\"M 49.633125 28.981249 \nL 69.163125 18.131283 \nL 88.693125 18.147648 \nL 108.223125 18.900436 \nL 127.753125 19.784143 \nL 147.283125 16.363867 \n\" clip-path=\"url(#pee63e2885c)\" style=\"fill: none; stroke-dasharray: 9.6,2.4,1.5,2.4; stroke-dashoffset: 0; stroke: #2ca02c; stroke-width: 1.5\"/>\n   </g>\n   <g id=\"line2d_82\">\n    <path d=\"M 34.954394 13.890746 \nL 44.698573 90.650158 \nL 54.442752 107.194689 \nL 64.186931 112.507096 \nL 73.93111 117.882769 \nL 83.675289 120.564644 \nL 93.419468 123.566552 \nL 103.163647 125.915944 \nL 112.907826 127.888163 \nL 122.652006 128.648445 \nL 132.396185 131.259933 \nL 142.140364 131.236982 \nL 151.884543 133.43604 \nL 161.628722 134.027397 \n\" clip-path=\"url(#pee63e2885c)\" style=\"fill: none; stroke: #1f77b4; stroke-width: 1.5; stroke-linecap: square\"/>\n   </g>\n   <g id=\"line2d_83\">\n    <path d=\"M 49.633125 79.278189 \nL 69.163125 110.489741 \nL 88.693125 110.045191 \nL 108.223125 110.168208 \nL 127.753125 108.24011 \nL 147.283125 116.570133 \n\" clip-path=\"url(#pee63e2885c)\" style=\"fill: none; stroke-dasharray: 5.55,2.4; stroke-dashoffset: 0; stroke: #ff7f0e; stroke-width: 1.5\"/>\n   </g>\n   <g id=\"line2d_84\">\n    <path d=\"M 49.633125 28.981249 \nL 69.163125 18.131283 \nL 88.693125 18.147648 \nL 108.223125 18.900436 \nL 127.753125 19.784143 \nL 147.283125 16.363867 \n\" clip-path=\"url(#pee63e2885c)\" style=\"fill: none; stroke-dasharray: 9.6,2.4,1.5,2.4; stroke-dashoffset: 0; stroke: #2ca02c; stroke-width: 1.5\"/>\n   </g>\n   <g id=\"line2d_85\">\n    <path d=\"M 34.954394 13.890746 \nL 44.698573 90.650158 \nL 54.442752 107.194689 \nL 64.186931 112.507096 \nL 73.93111 117.882769 \nL 83.675289 120.564644 \nL 93.419468 123.566552 \nL 103.163647 125.915944 \nL 112.907826 127.888163 \nL 122.652006 128.648445 \nL 132.396185 131.259933 \nL 142.140364 131.236982 \nL 151.884543 133.43604 \nL 161.628722 134.027397 \n\" clip-path=\"url(#pee63e2885c)\" style=\"fill: none; stroke: #1f77b4; stroke-width: 1.5; stroke-linecap: square\"/>\n   </g>\n   <g id=\"line2d_86\">\n    <path d=\"M 49.633125 79.278189 \nL 69.163125 110.489741 \nL 88.693125 110.045191 \nL 108.223125 110.168208 \nL 127.753125 108.24011 \nL 147.283125 116.570133 \nL 166.813125 116.594196 \n\" clip-path=\"url(#pee63e2885c)\" style=\"fill: none; stroke-dasharray: 5.55,2.4; stroke-dashoffset: 0; stroke: #ff7f0e; stroke-width: 1.5\"/>\n   </g>\n   <g id=\"line2d_87\">\n    <path d=\"M 49.633125 28.981249 \nL 69.163125 18.131283 \nL 88.693125 18.147648 \nL 108.223125 18.900436 \nL 127.753125 19.784143 \nL 147.283125 16.363867 \n\" clip-path=\"url(#pee63e2885c)\" style=\"fill: none; stroke-dasharray: 9.6,2.4,1.5,2.4; stroke-dashoffset: 0; stroke: #2ca02c; stroke-width: 1.5\"/>\n   </g>\n   <g id=\"line2d_88\">\n    <path d=\"M 34.954394 13.890746 \nL 44.698573 90.650158 \nL 54.442752 107.194689 \nL 64.186931 112.507096 \nL 73.93111 117.882769 \nL 83.675289 120.564644 \nL 93.419468 123.566552 \nL 103.163647 125.915944 \nL 112.907826 127.888163 \nL 122.652006 128.648445 \nL 132.396185 131.259933 \nL 142.140364 131.236982 \nL 151.884543 133.43604 \nL 161.628722 134.027397 \n\" clip-path=\"url(#pee63e2885c)\" style=\"fill: none; stroke: #1f77b4; stroke-width: 1.5; stroke-linecap: square\"/>\n   </g>\n   <g id=\"line2d_89\">\n    <path d=\"M 49.633125 79.278189 \nL 69.163125 110.489741 \nL 88.693125 110.045191 \nL 108.223125 110.168208 \nL 127.753125 108.24011 \nL 147.283125 116.570133 \nL 166.813125 116.594196 \n\" clip-path=\"url(#pee63e2885c)\" style=\"fill: none; stroke-dasharray: 5.55,2.4; stroke-dashoffset: 0; stroke: #ff7f0e; stroke-width: 1.5\"/>\n   </g>\n   <g id=\"line2d_90\">\n    <path d=\"M 49.633125 28.981249 \nL 69.163125 18.131283 \nL 88.693125 18.147648 \nL 108.223125 18.900436 \nL 127.753125 19.784143 \nL 147.283125 16.363867 \nL 166.813125 16.412962 \n\" clip-path=\"url(#pee63e2885c)\" style=\"fill: none; stroke-dasharray: 9.6,2.4,1.5,2.4; stroke-dashoffset: 0; stroke: #2ca02c; stroke-width: 1.5\"/>\n   </g>\n   <g id=\"line2d_91\">\n    <path d=\"M 34.954394 13.890746 \nL 44.698573 90.650158 \nL 54.442752 107.194689 \nL 64.186931 112.507096 \nL 73.93111 117.882769 \nL 83.675289 120.564644 \nL 93.419468 123.566552 \nL 103.163647 125.915944 \nL 112.907826 127.888163 \nL 122.652006 128.648445 \nL 132.396185 131.259933 \nL 142.140364 131.236982 \nL 151.884543 133.43604 \nL 161.628722 134.027397 \nL 171.372901 136.007706 \n\" clip-path=\"url(#pee63e2885c)\" style=\"fill: none; stroke: #1f77b4; stroke-width: 1.5; stroke-linecap: square\"/>\n   </g>\n   <g id=\"line2d_92\">\n    <path d=\"M 49.633125 79.278189 \nL 69.163125 110.489741 \nL 88.693125 110.045191 \nL 108.223125 110.168208 \nL 127.753125 108.24011 \nL 147.283125 116.570133 \nL 166.813125 116.594196 \n\" clip-path=\"url(#pee63e2885c)\" style=\"fill: none; stroke-dasharray: 5.55,2.4; stroke-dashoffset: 0; stroke: #ff7f0e; stroke-width: 1.5\"/>\n   </g>\n   <g id=\"line2d_93\">\n    <path d=\"M 49.633125 28.981249 \nL 69.163125 18.131283 \nL 88.693125 18.147648 \nL 108.223125 18.900436 \nL 127.753125 19.784143 \nL 147.283125 16.363867 \nL 166.813125 16.412962 \n\" clip-path=\"url(#pee63e2885c)\" style=\"fill: none; stroke-dasharray: 9.6,2.4,1.5,2.4; stroke-dashoffset: 0; stroke: #2ca02c; stroke-width: 1.5\"/>\n   </g>\n   <g id=\"line2d_94\">\n    <path d=\"M 34.954394 13.890746 \nL 44.698573 90.650158 \nL 54.442752 107.194689 \nL 64.186931 112.507096 \nL 73.93111 117.882769 \nL 83.675289 120.564644 \nL 93.419468 123.566552 \nL 103.163647 125.915944 \nL 112.907826 127.888163 \nL 122.652006 128.648445 \nL 132.396185 131.259933 \nL 142.140364 131.236982 \nL 151.884543 133.43604 \nL 161.628722 134.027397 \nL 171.372901 136.007706 \nL 181.11708 134.972443 \n\" clip-path=\"url(#pee63e2885c)\" style=\"fill: none; stroke: #1f77b4; stroke-width: 1.5; stroke-linecap: square\"/>\n   </g>\n   <g id=\"line2d_95\">\n    <path d=\"M 49.633125 79.278189 \nL 69.163125 110.489741 \nL 88.693125 110.045191 \nL 108.223125 110.168208 \nL 127.753125 108.24011 \nL 147.283125 116.570133 \nL 166.813125 116.594196 \n\" clip-path=\"url(#pee63e2885c)\" style=\"fill: none; stroke-dasharray: 5.55,2.4; stroke-dashoffset: 0; stroke: #ff7f0e; stroke-width: 1.5\"/>\n   </g>\n   <g id=\"line2d_96\">\n    <path d=\"M 49.633125 28.981249 \nL 69.163125 18.131283 \nL 88.693125 18.147648 \nL 108.223125 18.900436 \nL 127.753125 19.784143 \nL 147.283125 16.363867 \nL 166.813125 16.412962 \n\" clip-path=\"url(#pee63e2885c)\" style=\"fill: none; stroke-dasharray: 9.6,2.4,1.5,2.4; stroke-dashoffset: 0; stroke: #2ca02c; stroke-width: 1.5\"/>\n   </g>\n   <g id=\"line2d_97\">\n    <path d=\"M 34.954394 13.890746 \nL 44.698573 90.650158 \nL 54.442752 107.194689 \nL 64.186931 112.507096 \nL 73.93111 117.882769 \nL 83.675289 120.564644 \nL 93.419468 123.566552 \nL 103.163647 125.915944 \nL 112.907826 127.888163 \nL 122.652006 128.648445 \nL 132.396185 131.259933 \nL 142.140364 131.236982 \nL 151.884543 133.43604 \nL 161.628722 134.027397 \nL 171.372901 136.007706 \nL 181.11708 134.972443 \n\" clip-path=\"url(#pee63e2885c)\" style=\"fill: none; stroke: #1f77b4; stroke-width: 1.5; stroke-linecap: square\"/>\n   </g>\n   <g id=\"line2d_98\">\n    <path d=\"M 49.633125 79.278189 \nL 69.163125 110.489741 \nL 88.693125 110.045191 \nL 108.223125 110.168208 \nL 127.753125 108.24011 \nL 147.283125 116.570133 \nL 166.813125 116.594196 \nL 186.343125 120.519249 \n\" clip-path=\"url(#pee63e2885c)\" style=\"fill: none; stroke-dasharray: 5.55,2.4; stroke-dashoffset: 0; stroke: #ff7f0e; stroke-width: 1.5\"/>\n   </g>\n   <g id=\"line2d_99\">\n    <path d=\"M 49.633125 28.981249 \nL 69.163125 18.131283 \nL 88.693125 18.147648 \nL 108.223125 18.900436 \nL 127.753125 19.784143 \nL 147.283125 16.363867 \nL 166.813125 16.412962 \n\" clip-path=\"url(#pee63e2885c)\" style=\"fill: none; stroke-dasharray: 9.6,2.4,1.5,2.4; stroke-dashoffset: 0; stroke: #2ca02c; stroke-width: 1.5\"/>\n   </g>\n   <g id=\"line2d_100\">\n    <path d=\"M 34.954394 13.890746 \nL 44.698573 90.650158 \nL 54.442752 107.194689 \nL 64.186931 112.507096 \nL 73.93111 117.882769 \nL 83.675289 120.564644 \nL 93.419468 123.566552 \nL 103.163647 125.915944 \nL 112.907826 127.888163 \nL 122.652006 128.648445 \nL 132.396185 131.259933 \nL 142.140364 131.236982 \nL 151.884543 133.43604 \nL 161.628722 134.027397 \nL 171.372901 136.007706 \nL 181.11708 134.972443 \n\" clip-path=\"url(#pee63e2885c)\" style=\"fill: none; stroke: #1f77b4; stroke-width: 1.5; stroke-linecap: square\"/>\n   </g>\n   <g id=\"line2d_101\">\n    <path d=\"M 49.633125 79.278189 \nL 69.163125 110.489741 \nL 88.693125 110.045191 \nL 108.223125 110.168208 \nL 127.753125 108.24011 \nL 147.283125 116.570133 \nL 166.813125 116.594196 \nL 186.343125 120.519249 \n\" clip-path=\"url(#pee63e2885c)\" style=\"fill: none; stroke-dasharray: 5.55,2.4; stroke-dashoffset: 0; stroke: #ff7f0e; stroke-width: 1.5\"/>\n   </g>\n   <g id=\"line2d_102\">\n    <path d=\"M 49.633125 28.981249 \nL 69.163125 18.131283 \nL 88.693125 18.147648 \nL 108.223125 18.900436 \nL 127.753125 19.784143 \nL 147.283125 16.363867 \nL 166.813125 16.412962 \nL 186.343125 15.054671 \n\" clip-path=\"url(#pee63e2885c)\" style=\"fill: none; stroke-dasharray: 9.6,2.4,1.5,2.4; stroke-dashoffset: 0; stroke: #2ca02c; stroke-width: 1.5\"/>\n   </g>\n   <g id=\"line2d_103\">\n    <path d=\"M 34.954394 13.890746 \nL 44.698573 90.650158 \nL 54.442752 107.194689 \nL 64.186931 112.507096 \nL 73.93111 117.882769 \nL 83.675289 120.564644 \nL 93.419468 123.566552 \nL 103.163647 125.915944 \nL 112.907826 127.888163 \nL 122.652006 128.648445 \nL 132.396185 131.259933 \nL 142.140364 131.236982 \nL 151.884543 133.43604 \nL 161.628722 134.027397 \nL 171.372901 136.007706 \nL 181.11708 134.972443 \nL 190.861259 138.091085 \n\" clip-path=\"url(#pee63e2885c)\" style=\"fill: none; stroke: #1f77b4; stroke-width: 1.5; stroke-linecap: square\"/>\n   </g>\n   <g id=\"line2d_104\">\n    <path d=\"M 49.633125 79.278189 \nL 69.163125 110.489741 \nL 88.693125 110.045191 \nL 108.223125 110.168208 \nL 127.753125 108.24011 \nL 147.283125 116.570133 \nL 166.813125 116.594196 \nL 186.343125 120.519249 \n\" clip-path=\"url(#pee63e2885c)\" style=\"fill: none; stroke-dasharray: 5.55,2.4; stroke-dashoffset: 0; stroke: #ff7f0e; stroke-width: 1.5\"/>\n   </g>\n   <g id=\"line2d_105\">\n    <path d=\"M 49.633125 28.981249 \nL 69.163125 18.131283 \nL 88.693125 18.147648 \nL 108.223125 18.900436 \nL 127.753125 19.784143 \nL 147.283125 16.363867 \nL 166.813125 16.412962 \nL 186.343125 15.054671 \n\" clip-path=\"url(#pee63e2885c)\" style=\"fill: none; stroke-dasharray: 9.6,2.4,1.5,2.4; stroke-dashoffset: 0; stroke: #2ca02c; stroke-width: 1.5\"/>\n   </g>\n   <g id=\"line2d_106\">\n    <path d=\"M 34.954394 13.890746 \nL 44.698573 90.650158 \nL 54.442752 107.194689 \nL 64.186931 112.507096 \nL 73.93111 117.882769 \nL 83.675289 120.564644 \nL 93.419468 123.566552 \nL 103.163647 125.915944 \nL 112.907826 127.888163 \nL 122.652006 128.648445 \nL 132.396185 131.259933 \nL 142.140364 131.236982 \nL 151.884543 133.43604 \nL 161.628722 134.027397 \nL 171.372901 136.007706 \nL 181.11708 134.972443 \nL 190.861259 138.091085 \nL 200.605438 137.558529 \n\" clip-path=\"url(#pee63e2885c)\" style=\"fill: none; stroke: #1f77b4; stroke-width: 1.5; stroke-linecap: square\"/>\n   </g>\n   <g id=\"line2d_107\">\n    <path d=\"M 49.633125 79.278189 \nL 69.163125 110.489741 \nL 88.693125 110.045191 \nL 108.223125 110.168208 \nL 127.753125 108.24011 \nL 147.283125 116.570133 \nL 166.813125 116.594196 \nL 186.343125 120.519249 \n\" clip-path=\"url(#pee63e2885c)\" style=\"fill: none; stroke-dasharray: 5.55,2.4; stroke-dashoffset: 0; stroke: #ff7f0e; stroke-width: 1.5\"/>\n   </g>\n   <g id=\"line2d_108\">\n    <path d=\"M 49.633125 28.981249 \nL 69.163125 18.131283 \nL 88.693125 18.147648 \nL 108.223125 18.900436 \nL 127.753125 19.784143 \nL 147.283125 16.363867 \nL 166.813125 16.412962 \nL 186.343125 15.054671 \n\" clip-path=\"url(#pee63e2885c)\" style=\"fill: none; stroke-dasharray: 9.6,2.4,1.5,2.4; stroke-dashoffset: 0; stroke: #2ca02c; stroke-width: 1.5\"/>\n   </g>\n   <g id=\"line2d_109\">\n    <path d=\"M 34.954394 13.890746 \nL 44.698573 90.650158 \nL 54.442752 107.194689 \nL 64.186931 112.507096 \nL 73.93111 117.882769 \nL 83.675289 120.564644 \nL 93.419468 123.566552 \nL 103.163647 125.915944 \nL 112.907826 127.888163 \nL 122.652006 128.648445 \nL 132.396185 131.259933 \nL 142.140364 131.236982 \nL 151.884543 133.43604 \nL 161.628722 134.027397 \nL 171.372901 136.007706 \nL 181.11708 134.972443 \nL 190.861259 138.091085 \nL 200.605438 137.558529 \n\" clip-path=\"url(#pee63e2885c)\" style=\"fill: none; stroke: #1f77b4; stroke-width: 1.5; stroke-linecap: square\"/>\n   </g>\n   <g id=\"line2d_110\">\n    <path d=\"M 49.633125 79.278189 \nL 69.163125 110.489741 \nL 88.693125 110.045191 \nL 108.223125 110.168208 \nL 127.753125 108.24011 \nL 147.283125 116.570133 \nL 166.813125 116.594196 \nL 186.343125 120.519249 \nL 205.873125 115.452774 \n\" clip-path=\"url(#pee63e2885c)\" style=\"fill: none; stroke-dasharray: 5.55,2.4; stroke-dashoffset: 0; stroke: #ff7f0e; stroke-width: 1.5\"/>\n   </g>\n   <g id=\"line2d_111\">\n    <path d=\"M 49.633125 28.981249 \nL 69.163125 18.131283 \nL 88.693125 18.147648 \nL 108.223125 18.900436 \nL 127.753125 19.784143 \nL 147.283125 16.363867 \nL 166.813125 16.412962 \nL 186.343125 15.054671 \n\" clip-path=\"url(#pee63e2885c)\" style=\"fill: none; stroke-dasharray: 9.6,2.4,1.5,2.4; stroke-dashoffset: 0; stroke: #2ca02c; stroke-width: 1.5\"/>\n   </g>\n   <g id=\"line2d_112\">\n    <path d=\"M 34.954394 13.890746 \nL 44.698573 90.650158 \nL 54.442752 107.194689 \nL 64.186931 112.507096 \nL 73.93111 117.882769 \nL 83.675289 120.564644 \nL 93.419468 123.566552 \nL 103.163647 125.915944 \nL 112.907826 127.888163 \nL 122.652006 128.648445 \nL 132.396185 131.259933 \nL 142.140364 131.236982 \nL 151.884543 133.43604 \nL 161.628722 134.027397 \nL 171.372901 136.007706 \nL 181.11708 134.972443 \nL 190.861259 138.091085 \nL 200.605438 137.558529 \n\" clip-path=\"url(#pee63e2885c)\" style=\"fill: none; stroke: #1f77b4; stroke-width: 1.5; stroke-linecap: square\"/>\n   </g>\n   <g id=\"line2d_113\">\n    <path d=\"M 49.633125 79.278189 \nL 69.163125 110.489741 \nL 88.693125 110.045191 \nL 108.223125 110.168208 \nL 127.753125 108.24011 \nL 147.283125 116.570133 \nL 166.813125 116.594196 \nL 186.343125 120.519249 \nL 205.873125 115.452774 \n\" clip-path=\"url(#pee63e2885c)\" style=\"fill: none; stroke-dasharray: 5.55,2.4; stroke-dashoffset: 0; stroke: #ff7f0e; stroke-width: 1.5\"/>\n   </g>\n   <g id=\"line2d_114\">\n    <path d=\"M 49.633125 28.981249 \nL 69.163125 18.131283 \nL 88.693125 18.147648 \nL 108.223125 18.900436 \nL 127.753125 19.784143 \nL 147.283125 16.363867 \nL 166.813125 16.412962 \nL 186.343125 15.054671 \nL 205.873125 17.640334 \n\" clip-path=\"url(#pee63e2885c)\" style=\"fill: none; stroke-dasharray: 9.6,2.4,1.5,2.4; stroke-dashoffset: 0; stroke: #2ca02c; stroke-width: 1.5\"/>\n   </g>\n   <g id=\"line2d_115\">\n    <path d=\"M 34.954394 13.890746 \nL 44.698573 90.650158 \nL 54.442752 107.194689 \nL 64.186931 112.507096 \nL 73.93111 117.882769 \nL 83.675289 120.564644 \nL 93.419468 123.566552 \nL 103.163647 125.915944 \nL 112.907826 127.888163 \nL 122.652006 128.648445 \nL 132.396185 131.259933 \nL 142.140364 131.236982 \nL 151.884543 133.43604 \nL 161.628722 134.027397 \nL 171.372901 136.007706 \nL 181.11708 134.972443 \nL 190.861259 138.091085 \nL 200.605438 137.558529 \nL 210.349618 139.5 \n\" clip-path=\"url(#pee63e2885c)\" style=\"fill: none; stroke: #1f77b4; stroke-width: 1.5; stroke-linecap: square\"/>\n   </g>\n   <g id=\"line2d_116\">\n    <path d=\"M 49.633125 79.278189 \nL 69.163125 110.489741 \nL 88.693125 110.045191 \nL 108.223125 110.168208 \nL 127.753125 108.24011 \nL 147.283125 116.570133 \nL 166.813125 116.594196 \nL 186.343125 120.519249 \nL 205.873125 115.452774 \n\" clip-path=\"url(#pee63e2885c)\" style=\"fill: none; stroke-dasharray: 5.55,2.4; stroke-dashoffset: 0; stroke: #ff7f0e; stroke-width: 1.5\"/>\n   </g>\n   <g id=\"line2d_117\">\n    <path d=\"M 49.633125 28.981249 \nL 69.163125 18.131283 \nL 88.693125 18.147648 \nL 108.223125 18.900436 \nL 127.753125 19.784143 \nL 147.283125 16.363867 \nL 166.813125 16.412962 \nL 186.343125 15.054671 \nL 205.873125 17.640334 \n\" clip-path=\"url(#pee63e2885c)\" style=\"fill: none; stroke-dasharray: 9.6,2.4,1.5,2.4; stroke-dashoffset: 0; stroke: #2ca02c; stroke-width: 1.5\"/>\n   </g>\n   <g id=\"line2d_118\">\n    <path d=\"M 34.954394 13.890746 \nL 44.698573 90.650158 \nL 54.442752 107.194689 \nL 64.186931 112.507096 \nL 73.93111 117.882769 \nL 83.675289 120.564644 \nL 93.419468 123.566552 \nL 103.163647 125.915944 \nL 112.907826 127.888163 \nL 122.652006 128.648445 \nL 132.396185 131.259933 \nL 142.140364 131.236982 \nL 151.884543 133.43604 \nL 161.628722 134.027397 \nL 171.372901 136.007706 \nL 181.11708 134.972443 \nL 190.861259 138.091085 \nL 200.605438 137.558529 \nL 210.349618 139.5 \nL 220.093797 138.823131 \n\" clip-path=\"url(#pee63e2885c)\" style=\"fill: none; stroke: #1f77b4; stroke-width: 1.5; stroke-linecap: square\"/>\n   </g>\n   <g id=\"line2d_119\">\n    <path d=\"M 49.633125 79.278189 \nL 69.163125 110.489741 \nL 88.693125 110.045191 \nL 108.223125 110.168208 \nL 127.753125 108.24011 \nL 147.283125 116.570133 \nL 166.813125 116.594196 \nL 186.343125 120.519249 \nL 205.873125 115.452774 \n\" clip-path=\"url(#pee63e2885c)\" style=\"fill: none; stroke-dasharray: 5.55,2.4; stroke-dashoffset: 0; stroke: #ff7f0e; stroke-width: 1.5\"/>\n   </g>\n   <g id=\"line2d_120\">\n    <path d=\"M 49.633125 28.981249 \nL 69.163125 18.131283 \nL 88.693125 18.147648 \nL 108.223125 18.900436 \nL 127.753125 19.784143 \nL 147.283125 16.363867 \nL 166.813125 16.412962 \nL 186.343125 15.054671 \nL 205.873125 17.640334 \n\" clip-path=\"url(#pee63e2885c)\" style=\"fill: none; stroke-dasharray: 9.6,2.4,1.5,2.4; stroke-dashoffset: 0; stroke: #2ca02c; stroke-width: 1.5\"/>\n   </g>\n   <g id=\"line2d_121\">\n    <path d=\"M 34.954394 13.890746 \nL 44.698573 90.650158 \nL 54.442752 107.194689 \nL 64.186931 112.507096 \nL 73.93111 117.882769 \nL 83.675289 120.564644 \nL 93.419468 123.566552 \nL 103.163647 125.915944 \nL 112.907826 127.888163 \nL 122.652006 128.648445 \nL 132.396185 131.259933 \nL 142.140364 131.236982 \nL 151.884543 133.43604 \nL 161.628722 134.027397 \nL 171.372901 136.007706 \nL 181.11708 134.972443 \nL 190.861259 138.091085 \nL 200.605438 137.558529 \nL 210.349618 139.5 \nL 220.093797 138.823131 \n\" clip-path=\"url(#pee63e2885c)\" style=\"fill: none; stroke: #1f77b4; stroke-width: 1.5; stroke-linecap: square\"/>\n   </g>\n   <g id=\"line2d_122\">\n    <path d=\"M 49.633125 79.278189 \nL 69.163125 110.489741 \nL 88.693125 110.045191 \nL 108.223125 110.168208 \nL 127.753125 108.24011 \nL 147.283125 116.570133 \nL 166.813125 116.594196 \nL 186.343125 120.519249 \nL 205.873125 115.452774 \nL 225.403125 124.462772 \n\" clip-path=\"url(#pee63e2885c)\" style=\"fill: none; stroke-dasharray: 5.55,2.4; stroke-dashoffset: 0; stroke: #ff7f0e; stroke-width: 1.5\"/>\n   </g>\n   <g id=\"line2d_123\">\n    <path d=\"M 49.633125 28.981249 \nL 69.163125 18.131283 \nL 88.693125 18.147648 \nL 108.223125 18.900436 \nL 127.753125 19.784143 \nL 147.283125 16.363867 \nL 166.813125 16.412962 \nL 186.343125 15.054671 \nL 205.873125 17.640334 \n\" clip-path=\"url(#pee63e2885c)\" style=\"fill: none; stroke-dasharray: 9.6,2.4,1.5,2.4; stroke-dashoffset: 0; stroke: #2ca02c; stroke-width: 1.5\"/>\n   </g>\n   <g id=\"line2d_124\">\n    <path d=\"M 34.954394 13.890746 \nL 44.698573 90.650158 \nL 54.442752 107.194689 \nL 64.186931 112.507096 \nL 73.93111 117.882769 \nL 83.675289 120.564644 \nL 93.419468 123.566552 \nL 103.163647 125.915944 \nL 112.907826 127.888163 \nL 122.652006 128.648445 \nL 132.396185 131.259933 \nL 142.140364 131.236982 \nL 151.884543 133.43604 \nL 161.628722 134.027397 \nL 171.372901 136.007706 \nL 181.11708 134.972443 \nL 190.861259 138.091085 \nL 200.605438 137.558529 \nL 210.349618 139.5 \nL 220.093797 138.823131 \n\" clip-path=\"url(#pee63e2885c)\" style=\"fill: none; stroke: #1f77b4; stroke-width: 1.5; stroke-linecap: square\"/>\n   </g>\n   <g id=\"line2d_125\">\n    <path d=\"M 49.633125 79.278189 \nL 69.163125 110.489741 \nL 88.693125 110.045191 \nL 108.223125 110.168208 \nL 127.753125 108.24011 \nL 147.283125 116.570133 \nL 166.813125 116.594196 \nL 186.343125 120.519249 \nL 205.873125 115.452774 \nL 225.403125 124.462772 \n\" clip-path=\"url(#pee63e2885c)\" style=\"fill: none; stroke-dasharray: 5.55,2.4; stroke-dashoffset: 0; stroke: #ff7f0e; stroke-width: 1.5\"/>\n   </g>\n   <g id=\"line2d_126\">\n    <path d=\"M 49.633125 28.981249 \nL 69.163125 18.131283 \nL 88.693125 18.147648 \nL 108.223125 18.900436 \nL 127.753125 19.784143 \nL 147.283125 16.363867 \nL 166.813125 16.412962 \nL 186.343125 15.054671 \nL 205.873125 17.640334 \nL 225.403125 13.5 \n\" clip-path=\"url(#pee63e2885c)\" style=\"fill: none; stroke-dasharray: 9.6,2.4,1.5,2.4; stroke-dashoffset: 0; stroke: #2ca02c; stroke-width: 1.5\"/>\n   </g>\n   <g id=\"patch_3\">\n    <path d=\"M 30.103125 145.8 \nL 30.103125 7.2 \n\" style=\"fill: none; stroke: #000000; stroke-width: 0.8; stroke-linejoin: miter; stroke-linecap: square\"/>\n   </g>\n   <g id=\"patch_4\">\n    <path d=\"M 225.403125 145.8 \nL 225.403125 7.2 \n\" style=\"fill: none; stroke: #000000; stroke-width: 0.8; stroke-linejoin: miter; stroke-linecap: square\"/>\n   </g>\n   <g id=\"patch_5\">\n    <path d=\"M 30.103125 145.8 \nL 225.403125 145.8 \n\" style=\"fill: none; stroke: #000000; stroke-width: 0.8; stroke-linejoin: miter; stroke-linecap: square\"/>\n   </g>\n   <g id=\"patch_6\">\n    <path d=\"M 30.103125 7.2 \nL 225.403125 7.2 \n\" style=\"fill: none; stroke: #000000; stroke-width: 0.8; stroke-linejoin: miter; stroke-linecap: square\"/>\n   </g>\n   <g id=\"legend_1\">\n    <g id=\"patch_7\">\n     <path d=\"M 138.8125 100.434375 \nL 218.403125 100.434375 \nQ 220.403125 100.434375 220.403125 98.434375 \nL 220.403125 54.565625 \nQ 220.403125 52.565625 218.403125 52.565625 \nL 138.8125 52.565625 \nQ 136.8125 52.565625 136.8125 54.565625 \nL 136.8125 98.434375 \nQ 136.8125 100.434375 138.8125 100.434375 \nz\n\" style=\"fill: #ffffff; opacity: 0.8; stroke: #cccccc; stroke-linejoin: miter\"/>\n    </g>\n    <g id=\"line2d_127\">\n     <path d=\"M 140.8125 60.664063 \nL 150.8125 60.664063 \nL 160.8125 60.664063 \n\" style=\"fill: none; stroke: #1f77b4; stroke-width: 1.5; stroke-linecap: square\"/>\n    </g>\n    <g id=\"text_12\">\n     <!-- train_loss -->\n     <g transform=\"translate(168.8125 64.164063) scale(0.1 -0.1)\">\n      <defs>\n       <path id=\"DejaVuSans-74\" d=\"M 1172 4494 \nL 1172 3500 \nL 2356 3500 \nL 2356 3053 \nL 1172 3053 \nL 1172 1153 \nQ 1172 725 1289 603 \nQ 1406 481 1766 481 \nL 2356 481 \nL 2356 0 \nL 1766 0 \nQ 1100 0 847 248 \nQ 594 497 594 1153 \nL 594 3053 \nL 172 3053 \nL 172 3500 \nL 594 3500 \nL 594 4494 \nL 1172 4494 \nz\n\" transform=\"scale(0.015625)\"/>\n       <path id=\"DejaVuSans-72\" d=\"M 2631 2963 \nQ 2534 3019 2420 3045 \nQ 2306 3072 2169 3072 \nQ 1681 3072 1420 2755 \nQ 1159 2438 1159 1844 \nL 1159 0 \nL 581 0 \nL 581 3500 \nL 1159 3500 \nL 1159 2956 \nQ 1341 3275 1631 3429 \nQ 1922 3584 2338 3584 \nQ 2397 3584 2469 3576 \nQ 2541 3569 2628 3553 \nL 2631 2963 \nz\n\" transform=\"scale(0.015625)\"/>\n       <path id=\"DejaVuSans-61\" d=\"M 2194 1759 \nQ 1497 1759 1228 1600 \nQ 959 1441 959 1056 \nQ 959 750 1161 570 \nQ 1363 391 1709 391 \nQ 2188 391 2477 730 \nQ 2766 1069 2766 1631 \nL 2766 1759 \nL 2194 1759 \nz\nM 3341 1997 \nL 3341 0 \nL 2766 0 \nL 2766 531 \nQ 2569 213 2275 61 \nQ 1981 -91 1556 -91 \nQ 1019 -91 701 211 \nQ 384 513 384 1019 \nQ 384 1609 779 1909 \nQ 1175 2209 1959 2209 \nL 2766 2209 \nL 2766 2266 \nQ 2766 2663 2505 2880 \nQ 2244 3097 1772 3097 \nQ 1472 3097 1187 3025 \nQ 903 2953 641 2809 \nL 641 3341 \nQ 956 3463 1253 3523 \nQ 1550 3584 1831 3584 \nQ 2591 3584 2966 3190 \nQ 3341 2797 3341 1997 \nz\n\" transform=\"scale(0.015625)\"/>\n       <path id=\"DejaVuSans-69\" d=\"M 603 3500 \nL 1178 3500 \nL 1178 0 \nL 603 0 \nL 603 3500 \nz\nM 603 4863 \nL 1178 4863 \nL 1178 4134 \nL 603 4134 \nL 603 4863 \nz\n\" transform=\"scale(0.015625)\"/>\n       <path id=\"DejaVuSans-6e\" d=\"M 3513 2113 \nL 3513 0 \nL 2938 0 \nL 2938 2094 \nQ 2938 2591 2744 2837 \nQ 2550 3084 2163 3084 \nQ 1697 3084 1428 2787 \nQ 1159 2491 1159 1978 \nL 1159 0 \nL 581 0 \nL 581 3500 \nL 1159 3500 \nL 1159 2956 \nQ 1366 3272 1645 3428 \nQ 1925 3584 2291 3584 \nQ 2894 3584 3203 3211 \nQ 3513 2838 3513 2113 \nz\n\" transform=\"scale(0.015625)\"/>\n       <path id=\"DejaVuSans-5f\" d=\"M 3263 -1063 \nL 3263 -1509 \nL -63 -1509 \nL -63 -1063 \nL 3263 -1063 \nz\n\" transform=\"scale(0.015625)\"/>\n       <path id=\"DejaVuSans-6c\" d=\"M 603 4863 \nL 1178 4863 \nL 1178 0 \nL 603 0 \nL 603 4863 \nz\n\" transform=\"scale(0.015625)\"/>\n       <path id=\"DejaVuSans-73\" d=\"M 2834 3397 \nL 2834 2853 \nQ 2591 2978 2328 3040 \nQ 2066 3103 1784 3103 \nQ 1356 3103 1142 2972 \nQ 928 2841 928 2578 \nQ 928 2378 1081 2264 \nQ 1234 2150 1697 2047 \nL 1894 2003 \nQ 2506 1872 2764 1633 \nQ 3022 1394 3022 966 \nQ 3022 478 2636 193 \nQ 2250 -91 1575 -91 \nQ 1294 -91 989 -36 \nQ 684 19 347 128 \nL 347 722 \nQ 666 556 975 473 \nQ 1284 391 1588 391 \nQ 1994 391 2212 530 \nQ 2431 669 2431 922 \nQ 2431 1156 2273 1281 \nQ 2116 1406 1581 1522 \nL 1381 1569 \nQ 847 1681 609 1914 \nQ 372 2147 372 2553 \nQ 372 3047 722 3315 \nQ 1072 3584 1716 3584 \nQ 2034 3584 2315 3537 \nQ 2597 3491 2834 3397 \nz\n\" transform=\"scale(0.015625)\"/>\n      </defs>\n      <use xlink:href=\"#DejaVuSans-74\"/>\n      <use xlink:href=\"#DejaVuSans-72\" x=\"39.208984\"/>\n      <use xlink:href=\"#DejaVuSans-61\" x=\"80.322266\"/>\n      <use xlink:href=\"#DejaVuSans-69\" x=\"141.601562\"/>\n      <use xlink:href=\"#DejaVuSans-6e\" x=\"169.384766\"/>\n      <use xlink:href=\"#DejaVuSans-5f\" x=\"232.763672\"/>\n      <use xlink:href=\"#DejaVuSans-6c\" x=\"282.763672\"/>\n      <use xlink:href=\"#DejaVuSans-6f\" x=\"310.546875\"/>\n      <use xlink:href=\"#DejaVuSans-73\" x=\"371.728516\"/>\n      <use xlink:href=\"#DejaVuSans-73\" x=\"423.828125\"/>\n     </g>\n    </g>\n    <g id=\"line2d_128\">\n     <path d=\"M 140.8125 75.620313 \nL 150.8125 75.620313 \nL 160.8125 75.620313 \n\" style=\"fill: none; stroke-dasharray: 5.55,2.4; stroke-dashoffset: 0; stroke: #ff7f0e; stroke-width: 1.5\"/>\n    </g>\n    <g id=\"text_13\">\n     <!-- val_loss -->\n     <g transform=\"translate(168.8125 79.120313) scale(0.1 -0.1)\">\n      <defs>\n       <path id=\"DejaVuSans-76\" d=\"M 191 3500 \nL 800 3500 \nL 1894 563 \nL 2988 3500 \nL 3597 3500 \nL 2284 0 \nL 1503 0 \nL 191 3500 \nz\n\" transform=\"scale(0.015625)\"/>\n      </defs>\n      <use xlink:href=\"#DejaVuSans-76\"/>\n      <use xlink:href=\"#DejaVuSans-61\" x=\"59.179688\"/>\n      <use xlink:href=\"#DejaVuSans-6c\" x=\"120.458984\"/>\n      <use xlink:href=\"#DejaVuSans-5f\" x=\"148.242188\"/>\n      <use xlink:href=\"#DejaVuSans-6c\" x=\"198.242188\"/>\n      <use xlink:href=\"#DejaVuSans-6f\" x=\"226.025391\"/>\n      <use xlink:href=\"#DejaVuSans-73\" x=\"287.207031\"/>\n      <use xlink:href=\"#DejaVuSans-73\" x=\"339.306641\"/>\n     </g>\n    </g>\n    <g id=\"line2d_129\">\n     <path d=\"M 140.8125 90.576563 \nL 150.8125 90.576563 \nL 160.8125 90.576563 \n\" style=\"fill: none; stroke-dasharray: 9.6,2.4,1.5,2.4; stroke-dashoffset: 0; stroke: #2ca02c; stroke-width: 1.5\"/>\n    </g>\n    <g id=\"text_14\">\n     <!-- val_acc -->\n     <g transform=\"translate(168.8125 94.076563) scale(0.1 -0.1)\">\n      <use xlink:href=\"#DejaVuSans-76\"/>\n      <use xlink:href=\"#DejaVuSans-61\" x=\"59.179688\"/>\n      <use xlink:href=\"#DejaVuSans-6c\" x=\"120.458984\"/>\n      <use xlink:href=\"#DejaVuSans-5f\" x=\"148.242188\"/>\n      <use xlink:href=\"#DejaVuSans-61\" x=\"198.242188\"/>\n      <use xlink:href=\"#DejaVuSans-63\" x=\"259.521484\"/>\n      <use xlink:href=\"#DejaVuSans-63\" x=\"314.501953\"/>\n     </g>\n    </g>\n   </g>\n  </g>\n </g>\n <defs>\n  <clipPath id=\"pee63e2885c\">\n   <rect x=\"30.103125\" y=\"7.2\" width=\"195.3\" height=\"138.6\"/>\n  </clipPath>\n </defs>\n</svg>\n",
            "text/plain": [
              "<Figure size 350x250 with 1 Axes>"
            ]
          },
          "metadata": {},
          "output_type": "display_data"
        }
      ],
      "source": [
        "model = DenseNet(lr=0.01)\n",
        "trainer = d2l.Trainer(max_epochs=10, num_gpus=1)\n",
        "data = d2l.FashionMNIST(batch_size=128, resize=(96, 96))\n",
        "trainer.fit(model, data)"
      ]
    },
    {
      "cell_type": "markdown",
      "metadata": {
        "id": "xyLBwzOF4Nrp"
      },
      "source": [
        "### **Exercise 8.7**"
      ]
    },
    {
      "cell_type": "code",
      "execution_count": null,
      "metadata": {
        "id": "q7_K7LEBdh_C"
      },
      "outputs": [],
      "source": [
        "import torch\n",
        "import torch.nn as nn\n",
        "from torch.nn import functional as F\n",
        "import d2l\n",
        "from torchsummary import summary\n",
        "\n",
        "\n",
        "def conv_block(num_channels):\n",
        "    return nn.Sequential(\n",
        "        nn.LazyBatchNorm2d(), nn.ReLU(),\n",
        "        nn.LazyConv2d(num_channels, kernel_size=3, padding=1))\n",
        "\n",
        "def transition_block(num_channels):\n",
        "    return nn.Sequential(\n",
        "        nn.LazyBatchNorm2d(), nn.ReLU(),\n",
        "        nn.LazyConv2d(num_channels, kernel_size=1),\n",
        "        nn.AvgPool2d(kernel_size=2, stride=2))\n",
        "\n",
        "class DenseBlock(nn.Module):\n",
        "    def __init__(self, num_convs, num_channels):\n",
        "        super(DenseBlock, self).__init__()\n",
        "        layer = []\n",
        "        for i in range(num_convs):\n",
        "            layer.append(conv_block(num_channels))\n",
        "        self.net = nn.Sequential(*layer)\n",
        "\n",
        "    def forward(self, X):\n",
        "        for blk in self.net:\n",
        "            Y = blk(X)\n",
        "            # Concatenate input and output of each block along the channels\n",
        "            X = torch.cat((X, Y), dim=1)\n",
        "        return X\n",
        "\n",
        "class DenseNet(d2l.torch.Classifier):\n",
        "    def b1(self):\n",
        "        return nn.Sequential(\n",
        "            nn.LazyConv2d(64, kernel_size=7, stride=2, padding=3),\n",
        "            nn.LazyBatchNorm2d(), nn.ReLU(),\n",
        "            nn.MaxPool2d(kernel_size=3, stride=2, padding=1))\n",
        "\n",
        "    def __init__(self, num_channels=64, growth_rate=32, arch=(4, 4, 4, 4),\n",
        "                 lr=0.1, num_classes=10):\n",
        "        super(DenseNet, self).__init__()\n",
        "        self.save_hyperparameters()\n",
        "        self.net = nn.Sequential(self.b1())\n",
        "        for i, num_convs in enumerate(arch):\n",
        "            self.net.add_module(f'dense_blk{i+1}', DenseBlock(num_convs,\n",
        "                                                              growth_rate))\n",
        "            # The number of output channels in the previous dense block\n",
        "            num_channels += num_convs * growth_rate\n",
        "            # A transition layer that halves the number of channels is added\n",
        "            # between the dense blocks\n",
        "            if i != len(arch) - 1:\n",
        "                num_channels //= 2\n",
        "                self.net.add_module(f'tran_blk{i+1}', transition_block(\n",
        "                    num_channels))\n",
        "        self.net.add_module('last', nn.Sequential(\n",
        "            nn.LazyBatchNorm2d(), nn.ReLU(),\n",
        "            nn.AdaptiveAvgPool2d((1, 1)), nn.Flatten(),\n",
        "            nn.LazyLinear(num_classes)))\n",
        "        self.net.apply(d2l.init_cnn)"
      ]
    },
    {
      "cell_type": "markdown",
      "metadata": {
        "id": "_IrraNVBrhQ0"
      },
      "source": [
        "**1. Why do we use average pooling rather than max-pooling in the transition layer?**\n",
        "* Average pooling mempertahankan lebih banyak informasi penting dari fitur, sehingga memberikan representasi yang umum. Sementara max-pooling hanya mengambil nilai tertinggi dan membuang sisanya.\n",
        "\n",
        "* Di DenseNet, average pooling mengurangi dimensi fitur secara lebih \"halus\", tanpa menghilangkan terlalu banyak detail, sehingga dapat mempertahankan informasi penting saat memperkecil ukuran feature map.\n",
        "\n",
        "* Average pooling membantu menjaga kesinambungan informasi antar layer, sementara max-pooling lebih bersifat selektif dan dapat menghilangkan fitur penting."
      ]
    },
    {
      "cell_type": "markdown",
      "metadata": {
        "id": "EZu1Sy-Rrjld"
      },
      "source": [
        "**2. One of the advantages mentioned in the DenseNet paper is that its model parameters are smaller than those of ResNet. Why is this the case?**\n",
        "* DenseNet menggunakan dense connections, artinya setiap layer menerima input dari semua layer sebelumnya, sehingga mengurangi kebutuhan untuk belajar fitur baru di setiap layer. Sementara, ResNet hanya menggunakan koneksi identitas antar beberapa layer.\n",
        "\n",
        "* Pada DenseNet, jumlah parameter yang perlu dipelajari lebih sedikit. Sementara, ResNet justru membutuhkan lebih banyak parameter karena setiap blok residual di setiap layer harus mempelajari fitur baru.\n",
        "\n",
        "* Pada DenseNet, layers individual cenderung lebih sederhana karena sedikit menghasilkan fitur baru dan mengandalkan fitur yang dihasilkan oleh layer sebelumnya. Sementara pada ResNet, setiap blok residual memiliki lebih banyak filter untuk mempelajari fitur tambahan."
      ]
    },
    {
      "cell_type": "markdown",
      "metadata": {
        "id": "v8PaZb-6roHK"
      },
      "source": [
        "**3. One problem for which DenseNet has been criticized is its high memory consumption.**\n",
        "* Is this really the case? Try to change the input shape to $224 × 224$ to compare the actual GPU memory consumption empirically."
      ]
    },
    {
      "cell_type": "code",
      "execution_count": null,
      "metadata": {
        "id": "8k558Ws7kD9A"
      },
      "outputs": [],
      "source": [
        "data = d2l.FashionMNIST(batch_size=32, resize=(28, 28))\n",
        "model = DenseNet(lr=0.01)\n",
        "model.apply_init([next(iter(data.get_dataloader(True)))[0]], d2l.init_cnn)\n",
        "torch.cuda.reset_peak_memory_stats()\n",
        "torch.cuda.empty_cache()\n",
        "trainer = d2l.Trainer(max_epochs=10, num_gpus=1)\n",
        "trainer.fit(model, data)\n",
        "memory_stats = torch.cuda.memory_stats(device=device)\n",
        "# Print peak memory usage and other memory statistics\n",
        "print(\"Peak memory usage:\", memory_stats[\"allocated_bytes.all.peak\"] / (1024 ** 2), \"MB\")\n",
        "print(\"Current memory usage:\", memory_stats[\"allocated_bytes.all.current\"] / (1024 ** 2), \"MB\")"
      ]
    },
    {
      "cell_type": "code",
      "execution_count": null,
      "metadata": {
        "id": "1mvMyxxikQGs"
      },
      "outputs": [],
      "source": [
        "data = d2l.FashionMNIST(batch_size=32, resize=(224, 224))\n",
        "model = DenseNet(lr=0.01)\n",
        "model.apply_init([next(iter(data.get_dataloader(True)))[0]], d2l.init_cnn)\n",
        "torch.cuda.reset_peak_memory_stats()\n",
        "torch.cuda.empty_cache()\n",
        "trainer = d2l.Trainer(max_epochs=10, num_gpus=1)\n",
        "trainer.fit(model, data)\n",
        "memory_stats = torch.cuda.memory_stats(device=device)\n",
        "# Print peak memory usage and other memory statistics\n",
        "print(\"Peak memory usage:\", memory_stats[\"allocated_bytes.all.peak\"] / (1024 ** 2), \"MB\")\n",
        "print(\"Current memory usage:\", memory_stats[\"allocated_bytes.all.current\"] / (1024 ** 2), \"MB\")"
      ]
    },
    {
      "cell_type": "markdown",
      "metadata": {
        "id": "MIULA583rvdP"
      },
      "source": [
        "* Can you think of an alternative means of reducing the memory consumption? How would you need to change the framework?\n",
        "\n",
        "  * Membatasi jumlah koneksi dense\n",
        "  \n",
        "    Memodifikasi arsitektur jaringan agar hanya menerima input dari sejumlah layer sebelumnya (misal beberapa layer terdekat) akan mengurangi jumlah memori yang dibutuhkan.\n",
        "\n",
        "  * Feature Pruning\n",
        "    \n",
        "    Menghapus atau membatasi fitur yang tidak relevan terhadap kinerja model dengan menambah algoritma pruning ke proses pelatihan model.\n",
        "\n",
        "  * Mixed Precision Training\n",
        "  \n",
        "    Menggunakan precision yang lebih rendah seperti float16 (FP16) untuk penyimpanan dan operasi matematika.\n",
        "\n",
        "  * Checkpointing\n",
        "  \n",
        "    Menambah metode checkpointing untuk menyimpan lebih sedikit intermediate activations selama forward pass dan menghitung ulang beberapa nilai saat backward pass."
      ]
    },
    {
      "cell_type": "markdown",
      "metadata": {
        "id": "y38hRCC3ryDs"
      },
      "source": [
        "**4. Implement the various DenseNet versions presented in Table 1 of the DenseNet paper (Huang et al., 2017).**"
      ]
    },
    {
      "cell_type": "code",
      "source": [
        "import torch\n",
        "from torch import nn\n",
        "import d2l\n",
        "from d2l import torch as d2l_torch"
      ],
      "metadata": {
        "id": "4N2y0eKcC3xE"
      },
      "execution_count": null,
      "outputs": []
    },
    {
      "cell_type": "code",
      "execution_count": null,
      "metadata": {
        "id": "iicdoFwimo1h"
      },
      "outputs": [],
      "source": [
        "def conv_block(num_channels, kernel_size, padding):\n",
        "    return nn.Sequential(\n",
        "        nn.LazyBatchNorm2d(), nn.ReLU(),\n",
        "        nn.LazyConv2d(num_channels, kernel_size=kernel_size, padding=padding))\n",
        "\n",
        "def transition_block(num_channels):\n",
        "    return nn.Sequential(\n",
        "        nn.LazyBatchNorm2d(), nn.ReLU(),\n",
        "        nn.LazyConv2d(num_channels, kernel_size=1),\n",
        "        nn.AvgPool2d(kernel_size=2, stride=2))\n",
        "\n",
        "class DenseBlock(nn.Module):\n",
        "    def __init__(self, convs, num_channels):\n",
        "        super(DenseBlock, self).__init__()\n",
        "        layer = []\n",
        "        for kernel_size, padding in convs:\n",
        "            layer.append(conv_block(num_channels, kernel_size, padding))\n",
        "        self.net = nn.Sequential(*layer)\n",
        "\n",
        "    def forward(self, X):\n",
        "        for blk in self.net:\n",
        "            Y = blk(X)\n",
        "            # Concatenate input and output of each block along the channels\n",
        "            X = torch.cat((X, Y), dim=1)\n",
        "        return X\n",
        "\n",
        "class DenseNet(d2l.torch.Classifier):\n",
        "    def b1(self):\n",
        "        return nn.Sequential(\n",
        "            nn.LazyConv2d(64, kernel_size=7, stride=2, padding=3),\n",
        "            nn.LazyBatchNorm2d(), nn.ReLU(),\n",
        "            nn.MaxPool2d(kernel_size=3, stride=2, padding=1))\n",
        "\n",
        "    def __init__(self, num_channels=64, growth_rate=32, arch=[[[3,1],[3,1]],[[3,1],[3,1]]],lr=0.1, num_classes=10):\n",
        "        super(DenseNet, self).__init__()\n",
        "        self.save_hyperparameters()\n",
        "        self.net = nn.Sequential(self.b1())\n",
        "        for i, convs in enumerate(arch):\n",
        "            self.net.add_module(f'dense_blk{i+1}', DenseBlock(convs, growth_rate))\n",
        "            # The number of output channels in the previous dense block\n",
        "            num_channels += len(convs) * growth_rate\n",
        "            # A transition layer that halves the number of channels is added\n",
        "            # between the dense blocks\n",
        "            if i != len(arch) - 1:\n",
        "                num_channels //= 2\n",
        "                self.net.add_module(f'tran_blk{i+1}', transition_block(\n",
        "                    num_channels))\n",
        "        self.net.add_module('last', nn.Sequential(\n",
        "            nn.LazyBatchNorm2d(), nn.ReLU(),\n",
        "            nn.AdaptiveAvgPool2d((1, 1)), nn.Flatten(),\n",
        "            nn.LazyLinear(num_classes)))\n",
        "        self.net.apply(d2l_torch.init_cnn)"
      ]
    },
    {
      "cell_type": "code",
      "execution_count": null,
      "metadata": {
        "id": "qUcMl9BSmq-x",
        "colab": {
          "base_uri": "https://localhost:8080/"
        },
        "outputId": "430cfd5b-ff90-4c4b-da5c-b190548561cd"
      },
      "outputs": [
        {
          "output_type": "stream",
          "name": "stdout",
          "text": [
            "----------------------------------------------------------------\n",
            "        Layer (type)               Output Shape         Param #\n",
            "================================================================\n",
            "            Conv2d-1         [-1, 64, 112, 112]           3,200\n",
            "       BatchNorm2d-2         [-1, 64, 112, 112]             128\n",
            "              ReLU-3         [-1, 64, 112, 112]               0\n",
            "         MaxPool2d-4           [-1, 64, 56, 56]               0\n",
            "       BatchNorm2d-5           [-1, 64, 56, 56]             128\n",
            "              ReLU-6           [-1, 64, 56, 56]               0\n",
            "            Conv2d-7           [-1, 32, 56, 56]           2,080\n",
            "       BatchNorm2d-8           [-1, 96, 56, 56]             192\n",
            "              ReLU-9           [-1, 96, 56, 56]               0\n",
            "           Conv2d-10           [-1, 32, 56, 56]          27,680\n",
            "      BatchNorm2d-11          [-1, 128, 56, 56]             256\n",
            "             ReLU-12          [-1, 128, 56, 56]               0\n",
            "           Conv2d-13           [-1, 32, 56, 56]           4,128\n",
            "      BatchNorm2d-14          [-1, 160, 56, 56]             320\n",
            "             ReLU-15          [-1, 160, 56, 56]               0\n",
            "           Conv2d-16           [-1, 32, 56, 56]          46,112\n",
            "      BatchNorm2d-17          [-1, 192, 56, 56]             384\n",
            "             ReLU-18          [-1, 192, 56, 56]               0\n",
            "           Conv2d-19           [-1, 32, 56, 56]           6,176\n",
            "      BatchNorm2d-20          [-1, 224, 56, 56]             448\n",
            "             ReLU-21          [-1, 224, 56, 56]               0\n",
            "           Conv2d-22           [-1, 32, 56, 56]          64,544\n",
            "      BatchNorm2d-23          [-1, 256, 56, 56]             512\n",
            "             ReLU-24          [-1, 256, 56, 56]               0\n",
            "           Conv2d-25           [-1, 32, 56, 56]           8,224\n",
            "      BatchNorm2d-26          [-1, 288, 56, 56]             576\n",
            "             ReLU-27          [-1, 288, 56, 56]               0\n",
            "           Conv2d-28           [-1, 32, 56, 56]          82,976\n",
            "      BatchNorm2d-29          [-1, 320, 56, 56]             640\n",
            "             ReLU-30          [-1, 320, 56, 56]               0\n",
            "           Conv2d-31           [-1, 32, 56, 56]          10,272\n",
            "      BatchNorm2d-32          [-1, 352, 56, 56]             704\n",
            "             ReLU-33          [-1, 352, 56, 56]               0\n",
            "           Conv2d-34           [-1, 32, 56, 56]         101,408\n",
            "      BatchNorm2d-35          [-1, 384, 56, 56]             768\n",
            "             ReLU-36          [-1, 384, 56, 56]               0\n",
            "           Conv2d-37           [-1, 32, 56, 56]          12,320\n",
            "      BatchNorm2d-38          [-1, 416, 56, 56]             832\n",
            "             ReLU-39          [-1, 416, 56, 56]               0\n",
            "           Conv2d-40           [-1, 32, 56, 56]         119,840\n",
            "       DenseBlock-41          [-1, 448, 56, 56]               0\n",
            "      BatchNorm2d-42          [-1, 448, 56, 56]             896\n",
            "             ReLU-43          [-1, 448, 56, 56]               0\n",
            "           Conv2d-44          [-1, 224, 56, 56]         100,576\n",
            "        AvgPool2d-45          [-1, 224, 28, 28]               0\n",
            "      BatchNorm2d-46          [-1, 224, 28, 28]             448\n",
            "             ReLU-47          [-1, 224, 28, 28]               0\n",
            "           Conv2d-48           [-1, 32, 28, 28]           7,200\n",
            "      BatchNorm2d-49          [-1, 256, 28, 28]             512\n",
            "             ReLU-50          [-1, 256, 28, 28]               0\n",
            "           Conv2d-51           [-1, 32, 28, 28]          73,760\n",
            "      BatchNorm2d-52          [-1, 288, 28, 28]             576\n",
            "             ReLU-53          [-1, 288, 28, 28]               0\n",
            "           Conv2d-54           [-1, 32, 28, 28]           9,248\n",
            "      BatchNorm2d-55          [-1, 320, 28, 28]             640\n",
            "             ReLU-56          [-1, 320, 28, 28]               0\n",
            "           Conv2d-57           [-1, 32, 28, 28]          92,192\n",
            "      BatchNorm2d-58          [-1, 352, 28, 28]             704\n",
            "             ReLU-59          [-1, 352, 28, 28]               0\n",
            "           Conv2d-60           [-1, 32, 28, 28]          11,296\n",
            "      BatchNorm2d-61          [-1, 384, 28, 28]             768\n",
            "             ReLU-62          [-1, 384, 28, 28]               0\n",
            "           Conv2d-63           [-1, 32, 28, 28]         110,624\n",
            "      BatchNorm2d-64          [-1, 416, 28, 28]             832\n",
            "             ReLU-65          [-1, 416, 28, 28]               0\n",
            "           Conv2d-66           [-1, 32, 28, 28]          13,344\n",
            "      BatchNorm2d-67          [-1, 448, 28, 28]             896\n",
            "             ReLU-68          [-1, 448, 28, 28]               0\n",
            "           Conv2d-69           [-1, 32, 28, 28]         129,056\n",
            "      BatchNorm2d-70          [-1, 480, 28, 28]             960\n",
            "             ReLU-71          [-1, 480, 28, 28]               0\n",
            "           Conv2d-72           [-1, 32, 28, 28]          15,392\n",
            "      BatchNorm2d-73          [-1, 512, 28, 28]           1,024\n",
            "             ReLU-74          [-1, 512, 28, 28]               0\n",
            "           Conv2d-75           [-1, 32, 28, 28]         147,488\n",
            "      BatchNorm2d-76          [-1, 544, 28, 28]           1,088\n",
            "             ReLU-77          [-1, 544, 28, 28]               0\n",
            "           Conv2d-78           [-1, 32, 28, 28]          17,440\n",
            "      BatchNorm2d-79          [-1, 576, 28, 28]           1,152\n",
            "             ReLU-80          [-1, 576, 28, 28]               0\n",
            "           Conv2d-81           [-1, 32, 28, 28]         165,920\n",
            "      BatchNorm2d-82          [-1, 608, 28, 28]           1,216\n",
            "             ReLU-83          [-1, 608, 28, 28]               0\n",
            "           Conv2d-84           [-1, 32, 28, 28]          19,488\n",
            "      BatchNorm2d-85          [-1, 640, 28, 28]           1,280\n",
            "             ReLU-86          [-1, 640, 28, 28]               0\n",
            "           Conv2d-87           [-1, 32, 28, 28]         184,352\n",
            "      BatchNorm2d-88          [-1, 672, 28, 28]           1,344\n",
            "             ReLU-89          [-1, 672, 28, 28]               0\n",
            "           Conv2d-90           [-1, 32, 28, 28]          21,536\n",
            "      BatchNorm2d-91          [-1, 704, 28, 28]           1,408\n",
            "             ReLU-92          [-1, 704, 28, 28]               0\n",
            "           Conv2d-93           [-1, 32, 28, 28]         202,784\n",
            "      BatchNorm2d-94          [-1, 736, 28, 28]           1,472\n",
            "             ReLU-95          [-1, 736, 28, 28]               0\n",
            "           Conv2d-96           [-1, 32, 28, 28]          23,584\n",
            "      BatchNorm2d-97          [-1, 768, 28, 28]           1,536\n",
            "             ReLU-98          [-1, 768, 28, 28]               0\n",
            "           Conv2d-99           [-1, 32, 28, 28]         221,216\n",
            "     BatchNorm2d-100          [-1, 800, 28, 28]           1,600\n",
            "            ReLU-101          [-1, 800, 28, 28]               0\n",
            "          Conv2d-102           [-1, 32, 28, 28]          25,632\n",
            "     BatchNorm2d-103          [-1, 832, 28, 28]           1,664\n",
            "            ReLU-104          [-1, 832, 28, 28]               0\n",
            "          Conv2d-105           [-1, 32, 28, 28]         239,648\n",
            "     BatchNorm2d-106          [-1, 864, 28, 28]           1,728\n",
            "            ReLU-107          [-1, 864, 28, 28]               0\n",
            "          Conv2d-108           [-1, 32, 28, 28]          27,680\n",
            "     BatchNorm2d-109          [-1, 896, 28, 28]           1,792\n",
            "            ReLU-110          [-1, 896, 28, 28]               0\n",
            "          Conv2d-111           [-1, 32, 28, 28]         258,080\n",
            "     BatchNorm2d-112          [-1, 928, 28, 28]           1,856\n",
            "            ReLU-113          [-1, 928, 28, 28]               0\n",
            "          Conv2d-114           [-1, 32, 28, 28]          29,728\n",
            "     BatchNorm2d-115          [-1, 960, 28, 28]           1,920\n",
            "            ReLU-116          [-1, 960, 28, 28]               0\n",
            "          Conv2d-117           [-1, 32, 28, 28]         276,512\n",
            "      DenseBlock-118          [-1, 992, 28, 28]               0\n",
            "     BatchNorm2d-119          [-1, 992, 28, 28]           1,984\n",
            "            ReLU-120          [-1, 992, 28, 28]               0\n",
            "          Conv2d-121          [-1, 496, 28, 28]         492,528\n",
            "       AvgPool2d-122          [-1, 496, 14, 14]               0\n",
            "     BatchNorm2d-123          [-1, 496, 14, 14]             992\n",
            "            ReLU-124          [-1, 496, 14, 14]               0\n",
            "          Conv2d-125           [-1, 32, 14, 14]          15,904\n",
            "     BatchNorm2d-126          [-1, 528, 14, 14]           1,056\n",
            "            ReLU-127          [-1, 528, 14, 14]               0\n",
            "          Conv2d-128           [-1, 32, 14, 14]         152,096\n",
            "     BatchNorm2d-129          [-1, 560, 14, 14]           1,120\n",
            "            ReLU-130          [-1, 560, 14, 14]               0\n",
            "          Conv2d-131           [-1, 32, 14, 14]          17,952\n",
            "     BatchNorm2d-132          [-1, 592, 14, 14]           1,184\n",
            "            ReLU-133          [-1, 592, 14, 14]               0\n",
            "          Conv2d-134           [-1, 32, 14, 14]         170,528\n",
            "     BatchNorm2d-135          [-1, 624, 14, 14]           1,248\n",
            "            ReLU-136          [-1, 624, 14, 14]               0\n",
            "          Conv2d-137           [-1, 32, 14, 14]          20,000\n",
            "     BatchNorm2d-138          [-1, 656, 14, 14]           1,312\n",
            "            ReLU-139          [-1, 656, 14, 14]               0\n",
            "          Conv2d-140           [-1, 32, 14, 14]         188,960\n",
            "     BatchNorm2d-141          [-1, 688, 14, 14]           1,376\n",
            "            ReLU-142          [-1, 688, 14, 14]               0\n",
            "          Conv2d-143           [-1, 32, 14, 14]          22,048\n",
            "     BatchNorm2d-144          [-1, 720, 14, 14]           1,440\n",
            "            ReLU-145          [-1, 720, 14, 14]               0\n",
            "          Conv2d-146           [-1, 32, 14, 14]         207,392\n",
            "     BatchNorm2d-147          [-1, 752, 14, 14]           1,504\n",
            "            ReLU-148          [-1, 752, 14, 14]               0\n",
            "          Conv2d-149           [-1, 32, 14, 14]          24,096\n",
            "     BatchNorm2d-150          [-1, 784, 14, 14]           1,568\n",
            "            ReLU-151          [-1, 784, 14, 14]               0\n",
            "          Conv2d-152           [-1, 32, 14, 14]         225,824\n",
            "     BatchNorm2d-153          [-1, 816, 14, 14]           1,632\n",
            "            ReLU-154          [-1, 816, 14, 14]               0\n",
            "          Conv2d-155           [-1, 32, 14, 14]          26,144\n",
            "     BatchNorm2d-156          [-1, 848, 14, 14]           1,696\n",
            "            ReLU-157          [-1, 848, 14, 14]               0\n",
            "          Conv2d-158           [-1, 32, 14, 14]         244,256\n",
            "     BatchNorm2d-159          [-1, 880, 14, 14]           1,760\n",
            "            ReLU-160          [-1, 880, 14, 14]               0\n",
            "          Conv2d-161           [-1, 32, 14, 14]          28,192\n",
            "     BatchNorm2d-162          [-1, 912, 14, 14]           1,824\n",
            "            ReLU-163          [-1, 912, 14, 14]               0\n",
            "          Conv2d-164           [-1, 32, 14, 14]         262,688\n",
            "     BatchNorm2d-165          [-1, 944, 14, 14]           1,888\n",
            "            ReLU-166          [-1, 944, 14, 14]               0\n",
            "          Conv2d-167           [-1, 32, 14, 14]          30,240\n",
            "     BatchNorm2d-168          [-1, 976, 14, 14]           1,952\n",
            "            ReLU-169          [-1, 976, 14, 14]               0\n",
            "          Conv2d-170           [-1, 32, 14, 14]         281,120\n",
            "     BatchNorm2d-171         [-1, 1008, 14, 14]           2,016\n",
            "            ReLU-172         [-1, 1008, 14, 14]               0\n",
            "          Conv2d-173           [-1, 32, 14, 14]          32,288\n",
            "     BatchNorm2d-174         [-1, 1040, 14, 14]           2,080\n",
            "            ReLU-175         [-1, 1040, 14, 14]               0\n",
            "          Conv2d-176           [-1, 32, 14, 14]         299,552\n",
            "     BatchNorm2d-177         [-1, 1072, 14, 14]           2,144\n",
            "            ReLU-178         [-1, 1072, 14, 14]               0\n",
            "          Conv2d-179           [-1, 32, 14, 14]          34,336\n",
            "     BatchNorm2d-180         [-1, 1104, 14, 14]           2,208\n",
            "            ReLU-181         [-1, 1104, 14, 14]               0\n",
            "          Conv2d-182           [-1, 32, 14, 14]         317,984\n",
            "     BatchNorm2d-183         [-1, 1136, 14, 14]           2,272\n",
            "            ReLU-184         [-1, 1136, 14, 14]               0\n",
            "          Conv2d-185           [-1, 32, 14, 14]          36,384\n",
            "     BatchNorm2d-186         [-1, 1168, 14, 14]           2,336\n",
            "            ReLU-187         [-1, 1168, 14, 14]               0\n",
            "          Conv2d-188           [-1, 32, 14, 14]         336,416\n",
            "     BatchNorm2d-189         [-1, 1200, 14, 14]           2,400\n",
            "            ReLU-190         [-1, 1200, 14, 14]               0\n",
            "          Conv2d-191           [-1, 32, 14, 14]          38,432\n",
            "     BatchNorm2d-192         [-1, 1232, 14, 14]           2,464\n",
            "            ReLU-193         [-1, 1232, 14, 14]               0\n",
            "          Conv2d-194           [-1, 32, 14, 14]         354,848\n",
            "     BatchNorm2d-195         [-1, 1264, 14, 14]           2,528\n",
            "            ReLU-196         [-1, 1264, 14, 14]               0\n",
            "          Conv2d-197           [-1, 32, 14, 14]          40,480\n",
            "     BatchNorm2d-198         [-1, 1296, 14, 14]           2,592\n",
            "            ReLU-199         [-1, 1296, 14, 14]               0\n",
            "          Conv2d-200           [-1, 32, 14, 14]         373,280\n",
            "     BatchNorm2d-201         [-1, 1328, 14, 14]           2,656\n",
            "            ReLU-202         [-1, 1328, 14, 14]               0\n",
            "          Conv2d-203           [-1, 32, 14, 14]          42,528\n",
            "     BatchNorm2d-204         [-1, 1360, 14, 14]           2,720\n",
            "            ReLU-205         [-1, 1360, 14, 14]               0\n",
            "          Conv2d-206           [-1, 32, 14, 14]         391,712\n",
            "     BatchNorm2d-207         [-1, 1392, 14, 14]           2,784\n",
            "            ReLU-208         [-1, 1392, 14, 14]               0\n",
            "          Conv2d-209           [-1, 32, 14, 14]          44,576\n",
            "     BatchNorm2d-210         [-1, 1424, 14, 14]           2,848\n",
            "            ReLU-211         [-1, 1424, 14, 14]               0\n",
            "          Conv2d-212           [-1, 32, 14, 14]         410,144\n",
            "     BatchNorm2d-213         [-1, 1456, 14, 14]           2,912\n",
            "            ReLU-214         [-1, 1456, 14, 14]               0\n",
            "          Conv2d-215           [-1, 32, 14, 14]          46,624\n",
            "     BatchNorm2d-216         [-1, 1488, 14, 14]           2,976\n",
            "            ReLU-217         [-1, 1488, 14, 14]               0\n",
            "          Conv2d-218           [-1, 32, 14, 14]         428,576\n",
            "     BatchNorm2d-219         [-1, 1520, 14, 14]           3,040\n",
            "            ReLU-220         [-1, 1520, 14, 14]               0\n",
            "          Conv2d-221           [-1, 32, 14, 14]          48,672\n",
            "     BatchNorm2d-222         [-1, 1552, 14, 14]           3,104\n",
            "            ReLU-223         [-1, 1552, 14, 14]               0\n",
            "          Conv2d-224           [-1, 32, 14, 14]         447,008\n",
            "     BatchNorm2d-225         [-1, 1584, 14, 14]           3,168\n",
            "            ReLU-226         [-1, 1584, 14, 14]               0\n",
            "          Conv2d-227           [-1, 32, 14, 14]          50,720\n",
            "     BatchNorm2d-228         [-1, 1616, 14, 14]           3,232\n",
            "            ReLU-229         [-1, 1616, 14, 14]               0\n",
            "          Conv2d-230           [-1, 32, 14, 14]         465,440\n",
            "     BatchNorm2d-231         [-1, 1648, 14, 14]           3,296\n",
            "            ReLU-232         [-1, 1648, 14, 14]               0\n",
            "          Conv2d-233           [-1, 32, 14, 14]          52,768\n",
            "     BatchNorm2d-234         [-1, 1680, 14, 14]           3,360\n",
            "            ReLU-235         [-1, 1680, 14, 14]               0\n",
            "          Conv2d-236           [-1, 32, 14, 14]         483,872\n",
            "     BatchNorm2d-237         [-1, 1712, 14, 14]           3,424\n",
            "            ReLU-238         [-1, 1712, 14, 14]               0\n",
            "          Conv2d-239           [-1, 32, 14, 14]          54,816\n",
            "     BatchNorm2d-240         [-1, 1744, 14, 14]           3,488\n",
            "            ReLU-241         [-1, 1744, 14, 14]               0\n",
            "          Conv2d-242           [-1, 32, 14, 14]         502,304\n",
            "     BatchNorm2d-243         [-1, 1776, 14, 14]           3,552\n",
            "            ReLU-244         [-1, 1776, 14, 14]               0\n",
            "          Conv2d-245           [-1, 32, 14, 14]          56,864\n",
            "     BatchNorm2d-246         [-1, 1808, 14, 14]           3,616\n",
            "            ReLU-247         [-1, 1808, 14, 14]               0\n",
            "          Conv2d-248           [-1, 32, 14, 14]         520,736\n",
            "     BatchNorm2d-249         [-1, 1840, 14, 14]           3,680\n",
            "            ReLU-250         [-1, 1840, 14, 14]               0\n",
            "          Conv2d-251           [-1, 32, 14, 14]          58,912\n",
            "     BatchNorm2d-252         [-1, 1872, 14, 14]           3,744\n",
            "            ReLU-253         [-1, 1872, 14, 14]               0\n",
            "          Conv2d-254           [-1, 32, 14, 14]         539,168\n",
            "     BatchNorm2d-255         [-1, 1904, 14, 14]           3,808\n",
            "            ReLU-256         [-1, 1904, 14, 14]               0\n",
            "          Conv2d-257           [-1, 32, 14, 14]          60,960\n",
            "     BatchNorm2d-258         [-1, 1936, 14, 14]           3,872\n",
            "            ReLU-259         [-1, 1936, 14, 14]               0\n",
            "          Conv2d-260           [-1, 32, 14, 14]         557,600\n",
            "     BatchNorm2d-261         [-1, 1968, 14, 14]           3,936\n",
            "            ReLU-262         [-1, 1968, 14, 14]               0\n",
            "          Conv2d-263           [-1, 32, 14, 14]          63,008\n",
            "     BatchNorm2d-264         [-1, 2000, 14, 14]           4,000\n",
            "            ReLU-265         [-1, 2000, 14, 14]               0\n",
            "          Conv2d-266           [-1, 32, 14, 14]         576,032\n",
            "      DenseBlock-267         [-1, 2032, 14, 14]               0\n",
            "     BatchNorm2d-268         [-1, 2032, 14, 14]           4,064\n",
            "            ReLU-269         [-1, 2032, 14, 14]               0\n",
            "          Conv2d-270         [-1, 1016, 14, 14]       2,065,528\n",
            "       AvgPool2d-271           [-1, 1016, 7, 7]               0\n",
            "     BatchNorm2d-272           [-1, 1016, 7, 7]           2,032\n",
            "            ReLU-273           [-1, 1016, 7, 7]               0\n",
            "          Conv2d-274             [-1, 32, 7, 7]          32,544\n",
            "     BatchNorm2d-275           [-1, 1048, 7, 7]           2,096\n",
            "            ReLU-276           [-1, 1048, 7, 7]               0\n",
            "          Conv2d-277             [-1, 32, 7, 7]         301,856\n",
            "     BatchNorm2d-278           [-1, 1080, 7, 7]           2,160\n",
            "            ReLU-279           [-1, 1080, 7, 7]               0\n",
            "          Conv2d-280             [-1, 32, 7, 7]          34,592\n",
            "     BatchNorm2d-281           [-1, 1112, 7, 7]           2,224\n",
            "            ReLU-282           [-1, 1112, 7, 7]               0\n",
            "          Conv2d-283             [-1, 32, 7, 7]         320,288\n",
            "     BatchNorm2d-284           [-1, 1144, 7, 7]           2,288\n",
            "            ReLU-285           [-1, 1144, 7, 7]               0\n",
            "          Conv2d-286             [-1, 32, 7, 7]          36,640\n",
            "     BatchNorm2d-287           [-1, 1176, 7, 7]           2,352\n",
            "            ReLU-288           [-1, 1176, 7, 7]               0\n",
            "          Conv2d-289             [-1, 32, 7, 7]         338,720\n",
            "     BatchNorm2d-290           [-1, 1208, 7, 7]           2,416\n",
            "            ReLU-291           [-1, 1208, 7, 7]               0\n",
            "          Conv2d-292             [-1, 32, 7, 7]          38,688\n",
            "     BatchNorm2d-293           [-1, 1240, 7, 7]           2,480\n",
            "            ReLU-294           [-1, 1240, 7, 7]               0\n",
            "          Conv2d-295             [-1, 32, 7, 7]         357,152\n",
            "     BatchNorm2d-296           [-1, 1272, 7, 7]           2,544\n",
            "            ReLU-297           [-1, 1272, 7, 7]               0\n",
            "          Conv2d-298             [-1, 32, 7, 7]          40,736\n",
            "     BatchNorm2d-299           [-1, 1304, 7, 7]           2,608\n",
            "            ReLU-300           [-1, 1304, 7, 7]               0\n",
            "          Conv2d-301             [-1, 32, 7, 7]         375,584\n",
            "     BatchNorm2d-302           [-1, 1336, 7, 7]           2,672\n",
            "            ReLU-303           [-1, 1336, 7, 7]               0\n",
            "          Conv2d-304             [-1, 32, 7, 7]          42,784\n",
            "     BatchNorm2d-305           [-1, 1368, 7, 7]           2,736\n",
            "            ReLU-306           [-1, 1368, 7, 7]               0\n",
            "          Conv2d-307             [-1, 32, 7, 7]         394,016\n",
            "     BatchNorm2d-308           [-1, 1400, 7, 7]           2,800\n",
            "            ReLU-309           [-1, 1400, 7, 7]               0\n",
            "          Conv2d-310             [-1, 32, 7, 7]          44,832\n",
            "     BatchNorm2d-311           [-1, 1432, 7, 7]           2,864\n",
            "            ReLU-312           [-1, 1432, 7, 7]               0\n",
            "          Conv2d-313             [-1, 32, 7, 7]         412,448\n",
            "     BatchNorm2d-314           [-1, 1464, 7, 7]           2,928\n",
            "            ReLU-315           [-1, 1464, 7, 7]               0\n",
            "          Conv2d-316             [-1, 32, 7, 7]          46,880\n",
            "     BatchNorm2d-317           [-1, 1496, 7, 7]           2,992\n",
            "            ReLU-318           [-1, 1496, 7, 7]               0\n",
            "          Conv2d-319             [-1, 32, 7, 7]         430,880\n",
            "     BatchNorm2d-320           [-1, 1528, 7, 7]           3,056\n",
            "            ReLU-321           [-1, 1528, 7, 7]               0\n",
            "          Conv2d-322             [-1, 32, 7, 7]          48,928\n",
            "     BatchNorm2d-323           [-1, 1560, 7, 7]           3,120\n",
            "            ReLU-324           [-1, 1560, 7, 7]               0\n",
            "          Conv2d-325             [-1, 32, 7, 7]         449,312\n",
            "     BatchNorm2d-326           [-1, 1592, 7, 7]           3,184\n",
            "            ReLU-327           [-1, 1592, 7, 7]               0\n",
            "          Conv2d-328             [-1, 32, 7, 7]          50,976\n",
            "     BatchNorm2d-329           [-1, 1624, 7, 7]           3,248\n",
            "            ReLU-330           [-1, 1624, 7, 7]               0\n",
            "          Conv2d-331             [-1, 32, 7, 7]         467,744\n",
            "     BatchNorm2d-332           [-1, 1656, 7, 7]           3,312\n",
            "            ReLU-333           [-1, 1656, 7, 7]               0\n",
            "          Conv2d-334             [-1, 32, 7, 7]          53,024\n",
            "     BatchNorm2d-335           [-1, 1688, 7, 7]           3,376\n",
            "            ReLU-336           [-1, 1688, 7, 7]               0\n",
            "          Conv2d-337             [-1, 32, 7, 7]         486,176\n",
            "     BatchNorm2d-338           [-1, 1720, 7, 7]           3,440\n",
            "            ReLU-339           [-1, 1720, 7, 7]               0\n",
            "          Conv2d-340             [-1, 32, 7, 7]          55,072\n",
            "     BatchNorm2d-341           [-1, 1752, 7, 7]           3,504\n",
            "            ReLU-342           [-1, 1752, 7, 7]               0\n",
            "          Conv2d-343             [-1, 32, 7, 7]         504,608\n",
            "     BatchNorm2d-344           [-1, 1784, 7, 7]           3,568\n",
            "            ReLU-345           [-1, 1784, 7, 7]               0\n",
            "          Conv2d-346             [-1, 32, 7, 7]          57,120\n",
            "     BatchNorm2d-347           [-1, 1816, 7, 7]           3,632\n",
            "            ReLU-348           [-1, 1816, 7, 7]               0\n",
            "          Conv2d-349             [-1, 32, 7, 7]         523,040\n",
            "     BatchNorm2d-350           [-1, 1848, 7, 7]           3,696\n",
            "            ReLU-351           [-1, 1848, 7, 7]               0\n",
            "          Conv2d-352             [-1, 32, 7, 7]          59,168\n",
            "     BatchNorm2d-353           [-1, 1880, 7, 7]           3,760\n",
            "            ReLU-354           [-1, 1880, 7, 7]               0\n",
            "          Conv2d-355             [-1, 32, 7, 7]         541,472\n",
            "     BatchNorm2d-356           [-1, 1912, 7, 7]           3,824\n",
            "            ReLU-357           [-1, 1912, 7, 7]               0\n",
            "          Conv2d-358             [-1, 32, 7, 7]          61,216\n",
            "     BatchNorm2d-359           [-1, 1944, 7, 7]           3,888\n",
            "            ReLU-360           [-1, 1944, 7, 7]               0\n",
            "          Conv2d-361             [-1, 32, 7, 7]         559,904\n",
            "     BatchNorm2d-362           [-1, 1976, 7, 7]           3,952\n",
            "            ReLU-363           [-1, 1976, 7, 7]               0\n",
            "          Conv2d-364             [-1, 32, 7, 7]          63,264\n",
            "     BatchNorm2d-365           [-1, 2008, 7, 7]           4,016\n",
            "            ReLU-366           [-1, 2008, 7, 7]               0\n",
            "          Conv2d-367             [-1, 32, 7, 7]         578,336\n",
            "      DenseBlock-368           [-1, 2040, 7, 7]               0\n",
            "     BatchNorm2d-369           [-1, 2040, 7, 7]           4,080\n",
            "            ReLU-370           [-1, 2040, 7, 7]               0\n",
            "AdaptiveAvgPool2d-371           [-1, 2040, 1, 1]               0\n",
            "         Flatten-372                 [-1, 2040]               0\n",
            "          Linear-373                   [-1, 10]          20,410\n",
            "================================================================\n",
            "Total params: 23,245,586\n",
            "Trainable params: 23,245,586\n",
            "Non-trainable params: 0\n",
            "----------------------------------------------------------------\n",
            "Input size (MB): 0.19\n",
            "Forward/backward pass size (MB): 633.18\n",
            "Params size (MB): 88.67\n",
            "Estimated Total Size (MB): 722.05\n",
            "----------------------------------------------------------------\n"
          ]
        }
      ],
      "source": [
        "data = d2l.torch.FashionMNIST(batch_size=32, resize=(224, 224))\n",
        "arch121 = ([[[1,0],[3,1]]*6,[[1,0],[3,1]]*12,[[1,0],[3,1]]*24,[[1,0],[3,1]]*16])\n",
        "densenet121 = DenseNet(lr=0.01, arch=arch121)\n",
        "densenet121.apply_init([next(iter(data.get_dataloader(True)))[0]], d2l_torch.init_cnn)\n",
        "summary(densenet121, (1, 224, 224))"
      ]
    },
    {
      "cell_type": "code",
      "execution_count": null,
      "metadata": {
        "id": "_1XvhMLmmu9q"
      },
      "outputs": [],
      "source": [
        "arch169 = ([[[1,0],[3,1]]*6,[[1,0],[3,1]]*12,[[1,0],[3,1]]*32,[[1,0],[3,1]]*32])\n",
        "densenet169 = DenseNet(lr=0.01, arch=arch169)"
      ]
    },
    {
      "cell_type": "code",
      "execution_count": null,
      "metadata": {
        "id": "b512Czlpmxh6"
      },
      "outputs": [],
      "source": [
        "arch201 = ([[[1,0],[3,1]]*6,[[1,0],[3,1]]*12,[[1,0],[3,1]]*48,[[1,0],[3,1]]*32])\n",
        "densenet201 = DenseNet(lr=0.01, arch=arch201)"
      ]
    },
    {
      "cell_type": "code",
      "execution_count": null,
      "metadata": {
        "id": "EQGS-_dFmzeN"
      },
      "outputs": [],
      "source": [
        "arch264 = ([[[1,0],[3,1]]*6,[[1,0],[3,1]]*12,[[1,0],[3,1]]*64,[[1,0],[3,1]]*48])\n",
        "densenet264 = DenseNet(lr=0.01, arch=arch264)"
      ]
    },
    {
      "cell_type": "markdown",
      "metadata": {
        "id": "peG8-dcdr07K"
      },
      "source": [
        "**5. Design an MLP-based model by applying the DenseNet idea. Apply it to the housing price prediction task in Section 5.7.**"
      ]
    },
    {
      "cell_type": "code",
      "execution_count": null,
      "metadata": {
        "id": "B17hruTF4P0L"
      },
      "outputs": [],
      "source": [
        "import pandas as pd\n",
        "import time\n",
        "from tqdm import tqdm\n",
        "import torch\n",
        "import torchvision\n",
        "from torchvision import transforms\n",
        "import torch.nn as nn\n",
        "import matplotlib.pyplot as plt\n",
        "import cProfile\n",
        "import d2l\n",
        "from torchsummary import summary\n",
        "\n",
        "class KaggleHouse(d2l.torch.DataModule):\n",
        "    def __init__(self, batch_size, train=None, val=None):\n",
        "        super().__init__()\n",
        "        self.save_hyperparameters()\n",
        "        if train is None:\n",
        "            self.raw_train = pd.read_csv(d2l.data_hub.download(d2l.DATA_URL+ 'kaggle_house_pred_train.csv', self.root,\n",
        "                sha1_hash='585e9cc93e70b39160e7921475f9bcd7d31219ce'))\n",
        "            self.raw_val = pd.read_csv(d2l.data_hub.download(\n",
        "                d2l.DATA_URL + 'kaggle_house_pred_test.csv', self.root,\n",
        "                sha1_hash='fa19780a7b011d9b009e8bff8e99922a8ee2eb90'))\n",
        "\n",
        "    def preprocess(self, std_flag=True):\n",
        "        label = 'SalePrice'\n",
        "        features = pd.concat((self.raw_train.drop(columns=['Id',label]),\n",
        "                              self.raw_val.drop(columns=['Id'])))\n",
        "        numeric_features = features.dtypes[features.dtypes!='object'].index\n",
        "        if std_flag:\n",
        "            features[numeric_features] = features[numeric_features].apply(lambda x: (x-x.mean())/x.std())\n",
        "        features[numeric_features] = features[numeric_features].fillna(0)\n",
        "        features = pd.get_dummies(features, dummy_na=True)\n",
        "        self.train = features[:self.raw_train.shape[0]].copy()\n",
        "        self.train[label] = self.raw_train[label]\n",
        "        self.val = features[self.raw_train.shape[0]:].copy()\n",
        "\n",
        "    def get_dataloader(self, train):\n",
        "        label = 'SalePrice'\n",
        "        data = self.train if train else self.val\n",
        "        if label not in data:\n",
        "            return\n",
        "        get_tensor = lambda x: torch.tensor(x.values.astype(float), dtype=torch.float32)\n",
        "        # tensors = (get_tensor(data.drop(columns=[label])),\n",
        "        #            torch.log(get_tensor(data[label])).reshape(-1,1))\n",
        "        tensors = (get_tensor(data.drop(columns=[label])),  # X\n",
        "               torch.log(get_tensor(data[label])).reshape((-1, 1)))  # Y\n",
        "        return self.get_tensorloader(tensors, train)\n",
        "\n",
        "def k_fold_data(data,k):\n",
        "    rets = []\n",
        "    fold_size = data.train.shape[0] // k\n",
        "    for j in range(k):\n",
        "        idx = range(j*fold_size,(j+1)*fold_size)\n",
        "        rets.append(KaggleHouse(data.batch_size,data.train.drop(index=idx),data.train.iloc[idx]))\n",
        "    return rets\n",
        "\n",
        "def k_fold(trainer, data, k, ModelClass,hparams,plot_flag=True):\n",
        "    val_loss, models = [], []\n",
        "    for i, data_fold in enumerate(k_fold_data(data,k)):\n",
        "        model = ModelClass(**hparams)\n",
        "        model.board.yscale='log'\n",
        "        if not plot_flag or i != 0:\n",
        "            model.board.display=False\n",
        "        trainer.fit(model,data_fold)\n",
        "        val_loss.append(float(model.board.data['val_loss'][-1].y))\n",
        "        models.append(model)\n",
        "    avg_val_loss = sum(val_loss)/len(val_loss)\n",
        "    print(f'average validation log mse = {avg_val_loss}, params:{hparams}')\n",
        "    return models, avg_val_loss\n",
        "\n",
        "\n",
        "\n",
        "class HouseResMLP(d2l.torch.LinearRegression):\n",
        "    def __init__(self, num_outputs, num_hiddens, lr, dropouts, weight_decay):\n",
        "        super().__init__(lr)\n",
        "        self.save_hyperparameters()\n",
        "        layers = [nn.Flatten()]\n",
        "        for i in range(len(num_hiddens)):\n",
        "            layers.append(nn.Sequential(nn.LazyLinear(num_hiddens[i]),\n",
        "                                        nn.ReLU(),\n",
        "                                        nn.Dropout(dropouts[i]),\n",
        "                                        nn.LazyBatchNorm1d(),\n",
        "                                        ))\n",
        "        layers.append(nn.LazyLinear(num_outputs))\n",
        "        self.net = nn.Sequential(*layers)\n",
        "\n",
        "    def forward(self, X):\n",
        "        X = self.net[0](X)\n",
        "        for blk in self.net[1:-1]:\n",
        "            Y = blk(X)\n",
        "            # Concatenate input and output of each block along the channels\n",
        "            X = torch.cat((X, Y), dim=1)\n",
        "        return self.net[-1](X)\n",
        "\n",
        "# class HouseDenseBlock(nn.Module):\n",
        "#     def __init__(self, num_hiddens):\n",
        "#         super().__init__()\n",
        "#         layer = []\n",
        "#         for i in range(len(num_hiddens)):\n",
        "#             layer.append(nn.Sequential(nn.LazyLinear(num_hiddens[i]),\n",
        "#                                         nn.LazyBatchNorm1d(), nn.ReLU(),\n",
        "#                                         ))\n",
        "#         self.net = nn.Sequential(*layer)\n",
        "\n",
        "#     def forward(self, X):\n",
        "#         for blk in self.net:\n",
        "#             Y = blk(X)\n",
        "#             # Concatenate input and output of each block along the channels\n",
        "#             X = torch.cat((X, Y), dim=1)\n",
        "#         return X\n",
        "\n",
        "# def transition_block():\n",
        "#     return nn.Sequential(\n",
        "#         nn.LazyBatchNorm1d(), nn.ReLU(),\n",
        "#         nn.AvgPool1d(kernel_size=2, stride=2))\n",
        "\n",
        "# class HouseResMLP(d2l.LinearRegression):\n",
        "#     def __init__(self, num_outputs, arch, lr, dropouts, weight_decay):\n",
        "#         super().__init__(lr)\n",
        "#         self.save_hyperparameters()\n",
        "#         layers = [nn.Flatten()]\n",
        "#         for num_hiddens in arch:\n",
        "#             layers.append(HouseDenseBlock(num_hiddens))\n",
        "#             # layers.append(nn.LazyLinear(sum(num_hiddens)//4))\n",
        "#         layers.append(nn.LazyLinear(num_outputs))\n",
        "#         self.net = nn.Sequential(*layers)\n",
        "\n",
        "#     def forward(self, X):\n",
        "#         return self.net(X)\n",
        "\n",
        "#     def configure_optimizers(self):\n",
        "#         return torch.optim.SGD(self.parameters(), lr=self.lr, weight_decay=self.weight_decay)"
      ]
    },
    {
      "cell_type": "code",
      "execution_count": null,
      "metadata": {
        "id": "O2w4dEC7nOLq",
        "colab": {
          "base_uri": "https://localhost:8080/"
        },
        "outputId": "b7a14a20-cd60-454b-beb7-ed92d00029cc"
      },
      "outputs": [
        {
          "output_type": "stream",
          "name": "stdout",
          "text": [
            "----------------------------------------------------------------\n",
            "        Layer (type)               Output Shape         Param #\n",
            "================================================================\n",
            "           Flatten-1                   [-1, 80]               0\n",
            "            Linear-2                   [-1, 64]           5,184\n",
            "              ReLU-3                   [-1, 64]               0\n",
            "           Dropout-4                   [-1, 64]               0\n",
            "       BatchNorm1d-5                   [-1, 64]             128\n",
            "            Linear-6                   [-1, 32]           4,640\n",
            "              ReLU-7                   [-1, 32]               0\n",
            "           Dropout-8                   [-1, 32]               0\n",
            "       BatchNorm1d-9                   [-1, 32]              64\n",
            "           Linear-10                   [-1, 16]           2,832\n",
            "             ReLU-11                   [-1, 16]               0\n",
            "          Dropout-12                   [-1, 16]               0\n",
            "      BatchNorm1d-13                   [-1, 16]              32\n",
            "           Linear-14                    [-1, 8]           1,544\n",
            "             ReLU-15                    [-1, 8]               0\n",
            "          Dropout-16                    [-1, 8]               0\n",
            "      BatchNorm1d-17                    [-1, 8]              16\n",
            "           Linear-18                    [-1, 1]             201\n",
            "================================================================\n",
            "Total params: 14,641\n",
            "Trainable params: 14,641\n",
            "Non-trainable params: 0\n",
            "----------------------------------------------------------------\n",
            "Input size (MB): 0.00\n",
            "Forward/backward pass size (MB): 0.00\n",
            "Params size (MB): 0.06\n",
            "Estimated Total Size (MB): 0.06\n",
            "----------------------------------------------------------------\n"
          ]
        }
      ],
      "source": [
        "hparams = {'dropouts': [0]*5,\n",
        " 'lr': 0.01,\n",
        " 'num_hiddens': [64,32,16,8],\n",
        " 'num_outputs': 1,\n",
        " 'weight_decay': 0}\n",
        "model = HouseResMLP(**hparams)\n",
        "summary(model,(1,80))"
      ]
    },
    {
      "cell_type": "code",
      "execution_count": null,
      "metadata": {
        "id": "C1f_PIiCnMoN"
      },
      "outputs": [],
      "source": [
        "data = KaggleHouse(batch_size=64)\n",
        "print(data.raw_train.shape, data.raw_val.shape)\n",
        "data.preprocess()"
      ]
    },
    {
      "cell_type": "code",
      "execution_count": null,
      "metadata": {
        "id": "BXmtsUVDnVYH"
      },
      "outputs": [],
      "source": [
        "hparams = {'dropouts': [0]*5,\n",
        " 'lr': 0.01,\n",
        " 'num_hiddens': [64,32,16,8],\n",
        " 'num_outputs': 1,\n",
        " 'weight_decay': 0}\n",
        "trainer = d2l.torch.Trainer(max_epochs=10)\n",
        "models,avg_val_loss = k_fold(trainer, data, k=5,ModelClass=HouseResMLP,hparams=hparams,plot_flag=True)"
      ]
    },
    {
      "cell_type": "code",
      "execution_count": null,
      "metadata": {
        "id": "-onYvDXknfKo"
      },
      "outputs": [],
      "source": [
        "preds = [model(torch.tensor(data.val.values.astype(float), dtype=torch.float32)) for model in models]\n",
        "ensemble_preds = torch.exp(torch.cat(preds,1)).mean(1)\n",
        "submission = pd.DataFrame({'Id':data.raw_val.Id,'SalePrice':ensemble_preds.detach().numpy()})\n",
        "submission.to_csv('submission.csv', index=False)"
      ]
    },
    {
      "cell_type": "markdown",
      "metadata": {
        "id": "9zAu12ok4QU7"
      },
      "source": [
        "### **8.8 Designing Convolution Network Architectures**"
      ]
    },
    {
      "cell_type": "code",
      "execution_count": null,
      "metadata": {
        "id": "ekBLhlR7HCep"
      },
      "outputs": [],
      "source": [
        "import torch\n",
        "from torch import nn\n",
        "from torch.nn import functional as F\n",
        "from d2l import torch as d2l\n",
        "from d2l.torch import Classifier"
      ]
    },
    {
      "cell_type": "code",
      "execution_count": null,
      "metadata": {
        "id": "vsaXxT8q4VQ8"
      },
      "outputs": [],
      "source": [
        "class AnyNet(d2l.Classifier):\n",
        "    def stem(self, num_channels):\n",
        "        return nn.Sequential(\n",
        "            nn.LazyConv2d(num_channels, kernel_size=3, stride=2, padding=1),\n",
        "            nn.LazyBatchNorm2d(), nn.ReLU())"
      ]
    },
    {
      "cell_type": "code",
      "execution_count": null,
      "metadata": {
        "id": "RwPAIQh04ZZX"
      },
      "outputs": [],
      "source": [
        "@d2l.add_to_class(AnyNet)\n",
        "def stage(self, depth, num_channels, groups, bot_mul):\n",
        "    blk = []\n",
        "    for i in range(depth):\n",
        "        if i == 0:\n",
        "            blk.append(d2l.ResNeXtBlock(num_channels, groups, bot_mul,\n",
        "                use_1x1conv=True, strides=2))\n",
        "        else:\n",
        "            blk.append(d2l.ResNeXtBlock(num_channels, groups, bot_mul))\n",
        "    return nn.Sequential(*blk)"
      ]
    },
    {
      "cell_type": "code",
      "execution_count": null,
      "metadata": {
        "id": "F74Dogd74be_"
      },
      "outputs": [],
      "source": [
        "@d2l.add_to_class(AnyNet)\n",
        "def __init__(self, arch, stem_channels, lr=0.1, num_classes=10):\n",
        "    super(AnyNet, self).__init__()\n",
        "    self.save_hyperparameters()\n",
        "    self.net = nn.Sequential(self.stem(stem_channels))\n",
        "    for i, s in enumerate(arch):\n",
        "        self.net.add_module(f'stage{i+1}', self.stage(*s))\n",
        "    self.net.add_module('head', nn.Sequential(\n",
        "        nn.AdaptiveAvgPool2d((1, 1)), nn.Flatten(),\n",
        "        nn.LazyLinear(num_classes)))\n",
        "    self.net.apply(d2l.init_cnn)"
      ]
    },
    {
      "cell_type": "code",
      "execution_count": null,
      "metadata": {
        "id": "CB5b386G4ePF"
      },
      "outputs": [],
      "source": [
        "class RegNetX32(AnyNet):\n",
        "    def __init__(self, lr=0.1, num_classes=10):\n",
        "        stem_channels, groups, bot_mul = 32, 16, 1\n",
        "        depths, channels = (4, 6), (32, 80)\n",
        "        super().__init__(\n",
        "            ((depths[0], channels[0], groups, bot_mul),\n",
        "             (depths[1], channels[1], groups, bot_mul)),\n",
        "            stem_channels, lr, num_classes)"
      ]
    },
    {
      "cell_type": "code",
      "execution_count": null,
      "metadata": {
        "colab": {
          "base_uri": "https://localhost:8080/"
        },
        "id": "2LlRNQlw4f1F",
        "outputId": "9ef71fba-10d9-4961-b45f-e5dcb93fe4ec"
      },
      "outputs": [
        {
          "output_type": "stream",
          "name": "stdout",
          "text": [
            "Sequential output shape:\t torch.Size([1, 32, 48, 48])\n",
            "Sequential output shape:\t torch.Size([1, 32, 24, 24])\n",
            "Sequential output shape:\t torch.Size([1, 80, 12, 12])\n",
            "Sequential output shape:\t torch.Size([1, 10])\n"
          ]
        }
      ],
      "source": [
        "RegNetX32().layer_summary((1, 1, 96, 96))"
      ]
    },
    {
      "cell_type": "code",
      "execution_count": null,
      "metadata": {
        "colab": {
          "background_save": true,
          "base_uri": "https://localhost:8080/",
          "height": 265
        },
        "id": "T8gBglJk4hjC",
        "outputId": "7b0da1fd-862e-4575-b572-2e01807074fa"
      },
      "outputs": [
        {
          "data": {
            "image/svg+xml": "<?xml version=\"1.0\" encoding=\"utf-8\" standalone=\"no\"?>\n<!DOCTYPE svg PUBLIC \"-//W3C//DTD SVG 1.1//EN\"\n  \"http://www.w3.org/Graphics/SVG/1.1/DTD/svg11.dtd\">\n<svg xmlns:xlink=\"http://www.w3.org/1999/xlink\" width=\"238.965625pt\" height=\"183.35625pt\" viewBox=\"0 0 238.965625 183.35625\" xmlns=\"http://www.w3.org/2000/svg\" version=\"1.1\">\n <metadata>\n  <rdf:RDF xmlns:dc=\"http://purl.org/dc/elements/1.1/\" xmlns:cc=\"http://creativecommons.org/ns#\" xmlns:rdf=\"http://www.w3.org/1999/02/22-rdf-syntax-ns#\">\n   <cc:Work>\n    <dc:type rdf:resource=\"http://purl.org/dc/dcmitype/StillImage\"/>\n    <dc:date>2024-09-27T01:45:05.506432</dc:date>\n    <dc:format>image/svg+xml</dc:format>\n    <dc:creator>\n     <cc:Agent>\n      <dc:title>Matplotlib v3.7.2, https://matplotlib.org/</dc:title>\n     </cc:Agent>\n    </dc:creator>\n   </cc:Work>\n  </rdf:RDF>\n </metadata>\n <defs>\n  <style type=\"text/css\">*{stroke-linejoin: round; stroke-linecap: butt}</style>\n </defs>\n <g id=\"figure_1\">\n  <g id=\"patch_1\">\n   <path d=\"M 0 183.35625 \nL 238.965625 183.35625 \nL 238.965625 0 \nL 0 0 \nz\n\" style=\"fill: #ffffff\"/>\n  </g>\n  <g id=\"axes_1\">\n   <g id=\"patch_2\">\n    <path d=\"M 30.103125 145.8 \nL 225.403125 145.8 \nL 225.403125 7.2 \nL 30.103125 7.2 \nz\n\" style=\"fill: #ffffff\"/>\n   </g>\n   <g id=\"matplotlib.axis_1\">\n    <g id=\"xtick_1\">\n     <g id=\"line2d_1\">\n      <defs>\n       <path id=\"mdcb235fe9b\" d=\"M 0 0 \nL 0 3.5 \n\" style=\"stroke: #000000; stroke-width: 0.8\"/>\n      </defs>\n      <g>\n       <use xlink:href=\"#mdcb235fe9b\" x=\"30.103125\" y=\"145.8\" style=\"stroke: #000000; stroke-width: 0.8\"/>\n      </g>\n     </g>\n     <g id=\"text_1\">\n      <!-- 0 -->\n      <g transform=\"translate(26.921875 160.398438) scale(0.1 -0.1)\">\n       <defs>\n        <path id=\"DejaVuSans-30\" d=\"M 2034 4250 \nQ 1547 4250 1301 3770 \nQ 1056 3291 1056 2328 \nQ 1056 1369 1301 889 \nQ 1547 409 2034 409 \nQ 2525 409 2770 889 \nQ 3016 1369 3016 2328 \nQ 3016 3291 2770 3770 \nQ 2525 4250 2034 4250 \nz\nM 2034 4750 \nQ 2819 4750 3233 4129 \nQ 3647 3509 3647 2328 \nQ 3647 1150 3233 529 \nQ 2819 -91 2034 -91 \nQ 1250 -91 836 529 \nQ 422 1150 422 2328 \nQ 422 3509 836 4129 \nQ 1250 4750 2034 4750 \nz\n\" transform=\"scale(0.015625)\"/>\n       </defs>\n       <use xlink:href=\"#DejaVuSans-30\"/>\n      </g>\n     </g>\n    </g>\n    <g id=\"xtick_2\">\n     <g id=\"line2d_2\">\n      <g>\n       <use xlink:href=\"#mdcb235fe9b\" x=\"69.163125\" y=\"145.8\" style=\"stroke: #000000; stroke-width: 0.8\"/>\n      </g>\n     </g>\n     <g id=\"text_2\">\n      <!-- 2 -->\n      <g transform=\"translate(65.981875 160.398438) scale(0.1 -0.1)\">\n       <defs>\n        <path id=\"DejaVuSans-32\" d=\"M 1228 531 \nL 3431 531 \nL 3431 0 \nL 469 0 \nL 469 531 \nQ 828 903 1448 1529 \nQ 2069 2156 2228 2338 \nQ 2531 2678 2651 2914 \nQ 2772 3150 2772 3378 \nQ 2772 3750 2511 3984 \nQ 2250 4219 1831 4219 \nQ 1534 4219 1204 4116 \nQ 875 4013 500 3803 \nL 500 4441 \nQ 881 4594 1212 4672 \nQ 1544 4750 1819 4750 \nQ 2544 4750 2975 4387 \nQ 3406 4025 3406 3419 \nQ 3406 3131 3298 2873 \nQ 3191 2616 2906 2266 \nQ 2828 2175 2409 1742 \nQ 1991 1309 1228 531 \nz\n\" transform=\"scale(0.015625)\"/>\n       </defs>\n       <use xlink:href=\"#DejaVuSans-32\"/>\n      </g>\n     </g>\n    </g>\n    <g id=\"xtick_3\">\n     <g id=\"line2d_3\">\n      <g>\n       <use xlink:href=\"#mdcb235fe9b\" x=\"108.223125\" y=\"145.8\" style=\"stroke: #000000; stroke-width: 0.8\"/>\n      </g>\n     </g>\n     <g id=\"text_3\">\n      <!-- 4 -->\n      <g transform=\"translate(105.041875 160.398438) scale(0.1 -0.1)\">\n       <defs>\n        <path id=\"DejaVuSans-34\" d=\"M 2419 4116 \nL 825 1625 \nL 2419 1625 \nL 2419 4116 \nz\nM 2253 4666 \nL 3047 4666 \nL 3047 1625 \nL 3713 1625 \nL 3713 1100 \nL 3047 1100 \nL 3047 0 \nL 2419 0 \nL 2419 1100 \nL 313 1100 \nL 313 1709 \nL 2253 4666 \nz\n\" transform=\"scale(0.015625)\"/>\n       </defs>\n       <use xlink:href=\"#DejaVuSans-34\"/>\n      </g>\n     </g>\n    </g>\n    <g id=\"xtick_4\">\n     <g id=\"line2d_4\">\n      <g>\n       <use xlink:href=\"#mdcb235fe9b\" x=\"147.283125\" y=\"145.8\" style=\"stroke: #000000; stroke-width: 0.8\"/>\n      </g>\n     </g>\n     <g id=\"text_4\">\n      <!-- 6 -->\n      <g transform=\"translate(144.101875 160.398438) scale(0.1 -0.1)\">\n       <defs>\n        <path id=\"DejaVuSans-36\" d=\"M 2113 2584 \nQ 1688 2584 1439 2293 \nQ 1191 2003 1191 1497 \nQ 1191 994 1439 701 \nQ 1688 409 2113 409 \nQ 2538 409 2786 701 \nQ 3034 994 3034 1497 \nQ 3034 2003 2786 2293 \nQ 2538 2584 2113 2584 \nz\nM 3366 4563 \nL 3366 3988 \nQ 3128 4100 2886 4159 \nQ 2644 4219 2406 4219 \nQ 1781 4219 1451 3797 \nQ 1122 3375 1075 2522 \nQ 1259 2794 1537 2939 \nQ 1816 3084 2150 3084 \nQ 2853 3084 3261 2657 \nQ 3669 2231 3669 1497 \nQ 3669 778 3244 343 \nQ 2819 -91 2113 -91 \nQ 1303 -91 875 529 \nQ 447 1150 447 2328 \nQ 447 3434 972 4092 \nQ 1497 4750 2381 4750 \nQ 2619 4750 2861 4703 \nQ 3103 4656 3366 4563 \nz\n\" transform=\"scale(0.015625)\"/>\n       </defs>\n       <use xlink:href=\"#DejaVuSans-36\"/>\n      </g>\n     </g>\n    </g>\n    <g id=\"xtick_5\">\n     <g id=\"line2d_5\">\n      <g>\n       <use xlink:href=\"#mdcb235fe9b\" x=\"186.343125\" y=\"145.8\" style=\"stroke: #000000; stroke-width: 0.8\"/>\n      </g>\n     </g>\n     <g id=\"text_5\">\n      <!-- 8 -->\n      <g transform=\"translate(183.161875 160.398438) scale(0.1 -0.1)\">\n       <defs>\n        <path id=\"DejaVuSans-38\" d=\"M 2034 2216 \nQ 1584 2216 1326 1975 \nQ 1069 1734 1069 1313 \nQ 1069 891 1326 650 \nQ 1584 409 2034 409 \nQ 2484 409 2743 651 \nQ 3003 894 3003 1313 \nQ 3003 1734 2745 1975 \nQ 2488 2216 2034 2216 \nz\nM 1403 2484 \nQ 997 2584 770 2862 \nQ 544 3141 544 3541 \nQ 544 4100 942 4425 \nQ 1341 4750 2034 4750 \nQ 2731 4750 3128 4425 \nQ 3525 4100 3525 3541 \nQ 3525 3141 3298 2862 \nQ 3072 2584 2669 2484 \nQ 3125 2378 3379 2068 \nQ 3634 1759 3634 1313 \nQ 3634 634 3220 271 \nQ 2806 -91 2034 -91 \nQ 1263 -91 848 271 \nQ 434 634 434 1313 \nQ 434 1759 690 2068 \nQ 947 2378 1403 2484 \nz\nM 1172 3481 \nQ 1172 3119 1398 2916 \nQ 1625 2713 2034 2713 \nQ 2441 2713 2670 2916 \nQ 2900 3119 2900 3481 \nQ 2900 3844 2670 4047 \nQ 2441 4250 2034 4250 \nQ 1625 4250 1398 4047 \nQ 1172 3844 1172 3481 \nz\n\" transform=\"scale(0.015625)\"/>\n       </defs>\n       <use xlink:href=\"#DejaVuSans-38\"/>\n      </g>\n     </g>\n    </g>\n    <g id=\"xtick_6\">\n     <g id=\"line2d_6\">\n      <g>\n       <use xlink:href=\"#mdcb235fe9b\" x=\"225.403125\" y=\"145.8\" style=\"stroke: #000000; stroke-width: 0.8\"/>\n      </g>\n     </g>\n     <g id=\"text_6\">\n      <!-- 10 -->\n      <g transform=\"translate(219.040625 160.398438) scale(0.1 -0.1)\">\n       <defs>\n        <path id=\"DejaVuSans-31\" d=\"M 794 531 \nL 1825 531 \nL 1825 4091 \nL 703 3866 \nL 703 4441 \nL 1819 4666 \nL 2450 4666 \nL 2450 531 \nL 3481 531 \nL 3481 0 \nL 794 0 \nL 794 531 \nz\n\" transform=\"scale(0.015625)\"/>\n       </defs>\n       <use xlink:href=\"#DejaVuSans-31\"/>\n       <use xlink:href=\"#DejaVuSans-30\" x=\"63.623047\"/>\n      </g>\n     </g>\n    </g>\n    <g id=\"text_7\">\n     <!-- epoch -->\n     <g transform=\"translate(112.525 174.076563) scale(0.1 -0.1)\">\n      <defs>\n       <path id=\"DejaVuSans-65\" d=\"M 3597 1894 \nL 3597 1613 \nL 953 1613 \nQ 991 1019 1311 708 \nQ 1631 397 2203 397 \nQ 2534 397 2845 478 \nQ 3156 559 3463 722 \nL 3463 178 \nQ 3153 47 2828 -22 \nQ 2503 -91 2169 -91 \nQ 1331 -91 842 396 \nQ 353 884 353 1716 \nQ 353 2575 817 3079 \nQ 1281 3584 2069 3584 \nQ 2775 3584 3186 3129 \nQ 3597 2675 3597 1894 \nz\nM 3022 2063 \nQ 3016 2534 2758 2815 \nQ 2500 3097 2075 3097 \nQ 1594 3097 1305 2825 \nQ 1016 2553 972 2059 \nL 3022 2063 \nz\n\" transform=\"scale(0.015625)\"/>\n       <path id=\"DejaVuSans-70\" d=\"M 1159 525 \nL 1159 -1331 \nL 581 -1331 \nL 581 3500 \nL 1159 3500 \nL 1159 2969 \nQ 1341 3281 1617 3432 \nQ 1894 3584 2278 3584 \nQ 2916 3584 3314 3078 \nQ 3713 2572 3713 1747 \nQ 3713 922 3314 415 \nQ 2916 -91 2278 -91 \nQ 1894 -91 1617 61 \nQ 1341 213 1159 525 \nz\nM 3116 1747 \nQ 3116 2381 2855 2742 \nQ 2594 3103 2138 3103 \nQ 1681 3103 1420 2742 \nQ 1159 2381 1159 1747 \nQ 1159 1113 1420 752 \nQ 1681 391 2138 391 \nQ 2594 391 2855 752 \nQ 3116 1113 3116 1747 \nz\n\" transform=\"scale(0.015625)\"/>\n       <path id=\"DejaVuSans-6f\" d=\"M 1959 3097 \nQ 1497 3097 1228 2736 \nQ 959 2375 959 1747 \nQ 959 1119 1226 758 \nQ 1494 397 1959 397 \nQ 2419 397 2687 759 \nQ 2956 1122 2956 1747 \nQ 2956 2369 2687 2733 \nQ 2419 3097 1959 3097 \nz\nM 1959 3584 \nQ 2709 3584 3137 3096 \nQ 3566 2609 3566 1747 \nQ 3566 888 3137 398 \nQ 2709 -91 1959 -91 \nQ 1206 -91 779 398 \nQ 353 888 353 1747 \nQ 353 2609 779 3096 \nQ 1206 3584 1959 3584 \nz\n\" transform=\"scale(0.015625)\"/>\n       <path id=\"DejaVuSans-63\" d=\"M 3122 3366 \nL 3122 2828 \nQ 2878 2963 2633 3030 \nQ 2388 3097 2138 3097 \nQ 1578 3097 1268 2742 \nQ 959 2388 959 1747 \nQ 959 1106 1268 751 \nQ 1578 397 2138 397 \nQ 2388 397 2633 464 \nQ 2878 531 3122 666 \nL 3122 134 \nQ 2881 22 2623 -34 \nQ 2366 -91 2075 -91 \nQ 1284 -91 818 406 \nQ 353 903 353 1747 \nQ 353 2603 823 3093 \nQ 1294 3584 2113 3584 \nQ 2378 3584 2631 3529 \nQ 2884 3475 3122 3366 \nz\n\" transform=\"scale(0.015625)\"/>\n       <path id=\"DejaVuSans-68\" d=\"M 3513 2113 \nL 3513 0 \nL 2938 0 \nL 2938 2094 \nQ 2938 2591 2744 2837 \nQ 2550 3084 2163 3084 \nQ 1697 3084 1428 2787 \nQ 1159 2491 1159 1978 \nL 1159 0 \nL 581 0 \nL 581 4863 \nL 1159 4863 \nL 1159 2956 \nQ 1366 3272 1645 3428 \nQ 1925 3584 2291 3584 \nQ 2894 3584 3203 3211 \nQ 3513 2838 3513 2113 \nz\n\" transform=\"scale(0.015625)\"/>\n      </defs>\n      <use xlink:href=\"#DejaVuSans-65\"/>\n      <use xlink:href=\"#DejaVuSans-70\" x=\"61.523438\"/>\n      <use xlink:href=\"#DejaVuSans-6f\" x=\"125\"/>\n      <use xlink:href=\"#DejaVuSans-63\" x=\"186.181641\"/>\n      <use xlink:href=\"#DejaVuSans-68\" x=\"241.162109\"/>\n     </g>\n    </g>\n   </g>\n   <g id=\"matplotlib.axis_2\">\n    <g id=\"ytick_1\">\n     <g id=\"line2d_7\">\n      <defs>\n       <path id=\"mc4974da322\" d=\"M 0 0 \nL -3.5 0 \n\" style=\"stroke: #000000; stroke-width: 0.8\"/>\n      </defs>\n      <g>\n       <use xlink:href=\"#mc4974da322\" x=\"30.103125\" y=\"133.483873\" style=\"stroke: #000000; stroke-width: 0.8\"/>\n      </g>\n     </g>\n     <g id=\"text_8\">\n      <!-- 0.2 -->\n      <g transform=\"translate(7.2 137.283092) scale(0.1 -0.1)\">\n       <defs>\n        <path id=\"DejaVuSans-2e\" d=\"M 684 794 \nL 1344 794 \nL 1344 0 \nL 684 0 \nL 684 794 \nz\n\" transform=\"scale(0.015625)\"/>\n       </defs>\n       <use xlink:href=\"#DejaVuSans-30\"/>\n       <use xlink:href=\"#DejaVuSans-2e\" x=\"63.623047\"/>\n       <use xlink:href=\"#DejaVuSans-32\" x=\"95.410156\"/>\n      </g>\n     </g>\n    </g>\n    <g id=\"ytick_2\">\n     <g id=\"line2d_8\">\n      <g>\n       <use xlink:href=\"#mc4974da322\" x=\"30.103125\" y=\"101.514809\" style=\"stroke: #000000; stroke-width: 0.8\"/>\n      </g>\n     </g>\n     <g id=\"text_9\">\n      <!-- 0.4 -->\n      <g transform=\"translate(7.2 105.314027) scale(0.1 -0.1)\">\n       <use xlink:href=\"#DejaVuSans-30\"/>\n       <use xlink:href=\"#DejaVuSans-2e\" x=\"63.623047\"/>\n       <use xlink:href=\"#DejaVuSans-34\" x=\"95.410156\"/>\n      </g>\n     </g>\n    </g>\n    <g id=\"ytick_3\">\n     <g id=\"line2d_9\">\n      <g>\n       <use xlink:href=\"#mc4974da322\" x=\"30.103125\" y=\"69.545744\" style=\"stroke: #000000; stroke-width: 0.8\"/>\n      </g>\n     </g>\n     <g id=\"text_10\">\n      <!-- 0.6 -->\n      <g transform=\"translate(7.2 73.344963) scale(0.1 -0.1)\">\n       <use xlink:href=\"#DejaVuSans-30\"/>\n       <use xlink:href=\"#DejaVuSans-2e\" x=\"63.623047\"/>\n       <use xlink:href=\"#DejaVuSans-36\" x=\"95.410156\"/>\n      </g>\n     </g>\n    </g>\n    <g id=\"ytick_4\">\n     <g id=\"line2d_10\">\n      <g>\n       <use xlink:href=\"#mc4974da322\" x=\"30.103125\" y=\"37.57668\" style=\"stroke: #000000; stroke-width: 0.8\"/>\n      </g>\n     </g>\n     <g id=\"text_11\">\n      <!-- 0.8 -->\n      <g transform=\"translate(7.2 41.375898) scale(0.1 -0.1)\">\n       <use xlink:href=\"#DejaVuSans-30\"/>\n       <use xlink:href=\"#DejaVuSans-2e\" x=\"63.623047\"/>\n       <use xlink:href=\"#DejaVuSans-38\" x=\"95.410156\"/>\n      </g>\n     </g>\n    </g>\n   </g>\n   <g id=\"line2d_11\">\n    <path d=\"M 34.954394 13.5 \n\" clip-path=\"url(#p0091141a4f)\" style=\"fill: none; stroke: #1f77b4; stroke-width: 1.5; stroke-linecap: square\"/>\n   </g>\n   <g id=\"line2d_12\">\n    <path d=\"M 34.954394 13.5 \nL 44.698573 86.305779 \n\" clip-path=\"url(#p0091141a4f)\" style=\"fill: none; stroke: #1f77b4; stroke-width: 1.5; stroke-linecap: square\"/>\n   </g>\n   <g id=\"line2d_13\">\n    <path d=\"M 34.954394 13.5 \nL 44.698573 86.305779 \n\" clip-path=\"url(#p0091141a4f)\" style=\"fill: none; stroke: #1f77b4; stroke-width: 1.5; stroke-linecap: square\"/>\n   </g>\n   <g id=\"line2d_14\">\n    <path d=\"M 49.633125 70.798045 \n\" clip-path=\"url(#p0091141a4f)\" style=\"fill: none; stroke-dasharray: 5.55,2.4; stroke-dashoffset: 0; stroke: #ff7f0e; stroke-width: 1.5\"/>\n   </g>\n   <g id=\"line2d_15\"/>\n   <g id=\"line2d_16\">\n    <path d=\"M 34.954394 13.5 \nL 44.698573 86.305779 \n\" clip-path=\"url(#p0091141a4f)\" style=\"fill: none; stroke: #1f77b4; stroke-width: 1.5; stroke-linecap: square\"/>\n   </g>\n   <g id=\"line2d_17\">\n    <path d=\"M 49.633125 70.798045 \n\" clip-path=\"url(#p0091141a4f)\" style=\"fill: none; stroke-dasharray: 5.55,2.4; stroke-dashoffset: 0; stroke: #ff7f0e; stroke-width: 1.5\"/>\n   </g>\n   <g id=\"line2d_18\">\n    <path d=\"M 49.633125 40.858314 \n\" clip-path=\"url(#p0091141a4f)\" style=\"fill: none; stroke-dasharray: 9.6,2.4,1.5,2.4; stroke-dashoffset: 0; stroke: #2ca02c; stroke-width: 1.5\"/>\n   </g>\n   <g id=\"line2d_19\">\n    <path d=\"M 34.954394 13.5 \nL 44.698573 86.305779 \nL 54.442752 102.163019 \n\" clip-path=\"url(#p0091141a4f)\" style=\"fill: none; stroke: #1f77b4; stroke-width: 1.5; stroke-linecap: square\"/>\n   </g>\n   <g id=\"line2d_20\">\n    <path d=\"M 49.633125 70.798045 \n\" clip-path=\"url(#p0091141a4f)\" style=\"fill: none; stroke-dasharray: 5.55,2.4; stroke-dashoffset: 0; stroke: #ff7f0e; stroke-width: 1.5\"/>\n   </g>\n   <g id=\"line2d_21\">\n    <path d=\"M 49.633125 40.858314 \n\" clip-path=\"url(#p0091141a4f)\" style=\"fill: none; stroke-dasharray: 9.6,2.4,1.5,2.4; stroke-dashoffset: 0; stroke: #2ca02c; stroke-width: 1.5\"/>\n   </g>\n   <g id=\"line2d_22\">\n    <path d=\"M 34.954394 13.5 \nL 44.698573 86.305779 \nL 54.442752 102.163019 \nL 64.186931 110.195572 \n\" clip-path=\"url(#p0091141a4f)\" style=\"fill: none; stroke: #1f77b4; stroke-width: 1.5; stroke-linecap: square\"/>\n   </g>\n   <g id=\"line2d_23\">\n    <path d=\"M 49.633125 70.798045 \n\" clip-path=\"url(#p0091141a4f)\" style=\"fill: none; stroke-dasharray: 5.55,2.4; stroke-dashoffset: 0; stroke: #ff7f0e; stroke-width: 1.5\"/>\n   </g>\n   <g id=\"line2d_24\">\n    <path d=\"M 49.633125 40.858314 \n\" clip-path=\"url(#p0091141a4f)\" style=\"fill: none; stroke-dasharray: 9.6,2.4,1.5,2.4; stroke-dashoffset: 0; stroke: #2ca02c; stroke-width: 1.5\"/>\n   </g>\n   <g id=\"line2d_25\">\n    <path d=\"M 34.954394 13.5 \nL 44.698573 86.305779 \nL 54.442752 102.163019 \nL 64.186931 110.195572 \n\" clip-path=\"url(#p0091141a4f)\" style=\"fill: none; stroke: #1f77b4; stroke-width: 1.5; stroke-linecap: square\"/>\n   </g>\n   <g id=\"line2d_26\">\n    <path d=\"M 49.633125 70.798045 \nL 69.163125 96.438365 \n\" clip-path=\"url(#p0091141a4f)\" style=\"fill: none; stroke-dasharray: 5.55,2.4; stroke-dashoffset: 0; stroke: #ff7f0e; stroke-width: 1.5\"/>\n   </g>\n   <g id=\"line2d_27\">\n    <path d=\"M 49.633125 40.858314 \n\" clip-path=\"url(#p0091141a4f)\" style=\"fill: none; stroke-dasharray: 9.6,2.4,1.5,2.4; stroke-dashoffset: 0; stroke: #2ca02c; stroke-width: 1.5\"/>\n   </g>\n   <g id=\"line2d_28\">\n    <path d=\"M 34.954394 13.5 \nL 44.698573 86.305779 \nL 54.442752 102.163019 \nL 64.186931 110.195572 \n\" clip-path=\"url(#p0091141a4f)\" style=\"fill: none; stroke: #1f77b4; stroke-width: 1.5; stroke-linecap: square\"/>\n   </g>\n   <g id=\"line2d_29\">\n    <path d=\"M 49.633125 70.798045 \nL 69.163125 96.438365 \n\" clip-path=\"url(#p0091141a4f)\" style=\"fill: none; stroke-dasharray: 5.55,2.4; stroke-dashoffset: 0; stroke: #ff7f0e; stroke-width: 1.5\"/>\n   </g>\n   <g id=\"line2d_30\">\n    <path d=\"M 49.633125 40.858314 \nL 69.163125 30.109222 \n\" clip-path=\"url(#p0091141a4f)\" style=\"fill: none; stroke-dasharray: 9.6,2.4,1.5,2.4; stroke-dashoffset: 0; stroke: #2ca02c; stroke-width: 1.5\"/>\n   </g>\n   <g id=\"line2d_31\">\n    <path d=\"M 34.954394 13.5 \nL 44.698573 86.305779 \nL 54.442752 102.163019 \nL 64.186931 110.195572 \nL 73.93111 115.26256 \n\" clip-path=\"url(#p0091141a4f)\" style=\"fill: none; stroke: #1f77b4; stroke-width: 1.5; stroke-linecap: square\"/>\n   </g>\n   <g id=\"line2d_32\">\n    <path d=\"M 49.633125 70.798045 \nL 69.163125 96.438365 \n\" clip-path=\"url(#p0091141a4f)\" style=\"fill: none; stroke-dasharray: 5.55,2.4; stroke-dashoffset: 0; stroke: #ff7f0e; stroke-width: 1.5\"/>\n   </g>\n   <g id=\"line2d_33\">\n    <path d=\"M 49.633125 40.858314 \nL 69.163125 30.109222 \n\" clip-path=\"url(#p0091141a4f)\" style=\"fill: none; stroke-dasharray: 9.6,2.4,1.5,2.4; stroke-dashoffset: 0; stroke: #2ca02c; stroke-width: 1.5\"/>\n   </g>\n   <g id=\"line2d_34\">\n    <path d=\"M 34.954394 13.5 \nL 44.698573 86.305779 \nL 54.442752 102.163019 \nL 64.186931 110.195572 \nL 73.93111 115.26256 \nL 83.675289 117.316989 \n\" clip-path=\"url(#p0091141a4f)\" style=\"fill: none; stroke: #1f77b4; stroke-width: 1.5; stroke-linecap: square\"/>\n   </g>\n   <g id=\"line2d_35\">\n    <path d=\"M 49.633125 70.798045 \nL 69.163125 96.438365 \n\" clip-path=\"url(#p0091141a4f)\" style=\"fill: none; stroke-dasharray: 5.55,2.4; stroke-dashoffset: 0; stroke: #ff7f0e; stroke-width: 1.5\"/>\n   </g>\n   <g id=\"line2d_36\">\n    <path d=\"M 49.633125 40.858314 \nL 69.163125 30.109222 \n\" clip-path=\"url(#p0091141a4f)\" style=\"fill: none; stroke-dasharray: 9.6,2.4,1.5,2.4; stroke-dashoffset: 0; stroke: #2ca02c; stroke-width: 1.5\"/>\n   </g>\n   <g id=\"line2d_37\">\n    <path d=\"M 34.954394 13.5 \nL 44.698573 86.305779 \nL 54.442752 102.163019 \nL 64.186931 110.195572 \nL 73.93111 115.26256 \nL 83.675289 117.316989 \n\" clip-path=\"url(#p0091141a4f)\" style=\"fill: none; stroke: #1f77b4; stroke-width: 1.5; stroke-linecap: square\"/>\n   </g>\n   <g id=\"line2d_38\">\n    <path d=\"M 49.633125 70.798045 \nL 69.163125 96.438365 \nL 88.693125 104.976174 \n\" clip-path=\"url(#p0091141a4f)\" style=\"fill: none; stroke-dasharray: 5.55,2.4; stroke-dashoffset: 0; stroke: #ff7f0e; stroke-width: 1.5\"/>\n   </g>\n   <g id=\"line2d_39\">\n    <path d=\"M 49.633125 40.858314 \nL 69.163125 30.109222 \n\" clip-path=\"url(#p0091141a4f)\" style=\"fill: none; stroke-dasharray: 9.6,2.4,1.5,2.4; stroke-dashoffset: 0; stroke: #2ca02c; stroke-width: 1.5\"/>\n   </g>\n   <g id=\"line2d_40\">\n    <path d=\"M 34.954394 13.5 \nL 44.698573 86.305779 \nL 54.442752 102.163019 \nL 64.186931 110.195572 \nL 73.93111 115.26256 \nL 83.675289 117.316989 \n\" clip-path=\"url(#p0091141a4f)\" style=\"fill: none; stroke: #1f77b4; stroke-width: 1.5; stroke-linecap: square\"/>\n   </g>\n   <g id=\"line2d_41\">\n    <path d=\"M 49.633125 70.798045 \nL 69.163125 96.438365 \nL 88.693125 104.976174 \n\" clip-path=\"url(#p0091141a4f)\" style=\"fill: none; stroke-dasharray: 5.55,2.4; stroke-dashoffset: 0; stroke: #ff7f0e; stroke-width: 1.5\"/>\n   </g>\n   <g id=\"line2d_42\">\n    <path d=\"M 49.633125 40.858314 \nL 69.163125 30.109222 \nL 88.693125 28.386206 \n\" clip-path=\"url(#p0091141a4f)\" style=\"fill: none; stroke-dasharray: 9.6,2.4,1.5,2.4; stroke-dashoffset: 0; stroke: #2ca02c; stroke-width: 1.5\"/>\n   </g>\n   <g id=\"line2d_43\">\n    <path d=\"M 34.954394 13.5 \nL 44.698573 86.305779 \nL 54.442752 102.163019 \nL 64.186931 110.195572 \nL 73.93111 115.26256 \nL 83.675289 117.316989 \nL 93.419468 122.518628 \n\" clip-path=\"url(#p0091141a4f)\" style=\"fill: none; stroke: #1f77b4; stroke-width: 1.5; stroke-linecap: square\"/>\n   </g>\n   <g id=\"line2d_44\">\n    <path d=\"M 49.633125 70.798045 \nL 69.163125 96.438365 \nL 88.693125 104.976174 \n\" clip-path=\"url(#p0091141a4f)\" style=\"fill: none; stroke-dasharray: 5.55,2.4; stroke-dashoffset: 0; stroke: #ff7f0e; stroke-width: 1.5\"/>\n   </g>\n   <g id=\"line2d_45\">\n    <path d=\"M 49.633125 40.858314 \nL 69.163125 30.109222 \nL 88.693125 28.386206 \n\" clip-path=\"url(#p0091141a4f)\" style=\"fill: none; stroke-dasharray: 9.6,2.4,1.5,2.4; stroke-dashoffset: 0; stroke: #2ca02c; stroke-width: 1.5\"/>\n   </g>\n   <g id=\"line2d_46\">\n    <path d=\"M 34.954394 13.5 \nL 44.698573 86.305779 \nL 54.442752 102.163019 \nL 64.186931 110.195572 \nL 73.93111 115.26256 \nL 83.675289 117.316989 \nL 93.419468 122.518628 \nL 103.163647 122.516077 \n\" clip-path=\"url(#p0091141a4f)\" style=\"fill: none; stroke: #1f77b4; stroke-width: 1.5; stroke-linecap: square\"/>\n   </g>\n   <g id=\"line2d_47\">\n    <path d=\"M 49.633125 70.798045 \nL 69.163125 96.438365 \nL 88.693125 104.976174 \n\" clip-path=\"url(#p0091141a4f)\" style=\"fill: none; stroke-dasharray: 5.55,2.4; stroke-dashoffset: 0; stroke: #ff7f0e; stroke-width: 1.5\"/>\n   </g>\n   <g id=\"line2d_48\">\n    <path d=\"M 49.633125 40.858314 \nL 69.163125 30.109222 \nL 88.693125 28.386206 \n\" clip-path=\"url(#p0091141a4f)\" style=\"fill: none; stroke-dasharray: 9.6,2.4,1.5,2.4; stroke-dashoffset: 0; stroke: #2ca02c; stroke-width: 1.5\"/>\n   </g>\n   <g id=\"line2d_49\">\n    <path d=\"M 34.954394 13.5 \nL 44.698573 86.305779 \nL 54.442752 102.163019 \nL 64.186931 110.195572 \nL 73.93111 115.26256 \nL 83.675289 117.316989 \nL 93.419468 122.518628 \nL 103.163647 122.516077 \n\" clip-path=\"url(#p0091141a4f)\" style=\"fill: none; stroke: #1f77b4; stroke-width: 1.5; stroke-linecap: square\"/>\n   </g>\n   <g id=\"line2d_50\">\n    <path d=\"M 49.633125 70.798045 \nL 69.163125 96.438365 \nL 88.693125 104.976174 \nL 108.223125 97.361496 \n\" clip-path=\"url(#p0091141a4f)\" style=\"fill: none; stroke-dasharray: 5.55,2.4; stroke-dashoffset: 0; stroke: #ff7f0e; stroke-width: 1.5\"/>\n   </g>\n   <g id=\"line2d_51\">\n    <path d=\"M 49.633125 40.858314 \nL 69.163125 30.109222 \nL 88.693125 28.386206 \n\" clip-path=\"url(#p0091141a4f)\" style=\"fill: none; stroke-dasharray: 9.6,2.4,1.5,2.4; stroke-dashoffset: 0; stroke: #2ca02c; stroke-width: 1.5\"/>\n   </g>\n   <g id=\"line2d_52\">\n    <path d=\"M 34.954394 13.5 \nL 44.698573 86.305779 \nL 54.442752 102.163019 \nL 64.186931 110.195572 \nL 73.93111 115.26256 \nL 83.675289 117.316989 \nL 93.419468 122.518628 \nL 103.163647 122.516077 \n\" clip-path=\"url(#p0091141a4f)\" style=\"fill: none; stroke: #1f77b4; stroke-width: 1.5; stroke-linecap: square\"/>\n   </g>\n   <g id=\"line2d_53\">\n    <path d=\"M 49.633125 70.798045 \nL 69.163125 96.438365 \nL 88.693125 104.976174 \nL 108.223125 97.361496 \n\" clip-path=\"url(#p0091141a4f)\" style=\"fill: none; stroke-dasharray: 5.55,2.4; stroke-dashoffset: 0; stroke: #ff7f0e; stroke-width: 1.5\"/>\n   </g>\n   <g id=\"line2d_54\">\n    <path d=\"M 49.633125 40.858314 \nL 69.163125 30.109222 \nL 88.693125 28.386206 \nL 108.223125 27.769714 \n\" clip-path=\"url(#p0091141a4f)\" style=\"fill: none; stroke-dasharray: 9.6,2.4,1.5,2.4; stroke-dashoffset: 0; stroke: #2ca02c; stroke-width: 1.5\"/>\n   </g>\n   <g id=\"line2d_55\">\n    <path d=\"M 34.954394 13.5 \nL 44.698573 86.305779 \nL 54.442752 102.163019 \nL 64.186931 110.195572 \nL 73.93111 115.26256 \nL 83.675289 117.316989 \nL 93.419468 122.518628 \nL 103.163647 122.516077 \nL 112.907826 126.233528 \n\" clip-path=\"url(#p0091141a4f)\" style=\"fill: none; stroke: #1f77b4; stroke-width: 1.5; stroke-linecap: square\"/>\n   </g>\n   <g id=\"line2d_56\">\n    <path d=\"M 49.633125 70.798045 \nL 69.163125 96.438365 \nL 88.693125 104.976174 \nL 108.223125 97.361496 \n\" clip-path=\"url(#p0091141a4f)\" style=\"fill: none; stroke-dasharray: 5.55,2.4; stroke-dashoffset: 0; stroke: #ff7f0e; stroke-width: 1.5\"/>\n   </g>\n   <g id=\"line2d_57\">\n    <path d=\"M 49.633125 40.858314 \nL 69.163125 30.109222 \nL 88.693125 28.386206 \nL 108.223125 27.769714 \n\" clip-path=\"url(#p0091141a4f)\" style=\"fill: none; stroke-dasharray: 9.6,2.4,1.5,2.4; stroke-dashoffset: 0; stroke: #2ca02c; stroke-width: 1.5\"/>\n   </g>\n   <g id=\"line2d_58\">\n    <path d=\"M 34.954394 13.5 \nL 44.698573 86.305779 \nL 54.442752 102.163019 \nL 64.186931 110.195572 \nL 73.93111 115.26256 \nL 83.675289 117.316989 \nL 93.419468 122.518628 \nL 103.163647 122.516077 \nL 112.907826 126.233528 \nL 122.652006 127.281542 \n\" clip-path=\"url(#p0091141a4f)\" style=\"fill: none; stroke: #1f77b4; stroke-width: 1.5; stroke-linecap: square\"/>\n   </g>\n   <g id=\"line2d_59\">\n    <path d=\"M 49.633125 70.798045 \nL 69.163125 96.438365 \nL 88.693125 104.976174 \nL 108.223125 97.361496 \n\" clip-path=\"url(#p0091141a4f)\" style=\"fill: none; stroke-dasharray: 5.55,2.4; stroke-dashoffset: 0; stroke: #ff7f0e; stroke-width: 1.5\"/>\n   </g>\n   <g id=\"line2d_60\">\n    <path d=\"M 49.633125 40.858314 \nL 69.163125 30.109222 \nL 88.693125 28.386206 \nL 108.223125 27.769714 \n\" clip-path=\"url(#p0091141a4f)\" style=\"fill: none; stroke-dasharray: 9.6,2.4,1.5,2.4; stroke-dashoffset: 0; stroke: #2ca02c; stroke-width: 1.5\"/>\n   </g>\n   <g id=\"line2d_61\">\n    <path d=\"M 34.954394 13.5 \nL 44.698573 86.305779 \nL 54.442752 102.163019 \nL 64.186931 110.195572 \nL 73.93111 115.26256 \nL 83.675289 117.316989 \nL 93.419468 122.518628 \nL 103.163647 122.516077 \nL 112.907826 126.233528 \nL 122.652006 127.281542 \n\" clip-path=\"url(#p0091141a4f)\" style=\"fill: none; stroke: #1f77b4; stroke-width: 1.5; stroke-linecap: square\"/>\n   </g>\n   <g id=\"line2d_62\">\n    <path d=\"M 49.633125 70.798045 \nL 69.163125 96.438365 \nL 88.693125 104.976174 \nL 108.223125 97.361496 \nL 127.753125 117.110747 \n\" clip-path=\"url(#p0091141a4f)\" style=\"fill: none; stroke-dasharray: 5.55,2.4; stroke-dashoffset: 0; stroke: #ff7f0e; stroke-width: 1.5\"/>\n   </g>\n   <g id=\"line2d_63\">\n    <path d=\"M 49.633125 40.858314 \nL 69.163125 30.109222 \nL 88.693125 28.386206 \nL 108.223125 27.769714 \n\" clip-path=\"url(#p0091141a4f)\" style=\"fill: none; stroke-dasharray: 9.6,2.4,1.5,2.4; stroke-dashoffset: 0; stroke: #2ca02c; stroke-width: 1.5\"/>\n   </g>\n   <g id=\"line2d_64\">\n    <path d=\"M 34.954394 13.5 \nL 44.698573 86.305779 \nL 54.442752 102.163019 \nL 64.186931 110.195572 \nL 73.93111 115.26256 \nL 83.675289 117.316989 \nL 93.419468 122.518628 \nL 103.163647 122.516077 \nL 112.907826 126.233528 \nL 122.652006 127.281542 \n\" clip-path=\"url(#p0091141a4f)\" style=\"fill: none; stroke: #1f77b4; stroke-width: 1.5; stroke-linecap: square\"/>\n   </g>\n   <g id=\"line2d_65\">\n    <path d=\"M 49.633125 70.798045 \nL 69.163125 96.438365 \nL 88.693125 104.976174 \nL 108.223125 97.361496 \nL 127.753125 117.110747 \n\" clip-path=\"url(#p0091141a4f)\" style=\"fill: none; stroke-dasharray: 5.55,2.4; stroke-dashoffset: 0; stroke: #ff7f0e; stroke-width: 1.5\"/>\n   </g>\n   <g id=\"line2d_66\">\n    <path d=\"M 49.633125 40.858314 \nL 69.163125 30.109222 \nL 88.693125 28.386206 \nL 108.223125 27.769714 \nL 127.753125 23.043275 \n\" clip-path=\"url(#p0091141a4f)\" style=\"fill: none; stroke-dasharray: 9.6,2.4,1.5,2.4; stroke-dashoffset: 0; stroke: #2ca02c; stroke-width: 1.5\"/>\n   </g>\n   <g id=\"line2d_67\">\n    <path d=\"M 34.954394 13.5 \nL 44.698573 86.305779 \nL 54.442752 102.163019 \nL 64.186931 110.195572 \nL 73.93111 115.26256 \nL 83.675289 117.316989 \nL 93.419468 122.518628 \nL 103.163647 122.516077 \nL 112.907826 126.233528 \nL 122.652006 127.281542 \nL 132.396185 130.108481 \n\" clip-path=\"url(#p0091141a4f)\" style=\"fill: none; stroke: #1f77b4; stroke-width: 1.5; stroke-linecap: square\"/>\n   </g>\n   <g id=\"line2d_68\">\n    <path d=\"M 49.633125 70.798045 \nL 69.163125 96.438365 \nL 88.693125 104.976174 \nL 108.223125 97.361496 \nL 127.753125 117.110747 \n\" clip-path=\"url(#p0091141a4f)\" style=\"fill: none; stroke-dasharray: 5.55,2.4; stroke-dashoffset: 0; stroke: #ff7f0e; stroke-width: 1.5\"/>\n   </g>\n   <g id=\"line2d_69\">\n    <path d=\"M 49.633125 40.858314 \nL 69.163125 30.109222 \nL 88.693125 28.386206 \nL 108.223125 27.769714 \nL 127.753125 23.043275 \n\" clip-path=\"url(#p0091141a4f)\" style=\"fill: none; stroke-dasharray: 9.6,2.4,1.5,2.4; stroke-dashoffset: 0; stroke: #2ca02c; stroke-width: 1.5\"/>\n   </g>\n   <g id=\"line2d_70\">\n    <path d=\"M 34.954394 13.5 \nL 44.698573 86.305779 \nL 54.442752 102.163019 \nL 64.186931 110.195572 \nL 73.93111 115.26256 \nL 83.675289 117.316989 \nL 93.419468 122.518628 \nL 103.163647 122.516077 \nL 112.907826 126.233528 \nL 122.652006 127.281542 \nL 132.396185 130.108481 \nL 142.140364 129.379497 \n\" clip-path=\"url(#p0091141a4f)\" style=\"fill: none; stroke: #1f77b4; stroke-width: 1.5; stroke-linecap: square\"/>\n   </g>\n   <g id=\"line2d_71\">\n    <path d=\"M 49.633125 70.798045 \nL 69.163125 96.438365 \nL 88.693125 104.976174 \nL 108.223125 97.361496 \nL 127.753125 117.110747 \n\" clip-path=\"url(#p0091141a4f)\" style=\"fill: none; stroke-dasharray: 5.55,2.4; stroke-dashoffset: 0; stroke: #ff7f0e; stroke-width: 1.5\"/>\n   </g>\n   <g id=\"line2d_72\">\n    <path d=\"M 49.633125 40.858314 \nL 69.163125 30.109222 \nL 88.693125 28.386206 \nL 108.223125 27.769714 \nL 127.753125 23.043275 \n\" clip-path=\"url(#p0091141a4f)\" style=\"fill: none; stroke-dasharray: 9.6,2.4,1.5,2.4; stroke-dashoffset: 0; stroke: #2ca02c; stroke-width: 1.5\"/>\n   </g>\n   <g id=\"line2d_73\">\n    <path d=\"M 34.954394 13.5 \nL 44.698573 86.305779 \nL 54.442752 102.163019 \nL 64.186931 110.195572 \nL 73.93111 115.26256 \nL 83.675289 117.316989 \nL 93.419468 122.518628 \nL 103.163647 122.516077 \nL 112.907826 126.233528 \nL 122.652006 127.281542 \nL 132.396185 130.108481 \nL 142.140364 129.379497 \n\" clip-path=\"url(#p0091141a4f)\" style=\"fill: none; stroke: #1f77b4; stroke-width: 1.5; stroke-linecap: square\"/>\n   </g>\n   <g id=\"line2d_74\">\n    <path d=\"M 49.633125 70.798045 \nL 69.163125 96.438365 \nL 88.693125 104.976174 \nL 108.223125 97.361496 \nL 127.753125 117.110747 \nL 147.283125 124.968961 \n\" clip-path=\"url(#p0091141a4f)\" style=\"fill: none; stroke-dasharray: 5.55,2.4; stroke-dashoffset: 0; stroke: #ff7f0e; stroke-width: 1.5\"/>\n   </g>\n   <g id=\"line2d_75\">\n    <path d=\"M 49.633125 40.858314 \nL 69.163125 30.109222 \nL 88.693125 28.386206 \nL 108.223125 27.769714 \nL 127.753125 23.043275 \n\" clip-path=\"url(#p0091141a4f)\" style=\"fill: none; stroke-dasharray: 9.6,2.4,1.5,2.4; stroke-dashoffset: 0; stroke: #2ca02c; stroke-width: 1.5\"/>\n   </g>\n   <g id=\"line2d_76\">\n    <path d=\"M 34.954394 13.5 \nL 44.698573 86.305779 \nL 54.442752 102.163019 \nL 64.186931 110.195572 \nL 73.93111 115.26256 \nL 83.675289 117.316989 \nL 93.419468 122.518628 \nL 103.163647 122.516077 \nL 112.907826 126.233528 \nL 122.652006 127.281542 \nL 132.396185 130.108481 \nL 142.140364 129.379497 \n\" clip-path=\"url(#p0091141a4f)\" style=\"fill: none; stroke: #1f77b4; stroke-width: 1.5; stroke-linecap: square\"/>\n   </g>\n   <g id=\"line2d_77\">\n    <path d=\"M 49.633125 70.798045 \nL 69.163125 96.438365 \nL 88.693125 104.976174 \nL 108.223125 97.361496 \nL 127.753125 117.110747 \nL 147.283125 124.968961 \n\" clip-path=\"url(#p0091141a4f)\" style=\"fill: none; stroke-dasharray: 5.55,2.4; stroke-dashoffset: 0; stroke: #ff7f0e; stroke-width: 1.5\"/>\n   </g>\n   <g id=\"line2d_78\">\n    <path d=\"M 49.633125 40.858314 \nL 69.163125 30.109222 \nL 88.693125 28.386206 \nL 108.223125 27.769714 \nL 127.753125 23.043275 \nL 147.283125 20.039852 \n\" clip-path=\"url(#p0091141a4f)\" style=\"fill: none; stroke-dasharray: 9.6,2.4,1.5,2.4; stroke-dashoffset: 0; stroke: #2ca02c; stroke-width: 1.5\"/>\n   </g>\n   <g id=\"line2d_79\">\n    <path d=\"M 34.954394 13.5 \nL 44.698573 86.305779 \nL 54.442752 102.163019 \nL 64.186931 110.195572 \nL 73.93111 115.26256 \nL 83.675289 117.316989 \nL 93.419468 122.518628 \nL 103.163647 122.516077 \nL 112.907826 126.233528 \nL 122.652006 127.281542 \nL 132.396185 130.108481 \nL 142.140364 129.379497 \nL 151.884543 132.864175 \n\" clip-path=\"url(#p0091141a4f)\" style=\"fill: none; stroke: #1f77b4; stroke-width: 1.5; stroke-linecap: square\"/>\n   </g>\n   <g id=\"line2d_80\">\n    <path d=\"M 49.633125 70.798045 \nL 69.163125 96.438365 \nL 88.693125 104.976174 \nL 108.223125 97.361496 \nL 127.753125 117.110747 \nL 147.283125 124.968961 \n\" clip-path=\"url(#p0091141a4f)\" style=\"fill: none; stroke-dasharray: 5.55,2.4; stroke-dashoffset: 0; stroke: #ff7f0e; stroke-width: 1.5\"/>\n   </g>\n   <g id=\"line2d_81\">\n    <path d=\"M 49.633125 40.858314 \nL 69.163125 30.109222 \nL 88.693125 28.386206 \nL 108.223125 27.769714 \nL 127.753125 23.043275 \nL 147.283125 20.039852 \n\" clip-path=\"url(#p0091141a4f)\" style=\"fill: none; stroke-dasharray: 9.6,2.4,1.5,2.4; stroke-dashoffset: 0; stroke: #2ca02c; stroke-width: 1.5\"/>\n   </g>\n   <g id=\"line2d_82\">\n    <path d=\"M 34.954394 13.5 \nL 44.698573 86.305779 \nL 54.442752 102.163019 \nL 64.186931 110.195572 \nL 73.93111 115.26256 \nL 83.675289 117.316989 \nL 93.419468 122.518628 \nL 103.163647 122.516077 \nL 112.907826 126.233528 \nL 122.652006 127.281542 \nL 132.396185 130.108481 \nL 142.140364 129.379497 \nL 151.884543 132.864175 \nL 161.628722 132.793532 \n\" clip-path=\"url(#p0091141a4f)\" style=\"fill: none; stroke: #1f77b4; stroke-width: 1.5; stroke-linecap: square\"/>\n   </g>\n   <g id=\"line2d_83\">\n    <path d=\"M 49.633125 70.798045 \nL 69.163125 96.438365 \nL 88.693125 104.976174 \nL 108.223125 97.361496 \nL 127.753125 117.110747 \nL 147.283125 124.968961 \n\" clip-path=\"url(#p0091141a4f)\" style=\"fill: none; stroke-dasharray: 5.55,2.4; stroke-dashoffset: 0; stroke: #ff7f0e; stroke-width: 1.5\"/>\n   </g>\n   <g id=\"line2d_84\">\n    <path d=\"M 49.633125 40.858314 \nL 69.163125 30.109222 \nL 88.693125 28.386206 \nL 108.223125 27.769714 \nL 127.753125 23.043275 \nL 147.283125 20.039852 \n\" clip-path=\"url(#p0091141a4f)\" style=\"fill: none; stroke-dasharray: 9.6,2.4,1.5,2.4; stroke-dashoffset: 0; stroke: #2ca02c; stroke-width: 1.5\"/>\n   </g>\n   <g id=\"line2d_85\">\n    <path d=\"M 34.954394 13.5 \nL 44.698573 86.305779 \nL 54.442752 102.163019 \nL 64.186931 110.195572 \nL 73.93111 115.26256 \nL 83.675289 117.316989 \nL 93.419468 122.518628 \nL 103.163647 122.516077 \nL 112.907826 126.233528 \nL 122.652006 127.281542 \nL 132.396185 130.108481 \nL 142.140364 129.379497 \nL 151.884543 132.864175 \nL 161.628722 132.793532 \n\" clip-path=\"url(#p0091141a4f)\" style=\"fill: none; stroke: #1f77b4; stroke-width: 1.5; stroke-linecap: square\"/>\n   </g>\n   <g id=\"line2d_86\">\n    <path d=\"M 49.633125 70.798045 \nL 69.163125 96.438365 \nL 88.693125 104.976174 \nL 108.223125 97.361496 \nL 127.753125 117.110747 \nL 147.283125 124.968961 \nL 166.813125 110.252846 \n\" clip-path=\"url(#p0091141a4f)\" style=\"fill: none; stroke-dasharray: 5.55,2.4; stroke-dashoffset: 0; stroke: #ff7f0e; stroke-width: 1.5\"/>\n   </g>\n   <g id=\"line2d_87\">\n    <path d=\"M 49.633125 40.858314 \nL 69.163125 30.109222 \nL 88.693125 28.386206 \nL 108.223125 27.769714 \nL 127.753125 23.043275 \nL 147.283125 20.039852 \n\" clip-path=\"url(#p0091141a4f)\" style=\"fill: none; stroke-dasharray: 9.6,2.4,1.5,2.4; stroke-dashoffset: 0; stroke: #2ca02c; stroke-width: 1.5\"/>\n   </g>\n   <g id=\"line2d_88\">\n    <path d=\"M 34.954394 13.5 \nL 44.698573 86.305779 \nL 54.442752 102.163019 \nL 64.186931 110.195572 \nL 73.93111 115.26256 \nL 83.675289 117.316989 \nL 93.419468 122.518628 \nL 103.163647 122.516077 \nL 112.907826 126.233528 \nL 122.652006 127.281542 \nL 132.396185 130.108481 \nL 142.140364 129.379497 \nL 151.884543 132.864175 \nL 161.628722 132.793532 \n\" clip-path=\"url(#p0091141a4f)\" style=\"fill: none; stroke: #1f77b4; stroke-width: 1.5; stroke-linecap: square\"/>\n   </g>\n   <g id=\"line2d_89\">\n    <path d=\"M 49.633125 70.798045 \nL 69.163125 96.438365 \nL 88.693125 104.976174 \nL 108.223125 97.361496 \nL 127.753125 117.110747 \nL 147.283125 124.968961 \nL 166.813125 110.252846 \n\" clip-path=\"url(#p0091141a4f)\" style=\"fill: none; stroke-dasharray: 5.55,2.4; stroke-dashoffset: 0; stroke: #ff7f0e; stroke-width: 1.5\"/>\n   </g>\n   <g id=\"line2d_90\">\n    <path d=\"M 49.633125 40.858314 \nL 69.163125 30.109222 \nL 88.693125 28.386206 \nL 108.223125 27.769714 \nL 127.753125 23.043275 \nL 147.283125 20.039852 \nL 166.813125 24.987596 \n\" clip-path=\"url(#p0091141a4f)\" style=\"fill: none; stroke-dasharray: 9.6,2.4,1.5,2.4; stroke-dashoffset: 0; stroke: #2ca02c; stroke-width: 1.5\"/>\n   </g>\n   <g id=\"line2d_91\">\n    <path d=\"M 34.954394 13.5 \nL 44.698573 86.305779 \nL 54.442752 102.163019 \nL 64.186931 110.195572 \nL 73.93111 115.26256 \nL 83.675289 117.316989 \nL 93.419468 122.518628 \nL 103.163647 122.516077 \nL 112.907826 126.233528 \nL 122.652006 127.281542 \nL 132.396185 130.108481 \nL 142.140364 129.379497 \nL 151.884543 132.864175 \nL 161.628722 132.793532 \nL 171.372901 136.149617 \n\" clip-path=\"url(#p0091141a4f)\" style=\"fill: none; stroke: #1f77b4; stroke-width: 1.5; stroke-linecap: square\"/>\n   </g>\n   <g id=\"line2d_92\">\n    <path d=\"M 49.633125 70.798045 \nL 69.163125 96.438365 \nL 88.693125 104.976174 \nL 108.223125 97.361496 \nL 127.753125 117.110747 \nL 147.283125 124.968961 \nL 166.813125 110.252846 \n\" clip-path=\"url(#p0091141a4f)\" style=\"fill: none; stroke-dasharray: 5.55,2.4; stroke-dashoffset: 0; stroke: #ff7f0e; stroke-width: 1.5\"/>\n   </g>\n   <g id=\"line2d_93\">\n    <path d=\"M 49.633125 40.858314 \nL 69.163125 30.109222 \nL 88.693125 28.386206 \nL 108.223125 27.769714 \nL 127.753125 23.043275 \nL 147.283125 20.039852 \nL 166.813125 24.987596 \n\" clip-path=\"url(#p0091141a4f)\" style=\"fill: none; stroke-dasharray: 9.6,2.4,1.5,2.4; stroke-dashoffset: 0; stroke: #2ca02c; stroke-width: 1.5\"/>\n   </g>\n   <g id=\"line2d_94\">\n    <path d=\"M 34.954394 13.5 \nL 44.698573 86.305779 \nL 54.442752 102.163019 \nL 64.186931 110.195572 \nL 73.93111 115.26256 \nL 83.675289 117.316989 \nL 93.419468 122.518628 \nL 103.163647 122.516077 \nL 112.907826 126.233528 \nL 122.652006 127.281542 \nL 132.396185 130.108481 \nL 142.140364 129.379497 \nL 151.884543 132.864175 \nL 161.628722 132.793532 \nL 171.372901 136.149617 \nL 181.11708 134.170327 \n\" clip-path=\"url(#p0091141a4f)\" style=\"fill: none; stroke: #1f77b4; stroke-width: 1.5; stroke-linecap: square\"/>\n   </g>\n   <g id=\"line2d_95\">\n    <path d=\"M 49.633125 70.798045 \nL 69.163125 96.438365 \nL 88.693125 104.976174 \nL 108.223125 97.361496 \nL 127.753125 117.110747 \nL 147.283125 124.968961 \nL 166.813125 110.252846 \n\" clip-path=\"url(#p0091141a4f)\" style=\"fill: none; stroke-dasharray: 5.55,2.4; stroke-dashoffset: 0; stroke: #ff7f0e; stroke-width: 1.5\"/>\n   </g>\n   <g id=\"line2d_96\">\n    <path d=\"M 49.633125 40.858314 \nL 69.163125 30.109222 \nL 88.693125 28.386206 \nL 108.223125 27.769714 \nL 127.753125 23.043275 \nL 147.283125 20.039852 \nL 166.813125 24.987596 \n\" clip-path=\"url(#p0091141a4f)\" style=\"fill: none; stroke-dasharray: 9.6,2.4,1.5,2.4; stroke-dashoffset: 0; stroke: #2ca02c; stroke-width: 1.5\"/>\n   </g>\n   <g id=\"line2d_97\">\n    <path d=\"M 34.954394 13.5 \nL 44.698573 86.305779 \nL 54.442752 102.163019 \nL 64.186931 110.195572 \nL 73.93111 115.26256 \nL 83.675289 117.316989 \nL 93.419468 122.518628 \nL 103.163647 122.516077 \nL 112.907826 126.233528 \nL 122.652006 127.281542 \nL 132.396185 130.108481 \nL 142.140364 129.379497 \nL 151.884543 132.864175 \nL 161.628722 132.793532 \nL 171.372901 136.149617 \nL 181.11708 134.170327 \n\" clip-path=\"url(#p0091141a4f)\" style=\"fill: none; stroke: #1f77b4; stroke-width: 1.5; stroke-linecap: square\"/>\n   </g>\n   <g id=\"line2d_98\">\n    <path d=\"M 49.633125 70.798045 \nL 69.163125 96.438365 \nL 88.693125 104.976174 \nL 108.223125 97.361496 \nL 127.753125 117.110747 \nL 147.283125 124.968961 \nL 166.813125 110.252846 \nL 186.343125 115.386271 \n\" clip-path=\"url(#p0091141a4f)\" style=\"fill: none; stroke-dasharray: 5.55,2.4; stroke-dashoffset: 0; stroke: #ff7f0e; stroke-width: 1.5\"/>\n   </g>\n   <g id=\"line2d_99\">\n    <path d=\"M 49.633125 40.858314 \nL 69.163125 30.109222 \nL 88.693125 28.386206 \nL 108.223125 27.769714 \nL 127.753125 23.043275 \nL 147.283125 20.039852 \nL 166.813125 24.987596 \n\" clip-path=\"url(#p0091141a4f)\" style=\"fill: none; stroke-dasharray: 9.6,2.4,1.5,2.4; stroke-dashoffset: 0; stroke: #2ca02c; stroke-width: 1.5\"/>\n   </g>\n   <g id=\"line2d_100\">\n    <path d=\"M 34.954394 13.5 \nL 44.698573 86.305779 \nL 54.442752 102.163019 \nL 64.186931 110.195572 \nL 73.93111 115.26256 \nL 83.675289 117.316989 \nL 93.419468 122.518628 \nL 103.163647 122.516077 \nL 112.907826 126.233528 \nL 122.652006 127.281542 \nL 132.396185 130.108481 \nL 142.140364 129.379497 \nL 151.884543 132.864175 \nL 161.628722 132.793532 \nL 171.372901 136.149617 \nL 181.11708 134.170327 \n\" clip-path=\"url(#p0091141a4f)\" style=\"fill: none; stroke: #1f77b4; stroke-width: 1.5; stroke-linecap: square\"/>\n   </g>\n   <g id=\"line2d_101\">\n    <path d=\"M 49.633125 70.798045 \nL 69.163125 96.438365 \nL 88.693125 104.976174 \nL 108.223125 97.361496 \nL 127.753125 117.110747 \nL 147.283125 124.968961 \nL 166.813125 110.252846 \nL 186.343125 115.386271 \n\" clip-path=\"url(#p0091141a4f)\" style=\"fill: none; stroke-dasharray: 5.55,2.4; stroke-dashoffset: 0; stroke: #ff7f0e; stroke-width: 1.5\"/>\n   </g>\n   <g id=\"line2d_102\">\n    <path d=\"M 49.633125 40.858314 \nL 69.163125 30.109222 \nL 88.693125 28.386206 \nL 108.223125 27.769714 \nL 127.753125 23.043275 \nL 147.283125 20.039852 \nL 166.813125 24.987596 \nL 186.343125 23.659767 \n\" clip-path=\"url(#p0091141a4f)\" style=\"fill: none; stroke-dasharray: 9.6,2.4,1.5,2.4; stroke-dashoffset: 0; stroke: #2ca02c; stroke-width: 1.5\"/>\n   </g>\n   <g id=\"line2d_103\">\n    <path d=\"M 34.954394 13.5 \nL 44.698573 86.305779 \nL 54.442752 102.163019 \nL 64.186931 110.195572 \nL 73.93111 115.26256 \nL 83.675289 117.316989 \nL 93.419468 122.518628 \nL 103.163647 122.516077 \nL 112.907826 126.233528 \nL 122.652006 127.281542 \nL 132.396185 130.108481 \nL 142.140364 129.379497 \nL 151.884543 132.864175 \nL 161.628722 132.793532 \nL 171.372901 136.149617 \nL 181.11708 134.170327 \nL 190.861259 136.843988 \n\" clip-path=\"url(#p0091141a4f)\" style=\"fill: none; stroke: #1f77b4; stroke-width: 1.5; stroke-linecap: square\"/>\n   </g>\n   <g id=\"line2d_104\">\n    <path d=\"M 49.633125 70.798045 \nL 69.163125 96.438365 \nL 88.693125 104.976174 \nL 108.223125 97.361496 \nL 127.753125 117.110747 \nL 147.283125 124.968961 \nL 166.813125 110.252846 \nL 186.343125 115.386271 \n\" clip-path=\"url(#p0091141a4f)\" style=\"fill: none; stroke-dasharray: 5.55,2.4; stroke-dashoffset: 0; stroke: #ff7f0e; stroke-width: 1.5\"/>\n   </g>\n   <g id=\"line2d_105\">\n    <path d=\"M 49.633125 40.858314 \nL 69.163125 30.109222 \nL 88.693125 28.386206 \nL 108.223125 27.769714 \nL 127.753125 23.043275 \nL 147.283125 20.039852 \nL 166.813125 24.987596 \nL 186.343125 23.659767 \n\" clip-path=\"url(#p0091141a4f)\" style=\"fill: none; stroke-dasharray: 9.6,2.4,1.5,2.4; stroke-dashoffset: 0; stroke: #2ca02c; stroke-width: 1.5\"/>\n   </g>\n   <g id=\"line2d_106\">\n    <path d=\"M 34.954394 13.5 \nL 44.698573 86.305779 \nL 54.442752 102.163019 \nL 64.186931 110.195572 \nL 73.93111 115.26256 \nL 83.675289 117.316989 \nL 93.419468 122.518628 \nL 103.163647 122.516077 \nL 112.907826 126.233528 \nL 122.652006 127.281542 \nL 132.396185 130.108481 \nL 142.140364 129.379497 \nL 151.884543 132.864175 \nL 161.628722 132.793532 \nL 171.372901 136.149617 \nL 181.11708 134.170327 \nL 190.861259 136.843988 \nL 200.605438 136.206651 \n\" clip-path=\"url(#p0091141a4f)\" style=\"fill: none; stroke: #1f77b4; stroke-width: 1.5; stroke-linecap: square\"/>\n   </g>\n   <g id=\"line2d_107\">\n    <path d=\"M 49.633125 70.798045 \nL 69.163125 96.438365 \nL 88.693125 104.976174 \nL 108.223125 97.361496 \nL 127.753125 117.110747 \nL 147.283125 124.968961 \nL 166.813125 110.252846 \nL 186.343125 115.386271 \n\" clip-path=\"url(#p0091141a4f)\" style=\"fill: none; stroke-dasharray: 5.55,2.4; stroke-dashoffset: 0; stroke: #ff7f0e; stroke-width: 1.5\"/>\n   </g>\n   <g id=\"line2d_108\">\n    <path d=\"M 49.633125 40.858314 \nL 69.163125 30.109222 \nL 88.693125 28.386206 \nL 108.223125 27.769714 \nL 127.753125 23.043275 \nL 147.283125 20.039852 \nL 166.813125 24.987596 \nL 186.343125 23.659767 \n\" clip-path=\"url(#p0091141a4f)\" style=\"fill: none; stroke-dasharray: 9.6,2.4,1.5,2.4; stroke-dashoffset: 0; stroke: #2ca02c; stroke-width: 1.5\"/>\n   </g>\n   <g id=\"line2d_109\">\n    <path d=\"M 34.954394 13.5 \nL 44.698573 86.305779 \nL 54.442752 102.163019 \nL 64.186931 110.195572 \nL 73.93111 115.26256 \nL 83.675289 117.316989 \nL 93.419468 122.518628 \nL 103.163647 122.516077 \nL 112.907826 126.233528 \nL 122.652006 127.281542 \nL 132.396185 130.108481 \nL 142.140364 129.379497 \nL 151.884543 132.864175 \nL 161.628722 132.793532 \nL 171.372901 136.149617 \nL 181.11708 134.170327 \nL 190.861259 136.843988 \nL 200.605438 136.206651 \n\" clip-path=\"url(#p0091141a4f)\" style=\"fill: none; stroke: #1f77b4; stroke-width: 1.5; stroke-linecap: square\"/>\n   </g>\n   <g id=\"line2d_110\">\n    <path d=\"M 49.633125 70.798045 \nL 69.163125 96.438365 \nL 88.693125 104.976174 \nL 108.223125 97.361496 \nL 127.753125 117.110747 \nL 147.283125 124.968961 \nL 166.813125 110.252846 \nL 186.343125 115.386271 \nL 205.873125 115.291705 \n\" clip-path=\"url(#p0091141a4f)\" style=\"fill: none; stroke-dasharray: 5.55,2.4; stroke-dashoffset: 0; stroke: #ff7f0e; stroke-width: 1.5\"/>\n   </g>\n   <g id=\"line2d_111\">\n    <path d=\"M 49.633125 40.858314 \nL 69.163125 30.109222 \nL 88.693125 28.386206 \nL 108.223125 27.769714 \nL 127.753125 23.043275 \nL 147.283125 20.039852 \nL 166.813125 24.987596 \nL 186.343125 23.659767 \n\" clip-path=\"url(#p0091141a4f)\" style=\"fill: none; stroke-dasharray: 9.6,2.4,1.5,2.4; stroke-dashoffset: 0; stroke: #2ca02c; stroke-width: 1.5\"/>\n   </g>\n   <g id=\"line2d_112\">\n    <path d=\"M 34.954394 13.5 \nL 44.698573 86.305779 \nL 54.442752 102.163019 \nL 64.186931 110.195572 \nL 73.93111 115.26256 \nL 83.675289 117.316989 \nL 93.419468 122.518628 \nL 103.163647 122.516077 \nL 112.907826 126.233528 \nL 122.652006 127.281542 \nL 132.396185 130.108481 \nL 142.140364 129.379497 \nL 151.884543 132.864175 \nL 161.628722 132.793532 \nL 171.372901 136.149617 \nL 181.11708 134.170327 \nL 190.861259 136.843988 \nL 200.605438 136.206651 \n\" clip-path=\"url(#p0091141a4f)\" style=\"fill: none; stroke: #1f77b4; stroke-width: 1.5; stroke-linecap: square\"/>\n   </g>\n   <g id=\"line2d_113\">\n    <path d=\"M 49.633125 70.798045 \nL 69.163125 96.438365 \nL 88.693125 104.976174 \nL 108.223125 97.361496 \nL 127.753125 117.110747 \nL 147.283125 124.968961 \nL 166.813125 110.252846 \nL 186.343125 115.386271 \nL 205.873125 115.291705 \n\" clip-path=\"url(#p0091141a4f)\" style=\"fill: none; stroke-dasharray: 5.55,2.4; stroke-dashoffset: 0; stroke: #ff7f0e; stroke-width: 1.5\"/>\n   </g>\n   <g id=\"line2d_114\">\n    <path d=\"M 49.633125 40.858314 \nL 69.163125 30.109222 \nL 88.693125 28.386206 \nL 108.223125 27.769714 \nL 127.753125 23.043275 \nL 147.283125 20.039852 \nL 166.813125 24.987596 \nL 186.343125 23.659767 \nL 205.873125 23.059082 \n\" clip-path=\"url(#p0091141a4f)\" style=\"fill: none; stroke-dasharray: 9.6,2.4,1.5,2.4; stroke-dashoffset: 0; stroke: #2ca02c; stroke-width: 1.5\"/>\n   </g>\n   <g id=\"line2d_115\">\n    <path d=\"M 34.954394 13.5 \nL 44.698573 86.305779 \nL 54.442752 102.163019 \nL 64.186931 110.195572 \nL 73.93111 115.26256 \nL 83.675289 117.316989 \nL 93.419468 122.518628 \nL 103.163647 122.516077 \nL 112.907826 126.233528 \nL 122.652006 127.281542 \nL 132.396185 130.108481 \nL 142.140364 129.379497 \nL 151.884543 132.864175 \nL 161.628722 132.793532 \nL 171.372901 136.149617 \nL 181.11708 134.170327 \nL 190.861259 136.843988 \nL 200.605438 136.206651 \nL 210.349618 139.5 \n\" clip-path=\"url(#p0091141a4f)\" style=\"fill: none; stroke: #1f77b4; stroke-width: 1.5; stroke-linecap: square\"/>\n   </g>\n   <g id=\"line2d_116\">\n    <path d=\"M 49.633125 70.798045 \nL 69.163125 96.438365 \nL 88.693125 104.976174 \nL 108.223125 97.361496 \nL 127.753125 117.110747 \nL 147.283125 124.968961 \nL 166.813125 110.252846 \nL 186.343125 115.386271 \nL 205.873125 115.291705 \n\" clip-path=\"url(#p0091141a4f)\" style=\"fill: none; stroke-dasharray: 5.55,2.4; stroke-dashoffset: 0; stroke: #ff7f0e; stroke-width: 1.5\"/>\n   </g>\n   <g id=\"line2d_117\">\n    <path d=\"M 49.633125 40.858314 \nL 69.163125 30.109222 \nL 88.693125 28.386206 \nL 108.223125 27.769714 \nL 127.753125 23.043275 \nL 147.283125 20.039852 \nL 166.813125 24.987596 \nL 186.343125 23.659767 \nL 205.873125 23.059082 \n\" clip-path=\"url(#p0091141a4f)\" style=\"fill: none; stroke-dasharray: 9.6,2.4,1.5,2.4; stroke-dashoffset: 0; stroke: #2ca02c; stroke-width: 1.5\"/>\n   </g>\n   <g id=\"line2d_118\">\n    <path d=\"M 34.954394 13.5 \nL 44.698573 86.305779 \nL 54.442752 102.163019 \nL 64.186931 110.195572 \nL 73.93111 115.26256 \nL 83.675289 117.316989 \nL 93.419468 122.518628 \nL 103.163647 122.516077 \nL 112.907826 126.233528 \nL 122.652006 127.281542 \nL 132.396185 130.108481 \nL 142.140364 129.379497 \nL 151.884543 132.864175 \nL 161.628722 132.793532 \nL 171.372901 136.149617 \nL 181.11708 134.170327 \nL 190.861259 136.843988 \nL 200.605438 136.206651 \nL 210.349618 139.5 \nL 220.093797 137.863872 \n\" clip-path=\"url(#p0091141a4f)\" style=\"fill: none; stroke: #1f77b4; stroke-width: 1.5; stroke-linecap: square\"/>\n   </g>\n   <g id=\"line2d_119\">\n    <path d=\"M 49.633125 70.798045 \nL 69.163125 96.438365 \nL 88.693125 104.976174 \nL 108.223125 97.361496 \nL 127.753125 117.110747 \nL 147.283125 124.968961 \nL 166.813125 110.252846 \nL 186.343125 115.386271 \nL 205.873125 115.291705 \n\" clip-path=\"url(#p0091141a4f)\" style=\"fill: none; stroke-dasharray: 5.55,2.4; stroke-dashoffset: 0; stroke: #ff7f0e; stroke-width: 1.5\"/>\n   </g>\n   <g id=\"line2d_120\">\n    <path d=\"M 49.633125 40.858314 \nL 69.163125 30.109222 \nL 88.693125 28.386206 \nL 108.223125 27.769714 \nL 127.753125 23.043275 \nL 147.283125 20.039852 \nL 166.813125 24.987596 \nL 186.343125 23.659767 \nL 205.873125 23.059082 \n\" clip-path=\"url(#p0091141a4f)\" style=\"fill: none; stroke-dasharray: 9.6,2.4,1.5,2.4; stroke-dashoffset: 0; stroke: #2ca02c; stroke-width: 1.5\"/>\n   </g>\n   <g id=\"line2d_121\">\n    <path d=\"M 34.954394 13.5 \nL 44.698573 86.305779 \nL 54.442752 102.163019 \nL 64.186931 110.195572 \nL 73.93111 115.26256 \nL 83.675289 117.316989 \nL 93.419468 122.518628 \nL 103.163647 122.516077 \nL 112.907826 126.233528 \nL 122.652006 127.281542 \nL 132.396185 130.108481 \nL 142.140364 129.379497 \nL 151.884543 132.864175 \nL 161.628722 132.793532 \nL 171.372901 136.149617 \nL 181.11708 134.170327 \nL 190.861259 136.843988 \nL 200.605438 136.206651 \nL 210.349618 139.5 \nL 220.093797 137.863872 \n\" clip-path=\"url(#p0091141a4f)\" style=\"fill: none; stroke: #1f77b4; stroke-width: 1.5; stroke-linecap: square\"/>\n   </g>\n   <g id=\"line2d_122\">\n    <path d=\"M 49.633125 70.798045 \nL 69.163125 96.438365 \nL 88.693125 104.976174 \nL 108.223125 97.361496 \nL 127.753125 117.110747 \nL 147.283125 124.968961 \nL 166.813125 110.252846 \nL 186.343125 115.386271 \nL 205.873125 115.291705 \nL 225.403125 121.912418 \n\" clip-path=\"url(#p0091141a4f)\" style=\"fill: none; stroke-dasharray: 5.55,2.4; stroke-dashoffset: 0; stroke: #ff7f0e; stroke-width: 1.5\"/>\n   </g>\n   <g id=\"line2d_123\">\n    <path d=\"M 49.633125 40.858314 \nL 69.163125 30.109222 \nL 88.693125 28.386206 \nL 108.223125 27.769714 \nL 127.753125 23.043275 \nL 147.283125 20.039852 \nL 166.813125 24.987596 \nL 186.343125 23.659767 \nL 205.873125 23.059082 \n\" clip-path=\"url(#p0091141a4f)\" style=\"fill: none; stroke-dasharray: 9.6,2.4,1.5,2.4; stroke-dashoffset: 0; stroke: #2ca02c; stroke-width: 1.5\"/>\n   </g>\n   <g id=\"line2d_124\">\n    <path d=\"M 34.954394 13.5 \nL 44.698573 86.305779 \nL 54.442752 102.163019 \nL 64.186931 110.195572 \nL 73.93111 115.26256 \nL 83.675289 117.316989 \nL 93.419468 122.518628 \nL 103.163647 122.516077 \nL 112.907826 126.233528 \nL 122.652006 127.281542 \nL 132.396185 130.108481 \nL 142.140364 129.379497 \nL 151.884543 132.864175 \nL 161.628722 132.793532 \nL 171.372901 136.149617 \nL 181.11708 134.170327 \nL 190.861259 136.843988 \nL 200.605438 136.206651 \nL 210.349618 139.5 \nL 220.093797 137.863872 \n\" clip-path=\"url(#p0091141a4f)\" style=\"fill: none; stroke: #1f77b4; stroke-width: 1.5; stroke-linecap: square\"/>\n   </g>\n   <g id=\"line2d_125\">\n    <path d=\"M 49.633125 70.798045 \nL 69.163125 96.438365 \nL 88.693125 104.976174 \nL 108.223125 97.361496 \nL 127.753125 117.110747 \nL 147.283125 124.968961 \nL 166.813125 110.252846 \nL 186.343125 115.386271 \nL 205.873125 115.291705 \nL 225.403125 121.912418 \n\" clip-path=\"url(#p0091141a4f)\" style=\"fill: none; stroke-dasharray: 5.55,2.4; stroke-dashoffset: 0; stroke: #ff7f0e; stroke-width: 1.5\"/>\n   </g>\n   <g id=\"line2d_126\">\n    <path d=\"M 49.633125 40.858314 \nL 69.163125 30.109222 \nL 88.693125 28.386206 \nL 108.223125 27.769714 \nL 127.753125 23.043275 \nL 147.283125 20.039852 \nL 166.813125 24.987596 \nL 186.343125 23.659767 \nL 205.873125 23.059082 \nL 225.403125 20.687959 \n\" clip-path=\"url(#p0091141a4f)\" style=\"fill: none; stroke-dasharray: 9.6,2.4,1.5,2.4; stroke-dashoffset: 0; stroke: #2ca02c; stroke-width: 1.5\"/>\n   </g>\n   <g id=\"patch_3\">\n    <path d=\"M 30.103125 145.8 \nL 30.103125 7.2 \n\" style=\"fill: none; stroke: #000000; stroke-width: 0.8; stroke-linejoin: miter; stroke-linecap: square\"/>\n   </g>\n   <g id=\"patch_4\">\n    <path d=\"M 225.403125 145.8 \nL 225.403125 7.2 \n\" style=\"fill: none; stroke: #000000; stroke-width: 0.8; stroke-linejoin: miter; stroke-linecap: square\"/>\n   </g>\n   <g id=\"patch_5\">\n    <path d=\"M 30.103125 145.8 \nL 225.403125 145.8 \n\" style=\"fill: none; stroke: #000000; stroke-width: 0.8; stroke-linejoin: miter; stroke-linecap: square\"/>\n   </g>\n   <g id=\"patch_6\">\n    <path d=\"M 30.103125 7.2 \nL 225.403125 7.2 \n\" style=\"fill: none; stroke: #000000; stroke-width: 0.8; stroke-linejoin: miter; stroke-linecap: square\"/>\n   </g>\n   <g id=\"legend_1\">\n    <g id=\"patch_7\">\n     <path d=\"M 138.8125 100.434375 \nL 218.403125 100.434375 \nQ 220.403125 100.434375 220.403125 98.434375 \nL 220.403125 54.565625 \nQ 220.403125 52.565625 218.403125 52.565625 \nL 138.8125 52.565625 \nQ 136.8125 52.565625 136.8125 54.565625 \nL 136.8125 98.434375 \nQ 136.8125 100.434375 138.8125 100.434375 \nz\n\" style=\"fill: #ffffff; opacity: 0.8; stroke: #cccccc; stroke-linejoin: miter\"/>\n    </g>\n    <g id=\"line2d_127\">\n     <path d=\"M 140.8125 60.664063 \nL 150.8125 60.664063 \nL 160.8125 60.664063 \n\" style=\"fill: none; stroke: #1f77b4; stroke-width: 1.5; stroke-linecap: square\"/>\n    </g>\n    <g id=\"text_12\">\n     <!-- train_loss -->\n     <g transform=\"translate(168.8125 64.164063) scale(0.1 -0.1)\">\n      <defs>\n       <path id=\"DejaVuSans-74\" d=\"M 1172 4494 \nL 1172 3500 \nL 2356 3500 \nL 2356 3053 \nL 1172 3053 \nL 1172 1153 \nQ 1172 725 1289 603 \nQ 1406 481 1766 481 \nL 2356 481 \nL 2356 0 \nL 1766 0 \nQ 1100 0 847 248 \nQ 594 497 594 1153 \nL 594 3053 \nL 172 3053 \nL 172 3500 \nL 594 3500 \nL 594 4494 \nL 1172 4494 \nz\n\" transform=\"scale(0.015625)\"/>\n       <path id=\"DejaVuSans-72\" d=\"M 2631 2963 \nQ 2534 3019 2420 3045 \nQ 2306 3072 2169 3072 \nQ 1681 3072 1420 2755 \nQ 1159 2438 1159 1844 \nL 1159 0 \nL 581 0 \nL 581 3500 \nL 1159 3500 \nL 1159 2956 \nQ 1341 3275 1631 3429 \nQ 1922 3584 2338 3584 \nQ 2397 3584 2469 3576 \nQ 2541 3569 2628 3553 \nL 2631 2963 \nz\n\" transform=\"scale(0.015625)\"/>\n       <path id=\"DejaVuSans-61\" d=\"M 2194 1759 \nQ 1497 1759 1228 1600 \nQ 959 1441 959 1056 \nQ 959 750 1161 570 \nQ 1363 391 1709 391 \nQ 2188 391 2477 730 \nQ 2766 1069 2766 1631 \nL 2766 1759 \nL 2194 1759 \nz\nM 3341 1997 \nL 3341 0 \nL 2766 0 \nL 2766 531 \nQ 2569 213 2275 61 \nQ 1981 -91 1556 -91 \nQ 1019 -91 701 211 \nQ 384 513 384 1019 \nQ 384 1609 779 1909 \nQ 1175 2209 1959 2209 \nL 2766 2209 \nL 2766 2266 \nQ 2766 2663 2505 2880 \nQ 2244 3097 1772 3097 \nQ 1472 3097 1187 3025 \nQ 903 2953 641 2809 \nL 641 3341 \nQ 956 3463 1253 3523 \nQ 1550 3584 1831 3584 \nQ 2591 3584 2966 3190 \nQ 3341 2797 3341 1997 \nz\n\" transform=\"scale(0.015625)\"/>\n       <path id=\"DejaVuSans-69\" d=\"M 603 3500 \nL 1178 3500 \nL 1178 0 \nL 603 0 \nL 603 3500 \nz\nM 603 4863 \nL 1178 4863 \nL 1178 4134 \nL 603 4134 \nL 603 4863 \nz\n\" transform=\"scale(0.015625)\"/>\n       <path id=\"DejaVuSans-6e\" d=\"M 3513 2113 \nL 3513 0 \nL 2938 0 \nL 2938 2094 \nQ 2938 2591 2744 2837 \nQ 2550 3084 2163 3084 \nQ 1697 3084 1428 2787 \nQ 1159 2491 1159 1978 \nL 1159 0 \nL 581 0 \nL 581 3500 \nL 1159 3500 \nL 1159 2956 \nQ 1366 3272 1645 3428 \nQ 1925 3584 2291 3584 \nQ 2894 3584 3203 3211 \nQ 3513 2838 3513 2113 \nz\n\" transform=\"scale(0.015625)\"/>\n       <path id=\"DejaVuSans-5f\" d=\"M 3263 -1063 \nL 3263 -1509 \nL -63 -1509 \nL -63 -1063 \nL 3263 -1063 \nz\n\" transform=\"scale(0.015625)\"/>\n       <path id=\"DejaVuSans-6c\" d=\"M 603 4863 \nL 1178 4863 \nL 1178 0 \nL 603 0 \nL 603 4863 \nz\n\" transform=\"scale(0.015625)\"/>\n       <path id=\"DejaVuSans-73\" d=\"M 2834 3397 \nL 2834 2853 \nQ 2591 2978 2328 3040 \nQ 2066 3103 1784 3103 \nQ 1356 3103 1142 2972 \nQ 928 2841 928 2578 \nQ 928 2378 1081 2264 \nQ 1234 2150 1697 2047 \nL 1894 2003 \nQ 2506 1872 2764 1633 \nQ 3022 1394 3022 966 \nQ 3022 478 2636 193 \nQ 2250 -91 1575 -91 \nQ 1294 -91 989 -36 \nQ 684 19 347 128 \nL 347 722 \nQ 666 556 975 473 \nQ 1284 391 1588 391 \nQ 1994 391 2212 530 \nQ 2431 669 2431 922 \nQ 2431 1156 2273 1281 \nQ 2116 1406 1581 1522 \nL 1381 1569 \nQ 847 1681 609 1914 \nQ 372 2147 372 2553 \nQ 372 3047 722 3315 \nQ 1072 3584 1716 3584 \nQ 2034 3584 2315 3537 \nQ 2597 3491 2834 3397 \nz\n\" transform=\"scale(0.015625)\"/>\n      </defs>\n      <use xlink:href=\"#DejaVuSans-74\"/>\n      <use xlink:href=\"#DejaVuSans-72\" x=\"39.208984\"/>\n      <use xlink:href=\"#DejaVuSans-61\" x=\"80.322266\"/>\n      <use xlink:href=\"#DejaVuSans-69\" x=\"141.601562\"/>\n      <use xlink:href=\"#DejaVuSans-6e\" x=\"169.384766\"/>\n      <use xlink:href=\"#DejaVuSans-5f\" x=\"232.763672\"/>\n      <use xlink:href=\"#DejaVuSans-6c\" x=\"282.763672\"/>\n      <use xlink:href=\"#DejaVuSans-6f\" x=\"310.546875\"/>\n      <use xlink:href=\"#DejaVuSans-73\" x=\"371.728516\"/>\n      <use xlink:href=\"#DejaVuSans-73\" x=\"423.828125\"/>\n     </g>\n    </g>\n    <g id=\"line2d_128\">\n     <path d=\"M 140.8125 75.620313 \nL 150.8125 75.620313 \nL 160.8125 75.620313 \n\" style=\"fill: none; stroke-dasharray: 5.55,2.4; stroke-dashoffset: 0; stroke: #ff7f0e; stroke-width: 1.5\"/>\n    </g>\n    <g id=\"text_13\">\n     <!-- val_loss -->\n     <g transform=\"translate(168.8125 79.120313) scale(0.1 -0.1)\">\n      <defs>\n       <path id=\"DejaVuSans-76\" d=\"M 191 3500 \nL 800 3500 \nL 1894 563 \nL 2988 3500 \nL 3597 3500 \nL 2284 0 \nL 1503 0 \nL 191 3500 \nz\n\" transform=\"scale(0.015625)\"/>\n      </defs>\n      <use xlink:href=\"#DejaVuSans-76\"/>\n      <use xlink:href=\"#DejaVuSans-61\" x=\"59.179688\"/>\n      <use xlink:href=\"#DejaVuSans-6c\" x=\"120.458984\"/>\n      <use xlink:href=\"#DejaVuSans-5f\" x=\"148.242188\"/>\n      <use xlink:href=\"#DejaVuSans-6c\" x=\"198.242188\"/>\n      <use xlink:href=\"#DejaVuSans-6f\" x=\"226.025391\"/>\n      <use xlink:href=\"#DejaVuSans-73\" x=\"287.207031\"/>\n      <use xlink:href=\"#DejaVuSans-73\" x=\"339.306641\"/>\n     </g>\n    </g>\n    <g id=\"line2d_129\">\n     <path d=\"M 140.8125 90.576563 \nL 150.8125 90.576563 \nL 160.8125 90.576563 \n\" style=\"fill: none; stroke-dasharray: 9.6,2.4,1.5,2.4; stroke-dashoffset: 0; stroke: #2ca02c; stroke-width: 1.5\"/>\n    </g>\n    <g id=\"text_14\">\n     <!-- val_acc -->\n     <g transform=\"translate(168.8125 94.076563) scale(0.1 -0.1)\">\n      <use xlink:href=\"#DejaVuSans-76\"/>\n      <use xlink:href=\"#DejaVuSans-61\" x=\"59.179688\"/>\n      <use xlink:href=\"#DejaVuSans-6c\" x=\"120.458984\"/>\n      <use xlink:href=\"#DejaVuSans-5f\" x=\"148.242188\"/>\n      <use xlink:href=\"#DejaVuSans-61\" x=\"198.242188\"/>\n      <use xlink:href=\"#DejaVuSans-63\" x=\"259.521484\"/>\n      <use xlink:href=\"#DejaVuSans-63\" x=\"314.501953\"/>\n     </g>\n    </g>\n   </g>\n  </g>\n </g>\n <defs>\n  <clipPath id=\"p0091141a4f\">\n   <rect x=\"30.103125\" y=\"7.2\" width=\"195.3\" height=\"138.6\"/>\n  </clipPath>\n </defs>\n</svg>\n",
            "text/plain": [
              "<Figure size 350x250 with 1 Axes>"
            ]
          },
          "metadata": {},
          "output_type": "display_data"
        }
      ],
      "source": [
        "model = RegNetX32(lr=0.05)\n",
        "trainer = d2l.Trainer(max_epochs=10, num_gpus=1)\n",
        "data = d2l.FashionMNIST(batch_size=128, resize=(96, 96))\n",
        "trainer.fit(model, data)"
      ]
    },
    {
      "cell_type": "markdown",
      "metadata": {
        "id": "gVqk_So04u94"
      },
      "source": [
        "### **Exercise 8.8**"
      ]
    },
    {
      "cell_type": "markdown",
      "metadata": {
        "id": "YaiGQkrfr67X"
      },
      "source": [
        "**1. Increase the number of stages to four. Can you design a deeper RegNetX that performs better?**"
      ]
    },
    {
      "cell_type": "code",
      "execution_count": null,
      "metadata": {
        "id": "V1iHM2g5ob1U"
      },
      "outputs": [],
      "source": [
        "import torch\n",
        "import torch.nn as nn\n",
        "from torch.nn import functional as F\n",
        "import d2l\n",
        "from torchsummary import summary\n",
        "\n",
        "class AnyNet(d2l.torch.Classifier):\n",
        "    def stem(self, num_channels):\n",
        "        return nn.Sequential(\n",
        "            nn.LazyConv2d(num_channels, kernel_size=3, stride=2, padding=1),\n",
        "            nn.LazyBatchNorm2d(), nn.ReLU())\n",
        "    def stage(self, depth, num_channels, groups, bot_mul):\n",
        "        blk = []\n",
        "        for i in range(depth):\n",
        "            if i == 0:\n",
        "                blk.append(d2l.ResNeXtBlock(num_channels, groups, bot_mul,\n",
        "                    use_1x1conv=True, strides=2))\n",
        "            else:\n",
        "                blk.append(d2l.ResNeXtBlock(num_channels, groups, bot_mul))\n",
        "        return nn.Sequential(*blk)\n",
        "\n",
        "    def __init__(self, arch, stem_channels, lr=0.1, num_classes=10):\n",
        "        super(AnyNet, self).__init__()\n",
        "        self.save_hyperparameters()\n",
        "        self.net = nn.Sequential(self.stem(stem_channels))\n",
        "        for i, s in enumerate(arch):\n",
        "            self.net.add_module(f'stage{i+1}', self.stage(*s))\n",
        "        self.net.add_module('head', nn.Sequential(\n",
        "            nn.AdaptiveAvgPool2d((1, 1)), nn.Flatten(),\n",
        "            nn.LazyLinear(num_classes)))\n",
        "        self.net.apply(d2l.init_cnn)\n",
        "\n",
        "class RegNetX32(AnyNet):\n",
        "    def __init__(self, lr=0.1, num_classes=10):\n",
        "        stem_channels, groups, bot_mul = 32, 16, 1\n",
        "        depths, channels = (4, 6, 8, 16), (32, 80, 128, 256)\n",
        "        super().__init__(\n",
        "            # ((depths[0], channels[0], groups, bot_mul),\n",
        "            #  (depths[1], channels[1], groups, bot_mul)),\n",
        "            [(depths[i], channels[i], groups, bot_mul) for i in range(len(depths))],\n",
        "            stem_channels, lr, num_classes)"
      ]
    },
    {
      "cell_type": "code",
      "execution_count": null,
      "metadata": {
        "id": "Mg6-SrDHogZZ"
      },
      "outputs": [],
      "source": [
        "model = RegNetX32(lr=0.05)\n",
        "summary(model,(1,224,224))\n",
        "trainer = d2l.Trainer(max_epochs=10, num_gpus=1)\n",
        "data = d2l.FashionMNIST(batch_size=128, resize=(224, 224))\n",
        "trainer.fit(model, data)"
      ]
    },
    {
      "cell_type": "markdown",
      "metadata": {
        "id": "eZ9Qniomr87t"
      },
      "source": [
        "**2. De-ResNeXt-ify RegNets by replacing the ResNeXt block with the ResNet block. How does your new model perform?**"
      ]
    },
    {
      "cell_type": "code",
      "execution_count": null,
      "metadata": {
        "id": "rRR4sz9Conrz"
      },
      "outputs": [],
      "source": [
        "class DeAnyNet(d2l.torch.Classifier):\n",
        "    def stem(self, num_channels):\n",
        "        return nn.Sequential(\n",
        "            nn.LazyConv2d(num_channels, kernel_size=3, stride=2, padding=1),\n",
        "            nn.LazyBatchNorm2d(), nn.ReLU())\n",
        "    def stage(self, depth, num_channels):\n",
        "        blk = []\n",
        "        for i in range(depth):\n",
        "            if i == 0:\n",
        "                blk.append(d2l.Residual(num_channels, use_1x1conv=True, strides=2))\n",
        "            else:\n",
        "                blk.append(d2l.Residual(num_channels))\n",
        "        return nn.Sequential(*blk)\n",
        "\n",
        "    def __init__(self, arch, stem_channels, lr=0.1, num_classes=10):\n",
        "        super().__init__()\n",
        "        self.save_hyperparameters()\n",
        "        self.net = nn.Sequential(self.stem(stem_channels))\n",
        "        for i, s in enumerate(arch):\n",
        "            self.net.add_module(f'stage{i+1}', self.stage(*s))\n",
        "        self.net.add_module('head', nn.Sequential(\n",
        "            nn.AdaptiveAvgPool2d((1, 1)), nn.Flatten(),\n",
        "            nn.LazyLinear(num_classes)))\n",
        "        self.net.apply(d2l.init_cnn)\n",
        "\n",
        "class DeResNeXt(DeAnyNet):\n",
        "    def __init__(self, lr=0.1, num_classes=10):\n",
        "        stem_channels, groups, bot_mul = 32, 16, 1\n",
        "        depths, channels = (5, 6), (32, 80)\n",
        "        super().__init__(\n",
        "            ((depths[0], channels[0]),\n",
        "             (depths[1], channels[1])),\n",
        "            stem_channels, lr, num_classes)"
      ]
    },
    {
      "cell_type": "code",
      "execution_count": null,
      "metadata": {
        "id": "6q_rfYp-opqq"
      },
      "outputs": [],
      "source": [
        "model = DeResNeXt(lr=0.05)\n",
        "trainer = d2l.Trainer(max_epochs=10, num_gpus=1)\n",
        "trainer.fit(model, data)"
      ]
    },
    {
      "cell_type": "markdown",
      "metadata": {
        "id": "TfE6FA5nsB0R"
      },
      "source": [
        "**3. Implement multiple instances of a “VioNet” family by violating the design principles of RegNetX. How do they perform? Which of $(d_i, c_i, g_i, b_i)$ is the most important factor?**"
      ]
    },
    {
      "cell_type": "code",
      "execution_count": null,
      "metadata": {
        "id": "cuzwky2voxqh"
      },
      "outputs": [],
      "source": [
        "class VioNet(AnyNet):\n",
        "    def __init__(self, lr=0.1, num_classes=10, depths=(4, 6), channels=(32, 80),\n",
        "                 stem_channels=32, groups=(16, 16), bot_mul=(1, 1)):\n",
        "        super().__init__(\n",
        "            [(depths[i], channels[i], groups[i], bot_mul[i]) for i in range(len(depths))],\n",
        "            stem_channels, lr, num_classes)"
      ]
    },
    {
      "cell_type": "code",
      "execution_count": null,
      "metadata": {
        "id": "BrSqTeVzozpr"
      },
      "outputs": [],
      "source": [
        "VioNet_d = VioNet(depths=(6, 4))\n",
        "trainer = d2l.Trainer(max_epochs=10, num_gpus=1)\n",
        "trainer.fit(VioNet_d, data)"
      ]
    },
    {
      "cell_type": "code",
      "execution_count": null,
      "metadata": {
        "id": "C4C5wVp-o1Hn"
      },
      "outputs": [],
      "source": [
        "VioNet_c = VioNet(channels=(80, 32))\n",
        "trainer = d2l.Trainer(max_epochs=10, num_gpus=1)\n",
        "trainer.fit(VioNet_c, data)"
      ]
    },
    {
      "cell_type": "code",
      "execution_count": null,
      "metadata": {
        "id": "20CZAkwfo3KV"
      },
      "outputs": [],
      "source": [
        "VioNet_g = VioNet(groups=(16, 32))\n",
        "trainer = d2l.Trainer(max_epochs=10, num_gpus=1)\n",
        "trainer.fit(VioNet_g, data)"
      ]
    },
    {
      "cell_type": "code",
      "execution_count": null,
      "metadata": {
        "id": "_gkRSkNvo5Fv"
      },
      "outputs": [],
      "source": [
        "VioNet_b = VioNet(bot_mul=(1, 2))\n",
        "trainer = d2l.Trainer(max_epochs=10, num_gpus=1)\n",
        "trainer.fit(VioNet_b, data)"
      ]
    },
    {
      "cell_type": "markdown",
      "metadata": {
        "id": "XH9pGP8TsZPn"
      },
      "source": [
        "**4. Your goal is to design the “perfect” MLP. Can you use the design principles introduced above to find good architectures? Is it possible to extrapolate from small to large networks?**\n",
        "  * Depth and Width\n",
        "    \n",
        "    Desain dengan jaringan lebih dalam dan jumlah lapisan lebih banyak dapat menangkap pola yang lebih kompleks. Keseimbangan antara depth dan width tetap harus diperhatikan untuk menghindari overfitting.\n",
        "\n",
        "  * Normalisasi dan Regularisasi:\n",
        "    \n",
        "    Penggunaan batch normalization atau dropout dapat mencegah overfitting, menjaga stabilitas pelatihan, dan memungkinkan jaringan bekerja dengan baik pada jaringan yang lebih besar.\n",
        "\n",
        "  * Activation Functions\n",
        "  \n",
        "    Pemilihan fungsi aktivasi yang tepat seperti ReLU dapat menghindari masalah vanishing gradient, terutama pada jaringan yang lebih dalam.\n",
        "\n",
        "  * Optimizers\n",
        "  \n",
        "    Dengan menggunakan optimizers yang efektif dapat mencapai hasil optimal dengan waktu pelatihan lebih singkat. Teknik seperti learning rate scheduling juga membantu.\n",
        "\n",
        "  * Ekstrapolasi dari Jaringan Kecil ke Jaringan Besar\n",
        "  \n",
        "    Pada beberapa kasus, desain yang bekerja pada jaringan lebih kecil dapat diekstrapolasi ke jaringan lebih besar dengan tantangan tambahan, seperti overfitting, peningkatan kompleksitas komputasi, dan memori. Maka dari itu, perlu menyesuaikan hyperparameters seperti ukuran batch, learning rate, dan regularisasi."
      ]
    }
  ],
  "metadata": {
    "colab": {
      "provenance": [],
      "authorship_tag": "ABX9TyO+0hPwvxZliGPU8kHxjDpj",
      "include_colab_link": true
    },
    "kernelspec": {
      "display_name": "Python 3",
      "name": "python3"
    },
    "language_info": {
      "name": "python"
    }
  },
  "nbformat": 4,
  "nbformat_minor": 0
}